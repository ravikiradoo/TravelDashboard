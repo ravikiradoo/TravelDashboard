{
 "cells": [
  {
   "cell_type": "code",
   "execution_count": 0,
   "metadata": {
    "application/vnd.databricks.v1+cell": {
     "cellMetadata": {
      "byteLimit": 2048000,
      "rowLimit": 10000
     },
     "inputWidgets": {},
     "nuid": "25d15190-90a1-475e-a8ca-9618dd449f38",
     "showTitle": false,
     "title": ""
    }
   },
   "outputs": [],
   "source": [
    "import requests\n",
    "import json\n",
    "from pyspark.sql import *\n",
    "headers = {\n",
    "        \"x-rapidapi-host\": \"skyscanner80.p.rapidapi.com\",\n",
    "        \"x-rapidapi-key\": \"da5e4cb143mshb0961ab3efe73aep1f7bb7jsnd5bbdf38c6dc\" \n",
    "}\n",
    "url='https://skyscanner80.p.rapidapi.com/api/v1/get-config'\n",
    "response = requests.get(url, headers=headers)\n",
    "# Check if the request was successful\n",
    "if response.status_code == 200:\n",
    "# Parse JSON response\n",
    "   countrydata=response.json()['data']\n",
    "   crdd = spark.sparkContext.parallelize(countrydata)\n",
    "   countrydf= spark.createDataFrame(crdd)\n",
    "else:\n",
    "    print(f\"Error: {response.status_code}, {response.text}\")\n"
   ]
  },
  {
   "cell_type": "code",
   "execution_count": 0,
   "metadata": {
    "application/vnd.databricks.v1+cell": {
     "cellMetadata": {
      "byteLimit": 2048000,
      "rowLimit": 10000
     },
     "inputWidgets": {},
     "nuid": "d5df2061-8319-4e89-9bbe-68754ea91a79",
     "showTitle": false,
     "title": ""
    }
   },
   "outputs": [],
   "source": [
    "countrydf.write.mode('Overwrite').saveAsTable('Country')"
   ]
  },
  {
   "cell_type": "code",
   "execution_count": 0,
   "metadata": {
    "application/vnd.databricks.v1+cell": {
     "cellMetadata": {
      "byteLimit": 2048000,
      "implicitDf": true,
      "rowLimit": 10000
     },
     "inputWidgets": {},
     "nuid": "852d17a3-dafa-4ebf-976f-d9c9f93dcb1e",
     "showTitle": false,
     "title": ""
    }
   },
   "outputs": [
    {
     "output_type": "display_data",
     "data": {
      "text/html": [
       "<style scoped>\n",
       "  .table-result-container {\n",
       "    max-height: 300px;\n",
       "    overflow: auto;\n",
       "  }\n",
       "  table, th, td {\n",
       "    border: 1px solid black;\n",
       "    border-collapse: collapse;\n",
       "  }\n",
       "  th, td {\n",
       "    padding: 5px;\n",
       "  }\n",
       "  th {\n",
       "    text-align: left;\n",
       "  }\n",
       "</style><div class='table-result-container'><table class='table-result'><thead style='background-color: white'><tr><th>country</th><th>currency</th><th>currencySymbol</th><th>currencyTitle</th><th>locale</th><th>market</th><th>site</th></tr></thead><tbody><tr><td>Togo</td><td>XOF</td><td>F</td><td>West African CFA Franc</td><td>en-GB</td><td>TG</td><td>www.skyscanner.net</td></tr><tr><td>Thailand</td><td>THB</td><td>฿</td><td>Thai Baht</td><td>th-TH</td><td>TH</td><td>www.skyscanner.co.th</td></tr><tr><td>Tajikistan</td><td>TJS</td><td>TJS</td><td>Tajikistani Somoni</td><td>en-GB</td><td>TJ</td><td>www.skyscanner.net</td></tr><tr><td>East Timor</td><td>USD</td><td>$</td><td>US Dollar</td><td>en-GB</td><td>TL</td><td>www.skyscanner.net</td></tr><tr><td>Turkmenistan</td><td>TMT</td><td>m</td><td>Turkmenistani Manat</td><td>en-GB</td><td>TM</td><td>www.skyscanner.net</td></tr><tr><td>Tunisia</td><td>EUR</td><td>€</td><td>Euro</td><td>fr-FR</td><td>TN</td><td>www.skyscanner.fr</td></tr><tr><td>Tonga</td><td>TOP</td><td>T$</td><td>Tongan Paʻanga</td><td>en-GB</td><td>TO</td><td>www.skyscanner.net</td></tr><tr><td>Turkey</td><td>TRY</td><td>TL</td><td>Turkish Lira</td><td>tr-TR</td><td>TR</td><td>www.skyscanner.com.tr</td></tr><tr><td>Trinidad and Tobago</td><td>TTD</td><td>TT$</td><td>Trinidad & Tobago Dollar</td><td>en-GB</td><td>TT</td><td>www.skyscanner.net</td></tr><tr><td>Tuvalu</td><td>AUD</td><td>$</td><td>Australian Dollar</td><td>en-GB</td><td>TV</td><td>www.skyscanner.net</td></tr><tr><td>Taiwan</td><td>TWD</td><td>NT$</td><td>New Taiwan Dollar</td><td>zh-TW</td><td>TW</td><td>www.skyscanner.com.tw</td></tr><tr><td>Tanzania</td><td>TZS</td><td>TSh</td><td>Tanzanian Shilling</td><td>en-GB</td><td>TZ</td><td>www.skyscanner.net</td></tr><tr><td>Ukraine</td><td>UAH</td><td>грн.</td><td>Ukrainian Hryvnia</td><td>uk-UA</td><td>UA</td><td>www.skyscanner.com.ua</td></tr><tr><td>Uganda</td><td>UGX</td><td>USh</td><td>Ugandan Shilling</td><td>en-GB</td><td>UG</td><td>www.skyscanner.net</td></tr><tr><td>United Kingdom</td><td>GBP</td><td>£</td><td>British Pound</td><td>en-GB</td><td>UK</td><td>www.skyscanner.net</td></tr><tr><td>United States</td><td>USD</td><td>$</td><td>US Dollar</td><td>en-US</td><td>US</td><td>www.skyscanner.com</td></tr><tr><td>Uruguay</td><td>USD</td><td>$</td><td>US Dollar</td><td>es-MX</td><td>UY</td><td>www.espanol.skyscanner.com</td></tr><tr><td>Uzbekistan</td><td>UZS</td><td>сўм</td><td>Uzbekistani Som</td><td>en-GB</td><td>UZ</td><td>www.skyscanner.net</td></tr><tr><td>Vatican City</td><td>EUR</td><td>€</td><td>Euro</td><td>it-IT</td><td>VA</td><td>www.skyscanner.net</td></tr><tr><td>Saint Vincent and the Grenadines</td><td>XCD</td><td>$</td><td>East Caribbean Dollar</td><td>en-GB</td><td>VC</td><td>www.skyscanner.net</td></tr><tr><td>Venezuela</td><td>USD</td><td>$</td><td>US Dollar</td><td>es-MX</td><td>VE</td><td>www.espanol.skyscanner.com</td></tr><tr><td>British Virgin Islands</td><td>USD</td><td>$</td><td>US Dollar</td><td>en-GB</td><td>VG</td><td>www.skyscanner.net</td></tr><tr><td>US Virgin Islands</td><td>USD</td><td>$</td><td>US Dollar</td><td>en-GB</td><td>VI</td><td>www.skyscanner.net</td></tr><tr><td>Vietnam</td><td>VND</td><td>₫</td><td>Vietnamese Dong</td><td>vi-VN</td><td>VN</td><td>www.skyscanner.com.vn</td></tr><tr><td>Vanuatu</td><td>VUV</td><td>VT</td><td>Vanuatu Vatu</td><td>en-GB</td><td>VU</td><td>www.skyscanner.net</td></tr><tr><td>Wallis and Futuna Islands</td><td>XPF</td><td>F</td><td>CFP Franc</td><td>en-GB</td><td>WF</td><td>www.skyscanner.net</td></tr><tr><td>Samoa</td><td>WST</td><td>WS$</td><td>Samoan Tala</td><td>en-GB</td><td>WS</td><td>www.skyscanner.net</td></tr><tr><td>Yemen</td><td>YER</td><td>ر.ي.‏</td><td>Yemeni Rial</td><td>en-GB</td><td>YE</td><td>www.skyscanner.net</td></tr><tr><td>Mayotte</td><td>EUR</td><td>€</td><td>Euro</td><td>en-GB</td><td>YT</td><td>www.skyscanner.net</td></tr><tr><td>South Africa</td><td>ZAR</td><td>R</td><td>South African Rand</td><td>en-GB</td><td>ZA</td><td>www.skyscanner.net</td></tr><tr><td>Zambia</td><td>ZMW</td><td>ZK</td><td>Zambian Kwacha</td><td>en-GB</td><td>ZM</td><td>www.skyscanner.net</td></tr><tr><td>Zimbabwe</td><td>USD</td><td>$</td><td>US Dollar</td><td>en-GB</td><td>ZW</td><td>www.skyscanner.net</td></tr><tr><td>Palau</td><td>USD</td><td>$</td><td>US Dollar</td><td>en-GB</td><td>PW</td><td>www.skyscanner.net</td></tr><tr><td>Paraguay</td><td>PYG</td><td>Gs</td><td>Paraguayan Guarani</td><td>es-MX</td><td>PY</td><td>www.espanol.skyscanner.com</td></tr><tr><td>Qatar</td><td>QAR</td><td>ر.ق.‏</td><td>Qatari Rial</td><td>en-GB</td><td>QA</td><td>www.skyscanner.net</td></tr><tr><td>Reunion</td><td>EUR</td><td>€</td><td>Euro</td><td>fr-FR</td><td>RE</td><td>www.skyscanner.fr</td></tr><tr><td>Romania</td><td>RON</td><td>lei</td><td>Romanian Leu</td><td>ro-RO</td><td>RO</td><td>www.skyscanner.ro</td></tr><tr><td>Serbia</td><td>RSD</td><td>Дин.</td><td>Serbian Dinar</td><td>en-GB</td><td>RS</td><td>www.skyscanner.net</td></tr><tr><td>Russia</td><td>RUB</td><td>₽</td><td>Russian Ruble</td><td>ru-RU</td><td>RU</td><td>www.skyscanner.ru</td></tr><tr><td>Rwanda</td><td>RWF</td><td>RWF</td><td>Rwandan Franc</td><td>en-GB</td><td>RW</td><td>www.skyscanner.net</td></tr><tr><td>Saudi Arabia</td><td>SAR</td><td>SAR</td><td>Saudi Riyal</td><td>ar-AE</td><td>SA</td><td>www.skyscanner.com.sa</td></tr><tr><td>Solomon Islands</td><td>SBD</td><td>$</td><td>Solomon Islands Dollar</td><td>en-GB</td><td>SB</td><td>www.skyscanner.net</td></tr><tr><td>Seychelles</td><td>SCR</td><td>Rs</td><td>Seychellois Rupee</td><td>en-GB</td><td>SC</td><td>www.skyscanner.net</td></tr><tr><td>Sudan</td><td>SDG</td><td>ج.س.‏</td><td>Sudanese Pound</td><td>en-GB</td><td>SD</td><td>www.skyscanner.net</td></tr><tr><td>Sweden</td><td>SEK</td><td>SEK</td><td>Swedish Krona</td><td>sv-SE</td><td>SE</td><td>www.skyscanner.se</td></tr><tr><td>Singapore</td><td>SGD</td><td>$</td><td>Singapore Dollar</td><td>en-GB</td><td>SG</td><td>www.skyscanner.com.sg</td></tr><tr><td>St. Helena</td><td>SHP</td><td>£</td><td>St. Helena Pound</td><td>en-GB</td><td>SH</td><td>www.skyscanner.net</td></tr><tr><td>Slovenia</td><td>EUR</td><td>€</td><td>Euro</td><td>en-GB</td><td>SI</td><td>www.skyscanner.net</td></tr><tr><td>Slovakia</td><td>EUR</td><td>€</td><td>Euro</td><td>en-GB</td><td>SK</td><td>www.skyscanner.net</td></tr><tr><td>Sierra Leone</td><td>SLL</td><td>Le</td><td>Sierra Leonean Leone</td><td>en-GB</td><td>SL</td><td>www.skyscanner.net</td></tr><tr><td>Senegal</td><td>XOF</td><td>F</td><td>West African CFA Franc</td><td>fr-FR</td><td>SN</td><td>www.skyscanner.fr</td></tr><tr><td>Somalia</td><td>SOS</td><td>S</td><td>Somali Shilling</td><td>en-GB</td><td>SO</td><td>www.skyscanner.net</td></tr><tr><td>Suriname</td><td>SRD</td><td>$</td><td>Surinamese Dollar</td><td>en-GB</td><td>SR</td><td>www.skyscanner.net</td></tr><tr><td>South Sudan</td><td>SDG</td><td>ج.س.‏</td><td>Sudanese Pound</td><td>en-GB</td><td>SS</td><td>www.skyscanner.net</td></tr><tr><td>Sao Tome and Principe</td><td>STD</td><td>Db</td><td>São Tomé & Príncipe Dobra</td><td>en-GB</td><td>ST</td><td>www.skyscanner.net</td></tr><tr><td>El Salvador</td><td>USD</td><td>$</td><td>US Dollar</td><td>es-MX</td><td>SV</td><td>www.espanol.skyscanner.com</td></tr><tr><td>St Maarten</td><td>ANG</td><td>NAf.</td><td>Netherlands Antillean Guilder</td><td>en-GB</td><td>SX</td><td>www.skyscanner.net</td></tr><tr><td>Syria</td><td>SYP</td><td>ل.س.‏</td><td>Syrian Pound</td><td>en-GB</td><td>SY</td><td>www.skyscanner.net</td></tr><tr><td>Eswatini</td><td>SZL</td><td>E</td><td>Swazi Lilangeni</td><td>en-GB</td><td>SZ</td><td>www.skyscanner.net</td></tr><tr><td>Turks and Caicos Islands</td><td>USD</td><td>$</td><td>US Dollar</td><td>en-GB</td><td>TC</td><td>www.skyscanner.net</td></tr><tr><td>Chad</td><td>XAF</td><td>F</td><td>Central African CFA Franc</td><td>en-GB</td><td>TD</td><td>www.skyscanner.net</td></tr><tr><td>Andorra</td><td>EUR</td><td>€</td><td>Euro</td><td>es-ES</td><td>AD</td><td>www.skyscanner.net</td></tr><tr><td>United Arab Emirates</td><td>AED</td><td>AED</td><td>United Arab Emirates Dirham</td><td>en-US</td><td>AE</td><td>www.skyscanner.ae</td></tr><tr><td>Afghanistan</td><td>AFN</td><td>AFN</td><td>Afghan Afghani</td><td>en-GB</td><td>AF</td><td>www.skyscanner.net</td></tr><tr><td>Antigua and Barbuda</td><td>XCD</td><td>$</td><td>East Caribbean Dollar</td><td>en-GB</td><td>AG</td><td>www.skyscanner.net</td></tr><tr><td>Anguilla</td><td>XCD</td><td>$</td><td>East Caribbean Dollar</td><td>en-GB</td><td>AI</td><td>www.skyscanner.net</td></tr><tr><td>Albania</td><td>ALL</td><td>Lek</td><td>Albanian Lek</td><td>en-GB</td><td>AL</td><td>www.skyscanner.net</td></tr><tr><td>Armenia</td><td>AMD</td><td>դր.</td><td>Armenian Dram</td><td>ru-RU</td><td>AM</td><td>www.skyscanner.net</td></tr><tr><td>Angola</td><td>AOA</td><td>Kz</td><td>Angolan Kwanza</td><td>pt-PT</td><td>AO</td><td>www.skyscanner.net</td></tr><tr><td>Antarctica</td><td>USD</td><td>$</td><td>US Dollar</td><td>en-GB</td><td>AQ</td><td>www.skyscanner.net</td></tr><tr><td>Argentina</td><td>ARS</td><td>$</td><td>Argentine Peso</td><td>es-MX</td><td>AR</td><td>www.espanol.skyscanner.com</td></tr><tr><td>American Samoa</td><td>USD</td><td>$</td><td>US Dollar</td><td>en-GB</td><td>AS</td><td>www.skyscanner.net</td></tr><tr><td>Austria</td><td>EUR</td><td>€</td><td>Euro</td><td>de-DE</td><td>AT</td><td>www.skyscanner.at</td></tr><tr><td>Australia</td><td>AUD</td><td>$</td><td>Australian Dollar</td><td>en-GB</td><td>AU</td><td>www.skyscanner.com.au</td></tr><tr><td>Aruba</td><td>AWG</td><td>Afl.</td><td>Aruban Florin</td><td>en-GB</td><td>AW</td><td>www.skyscanner.net</td></tr><tr><td>Azerbaijan</td><td>AZN</td><td>₼</td><td>Azerbaijani Manat</td><td>en-GB</td><td>AZ</td><td>www.skyscanner.net</td></tr><tr><td>Bosnia and Herzegovina</td><td>BAM</td><td>КМ</td><td>Bosnia-Herzegovina Convertible Mark</td><td>en-GB</td><td>BA</td><td>www.skyscanner.net</td></tr><tr><td>Barbados</td><td>BBD</td><td>$</td><td>Barbadian Dollar</td><td>en-GB</td><td>BB</td><td>www.skyscanner.net</td></tr><tr><td>Bangladesh</td><td>BDT</td><td>BDT</td><td>Bangladeshi Taka</td><td>en-GB</td><td>BD</td><td>www.skyscanner.net</td></tr><tr><td>Belgium</td><td>EUR</td><td>€</td><td>Euro</td><td>nl-NL</td><td>BE</td><td>www.skyscanner.net</td></tr><tr><td>Burkina Faso</td><td>XOF</td><td>F</td><td>West African CFA Franc</td><td>en-GB</td><td>BF</td><td>www.skyscanner.net</td></tr><tr><td>Bulgaria</td><td>BGN</td><td>лв.</td><td>Bulgarian Lev</td><td>bg-BG</td><td>BG</td><td>www.skyscanner.net</td></tr><tr><td>Bahrain</td><td>BHD</td><td>د.ب.‏</td><td>Bahraini Dinar</td><td>en-GB</td><td>BH</td><td>www.skyscanner.net</td></tr><tr><td>Burundi</td><td>BIF</td><td>FBu</td><td>Burundian Franc</td><td>en-GB</td><td>BI</td><td>www.skyscanner.net</td></tr><tr><td>Benin</td><td>XOF</td><td>F</td><td>West African CFA Franc</td><td>en-GB</td><td>BJ</td><td>www.skyscanner.net</td></tr><tr><td>Saint Barthelemy</td><td>EUR</td><td>€</td><td>Euro</td><td>en-GB</td><td>BL</td><td>www.skyscanner.net</td></tr><tr><td>Bermuda</td><td>BMD</td><td>$</td><td>Bermudan Dollar</td><td>en-GB</td><td>BM</td><td>www.skyscanner.com</td></tr><tr><td>Brunei</td><td>BND</td><td>$</td><td>Brunei Dollar</td><td>en-GB</td><td>BN</td><td>www.skyscanner.net</td></tr><tr><td>Bolivia</td><td>BOB</td><td>Bs</td><td>Bolivian Boliviano</td><td>es-MX</td><td>BO</td><td>www.espanol.skyscanner.com</td></tr><tr><td>Caribbean Netherlands</td><td>USD</td><td>$</td><td>US Dollar</td><td>en-GB</td><td>BQ</td><td>www.skyscanner.net</td></tr><tr><td>Mauritius</td><td>MUR</td><td>Rs</td><td>Mauritian Rupee</td><td>en-GB</td><td>MU</td><td>www.skyscanner.net</td></tr><tr><td>Maldives</td><td>MVR</td><td>MVR</td><td>Maldivian Rufiyaa</td><td>en-GB</td><td>MV</td><td>www.skyscanner.net</td></tr><tr><td>Malawi</td><td>MWK</td><td>MK</td><td>Malawian Kwacha</td><td>en-GB</td><td>MW</td><td>www.skyscanner.net</td></tr><tr><td>Mexico</td><td>MXN</td><td>$</td><td>Mexican Peso</td><td>es-MX</td><td>MX</td><td>www.skyscanner.com.mx</td></tr><tr><td>Malaysia</td><td>MYR</td><td>RM</td><td>Malaysian Ringgit</td><td>en-GB</td><td>MY</td><td>www.skyscanner.com.my</td></tr><tr><td>Mozambique</td><td>MZN</td><td>MT</td><td>Mozambican Metical</td><td>en-GB</td><td>MZ</td><td>www.skyscanner.net</td></tr><tr><td>Namibia</td><td>NAD</td><td>$</td><td>Namibian Dollar</td><td>en-GB</td><td>NA</td><td>www.skyscanner.net</td></tr><tr><td>New Caledonia</td><td>XPF</td><td>F</td><td>CFP Franc</td><td>en-GB</td><td>NC</td><td>www.skyscanner.net</td></tr><tr><td>Niger</td><td>XOF</td><td>F</td><td>West African CFA Franc</td><td>en-GB</td><td>NE</td><td>www.skyscanner.net</td></tr><tr><td>Nigeria</td><td>NGN</td><td>₦</td><td>Nigerian Naira</td><td>en-GB</td><td>NG</td><td>www.skyscanner.net</td></tr><tr><td>Nicaragua</td><td>NIO</td><td>C$</td><td>Nicaraguan Córdoba</td><td>es-MX</td><td>NI</td><td>www.espanol.skyscanner.com</td></tr><tr><td>Netherlands</td><td>EUR</td><td>€</td><td>Euro</td><td>nl-NL</td><td>NL</td><td>www.skyscanner.nl</td></tr><tr><td>Norway</td><td>NOK</td><td>kr</td><td>Norwegian Krone</td><td>nb-NO</td><td>NO</td><td>www.skyscanner.no</td></tr><tr><td>Nepal</td><td>NPR</td><td>रु</td><td>Nepalese Rupee</td><td>en-GB</td><td>NP</td><td>www.skyscanner.net</td></tr><tr><td>Nauru</td><td>AUD</td><td>$</td><td>Australian Dollar</td><td>en-GB</td><td>NR</td><td>www.skyscanner.net</td></tr><tr><td>Niue</td><td>NZD</td><td>$</td><td>New Zealand Dollar</td><td>en-GB</td><td>NU</td><td>www.skyscanner.net</td></tr><tr><td>New Zealand</td><td>NZD</td><td>$</td><td>New Zealand Dollar</td><td>en-GB</td><td>NZ</td><td>www.skyscanner.co.nz</td></tr><tr><td>Oman</td><td>OMR</td><td>ر.ع.‏</td><td>Omani Rial</td><td>en-GB</td><td>OM</td><td>www.skyscanner.net</td></tr><tr><td>Panama</td><td>PAB</td><td>B/.</td><td>Panamanian Balboa</td><td>es-MX</td><td>PA</td><td>www.espanol.skyscanner.com</td></tr><tr><td>Peru</td><td>PEN</td><td>S/.</td><td>2</td><td>es-MX</td><td>PE</td><td>www.espanol.skyscanner.com</td></tr><tr><td>French Polynesia</td><td>XPF</td><td>F</td><td>CFP Franc</td><td>fr-FR</td><td>PF</td><td>www.skyscanner.fr</td></tr><tr><td>Papua New Guinea</td><td>PGK</td><td>K</td><td>Papua New Guinean Kina</td><td>en-GB</td><td>PG</td><td>www.skyscanner.net</td></tr><tr><td>Philippines</td><td>PHP</td><td>P</td><td>Philippine Piso</td><td>en-GB</td><td>PH</td><td>www.skyscanner.com.ph</td></tr><tr><td>Pakistan</td><td>PKR</td><td>Rs</td><td>Pakistani Rupee</td><td>en-GB</td><td>PK</td><td>www.skyscanner.net</td></tr><tr><td>Poland</td><td>PLN</td><td>zł</td><td>Polish Zloty</td><td>pl-PL</td><td>PL</td><td>www.skyscanner.pl</td></tr><tr><td>St. Pierre and Miquelon</td><td>EUR</td><td>€</td><td>Euro</td><td>en-GB</td><td>PM</td><td>www.skyscanner.net</td></tr><tr><td>Puerto Rico</td><td>USD</td><td>$</td><td>US Dollar</td><td>es-MX</td><td>PR</td><td>www.espanol.skyscanner.com</td></tr><tr><td>Palestinian Territories</td><td>USD</td><td>$</td><td>US Dollar</td><td>en-US</td><td>PS</td><td>www.skyscanner.net</td></tr><tr><td>Portugal</td><td>EUR</td><td>€</td><td>Euro</td><td>pt-PT</td><td>PT</td><td>www.skyscanner.pt</td></tr><tr><td>Brazil</td><td>BRL</td><td>R$</td><td>Brazilian Real</td><td>pt-BR</td><td>BR</td><td>www.skyscanner.com.br</td></tr><tr><td>Bahamas</td><td>BSD</td><td>$</td><td>Bahamian Dollar</td><td>en-GB</td><td>BS</td><td>www.skyscanner.net</td></tr><tr><td>Bhutan</td><td>BTN</td><td>Nu.</td><td>Bhutanese Ngultrum</td><td>en-GB</td><td>BT</td><td>www.skyscanner.net</td></tr><tr><td>Botswana</td><td>BWP</td><td>P</td><td>Botswanan Pula</td><td>en-GB</td><td>BW</td><td>www.skyscanner.net</td></tr><tr><td>Belarus</td><td>BYN</td><td>Br</td><td>Belarusian Ruble</td><td>ru-RU</td><td>BY</td><td>www.skyscanner.net</td></tr><tr><td>Belize</td><td>BZD</td><td>BZ$</td><td>Belize Dollar</td><td>en-GB</td><td>BZ</td><td>www.skyscanner.com</td></tr><tr><td>Canada</td><td>CAD</td><td>C$</td><td>Canadian Dollar</td><td>en-US</td><td>CA</td><td>www.skyscanner.ca</td></tr><tr><td>Cocos (Keeling) Islands</td><td>AUD</td><td>$</td><td>Australian Dollar</td><td>en-GB</td><td>CC</td><td>www.skyscanner.net</td></tr><tr><td>DR Congo</td><td>CDF</td><td>FC</td><td>Congolese Franc</td><td>en-GB</td><td>CD</td><td>www.skyscanner.net</td></tr><tr><td>Central African Republic</td><td>XAF</td><td>F</td><td>Central African CFA Franc</td><td>en-GB</td><td>CF</td><td>www.skyscanner.net</td></tr><tr><td>Congo</td><td>XAF</td><td>F</td><td>Central African CFA Franc</td><td>en-GB</td><td>CG</td><td>www.skyscanner.net</td></tr><tr><td>Switzerland</td><td>CHF</td><td>CHF</td><td>2</td><td>de-DE</td><td>CH</td><td>www.skyscanner.ch</td></tr><tr><td>Ivory Coast</td><td>XOF</td><td>F</td><td>West African CFA Franc</td><td>fr-FR</td><td>CI</td><td>www.skyscanner.fr</td></tr><tr><td>Cook Islands</td><td>NZD</td><td>$</td><td>New Zealand Dollar</td><td>en-GB</td><td>CK</td><td>www.skyscanner.net</td></tr><tr><td>Chile</td><td>CLP</td><td>$</td><td>Chilean Peso</td><td>es-MX</td><td>CL</td><td>www.espanol.skyscanner.com</td></tr><tr><td>Cameroon</td><td>XAF</td><td>F</td><td>Central African CFA Franc</td><td>en-GB</td><td>CM</td><td>www.skyscanner.net</td></tr><tr><td>China</td><td>CNY</td><td>¥</td><td>Chinese Yuan</td><td>zh-CN</td><td>CN</td><td>www.tianxun.com</td></tr><tr><td>Colombia</td><td>COP</td><td>$</td><td>Colombian Peso</td><td>es-MX</td><td>CO</td><td>www.espanol.skyscanner.com</td></tr><tr><td>Costa Rica</td><td>CRC</td><td>₡</td><td>Costa Rican Colón</td><td>es-MX</td><td>CR</td><td>www.espanol.skyscanner.com</td></tr><tr><td>Cuba</td><td>CUP</td><td>$MN</td><td>Cuban Peso</td><td>es-MX</td><td>CU</td><td>www.espanol.skyscanner.com</td></tr><tr><td>Cape Verde</td><td>CVE</td><td>$</td><td>Cape Verdean Escudo</td><td>en-GB</td><td>CV</td><td>www.skyscanner.net</td></tr><tr><td>Curacao</td><td>ANG</td><td>NAf.</td><td>Netherlands Antillean Guilder</td><td>en-GB</td><td>CW</td><td>www.skyscanner.net</td></tr><tr><td>Christmas Island</td><td>AUD</td><td>$</td><td>Australian Dollar</td><td>en-GB</td><td>CX</td><td>www.skyscanner.net</td></tr><tr><td>Cyprus</td><td>EUR</td><td>€</td><td>Euro</td><td>el-GR</td><td>CY</td><td>www.skyscanner.net</td></tr><tr><td>Czech Republic</td><td>CZK</td><td>Kč</td><td>Czech Koruna</td><td>cs-CZ</td><td>CZ</td><td>www.skyscanner.cz</td></tr><tr><td>Germany</td><td>EUR</td><td>€</td><td>Euro</td><td>de-DE</td><td>DE</td><td>www.skyscanner.de</td></tr><tr><td>Djibouti</td><td>DJF</td><td>Fdj</td><td>Djiboutian Franc</td><td>en-GB</td><td>DJ</td><td>www.skyscanner.net</td></tr><tr><td>Denmark</td><td>DKK</td><td>kr.</td><td>Danish Krone</td><td>da-DK</td><td>DK</td><td>www.skyscanner.dk</td></tr><tr><td>Dominica</td><td>XCD</td><td>$</td><td>East Caribbean Dollar</td><td>en-GB</td><td>DM</td><td>www.skyscanner.net</td></tr><tr><td>Guam</td><td>USD</td><td>$</td><td>US Dollar</td><td>en-GB</td><td>GU</td><td>www.skyscanner.net</td></tr><tr><td>Guinea-Bissau</td><td>GNF</td><td>FG</td><td>Guinean Franc</td><td>en-GB</td><td>GW</td><td>www.skyscanner.net</td></tr><tr><td>Guyana</td><td>GYD</td><td>$</td><td>Guyanaese Dollar</td><td>en-GB</td><td>GY</td><td>www.skyscanner.com</td></tr><tr><td>Hong Kong</td><td>HKD</td><td>HK$</td><td>Hong Kong Dollar</td><td>zh-TW</td><td>HK</td><td>www.skyscanner.com.hk</td></tr><tr><td>Honduras</td><td>HNL</td><td>L.</td><td>Honduran Lempira</td><td>es-MX</td><td>HN</td><td>www.espanol.skyscanner.com</td></tr><tr><td>Croatia</td><td>HRK</td><td>kn</td><td>Croatian Kuna</td><td>en-GB</td><td>HR</td><td>www.skyscanner.net</td></tr><tr><td>Haiti</td><td>HTG</td><td>G</td><td>Haitian Gourde</td><td>en-GB</td><td>HT</td><td>www.skyscanner.net</td></tr><tr><td>Hungary</td><td>HUF</td><td>Ft</td><td>Hungarian Forint</td><td>hu-HU</td><td>HU</td><td>www.skyscanner.hu</td></tr><tr><td>Indonesia</td><td>IDR</td><td>Rp</td><td>Indonesian Rupiah</td><td>id-ID</td><td>ID</td><td>www.skyscanner.co.id</td></tr><tr><td>Ireland</td><td>EUR</td><td>€</td><td>Euro</td><td>en-GB</td><td>IE</td><td>www.skyscanner.ie</td></tr><tr><td>Israel</td><td>USD</td><td>$</td><td>US Dollar</td><td>en-US</td><td>IL</td><td>www.skyscanner.co.il</td></tr><tr><td>India</td><td>INR</td><td>₹</td><td>Indian Rupee</td><td>en-GB</td><td>IN</td><td>www.skyscanner.co.in</td></tr><tr><td>Iraq</td><td>IQD</td><td>د.ع.‏</td><td>Iraqi Dinar</td><td>en-GB</td><td>IQ</td><td>www.skyscanner.net</td></tr><tr><td>Iran</td><td>IRR</td><td>ريال</td><td>Iranian Rial</td><td>en-GB</td><td>IR</td><td>www.skyscanner.net</td></tr><tr><td>Iceland</td><td>ISK</td><td>kr.</td><td>Icelandic Króna</td><td>en-GB</td><td>IS</td><td>www.skyscanner.net</td></tr><tr><td>Italy</td><td>EUR</td><td>€</td><td>Euro</td><td>it-IT</td><td>IT</td><td>www.skyscanner.it</td></tr><tr><td>Jamaica</td><td>JMD</td><td>J$</td><td>Jamaican Dollar</td><td>en-GB</td><td>JM</td><td>www.skyscanner.net</td></tr><tr><td>Jordan</td><td>JOD</td><td>د.ا.‏</td><td>Jordanian Dinar</td><td>en-GB</td><td>JO</td><td>www.skyscanner.net</td></tr><tr><td>Japan</td><td>JPY</td><td>¥</td><td>Japanese Yen</td><td>ja-JP</td><td>JP</td><td>www.skyscanner.jp</td></tr><tr><td>Kenya</td><td>KES</td><td>S</td><td>Kenyan Shilling</td><td>en-GB</td><td>KE</td><td>www.skyscanner.net</td></tr><tr><td>Kyrgyzstan</td><td>KGS</td><td>сом</td><td>2</td><td>ru-RU</td><td>KG</td><td>www.skyscanner.net</td></tr><tr><td>Cambodia</td><td>KHR</td><td>KHR</td><td>Cambodian Riel</td><td>en-GB</td><td>KH</td><td>www.skyscanner.net</td></tr><tr><td>Kiribati</td><td>AUD</td><td>$</td><td>Australian Dollar</td><td>en-GB</td><td>KI</td><td>www.skyscanner.net</td></tr><tr><td>Comoros</td><td>KMF</td><td>CF</td><td>Comorian Franc</td><td>en-GB</td><td>KM</td><td>www.skyscanner.net</td></tr><tr><td>Saint Kitts and Nevis</td><td>XCD</td><td>$</td><td>East Caribbean Dollar</td><td>en-GB</td><td>KN</td><td>www.skyscanner.net</td></tr><tr><td>Kosovo</td><td>EUR</td><td>€</td><td>Euro</td><td>en-GB</td><td>KO</td><td>www.skyscanner.net</td></tr><tr><td>North Korea</td><td>KPW</td><td>₩</td><td>North Korean Won</td><td>en-GB</td><td>KP</td><td>www.skyscanner.net</td></tr><tr><td>South Korea</td><td>KRW</td><td>₩</td><td>South Korean Won</td><td>ko-KR</td><td>KR</td><td>www.skyscanner.co.kr</td></tr><tr><td>Kuwait</td><td>KWD</td><td>د.ك.‏</td><td>Kuwaiti Dinar</td><td>en-GB</td><td>KW</td><td>www.skyscanner.net</td></tr><tr><td>Dominican Republic</td><td>DOP</td><td>RD$</td><td>Dominican Peso</td><td>es-MX</td><td>DO</td><td>www.espanol.skyscanner.com</td></tr><tr><td>Algeria</td><td>DZD</td><td>د.ج.‏</td><td>Algerian Dinar</td><td>fr-FR</td><td>DZ</td><td>www.skyscanner.net</td></tr><tr><td>Ecuador</td><td>USD</td><td>$</td><td>US Dollar</td><td>es-MX</td><td>EC</td><td>www.espanol.skyscanner.com</td></tr><tr><td>Estonia</td><td>EUR</td><td>€</td><td>Euro</td><td>en-GB</td><td>EE</td><td>www.skyscanner.net</td></tr><tr><td>Egypt</td><td>EGP</td><td>ج.م.‏</td><td>Egyptian Pound</td><td>en-GB</td><td>EG</td><td>www.skyscanner.net</td></tr><tr><td>Eritrea</td><td>ERN</td><td>Nfk</td><td>Eritrean Nakfa</td><td>en-GB</td><td>ER</td><td>www.skyscanner.net</td></tr><tr><td>Spain</td><td>EUR</td><td>€</td><td>Euro</td><td>es-ES</td><td>ES</td><td>www.skyscanner.es</td></tr><tr><td>Ethiopia</td><td>ETB</td><td>Br</td><td>Ethiopian Birr</td><td>en-GB</td><td>ET</td><td>www.skyscanner.net</td></tr><tr><td>Finland</td><td>EUR</td><td>€</td><td>Euro</td><td>fi-FI</td><td>FI</td><td>www.skyscanner.fi</td></tr><tr><td>Fiji</td><td>FJD</td><td>$</td><td>Fijian Dollar</td><td>en-GB</td><td>FJ</td><td>www.skyscanner.net</td></tr><tr><td>Falkland Islands</td><td>GBP</td><td>£</td><td>British Pound</td><td>en-GB</td><td>FK</td><td>www.skyscanner.net</td></tr><tr><td>Micronesia</td><td>USD</td><td>$</td><td>US Dollar</td><td>en-GB</td><td>FM</td><td>www.skyscanner.net</td></tr><tr><td>Faroe Islands</td><td>DKK</td><td>kr.</td><td>Danish Krone</td><td>en-GB</td><td>FO</td><td>www.skyscanner.net</td></tr><tr><td>France</td><td>EUR</td><td>€</td><td>Euro</td><td>fr-FR</td><td>FR</td><td>www.skyscanner.fr</td></tr><tr><td>Gabon</td><td>XAF</td><td>F</td><td>Central African CFA Franc</td><td>en-GB</td><td>GA</td><td>www.skyscanner.net</td></tr><tr><td>Grenada</td><td>XCD</td><td>$</td><td>East Caribbean Dollar</td><td>en-GB</td><td>GD</td><td>www.skyscanner.net</td></tr><tr><td>Georgia</td><td>GEL</td><td>₾</td><td>Georgian Lari</td><td>en-GB</td><td>GE</td><td>www.skyscanner.net</td></tr><tr><td>French Guiana</td><td>EUR</td><td>€</td><td>Euro</td><td>fr-FR</td><td>GF</td><td>www.skyscanner.fr</td></tr><tr><td>Guernsey</td><td>GBP</td><td>£</td><td>British Pound</td><td>en-GB</td><td>GG</td><td>www.skyscanner.gg</td></tr><tr><td>Ghana</td><td>GHS</td><td>GH¢</td><td>Ghanaian Cedi</td><td>en-GB</td><td>GH</td><td>www.skyscanner.net</td></tr><tr><td>Gibraltar</td><td>GIP</td><td>£</td><td>Gibraltar Pound</td><td>en-GB</td><td>GI</td><td>www.skyscanner.net</td></tr><tr><td>Greenland</td><td>DKK</td><td>kr.</td><td>Danish Krone</td><td>en-GB</td><td>GL</td><td>www.skyscanner.net</td></tr><tr><td>Gambia</td><td>GMD</td><td>D</td><td>Gambian Dalasi</td><td>en-GB</td><td>GM</td><td>www.skyscanner.net</td></tr><tr><td>Guinea</td><td>GNF</td><td>FG</td><td>Guinean Franc</td><td>en-GB</td><td>GN</td><td>www.skyscanner.net</td></tr><tr><td>Guadeloupe</td><td>EUR</td><td>€</td><td>Euro</td><td>fr-FR</td><td>GP</td><td>www.skyscanner.fr</td></tr><tr><td>Equatorial Guinea</td><td>XAF</td><td>F</td><td>Central African CFA Franc</td><td>en-GB</td><td>GQ</td><td>www.skyscanner.net</td></tr><tr><td>Greece</td><td>EUR</td><td>€</td><td>Euro</td><td>el-GR</td><td>GR</td><td>gr.skyscanner.com</td></tr><tr><td>South Georgia & South Sandwich Islands</td><td>GBP</td><td>£</td><td>British Pound</td><td>en-GB</td><td>GS</td><td>www.skyscanner.net</td></tr><tr><td>Guatemala</td><td>GTQ</td><td>Q</td><td>Guatemalan Quetzal</td><td>es-MX</td><td>GT</td><td>www.espanol.skyscanner.com</td></tr><tr><td>Cayman Islands</td><td>KYD</td><td>$</td><td>Cayman Islands Dollar</td><td>en-GB</td><td>KY</td><td>www.skyscanner.net</td></tr><tr><td>Kazakhstan</td><td>KZT</td><td>Т</td><td>2</td><td>ru-RU</td><td>KZ</td><td>www.skyscanner.net</td></tr><tr><td>Laos</td><td>LAK</td><td>₭</td><td>Laotian Kip</td><td>en-GB</td><td>LA</td><td>www.skyscanner.net</td></tr><tr><td>Lebanon</td><td>LBP</td><td>ل.ل.‏</td><td>Lebanese Pound</td><td>en-GB</td><td>LB</td><td>www.skyscanner.net</td></tr><tr><td>Saint Lucia</td><td>XCD</td><td>$</td><td>East Caribbean Dollar</td><td>en-GB</td><td>LC</td><td>www.skyscanner.net</td></tr><tr><td>Liechtenstein</td><td>CHF</td><td>CHF</td><td>2</td><td>de-DE</td><td>LI</td><td>www.skyscanner.net</td></tr><tr><td>Sri Lanka</td><td>LKR</td><td>Rp</td><td>Sri Lankan Rupee</td><td>en-GB</td><td>LK</td><td>www.skyscanner.net</td></tr><tr><td>Liberia</td><td>LRD</td><td>$</td><td>Liberian Dollar</td><td>en-GB</td><td>LR</td><td>www.skyscanner.net</td></tr><tr><td>Lesotho</td><td>LSL</td><td>M</td><td>Lesotho Loti</td><td>en-GB</td><td>LS</td><td>www.skyscanner.net</td></tr><tr><td>Lithuania</td><td>EUR</td><td>€</td><td>Euro</td><td>en-GB</td><td>LT</td><td>www.skyscanner.net</td></tr><tr><td>Luxembourg</td><td>EUR</td><td>€</td><td>Euro</td><td>en-GB</td><td>LU</td><td>www.skyscanner.net</td></tr><tr><td>Latvia</td><td>EUR</td><td>€</td><td>Euro</td><td>en-GB</td><td>LV</td><td>www.skyscanner.net</td></tr><tr><td>Libya</td><td>LYD</td><td>د.ل.‏</td><td>Libyan Dinar</td><td>en-GB</td><td>LY</td><td>www.skyscanner.net</td></tr><tr><td>Morocco</td><td>EUR</td><td>€</td><td>Euro</td><td>fr-FR</td><td>MA</td><td>www.skyscanner.fr</td></tr><tr><td>Monaco</td><td>EUR</td><td>€</td><td>Euro</td><td>en-GB</td><td>MC</td><td>www.skyscanner.net</td></tr><tr><td>Moldova</td><td>MDL</td><td>lei</td><td>Moldovan Leu</td><td>en-GB</td><td>MD</td><td>www.skyscanner.net</td></tr><tr><td>Montenegro</td><td>EUR</td><td>€</td><td>Euro</td><td>en-GB</td><td>ME</td><td>www.skyscanner.net</td></tr><tr><td>Madagascar</td><td>MGA</td><td>Ar</td><td>Malagasy Ariary</td><td>en-GB</td><td>MG</td><td>www.skyscanner.net</td></tr><tr><td>Marshall Islands</td><td>USD</td><td>$</td><td>US Dollar</td><td>en-GB</td><td>MH</td><td>www.skyscanner.net</td></tr><tr><td>North Macedonia</td><td>MKD</td><td>ден.</td><td>Macedonian Denar</td><td>en-GB</td><td>MK</td><td>www.skyscanner.net</td></tr><tr><td>Mali</td><td>XOF</td><td>F</td><td>West African CFA Franc</td><td>en-GB</td><td>ML</td><td>www.skyscanner.net</td></tr><tr><td>Myanmar</td><td>MMK</td><td>K</td><td>Myanmar Kyat</td><td>en-GB</td><td>MM</td><td>www.skyscanner.net</td></tr><tr><td>Mongolia</td><td>MNT</td><td>₮</td><td>Mongolian Tugrik</td><td>en-GB</td><td>MN</td><td>www.skyscanner.net</td></tr><tr><td>Macau</td><td>MOP</td><td>MOP$</td><td>Macanese Pataca</td><td>zh-TW</td><td>MO</td><td>www.skyscanner.net</td></tr><tr><td>Northern Mariana Islands</td><td>USD</td><td>$</td><td>US Dollar</td><td>en-GB</td><td>MP</td><td>www.skyscanner.net</td></tr><tr><td>Martinique</td><td>EUR</td><td>€</td><td>Euro</td><td>fr-FR</td><td>MQ</td><td>www.skyscanner.fr</td></tr><tr><td>Mauritania</td><td>MRO</td><td>UM</td><td>Mauritanian Ouguiya</td><td>en-GB</td><td>MR</td><td>www.skyscanner.net</td></tr><tr><td>Montserrat</td><td>XCD</td><td>$</td><td>East Caribbean Dollar</td><td>en-GB</td><td>MS</td><td>www.skyscanner.net</td></tr><tr><td>Malta</td><td>EUR</td><td>€</td><td>Euro</td><td>en-GB</td><td>MT</td><td>www.skyscanner.net</td></tr></tbody></table></div>"
      ]
     },
     "metadata": {
      "application/vnd.databricks.v1+output": {
       "addedWidgets": {},
       "aggData": [],
       "aggError": "",
       "aggOverflow": false,
       "aggSchema": [],
       "aggSeriesLimitReached": false,
       "aggType": "",
       "arguments": {},
       "columnCustomDisplayInfos": {},
       "data": [
        [
         "Togo",
         "XOF",
         "F",
         "West African CFA Franc",
         "en-GB",
         "TG",
         "www.skyscanner.net"
        ],
        [
         "Thailand",
         "THB",
         "฿",
         "Thai Baht",
         "th-TH",
         "TH",
         "www.skyscanner.co.th"
        ],
        [
         "Tajikistan",
         "TJS",
         "TJS",
         "Tajikistani Somoni",
         "en-GB",
         "TJ",
         "www.skyscanner.net"
        ],
        [
         "East Timor",
         "USD",
         "$",
         "US Dollar",
         "en-GB",
         "TL",
         "www.skyscanner.net"
        ],
        [
         "Turkmenistan",
         "TMT",
         "m",
         "Turkmenistani Manat",
         "en-GB",
         "TM",
         "www.skyscanner.net"
        ],
        [
         "Tunisia",
         "EUR",
         "€",
         "Euro",
         "fr-FR",
         "TN",
         "www.skyscanner.fr"
        ],
        [
         "Tonga",
         "TOP",
         "T$",
         "Tongan Paʻanga",
         "en-GB",
         "TO",
         "www.skyscanner.net"
        ],
        [
         "Turkey",
         "TRY",
         "TL",
         "Turkish Lira",
         "tr-TR",
         "TR",
         "www.skyscanner.com.tr"
        ],
        [
         "Trinidad and Tobago",
         "TTD",
         "TT$",
         "Trinidad & Tobago Dollar",
         "en-GB",
         "TT",
         "www.skyscanner.net"
        ],
        [
         "Tuvalu",
         "AUD",
         "$",
         "Australian Dollar",
         "en-GB",
         "TV",
         "www.skyscanner.net"
        ],
        [
         "Taiwan",
         "TWD",
         "NT$",
         "New Taiwan Dollar",
         "zh-TW",
         "TW",
         "www.skyscanner.com.tw"
        ],
        [
         "Tanzania",
         "TZS",
         "TSh",
         "Tanzanian Shilling",
         "en-GB",
         "TZ",
         "www.skyscanner.net"
        ],
        [
         "Ukraine",
         "UAH",
         "грн.",
         "Ukrainian Hryvnia",
         "uk-UA",
         "UA",
         "www.skyscanner.com.ua"
        ],
        [
         "Uganda",
         "UGX",
         "USh",
         "Ugandan Shilling",
         "en-GB",
         "UG",
         "www.skyscanner.net"
        ],
        [
         "United Kingdom",
         "GBP",
         "£",
         "British Pound",
         "en-GB",
         "UK",
         "www.skyscanner.net"
        ],
        [
         "United States",
         "USD",
         "$",
         "US Dollar",
         "en-US",
         "US",
         "www.skyscanner.com"
        ],
        [
         "Uruguay",
         "USD",
         "$",
         "US Dollar",
         "es-MX",
         "UY",
         "www.espanol.skyscanner.com"
        ],
        [
         "Uzbekistan",
         "UZS",
         "сўм",
         "Uzbekistani Som",
         "en-GB",
         "UZ",
         "www.skyscanner.net"
        ],
        [
         "Vatican City",
         "EUR",
         "€",
         "Euro",
         "it-IT",
         "VA",
         "www.skyscanner.net"
        ],
        [
         "Saint Vincent and the Grenadines",
         "XCD",
         "$",
         "East Caribbean Dollar",
         "en-GB",
         "VC",
         "www.skyscanner.net"
        ],
        [
         "Venezuela",
         "USD",
         "$",
         "US Dollar",
         "es-MX",
         "VE",
         "www.espanol.skyscanner.com"
        ],
        [
         "British Virgin Islands",
         "USD",
         "$",
         "US Dollar",
         "en-GB",
         "VG",
         "www.skyscanner.net"
        ],
        [
         "US Virgin Islands",
         "USD",
         "$",
         "US Dollar",
         "en-GB",
         "VI",
         "www.skyscanner.net"
        ],
        [
         "Vietnam",
         "VND",
         "₫",
         "Vietnamese Dong",
         "vi-VN",
         "VN",
         "www.skyscanner.com.vn"
        ],
        [
         "Vanuatu",
         "VUV",
         "VT",
         "Vanuatu Vatu",
         "en-GB",
         "VU",
         "www.skyscanner.net"
        ],
        [
         "Wallis and Futuna Islands",
         "XPF",
         "F",
         "CFP Franc",
         "en-GB",
         "WF",
         "www.skyscanner.net"
        ],
        [
         "Samoa",
         "WST",
         "WS$",
         "Samoan Tala",
         "en-GB",
         "WS",
         "www.skyscanner.net"
        ],
        [
         "Yemen",
         "YER",
         "ر.ي.‏",
         "Yemeni Rial",
         "en-GB",
         "YE",
         "www.skyscanner.net"
        ],
        [
         "Mayotte",
         "EUR",
         "€",
         "Euro",
         "en-GB",
         "YT",
         "www.skyscanner.net"
        ],
        [
         "South Africa",
         "ZAR",
         "R",
         "South African Rand",
         "en-GB",
         "ZA",
         "www.skyscanner.net"
        ],
        [
         "Zambia",
         "ZMW",
         "ZK",
         "Zambian Kwacha",
         "en-GB",
         "ZM",
         "www.skyscanner.net"
        ],
        [
         "Zimbabwe",
         "USD",
         "$",
         "US Dollar",
         "en-GB",
         "ZW",
         "www.skyscanner.net"
        ],
        [
         "Palau",
         "USD",
         "$",
         "US Dollar",
         "en-GB",
         "PW",
         "www.skyscanner.net"
        ],
        [
         "Paraguay",
         "PYG",
         "Gs",
         "Paraguayan Guarani",
         "es-MX",
         "PY",
         "www.espanol.skyscanner.com"
        ],
        [
         "Qatar",
         "QAR",
         "ر.ق.‏",
         "Qatari Rial",
         "en-GB",
         "QA",
         "www.skyscanner.net"
        ],
        [
         "Reunion",
         "EUR",
         "€",
         "Euro",
         "fr-FR",
         "RE",
         "www.skyscanner.fr"
        ],
        [
         "Romania",
         "RON",
         "lei",
         "Romanian Leu",
         "ro-RO",
         "RO",
         "www.skyscanner.ro"
        ],
        [
         "Serbia",
         "RSD",
         "Дин.",
         "Serbian Dinar",
         "en-GB",
         "RS",
         "www.skyscanner.net"
        ],
        [
         "Russia",
         "RUB",
         "₽",
         "Russian Ruble",
         "ru-RU",
         "RU",
         "www.skyscanner.ru"
        ],
        [
         "Rwanda",
         "RWF",
         "RWF",
         "Rwandan Franc",
         "en-GB",
         "RW",
         "www.skyscanner.net"
        ],
        [
         "Saudi Arabia",
         "SAR",
         "SAR",
         "Saudi Riyal",
         "ar-AE",
         "SA",
         "www.skyscanner.com.sa"
        ],
        [
         "Solomon Islands",
         "SBD",
         "$",
         "Solomon Islands Dollar",
         "en-GB",
         "SB",
         "www.skyscanner.net"
        ],
        [
         "Seychelles",
         "SCR",
         "Rs",
         "Seychellois Rupee",
         "en-GB",
         "SC",
         "www.skyscanner.net"
        ],
        [
         "Sudan",
         "SDG",
         "ج.س.‏",
         "Sudanese Pound",
         "en-GB",
         "SD",
         "www.skyscanner.net"
        ],
        [
         "Sweden",
         "SEK",
         "SEK",
         "Swedish Krona",
         "sv-SE",
         "SE",
         "www.skyscanner.se"
        ],
        [
         "Singapore",
         "SGD",
         "$",
         "Singapore Dollar",
         "en-GB",
         "SG",
         "www.skyscanner.com.sg"
        ],
        [
         "St. Helena",
         "SHP",
         "£",
         "St. Helena Pound",
         "en-GB",
         "SH",
         "www.skyscanner.net"
        ],
        [
         "Slovenia",
         "EUR",
         "€",
         "Euro",
         "en-GB",
         "SI",
         "www.skyscanner.net"
        ],
        [
         "Slovakia",
         "EUR",
         "€",
         "Euro",
         "en-GB",
         "SK",
         "www.skyscanner.net"
        ],
        [
         "Sierra Leone",
         "SLL",
         "Le",
         "Sierra Leonean Leone",
         "en-GB",
         "SL",
         "www.skyscanner.net"
        ],
        [
         "Senegal",
         "XOF",
         "F",
         "West African CFA Franc",
         "fr-FR",
         "SN",
         "www.skyscanner.fr"
        ],
        [
         "Somalia",
         "SOS",
         "S",
         "Somali Shilling",
         "en-GB",
         "SO",
         "www.skyscanner.net"
        ],
        [
         "Suriname",
         "SRD",
         "$",
         "Surinamese Dollar",
         "en-GB",
         "SR",
         "www.skyscanner.net"
        ],
        [
         "South Sudan",
         "SDG",
         "ج.س.‏",
         "Sudanese Pound",
         "en-GB",
         "SS",
         "www.skyscanner.net"
        ],
        [
         "Sao Tome and Principe",
         "STD",
         "Db",
         "São Tomé & Príncipe Dobra",
         "en-GB",
         "ST",
         "www.skyscanner.net"
        ],
        [
         "El Salvador",
         "USD",
         "$",
         "US Dollar",
         "es-MX",
         "SV",
         "www.espanol.skyscanner.com"
        ],
        [
         "St Maarten",
         "ANG",
         "NAf.",
         "Netherlands Antillean Guilder",
         "en-GB",
         "SX",
         "www.skyscanner.net"
        ],
        [
         "Syria",
         "SYP",
         "ل.س.‏",
         "Syrian Pound",
         "en-GB",
         "SY",
         "www.skyscanner.net"
        ],
        [
         "Eswatini",
         "SZL",
         "E",
         "Swazi Lilangeni",
         "en-GB",
         "SZ",
         "www.skyscanner.net"
        ],
        [
         "Turks and Caicos Islands",
         "USD",
         "$",
         "US Dollar",
         "en-GB",
         "TC",
         "www.skyscanner.net"
        ],
        [
         "Chad",
         "XAF",
         "F",
         "Central African CFA Franc",
         "en-GB",
         "TD",
         "www.skyscanner.net"
        ],
        [
         "Andorra",
         "EUR",
         "€",
         "Euro",
         "es-ES",
         "AD",
         "www.skyscanner.net"
        ],
        [
         "United Arab Emirates",
         "AED",
         "AED",
         "United Arab Emirates Dirham",
         "en-US",
         "AE",
         "www.skyscanner.ae"
        ],
        [
         "Afghanistan",
         "AFN",
         "AFN",
         "Afghan Afghani",
         "en-GB",
         "AF",
         "www.skyscanner.net"
        ],
        [
         "Antigua and Barbuda",
         "XCD",
         "$",
         "East Caribbean Dollar",
         "en-GB",
         "AG",
         "www.skyscanner.net"
        ],
        [
         "Anguilla",
         "XCD",
         "$",
         "East Caribbean Dollar",
         "en-GB",
         "AI",
         "www.skyscanner.net"
        ],
        [
         "Albania",
         "ALL",
         "Lek",
         "Albanian Lek",
         "en-GB",
         "AL",
         "www.skyscanner.net"
        ],
        [
         "Armenia",
         "AMD",
         "դր.",
         "Armenian Dram",
         "ru-RU",
         "AM",
         "www.skyscanner.net"
        ],
        [
         "Angola",
         "AOA",
         "Kz",
         "Angolan Kwanza",
         "pt-PT",
         "AO",
         "www.skyscanner.net"
        ],
        [
         "Antarctica",
         "USD",
         "$",
         "US Dollar",
         "en-GB",
         "AQ",
         "www.skyscanner.net"
        ],
        [
         "Argentina",
         "ARS",
         "$",
         "Argentine Peso",
         "es-MX",
         "AR",
         "www.espanol.skyscanner.com"
        ],
        [
         "American Samoa",
         "USD",
         "$",
         "US Dollar",
         "en-GB",
         "AS",
         "www.skyscanner.net"
        ],
        [
         "Austria",
         "EUR",
         "€",
         "Euro",
         "de-DE",
         "AT",
         "www.skyscanner.at"
        ],
        [
         "Australia",
         "AUD",
         "$",
         "Australian Dollar",
         "en-GB",
         "AU",
         "www.skyscanner.com.au"
        ],
        [
         "Aruba",
         "AWG",
         "Afl.",
         "Aruban Florin",
         "en-GB",
         "AW",
         "www.skyscanner.net"
        ],
        [
         "Azerbaijan",
         "AZN",
         "₼",
         "Azerbaijani Manat",
         "en-GB",
         "AZ",
         "www.skyscanner.net"
        ],
        [
         "Bosnia and Herzegovina",
         "BAM",
         "КМ",
         "Bosnia-Herzegovina Convertible Mark",
         "en-GB",
         "BA",
         "www.skyscanner.net"
        ],
        [
         "Barbados",
         "BBD",
         "$",
         "Barbadian Dollar",
         "en-GB",
         "BB",
         "www.skyscanner.net"
        ],
        [
         "Bangladesh",
         "BDT",
         "BDT",
         "Bangladeshi Taka",
         "en-GB",
         "BD",
         "www.skyscanner.net"
        ],
        [
         "Belgium",
         "EUR",
         "€",
         "Euro",
         "nl-NL",
         "BE",
         "www.skyscanner.net"
        ],
        [
         "Burkina Faso",
         "XOF",
         "F",
         "West African CFA Franc",
         "en-GB",
         "BF",
         "www.skyscanner.net"
        ],
        [
         "Bulgaria",
         "BGN",
         "лв.",
         "Bulgarian Lev",
         "bg-BG",
         "BG",
         "www.skyscanner.net"
        ],
        [
         "Bahrain",
         "BHD",
         "د.ب.‏",
         "Bahraini Dinar",
         "en-GB",
         "BH",
         "www.skyscanner.net"
        ],
        [
         "Burundi",
         "BIF",
         "FBu",
         "Burundian Franc",
         "en-GB",
         "BI",
         "www.skyscanner.net"
        ],
        [
         "Benin",
         "XOF",
         "F",
         "West African CFA Franc",
         "en-GB",
         "BJ",
         "www.skyscanner.net"
        ],
        [
         "Saint Barthelemy",
         "EUR",
         "€",
         "Euro",
         "en-GB",
         "BL",
         "www.skyscanner.net"
        ],
        [
         "Bermuda",
         "BMD",
         "$",
         "Bermudan Dollar",
         "en-GB",
         "BM",
         "www.skyscanner.com"
        ],
        [
         "Brunei",
         "BND",
         "$",
         "Brunei Dollar",
         "en-GB",
         "BN",
         "www.skyscanner.net"
        ],
        [
         "Bolivia",
         "BOB",
         "Bs",
         "Bolivian Boliviano",
         "es-MX",
         "BO",
         "www.espanol.skyscanner.com"
        ],
        [
         "Caribbean Netherlands",
         "USD",
         "$",
         "US Dollar",
         "en-GB",
         "BQ",
         "www.skyscanner.net"
        ],
        [
         "Mauritius",
         "MUR",
         "Rs",
         "Mauritian Rupee",
         "en-GB",
         "MU",
         "www.skyscanner.net"
        ],
        [
         "Maldives",
         "MVR",
         "MVR",
         "Maldivian Rufiyaa",
         "en-GB",
         "MV",
         "www.skyscanner.net"
        ],
        [
         "Malawi",
         "MWK",
         "MK",
         "Malawian Kwacha",
         "en-GB",
         "MW",
         "www.skyscanner.net"
        ],
        [
         "Mexico",
         "MXN",
         "$",
         "Mexican Peso",
         "es-MX",
         "MX",
         "www.skyscanner.com.mx"
        ],
        [
         "Malaysia",
         "MYR",
         "RM",
         "Malaysian Ringgit",
         "en-GB",
         "MY",
         "www.skyscanner.com.my"
        ],
        [
         "Mozambique",
         "MZN",
         "MT",
         "Mozambican Metical",
         "en-GB",
         "MZ",
         "www.skyscanner.net"
        ],
        [
         "Namibia",
         "NAD",
         "$",
         "Namibian Dollar",
         "en-GB",
         "NA",
         "www.skyscanner.net"
        ],
        [
         "New Caledonia",
         "XPF",
         "F",
         "CFP Franc",
         "en-GB",
         "NC",
         "www.skyscanner.net"
        ],
        [
         "Niger",
         "XOF",
         "F",
         "West African CFA Franc",
         "en-GB",
         "NE",
         "www.skyscanner.net"
        ],
        [
         "Nigeria",
         "NGN",
         "₦",
         "Nigerian Naira",
         "en-GB",
         "NG",
         "www.skyscanner.net"
        ],
        [
         "Nicaragua",
         "NIO",
         "C$",
         "Nicaraguan Córdoba",
         "es-MX",
         "NI",
         "www.espanol.skyscanner.com"
        ],
        [
         "Netherlands",
         "EUR",
         "€",
         "Euro",
         "nl-NL",
         "NL",
         "www.skyscanner.nl"
        ],
        [
         "Norway",
         "NOK",
         "kr",
         "Norwegian Krone",
         "nb-NO",
         "NO",
         "www.skyscanner.no"
        ],
        [
         "Nepal",
         "NPR",
         "रु",
         "Nepalese Rupee",
         "en-GB",
         "NP",
         "www.skyscanner.net"
        ],
        [
         "Nauru",
         "AUD",
         "$",
         "Australian Dollar",
         "en-GB",
         "NR",
         "www.skyscanner.net"
        ],
        [
         "Niue",
         "NZD",
         "$",
         "New Zealand Dollar",
         "en-GB",
         "NU",
         "www.skyscanner.net"
        ],
        [
         "New Zealand",
         "NZD",
         "$",
         "New Zealand Dollar",
         "en-GB",
         "NZ",
         "www.skyscanner.co.nz"
        ],
        [
         "Oman",
         "OMR",
         "ر.ع.‏",
         "Omani Rial",
         "en-GB",
         "OM",
         "www.skyscanner.net"
        ],
        [
         "Panama",
         "PAB",
         "B/.",
         "Panamanian Balboa",
         "es-MX",
         "PA",
         "www.espanol.skyscanner.com"
        ],
        [
         "Peru",
         "PEN",
         "S/.",
         "2",
         "es-MX",
         "PE",
         "www.espanol.skyscanner.com"
        ],
        [
         "French Polynesia",
         "XPF",
         "F",
         "CFP Franc",
         "fr-FR",
         "PF",
         "www.skyscanner.fr"
        ],
        [
         "Papua New Guinea",
         "PGK",
         "K",
         "Papua New Guinean Kina",
         "en-GB",
         "PG",
         "www.skyscanner.net"
        ],
        [
         "Philippines",
         "PHP",
         "P",
         "Philippine Piso",
         "en-GB",
         "PH",
         "www.skyscanner.com.ph"
        ],
        [
         "Pakistan",
         "PKR",
         "Rs",
         "Pakistani Rupee",
         "en-GB",
         "PK",
         "www.skyscanner.net"
        ],
        [
         "Poland",
         "PLN",
         "zł",
         "Polish Zloty",
         "pl-PL",
         "PL",
         "www.skyscanner.pl"
        ],
        [
         "St. Pierre and Miquelon",
         "EUR",
         "€",
         "Euro",
         "en-GB",
         "PM",
         "www.skyscanner.net"
        ],
        [
         "Puerto Rico",
         "USD",
         "$",
         "US Dollar",
         "es-MX",
         "PR",
         "www.espanol.skyscanner.com"
        ],
        [
         "Palestinian Territories",
         "USD",
         "$",
         "US Dollar",
         "en-US",
         "PS",
         "www.skyscanner.net"
        ],
        [
         "Portugal",
         "EUR",
         "€",
         "Euro",
         "pt-PT",
         "PT",
         "www.skyscanner.pt"
        ],
        [
         "Brazil",
         "BRL",
         "R$",
         "Brazilian Real",
         "pt-BR",
         "BR",
         "www.skyscanner.com.br"
        ],
        [
         "Bahamas",
         "BSD",
         "$",
         "Bahamian Dollar",
         "en-GB",
         "BS",
         "www.skyscanner.net"
        ],
        [
         "Bhutan",
         "BTN",
         "Nu.",
         "Bhutanese Ngultrum",
         "en-GB",
         "BT",
         "www.skyscanner.net"
        ],
        [
         "Botswana",
         "BWP",
         "P",
         "Botswanan Pula",
         "en-GB",
         "BW",
         "www.skyscanner.net"
        ],
        [
         "Belarus",
         "BYN",
         "Br",
         "Belarusian Ruble",
         "ru-RU",
         "BY",
         "www.skyscanner.net"
        ],
        [
         "Belize",
         "BZD",
         "BZ$",
         "Belize Dollar",
         "en-GB",
         "BZ",
         "www.skyscanner.com"
        ],
        [
         "Canada",
         "CAD",
         "C$",
         "Canadian Dollar",
         "en-US",
         "CA",
         "www.skyscanner.ca"
        ],
        [
         "Cocos (Keeling) Islands",
         "AUD",
         "$",
         "Australian Dollar",
         "en-GB",
         "CC",
         "www.skyscanner.net"
        ],
        [
         "DR Congo",
         "CDF",
         "FC",
         "Congolese Franc",
         "en-GB",
         "CD",
         "www.skyscanner.net"
        ],
        [
         "Central African Republic",
         "XAF",
         "F",
         "Central African CFA Franc",
         "en-GB",
         "CF",
         "www.skyscanner.net"
        ],
        [
         "Congo",
         "XAF",
         "F",
         "Central African CFA Franc",
         "en-GB",
         "CG",
         "www.skyscanner.net"
        ],
        [
         "Switzerland",
         "CHF",
         "CHF",
         "2",
         "de-DE",
         "CH",
         "www.skyscanner.ch"
        ],
        [
         "Ivory Coast",
         "XOF",
         "F",
         "West African CFA Franc",
         "fr-FR",
         "CI",
         "www.skyscanner.fr"
        ],
        [
         "Cook Islands",
         "NZD",
         "$",
         "New Zealand Dollar",
         "en-GB",
         "CK",
         "www.skyscanner.net"
        ],
        [
         "Chile",
         "CLP",
         "$",
         "Chilean Peso",
         "es-MX",
         "CL",
         "www.espanol.skyscanner.com"
        ],
        [
         "Cameroon",
         "XAF",
         "F",
         "Central African CFA Franc",
         "en-GB",
         "CM",
         "www.skyscanner.net"
        ],
        [
         "China",
         "CNY",
         "¥",
         "Chinese Yuan",
         "zh-CN",
         "CN",
         "www.tianxun.com"
        ],
        [
         "Colombia",
         "COP",
         "$",
         "Colombian Peso",
         "es-MX",
         "CO",
         "www.espanol.skyscanner.com"
        ],
        [
         "Costa Rica",
         "CRC",
         "₡",
         "Costa Rican Colón",
         "es-MX",
         "CR",
         "www.espanol.skyscanner.com"
        ],
        [
         "Cuba",
         "CUP",
         "$MN",
         "Cuban Peso",
         "es-MX",
         "CU",
         "www.espanol.skyscanner.com"
        ],
        [
         "Cape Verde",
         "CVE",
         "$",
         "Cape Verdean Escudo",
         "en-GB",
         "CV",
         "www.skyscanner.net"
        ],
        [
         "Curacao",
         "ANG",
         "NAf.",
         "Netherlands Antillean Guilder",
         "en-GB",
         "CW",
         "www.skyscanner.net"
        ],
        [
         "Christmas Island",
         "AUD",
         "$",
         "Australian Dollar",
         "en-GB",
         "CX",
         "www.skyscanner.net"
        ],
        [
         "Cyprus",
         "EUR",
         "€",
         "Euro",
         "el-GR",
         "CY",
         "www.skyscanner.net"
        ],
        [
         "Czech Republic",
         "CZK",
         "Kč",
         "Czech Koruna",
         "cs-CZ",
         "CZ",
         "www.skyscanner.cz"
        ],
        [
         "Germany",
         "EUR",
         "€",
         "Euro",
         "de-DE",
         "DE",
         "www.skyscanner.de"
        ],
        [
         "Djibouti",
         "DJF",
         "Fdj",
         "Djiboutian Franc",
         "en-GB",
         "DJ",
         "www.skyscanner.net"
        ],
        [
         "Denmark",
         "DKK",
         "kr.",
         "Danish Krone",
         "da-DK",
         "DK",
         "www.skyscanner.dk"
        ],
        [
         "Dominica",
         "XCD",
         "$",
         "East Caribbean Dollar",
         "en-GB",
         "DM",
         "www.skyscanner.net"
        ],
        [
         "Guam",
         "USD",
         "$",
         "US Dollar",
         "en-GB",
         "GU",
         "www.skyscanner.net"
        ],
        [
         "Guinea-Bissau",
         "GNF",
         "FG",
         "Guinean Franc",
         "en-GB",
         "GW",
         "www.skyscanner.net"
        ],
        [
         "Guyana",
         "GYD",
         "$",
         "Guyanaese Dollar",
         "en-GB",
         "GY",
         "www.skyscanner.com"
        ],
        [
         "Hong Kong",
         "HKD",
         "HK$",
         "Hong Kong Dollar",
         "zh-TW",
         "HK",
         "www.skyscanner.com.hk"
        ],
        [
         "Honduras",
         "HNL",
         "L.",
         "Honduran Lempira",
         "es-MX",
         "HN",
         "www.espanol.skyscanner.com"
        ],
        [
         "Croatia",
         "HRK",
         "kn",
         "Croatian Kuna",
         "en-GB",
         "HR",
         "www.skyscanner.net"
        ],
        [
         "Haiti",
         "HTG",
         "G",
         "Haitian Gourde",
         "en-GB",
         "HT",
         "www.skyscanner.net"
        ],
        [
         "Hungary",
         "HUF",
         "Ft",
         "Hungarian Forint",
         "hu-HU",
         "HU",
         "www.skyscanner.hu"
        ],
        [
         "Indonesia",
         "IDR",
         "Rp",
         "Indonesian Rupiah",
         "id-ID",
         "ID",
         "www.skyscanner.co.id"
        ],
        [
         "Ireland",
         "EUR",
         "€",
         "Euro",
         "en-GB",
         "IE",
         "www.skyscanner.ie"
        ],
        [
         "Israel",
         "USD",
         "$",
         "US Dollar",
         "en-US",
         "IL",
         "www.skyscanner.co.il"
        ],
        [
         "India",
         "INR",
         "₹",
         "Indian Rupee",
         "en-GB",
         "IN",
         "www.skyscanner.co.in"
        ],
        [
         "Iraq",
         "IQD",
         "د.ع.‏",
         "Iraqi Dinar",
         "en-GB",
         "IQ",
         "www.skyscanner.net"
        ],
        [
         "Iran",
         "IRR",
         "ريال",
         "Iranian Rial",
         "en-GB",
         "IR",
         "www.skyscanner.net"
        ],
        [
         "Iceland",
         "ISK",
         "kr.",
         "Icelandic Króna",
         "en-GB",
         "IS",
         "www.skyscanner.net"
        ],
        [
         "Italy",
         "EUR",
         "€",
         "Euro",
         "it-IT",
         "IT",
         "www.skyscanner.it"
        ],
        [
         "Jamaica",
         "JMD",
         "J$",
         "Jamaican Dollar",
         "en-GB",
         "JM",
         "www.skyscanner.net"
        ],
        [
         "Jordan",
         "JOD",
         "د.ا.‏",
         "Jordanian Dinar",
         "en-GB",
         "JO",
         "www.skyscanner.net"
        ],
        [
         "Japan",
         "JPY",
         "¥",
         "Japanese Yen",
         "ja-JP",
         "JP",
         "www.skyscanner.jp"
        ],
        [
         "Kenya",
         "KES",
         "S",
         "Kenyan Shilling",
         "en-GB",
         "KE",
         "www.skyscanner.net"
        ],
        [
         "Kyrgyzstan",
         "KGS",
         "сом",
         "2",
         "ru-RU",
         "KG",
         "www.skyscanner.net"
        ],
        [
         "Cambodia",
         "KHR",
         "KHR",
         "Cambodian Riel",
         "en-GB",
         "KH",
         "www.skyscanner.net"
        ],
        [
         "Kiribati",
         "AUD",
         "$",
         "Australian Dollar",
         "en-GB",
         "KI",
         "www.skyscanner.net"
        ],
        [
         "Comoros",
         "KMF",
         "CF",
         "Comorian Franc",
         "en-GB",
         "KM",
         "www.skyscanner.net"
        ],
        [
         "Saint Kitts and Nevis",
         "XCD",
         "$",
         "East Caribbean Dollar",
         "en-GB",
         "KN",
         "www.skyscanner.net"
        ],
        [
         "Kosovo",
         "EUR",
         "€",
         "Euro",
         "en-GB",
         "KO",
         "www.skyscanner.net"
        ],
        [
         "North Korea",
         "KPW",
         "₩",
         "North Korean Won",
         "en-GB",
         "KP",
         "www.skyscanner.net"
        ],
        [
         "South Korea",
         "KRW",
         "₩",
         "South Korean Won",
         "ko-KR",
         "KR",
         "www.skyscanner.co.kr"
        ],
        [
         "Kuwait",
         "KWD",
         "د.ك.‏",
         "Kuwaiti Dinar",
         "en-GB",
         "KW",
         "www.skyscanner.net"
        ],
        [
         "Dominican Republic",
         "DOP",
         "RD$",
         "Dominican Peso",
         "es-MX",
         "DO",
         "www.espanol.skyscanner.com"
        ],
        [
         "Algeria",
         "DZD",
         "د.ج.‏",
         "Algerian Dinar",
         "fr-FR",
         "DZ",
         "www.skyscanner.net"
        ],
        [
         "Ecuador",
         "USD",
         "$",
         "US Dollar",
         "es-MX",
         "EC",
         "www.espanol.skyscanner.com"
        ],
        [
         "Estonia",
         "EUR",
         "€",
         "Euro",
         "en-GB",
         "EE",
         "www.skyscanner.net"
        ],
        [
         "Egypt",
         "EGP",
         "ج.م.‏",
         "Egyptian Pound",
         "en-GB",
         "EG",
         "www.skyscanner.net"
        ],
        [
         "Eritrea",
         "ERN",
         "Nfk",
         "Eritrean Nakfa",
         "en-GB",
         "ER",
         "www.skyscanner.net"
        ],
        [
         "Spain",
         "EUR",
         "€",
         "Euro",
         "es-ES",
         "ES",
         "www.skyscanner.es"
        ],
        [
         "Ethiopia",
         "ETB",
         "Br",
         "Ethiopian Birr",
         "en-GB",
         "ET",
         "www.skyscanner.net"
        ],
        [
         "Finland",
         "EUR",
         "€",
         "Euro",
         "fi-FI",
         "FI",
         "www.skyscanner.fi"
        ],
        [
         "Fiji",
         "FJD",
         "$",
         "Fijian Dollar",
         "en-GB",
         "FJ",
         "www.skyscanner.net"
        ],
        [
         "Falkland Islands",
         "GBP",
         "£",
         "British Pound",
         "en-GB",
         "FK",
         "www.skyscanner.net"
        ],
        [
         "Micronesia",
         "USD",
         "$",
         "US Dollar",
         "en-GB",
         "FM",
         "www.skyscanner.net"
        ],
        [
         "Faroe Islands",
         "DKK",
         "kr.",
         "Danish Krone",
         "en-GB",
         "FO",
         "www.skyscanner.net"
        ],
        [
         "France",
         "EUR",
         "€",
         "Euro",
         "fr-FR",
         "FR",
         "www.skyscanner.fr"
        ],
        [
         "Gabon",
         "XAF",
         "F",
         "Central African CFA Franc",
         "en-GB",
         "GA",
         "www.skyscanner.net"
        ],
        [
         "Grenada",
         "XCD",
         "$",
         "East Caribbean Dollar",
         "en-GB",
         "GD",
         "www.skyscanner.net"
        ],
        [
         "Georgia",
         "GEL",
         "₾",
         "Georgian Lari",
         "en-GB",
         "GE",
         "www.skyscanner.net"
        ],
        [
         "French Guiana",
         "EUR",
         "€",
         "Euro",
         "fr-FR",
         "GF",
         "www.skyscanner.fr"
        ],
        [
         "Guernsey",
         "GBP",
         "£",
         "British Pound",
         "en-GB",
         "GG",
         "www.skyscanner.gg"
        ],
        [
         "Ghana",
         "GHS",
         "GH¢",
         "Ghanaian Cedi",
         "en-GB",
         "GH",
         "www.skyscanner.net"
        ],
        [
         "Gibraltar",
         "GIP",
         "£",
         "Gibraltar Pound",
         "en-GB",
         "GI",
         "www.skyscanner.net"
        ],
        [
         "Greenland",
         "DKK",
         "kr.",
         "Danish Krone",
         "en-GB",
         "GL",
         "www.skyscanner.net"
        ],
        [
         "Gambia",
         "GMD",
         "D",
         "Gambian Dalasi",
         "en-GB",
         "GM",
         "www.skyscanner.net"
        ],
        [
         "Guinea",
         "GNF",
         "FG",
         "Guinean Franc",
         "en-GB",
         "GN",
         "www.skyscanner.net"
        ],
        [
         "Guadeloupe",
         "EUR",
         "€",
         "Euro",
         "fr-FR",
         "GP",
         "www.skyscanner.fr"
        ],
        [
         "Equatorial Guinea",
         "XAF",
         "F",
         "Central African CFA Franc",
         "en-GB",
         "GQ",
         "www.skyscanner.net"
        ],
        [
         "Greece",
         "EUR",
         "€",
         "Euro",
         "el-GR",
         "GR",
         "gr.skyscanner.com"
        ],
        [
         "South Georgia & South Sandwich Islands",
         "GBP",
         "£",
         "British Pound",
         "en-GB",
         "GS",
         "www.skyscanner.net"
        ],
        [
         "Guatemala",
         "GTQ",
         "Q",
         "Guatemalan Quetzal",
         "es-MX",
         "GT",
         "www.espanol.skyscanner.com"
        ],
        [
         "Cayman Islands",
         "KYD",
         "$",
         "Cayman Islands Dollar",
         "en-GB",
         "KY",
         "www.skyscanner.net"
        ],
        [
         "Kazakhstan",
         "KZT",
         "Т",
         "2",
         "ru-RU",
         "KZ",
         "www.skyscanner.net"
        ],
        [
         "Laos",
         "LAK",
         "₭",
         "Laotian Kip",
         "en-GB",
         "LA",
         "www.skyscanner.net"
        ],
        [
         "Lebanon",
         "LBP",
         "ل.ل.‏",
         "Lebanese Pound",
         "en-GB",
         "LB",
         "www.skyscanner.net"
        ],
        [
         "Saint Lucia",
         "XCD",
         "$",
         "East Caribbean Dollar",
         "en-GB",
         "LC",
         "www.skyscanner.net"
        ],
        [
         "Liechtenstein",
         "CHF",
         "CHF",
         "2",
         "de-DE",
         "LI",
         "www.skyscanner.net"
        ],
        [
         "Sri Lanka",
         "LKR",
         "Rp",
         "Sri Lankan Rupee",
         "en-GB",
         "LK",
         "www.skyscanner.net"
        ],
        [
         "Liberia",
         "LRD",
         "$",
         "Liberian Dollar",
         "en-GB",
         "LR",
         "www.skyscanner.net"
        ],
        [
         "Lesotho",
         "LSL",
         "M",
         "Lesotho Loti",
         "en-GB",
         "LS",
         "www.skyscanner.net"
        ],
        [
         "Lithuania",
         "EUR",
         "€",
         "Euro",
         "en-GB",
         "LT",
         "www.skyscanner.net"
        ],
        [
         "Luxembourg",
         "EUR",
         "€",
         "Euro",
         "en-GB",
         "LU",
         "www.skyscanner.net"
        ],
        [
         "Latvia",
         "EUR",
         "€",
         "Euro",
         "en-GB",
         "LV",
         "www.skyscanner.net"
        ],
        [
         "Libya",
         "LYD",
         "د.ل.‏",
         "Libyan Dinar",
         "en-GB",
         "LY",
         "www.skyscanner.net"
        ],
        [
         "Morocco",
         "EUR",
         "€",
         "Euro",
         "fr-FR",
         "MA",
         "www.skyscanner.fr"
        ],
        [
         "Monaco",
         "EUR",
         "€",
         "Euro",
         "en-GB",
         "MC",
         "www.skyscanner.net"
        ],
        [
         "Moldova",
         "MDL",
         "lei",
         "Moldovan Leu",
         "en-GB",
         "MD",
         "www.skyscanner.net"
        ],
        [
         "Montenegro",
         "EUR",
         "€",
         "Euro",
         "en-GB",
         "ME",
         "www.skyscanner.net"
        ],
        [
         "Madagascar",
         "MGA",
         "Ar",
         "Malagasy Ariary",
         "en-GB",
         "MG",
         "www.skyscanner.net"
        ],
        [
         "Marshall Islands",
         "USD",
         "$",
         "US Dollar",
         "en-GB",
         "MH",
         "www.skyscanner.net"
        ],
        [
         "North Macedonia",
         "MKD",
         "ден.",
         "Macedonian Denar",
         "en-GB",
         "MK",
         "www.skyscanner.net"
        ],
        [
         "Mali",
         "XOF",
         "F",
         "West African CFA Franc",
         "en-GB",
         "ML",
         "www.skyscanner.net"
        ],
        [
         "Myanmar",
         "MMK",
         "K",
         "Myanmar Kyat",
         "en-GB",
         "MM",
         "www.skyscanner.net"
        ],
        [
         "Mongolia",
         "MNT",
         "₮",
         "Mongolian Tugrik",
         "en-GB",
         "MN",
         "www.skyscanner.net"
        ],
        [
         "Macau",
         "MOP",
         "MOP$",
         "Macanese Pataca",
         "zh-TW",
         "MO",
         "www.skyscanner.net"
        ],
        [
         "Northern Mariana Islands",
         "USD",
         "$",
         "US Dollar",
         "en-GB",
         "MP",
         "www.skyscanner.net"
        ],
        [
         "Martinique",
         "EUR",
         "€",
         "Euro",
         "fr-FR",
         "MQ",
         "www.skyscanner.fr"
        ],
        [
         "Mauritania",
         "MRO",
         "UM",
         "Mauritanian Ouguiya",
         "en-GB",
         "MR",
         "www.skyscanner.net"
        ],
        [
         "Montserrat",
         "XCD",
         "$",
         "East Caribbean Dollar",
         "en-GB",
         "MS",
         "www.skyscanner.net"
        ],
        [
         "Malta",
         "EUR",
         "€",
         "Euro",
         "en-GB",
         "MT",
         "www.skyscanner.net"
        ]
       ],
       "datasetInfos": [],
       "dbfsResultPath": null,
       "isJsonSchema": true,
       "metadata": {},
       "overflow": false,
       "plotOptions": {
        "customPlotOptions": {},
        "displayType": "table",
        "pivotAggregation": null,
        "pivotColumns": null,
        "xColumns": null,
        "yColumns": null
       },
       "removedWidgets": [],
       "schema": [
        {
         "metadata": "{}",
         "name": "country",
         "type": "\"string\""
        },
        {
         "metadata": "{}",
         "name": "currency",
         "type": "\"string\""
        },
        {
         "metadata": "{}",
         "name": "currencySymbol",
         "type": "\"string\""
        },
        {
         "metadata": "{}",
         "name": "currencyTitle",
         "type": "\"string\""
        },
        {
         "metadata": "{}",
         "name": "locale",
         "type": "\"string\""
        },
        {
         "metadata": "{}",
         "name": "market",
         "type": "\"string\""
        },
        {
         "metadata": "{}",
         "name": "site",
         "type": "\"string\""
        }
       ],
       "type": "table"
      }
     },
     "output_type": "display_data"
    }
   ],
   "source": [
    "%sql\n",
    "select * from country;"
   ]
  },
  {
   "cell_type": "code",
   "execution_count": 0,
   "metadata": {
    "application/vnd.databricks.v1+cell": {
     "cellMetadata": {},
     "inputWidgets": {},
     "nuid": "e16957bc-2990-47cc-bf03-de16216d236b",
     "showTitle": false,
     "title": ""
    }
   },
   "outputs": [],
   "source": []
  }
 ],
 "metadata": {
  "application/vnd.databricks.v1+notebook": {
   "dashboards": [],
   "environmentMetadata": null,
   "language": "python",
   "notebookMetadata": {
    "mostRecentlyExecutedCommandWithImplicitDF": {
     "commandId": 1168964519503492,
     "dataframes": [
      "_sqldf"
     ]
    },
    "pythonIndentUnit": 4
   },
   "notebookName": "CountryData",
   "widgets": {}
  }
 },
 "nbformat": 4,
 "nbformat_minor": 0
}
