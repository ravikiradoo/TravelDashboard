{
 "cells": [
  {
   "cell_type": "code",
   "execution_count": 0,
   "metadata": {
    "application/vnd.databricks.v1+cell": {
     "cellMetadata": {
      "byteLimit": 2048000,
      "rowLimit": 10000
     },
     "inputWidgets": {},
     "nuid": "5b738f2f-240a-4717-940a-468b73ef4832",
     "showTitle": false,
     "title": ""
    }
   },
   "outputs": [],
   "source": [
    "from pyspark.sql.types import StructType, StructField, StringType, IntegerType, DoubleType, BooleanType, ArrayType\n",
    "\n",
    "# Define the schema for the price field\n",
    "price_schema = StructType([\n",
    "    StructField(\"raw\", StringType(), True),\n",
    "    StructField(\"formatted\", StringType(), True),\n",
    "    StructField(\"pricingOptionId\", StringType(), True)\n",
    "])\n",
    "\n",
    "# Define the schema for origin and destination fields (they share the same structure)\n",
    "location_schema = StructType([\n",
    "    StructField(\"id\", StringType(), True),\n",
    "    StructField(\"entityId\", StringType(), True),\n",
    "    StructField(\"name\", StringType(), True),\n",
    "    StructField(\"displayCode\", StringType(), True),\n",
    "    StructField(\"city\", StringType(), True),\n",
    "    StructField(\"country\", StringType(), True),\n",
    "    StructField(\"isHighlighted\", BooleanType(), True)\n",
    "])\n",
    "\n",
    "# Define the schema for the carrier field\n",
    "carrier_schema = StructType([\n",
    "    StructField(\"id\", IntegerType(), True),\n",
    "    StructField(\"logoUrl\", StringType(), True),\n",
    "    StructField(\"name\", StringType(), True)\n",
    "])\n",
    "\n",
    "# Define the schema for the segments field\n",
    "segment_schema = StructType([\n",
    "    StructField(\"id\", StringType(), True),\n",
    "    StructField(\"origin\", location_schema, True),\n",
    "    StructField(\"destination\", location_schema, True),\n",
    "    StructField(\"departure\", StringType(), True),\n",
    "    StructField(\"arrival\", StringType(), True),\n",
    "    StructField(\"durationInMinutes\", IntegerType(), True),\n",
    "    StructField(\"flightNumber\", StringType(), True),\n",
    "    StructField(\"marketingCarrier\", carrier_schema, True),\n",
    "    StructField(\"operatingCarrier\", carrier_schema, True)\n",
    "])\n",
    "\n",
    "# Define the schema for the legs field\n",
    "legs_schema = StructType([\n",
    "    StructField(\"id\", StringType(), True),\n",
    "    StructField(\"origin\", location_schema, True),\n",
    "    StructField(\"destination\", location_schema, True),\n",
    "    StructField(\"durationInMinutes\", IntegerType(), True),\n",
    "    StructField(\"stopCount\", IntegerType(), True),\n",
    "    StructField(\"isSmallestStops\", BooleanType(), True),\n",
    "    StructField(\"departure\", StringType(), True),\n",
    "    StructField(\"arrival\", StringType(), True),\n",
    "    StructField(\"timeDeltaInDays\", IntegerType(), True),\n",
    "    StructField(\"carriers\", StructType([\n",
    "        StructField(\"marketing\", ArrayType(carrier_schema), True),\n",
    "        StructField(\"operationType\", StringType(), True)\n",
    "    ]), True),\n",
    "    StructField(\"segments\", ArrayType(segment_schema), True)\n",
    "])\n",
    "\n",
    "# Define the schema for the main JSON structure\n",
    "schema = StructType([\n",
    "    StructField(\"id\", StringType(), True),\n",
    "    StructField(\"price\", price_schema, True),\n",
    "    StructField(\"legs\", ArrayType(legs_schema), True),\n",
    "    StructField(\"isSelfTransfer\", BooleanType(), True),\n",
    "    StructField(\"isProtectedSelfTransfer\", BooleanType(), True),\n",
    "    StructField(\"farePolicy\", StructType([\n",
    "        StructField(\"isChangeAllowed\", BooleanType(), True),\n",
    "        StructField(\"isPartiallyChangeable\", BooleanType(), True),\n",
    "        StructField(\"isCancellationAllowed\", BooleanType(), True),\n",
    "        StructField(\"isPartiallyRefundable\", BooleanType(), True)\n",
    "    ]), True),\n",
    "    StructField(\"fareAttributes\", StructType([]), True),  # Assuming fareAttributes is empty\n",
    "    StructField(\"tags\", ArrayType(StringType()), True),\n",
    "    StructField(\"isMashUp\", BooleanType(), True),\n",
    "    StructField(\"hasFlexibleOptions\", BooleanType(), True),\n",
    "    StructField(\"score\", DoubleType(), True)\n",
    "])\n"
   ]
  },
  {
   "cell_type": "code",
   "execution_count": 0,
   "metadata": {
    "application/vnd.databricks.v1+cell": {
     "cellMetadata": {
      "byteLimit": 2048000,
      "rowLimit": 10000
     },
     "inputWidgets": {},
     "nuid": "0711e1da-f35f-41dc-891f-72533060090e",
     "showTitle": false,
     "title": ""
    }
   },
   "outputs": [
    {
     "output_type": "display_data",
     "data": {
      "text/html": [
       "<style scoped>\n",
       "  .table-result-container {\n",
       "    max-height: 300px;\n",
       "    overflow: auto;\n",
       "  }\n",
       "  table, th, td {\n",
       "    border: 1px solid black;\n",
       "    border-collapse: collapse;\n",
       "  }\n",
       "  th, td {\n",
       "    padding: 5px;\n",
       "  }\n",
       "  th {\n",
       "    text-align: left;\n",
       "  }\n",
       "</style><div class='table-result-container'><table class='table-result'><thead style='background-color: white'><tr><th>id</th><th>entityId</th><th>flightPlaceType</th><th>localizedName</th><th>skyId</th><th>entityType</th><th>title</th><th>subtitle</th><th>id</th><th>entityId</th><th>flightPlaceType</th><th>localizedName</th><th>skyId</th><th>entityType</th><th>title</th><th>subtitle</th></tr></thead><tbody><tr><td>eyJzIjoiREVMIiwiZSI6Ijk1NjczNDk4IiwiaCI6IjI3NTQwNzA2In0=</td><td>95673498</td><td>AIRPORT</td><td>New Delhi</td><td>DEL</td><td>CITY</td><td>Indira Gandhi International </td><td>India</td><td>eyJzIjoiSkZLIiwiZSI6Ijk1NTY1MDU4IiwiaCI6IjI3NTM3NTQyIn0=</td><td>95565058</td><td>AIRPORT</td><td>New York</td><td>JFK</td><td>CITY</td><td>New York John F. Kennedy</td><td>United States</td></tr><tr><td>eyJzIjoiREVMIiwiZSI6Ijk1NjczNDk4IiwiaCI6IjI3NTQwNzA2In0=</td><td>95673498</td><td>AIRPORT</td><td>New Delhi</td><td>DEL</td><td>CITY</td><td>Indira Gandhi International </td><td>India</td><td>eyJzIjoiU1dGIiwiZSI6Ijk1NTY2MjgwIiwiaCI6IjI3NTM3NTQyIn0=</td><td>95566280</td><td>AIRPORT</td><td>New York</td><td>SWF</td><td>CITY</td><td>Stewart International</td><td>United States</td></tr><tr><td>eyJzIjoiREVMIiwiZSI6Ijk1NjczNDk4IiwiaCI6IjI3NTQwNzA2In0=</td><td>95673498</td><td>AIRPORT</td><td>New Delhi</td><td>DEL</td><td>CITY</td><td>Indira Gandhi International </td><td>India</td><td>eyJzIjoiTEdBIiwiZSI6Ijk1NTY1MDU3IiwiaCI6IjI3NTM3NTQyIn0=</td><td>95565057</td><td>AIRPORT</td><td>New York</td><td>LGA</td><td>CITY</td><td>New York LaGuardia</td><td>United States</td></tr><tr><td>eyJzIjoiREVMIiwiZSI6Ijk1NjczNDk4IiwiaCI6IjI3NTQwNzA2In0=</td><td>95673498</td><td>AIRPORT</td><td>New Delhi</td><td>DEL</td><td>CITY</td><td>Indira Gandhi International </td><td>India</td><td>eyJzIjoiRVdSIiwiZSI6Ijk1NTY1MDU5IiwiaCI6IjI3NTM3NTQyIn0=</td><td>95565059</td><td>AIRPORT</td><td>New York</td><td>EWR</td><td>CITY</td><td>New York Newark</td><td>United States</td></tr><tr><td>eyJzIjoiREVMIiwiZSI6Ijk1NjczNDk4IiwiaCI6IjI3NTQwNzA2In0=</td><td>95673498</td><td>AIRPORT</td><td>New Delhi</td><td>DEL</td><td>CITY</td><td>Indira Gandhi International </td><td>India</td><td>eyJzIjoiTkNMIiwiZSI6Ijk1Njc0MDQ0IiwiaCI6IjI3NTQ1MDkyIn0=</td><td>95674044</td><td>AIRPORT</td><td>Newcastle</td><td>NCL</td><td>CITY</td><td>Newcastle</td><td>United Kingdom</td></tr><tr><td>eyJzIjoiREVMIiwiZSI6Ijk1NjczNDk4IiwiaCI6IjI3NTQwNzA2In0=</td><td>95673498</td><td>AIRPORT</td><td>New Delhi</td><td>DEL</td><td>CITY</td><td>Indira Gandhi International </td><td>India</td><td>eyJzIjoiTlFZIiwiZSI6Ijk1NjczOTYzIiwiaCI6IjI3NTQ1MTQ5In0=</td><td>95673963</td><td>AIRPORT</td><td>Newquay</td><td>NQY</td><td>CITY</td><td>Newquay</td><td>United Kingdom</td></tr><tr><td>eyJzIjoiREVMIiwiZSI6Ijk1NjczNDk4IiwiaCI6IjI3NTQwNzA2In0=</td><td>95673498</td><td>AIRPORT</td><td>New Delhi</td><td>DEL</td><td>CITY</td><td>Indira Gandhi International </td><td>India</td><td>eyJzIjoiTllDQSIsImUiOiIyNzUzNzU0MiIsImgiOiIyNzUzNzU0MiJ9</td><td>27537542</td><td>CITY</td><td>New York</td><td>NYCA</td><td>CITY</td><td>New York</td><td>United States</td></tr></tbody></table></div>"
      ]
     },
     "metadata": {
      "application/vnd.databricks.v1+output": {
       "addedWidgets": {},
       "aggData": [],
       "aggError": "",
       "aggOverflow": false,
       "aggSchema": [],
       "aggSeriesLimitReached": false,
       "aggType": "",
       "arguments": {},
       "columnCustomDisplayInfos": {},
       "data": [
        [
         "eyJzIjoiREVMIiwiZSI6Ijk1NjczNDk4IiwiaCI6IjI3NTQwNzA2In0=",
         "95673498",
         "AIRPORT",
         "New Delhi",
         "DEL",
         "CITY",
         "Indira Gandhi International ",
         "India",
         "eyJzIjoiSkZLIiwiZSI6Ijk1NTY1MDU4IiwiaCI6IjI3NTM3NTQyIn0=",
         "95565058",
         "AIRPORT",
         "New York",
         "JFK",
         "CITY",
         "New York John F. Kennedy",
         "United States"
        ],
        [
         "eyJzIjoiREVMIiwiZSI6Ijk1NjczNDk4IiwiaCI6IjI3NTQwNzA2In0=",
         "95673498",
         "AIRPORT",
         "New Delhi",
         "DEL",
         "CITY",
         "Indira Gandhi International ",
         "India",
         "eyJzIjoiU1dGIiwiZSI6Ijk1NTY2MjgwIiwiaCI6IjI3NTM3NTQyIn0=",
         "95566280",
         "AIRPORT",
         "New York",
         "SWF",
         "CITY",
         "Stewart International",
         "United States"
        ],
        [
         "eyJzIjoiREVMIiwiZSI6Ijk1NjczNDk4IiwiaCI6IjI3NTQwNzA2In0=",
         "95673498",
         "AIRPORT",
         "New Delhi",
         "DEL",
         "CITY",
         "Indira Gandhi International ",
         "India",
         "eyJzIjoiTEdBIiwiZSI6Ijk1NTY1MDU3IiwiaCI6IjI3NTM3NTQyIn0=",
         "95565057",
         "AIRPORT",
         "New York",
         "LGA",
         "CITY",
         "New York LaGuardia",
         "United States"
        ],
        [
         "eyJzIjoiREVMIiwiZSI6Ijk1NjczNDk4IiwiaCI6IjI3NTQwNzA2In0=",
         "95673498",
         "AIRPORT",
         "New Delhi",
         "DEL",
         "CITY",
         "Indira Gandhi International ",
         "India",
         "eyJzIjoiRVdSIiwiZSI6Ijk1NTY1MDU5IiwiaCI6IjI3NTM3NTQyIn0=",
         "95565059",
         "AIRPORT",
         "New York",
         "EWR",
         "CITY",
         "New York Newark",
         "United States"
        ],
        [
         "eyJzIjoiREVMIiwiZSI6Ijk1NjczNDk4IiwiaCI6IjI3NTQwNzA2In0=",
         "95673498",
         "AIRPORT",
         "New Delhi",
         "DEL",
         "CITY",
         "Indira Gandhi International ",
         "India",
         "eyJzIjoiTkNMIiwiZSI6Ijk1Njc0MDQ0IiwiaCI6IjI3NTQ1MDkyIn0=",
         "95674044",
         "AIRPORT",
         "Newcastle",
         "NCL",
         "CITY",
         "Newcastle",
         "United Kingdom"
        ],
        [
         "eyJzIjoiREVMIiwiZSI6Ijk1NjczNDk4IiwiaCI6IjI3NTQwNzA2In0=",
         "95673498",
         "AIRPORT",
         "New Delhi",
         "DEL",
         "CITY",
         "Indira Gandhi International ",
         "India",
         "eyJzIjoiTlFZIiwiZSI6Ijk1NjczOTYzIiwiaCI6IjI3NTQ1MTQ5In0=",
         "95673963",
         "AIRPORT",
         "Newquay",
         "NQY",
         "CITY",
         "Newquay",
         "United Kingdom"
        ],
        [
         "eyJzIjoiREVMIiwiZSI6Ijk1NjczNDk4IiwiaCI6IjI3NTQwNzA2In0=",
         "95673498",
         "AIRPORT",
         "New Delhi",
         "DEL",
         "CITY",
         "Indira Gandhi International ",
         "India",
         "eyJzIjoiTllDQSIsImUiOiIyNzUzNzU0MiIsImgiOiIyNzUzNzU0MiJ9",
         "27537542",
         "CITY",
         "New York",
         "NYCA",
         "CITY",
         "New York",
         "United States"
        ]
       ],
       "datasetInfos": [],
       "dbfsResultPath": null,
       "isJsonSchema": true,
       "metadata": {},
       "overflow": false,
       "plotOptions": {
        "customPlotOptions": {},
        "displayType": "table",
        "pivotAggregation": null,
        "pivotColumns": null,
        "xColumns": null,
        "yColumns": null
       },
       "removedWidgets": [],
       "schema": [
        {
         "metadata": "{}",
         "name": "id",
         "type": "\"string\""
        },
        {
         "metadata": "{}",
         "name": "entityId",
         "type": "\"string\""
        },
        {
         "metadata": "{}",
         "name": "flightPlaceType",
         "type": "\"string\""
        },
        {
         "metadata": "{}",
         "name": "localizedName",
         "type": "\"string\""
        },
        {
         "metadata": "{}",
         "name": "skyId",
         "type": "\"string\""
        },
        {
         "metadata": "{}",
         "name": "entityType",
         "type": "\"string\""
        },
        {
         "metadata": "{}",
         "name": "title",
         "type": "\"string\""
        },
        {
         "metadata": "{}",
         "name": "subtitle",
         "type": "\"string\""
        },
        {
         "metadata": "{}",
         "name": "id",
         "type": "\"string\""
        },
        {
         "metadata": "{}",
         "name": "entityId",
         "type": "\"string\""
        },
        {
         "metadata": "{}",
         "name": "flightPlaceType",
         "type": "\"string\""
        },
        {
         "metadata": "{}",
         "name": "localizedName",
         "type": "\"string\""
        },
        {
         "metadata": "{}",
         "name": "skyId",
         "type": "\"string\""
        },
        {
         "metadata": "{}",
         "name": "entityType",
         "type": "\"string\""
        },
        {
         "metadata": "{}",
         "name": "title",
         "type": "\"string\""
        },
        {
         "metadata": "{}",
         "name": "subtitle",
         "type": "\"string\""
        }
       ],
       "type": "table"
      }
     },
     "output_type": "display_data"
    }
   ],
   "source": [
    "fromto.display()"
   ]
  },
  {
   "cell_type": "code",
   "execution_count": 0,
   "metadata": {
    "application/vnd.databricks.v1+cell": {
     "cellMetadata": {
      "byteLimit": 2048000,
      "rowLimit": 10000
     },
     "inputWidgets": {},
     "nuid": "e83a57e7-d99a-4688-875e-b759ee8c84a1",
     "showTitle": false,
     "title": ""
    }
   },
   "outputs": [],
   "source": [
    "from datetime import datetime\n",
    "airport = spark.read.table('Airport')\n",
    "# Get today's date in 'yyyy-MM-dd' format\n",
    "today_date = datetime.today().strftime('%Y-%m-%d')\n",
    "fromto = airport.alias(\"a1\").crossJoin(airport.alias(\"a2\")).filter(\"a1.id != a2.id\")\n",
    "# Create the 'flights' list\n",
    "flights_data = fromto.selectExpr(\n",
    "    \"a1.id as fromId\",\n",
    "    \"a2.id as toId\",\n",
    "    f'\"{today_date}\" as departDate'  # Using today's date\n",
    ").rdd.map(lambda row: {\n",
    "    \"fromId\": row.fromId,\n",
    "    \"toId\": row.toId,\n",
    "    \"departDate\": row.departDate\n",
    "}).collect()\n",
    "\n"
   ]
  },
  {
   "cell_type": "code",
   "execution_count": 0,
   "metadata": {
    "application/vnd.databricks.v1+cell": {
     "cellMetadata": {
      "byteLimit": 2048000,
      "rowLimit": 10000
     },
     "inputWidgets": {},
     "nuid": "24e0166e-731c-4297-9e53-5d371b72be11",
     "showTitle": false,
     "title": ""
    }
   },
   "outputs": [],
   "source": [
    "import requests\n",
    "import json\n",
    "from pyspark.sql.functions import *\n",
    "def callAPI(indata):\n",
    "    headers = {\n",
    "    \"x-rapidapi-host\": \"skyscanner80.p.rapidapi.com\",\n",
    "    \"x-rapidapi-key\": \"da5e4cb143mshb0961ab3efe73aep1f7bb7jsnd5bbdf38c6dc\"  \n",
    "    }\n",
    "    reqdata = {\"market\":\"IN\",\"locale\":\"en-GB\",\"currency\":\"INR\",\"adults\":1,\"children\":0,\"infants\":0,\"cabinClass\":\"economy\",\"flights\":[indata]}\n",
    "    json_data=json.dumps(reqdata)\n",
    "    response = requests.post('https://skyscanner80.p.rapidapi.com/api/v1/flights/search-multi-city', headers=headers,json=reqdata)\n",
    "    # Check if the request was successful\n",
    "    if response.status_code == 200:\n",
    "        # Parse JSON response\n",
    "        flight=response.json()['data']['itineraries']\n",
    "        rdd = spark.sparkContext.parallelize(flight)\n",
    "        tempdf = spark.createDataFrame(rdd,schema=schema)\n",
    "        return tempdf\n",
    "    else:\n",
    "        print(f\"Error: {response.status_code}, {response.text}\")\n"
   ]
  },
  {
   "cell_type": "code",
   "execution_count": 0,
   "metadata": {
    "application/vnd.databricks.v1+cell": {
     "cellMetadata": {
      "byteLimit": 2048000,
      "rowLimit": 10000
     },
     "inputWidgets": {},
     "nuid": "305091ed-f329-418e-9030-3e9acce65e76",
     "showTitle": false,
     "title": ""
    }
   },
   "outputs": [],
   "source": [
    "flightdf = spark.createDataFrame(spark.sparkContext.emptyRDD(), schema)\n",
    "for fd in flights_data:\n",
    "    tempdf = callAPI(fd)\n",
    "    flightdf=flightdf.union(tempdf)\n"
   ]
  },
  {
   "cell_type": "code",
   "execution_count": 0,
   "metadata": {
    "application/vnd.databricks.v1+cell": {
     "cellMetadata": {
      "byteLimit": 2048000,
      "rowLimit": 10000
     },
     "inputWidgets": {},
     "nuid": "d2c2efe9-4afb-4d98-b497-5b245c312851",
     "showTitle": false,
     "title": ""
    }
   },
   "outputs": [
    {
     "output_type": "display_data",
     "data": {
      "text/html": [
       "<style scoped>\n",
       "  .table-result-container {\n",
       "    max-height: 300px;\n",
       "    overflow: auto;\n",
       "  }\n",
       "  table, th, td {\n",
       "    border: 1px solid black;\n",
       "    border-collapse: collapse;\n",
       "  }\n",
       "  th, td {\n",
       "    padding: 5px;\n",
       "  }\n",
       "  th {\n",
       "    text-align: left;\n",
       "  }\n",
       "</style><div class='table-result-container'><table class='table-result'><thead style='background-color: white'><tr><th>id</th><th>price</th><th>legs</th><th>isSelfTransfer</th><th>isProtectedSelfTransfer</th><th>farePolicy</th><th>fareAttributes</th><th>tags</th><th>isMashUp</th><th>hasFlexibleOptions</th><th>score</th></tr></thead><tbody><tr><td>12712-2409302030--31799-1-10957-2410012340</td><td>List(40357, ₹40,357, SHs731JCnDQh)</td><td>List(List(12712-2409302030--31799-1-10957-2410012340, List(JFK, 95565058, New York John F. Kennedy, JFK, New York, United States, false), List(DEL, 95673498, Indira Gandhi International , DEL, New Delhi, India, false), 1060, 1, false, 2024-09-30T20:30:00, 2024-10-01T23:40:00, 1, List(List(List(-31799, https://logos.skyscnr.com/images/airlines/favicon/LX.png, SWISS)), fully_operated), List(List(12712-18563-2409302030-2410011025--31799, List(null, null, New York John F. Kennedy, JFK, null, United States, null), List(null, null, Zurich, ZRH, null, Switzerland, null), 2024-09-30T20:30:00, 2024-10-01T10:25:00, 475, 15, List(-31799, null, SWISS), List(-31799, null, SWISS)), List(18563-10957-2410011220-2410012340--31799, List(null, null, Zurich, ZRH, null, Switzerland, null), List(null, null, Indira Gandhi International , DEL, null, India, null), 2024-10-01T12:20:00, 2024-10-01T23:40:00, 470, 146, List(-31799, null, SWISS), List(-31799, null, SWISS)))))</td><td>false</td><td>false</td><td>List(false, false, false, false)</td><td>List()</td><td>List(second_cheapest, third_shortest)</td><td>false</td><td>false</td><td>0.999</td></tr><tr><td>12712-2409302300--32348-1-10957-2410020245</td><td>List(46340, ₹46,340, N7G8WPvTn9ZT)</td><td>List(List(12712-2409302300--32348-1-10957-2410020245, List(JFK, 95565058, New York John F. Kennedy, JFK, New York, United States, false), List(DEL, 95673498, Indira Gandhi International , DEL, New Delhi, India, false), 1095, 1, false, 2024-09-30T23:00:00, 2024-10-02T02:45:00, 2, List(List(List(-32348, https://logos.skyscnr.com/images/airlines/favicon/EK.png, Emirates)), fully_operated), List(List(12712-11182-2409302300-2410011945--32348, List(null, null, New York John F. Kennedy, JFK, null, United States, null), List(null, null, Dubai, DXB, null, United Arab Emirates, null), 2024-09-30T23:00:00, 2024-10-01T19:45:00, 765, 202, List(-32348, null, Emirates), List(-32348, null, Emirates)), List(11182-10957-2410012200-2410020245--32348, List(null, null, Dubai, DXB, null, United Arab Emirates, null), List(null, null, Indira Gandhi International , DEL, null, India, null), 2024-10-01T22:00:00, 2024-10-02T02:45:00, 195, 512, List(-32348, null, Emirates), List(-32348, null, Emirates)))))</td><td>false</td><td>false</td><td>List(false, false, false, false)</td><td>List()</td><td>null</td><td>false</td><td>false</td><td>0.868526</td></tr><tr><td>12712-2409302150--32090-1-10957-2410020055</td><td>List(42106, ₹42,106, BO5p7t7mju9W)</td><td>List(List(12712-2409302150--32090-1-10957-2410020055, List(JFK, 95565058, New York John F. Kennedy, JFK, New York, United States, false), List(DEL, 95673498, Indira Gandhi International , DEL, New Delhi, India, false), 1055, 1, false, 2024-09-30T21:50:00, 2024-10-02T00:55:00, 2, List(List(List(-32090, https://logos.skyscnr.com/images/airlines/favicon/LH.png, Lufthansa)), fully_operated), List(List(12712-11616-2409302150-2410011145--32090, List(null, null, New York John F. Kennedy, JFK, null, United States, null), List(null, null, Frankfurt am Main, FRA, null, Germany, null), 2024-09-30T21:50:00, 2024-10-01T11:45:00, 475, 405, List(-32090, null, Lufthansa), List(-32090, null, Lufthansa)), List(11616-10957-2410011320-2410020055--32090, List(null, null, Frankfurt am Main, FRA, null, Germany, null), List(null, null, Indira Gandhi International , DEL, null, India, null), 2024-10-01T13:20:00, 2024-10-02T00:55:00, 485, 760, List(-32090, null, Lufthansa), List(-32090, null, Lufthansa)))))</td><td>false</td><td>false</td><td>List(false, false, false, false)</td><td>List()</td><td>List(second_shortest)</td><td>false</td><td>false</td><td>0.754818</td></tr><tr><td>12712-2409301730--32090-1-10957-2410012330</td><td>List(40528, ₹40,528, 5QU9SVaTvv1C)</td><td>List(List(12712-2409301730--32090-1-10957-2410012330, List(JFK, 95565058, New York John F. Kennedy, JFK, New York, United States, false), List(DEL, 95673498, Indira Gandhi International , DEL, New Delhi, India, false), 1230, 1, false, 2024-09-30T17:30:00, 2024-10-01T23:30:00, 1, List(List(List(-32090, https://logos.skyscnr.com/images/airlines/favicon/LH.png, Lufthansa)), fully_operated), List(List(12712-14385-2409301730-2410010730--32090, List(null, null, New York John F. Kennedy, JFK, null, United States, null), List(null, null, Munich, MUC, null, Germany, null), 2024-09-30T17:30:00, 2024-10-01T07:30:00, 480, 411, List(-32090, null, Lufthansa), List(-32090, null, Lufthansa)), List(14385-10957-2410011220-2410012330--32090, List(null, null, Munich, MUC, null, Germany, null), List(null, null, Indira Gandhi International , DEL, null, India, null), 2024-10-01T12:20:00, 2024-10-01T23:30:00, 460, 762, List(-32090, null, Lufthansa), List(-32090, null, Lufthansa)))))</td><td>false</td><td>false</td><td>List(false, false, false, false)</td><td>List()</td><td>List(third_cheapest)</td><td>false</td><td>false</td><td>0.595381</td></tr><tr><td>12712-2409302045--32573-0-10957-2410012100</td><td>List(69815.97, ₹69,816, rOvkrHZ40-0s)</td><td>List(List(12712-2409302045--32573-0-10957-2410012100, List(JFK, 95565058, New York John F. Kennedy, JFK, New York, United States, false), List(DEL, 95673498, Indira Gandhi International , DEL, New Delhi, India, false), 885, 0, false, 2024-09-30T20:45:00, 2024-10-01T21:00:00, 1, List(List(List(-32573, https://logos.skyscnr.com/images/airlines/favicon/AA.png, American Airlines)), fully_operated), List(List(12712-10957-2409302045-2410012100--32573, List(null, null, New York John F. Kennedy, JFK, null, United States, null), List(null, null, Indira Gandhi International , DEL, null, India, null), 2024-09-30T20:45:00, 2024-10-01T21:00:00, 885, 292, List(-32573, null, American Airlines), List(-32573, null, American Airlines)))))</td><td>false</td><td>false</td><td>List(false, false, false, false)</td><td>List()</td><td>List(shortest)</td><td>false</td><td>false</td><td>0.593666</td></tr><tr><td>12712-2409301400--32339-1-10957-2410011935</td><td>List(60351, ₹60,351, Nh6CTbz27C1L)</td><td>List(List(12712-2409301400--32339-1-10957-2410011935, List(JFK, 95565058, New York John F. Kennedy, JFK, New York, United States, false), List(DEL, 95673498, Indira Gandhi International , DEL, New Delhi, India, false), 1205, 1, false, 2024-09-30T14:00:00, 2024-10-01T19:35:00, 1, List(List(List(-32339, https://logos.skyscnr.com/images/airlines/favicon/60.png, Etihad Airways)), fully_operated), List(List(12712-9618-2409301400-2410011100--32339, List(null, null, New York John F. Kennedy, JFK, null, United States, null), List(null, null, Zayed International, AUH, null, United Arab Emirates, null), 2024-09-30T14:00:00, 2024-10-01T11:00:00, 780, 2, List(-32339, null, Etihad Airways), List(-32339, null, Etihad Airways)), List(9618-10957-2410011430-2410011935--32339, List(null, null, Zayed International, AUH, null, United Arab Emirates, null), List(null, null, Indira Gandhi International , DEL, null, India, null), 2024-10-01T14:30:00, 2024-10-01T19:35:00, 215, 224, List(-32339, null, Etihad Airways), List(-32339, null, Etihad Airways)))))</td><td>false</td><td>false</td><td>List(false, false, false, false)</td><td>List()</td><td>null</td><td>false</td><td>false</td><td>0.559196</td></tr><tr><td>12712-2409301925--32213-1-10957-2410020505</td><td>List(39745, ₹39,745, FJohTQJz02HA)</td><td>List(List(12712-2409301925--32213-1-10957-2410020505, List(JFK, 95565058, New York John F. Kennedy, JFK, New York, United States, false), List(DEL, 95673498, Indira Gandhi International , DEL, New Delhi, India, false), 1450, 1, false, 2024-09-30T19:25:00, 2024-10-02T05:05:00, 2, List(List(List(-32213, https://logos.skyscnr.com/images/airlines/favicon/49.png, IndiGo)), partially_operated), List(List(12712-12585-2409301925-2410011230--32213, List(null, null, New York John F. Kennedy, JFK, null, United States, null), List(null, null, Istanbul, IST, null, Türkiye (Turkey), null), 2024-09-30T19:25:00, 2024-10-01T12:30:00, 605, 4236, List(-32213, null, IndiGo), List(-31734, null, Turkish Airlines)), List(12585-10957-2410012005-2410020505--32213, List(null, null, Istanbul, IST, null, Türkiye (Turkey), null), List(null, null, Indira Gandhi International , DEL, null, India, null), 2024-10-01T20:05:00, 2024-10-02T05:05:00, 390, 12, List(-32213, null, IndiGo), List(-32213, null, IndiGo)))))</td><td>false</td><td>false</td><td>List(false, false, false, false)</td><td>List()</td><td>List(cheapest)</td><td>false</td><td>false</td><td>0.557399</td></tr><tr><td>12712-2409301615--31799-1-10957-2410012340</td><td>List(41650, ₹41,650, QUnJ-NHmj2em)</td><td>List(List(12712-2409301615--31799-1-10957-2410012340, List(JFK, 95565058, New York John F. Kennedy, JFK, New York, United States, false), List(DEL, 95673498, Indira Gandhi International , DEL, New Delhi, India, false), 1315, 1, false, 2024-09-30T16:15:00, 2024-10-01T23:40:00, 1, List(List(List(-31799, https://logos.skyscnr.com/images/airlines/favicon/LX.png, SWISS)), fully_operated), List(List(12712-18563-2409301615-2410010610--31799, List(null, null, New York John F. Kennedy, JFK, null, United States, null), List(null, null, Zurich, ZRH, null, Switzerland, null), 2024-09-30T16:15:00, 2024-10-01T06:10:00, 475, 17, List(-31799, null, SWISS), List(-31799, null, SWISS)), List(18563-10957-2410011220-2410012340--31799, List(null, null, Zurich, ZRH, null, Switzerland, null), List(null, null, Indira Gandhi International , DEL, null, India, null), 2024-10-01T12:20:00, 2024-10-01T23:40:00, 470, 146, List(-31799, null, SWISS), List(-31799, null, SWISS)))))</td><td>false</td><td>false</td><td>List(false, false, false, false)</td><td>List()</td><td>null</td><td>false</td><td>false</td><td>0.551061</td></tr><tr><td>12712-2409302130--31939-1-10957-2410020155</td><td>List(56792, ₹56,792, 4OvL84JbSqY9)</td><td>List(List(12712-2409302130--31939-1-10957-2410020155, List(JFK, 95565058, New York John F. Kennedy, JFK, New York, United States, false), List(DEL, 95673498, Indira Gandhi International , DEL, New Delhi, India, false), 1135, 1, false, 2024-09-30T21:30:00, 2024-10-02T01:55:00, 2, List(List(List(-31939, https://logos.skyscnr.com/images/airlines/favicon/QR.png, Qatar Airways)), fully_operated), List(List(12712-11089-2409302130-2410011650--31939, List(null, null, New York John F. Kennedy, JFK, null, United States, null), List(null, null, Hamad International, DOH, null, Qatar, null), 2024-09-30T21:30:00, 2024-10-01T16:50:00, 740, 702, List(-31939, null, Qatar Airways), List(-31939, null, Qatar Airways)), List(11089-10957-2410011930-2410020155--31939, List(null, null, Hamad International, DOH, null, Qatar, null), List(null, null, Indira Gandhi International , DEL, null, India, null), 2024-10-01T19:30:00, 2024-10-02T01:55:00, 235, 578, List(-31939, null, Qatar Airways), List(-31939, null, Qatar Airways)))))</td><td>false</td><td>false</td><td>List(false, false, false, false)</td><td>List()</td><td>null</td><td>false</td><td>false</td><td>0.542994</td></tr><tr><td>12712-2409302235--32339-1-10957-2410020315</td><td>List(64305, ₹64,305, -M49zSLXfq0n)</td><td>List(List(12712-2409302235--32339-1-10957-2410020315, List(JFK, 95565058, New York John F. Kennedy, JFK, New York, United States, false), List(DEL, 95673498, Indira Gandhi International , DEL, New Delhi, India, false), 1150, 1, false, 2024-09-30T22:35:00, 2024-10-02T03:15:00, 2, List(List(List(-32339, https://logos.skyscnr.com/images/airlines/favicon/60.png, Etihad Airways)), fully_operated), List(List(12712-9618-2409302235-2410011930--32339, List(null, null, New York John F. Kennedy, JFK, null, United States, null), List(null, null, Zayed International, AUH, null, United Arab Emirates, null), 2024-09-30T22:35:00, 2024-10-01T19:30:00, 775, 4, List(-32339, null, Etihad Airways), List(-32339, null, Etihad Airways)), List(9618-10957-2410012210-2410020315--32339, List(null, null, Zayed International, AUH, null, United Arab Emirates, null), List(null, null, Indira Gandhi International , DEL, null, India, null), 2024-10-01T22:10:00, 2024-10-02T03:15:00, 215, 218, List(-32339, null, Etihad Airways), List(-32339, null, Etihad Airways)))))</td><td>false</td><td>false</td><td>List(false, false, false, false)</td><td>List()</td><td>null</td><td>false</td><td>false</td><td>0.536228</td></tr><tr><td>12712-2409301655--32753-1-14585-2410010755</td><td>List(75570.02, ₹75,571, _zIxOLA4YAe-)</td><td>List(List(12712-2409301655--32753-1-14585-2410010755, List(JFK, 95565058, New York John F. Kennedy, JFK, New York, United States, false), List(NCL, 95674044, Newcastle, NCL, Newcastle, United Kingdom, false), 600, 1, false, 2024-09-30T16:55:00, 2024-10-01T07:55:00, 1, List(List(List(-32753, https://logos.skyscnr.com/images/airlines/favicon/EI.png, Aer Lingus)), partially_operated), List(List(12712-11154-2409301655-2410010425--32753, List(null, null, New York John F. Kennedy, JFK, null, United States, null), List(null, null, Dublin, DUB, null, Ireland, null), 2024-09-30T16:55:00, 2024-10-01T04:25:00, 390, 104, List(-32753, null, Aer Lingus), List(-32753, null, Aer Lingus)), List(11154-14585-2410010635-2410010755--32753, List(null, null, Dublin, DUB, null, Ireland, null), List(null, null, Newcastle, NCL, null, United Kingdom, null), 2024-10-01T06:35:00, 2024-10-01T07:55:00, 80, 3350, List(-32753, null, Aer Lingus), List(-30651, null, Emerald Airlines)))))</td><td>false</td><td>false</td><td>List(false, false, false, false)</td><td>List()</td><td>List(cheapest, shortest)</td><td>false</td><td>false</td><td>0.9999</td></tr><tr><td>12712-2409302105--32753-1-14773-2410011245</td><td>List(76051.96, ₹76,052, zdiLNtD5ZNfa)</td><td>List(List(12712-2409302105--32753-1-14773-2410011245, List(JFK, 95565058, New York John F. Kennedy, JFK, New York, United States, false), List(NQY, 95673963, Newquay, NQY, Newquay, United Kingdom, false), 640, 1, false, 2024-09-30T21:05:00, 2024-10-01T12:45:00, 1, List(List(List(-32753, https://logos.skyscnr.com/images/airlines/favicon/EI.png, Aer Lingus)), partially_operated), List(List(12712-11154-2409302105-2410010850--32753, List(null, null, New York John F. Kennedy, JFK, null, United States, null), List(null, null, Dublin, DUB, null, Ireland, null), 2024-09-30T21:05:00, 2024-10-01T08:50:00, 405, 106, List(-32753, null, Aer Lingus), List(-32753, null, Aer Lingus)), List(11154-14773-2410011125-2410011245--32753, List(null, null, Dublin, DUB, null, Ireland, null), List(null, null, Newquay, NQY, null, United Kingdom, null), 2024-10-01T11:25:00, 2024-10-01T12:45:00, 80, 3930, List(-32753, null, Aer Lingus), List(-30651, null, Emerald Airlines)))))</td><td>false</td><td>false</td><td>List(false, false, false, false)</td><td>List()</td><td>List(cheapest, shortest)</td><td>false</td><td>false</td><td>0.999</td></tr><tr><td>12712-2409301655--32753-1-14773-2410011245</td><td>List(76051.96, ₹76,052, ts12X1DFpT5C)</td><td>List(List(12712-2409301655--32753-1-14773-2410011245, List(JFK, 95565058, New York John F. Kennedy, JFK, New York, United States, false), List(NQY, 95673963, Newquay, NQY, Newquay, United Kingdom, false), 890, 1, false, 2024-09-30T16:55:00, 2024-10-01T12:45:00, 1, List(List(List(-32753, https://logos.skyscnr.com/images/airlines/favicon/EI.png, Aer Lingus)), partially_operated), List(List(12712-11154-2409301655-2410010425--32753, List(null, null, New York John F. Kennedy, JFK, null, United States, null), List(null, null, Dublin, DUB, null, Ireland, null), 2024-09-30T16:55:00, 2024-10-01T04:25:00, 390, 104, List(-32753, null, Aer Lingus), List(-32753, null, Aer Lingus)), List(11154-14773-2410011125-2410011245--32753, List(null, null, Dublin, DUB, null, Ireland, null), List(null, null, Newquay, NQY, null, United Kingdom, null), 2024-10-01T11:25:00, 2024-10-01T12:45:00, 80, 3930, List(-32753, null, Aer Lingus), List(-30651, null, Emerald Airlines)))))</td><td>false</td><td>false</td><td>List(false, false, false, false)</td><td>List()</td><td>List(second_cheapest, second_shortest)</td><td>false</td><td>false</td><td>0.719039</td></tr><tr><td>10957-2409302330--32573-0-12712-2410010620</td><td>List(54830.4, ₹54,831, Qt06DHAxXnHL)</td><td>List(List(10957-2409302330--32573-0-12712-2410010620, List(DEL, 95673498, Indira Gandhi International , DEL, New Delhi, India, false), List(JFK, 95565058, New York John F. Kennedy, JFK, New York, United States, false), 980, 0, false, 2024-09-30T23:30:00, 2024-10-01T06:20:00, 1, List(List(List(-32573, https://logos.skyscnr.com/images/airlines/favicon/AA.png, American Airlines)), fully_operated), List(List(10957-12712-2409302330-2410010620--32573, List(null, null, Indira Gandhi International , DEL, null, India, null), List(null, null, New York John F. Kennedy, JFK, null, United States, null), 2024-09-30T23:30:00, 2024-10-01T06:20:00, 980, 293, List(-32573, null, American Airlines), List(-32573, null, American Airlines)))))</td><td>false</td><td>false</td><td>List(false, false, false, false)</td><td>List()</td><td>List(second_cheapest, shortest)</td><td>false</td><td>false</td><td>0.999</td></tr><tr><td>10957-2409302330--32213-2-12712-2410011730</td><td>List(49091, ₹49,091, hZkoEKjCBVio)</td><td>List(List(10957-2409302330--32213-2-12712-2410011730, List(DEL, 95673498, Indira Gandhi International , DEL, New Delhi, India, false), List(JFK, 95565058, New York John F. Kennedy, JFK, New York, United States, false), 1650, 2, false, 2024-09-30T23:30:00, 2024-10-01T17:30:00, 1, List(List(List(-32213, https://logos.skyscnr.com/images/airlines/favicon/49.png, IndiGo)), partially_operated), List(List(10957-10075-2409302330-2410010140--32213, List(null, null, Indira Gandhi International , DEL, null, India, null), List(null, null, Mumbai, BOM, null, India, null), 2024-09-30T23:30:00, 2024-10-01T01:40:00, 130, 2159, List(-32213, null, IndiGo), List(-32213, null, IndiGo)), List(10075-12585-2410010655-2410011140--32213, List(null, null, Mumbai, BOM, null, India, null), List(null, null, Istanbul, IST, null, Türkiye (Turkey), null), 2024-10-01T06:55:00, 2024-10-01T11:40:00, 435, 17, List(-32213, null, IndiGo), List(-32213, null, IndiGo)), List(12585-12712-2410011345-2410011730--32213, List(null, null, Istanbul, IST, null, Türkiye (Turkey), null), List(null, null, New York John F. Kennedy, JFK, null, United States, null), 2024-10-01T13:45:00, 2024-10-01T17:30:00, 645, 4234, List(-32213, null, IndiGo), List(-31734, null, Turkish Airlines)))))</td><td>false</td><td>false</td><td>List(false, false, false, false)</td><td>List()</td><td>List(cheapest, second_shortest)</td><td>false</td><td>false</td><td>0.627706</td></tr><tr><td>10957-2409302330--31697-2-12712-2410012110</td><td>List(75789, ₹75,789, 1Odl_roeDWvd)</td><td>List(List(10957-2409302330--31697-2-12712-2410012110, List(DEL, 95673498, Indira Gandhi International , DEL, New Delhi, India, false), List(JFK, 95565058, New York John F. Kennedy, JFK, New York, United States, false), 1870, 2, false, 2024-09-30T23:30:00, 2024-10-01T21:10:00, 1, List(List(List(-31697, https://logos.skyscnr.com/images/airlines/favicon/VS.png, Virgin Atlantic)), partially_operated), List(List(10957-10075-2409302330-2410010140--31697, List(null, null, Indira Gandhi International , DEL, null, India, null), List(null, null, Mumbai, BOM, null, India, null), 2024-09-30T23:30:00, 2024-10-01T01:40:00, 130, 8292, List(-31697, null, Virgin Atlantic), List(-32213, null, IndiGo)), List(10075-13554-2410011045-2410011605--31697, List(null, null, Mumbai, BOM, null, India, null), List(null, null, London Heathrow, LHR, null, United Kingdom, null), 2024-10-01T10:45:00, 2024-10-01T16:05:00, 590, 355, List(-31697, null, Virgin Atlantic), List(-31697, null, Virgin Atlantic)), List(13554-12712-2410011825-2410012110--31697, List(null, null, London Heathrow, LHR, null, United Kingdom, null), List(null, null, New York John F. Kennedy, JFK, null, United States, null), 2024-10-01T18:25:00, 2024-10-01T21:10:00, 465, 137, List(-31697, null, Virgin Atlantic), List(-31697, null, Virgin Atlantic)))))</td><td>false</td><td>false</td><td>List(false, false, false, false)</td><td>List()</td><td>List(third_cheapest, third_shortest)</td><td>false</td><td>false</td><td>0.339429</td></tr><tr><td>10957-2409302335--32090-0-11442-2410010625</td><td>List(66696.2, ₹66,697, 6KadzpThIuGE)</td><td>List(List(10957-2409302335--32090-0-11442-2410010625, List(DEL, 95673498, Indira Gandhi International , DEL, New Delhi, India, false), List(EWR, 95565059, New York Newark, EWR, New York, United States, false), 980, 0, false, 2024-09-30T23:35:00, 2024-10-01T06:25:00, 1, List(List(List(-32090, https://logos.skyscnr.com/images/airlines/favicon/LH.png, Lufthansa)), not_operated), List(List(10957-11442-2409302335-2410010625--32090, List(null, null, Indira Gandhi International , DEL, null, India, null), List(null, null, New York Newark, EWR, null, United States, null), 2024-09-30T23:35:00, 2024-10-01T06:25:00, 980, 83, List(-32090, null, Lufthansa), List(-31722, null, United)))))</td><td>false</td><td>false</td><td>List(false, false, false, false)</td><td>List()</td><td>List(cheapest, shortest)</td><td>false</td><td>false</td><td>0.999</td></tr><tr><td>10957-2409302335--31722-0-11442-2410010625</td><td>List(68226.87, ₹68,227, ZvoiNL2-l8hy)</td><td>List(List(10957-2409302335--31722-0-11442-2410010625, List(DEL, 95673498, Indira Gandhi International , DEL, New Delhi, India, false), List(EWR, 95565059, New York Newark, EWR, New York, United States, false), 980, 0, false, 2024-09-30T23:35:00, 2024-10-01T06:25:00, 1, List(List(List(-31722, https://logos.skyscnr.com/images/airlines/favicon/UA.png, United)), fully_operated), List(List(10957-11442-2409302335-2410010625--31722, List(null, null, Indira Gandhi International , DEL, null, India, null), List(null, null, New York Newark, EWR, null, United States, null), 2024-09-30T23:35:00, 2024-10-01T06:25:00, 980, 83, List(-31722, null, United), List(-31722, null, United)))))</td><td>false</td><td>false</td><td>List(false, false, false, false)</td><td>List()</td><td>List(second_cheapest, second_shortest)</td><td>false</td><td>false</td><td>0.977575</td></tr><tr><td>10957-2409302330--32573-0-12712-2410010620</td><td>List(54773.28, ₹54,774, Qt06DHAxXnHL)</td><td>List(List(10957-2409302330--32573-0-12712-2410010620, List(DEL, 95673498, Indira Gandhi International , DEL, New Delhi, India, false), List(JFK, 95565058, New York John F. Kennedy, JFK, New York, United States, false), 980, 0, false, 2024-09-30T23:30:00, 2024-10-01T06:20:00, 1, List(List(List(-32573, https://logos.skyscnr.com/images/airlines/favicon/AA.png, American Airlines)), fully_operated), List(List(10957-12712-2409302330-2410010620--32573, List(null, null, Indira Gandhi International , DEL, null, India, null), List(null, null, New York John F. Kennedy, JFK, null, United States, null), 2024-09-30T23:30:00, 2024-10-01T06:20:00, 980, 293, List(-32573, null, American Airlines), List(-32573, null, American Airlines)))))</td><td>false</td><td>false</td><td>List(false, false, false, false)</td><td>List()</td><td>List(cheapest, shortest)</td><td>false</td><td>false</td><td>0.999</td></tr><tr><td>10957-2409302335--31722-0-11442-2410010625</td><td>List(68226.87, ₹68,227, ZvoiNL2-l8hy)</td><td>List(List(10957-2409302335--31722-0-11442-2410010625, List(DEL, 95673498, Indira Gandhi International , DEL, New Delhi, India, false), List(EWR, 95565059, New York Newark, EWR, New York, United States, false), 980, 0, false, 2024-09-30T23:35:00, 2024-10-01T06:25:00, 1, List(List(List(-31722, https://logos.skyscnr.com/images/airlines/favicon/UA.png, United)), fully_operated), List(List(10957-11442-2409302335-2410010625--31722, List(null, null, Indira Gandhi International , DEL, null, India, null), List(null, null, New York Newark, EWR, null, United States, null), 2024-09-30T23:35:00, 2024-10-01T06:25:00, 980, 83, List(-31722, null, United), List(-31722, null, United)))))</td><td>false</td><td>false</td><td>List(false, false, false, false)</td><td>List()</td><td>List(second_cheapest, second_shortest)</td><td>false</td><td>false</td><td>0.73656</td></tr><tr><td>10957-2409302330--32213-2-12712-2410011730</td><td>List(71447.83, ₹71,448, arnJsE9GGWc9)</td><td>List(List(10957-2409302330--32213-2-12712-2410011730, List(DEL, 95673498, Indira Gandhi International , DEL, New Delhi, India, false), List(JFK, 95565058, New York John F. Kennedy, JFK, New York, United States, false), 1650, 2, false, 2024-09-30T23:30:00, 2024-10-01T17:30:00, 1, List(List(List(-32213, https://logos.skyscnr.com/images/airlines/favicon/49.png, IndiGo)), partially_operated), List(List(10957-10075-2409302330-2410010140--32213, List(null, null, Indira Gandhi International , DEL, null, India, null), List(null, null, Mumbai, BOM, null, India, null), 2024-09-30T23:30:00, 2024-10-01T01:40:00, 130, 2159, List(-32213, null, IndiGo), List(-32213, null, IndiGo)), List(10075-12585-2410010635-2410011055--32213, List(null, null, Mumbai, BOM, null, India, null), List(null, null, Istanbul, IST, null, Türkiye (Turkey), null), 2024-10-01T06:35:00, 2024-10-01T10:55:00, 410, 4103, List(-32213, null, IndiGo), List(-31734, null, Turkish Airlines)), List(12585-12712-2410011345-2410011730--32213, List(null, null, Istanbul, IST, null, Türkiye (Turkey), null), List(null, null, New York John F. Kennedy, JFK, null, United States, null), 2024-10-01T13:45:00, 2024-10-01T17:30:00, 645, 4234, List(-32213, null, IndiGo), List(-31734, null, Turkish Airlines)))))</td><td>false</td><td>false</td><td>List(false, false, false, false)</td><td>List()</td><td>List(third_cheapest, third_shortest)</td><td>false</td><td>false</td><td>0.4862</td></tr><tr><td>10957-2409302330--31697-2-12712-2410012110</td><td>List(75789, ₹75,789, 1Odl_roeDWvd)</td><td>List(List(10957-2409302330--31697-2-12712-2410012110, List(DEL, 95673498, Indira Gandhi International , DEL, New Delhi, India, false), List(JFK, 95565058, New York John F. Kennedy, JFK, New York, United States, false), 1870, 2, false, 2024-09-30T23:30:00, 2024-10-01T21:10:00, 1, List(List(List(-31697, https://logos.skyscnr.com/images/airlines/favicon/VS.png, Virgin Atlantic)), partially_operated), List(List(10957-10075-2409302330-2410010140--31697, List(null, null, Indira Gandhi International , DEL, null, India, null), List(null, null, Mumbai, BOM, null, India, null), 2024-09-30T23:30:00, 2024-10-01T01:40:00, 130, 8292, List(-31697, null, Virgin Atlantic), List(-32213, null, IndiGo)), List(10075-13554-2410011045-2410011605--31697, List(null, null, Mumbai, BOM, null, India, null), List(null, null, London Heathrow, LHR, null, United Kingdom, null), 2024-10-01T10:45:00, 2024-10-01T16:05:00, 590, 355, List(-31697, null, Virgin Atlantic), List(-31697, null, Virgin Atlantic)), List(13554-12712-2410011825-2410012110--31697, List(null, null, London Heathrow, LHR, null, United Kingdom, null), List(null, null, New York John F. Kennedy, JFK, null, United States, null), 2024-10-01T18:25:00, 2024-10-01T21:10:00, 465, 137, List(-31697, null, Virgin Atlantic), List(-31697, null, Virgin Atlantic)))))</td><td>false</td><td>false</td><td>List(false, false, false, false)</td><td>List()</td><td>null</td><td>false</td><td>false</td><td>0.378717</td></tr><tr><td>16643-2409301915--30789,-31714-3-10957-2410021215</td><td>List(67463.77, ₹67,464, arlk67yAY_Lk)</td><td>List(List(16643-2409301915--30789,-31714-3-10957-2410021215, List(SWF, 95566280, Stewart International, SWF, New York, United States, false), List(DEL, 95673498, Indira Gandhi International , DEL, New Delhi, India, false), 1890, 3, false, 2024-09-30T19:15:00, 2024-10-02T12:15:00, 2, List(List(List(-30789, https://logos.skyscnr.com/images/airlines/favicon/PA.png, Fly Play), List(-31714, https://logos.skyscnr.com/images/airlines/favicon/HY.png, Uzbekistan Airways)), fully_operated), List(List(16643-12974-2409301915-2410010450--30789, List(null, null, Stewart International, SWF, null, United States, null), List(null, null, Reykjavik Keflavik, KEF, null, Iceland, null), 2024-09-30T19:15:00, 2024-10-01T04:50:00, 335, 122, List(-30789, null, Fly Play), List(-30789, null, Fly Play)), List(12974-10413-2410010600-2410011130--30789, List(null, null, Reykjavik Keflavik, KEF, null, Iceland, null), List(null, null, Paris Charles de Gaulle, CDG, null, France, null), 2024-10-01T06:00:00, 2024-10-01T11:30:00, 210, 400, List(-30789, null, Fly Play), List(-30789, null, Fly Play)), List(10413-16759-2410011950-2410020530--31714, List(null, null, Paris Charles de Gaulle, CDG, null, France, null), List(null, null, Tashkent, TAS, null, Uzbekistan, null), 2024-10-01T19:50:00, 2024-10-02T05:30:00, 400, 252, List(-31714, null, Uzbekistan Airways), List(-31714, null, Uzbekistan Airways)), List(16759-10957-2410020845-2410021215--31714, List(null, null, Tashkent, TAS, null, Uzbekistan, null), List(null, null, Indira Gandhi International , DEL, null, India, null), 2024-10-02T08:45:00, 2024-10-02T12:15:00, 180, 423, List(-31714, null, Uzbekistan Airways), List(-31714, null, Uzbekistan Airways)))))</td><td>false</td><td>true</td><td>List(false, false, false, false)</td><td>List()</td><td>List(cheapest)</td><td>false</td><td>false</td><td>0.999</td></tr><tr><td>16643-2409301915--30789,-32672-2-10957-2410020810</td><td>List(73325.88, ₹73,326, U2tE-WTsHAOM)</td><td>List(List(16643-2409301915--30789,-32672-2-10957-2410020810, List(SWF, 95566280, Stewart International, SWF, New York, United States, false), List(DEL, 95673498, Indira Gandhi International , DEL, New Delhi, India, false), 1645, 2, false, 2024-09-30T19:15:00, 2024-10-02T08:10:00, 2, List(List(List(-30789, https://logos.skyscnr.com/images/airlines/favicon/PA.png, Fly Play), List(-32672, https://logos.skyscnr.com/images/airlines/favicon/AI.png, Air India)), fully_operated), List(List(16643-12974-2409301915-2410010450--30789, List(null, null, Stewart International, SWF, null, United States, null), List(null, null, Reykjavik Keflavik, KEF, null, Iceland, null), 2024-09-30T19:15:00, 2024-10-01T04:50:00, 335, 122, List(-30789, null, Fly Play), List(-30789, null, Fly Play)), List(12974-10413-2410010600-2410011130--30789, List(null, null, Reykjavik Keflavik, KEF, null, Iceland, null), List(null, null, Paris Charles de Gaulle, CDG, null, France, null), 2024-10-01T06:00:00, 2024-10-01T11:30:00, 210, 400, List(-30789, null, Fly Play), List(-30789, null, Fly Play)), List(10413-10957-2410012035-2410020810--32672, List(null, null, Paris Charles de Gaulle, CDG, null, France, null), List(null, null, Indira Gandhi International , DEL, null, India, null), 2024-10-01T20:35:00, 2024-10-02T08:10:00, 485, 142, List(-32672, null, Air India), List(-32672, null, Air India)))))</td><td>false</td><td>true</td><td>List(false, false, false, false)</td><td>List()</td><td>List(second_cheapest, third_shortest)</td><td>false</td><td>false</td><td>0.917466</td></tr><tr><td>16643-2409301915--30789,-32119-3-10957-2410020555</td><td>List(86390.61, ₹86,391, 68ayPuxqH5hJ)</td><td>List(List(16643-2409301915--30789,-32119-3-10957-2410020555, List(SWF, 95566280, Stewart International, SWF, New York, United States, false), List(DEL, 95673498, Indira Gandhi International , DEL, New Delhi, India, false), 1510, 3, false, 2024-09-30T19:15:00, 2024-10-02T05:55:00, 2, List(List(List(-30789, https://logos.skyscnr.com/images/airlines/favicon/PA.png, Fly Play), List(-32119, https://logos.skyscnr.com/images/airlines/favicon/KU.png, Kuwait Airways)), fully_operated), List(List(16643-12974-2409301915-2410010450--30789, List(null, null, Stewart International, SWF, null, United States, null), List(null, null, Reykjavik Keflavik, KEF, null, Iceland, null), 2024-09-30T19:15:00, 2024-10-01T04:50:00, 335, 122, List(-30789, null, Fly Play), List(-30789, null, Fly Play)), List(12974-10413-2410010600-2410011130--30789, List(null, null, Reykjavik Keflavik, KEF, null, Iceland, null), List(null, null, Paris Charles de Gaulle, CDG, null, France, null), 2024-10-01T06:00:00, 2024-10-01T11:30:00, 210, 400, List(-30789, null, Fly Play), List(-30789, null, Fly Play)), List(10413-13344-2410011510-2410012205--32119, List(null, null, Paris Charles de Gaulle, CDG, null, France, null), List(null, null, Kuwait, KWI, null, Kuwait, null), 2024-10-01T15:10:00, 2024-10-01T22:05:00, 355, 168, List(-32119, null, Kuwait Airways), List(-32119, null, Kuwait Airways)), List(13344-10957-2410012310-2410020555--32119, List(null, null, Kuwait, KWI, null, Kuwait, null), List(null, null, Indira Gandhi International , DEL, null, India, null), 2024-10-01T23:10:00, 2024-10-02T05:55:00, 255, 383, List(-32119, null, Kuwait Airways), List(-32119, null, Kuwait Airways)))))</td><td>false</td><td>true</td><td>List(false, false, false, false)</td><td>List()</td><td>List(second_shortest)</td><td>false</td><td>false</td><td>0.79437</td></tr><tr><td>16643-2409301915--30789,-31435-2-10957-2410021005</td><td>List(73474.37, ₹73,475, tHBxIuYas2lM)</td><td>List(List(16643-2409301915--30789,-31435-2-10957-2410021005, List(SWF, 95566280, Stewart International, SWF, New York, United States, false), List(DEL, 95673498, Indira Gandhi International , DEL, New Delhi, India, false), 1760, 2, false, 2024-09-30T19:15:00, 2024-10-02T10:05:00, 2, List(List(List(-30789, https://logos.skyscnr.com/images/airlines/favicon/PA.png, Fly Play), List(-31435, https://logos.skyscnr.com/images/airlines/favicon/IK.png, Vistara)), fully_operated), List(List(16643-12974-2409301915-2410010450--30789, List(null, null, Stewart International, SWF, null, United States, null), List(null, null, Reykjavik Keflavik, KEF, null, Iceland, null), 2024-09-30T19:15:00, 2024-10-01T04:50:00, 335, 122, List(-30789, null, Fly Play), List(-30789, null, Fly Play)), List(12974-10413-2410010600-2410011130--30789, List(null, null, Reykjavik Keflavik, KEF, null, Iceland, null), List(null, null, Paris Charles de Gaulle, CDG, null, France, null), 2024-10-01T06:00:00, 2024-10-01T11:30:00, 210, 400, List(-30789, null, Fly Play), List(-30789, null, Fly Play)), List(10413-10957-2410012225-2410021005--31435, List(null, null, Paris Charles de Gaulle, CDG, null, France, null), List(null, null, Indira Gandhi International , DEL, null, India, null), 2024-10-01T22:25:00, 2024-10-02T10:05:00, 490, 22, List(-31435, null, Vistara), List(-31435, null, Vistara)))))</td><td>false</td><td>true</td><td>List(false, false, false, false)</td><td>List()</td><td>List(third_cheapest)</td><td>false</td><td>false</td><td>0.727342</td></tr><tr><td>16643-2409301915--30789,-32317-3-10957-2410020520</td><td>List(105045.07, ₹105,046, vccuZ32rbBEB)</td><td>List(List(16643-2409301915--30789,-32317-3-10957-2410020520, List(SWF, 95566280, Stewart International, SWF, New York, United States, false), List(DEL, 95673498, Indira Gandhi International , DEL, New Delhi, India, false), 1475, 3, false, 2024-09-30T19:15:00, 2024-10-02T05:20:00, 2, List(List(List(-30789, https://logos.skyscnr.com/images/airlines/favicon/PA.png, Fly Play), List(-32317, https://logos.skyscnr.com/images/airlines/favicon/AY.png, Finnair)), partially_operated), List(List(16643-12974-2409301915-2410010450--30789, List(null, null, Stewart International, SWF, null, United States, null), List(null, null, Reykjavik Keflavik, KEF, null, Iceland, null), 2024-09-30T19:15:00, 2024-10-01T04:50:00, 335, 122, List(-30789, null, Fly Play), List(-30789, null, Fly Play)), List(12974-10694-2410010625-2410011140--30789, List(null, null, Reykjavik Keflavik, KEF, null, Iceland, null), List(null, null, Copenhagen, CPH, null, Denmark, null), 2024-10-01T06:25:00, 2024-10-01T11:40:00, 195, 900, List(-30789, null, Fly Play), List(-30789, null, Fly Play)), List(10694-12126-2410011315-2410011545--32317, List(null, null, Copenhagen, CPH, null, Denmark, null), List(null, null, Helsinki Vantaa, HEL, null, Finland, null), 2024-10-01T13:15:00, 2024-10-01T15:45:00, 90, 954, List(-32317, null, Finnair), List(-31271, null, Nordic Regional Airlines)), List(12126-10957-2410011825-2410020520--32317, List(null, null, Helsinki Vantaa, HEL, null, Finland, null), List(null, null, Indira Gandhi International , DEL, null, India, null), 2024-10-01T18:25:00, 2024-10-02T05:20:00, 505, 121, List(-32317, null, Finnair), List(-32317, null, Finnair)))))</td><td>false</td><td>true</td><td>List(false, false, false, false)</td><td>List()</td><td>List(shortest)</td><td>false</td><td>false</td><td>0.668868</td></tr><tr><td>16643-2409301915--30789,-32672-3-10957-2410021445</td><td>List(75266.49, ₹75,267, kPQ1pihaPLGZ)</td><td>List(List(16643-2409301915--30789,-32672-3-10957-2410021445, List(SWF, 95566280, Stewart International, SWF, New York, United States, false), List(DEL, 95673498, Indira Gandhi International , DEL, New Delhi, India, false), 2040, 3, false, 2024-09-30T19:15:00, 2024-10-02T14:45:00, 2, List(List(List(-30789, https://logos.skyscnr.com/images/airlines/favicon/PA.png, Fly Play), List(-32672, https://logos.skyscnr.com/images/airlines/favicon/AI.png, Air India)), partially_operated), List(List(16643-12974-2409301915-2410010450--30789, List(null, null, Stewart International, SWF, null, United States, null), List(null, null, Reykjavik Keflavik, KEF, null, Iceland, null), 2024-09-30T19:15:00, 2024-10-01T04:50:00, 335, 122, List(-30789, null, Fly Play), List(-30789, null, Fly Play)), List(12974-16574-2410010640-2410011040--30789, List(null, null, Reykjavik Keflavik, KEF, null, Iceland, null), List(null, null, London Stansted, STN, null, United Kingdom, null), 2024-10-01T06:40:00, 2024-10-01T10:40:00, 180, 800, List(-30789, null, Fly Play), List(-30789, null, Fly Play)), List(13554-10075-2410012130-2410021050--32672, List(null, null, London Heathrow, LHR, null, United Kingdom, null), List(null, null, Mumbai, BOM, null, India, null), 2024-10-01T21:30:00, 2024-10-02T10:50:00, 530, 130, List(-32672, null, Air India), List(-32672, null, Air India)), List(10075-10957-2410021235-2410021445--32672, List(null, null, Mumbai, BOM, null, India, null), List(null, null, Indira Gandhi International , DEL, null, India, null), 2024-10-02T12:35:00, 2024-10-02T14:45:00, 130, 6431, List(-32672, null, Air India), List(-31435, null, Vistara)))))</td><td>false</td><td>true</td><td>List(false, false, false, false)</td><td>List()</td><td>null</td><td>false</td><td>false</td><td>0.626483</td></tr><tr><td>16643-2409301915--30789,-31939-3-10957-2410021500</td><td>List(87624.49, ₹87,625, uwR1A7hF-fUM)</td><td>List(List(16643-2409301915--30789,-31939-3-10957-2410021500, List(SWF, 95566280, Stewart International, SWF, New York, United States, false), List(DEL, 95673498, Indira Gandhi International , DEL, New Delhi, India, false), 2055, 3, false, 2024-09-30T19:15:00, 2024-10-02T15:00:00, 2, List(List(List(-30789, https://logos.skyscnr.com/images/airlines/favicon/PA.png, Fly Play), List(-31939, https://logos.skyscnr.com/images/airlines/favicon/QR.png, Qatar Airways)), partially_operated), List(List(16643-12974-2409301915-2410010450--30789, List(null, null, Stewart International, SWF, null, United States, null), List(null, null, Reykjavik Keflavik, KEF, null, Iceland, null), 2024-09-30T19:15:00, 2024-10-01T04:50:00, 335, 122, List(-30789, null, Fly Play), List(-30789, null, Fly Play)), List(12974-11165-2410010605-2410011125--30789, List(null, null, Reykjavik Keflavik, KEF, null, Iceland, null), List(null, null, Dusseldorf International, DUS, null, Germany, null), 2024-10-01T06:05:00, 2024-10-01T11:25:00, 200, 730, List(-30789, null, Fly Play), List(-30789, null, Fly Play)), List(11165-11089-2410011525-2410012225--31939, List(null, null, Dusseldorf International, DUS, null, Germany, null), List(null, null, Hamad International, DOH, null, Qatar, null), 2024-10-01T15:25:00, 2024-10-01T22:25:00, 360, 86, List(-31939, null, Qatar Airways), List(-31939, null, Qatar Airways)), List(11089-10957-2410020845-2410021500--31939, List(null, null, Hamad International, DOH, null, Qatar, null), List(null, null, Indira Gandhi International , DEL, null, India, null), 2024-10-02T08:45:00, 2024-10-02T15:00:00, 225, 4790, List(-31939, null, Qatar Airways), List(-32213, null, IndiGo)))))</td><td>false</td><td>true</td><td>List(false, false, false, false)</td><td>List()</td><td>null</td><td>false</td><td>false</td><td>0.561278</td></tr><tr><td>16643-2409301915--30789,-32119,-32213-4-10957-2410021245</td><td>List(79193.33, ₹79,194, DgSazRUWFVK5)</td><td>List(List(16643-2409301915--30789,-32119,-32213-4-10957-2410021245, List(SWF, 95566280, Stewart International, SWF, New York, United States, false), List(DEL, 95673498, Indira Gandhi International , DEL, New Delhi, India, false), 1920, 4, false, 2024-09-30T19:15:00, 2024-10-02T12:45:00, 2, List(List(List(-30789, https://logos.skyscnr.com/images/airlines/favicon/PA.png, Fly Play), List(-32119, https://logos.skyscnr.com/images/airlines/favicon/KU.png, Kuwait Airways), List(-32213, https://logos.skyscnr.com/images/airlines/favicon/49.png, IndiGo)), fully_operated), List(List(16643-12974-2409301915-2410010450--30789, List(null, null, Stewart International, SWF, null, United States, null), List(null, null, Reykjavik Keflavik, KEF, null, Iceland, null), 2024-09-30T19:15:00, 2024-10-01T04:50:00, 335, 122, List(-30789, null, Fly Play), List(-30789, null, Fly Play)), List(12974-10413-2410010600-2410011130--30789, List(null, null, Reykjavik Keflavik, KEF, null, Iceland, null), List(null, null, Paris Charles de Gaulle, CDG, null, France, null), 2024-10-01T06:00:00, 2024-10-01T11:30:00, 210, 400, List(-30789, null, Fly Play), List(-30789, null, Fly Play)), List(10413-13344-2410011510-2410012205--32119, List(null, null, Paris Charles de Gaulle, CDG, null, France, null), List(null, null, Kuwait, KWI, null, Kuwait, null), 2024-10-01T15:10:00, 2024-10-01T22:05:00, 355, 168, List(-32119, null, Kuwait Airways), List(-32119, null, Kuwait Airways)), List(13344-12371-2410012355-2410020715--32213, List(null, null, Kuwait, KWI, null, Kuwait, null), List(null, null, Hyderabad, HYD, null, India, null), 2024-10-01T23:55:00, 2024-10-02T07:15:00, 290, 1234, List(-32213, null, IndiGo), List(-32213, null, IndiGo)), List(12371-10957-2410021030-2410021245--32213, List(null, null, Hyderabad, HYD, null, India, null), List(null, null, Indira Gandhi International , DEL, null, India, null), 2024-10-02T10:30:00, 2024-10-02T12:45:00, 135, 5169, List(-32213, null, IndiGo), List(-32213, null, IndiGo)))))</td><td>false</td><td>true</td><td>List(false, false, false, false)</td><td>List()</td><td>null</td><td>false</td><td>false</td><td>0.561133</td></tr><tr><td>16643-2409301915--30789,-32677,-31697-3-10957-2410020930</td><td>List(96811.26, ₹96,812, iYYkqCEb1IIl)</td><td>List(List(16643-2409301915--30789,-32677,-31697-3-10957-2410020930, List(SWF, 95566280, Stewart International, SWF, New York, United States, false), List(DEL, 95673498, Indira Gandhi International , DEL, New Delhi, India, false), 1725, 3, false, 2024-09-30T19:15:00, 2024-10-02T09:30:00, 2, List(List(List(-30789, https://logos.skyscnr.com/images/airlines/favicon/PA.png, Fly Play), List(-32677, https://logos.skyscnr.com/images/airlines/favicon/AF.png, Air France), List(-31697, https://logos.skyscnr.com/images/airlines/favicon/VS.png, Virgin Atlantic)), fully_operated), List(List(16643-12974-2409301915-2410010450--30789, List(null, null, Stewart International, SWF, null, United States, null), List(null, null, Reykjavik Keflavik, KEF, null, Iceland, null), 2024-09-30T19:15:00, 2024-10-01T04:50:00, 335, 122, List(-30789, null, Fly Play), List(-30789, null, Fly Play)), List(12974-10413-2410010600-2410011130--30789, List(null, null, Reykjavik Keflavik, KEF, null, Iceland, null), List(null, null, Paris Charles de Gaulle, CDG, null, France, null), 2024-10-01T06:00:00, 2024-10-01T11:30:00, 210, 400, List(-30789, null, Fly Play), List(-30789, null, Fly Play)), List(10413-13554-2410011610-2410011635--32677, List(null, null, Paris Charles de Gaulle, CDG, null, France, null), List(null, null, London Heathrow, LHR, null, United Kingdom, null), 2024-10-01T16:10:00, 2024-10-01T16:35:00, 85, 1280, List(-32677, null, Air France), List(-32677, null, Air France)), List(13554-10957-2410012005-2410020930--31697, List(null, null, London Heathrow, LHR, null, United Kingdom, null), List(null, null, Indira Gandhi International , DEL, null, India, null), 2024-10-01T20:05:00, 2024-10-02T09:30:00, 535, 300, List(-31697, null, Virgin Atlantic), List(-31697, null, Virgin Atlantic)))))</td><td>false</td><td>true</td><td>List(false, false, false, false)</td><td>List()</td><td>null</td><td>false</td><td>false</td><td>0.53669</td></tr><tr><td>16643-2409301915--30789,-32119,-32213-4-10957-2410021735</td><td>List(78298.2, ₹78,299, hrpdo9yPkfN6)</td><td>List(List(16643-2409301915--30789,-32119,-32213-4-10957-2410021735, List(SWF, 95566280, Stewart International, SWF, New York, United States, false), List(DEL, 95673498, Indira Gandhi International , DEL, New Delhi, India, false), 2210, 4, false, 2024-09-30T19:15:00, 2024-10-02T17:35:00, 2, List(List(List(-30789, https://logos.skyscnr.com/images/airlines/favicon/PA.png, Fly Play), List(-32119, https://logos.skyscnr.com/images/airlines/favicon/KU.png, Kuwait Airways), List(-32213, https://logos.skyscnr.com/images/airlines/favicon/49.png, IndiGo)), fully_operated), List(List(16643-12974-2409301915-2410010450--30789, List(null, null, Stewart International, SWF, null, United States, null), List(null, null, Reykjavik Keflavik, KEF, null, Iceland, null), 2024-09-30T19:15:00, 2024-10-01T04:50:00, 335, 122, List(-30789, null, Fly Play), List(-30789, null, Fly Play)), List(12974-10413-2410010600-2410011130--30789, List(null, null, Reykjavik Keflavik, KEF, null, Iceland, null), List(null, null, Paris Charles de Gaulle, CDG, null, France, null), 2024-10-01T06:00:00, 2024-10-01T11:30:00, 210, 400, List(-30789, null, Fly Play), List(-30789, null, Fly Play)), List(10413-13344-2410011510-2410012205--32119, List(null, null, Paris Charles de Gaulle, CDG, null, France, null), List(null, null, Kuwait, KWI, null, Kuwait, null), 2024-10-01T15:10:00, 2024-10-01T22:05:00, 355, 168, List(-32119, null, Kuwait Airways), List(-32119, null, Kuwait Airways)), List(13344-12371-2410012355-2410020715--32213, List(null, null, Kuwait, KWI, null, Kuwait, null), List(null, null, Hyderabad, HYD, null, India, null), 2024-10-01T23:55:00, 2024-10-02T07:15:00, 290, 1234, List(-32213, null, IndiGo), List(-32213, null, IndiGo)), List(12371-10957-2410021515-2410021735--32213, List(null, null, Hyderabad, HYD, null, India, null), List(null, null, Indira Gandhi International , DEL, null, India, null), 2024-10-02T15:15:00, 2024-10-02T17:35:00, 140, 5606, List(-32213, null, IndiGo), List(-32213, null, IndiGo)))))</td><td>false</td><td>true</td><td>List(false, false, false, false)</td><td>List()</td><td>null</td><td>false</td><td>false</td><td>0.509474</td></tr><tr><td>16643-2409301915--30789,-32356-3-14585-2410011750</td><td>List(49138.53, ₹49,139, e40A2BRXgaD2)</td><td>List(List(16643-2409301915--30789,-32356-3-14585-2410011750, List(SWF, 95566280, Stewart International, SWF, New York, United States, false), List(NCL, 95674044, Newcastle, NCL, Newcastle, United Kingdom, false), 1055, 3, false, 2024-09-30T19:15:00, 2024-10-01T17:50:00, 1, List(List(List(-30789, https://logos.skyscnr.com/images/airlines/favicon/PA.png, Fly Play), List(-32356, https://logos.skyscnr.com/images/airlines/favicon/EZ.png, easyJet)), fully_operated), List(List(16643-12974-2409301915-2410010450--30789, List(null, null, Stewart International, SWF, null, United States, null), List(null, null, Reykjavik Keflavik, KEF, null, Iceland, null), 2024-09-30T19:15:00, 2024-10-01T04:50:00, 335, 122, List(-30789, null, Fly Play), List(-30789, null, Fly Play)), List(12974-16574-2410010640-2410011040--30789, List(null, null, Reykjavik Keflavik, KEF, null, Iceland, null), List(null, null, London Stansted, STN, null, United Kingdom, null), 2024-10-01T06:40:00, 2024-10-01T10:40:00, 180, 800, List(-30789, null, Fly Play), List(-30789, null, Fly Play)), List(16574-9854-2410011215-2410011335--32356, List(null, null, London Stansted, STN, null, United Kingdom, null), List(null, null, Belfast International, BFS, null, United Kingdom, null), 2024-10-01T12:15:00, 2024-10-01T13:35:00, 80, 38, List(-32356, null, easyJet), List(-32356, null, easyJet)), List(9854-14585-2410011700-2410011750--32356, List(null, null, Belfast International, BFS, null, United Kingdom, null), List(null, null, Newcastle, NCL, null, United Kingdom, null), 2024-10-01T17:00:00, 2024-10-01T17:50:00, 50, 73, List(-32356, null, easyJet), List(-32356, null, easyJet)))))</td><td>false</td><td>true</td><td>List(false, false, false, false)</td><td>List()</td><td>List(second_cheapest, second_shortest)</td><td>false</td><td>false</td><td>0.999</td></tr><tr><td>16643-2409301915--30789,-32356-3-14585-2410012120</td><td>List(42630.83, ₹42,631, fdiHg9UngOEj)</td><td>List(List(16643-2409301915--30789,-32356-3-14585-2410012120, List(SWF, 95566280, Stewart International, SWF, New York, United States, false), List(NCL, 95674044, Newcastle, NCL, Newcastle, United Kingdom, false), 1265, 3, false, 2024-09-30T19:15:00, 2024-10-01T21:20:00, 1, List(List(List(-30789, https://logos.skyscnr.com/images/airlines/favicon/PA.png, Fly Play), List(-32356, https://logos.skyscnr.com/images/airlines/favicon/EZ.png, easyJet)), fully_operated), List(List(16643-12974-2409301915-2410010450--30789, List(null, null, Stewart International, SWF, null, United States, null), List(null, null, Reykjavik Keflavik, KEF, null, Iceland, null), 2024-09-30T19:15:00, 2024-10-01T04:50:00, 335, 122, List(-30789, null, Fly Play), List(-30789, null, Fly Play)), List(12974-10413-2410010600-2410011130--30789, List(null, null, Reykjavik Keflavik, KEF, null, Iceland, null), List(null, null, Paris Charles de Gaulle, CDG, null, France, null), 2024-10-01T06:00:00, 2024-10-01T11:30:00, 210, 400, List(-30789, null, Fly Play), List(-30789, null, Fly Play)), List(10413-10139-2410011625-2410011645--32356, List(null, null, Paris Charles de Gaulle, CDG, null, France, null), List(null, null, Bristol, BRS, null, United Kingdom, null), 2024-10-01T16:25:00, 2024-10-01T16:45:00, 80, 2776, List(-32356, null, easyJet), List(-32356, null, easyJet)), List(10139-14585-2410012015-2410012120--32356, List(null, null, Bristol, BRS, null, United Kingdom, null), List(null, null, Newcastle, NCL, null, United Kingdom, null), 2024-10-01T20:15:00, 2024-10-01T21:20:00, 65, 241, List(-32356, null, easyJet), List(-32356, null, easyJet)))))</td><td>false</td><td>true</td><td>List(false, false, false, false)</td><td>List()</td><td>List(cheapest, third_shortest)</td><td>false</td><td>false</td><td>0.908043</td></tr><tr><td>16643-2409301915--30789,-32132-3-14585-2410011640</td><td>List(60362.92, ₹60,363, bUKeUZbN-HGN)</td><td>List(List(16643-2409301915--30789,-32132-3-14585-2410011640, List(SWF, 95566280, Stewart International, SWF, New York, United States, false), List(NCL, 95674044, Newcastle, NCL, Newcastle, United Kingdom, false), 985, 3, false, 2024-09-30T19:15:00, 2024-10-01T16:40:00, 1, List(List(List(-30789, https://logos.skyscnr.com/images/airlines/favicon/PA.png, Fly Play), List(-32132, https://logos.skyscnr.com/images/airlines/favicon/KL.png, KLM)), partially_operated), List(List(16643-12974-2409301915-2410010450--30789, List(null, null, Stewart International, SWF, null, United States, null), List(null, null, Reykjavik Keflavik, KEF, null, Iceland, null), 2024-09-30T19:15:00, 2024-10-01T04:50:00, 335, 122, List(-30789, null, Fly Play), List(-30789, null, Fly Play)), List(12974-11165-2410010605-2410011125--30789, List(null, null, Reykjavik Keflavik, KEF, null, Iceland, null), List(null, null, Dusseldorf International, DUS, null, Germany, null), 2024-10-01T06:05:00, 2024-10-01T11:25:00, 200, 730, List(-30789, null, Fly Play), List(-30789, null, Fly Play)), List(11165-9451-2410011435-2410011530--32132, List(null, null, Dusseldorf International, DUS, null, Germany, null), List(null, null, Amsterdam Schiphol, AMS, null, Netherlands, null), 2024-10-01T14:35:00, 2024-10-01T15:30:00, 55, 1802, List(-32132, null, KLM), List(-30702, null, German Airways)), List(9451-14585-2410011625-2410011640--32132, List(null, null, Amsterdam Schiphol, AMS, null, Netherlands, null), List(null, null, Newcastle, NCL, null, United Kingdom, null), 2024-10-01T16:25:00, 2024-10-01T16:40:00, 75, 959, List(-32132, null, KLM), List(-32132, null, KLM)))))</td><td>false</td><td>true</td><td>List(false, false, false, false)</td><td>List()</td><td>List(shortest)</td><td>false</td><td>false</td><td>0.784733</td></tr><tr><td>16643-2409301915--30789,-32132-3-14585-2410012255</td><td>List(54102.43, ₹54,103, 2I8RS1VXMIrO)</td><td>List(List(16643-2409301915--30789,-32132-3-14585-2410012255, List(SWF, 95566280, Stewart International, SWF, New York, United States, false), List(NCL, 95674044, Newcastle, NCL, Newcastle, United Kingdom, false), 1360, 3, false, 2024-09-30T19:15:00, 2024-10-01T22:55:00, 1, List(List(List(-30789, https://logos.skyscnr.com/images/airlines/favicon/PA.png, Fly Play), List(-32132, https://logos.skyscnr.com/images/airlines/favicon/KL.png, KLM)), fully_operated), List(List(16643-12974-2409301915-2410010450--30789, List(null, null, Stewart International, SWF, null, United States, null), List(null, null, Reykjavik Keflavik, KEF, null, Iceland, null), 2024-09-30T19:15:00, 2024-10-01T04:50:00, 335, 122, List(-30789, null, Fly Play), List(-30789, null, Fly Play)), List(12974-10413-2410010600-2410011130--30789, List(null, null, Reykjavik Keflavik, KEF, null, Iceland, null), List(null, null, Paris Charles de Gaulle, CDG, null, France, null), 2024-10-01T06:00:00, 2024-10-01T11:30:00, 210, 400, List(-30789, null, Fly Play), List(-30789, null, Fly Play)), List(10413-9451-2410012015-2410012125--32132, List(null, null, Paris Charles de Gaulle, CDG, null, France, null), List(null, null, Amsterdam Schiphol, AMS, null, Netherlands, null), 2024-10-01T20:15:00, 2024-10-01T21:25:00, 70, 1412, List(-32132, null, KLM), List(-32132, null, KLM)), List(9451-14585-2410012240-2410012255--32132, List(null, null, Amsterdam Schiphol, AMS, null, Netherlands, null), List(null, null, Newcastle, NCL, null, United Kingdom, null), 2024-10-01T22:40:00, 2024-10-01T22:55:00, 75, 961, List(-32132, null, KLM), List(-32132, null, KLM)))))</td><td>false</td><td>true</td><td>List(false, false, false, false)</td><td>List()</td><td>null</td><td>false</td><td>false</td><td>0.514124</td></tr><tr><td>16643-2409301915--30789,-32677-3-14585-2410012235</td><td>List(55402.84, ₹55,403, yxy9wHCj8fVy)</td><td>List(List(16643-2409301915--30789,-32677-3-14585-2410012235, List(SWF, 95566280, Stewart International, SWF, New York, United States, false), List(NCL, 95674044, Newcastle, NCL, Newcastle, United Kingdom, false), 1340, 3, false, 2024-09-30T19:15:00, 2024-10-01T22:35:00, 1, List(List(List(-30789, https://logos.skyscnr.com/images/airlines/favicon/PA.png, Fly Play), List(-32677, https://logos.skyscnr.com/images/airlines/favicon/AF.png, Air France)), partially_operated), List(List(16643-12974-2409301915-2410010450--30789, List(null, null, Stewart International, SWF, null, United States, null), List(null, null, Reykjavik Keflavik, KEF, null, Iceland, null), 2024-09-30T19:15:00, 2024-10-01T04:50:00, 335, 122, List(-30789, null, Fly Play), List(-30789, null, Fly Play)), List(12974-12070-2410010620-2410011140--30789, List(null, null, Reykjavik Keflavik, KEF, null, Iceland, null), List(null, null, Hamburg International, HAM, null, Germany, null), 2024-10-01T06:20:00, 2024-10-01T11:40:00, 200, 740, List(-30789, null, Fly Play), List(-30789, null, Fly Play)), List(12070-10413-2410011515-2410011650--32677, List(null, null, Hamburg International, HAM, null, Germany, null), List(null, null, Paris Charles de Gaulle, CDG, null, France, null), 2024-10-01T15:15:00, 2024-10-01T16:50:00, 95, 1711, List(-32677, null, Air France), List(-32677, null, Air France)), List(10413-14585-2410012200-2410012235--32677, List(null, null, Paris Charles de Gaulle, CDG, null, France, null), List(null, null, Newcastle, NCL, null, United Kingdom, null), 2024-10-01T22:00:00, 2024-10-01T22:35:00, 95, 1558, List(-32677, null, Air France), List(-32226, null, HOP!)))))</td><td>false</td><td>true</td><td>List(false, false, false, false)</td><td>List()</td><td>null</td><td>false</td><td>false</td><td>0.513017</td></tr><tr><td>16643-2409301915--30789,-32132,-32356-4-14585-2410012120</td><td>List(60506.22, ₹60,507, CeQAlFibULFQ)</td><td>List(List(16643-2409301915--30789,-32132,-32356-4-14585-2410012120, List(SWF, 95566280, Stewart International, SWF, New York, United States, false), List(NCL, 95674044, Newcastle, NCL, Newcastle, United Kingdom, false), 1265, 4, false, 2024-09-30T19:15:00, 2024-10-01T21:20:00, 1, List(List(List(-30789, https://logos.skyscnr.com/images/airlines/favicon/PA.png, Fly Play), List(-32132, https://logos.skyscnr.com/images/airlines/favicon/KL.png, KLM), List(-32356, https://logos.skyscnr.com/images/airlines/favicon/EZ.png, easyJet)), partially_operated), List(List(16643-12974-2409301915-2410010450--30789, List(null, null, Stewart International, SWF, null, United States, null), List(null, null, Reykjavik Keflavik, KEF, null, Iceland, null), 2024-09-30T19:15:00, 2024-10-01T04:50:00, 335, 122, List(-30789, null, Fly Play), List(-30789, null, Fly Play)), List(12974-10413-2410010600-2410011130--30789, List(null, null, Reykjavik Keflavik, KEF, null, Iceland, null), List(null, null, Paris Charles de Gaulle, CDG, null, France, null), 2024-10-01T06:00:00, 2024-10-01T11:30:00, 210, 400, List(-30789, null, Fly Play), List(-30789, null, Fly Play)), List(10413-9451-2410011430-2410011555--32132, List(null, null, Paris Charles de Gaulle, CDG, null, France, null), List(null, null, Amsterdam Schiphol, AMS, null, Netherlands, null), 2024-10-01T14:30:00, 2024-10-01T15:55:00, 85, 2439, List(-32132, null, KLM), List(-32677, null, Air France)), List(9451-10139-2410011640-2410011655--32132, List(null, null, Amsterdam Schiphol, AMS, null, Netherlands, null), List(null, null, Bristol, BRS, null, United Kingdom, null), 2024-10-01T16:40:00, 2024-10-01T16:55:00, 75, 1081, List(-32132, null, KLM), List(-30702, null, German Airways)), List(10139-14585-2410012015-2410012120--32356, List(null, null, Bristol, BRS, null, United Kingdom, null), List(null, null, Newcastle, NCL, null, United Kingdom, null), 2024-10-01T20:15:00, 2024-10-01T21:20:00, 65, 241, List(-32356, null, easyJet), List(-32356, null, easyJet)))))</td><td>false</td><td>true</td><td>List(false, false, false, false)</td><td>List()</td><td>null</td><td>false</td><td>false</td><td>0.431457</td></tr><tr><td>16643-2409301915--30789,-32753-3-14585-2410020745</td><td>List(49658.02, ₹49,659, ApIvJfHQKeSR)</td><td>List(List(16643-2409301915--30789,-32753-3-14585-2410020745, List(SWF, 95566280, Stewart International, SWF, New York, United States, false), List(NCL, 95674044, Newcastle, NCL, Newcastle, United Kingdom, false), 1890, 3, false, 2024-09-30T19:15:00, 2024-10-02T07:45:00, 2, List(List(List(-30789, https://logos.skyscnr.com/images/airlines/favicon/PA.png, Fly Play), List(-32753, https://logos.skyscnr.com/images/airlines/favicon/EI.png, Aer Lingus)), partially_operated), List(List(16643-12974-2409301915-2410010450--30789, List(null, null, Stewart International, SWF, null, United States, null), List(null, null, Reykjavik Keflavik, KEF, null, Iceland, null), 2024-09-30T19:15:00, 2024-10-01T04:50:00, 335, 122, List(-30789, null, Fly Play), List(-30789, null, Fly Play)), List(12974-16574-2410010640-2410011040--30789, List(null, null, Reykjavik Keflavik, KEF, null, Iceland, null), List(null, null, London Stansted, STN, null, United Kingdom, null), 2024-10-01T06:40:00, 2024-10-01T10:40:00, 180, 800, List(-30789, null, Fly Play), List(-30789, null, Fly Play)), List(13554-11154-2410011550-2410011715--32753, List(null, null, London Heathrow, LHR, null, United Kingdom, null), List(null, null, Dublin, DUB, null, Ireland, null), 2024-10-01T15:50:00, 2024-10-01T17:15:00, 85, 167, List(-32753, null, Aer Lingus), List(-32753, null, Aer Lingus)), List(11154-14585-2410020625-2410020745--32753, List(null, null, Dublin, DUB, null, Ireland, null), List(null, null, Newcastle, NCL, null, United Kingdom, null), 2024-10-02T06:25:00, 2024-10-02T07:45:00, 80, 3350, List(-32753, null, Aer Lingus), List(-30651, null, Emerald Airlines)))))</td><td>false</td><td>true</td><td>List(false, false, false, false)</td><td>List()</td><td>List(third_cheapest)</td><td>false</td><td>false</td><td>0.413139</td></tr><tr><td>16643-2409301915--30789,-32753,-32356-4-14585-2410012120</td><td>List(65524.41, ₹65,525, XVmT0iQntCdn)</td><td>List(List(16643-2409301915--30789,-32753,-32356-4-14585-2410012120, List(SWF, 95566280, Stewart International, SWF, New York, United States, false), List(NCL, 95674044, Newcastle, NCL, Newcastle, United Kingdom, false), 1265, 4, false, 2024-09-30T19:15:00, 2024-10-01T21:20:00, 1, List(List(List(-30789, https://logos.skyscnr.com/images/airlines/favicon/PA.png, Fly Play), List(-32753, https://logos.skyscnr.com/images/airlines/favicon/EI.png, Aer Lingus), List(-32356, https://logos.skyscnr.com/images/airlines/favicon/EZ.png, easyJet)), partially_operated), List(List(16643-12974-2409301915-2410010450--30789, List(null, null, Stewart International, SWF, null, United States, null), List(null, null, Reykjavik Keflavik, KEF, null, Iceland, null), 2024-09-30T19:15:00, 2024-10-01T04:50:00, 335, 122, List(-30789, null, Fly Play), List(-30789, null, Fly Play)), List(12974-10413-2410010600-2410011130--30789, List(null, null, Reykjavik Keflavik, KEF, null, Iceland, null), List(null, null, Paris Charles de Gaulle, CDG, null, France, null), 2024-10-01T06:00:00, 2024-10-01T11:30:00, 210, 400, List(-30789, null, Fly Play), List(-30789, null, Fly Play)), List(10413-11154-2410011320-2410011410--32753, List(null, null, Paris Charles de Gaulle, CDG, null, France, null), List(null, null, Dublin, DUB, null, Ireland, null), 2024-10-01T13:20:00, 2024-10-01T14:10:00, 110, 525, List(-32753, null, Aer Lingus), List(-32753, null, Aer Lingus)), List(11154-10139-2410011705-2410011825--32753, List(null, null, Dublin, DUB, null, Ireland, null), List(null, null, Bristol, BRS, null, United Kingdom, null), 2024-10-01T17:05:00, 2024-10-01T18:25:00, 80, 3286, List(-32753, null, Aer Lingus), List(-30651, null, Emerald Airlines)), List(10139-14585-2410012015-2410012120--32356, List(null, null, Bristol, BRS, null, United Kingdom, null), List(null, null, Newcastle, NCL, null, United Kingdom, null), 2024-10-01T20:15:00, 2024-10-01T21:20:00, 65, 241, List(-32356, null, easyJet), List(-32356, null, easyJet)))))</td><td>false</td><td>true</td><td>List(false, false, false, false)</td><td>List()</td><td>null</td><td>false</td><td>false</td><td>0.406709</td></tr><tr><td>16643-2409301915--30789,-32360-2-14773-2410012010</td><td>List(50835.76, ₹50,836, MnanuMfvMYlE)</td><td>List(List(16643-2409301915--30789,-32360-2-14773-2410012010, List(SWF, 95566280, Stewart International, SWF, New York, United States, false), List(NQY, 95673963, Newquay, NQY, Newquay, United Kingdom, false), 1195, 2, false, 2024-09-30T19:15:00, 2024-10-01T20:10:00, 1, List(List(List(-30789, https://logos.skyscnr.com/images/airlines/favicon/PA.png, Fly Play), List(-32360, https://logos.skyscnr.com/images/airlines/favicon/T3.png, Eastern Airways)), fully_operated), List(List(16643-12974-2409301915-2410010450--30789, List(null, null, Stewart International, SWF, null, United States, null), List(null, null, Reykjavik Keflavik, KEF, null, Iceland, null), 2024-09-30T19:15:00, 2024-10-01T04:50:00, 335, 122, List(-30789, null, Fly Play), List(-30789, null, Fly Play)), List(12974-16574-2410010640-2410011040--30789, List(null, null, Reykjavik Keflavik, KEF, null, Iceland, null), List(null, null, London Stansted, STN, null, United Kingdom, null), 2024-10-01T06:40:00, 2024-10-01T10:40:00, 180, 800, List(-30789, null, Fly Play), List(-30789, null, Fly Play)), List(13542-14773-2410011850-2410012010--32360, List(null, null, London Gatwick, LGW, null, United Kingdom, null), List(null, null, Newquay, NQY, null, United Kingdom, null), 2024-10-01T18:50:00, 2024-10-01T20:10:00, 80, 458, List(-32360, null, Eastern Airways), List(-32360, null, Eastern Airways)))))</td><td>false</td><td>true</td><td>List(false, false, false, false)</td><td>List()</td><td>List(cheapest, shortest)</td><td>false</td><td>false</td><td>0.999</td></tr><tr><td>16643-2409301915--30789,-32356,-32753-4-14773-2410021245</td><td>List(74680.33, ₹74,681, vAi3TCqxrv0U)</td><td>List(List(16643-2409301915--30789,-32356,-32753-4-14773-2410021245, List(SWF, 95566280, Stewart International, SWF, New York, United States, false), List(NQY, 95673963, Newquay, NQY, Newquay, United Kingdom, false), 2190, 4, false, 2024-09-30T19:15:00, 2024-10-02T12:45:00, 2, List(List(List(-30789, https://logos.skyscnr.com/images/airlines/favicon/PA.png, Fly Play), List(-32356, https://logos.skyscnr.com/images/airlines/favicon/EZ.png, easyJet), List(-32753, https://logos.skyscnr.com/images/airlines/favicon/EI.png, Aer Lingus)), partially_operated), List(List(16643-12974-2409301915-2410010450--30789, List(null, null, Stewart International, SWF, null, United States, null), List(null, null, Reykjavik Keflavik, KEF, null, Iceland, null), 2024-09-30T19:15:00, 2024-10-01T04:50:00, 335, 122, List(-30789, null, Fly Play), List(-30789, null, Fly Play)), List(12974-10413-2410010600-2410011130--30789, List(null, null, Reykjavik Keflavik, KEF, null, Iceland, null), List(null, null, Paris Charles de Gaulle, CDG, null, France, null), 2024-10-01T06:00:00, 2024-10-01T11:30:00, 210, 400, List(-30789, null, Fly Play), List(-30789, null, Fly Play)), List(10413-13880-2410011830-2410011855--32356, List(null, null, Paris Charles de Gaulle, CDG, null, France, null), List(null, null, Manchester, MAN, null, United Kingdom, null), 2024-10-01T18:30:00, 2024-10-01T18:55:00, 85, 2108, List(-32356, null, easyJet), List(-32356, null, easyJet)), List(13880-11154-2410012055-2410012205--32753, List(null, null, Manchester, MAN, null, United Kingdom, null), List(null, null, Dublin, DUB, null, Ireland, null), 2024-10-01T20:55:00, 2024-10-01T22:05:00, 70, 3329, List(-32753, null, Aer Lingus), List(-30651, null, Emerald Airlines)), List(11154-14773-2410021125-2410021245--32753, List(null, null, Dublin, DUB, null, Ireland, null), List(null, null, Newquay, NQY, null, United Kingdom, null), 2024-10-02T11:25:00, 2024-10-02T12:45:00, 80, 3930, List(-32753, null, Aer Lingus), List(-30651, null, Emerald Airlines)))))</td><td>false</td><td>true</td><td>List(false, false, false, false)</td><td>List()</td><td>List(third_cheapest)</td><td>false</td><td>false</td><td>0.508323</td></tr><tr><td>16643-2409301915--30789,-32217,-32753,-32094-4-14773-2410020945</td><td>List(74568.37, ₹74,569, erWZ54M1riq7)</td><td>List(List(16643-2409301915--30789,-32217,-32753,-32094-4-14773-2410020945, List(SWF, 95566280, Stewart International, SWF, New York, United States, false), List(NQY, 95673963, Newquay, NQY, Newquay, United Kingdom, false), 2010, 4, false, 2024-09-30T19:15:00, 2024-10-02T09:45:00, 2, List(List(List(-30789, https://logos.skyscnr.com/images/airlines/favicon/PA.png, Fly Play), List(-32217, https://logos.skyscnr.com/images/airlines/favicon/FI.png, Icelandair), List(-32753, https://logos.skyscnr.com/images/airlines/favicon/EI.png, Aer Lingus), List(-32094, https://logos.skyscnr.com/images/airlines/favicon/LC.png, Loganair)), partially_operated), List(List(16643-12974-2409301915-2410010450--30789, List(null, null, Stewart International, SWF, null, United States, null), List(null, null, Reykjavik Keflavik, KEF, null, Iceland, null), 2024-09-30T19:15:00, 2024-10-01T04:50:00, 335, 122, List(-30789, null, Fly Play), List(-30789, null, Fly Play)), List(12974-11154-2410010730-2410011105--32217, List(null, null, Reykjavik Keflavik, KEF, null, Iceland, null), List(null, null, Dublin, DUB, null, Ireland, null), 2024-10-01T07:30:00, 2024-10-01T11:05:00, 155, 416, List(-32217, null, Icelandair), List(-32217, null, Icelandair)), List(11154-9226-2410011405-2410011540--32753, List(null, null, Dublin, DUB, null, Ireland, null), List(null, null, Aberdeen, ABZ, null, United Kingdom, null), 2024-10-01T14:05:00, 2024-10-01T15:40:00, 95, 3242, List(-32753, null, Aer Lingus), List(-30651, null, Emerald Airlines)), List(9226-13880-2410020640-2410020755--32094, List(null, null, Aberdeen, ABZ, null, United Kingdom, null), List(null, null, Manchester, MAN, null, United Kingdom, null), 2024-10-02T06:40:00, 2024-10-02T07:55:00, 75, 21, List(-32094, null, Loganair), List(-32094, null, Loganair)), List(13880-14773-2410020835-2410020945--32094, List(null, null, Manchester, MAN, null, United Kingdom, null), List(null, null, Newquay, NQY, null, United Kingdom, null), 2024-10-02T08:35:00, 2024-10-02T09:45:00, 70, 21, List(-32094, null, Loganair), List(-32094, null, Loganair)))))</td><td>false</td><td>true</td><td>List(false, false, false, false)</td><td>List()</td><td>List(second_cheapest, second_shortest)</td><td>false</td><td>false</td><td>0.410783</td></tr><tr><td>16643-2409301915--30789,-32217,-32753,-32094-3-14773-2410020945</td><td>List(77081.03, ₹77,082, 2iorcC44OXRH)</td><td>List(List(16643-2409301915--30789,-32217,-32753,-32094-3-14773-2410020945, List(SWF, 95566280, Stewart International, SWF, New York, United States, false), List(NQY, 95673963, Newquay, NQY, Newquay, United Kingdom, false), 2010, 3, false, 2024-09-30T19:15:00, 2024-10-02T09:45:00, 2, List(List(List(-30789, https://logos.skyscnr.com/images/airlines/favicon/PA.png, Fly Play), List(-32217, https://logos.skyscnr.com/images/airlines/favicon/FI.png, Icelandair), List(-32753, https://logos.skyscnr.com/images/airlines/favicon/EI.png, Aer Lingus), List(-32094, https://logos.skyscnr.com/images/airlines/favicon/LC.png, Loganair)), partially_operated), List(List(16643-12974-2409301915-2410010450--30789, List(null, null, Stewart International, SWF, null, United States, null), List(null, null, Reykjavik Keflavik, KEF, null, Iceland, null), 2024-09-30T19:15:00, 2024-10-01T04:50:00, 335, 122, List(-30789, null, Fly Play), List(-30789, null, Fly Play)), List(12974-11154-2410010730-2410011105--32217, List(null, null, Reykjavik Keflavik, KEF, null, Iceland, null), List(null, null, Dublin, DUB, null, Ireland, null), 2024-10-01T07:30:00, 2024-10-01T11:05:00, 155, 416, List(-32217, null, Icelandair), List(-32217, null, Icelandair)), List(11154-13880-2410011910-2410012025--32753, List(null, null, Dublin, DUB, null, Ireland, null), List(null, null, Manchester, MAN, null, United Kingdom, null), 2024-10-01T19:10:00, 2024-10-01T20:25:00, 75, 3328, List(-32753, null, Aer Lingus), List(-30651, null, Emerald Airlines)), List(13880-14773-2410020835-2410020945--32094, List(null, null, Manchester, MAN, null, United Kingdom, null), List(null, null, Newquay, NQY, null, United Kingdom, null), 2024-10-02T08:35:00, 2024-10-02T09:45:00, 70, 21, List(-32094, null, Loganair), List(-32094, null, Loganair)))))</td><td>false</td><td>true</td><td>List(false, false, false, false)</td><td>List()</td><td>List(third_shortest)</td><td>false</td><td>false</td><td>0.305002</td></tr><tr><td>16643-2409301915--30789,-32753,-32094-4-14773-2410020945</td><td>List(91391.63, ₹91,392, 23ByhFvOEilI)</td><td>List(List(16643-2409301915--30789,-32753,-32094-4-14773-2410020945, List(SWF, 95566280, Stewart International, SWF, New York, United States, false), List(NQY, 95673963, Newquay, NQY, Newquay, United Kingdom, false), 2010, 4, false, 2024-09-30T19:15:00, 2024-10-02T09:45:00, 2, List(List(List(-30789, https://logos.skyscnr.com/images/airlines/favicon/PA.png, Fly Play), List(-32753, https://logos.skyscnr.com/images/airlines/favicon/EI.png, Aer Lingus), List(-32094, https://logos.skyscnr.com/images/airlines/favicon/LC.png, Loganair)), partially_operated), List(List(16643-12974-2409301915-2410010450--30789, List(null, null, Stewart International, SWF, null, United States, null), List(null, null, Reykjavik Keflavik, KEF, null, Iceland, null), 2024-09-30T19:15:00, 2024-10-01T04:50:00, 335, 122, List(-30789, null, Fly Play), List(-30789, null, Fly Play)), List(12974-10413-2410010600-2410011130--30789, List(null, null, Reykjavik Keflavik, KEF, null, Iceland, null), List(null, null, Paris Charles de Gaulle, CDG, null, France, null), 2024-10-01T06:00:00, 2024-10-01T11:30:00, 210, 400, List(-30789, null, Fly Play), List(-30789, null, Fly Play)), List(10413-11154-2410011320-2410011410--32753, List(null, null, Paris Charles de Gaulle, CDG, null, France, null), List(null, null, Dublin, DUB, null, Ireland, null), 2024-10-01T13:20:00, 2024-10-01T14:10:00, 110, 525, List(-32753, null, Aer Lingus), List(-32753, null, Aer Lingus)), List(11154-13880-2410011910-2410012025--32753, List(null, null, Dublin, DUB, null, Ireland, null), List(null, null, Manchester, MAN, null, United Kingdom, null), 2024-10-01T19:10:00, 2024-10-01T20:25:00, 75, 3328, List(-32753, null, Aer Lingus), List(-30651, null, Emerald Airlines)), List(13880-14773-2410020835-2410020945--32094, List(null, null, Manchester, MAN, null, United Kingdom, null), List(null, null, Newquay, NQY, null, United Kingdom, null), 2024-10-02T08:35:00, 2024-10-02T09:45:00, 70, 21, List(-32094, null, Loganair), List(-32094, null, Loganair)))))</td><td>false</td><td>true</td><td>List(false, false, false, false)</td><td>List()</td><td>null</td><td>false</td><td>false</td><td>0.301244</td></tr><tr><td>16643-2409301915--30789,-32217,-32753-3-14773-2410021245</td><td>List(86287.1, ₹86,288, 094w2SAd3f2z)</td><td>List(List(16643-2409301915--30789,-32217,-32753-3-14773-2410021245, List(SWF, 95566280, Stewart International, SWF, New York, United States, false), List(NQY, 95673963, Newquay, NQY, Newquay, United Kingdom, false), 2190, 3, false, 2024-09-30T19:15:00, 2024-10-02T12:45:00, 2, List(List(List(-30789, https://logos.skyscnr.com/images/airlines/favicon/PA.png, Fly Play), List(-32217, https://logos.skyscnr.com/images/airlines/favicon/FI.png, Icelandair), List(-32753, https://logos.skyscnr.com/images/airlines/favicon/EI.png, Aer Lingus)), partially_operated), List(List(16643-12974-2409301915-2410010450--30789, List(null, null, Stewart International, SWF, null, United States, null), List(null, null, Reykjavik Keflavik, KEF, null, Iceland, null), 2024-09-30T19:15:00, 2024-10-01T04:50:00, 335, 122, List(-30789, null, Fly Play), List(-30789, null, Fly Play)), List(12974-13880-2410010800-2410011140--32217, List(null, null, Reykjavik Keflavik, KEF, null, Iceland, null), List(null, null, Manchester, MAN, null, United Kingdom, null), 2024-10-01T08:00:00, 2024-10-01T11:40:00, 160, 440, List(-32217, null, Icelandair), List(-32217, null, Icelandair)), List(13880-11154-2410011425-2410011525--32753, List(null, null, Manchester, MAN, null, United Kingdom, null), List(null, null, Dublin, DUB, null, Ireland, null), 2024-10-01T14:25:00, 2024-10-01T15:25:00, 60, 209, List(-32753, null, Aer Lingus), List(-32753, null, Aer Lingus)), List(11154-14773-2410021125-2410021245--32753, List(null, null, Dublin, DUB, null, Ireland, null), List(null, null, Newquay, NQY, null, United Kingdom, null), 2024-10-02T11:25:00, 2024-10-02T12:45:00, 80, 3930, List(-32753, null, Aer Lingus), List(-30651, null, Emerald Airlines)))))</td><td>false</td><td>true</td><td>List(false, false, false, false)</td><td>List()</td><td>null</td><td>false</td><td>false</td><td>0.292231</td></tr><tr><td>13522-2409301600--32677-2-10957-2410012235</td><td>List(62042, ₹62,042, 3vC7zp34OYUd)</td><td>List(List(13522-2409301600--32677-2-10957-2410012235, List(LGA, 95565057, New York LaGuardia, LGA, New York, United States, false), List(DEL, 95673498, Indira Gandhi International , DEL, New Delhi, India, false), 1265, 2, false, 2024-09-30T16:00:00, 2024-10-01T22:35:00, 1, List(List(List(-32677, https://logos.skyscnr.com/images/airlines/favicon/AF.png, Air France)), partially_operated), List(List(13522-10081-2409301600-2409301731--32677, List(null, null, New York LaGuardia, LGA, null, United States, null), List(null, null, Boston Logan International, BOS, null, United States, null), 2024-09-30T16:00:00, 2024-09-30T17:31:00, 91, 2222, List(-32677, null, Air France), List(-30991, null, Republic Airways DBA Delta Connection)), List(10081-10413-2409301855-2410010755--32677, List(null, null, Boston Logan International, BOS, null, United States, null), List(null, null, Paris Charles de Gaulle, CDG, null, France, null), 2024-09-30T18:55:00, 2024-10-01T07:55:00, 420, 3663, List(-32677, null, Air France), List(-32385, null, Delta)), List(10413-10957-2410011025-2410012235--32677, List(null, null, Paris Charles de Gaulle, CDG, null, France, null), List(null, null, Indira Gandhi International , DEL, null, India, null), 2024-10-01T10:25:00, 2024-10-01T22:35:00, 520, 226, List(-32677, null, Air France), List(-32677, null, Air France)))))</td><td>false</td><td>false</td><td>List(false, false, false, false)</td><td>List()</td><td>List(cheapest)</td><td>false</td><td>false</td><td>0.999</td></tr><tr><td>13522-2409301920--32695-1-10957-2410012145</td><td>List(108439, ₹108,439, WhFI2AOFgeB3)</td><td>List(List(13522-2409301920--32695-1-10957-2410012145, List(LGA, 95565057, New York LaGuardia, LGA, New York, United States, false), List(DEL, 95673498, Indira Gandhi International , DEL, New Delhi, India, false), 1015, 1, false, 2024-09-30T19:20:00, 2024-10-01T21:45:00, 1, List(List(List(-32695, https://logos.skyscnr.com/images/airlines/favicon/AC.png, Air Canada)), partially_operated), List(List(13522-18395-2409301920-2409302048--32695, List(null, null, New York LaGuardia, LGA, null, United States, null), List(null, null, Montreal Pierre Elliott Trudeau, YUL, null, Canada, null), 2024-09-30T19:20:00, 2024-09-30T20:48:00, 88, 8643, List(-32695, null, Air Canada), List(-31542, null, Air Canada Express - Jazz)), List(18395-10957-2409302150-2410012145--32695, List(null, null, Montreal Pierre Elliott Trudeau, YUL, null, Canada, null), List(null, null, Indira Gandhi International , DEL, null, India, null), 2024-09-30T21:50:00, 2024-10-01T21:45:00, 865, 50, List(-32695, null, Air Canada), List(-32695, null, Air Canada)))))</td><td>false</td><td>false</td><td>List(false, false, false, false)</td><td>List()</td><td>List(shortest)</td><td>false</td><td>false</td><td>0.67131</td></tr><tr><td>13522-2409301600--32132-2-10957-2410020155</td><td>List(66646, ₹66,646, AyyTBd_0v7MR)</td><td>List(List(13522-2409301600--32132-2-10957-2410020155, List(LGA, 95565057, New York LaGuardia, LGA, New York, United States, false), List(DEL, 95673498, Indira Gandhi International , DEL, New Delhi, India, false), 1465, 2, false, 2024-09-30T16:00:00, 2024-10-02T01:55:00, 2, List(List(List(-32132, https://logos.skyscnr.com/images/airlines/favicon/KL.png, KLM)), partially_operated), List(List(13522-10081-2409301600-2409301731--32132, List(null, null, New York LaGuardia, LGA, null, United States, null), List(null, null, Boston Logan International, BOS, null, United States, null), 2024-09-30T16:00:00, 2024-09-30T17:31:00, 91, 6485, List(-32132, null, KLM), List(-30991, null, Republic Airways DBA Delta Connection)), List(10081-9451-2409301855-2410010800--32132, List(null, null, Boston Logan International, BOS, null, United States, null), List(null, null, Amsterdam Schiphol, AMS, null, Netherlands, null), 2024-09-30T18:55:00, 2024-10-01T08:00:00, 425, 6016, List(-32132, null, KLM), List(-32385, null, Delta)), List(9451-10957-2410011410-2410020155--32132, List(null, null, Amsterdam Schiphol, AMS, null, Netherlands, null), List(null, null, Indira Gandhi International , DEL, null, India, null), 2024-10-01T14:10:00, 2024-10-02T01:55:00, 495, 871, List(-32132, null, KLM), List(-32132, null, KLM)))))</td><td>false</td><td>false</td><td>List(false, false, false, false)</td><td>List()</td><td>null</td><td>false</td><td>false</td><td>0.603001</td></tr><tr><td>13522-2409301859--32677-2-10957-2410022235</td><td>List(62277, ₹62,277, cxKkqQCx-_-w)</td><td>List(List(13522-2409301859--32677-2-10957-2410022235, List(LGA, 95565057, New York LaGuardia, LGA, New York, United States, false), List(DEL, 95673498, Indira Gandhi International , DEL, New Delhi, India, false), 2526, 2, false, 2024-09-30T18:59:00, 2024-10-02T22:35:00, 2, List(List(List(-32677, https://logos.skyscnr.com/images/airlines/favicon/AF.png, Air France)), partially_operated), List(List(13522-9596-2409301859-2409302123--32677, List(null, null, New York LaGuardia, LGA, null, United States, null), List(null, null, Atlanta Hartsfield-Jackson, ATL, null, United States, null), 2024-09-30T18:59:00, 2024-09-30T21:23:00, 144, 7918, List(-32677, null, Air France), List(-32385, null, Delta)), List(9596-10413-2409302215-2410011230--32677, List(null, null, Atlanta Hartsfield-Jackson, ATL, null, United States, null), List(null, null, Paris Charles de Gaulle, CDG, null, France, null), 2024-09-30T22:15:00, 2024-10-01T12:30:00, 495, 3595, List(-32677, null, Air France), List(-32385, null, Delta)), List(10413-10957-2410021025-2410022235--32677, List(null, null, Paris Charles de Gaulle, CDG, null, France, null), List(null, null, Indira Gandhi International , DEL, null, India, null), 2024-10-02T10:25:00, 2024-10-02T22:35:00, 520, 226, List(-32677, null, Air France), List(-32677, null, Air France)))))</td><td>false</td><td>false</td><td>List(false, false, false, false)</td><td>List()</td><td>List(third_cheapest)</td><td>false</td><td>false</td><td>0.423298</td></tr><tr><td>13522-2409301800--32695-1-10957-2410012145</td><td>List(108439, ₹108,439, s9TdDM33Lr9m)</td><td>List(List(13522-2409301800--32695-1-10957-2410012145, List(LGA, 95565057, New York LaGuardia, LGA, New York, United States, false), List(DEL, 95673498, Indira Gandhi International , DEL, New Delhi, India, false), 1095, 1, false, 2024-09-30T18:00:00, 2024-10-01T21:45:00, 1, List(List(List(-32695, https://logos.skyscnr.com/images/airlines/favicon/AC.png, Air Canada)), partially_operated), List(List(13522-18395-2409301800-2409301925--32695, List(null, null, New York LaGuardia, LGA, null, United States, null), List(null, null, Montreal Pierre Elliott Trudeau, YUL, null, Canada, null), 2024-09-30T18:00:00, 2024-09-30T19:25:00, 85, 8641, List(-32695, null, Air Canada), List(-31542, null, Air Canada Express - Jazz)), List(18395-10957-2409302150-2410012145--32695, List(null, null, Montreal Pierre Elliott Trudeau, YUL, null, Canada, null), List(null, null, Indira Gandhi International , DEL, null, India, null), 2024-09-30T21:50:00, 2024-10-01T21:45:00, 865, 50, List(-32695, null, Air Canada), List(-32695, null, Air Canada)))))</td><td>false</td><td>false</td><td>List(false, false, false, false)</td><td>List()</td><td>List(second_shortest)</td><td>false</td><td>false</td><td>0.421216</td></tr><tr><td>13522-2409301359--32132-2-10957-2410020155</td><td>List(71750, ₹71,750, _ndLY1mfHgq_)</td><td>List(List(13522-2409301359--32132-2-10957-2410020155, List(LGA, 95565057, New York LaGuardia, LGA, New York, United States, false), List(DEL, 95673498, Indira Gandhi International , DEL, New Delhi, India, false), 1586, 2, false, 2024-09-30T13:59:00, 2024-10-02T01:55:00, 2, List(List(List(-32132, https://logos.skyscnr.com/images/airlines/favicon/KL.png, KLM)), partially_operated), List(List(13522-10081-2409301359-2409301521--32132, List(null, null, New York LaGuardia, LGA, null, United States, null), List(null, null, Boston Logan International, BOS, null, United States, null), 2024-09-30T13:59:00, 2024-09-30T15:21:00, 82, 6895, List(-32132, null, KLM), List(-30991, null, Republic Airways DBA Delta Connection)), List(10081-9451-2409301650-2410010545--32132, List(null, null, Boston Logan International, BOS, null, United States, null), List(null, null, Amsterdam Schiphol, AMS, null, Netherlands, null), 2024-09-30T16:50:00, 2024-10-01T05:45:00, 415, 6095, List(-32132, null, KLM), List(-32385, null, Delta)), List(9451-10957-2410011410-2410020155--32132, List(null, null, Amsterdam Schiphol, AMS, null, Netherlands, null), List(null, null, Indira Gandhi International , DEL, null, India, null), 2024-10-01T14:10:00, 2024-10-02T01:55:00, 495, 871, List(-32132, null, KLM), List(-32132, null, KLM)))))</td><td>false</td><td>false</td><td>List(false, false, false, false)</td><td>List()</td><td>null</td><td>false</td><td>false</td><td>0.413985</td></tr><tr><td>13522-2409301800--31697-2-10957-2410020005</td><td>List(107941, ₹107,941, dnFDfTYJpz-u)</td><td>List(List(13522-2409301800--31697-2-10957-2410020005, List(LGA, 95565057, New York LaGuardia, LGA, New York, United States, false), List(DEL, 95673498, Indira Gandhi International , DEL, New Delhi, India, false), 1235, 2, false, 2024-09-30T18:00:00, 2024-10-02T00:05:00, 2, List(List(List(-31697, https://logos.skyscnr.com/images/airlines/favicon/VS.png, Virgin Atlantic)), partially_operated), List(List(13522-10081-2409301800-2409301927--31697, List(null, null, New York LaGuardia, LGA, null, United States, null), List(null, null, Boston Logan International, BOS, null, United States, null), 2024-09-30T18:00:00, 2024-09-30T19:27:00, 87, 3671, List(-31697, null, Virgin Atlantic), List(-30991, null, Republic Airways DBA Delta Connection)), List(10081-13554-2409302105-2410010855--31697, List(null, null, Boston Logan International, BOS, null, United States, null), List(null, null, London Heathrow, LHR, null, United Kingdom, null), 2024-09-30T21:05:00, 2024-10-01T08:55:00, 410, 158, List(-31697, null, Virgin Atlantic), List(-31697, null, Virgin Atlantic)), List(13554-10957-2410011030-2410020005--31697, List(null, null, London Heathrow, LHR, null, United Kingdom, null), List(null, null, Indira Gandhi International , DEL, null, India, null), 2024-10-01T10:30:00, 2024-10-02T00:05:00, 545, 302, List(-31697, null, Virgin Atlantic), List(-31697, null, Virgin Atlantic)))))</td><td>false</td><td>false</td><td>List(false, false, false, false)</td><td>List()</td><td>null</td><td>false</td><td>false</td><td>0.394625</td></tr><tr><td>13522-2409301600--32132-2-10957-2410030155</td><td>List(62097, ₹62,097, 5V8DvvTf4Lvc)</td><td>List(List(13522-2409301600--32132-2-10957-2410030155, List(LGA, 95565057, New York LaGuardia, LGA, New York, United States, false), List(DEL, 95673498, Indira Gandhi International , DEL, New Delhi, India, false), 2905, 2, false, 2024-09-30T16:00:00, 2024-10-03T01:55:00, 3, List(List(List(-32132, https://logos.skyscnr.com/images/airlines/favicon/KL.png, KLM)), partially_operated), List(List(13522-10081-2409301600-2409301731--32132, List(null, null, New York LaGuardia, LGA, null, United States, null), List(null, null, Boston Logan International, BOS, null, United States, null), 2024-09-30T16:00:00, 2024-09-30T17:31:00, 91, 6485, List(-32132, null, KLM), List(-30991, null, Republic Airways DBA Delta Connection)), List(10081-9451-2410011650-2410020545--32132, List(null, null, Boston Logan International, BOS, null, United States, null), List(null, null, Amsterdam Schiphol, AMS, null, Netherlands, null), 2024-10-01T16:50:00, 2024-10-02T05:45:00, 415, 6095, List(-32132, null, KLM), List(-32385, null, Delta)), List(9451-10957-2410021410-2410030155--32132, List(null, null, Amsterdam Schiphol, AMS, null, Netherlands, null), List(null, null, Indira Gandhi International , DEL, null, India, null), 2024-10-02T14:10:00, 2024-10-03T01:55:00, 495, 871, List(-32132, null, KLM), List(-32132, null, KLM)))))</td><td>false</td><td>false</td><td>List(false, false, false, false)</td><td>List()</td><td>List(second_cheapest)</td><td>false</td><td>false</td><td>0.392579</td></tr><tr><td>13522-2409301500--32132-2-10957-2410020155</td><td>List(78443, ₹78,443, NtBIflXnI82H)</td><td>List(List(13522-2409301500--32132-2-10957-2410020155, List(LGA, 95565057, New York LaGuardia, LGA, New York, United States, false), List(DEL, 95673498, Indira Gandhi International , DEL, New Delhi, India, false), 1525, 2, false, 2024-09-30T15:00:00, 2024-10-02T01:55:00, 2, List(List(List(-32132, https://logos.skyscnr.com/images/airlines/favicon/KL.png, KLM)), partially_operated), List(List(13522-11152-2409301500-2409301700--32132, List(null, null, New York LaGuardia, LGA, null, United States, null), List(null, null, Detroit Wayne County, DTW, null, United States, null), 2024-09-30T15:00:00, 2024-09-30T17:00:00, 120, 5131, List(-32132, null, KLM), List(-32385, null, Delta)), List(11152-9451-2409301825-2410010815--32132, List(null, null, Detroit Wayne County, DTW, null, United States, null), List(null, null, Amsterdam Schiphol, AMS, null, Netherlands, null), 2024-09-30T18:25:00, 2024-10-01T08:15:00, 470, 6119, List(-32132, null, KLM), List(-32385, null, Delta)), List(9451-10957-2410011410-2410020155--32132, List(null, null, Amsterdam Schiphol, AMS, null, Netherlands, null), List(null, null, Indira Gandhi International , DEL, null, India, null), 2024-10-01T14:10:00, 2024-10-02T01:55:00, 495, 871, List(-32132, null, KLM), List(-32132, null, KLM)))))</td><td>false</td><td>false</td><td>List(false, false, false, false)</td><td>List()</td><td>null</td><td>false</td><td>false</td><td>0.391696</td></tr><tr><td>13522-2409301545--32695-1-10957-2410012145</td><td>List(108439, ₹108,439, jGin0xHnUpNY)</td><td>List(List(13522-2409301545--32695-1-10957-2410012145, List(LGA, 95565057, New York LaGuardia, LGA, New York, United States, false), List(DEL, 95673498, Indira Gandhi International , DEL, New Delhi, India, false), 1230, 1, false, 2024-09-30T15:45:00, 2024-10-01T21:45:00, 1, List(List(List(-32695, https://logos.skyscnr.com/images/airlines/favicon/AC.png, Air Canada)), fully_operated), List(List(13522-18395-2409301545-2409301715--32695, List(null, null, New York LaGuardia, LGA, null, United States, null), List(null, null, Montreal Pierre Elliott Trudeau, YUL, null, Canada, null), 2024-09-30T15:45:00, 2024-09-30T17:15:00, 90, 733, List(-32695, null, Air Canada), List(-32695, null, Air Canada)), List(18395-10957-2409302150-2410012145--32695, List(null, null, Montreal Pierre Elliott Trudeau, YUL, null, Canada, null), List(null, null, Indira Gandhi International , DEL, null, India, null), 2024-09-30T21:50:00, 2024-10-01T21:45:00, 865, 50, List(-32695, null, Air Canada), List(-32695, null, Air Canada)))))</td><td>false</td><td>false</td><td>List(false, false, false, false)</td><td>List()</td><td>List(third_shortest)</td><td>false</td><td>false</td><td>0.388946</td></tr><tr><td>13522-2409301920--32695,-32677-3-14585-2410012235</td><td>List(89815, ₹89,815, XvleZGvtpB9U)</td><td>List(List(13522-2409301920--32695,-32677-3-14585-2410012235, List(LGA, 95565057, New York LaGuardia, LGA, New York, United States, false), List(NCL, 95674044, Newcastle, NCL, Newcastle, United Kingdom, false), 1335, 3, false, 2024-09-30T19:20:00, 2024-10-01T22:35:00, 1, List(List(List(-32695, https://logos.skyscnr.com/images/airlines/favicon/AC.png, Air Canada), List(-32677, https://logos.skyscnr.com/images/airlines/favicon/AF.png, Air France)), partially_operated), List(List(13522-18395-2409301920-2409302048--32695, List(null, null, New York LaGuardia, LGA, null, United States, null), List(null, null, Montreal Pierre Elliott Trudeau, YUL, null, Canada, null), 2024-09-30T19:20:00, 2024-09-30T20:48:00, 88, 8643, List(-32695, null, Air Canada), List(-31542, null, Air Canada Express - Jazz)), List(18395-9451-2409302215-2410011100--32695, List(null, null, Montreal Pierre Elliott Trudeau, YUL, null, Canada, null), List(null, null, Amsterdam Schiphol, AMS, null, Netherlands, null), 2024-09-30T22:15:00, 2024-10-01T11:00:00, 405, 900, List(-32695, null, Air Canada), List(-32695, null, Air Canada)), List(9451-10413-2410011755-2410011905--32677, List(null, null, Amsterdam Schiphol, AMS, null, Netherlands, null), List(null, null, Paris Charles de Gaulle, CDG, null, France, null), 2024-10-01T17:55:00, 2024-10-01T19:05:00, 70, 8345, List(-32677, null, Air France), List(-32132, null, KLM)), List(10413-14585-2410012200-2410012235--32677, List(null, null, Paris Charles de Gaulle, CDG, null, France, null), List(null, null, Newcastle, NCL, null, United Kingdom, null), 2024-10-01T22:00:00, 2024-10-01T22:35:00, 95, 1558, List(-32677, null, Air France), List(-32226, null, HOP!)))))</td><td>false</td><td>false</td><td>List(false, false, false, false)</td><td>List()</td><td>List(cheapest, shortest)</td><td>false</td><td>false</td><td>0.9997</td></tr><tr><td>13522-2409301859--31697,-32360-2-14773-2410012010</td><td>List(54656.66, ₹54,657, Vns1RcBLd6LI)</td><td>List(List(13522-2409301859--31697,-32360-2-14773-2410012010, List(LGA, 95565057, New York LaGuardia, LGA, New York, United States, false), List(NQY, 95673963, Newquay, NQY, Newquay, United Kingdom, false), 1211, 2, false, 2024-09-30T18:59:00, 2024-10-01T20:10:00, 1, List(List(List(-31697, https://logos.skyscnr.com/images/airlines/favicon/VS.png, Virgin Atlantic), List(-32360, https://logos.skyscnr.com/images/airlines/favicon/T3.png, Eastern Airways)), partially_operated), List(List(13522-10081-2409301859-2409302025--31697, List(null, null, New York LaGuardia, LGA, null, United States, null), List(null, null, Boston Logan International, BOS, null, United States, null), 2024-09-30T18:59:00, 2024-09-30T20:25:00, 86, 3670, List(-31697, null, Virgin Atlantic), List(-30991, null, Republic Airways DBA Delta Connection)), List(10081-13554-2409302210-2410011000--31697, List(null, null, Boston Logan International, BOS, null, United States, null), List(null, null, London Heathrow, LHR, null, United Kingdom, null), 2024-09-30T22:10:00, 2024-10-01T10:00:00, 410, 12, List(-31697, null, Virgin Atlantic), List(-31697, null, Virgin Atlantic)), List(13542-14773-2410011850-2410012010--32360, List(null, null, London Gatwick, LGW, null, United Kingdom, null), List(null, null, Newquay, NQY, null, United Kingdom, null), 2024-10-01T18:50:00, 2024-10-01T20:10:00, 80, 458, List(-32360, null, Eastern Airways), List(-32360, null, Eastern Airways)))))</td><td>false</td><td>true</td><td>List(false, false, false, false)</td><td>List()</td><td>List(cheapest, second_shortest)</td><td>false</td><td>false</td><td>0.999</td></tr><tr><td>13522-2409301920--32695,-32360-2-14773-2410012010</td><td>List(61072.77, ₹61,073, uH9KbbB7irnv)</td><td>List(List(13522-2409301920--32695,-32360-2-14773-2410012010, List(LGA, 95565057, New York LaGuardia, LGA, New York, United States, false), List(NQY, 95673963, Newquay, NQY, Newquay, United Kingdom, false), 1190, 2, false, 2024-09-30T19:20:00, 2024-10-01T20:10:00, 1, List(List(List(-32695, https://logos.skyscnr.com/images/airlines/favicon/AC.png, Air Canada), List(-32360, https://logos.skyscnr.com/images/airlines/favicon/T3.png, Eastern Airways)), partially_operated), List(List(13522-18395-2409301920-2409302048--32695, List(null, null, New York LaGuardia, LGA, null, United States, null), List(null, null, Montreal Pierre Elliott Trudeau, YUL, null, Canada, null), 2024-09-30T19:20:00, 2024-09-30T20:48:00, 88, 8643, List(-32695, null, Air Canada), List(-31542, null, Air Canada Express - Jazz)), List(18395-13554-2409302220-2410011000--32695, List(null, null, Montreal Pierre Elliott Trudeau, YUL, null, Canada, null), List(null, null, London Heathrow, LHR, null, United Kingdom, null), 2024-09-30T22:20:00, 2024-10-01T10:00:00, 400, 864, List(-32695, null, Air Canada), List(-32695, null, Air Canada)), List(13542-14773-2410011850-2410012010--32360, List(null, null, London Gatwick, LGW, null, United Kingdom, null), List(null, null, Newquay, NQY, null, United Kingdom, null), 2024-10-01T18:50:00, 2024-10-01T20:10:00, 80, 458, List(-32360, null, Eastern Airways), List(-32360, null, Eastern Airways)))))</td><td>false</td><td>true</td><td>List(false, false, false, false)</td><td>List()</td><td>List(second_cheapest, shortest)</td><td>false</td><td>false</td><td>0.813513</td></tr><tr><td>11442-2409302150--31799-1-10957-2410012340</td><td>List(37290, ₹37,290, XcV4D6e6skgv)</td><td>List(List(11442-2409302150--31799-1-10957-2410012340, List(EWR, 95565059, New York Newark, EWR, New York, United States, false), List(DEL, 95673498, Indira Gandhi International , DEL, New Delhi, India, false), 980, 1, false, 2024-09-30T21:50:00, 2024-10-01T23:40:00, 1, List(List(List(-31799, https://logos.skyscnr.com/images/airlines/favicon/LX.png, SWISS)), fully_operated), List(List(11442-18563-2409302150-2410011135--31799, List(null, null, New York Newark, EWR, null, United States, null), List(null, null, Zurich, ZRH, null, Switzerland, null), 2024-09-30T21:50:00, 2024-10-01T11:35:00, 465, 19, List(-31799, null, SWISS), List(-31799, null, SWISS)), List(18563-10957-2410011220-2410012340--31799, List(null, null, Zurich, ZRH, null, Switzerland, null), List(null, null, Indira Gandhi International , DEL, null, India, null), 2024-10-01T12:20:00, 2024-10-01T23:40:00, 470, 146, List(-31799, null, SWISS), List(-31799, null, SWISS)))))</td><td>false</td><td>false</td><td>List(false, false, false, false)</td><td>List()</td><td>List(cheapest, shortest)</td><td>false</td><td>false</td><td>0.999</td></tr><tr><td>11442-2409302030--32090-1-10957-2410012330</td><td>List(40913, ₹40,913, JWFgOZtzgagh)</td><td>List(List(11442-2409302030--32090-1-10957-2410012330, List(EWR, 95565059, New York Newark, EWR, New York, United States, false), List(DEL, 95673498, Indira Gandhi International , DEL, New Delhi, India, false), 1050, 1, false, 2024-09-30T20:30:00, 2024-10-01T23:30:00, 1, List(List(List(-32090, https://logos.skyscnr.com/images/airlines/favicon/LH.png, Lufthansa)), fully_operated), List(List(11442-14385-2409302030-2410011020--32090, List(null, null, New York Newark, EWR, null, United States, null), List(null, null, Munich, MUC, null, Germany, null), 2024-09-30T20:30:00, 2024-10-01T10:20:00, 470, 413, List(-32090, null, Lufthansa), List(-32090, null, Lufthansa)), List(14385-10957-2410011220-2410012330--32090, List(null, null, Munich, MUC, null, Germany, null), List(null, null, Indira Gandhi International , DEL, null, India, null), 2024-10-01T12:20:00, 2024-10-01T23:30:00, 460, 762, List(-32090, null, Lufthansa), List(-32090, null, Lufthansa)))))</td><td>false</td><td>false</td><td>List(false, false, false, false)</td><td>List()</td><td>List(second_cheapest, second_shortest)</td><td>false</td><td>false</td><td>0.755999</td></tr><tr><td>11442-2409301800--32090-2-10957-2410012330</td><td>List(44026, ₹44,026, P7JaUY6gxau4)</td><td>List(List(11442-2409301800--32090-2-10957-2410012330, List(EWR, 95565059, New York Newark, EWR, New York, United States, false), List(DEL, 95673498, Indira Gandhi International , DEL, New Delhi, India, false), 1200, 2, false, 2024-09-30T18:00:00, 2024-10-01T23:30:00, 1, List(List(List(-32090, https://logos.skyscnr.com/images/airlines/favicon/LH.png, Lufthansa)), fully_operated), List(List(11442-11616-2409301800-2410010730--32090, List(null, null, New York Newark, EWR, null, United States, null), List(null, null, Frankfurt am Main, FRA, null, Germany, null), 2024-09-30T18:00:00, 2024-10-01T07:30:00, 450, 403, List(-32090, null, Lufthansa), List(-32090, null, Lufthansa)), List(11616-14385-2410011015-2410011110--32090, List(null, null, Frankfurt am Main, FRA, null, Germany, null), List(null, null, Munich, MUC, null, Germany, null), 2024-10-01T10:15:00, 2024-10-01T11:10:00, 55, 100, List(-32090, null, Lufthansa), List(-32090, null, Lufthansa)), List(14385-10957-2410011220-2410012330--32090, List(null, null, Munich, MUC, null, Germany, null), List(null, null, Indira Gandhi International , DEL, null, India, null), 2024-10-01T12:20:00, 2024-10-01T23:30:00, 460, 762, List(-32090, null, Lufthansa), List(-32090, null, Lufthansa)))))</td><td>false</td><td>false</td><td>List(false, false, false, false)</td><td>List()</td><td>List(third_cheapest)</td><td>false</td><td>false</td><td>0.529458</td></tr><tr><td>11442-2409301930--32090-2-10957-2410012330</td><td>List(55424, ₹55,424, sAPCML7G-pHc)</td><td>List(List(11442-2409301930--32090-2-10957-2410012330, List(EWR, 95565059, New York Newark, EWR, New York, United States, false), List(DEL, 95673498, Indira Gandhi International , DEL, New Delhi, India, false), 1110, 2, false, 2024-09-30T19:30:00, 2024-10-01T23:30:00, 1, List(List(List(-32090, https://logos.skyscnr.com/images/airlines/favicon/LH.png, Lufthansa)), partially_operated), List(List(11442-11616-2409301930-2410010910--32090, List(null, null, New York Newark, EWR, null, United States, null), List(null, null, Frankfurt am Main, FRA, null, Germany, null), 2024-09-30T19:30:00, 2024-10-01T09:10:00, 460, 7602, List(-32090, null, Lufthansa), List(-31722, null, United)), List(11616-14385-2410011015-2410011110--32090, List(null, null, Frankfurt am Main, FRA, null, Germany, null), List(null, null, Munich, MUC, null, Germany, null), 2024-10-01T10:15:00, 2024-10-01T11:10:00, 55, 100, List(-32090, null, Lufthansa), List(-32090, null, Lufthansa)), List(14385-10957-2410011220-2410012330--32090, List(null, null, Munich, MUC, null, Germany, null), List(null, null, Indira Gandhi International , DEL, null, India, null), 2024-10-01T12:20:00, 2024-10-01T23:30:00, 460, 762, List(-32090, null, Lufthansa), List(-32090, null, Lufthansa)))))</td><td>false</td><td>false</td><td>List(false, false, false, false)</td><td>List()</td><td>List(third_shortest)</td><td>false</td><td>false</td><td>0.412248</td></tr><tr><td>11442-2409301730--31799-2-10957-2410012340</td><td>List(53757, ₹53,757, pWcYKwow_BTx)</td><td>List(List(11442-2409301730--31799-2-10957-2410012340, List(EWR, 95565059, New York Newark, EWR, New York, United States, false), List(DEL, 95673498, Indira Gandhi International , DEL, New Delhi, India, false), 1240, 2, false, 2024-09-30T17:30:00, 2024-10-01T23:40:00, 1, List(List(List(-31799, https://logos.skyscnr.com/images/airlines/favicon/LX.png, SWISS)), partially_operated), List(List(11442-12015-2409301730-2410010730--31799, List(null, null, New York Newark, EWR, null, United States, null), List(null, null, Geneva, GVA, null, Switzerland, null), 2024-09-30T17:30:00, 2024-10-01T07:30:00, 480, 3217, List(-31799, null, SWISS), List(-31722, null, United)), List(12015-18563-2410011000-2410011055--31799, List(null, null, Geneva, GVA, null, Switzerland, null), List(null, null, Zurich, ZRH, null, Switzerland, null), 2024-10-01T10:00:00, 2024-10-01T10:55:00, 55, 2807, List(-31799, null, SWISS), List(-31799, null, SWISS)), List(18563-10957-2410011220-2410012340--31799, List(null, null, Zurich, ZRH, null, Switzerland, null), List(null, null, Indira Gandhi International , DEL, null, India, null), 2024-10-01T12:20:00, 2024-10-01T23:40:00, 470, 146, List(-31799, null, SWISS), List(-31799, null, SWISS)))))</td><td>false</td><td>false</td><td>List(false, false, false, false)</td><td>List()</td><td>null</td><td>false</td><td>false</td><td>0.404434</td></tr><tr><td>11442-2409301740--31799-2-10957-2410012340</td><td>List(53077, ₹53,077, 5witxjNTCP9P)</td><td>List(List(11442-2409301740--31799-2-10957-2410012340, List(EWR, 95565059, New York Newark, EWR, New York, United States, false), List(DEL, 95673498, Indira Gandhi International , DEL, New Delhi, India, false), 1230, 2, false, 2024-09-30T17:40:00, 2024-10-01T23:40:00, 1, List(List(List(-31799, https://logos.skyscnr.com/images/airlines/favicon/LX.png, SWISS)), partially_operated), List(List(11442-9451-2409301740-2410010715--31799, List(null, null, New York Newark, EWR, null, United States, null), List(null, null, Amsterdam Schiphol, AMS, null, Netherlands, null), 2024-09-30T17:40:00, 2024-10-01T07:15:00, 455, 3003, List(-31799, null, SWISS), List(-31722, null, United)), List(9451-18563-2410010950-2410011115--31799, List(null, null, Amsterdam Schiphol, AMS, null, Netherlands, null), List(null, null, Zurich, ZRH, null, Switzerland, null), 2024-10-01T09:50:00, 2024-10-01T11:15:00, 85, 725, List(-31799, null, SWISS), List(-31799, null, SWISS)), List(18563-10957-2410011220-2410012340--31799, List(null, null, Zurich, ZRH, null, Switzerland, null), List(null, null, Indira Gandhi International , DEL, null, India, null), 2024-10-01T12:20:00, 2024-10-01T23:40:00, 470, 146, List(-31799, null, SWISS), List(-31799, null, SWISS)))))</td><td>false</td><td>false</td><td>List(false, false, false, false)</td><td>List()</td><td>null</td><td>false</td><td>false</td><td>0.404079</td></tr><tr><td>11442-2409301715--31799-2-10957-2410012340</td><td>List(52825, ₹52,825, BC2f_kbEoaGj)</td><td>List(List(11442-2409301715--31799-2-10957-2410012340, List(EWR, 95565059, New York Newark, EWR, New York, United States, false), List(DEL, 95673498, Indira Gandhi International , DEL, New Delhi, India, false), 1255, 2, false, 2024-09-30T17:15:00, 2024-10-01T23:40:00, 1, List(List(List(-31799, https://logos.skyscnr.com/images/airlines/favicon/LX.png, SWISS)), partially_operated), List(List(11442-11493-2409301715-2410010735--31799, List(null, null, New York Newark, EWR, null, United States, null), List(null, null, Rome Fiumicino, FCO, null, Italy, null), 2024-09-30T17:15:00, 2024-10-01T07:35:00, 500, 3029, List(-31799, null, SWISS), List(-31722, null, United)), List(11493-18563-2410010940-2410011120--31799, List(null, null, Rome Fiumicino, FCO, null, Italy, null), List(null, null, Zurich, ZRH, null, Switzerland, null), 2024-10-01T09:40:00, 2024-10-01T11:20:00, 100, 1727, List(-31799, null, SWISS), List(-31799, null, SWISS)), List(18563-10957-2410011220-2410012340--31799, List(null, null, Zurich, ZRH, null, Switzerland, null), List(null, null, Indira Gandhi International , DEL, null, India, null), 2024-10-01T12:20:00, 2024-10-01T23:40:00, 470, 146, List(-31799, null, SWISS), List(-31799, null, SWISS)))))</td><td>false</td><td>false</td><td>List(false, false, false, false)</td><td>List()</td><td>null</td><td>false</td><td>false</td><td>0.401966</td></tr><tr><td>11442-2409301900--31799-2-10957-2410012340</td><td>List(52641, ₹52,641, 7u2mJ2-3wv_I)</td><td>List(List(11442-2409301900--31799-2-10957-2410012340, List(EWR, 95565059, New York Newark, EWR, New York, United States, false), List(DEL, 95673498, Indira Gandhi International , DEL, New Delhi, India, false), 1150, 2, false, 2024-09-30T19:00:00, 2024-10-01T23:40:00, 1, List(List(List(-31799, https://logos.skyscnr.com/images/airlines/favicon/LX.png, SWISS)), partially_operated), List(List(11442-13554-2409301900-2410010715--31799, List(null, null, New York Newark, EWR, null, United States, null), List(null, null, London Heathrow, LHR, null, United Kingdom, null), 2024-09-30T19:00:00, 2024-10-01T07:15:00, 435, 3047, List(-31799, null, SWISS), List(-31722, null, United)), List(13554-18563-2410010840-2410011135--31799, List(null, null, London Heathrow, LHR, null, United Kingdom, null), List(null, null, Zurich, ZRH, null, Switzerland, null), 2024-10-01T08:40:00, 2024-10-01T11:35:00, 115, 317, List(-31799, null, SWISS), List(-31799, null, SWISS)), List(18563-10957-2410011220-2410012340--31799, List(null, null, Zurich, ZRH, null, Switzerland, null), List(null, null, Indira Gandhi International , DEL, null, India, null), 2024-10-01T12:20:00, 2024-10-01T23:40:00, 470, 146, List(-31799, null, SWISS), List(-31799, null, SWISS)))))</td><td>false</td><td>false</td><td>List(false, false, false, false)</td><td>List()</td><td>null</td><td>false</td><td>false</td><td>0.401226</td></tr><tr><td>11442-2409301745--31799-2-10957-2410012340</td><td>List(83508, ₹83,508, oKI7HD6SlFXM)</td><td>List(List(11442-2409301745--31799-2-10957-2410012340, List(EWR, 95565059, New York Newark, EWR, New York, United States, false), List(DEL, 95673498, Indira Gandhi International , DEL, New Delhi, India, false), 1225, 2, false, 2024-09-30T17:45:00, 2024-10-01T23:40:00, 1, List(List(List(-31799, https://logos.skyscnr.com/images/airlines/favicon/LX.png, SWISS)), partially_operated), List(List(11442-14476-2409301745-2410010730--31799, List(null, null, New York Newark, EWR, null, United States, null), List(null, null, Milan Malpensa, MXP, null, Italy, null), 2024-09-30T17:45:00, 2024-10-01T07:30:00, 465, 3077, List(-31799, null, SWISS), List(-31722, null, United)), List(14476-18563-2410011040-2410011135--31799, List(null, null, Milan Malpensa, MXP, null, Italy, null), List(null, null, Zurich, ZRH, null, Switzerland, null), 2024-10-01T10:40:00, 2024-10-01T11:35:00, 55, 1613, List(-31799, null, SWISS), List(-31799, null, SWISS)), List(18563-10957-2410011220-2410012340--31799, List(null, null, Zurich, ZRH, null, Switzerland, null), List(null, null, Indira Gandhi International , DEL, null, India, null), 2024-10-01T12:20:00, 2024-10-01T23:40:00, 470, 146, List(-31799, null, SWISS), List(-31799, null, SWISS)))))</td><td>false</td><td>false</td><td>List(false, false, false, false)</td><td>List()</td><td>null</td><td>false</td><td>false</td><td>0.399992</td></tr><tr><td>11442-2409301800--31799-2-10957-2410012340</td><td>List(52641, ₹52,641, OcX1DLqQBvUO)</td><td>List(List(11442-2409301800--31799-2-10957-2410012340, List(EWR, 95565059, New York Newark, EWR, New York, United States, false), List(DEL, 95673498, Indira Gandhi International , DEL, New Delhi, India, false), 1210, 2, false, 2024-09-30T18:00:00, 2024-10-01T23:40:00, 1, List(List(List(-31799, https://logos.skyscnr.com/images/airlines/favicon/LX.png, SWISS)), partially_operated), List(List(11442-13554-2409301800-2410010620--31799, List(null, null, New York Newark, EWR, null, United States, null), List(null, null, London Heathrow, LHR, null, United Kingdom, null), 2024-09-30T18:00:00, 2024-10-01T06:20:00, 440, 3034, List(-31799, null, SWISS), List(-31722, null, United)), List(13554-18563-2410010840-2410011135--31799, List(null, null, London Heathrow, LHR, null, United Kingdom, null), List(null, null, Zurich, ZRH, null, Switzerland, null), 2024-10-01T08:40:00, 2024-10-01T11:35:00, 115, 317, List(-31799, null, SWISS), List(-31799, null, SWISS)), List(18563-10957-2410011220-2410012340--31799, List(null, null, Zurich, ZRH, null, Switzerland, null), List(null, null, Indira Gandhi International , DEL, null, India, null), 2024-10-01T12:20:00, 2024-10-01T23:40:00, 470, 146, List(-31799, null, SWISS), List(-31799, null, SWISS)))))</td><td>false</td><td>false</td><td>List(false, false, false, false)</td><td>List()</td><td>null</td><td>false</td><td>false</td><td>0.398917</td></tr><tr><td>11442-2409301800--32090-1-14585-2410011100</td><td>List(39579, ₹39,579, R1hwx0f1DQrz)</td><td>List(List(11442-2409301800--32090-1-14585-2410011100, List(EWR, 95565059, New York Newark, EWR, New York, United States, false), List(NCL, 95674044, Newcastle, NCL, Newcastle, United Kingdom, false), 720, 1, false, 2024-09-30T18:00:00, 2024-10-01T11:00:00, 1, List(List(List(-32090, https://logos.skyscnr.com/images/airlines/favicon/LH.png, Lufthansa)), partially_operated), List(List(11442-11616-2409301800-2410010730--32090, List(null, null, New York Newark, EWR, null, United States, null), List(null, null, Frankfurt am Main, FRA, null, Germany, null), 2024-09-30T18:00:00, 2024-10-01T07:30:00, 450, 403, List(-32090, null, Lufthansa), List(-32090, null, Lufthansa)), List(11616-14585-2410011010-2410011100--32090, List(null, null, Frankfurt am Main, FRA, null, Germany, null), List(null, null, Newcastle, NCL, null, United Kingdom, null), 2024-10-01T10:10:00, 2024-10-01T11:00:00, 110, 966, List(-32090, null, Lufthansa), List(-32430, null, CityJet)))))</td><td>false</td><td>false</td><td>List(false, false, false, false)</td><td>List()</td><td>List(cheapest)</td><td>false</td><td>false</td><td>0.999</td></tr><tr><td>11442-2409302115--32480-1-14585-2410011215</td><td>List(58783, ₹58,783, 2dWF-Asgdlsz)</td><td>List(List(11442-2409302115--32480-1-14585-2410011215, List(EWR, 95565059, New York Newark, EWR, New York, United States, false), List(NCL, 95674044, Newcastle, NCL, Newcastle, United Kingdom, false), 600, 1, false, 2024-09-30T21:15:00, 2024-10-01T12:15:00, 1, List(List(List(-32480, https://logos.skyscnr.com/images/airlines/favicon/BA.png, British Airways)), fully_operated), List(List(11442-13554-2409302115-2410010920--32480, List(null, null, New York Newark, EWR, null, United States, null), List(null, null, London Heathrow, LHR, null, United Kingdom, null), 2024-09-30T21:15:00, 2024-10-01T09:20:00, 425, 188, List(-32480, null, British Airways), List(-32480, null, British Airways)), List(13554-14585-2410011105-2410011215--32480, List(null, null, London Heathrow, LHR, null, United Kingdom, null), List(null, null, Newcastle, NCL, null, United Kingdom, null), 2024-10-01T11:05:00, 2024-10-01T12:15:00, 70, 1328, List(-32480, null, British Airways), List(-32480, null, British Airways)))))</td><td>false</td><td>false</td><td>List(false, false, false, false)</td><td>List()</td><td>List(third_shortest)</td><td>false</td><td>false</td><td>0.82621</td></tr><tr><td>11442-2409301720--32480-1-14585-2410010755</td><td>List(65588, ₹65,588, nSmc9Y7P9yOx)</td><td>List(List(11442-2409301720--32480-1-14585-2410010755, List(EWR, 95565059, New York Newark, EWR, New York, United States, false), List(NCL, 95674044, Newcastle, NCL, Newcastle, United Kingdom, false), 575, 1, false, 2024-09-30T17:20:00, 2024-10-01T07:55:00, 1, List(List(List(-32480, https://logos.skyscnr.com/images/airlines/favicon/BA.png, British Airways)), not_operated), List(List(11442-11154-2409301720-2410010450--32480, List(null, null, New York Newark, EWR, null, United States, null), List(null, null, Dublin, DUB, null, Ireland, null), 2024-09-30T17:20:00, 2024-10-01T04:50:00, 390, 6132, List(-32480, null, British Airways), List(-32753, null, Aer Lingus)), List(11154-14585-2410010635-2410010755--32480, List(null, null, Dublin, DUB, null, Ireland, null), List(null, null, Newcastle, NCL, null, United Kingdom, null), 2024-10-01T06:35:00, 2024-10-01T07:55:00, 80, 8964, List(-32480, null, British Airways), List(-30651, null, Emerald Airlines)))))</td><td>false</td><td>false</td><td>List(false, false, false, false)</td><td>List()</td><td>List(shortest)</td><td>false</td><td>false</td><td>0.64377</td></tr><tr><td>11442-2409301930--32090-1-14585-2410011100</td><td>List(47944, ₹47,944, Kq3BGe71IOhq)</td><td>List(List(11442-2409301930--32090-1-14585-2410011100, List(EWR, 95565059, New York Newark, EWR, New York, United States, false), List(NCL, 95674044, Newcastle, NCL, Newcastle, United Kingdom, false), 630, 1, false, 2024-09-30T19:30:00, 2024-10-01T11:00:00, 1, List(List(List(-32090, https://logos.skyscnr.com/images/airlines/favicon/LH.png, Lufthansa)), not_operated), List(List(11442-11616-2409301930-2410010910--32090, List(null, null, New York Newark, EWR, null, United States, null), List(null, null, Frankfurt am Main, FRA, null, Germany, null), 2024-09-30T19:30:00, 2024-10-01T09:10:00, 460, 7602, List(-32090, null, Lufthansa), List(-31722, null, United)), List(11616-14585-2410011010-2410011100--32090, List(null, null, Frankfurt am Main, FRA, null, Germany, null), List(null, null, Newcastle, NCL, null, United Kingdom, null), 2024-10-01T10:10:00, 2024-10-01T11:00:00, 110, 966, List(-32090, null, Lufthansa), List(-32430, null, CityJet)))))</td><td>false</td><td>false</td><td>List(false, false, false, false)</td><td>List()</td><td>List(third_cheapest)</td><td>false</td><td>false</td><td>0.498519</td></tr><tr><td>11442-2409302115--32480-1-14585-2410012155</td><td>List(47607, ₹47,607, Rlo3CltxTqjc)</td><td>List(List(11442-2409302115--32480-1-14585-2410012155, List(EWR, 95565059, New York Newark, EWR, New York, United States, false), List(NCL, 95674044, Newcastle, NCL, Newcastle, United Kingdom, false), 1180, 1, false, 2024-09-30T21:15:00, 2024-10-01T21:55:00, 1, List(List(List(-32480, https://logos.skyscnr.com/images/airlines/favicon/BA.png, British Airways)), fully_operated), List(List(11442-13554-2409302115-2410010920--32480, List(null, null, New York Newark, EWR, null, United States, null), List(null, null, London Heathrow, LHR, null, United Kingdom, null), 2024-09-30T21:15:00, 2024-10-01T09:20:00, 425, 188, List(-32480, null, British Airways), List(-32480, null, British Airways)), List(13554-14585-2410012045-2410012155--32480, List(null, null, London Heathrow, LHR, null, United Kingdom, null), List(null, null, Newcastle, NCL, null, United Kingdom, null), 2024-10-01T20:45:00, 2024-10-01T21:55:00, 70, 1338, List(-32480, null, British Airways), List(-32480, null, British Airways)))))</td><td>false</td><td>true</td><td>List(false, false, false, false)</td><td>List()</td><td>List(second_cheapest)</td><td>false</td><td>false</td><td>0.420613</td></tr><tr><td>11442-2409301720--32753-1-14585-2410010755</td><td>List(75491.29, ₹75,492, re6768kUxOCK)</td><td>List(List(11442-2409301720--32753-1-14585-2410010755, List(EWR, 95565059, New York Newark, EWR, New York, United States, false), List(NCL, 95674044, Newcastle, NCL, Newcastle, United Kingdom, false), 575, 1, false, 2024-09-30T17:20:00, 2024-10-01T07:55:00, 1, List(List(List(-32753, https://logos.skyscnr.com/images/airlines/favicon/EI.png, Aer Lingus)), partially_operated), List(List(11442-11154-2409301720-2410010450--32753, List(null, null, New York Newark, EWR, null, United States, null), List(null, null, Dublin, DUB, null, Ireland, null), 2024-09-30T17:20:00, 2024-10-01T04:50:00, 390, 100, List(-32753, null, Aer Lingus), List(-32753, null, Aer Lingus)), List(11154-14585-2410010635-2410010755--32753, List(null, null, Dublin, DUB, null, Ireland, null), List(null, null, Newcastle, NCL, null, United Kingdom, null), 2024-10-01T06:35:00, 2024-10-01T07:55:00, 80, 3350, List(-32753, null, Aer Lingus), List(-30651, null, Emerald Airlines)))))</td><td>false</td><td>false</td><td>List(false, false, false, false)</td><td>List()</td><td>List(second_shortest)</td><td>false</td><td>false</td><td>0.402227</td></tr><tr><td>11442-2409301700--31697-1-14585-2410011035</td><td>List(87333, ₹87,333, -ZV1Sas4ScW8)</td><td>List(List(11442-2409301700--31697-1-14585-2410011035, List(EWR, 95565059, New York Newark, EWR, New York, United States, false), List(NCL, 95674044, Newcastle, NCL, Newcastle, United Kingdom, false), 755, 1, false, 2024-09-30T17:00:00, 2024-10-01T10:35:00, 1, List(List(List(-31697, https://logos.skyscnr.com/images/airlines/favicon/VS.png, Virgin Atlantic)), not_operated), List(List(11442-10413-2409301700-2410010605--31697, List(null, null, New York Newark, EWR, null, United States, null), List(null, null, Paris Charles de Gaulle, CDG, null, France, null), 2024-09-30T17:00:00, 2024-10-01T06:05:00, 425, 6785, List(-31697, null, Virgin Atlantic), List(-32677, null, Air France)), List(10413-14585-2410011000-2410011035--31697, List(null, null, Paris Charles de Gaulle, CDG, null, France, null), List(null, null, Newcastle, NCL, null, United Kingdom, null), 2024-10-01T10:00:00, 2024-10-01T10:35:00, 95, 6636, List(-31697, null, Virgin Atlantic), List(-32226, null, HOP!)))))</td><td>false</td><td>false</td><td>List(false, false, false, false)</td><td>List()</td><td>null</td><td>false</td><td>false</td><td>0.384165</td></tr><tr><td>11442-2409301700--32677-1-14585-2410011035</td><td>List(93335, ₹93,335, hkS9gELaQ_IF)</td><td>List(List(11442-2409301700--32677-1-14585-2410011035, List(EWR, 95565059, New York Newark, EWR, New York, United States, false), List(NCL, 95674044, Newcastle, NCL, Newcastle, United Kingdom, false), 755, 1, false, 2024-09-30T17:00:00, 2024-10-01T10:35:00, 1, List(List(List(-32677, https://logos.skyscnr.com/images/airlines/favicon/AF.png, Air France)), partially_operated), List(List(11442-10413-2409301700-2410010605--32677, List(null, null, New York Newark, EWR, null, United States, null), List(null, null, Paris Charles de Gaulle, CDG, null, France, null), 2024-09-30T17:00:00, 2024-10-01T06:05:00, 425, 63, List(-32677, null, Air France), List(-32677, null, Air France)), List(10413-14585-2410011000-2410011035--32677, List(null, null, Paris Charles de Gaulle, CDG, null, France, null), List(null, null, Newcastle, NCL, null, United Kingdom, null), 2024-10-01T10:00:00, 2024-10-01T10:35:00, 95, 1058, List(-32677, null, Air France), List(-32226, null, HOP!)))))</td><td>false</td><td>false</td><td>List(false, false, false, false)</td><td>List()</td><td>null</td><td>false</td><td>false</td><td>0.356543</td></tr><tr><td>11442-2409302115--32222-1-14585-2410011945</td><td>List(85136, ₹85,136, VwCrNPNuWrak)</td><td>List(List(11442-2409302115--32222-1-14585-2410011945, List(EWR, 95565059, New York Newark, EWR, New York, United States, false), List(NCL, 95674044, Newcastle, NCL, Newcastle, United Kingdom, false), 1050, 1, false, 2024-09-30T21:15:00, 2024-10-01T19:45:00, 1, List(List(List(-32222, https://logos.skyscnr.com/images/airlines/favicon/IB.png, Iberia)), not_operated), List(List(11442-13554-2409302115-2410010920--32222, List(null, null, New York Newark, EWR, null, United States, null), List(null, null, London Heathrow, LHR, null, United Kingdom, null), 2024-09-30T21:15:00, 2024-10-01T09:20:00, 425, 7383, List(-32222, null, Iberia), List(-32480, null, British Airways)), List(13554-14585-2410011835-2410011945--32222, List(null, null, London Heathrow, LHR, null, United Kingdom, null), List(null, null, Newcastle, NCL, null, United Kingdom, null), 2024-10-01T18:35:00, 2024-10-01T19:45:00, 70, 7545, List(-32222, null, Iberia), List(-32480, null, British Airways)))))</td><td>false</td><td>false</td><td>List(false, false, false, false)</td><td>List()</td><td>null</td><td>false</td><td>false</td><td>0.291204</td></tr><tr><td>11442-2409302115--32317,-32480-1-14585-2410011215</td><td>List(193521, ₹193,521, SyQyb6quuc86)</td><td>List(List(11442-2409302115--32317,-32480-1-14585-2410011215, List(EWR, 95565059, New York Newark, EWR, New York, United States, false), List(NCL, 95674044, Newcastle, NCL, Newcastle, United Kingdom, false), 600, 1, false, 2024-09-30T21:15:00, 2024-10-01T12:15:00, 1, List(List(List(-32317, https://logos.skyscnr.com/images/airlines/favicon/AY.png, Finnair), List(-32480, https://logos.skyscnr.com/images/airlines/favicon/BA.png, British Airways)), fully_operated), List(List(11442-13554-2409302115-2410010920--32317, List(null, null, New York Newark, EWR, null, United States, null), List(null, null, London Heathrow, LHR, null, United Kingdom, null), 2024-09-30T21:15:00, 2024-10-01T09:20:00, 425, 5488, List(-32317, null, Finnair), List(-32480, null, British Airways)), List(13554-14585-2410011105-2410011215--32480, List(null, null, London Heathrow, LHR, null, United Kingdom, null), List(null, null, Newcastle, NCL, null, United Kingdom, null), 2024-10-01T11:05:00, 2024-10-01T12:15:00, 70, 1328, List(-32480, null, British Airways), List(-32480, null, British Airways)))))</td><td>false</td><td>false</td><td>List(false, false, false, false)</td><td>List()</td><td>null</td><td>false</td><td>false</td><td>0.249569</td></tr><tr><td>11442-2409301720--32480-1-14773-2410011245</td><td>List(65588, ₹65,588, QAXFxaNh2wGQ)</td><td>List(List(11442-2409301720--32480-1-14773-2410011245, List(EWR, 95565059, New York Newark, EWR, New York, United States, false), List(NQY, 95673963, Newquay, NQY, Newquay, United Kingdom, false), 865, 1, false, 2024-09-30T17:20:00, 2024-10-01T12:45:00, 1, List(List(List(-32480, https://logos.skyscnr.com/images/airlines/favicon/BA.png, British Airways)), not_operated), List(List(11442-11154-2409301720-2410010450--32480, List(null, null, New York Newark, EWR, null, United States, null), List(null, null, Dublin, DUB, null, Ireland, null), 2024-09-30T17:20:00, 2024-10-01T04:50:00, 390, 6132, List(-32480, null, British Airways), List(-32753, null, Aer Lingus)), List(11154-14773-2410011125-2410011245--32480, List(null, null, Dublin, DUB, null, Ireland, null), List(null, null, Newquay, NQY, null, United Kingdom, null), 2024-10-01T11:25:00, 2024-10-01T12:45:00, 80, 8968, List(-32480, null, British Airways), List(-30651, null, Emerald Airlines)))))</td><td>false</td><td>false</td><td>List(false, false, false, false)</td><td>List()</td><td>List(second_cheapest, shortest)</td><td>false</td><td>false</td><td>0.999</td></tr><tr><td>11442-2409301720--32753-1-14773-2410011245</td><td>List(80792, ₹80,792, 4vvYFzxec1Dr)</td><td>List(List(11442-2409301720--32753-1-14773-2410011245, List(EWR, 95565059, New York Newark, EWR, New York, United States, false), List(NQY, 95673963, Newquay, NQY, Newquay, United Kingdom, false), 865, 1, false, 2024-09-30T17:20:00, 2024-10-01T12:45:00, 1, List(List(List(-32753, https://logos.skyscnr.com/images/airlines/favicon/EI.png, Aer Lingus)), partially_operated), List(List(11442-11154-2409301720-2410010450--32753, List(null, null, New York Newark, EWR, null, United States, null), List(null, null, Dublin, DUB, null, Ireland, null), 2024-09-30T17:20:00, 2024-10-01T04:50:00, 390, 100, List(-32753, null, Aer Lingus), List(-32753, null, Aer Lingus)), List(11154-14773-2410011125-2410011245--32753, List(null, null, Dublin, DUB, null, Ireland, null), List(null, null, Newquay, NQY, null, United Kingdom, null), 2024-10-01T11:25:00, 2024-10-01T12:45:00, 80, 3930, List(-32753, null, Aer Lingus), List(-30651, null, Emerald Airlines)))))</td><td>false</td><td>false</td><td>List(false, false, false, false)</td><td>List()</td><td>List(second_shortest)</td><td>false</td><td>false</td><td>0.687481</td></tr><tr><td>11442-2409302115--32480,-32360-1-14773-2410012010</td><td>List(62571, ₹62,571, YgHgRsp32CYo)</td><td>List(List(11442-2409302115--32480,-32360-1-14773-2410012010, List(EWR, 95565059, New York Newark, EWR, New York, United States, false), List(NQY, 95673963, Newquay, NQY, Newquay, United Kingdom, false), 1075, 1, false, 2024-09-30T21:15:00, 2024-10-01T20:10:00, 1, List(List(List(-32480, https://logos.skyscnr.com/images/airlines/favicon/BA.png, British Airways), List(-32360, https://logos.skyscnr.com/images/airlines/favicon/T3.png, Eastern Airways)), fully_operated), List(List(11442-13554-2409302115-2410010920--32480, List(null, null, New York Newark, EWR, null, United States, null), List(null, null, London Heathrow, LHR, null, United Kingdom, null), 2024-09-30T21:15:00, 2024-10-01T09:20:00, 425, 188, List(-32480, null, British Airways), List(-32480, null, British Airways)), List(13542-14773-2410011850-2410012010--32360, List(null, null, London Gatwick, LGW, null, United Kingdom, null), List(null, null, Newquay, NQY, null, United Kingdom, null), 2024-10-01T18:50:00, 2024-10-01T20:10:00, 80, 458, List(-32360, null, Eastern Airways), List(-32360, null, Eastern Airways)))))</td><td>false</td><td>true</td><td>List(false, false, false, false)</td><td>List()</td><td>List(cheapest, third_shortest)</td><td>false</td><td>false</td><td>0.582572</td></tr><tr><td>11442-2409302115--32480-3-14773-2410020945</td><td>List(69054, ₹69,054, NgPZP5Ig7yai)</td><td>List(List(11442-2409302115--32480-3-14773-2410020945, List(EWR, 95565059, New York Newark, EWR, New York, United States, false), List(NQY, 95673963, Newquay, NQY, Newquay, United Kingdom, false), 1890, 3, false, 2024-09-30T21:15:00, 2024-10-02T09:45:00, 2, List(List(List(-32480, https://logos.skyscnr.com/images/airlines/favicon/BA.png, British Airways)), partially_operated), List(List(11442-13554-2409302115-2410010920--32480, List(null, null, New York Newark, EWR, null, United States, null), List(null, null, London Heathrow, LHR, null, United Kingdom, null), 2024-09-30T21:15:00, 2024-10-01T09:20:00, 425, 188, List(-32480, null, British Airways), List(-32480, null, British Airways)), List(13554-9226-2410012100-2410012235--32480, List(null, null, London Heathrow, LHR, null, United Kingdom, null), List(null, null, Aberdeen, ABZ, null, United Kingdom, null), 2024-10-01T21:00:00, 2024-10-01T22:35:00, 95, 1318, List(-32480, null, British Airways), List(-32480, null, British Airways)), List(9226-13880-2410020640-2410020755--32480, List(null, null, Aberdeen, ABZ, null, United Kingdom, null), List(null, null, Manchester, MAN, null, United Kingdom, null), 2024-10-02T06:40:00, 2024-10-02T07:55:00, 75, 7821, List(-32480, null, British Airways), List(-32094, null, Loganair)), List(13880-14773-2410020835-2410020945--32480, List(null, null, Manchester, MAN, null, United Kingdom, null), List(null, null, Newquay, NQY, null, United Kingdom, null), 2024-10-02T08:35:00, 2024-10-02T09:45:00, 70, 7821, List(-32480, null, British Airways), List(-32094, null, Loganair)))))</td><td>false</td><td>false</td><td>List(false, false, false, false)</td><td>List()</td><td>List(third_cheapest)</td><td>false</td><td>false</td><td>0.390701</td></tr><tr><td>11442-2409302115--32480-2-14773-2410020945</td><td>List(69221, ₹69,221, PejjOsTBBDXv)</td><td>List(List(11442-2409302115--32480-2-14773-2410020945, List(EWR, 95565059, New York Newark, EWR, New York, United States, false), List(NQY, 95673963, Newquay, NQY, Newquay, United Kingdom, false), 1890, 2, false, 2024-09-30T21:15:00, 2024-10-02T09:45:00, 2, List(List(List(-32480, https://logos.skyscnr.com/images/airlines/favicon/BA.png, British Airways)), partially_operated), List(List(11442-13554-2409302115-2410010920--32480, List(null, null, New York Newark, EWR, null, United States, null), List(null, null, London Heathrow, LHR, null, United Kingdom, null), 2024-09-30T21:15:00, 2024-10-01T09:20:00, 425, 188, List(-32480, null, British Airways), List(-32480, null, British Airways)), List(13554-13880-2410011415-2410011515--32480, List(null, null, London Heathrow, LHR, null, United Kingdom, null), List(null, null, Manchester, MAN, null, United Kingdom, null), 2024-10-01T14:15:00, 2024-10-01T15:15:00, 60, 1394, List(-32480, null, British Airways), List(-32480, null, British Airways)), List(13880-14773-2410020835-2410020945--32480, List(null, null, Manchester, MAN, null, United Kingdom, null), List(null, null, Newquay, NQY, null, United Kingdom, null), 2024-10-02T08:35:00, 2024-10-02T09:45:00, 70, 7821, List(-32480, null, British Airways), List(-32094, null, Loganair)))))</td><td>false</td><td>false</td><td>List(false, false, false, false)</td><td>List()</td><td>null</td><td>false</td><td>false</td><td>0.390061</td></tr><tr><td>11442-2409302015--32090,-32480-3-14773-2410020945</td><td>List(141751, ₹141,751, iRFyXZUnfgCE)</td><td>List(List(11442-2409302015--32090,-32480-3-14773-2410020945, List(EWR, 95565059, New York Newark, EWR, New York, United States, false), List(NQY, 95673963, Newquay, NQY, Newquay, United Kingdom, false), 1950, 3, false, 2024-09-30T20:15:00, 2024-10-02T09:45:00, 2, List(List(List(-32090, https://logos.skyscnr.com/images/airlines/favicon/LH.png, Lufthansa), List(-32480, https://logos.skyscnr.com/images/airlines/favicon/BA.png, British Airways)), not_operated), List(List(11442-11235-2409302015-2410010805--32090, List(null, null, New York Newark, EWR, null, United States, null), List(null, null, Edinburgh, EDI, null, United Kingdom, null), 2024-09-30T20:15:00, 2024-10-01T08:05:00, 410, 7642, List(-32090, null, Lufthansa), List(-31722, null, United)), List(11235-9889-2410011110-2410011210--32480, List(null, null, Edinburgh, EDI, null, United Kingdom, null), List(null, null, Belfast City, BHD, null, United Kingdom, null), 2024-10-01T11:10:00, 2024-10-01T12:10:00, 60, 8875, List(-32480, null, British Airways), List(-30651, null, Emerald Airlines)), List(9889-13880-2410011425-2410011530--32480, List(null, null, Belfast City, BHD, null, United Kingdom, null), List(null, null, Manchester, MAN, null, United Kingdom, null), 2024-10-01T14:25:00, 2024-10-01T15:30:00, 65, 8904, List(-32480, null, British Airways), List(-30651, null, Emerald Airlines)), List(13880-14773-2410020835-2410020945--32480, List(null, null, Manchester, MAN, null, United Kingdom, null), List(null, null, Newquay, NQY, null, United Kingdom, null), 2024-10-02T08:35:00, 2024-10-02T09:45:00, 70, 7821, List(-32480, null, British Airways), List(-32094, null, Loganair)))))</td><td>false</td><td>false</td><td>List(false, false, false, false)</td><td>List()</td><td>null</td><td>false</td><td>false</td><td>0.195739</td></tr><tr><td>14585-2409302010--32480,-32317-1-12712-2410011105</td><td>List(233034, ₹233,034, BIJRFO57KctQ)</td><td>List(List(14585-2409302010--32480,-32317-1-12712-2410011105, List(NCL, 95674044, Newcastle, NCL, Newcastle, United Kingdom, false), List(JFK, 95565058, New York John F. Kennedy, JFK, New York, United States, false), 1195, 1, false, 2024-09-30T20:10:00, 2024-10-01T11:05:00, 1, List(List(List(-32480, https://logos.skyscnr.com/images/airlines/favicon/BA.png, British Airways), List(-32317, https://logos.skyscnr.com/images/airlines/favicon/AY.png, Finnair)), fully_operated), List(List(14585-13554-2409302010-2409302120--32480, List(null, null, Newcastle, NCL, null, United Kingdom, null), List(null, null, London Heathrow, LHR, null, United Kingdom, null), 2024-09-30T20:10:00, 2024-09-30T21:20:00, 70, 1337, List(-32480, null, British Airways), List(-32480, null, British Airways)), List(13554-12712-2410010820-2410011105--32317, List(null, null, London Heathrow, LHR, null, United Kingdom, null), List(null, null, New York John F. Kennedy, JFK, null, United States, null), 2024-10-01T08:20:00, 2024-10-01T11:05:00, 465, 5517, List(-32317, null, Finnair), List(-32480, null, British Airways)))))</td><td>false</td><td>false</td><td>List(false, false, false, false)</td><td>List()</td><td>List(second_cheapest, shortest)</td><td>false</td><td>false</td><td>0.999</td></tr><tr><td>14585-2409302010--32480,-32573-1-12712-2410011105</td><td>List(233331.18, ₹233,332, YlRa_sERvCWo)</td><td>List(List(14585-2409302010--32480,-32573-1-12712-2410011105, List(NCL, 95674044, Newcastle, NCL, Newcastle, United Kingdom, false), List(JFK, 95565058, New York John F. Kennedy, JFK, New York, United States, false), 1195, 1, false, 2024-09-30T20:10:00, 2024-10-01T11:05:00, 1, List(List(List(-32480, https://logos.skyscnr.com/images/airlines/favicon/BA.png, British Airways), List(-32573, https://logos.skyscnr.com/images/airlines/favicon/AA.png, American Airlines)), fully_operated), List(List(14585-13554-2409302010-2409302120--32480, List(null, null, Newcastle, NCL, null, United Kingdom, null), List(null, null, London Heathrow, LHR, null, United Kingdom, null), 2024-09-30T20:10:00, 2024-09-30T21:20:00, 70, 1337, List(-32480, null, British Airways), List(-32480, null, British Airways)), List(13554-12712-2410010820-2410011105--32573, List(null, null, London Heathrow, LHR, null, United Kingdom, null), List(null, null, New York John F. Kennedy, JFK, null, United States, null), 2024-10-01T08:20:00, 2024-10-01T11:05:00, 465, 6930, List(-32573, null, American Airlines), List(-32480, null, British Airways)))))</td><td>false</td><td>false</td><td>List(false, false, false, false)</td><td>List()</td><td>List(third_cheapest, second_shortest)</td><td>false</td><td>false</td><td>0.934883</td></tr><tr><td>14585-2409302010--32480,-32573-2-12712-2410011329</td><td>List(234897.67, ₹234,898, m35N6ZzelLMv)</td><td>List(List(14585-2409302010--32480,-32573-2-12712-2410011329, List(NCL, 95674044, Newcastle, NCL, Newcastle, United Kingdom, false), List(JFK, 95565058, New York John F. Kennedy, JFK, New York, United States, false), 1339, 2, false, 2024-09-30T20:10:00, 2024-10-01T13:29:00, 1, List(List(List(-32480, https://logos.skyscnr.com/images/airlines/favicon/BA.png, British Airways), List(-32573, https://logos.skyscnr.com/images/airlines/favicon/AA.png, American Airlines)), partially_operated), List(List(14585-13554-2409302010-2409302120--32480, List(null, null, Newcastle, NCL, null, United Kingdom, null), List(null, null, London Heathrow, LHR, null, United Kingdom, null), 2024-09-30T20:10:00, 2024-09-30T21:20:00, 70, 1337, List(-32480, null, British Airways), List(-32480, null, British Airways)), List(13554-11154-2410010655-2410010820--32480, List(null, null, London Heathrow, LHR, null, United Kingdom, null), List(null, null, Dublin, DUB, null, Ireland, null), 2024-10-01T06:55:00, 2024-10-01T08:20:00, 85, 832, List(-32480, null, British Airways), List(-32480, null, British Airways)), List(11154-12712-2410011105-2410011329--32573, List(null, null, Dublin, DUB, null, Ireland, null), List(null, null, New York John F. Kennedy, JFK, null, United States, null), 2024-10-01T11:05:00, 2024-10-01T13:29:00, 444, 8331, List(-32573, null, American Airlines), List(-32753, null, Aer Lingus)))))</td><td>false</td><td>false</td><td>List(false, false, false, false)</td><td>List()</td><td>List(third_shortest)</td><td>false</td><td>false</td><td>0.793038</td></tr><tr><td>14585-2409302010--32480,-32573-2-12712-2410011915</td><td>List(225213.93, ₹225,214, AnfEONXZnK4a)</td><td>List(List(14585-2409302010--32480,-32573-2-12712-2410011915, List(NCL, 95674044, Newcastle, NCL, Newcastle, United Kingdom, false), List(JFK, 95565058, New York John F. Kennedy, JFK, New York, United States, false), 1685, 2, false, 2024-09-30T20:10:00, 2024-10-01T19:15:00, 1, List(List(List(-32480, https://logos.skyscnr.com/images/airlines/favicon/BA.png, British Airways), List(-32573, https://logos.skyscnr.com/images/airlines/favicon/AA.png, American Airlines)), partially_operated), List(List(14585-13554-2409302010-2409302120--32480, List(null, null, Newcastle, NCL, null, United Kingdom, null), List(null, null, London Heathrow, LHR, null, United Kingdom, null), 2024-09-30T20:10:00, 2024-09-30T21:20:00, 70, 1337, List(-32480, null, British Airways), List(-32480, null, British Airways)), List(13554-10081-2410010945-2410011215--32573, List(null, null, London Heathrow, LHR, null, United Kingdom, null), List(null, null, Boston Logan International, BOS, null, United States, null), 2024-10-01T09:45:00, 2024-10-01T12:15:00, 450, 109, List(-32573, null, American Airlines), List(-32573, null, American Airlines)), List(10081-12712-2410011750-2410011915--32573, List(null, null, Boston Logan International, BOS, null, United States, null), List(null, null, New York John F. Kennedy, JFK, null, United States, null), 2024-10-01T17:50:00, 2024-10-01T19:15:00, 85, 4580, List(-32573, null, American Airlines), List(-31526, null, Republic Airways AS American Eagle)))))</td><td>false</td><td>false</td><td>List(false, false, false, false)</td><td>List()</td><td>List(cheapest)</td><td>false</td><td>false</td><td>0.65646</td></tr><tr><td>14585-2409302010--32480,-32317-2-12712-2410011915</td><td>List(233503, ₹233,503, JjmoYNNIiEOn)</td><td>List(List(14585-2409302010--32480,-32317-2-12712-2410011915, List(NCL, 95674044, Newcastle, NCL, Newcastle, United Kingdom, false), List(JFK, 95565058, New York John F. Kennedy, JFK, New York, United States, false), 1685, 2, false, 2024-09-30T20:10:00, 2024-10-01T19:15:00, 1, List(List(List(-32480, https://logos.skyscnr.com/images/airlines/favicon/BA.png, British Airways), List(-32317, https://logos.skyscnr.com/images/airlines/favicon/AY.png, Finnair)), partially_operated), List(List(14585-13554-2409302010-2409302120--32480, List(null, null, Newcastle, NCL, null, United Kingdom, null), List(null, null, London Heathrow, LHR, null, United Kingdom, null), 2024-09-30T20:10:00, 2024-09-30T21:20:00, 70, 1337, List(-32480, null, British Airways), List(-32480, null, British Airways)), List(13554-10081-2410010945-2410011215--32317, List(null, null, London Heathrow, LHR, null, United Kingdom, null), List(null, null, Boston Logan International, BOS, null, United States, null), 2024-10-01T09:45:00, 2024-10-01T12:15:00, 450, 4186, List(-32317, null, Finnair), List(-32573, null, American Airlines)), List(10081-12712-2410011750-2410011915--32317, List(null, null, Boston Logan International, BOS, null, United States, null), List(null, null, New York John F. Kennedy, JFK, null, United States, null), 2024-10-01T17:50:00, 2024-10-01T19:15:00, 85, 4256, List(-32317, null, Finnair), List(-31526, null, Republic Airways AS American Eagle)))))</td><td>false</td><td>false</td><td>List(false, false, false, false)</td><td>List()</td><td>null</td><td>false</td><td>false</td><td>0.631672</td></tr><tr><td>14585-2409302010--32480,-32317-2-12712-2410011905</td><td>List(274795, ₹274,795, ooOWEvZ2eZK6)</td><td>List(List(14585-2409302010--32480,-32317-2-12712-2410011905, List(NCL, 95674044, Newcastle, NCL, Newcastle, United Kingdom, false), List(JFK, 95565058, New York John F. Kennedy, JFK, New York, United States, false), 1675, 2, false, 2024-09-30T20:10:00, 2024-10-01T19:05:00, 1, List(List(List(-32480, https://logos.skyscnr.com/images/airlines/favicon/BA.png, British Airways), List(-32317, https://logos.skyscnr.com/images/airlines/favicon/AY.png, Finnair)), fully_operated), List(List(14585-13554-2409302010-2409302120--32480, List(null, null, Newcastle, NCL, null, United Kingdom, null), List(null, null, London Heathrow, LHR, null, United Kingdom, null), 2024-09-30T20:10:00, 2024-09-30T21:20:00, 70, 1337, List(-32480, null, British Airways), List(-32480, null, British Airways)), List(13554-12126-2410010730-2410011220--32317, List(null, null, London Heathrow, LHR, null, United Kingdom, null), List(null, null, Helsinki Vantaa, HEL, null, Finland, null), 2024-10-01T07:30:00, 2024-10-01T12:20:00, 170, 1340, List(-32317, null, Finnair), List(-32317, null, Finnair)), List(12126-12712-2410011720-2410011905--32317, List(null, null, Helsinki Vantaa, HEL, null, Finland, null), List(null, null, New York John F. Kennedy, JFK, null, United States, null), 2024-10-01T17:20:00, 2024-10-01T19:05:00, 525, 15, List(-32317, null, Finnair), List(-32317, null, Finnair)))))</td><td>false</td><td>false</td><td>List(false, false, false, false)</td><td>List()</td><td>null</td><td>false</td><td>false</td><td>0.584719</td></tr><tr><td>14585-2409302010--32480,-32317-2-10957-2410030520</td><td>List(65627, ₹65,627, 089vC97VohZ8)</td><td>List(List(14585-2409302010--32480,-32317-2-10957-2410030520, List(NCL, 95674044, Newcastle, NCL, Newcastle, United Kingdom, false), List(DEL, 95673498, Indira Gandhi International , DEL, New Delhi, India, false), 3160, 2, false, 2024-09-30T20:10:00, 2024-10-03T05:20:00, 3, List(List(List(-32480, https://logos.skyscnr.com/images/airlines/favicon/BA.png, British Airways), List(-32317, https://logos.skyscnr.com/images/airlines/favicon/AY.png, Finnair)), fully_operated), List(List(14585-13554-2409302010-2409302120--32480, List(null, null, Newcastle, NCL, null, United Kingdom, null), List(null, null, London Heathrow, LHR, null, United Kingdom, null), 2024-09-30T20:10:00, 2024-09-30T21:20:00, 70, 1337, List(-32480, null, British Airways), List(-32480, null, British Airways)), List(13554-12126-2410011610-2410012100--32317, List(null, null, London Heathrow, LHR, null, United Kingdom, null), List(null, null, Helsinki Vantaa, HEL, null, Finland, null), 2024-10-01T16:10:00, 2024-10-01T21:00:00, 170, 1336, List(-32317, null, Finnair), List(-32317, null, Finnair)), List(12126-10957-2410021825-2410030520--32317, List(null, null, Helsinki Vantaa, HEL, null, Finland, null), List(null, null, Indira Gandhi International , DEL, null, India, null), 2024-10-02T18:25:00, 2024-10-03T05:20:00, 505, 121, List(-32317, null, Finnair), List(-32317, null, Finnair)))))</td><td>false</td><td>false</td><td>List(false, false, false, false)</td><td>List()</td><td>List(cheapest, second_shortest)</td><td>false</td><td>false</td><td>0.999</td></tr><tr><td>14585-2409302010--32480,-32317-2-10957-2410020520</td><td>List(168902, ₹168,902, YHHIZM73QL5h)</td><td>List(List(14585-2409302010--32480,-32317-2-10957-2410020520, List(NCL, 95674044, Newcastle, NCL, Newcastle, United Kingdom, false), List(DEL, 95673498, Indira Gandhi International , DEL, New Delhi, India, false), 1720, 2, false, 2024-09-30T20:10:00, 2024-10-02T05:20:00, 2, List(List(List(-32480, https://logos.skyscnr.com/images/airlines/favicon/BA.png, British Airways), List(-32317, https://logos.skyscnr.com/images/airlines/favicon/AY.png, Finnair)), fully_operated), List(List(14585-13554-2409302010-2409302120--32480, List(null, null, Newcastle, NCL, null, United Kingdom, null), List(null, null, London Heathrow, LHR, null, United Kingdom, null), 2024-09-30T20:10:00, 2024-09-30T21:20:00, 70, 1337, List(-32480, null, British Airways), List(-32480, null, British Airways)), List(13554-12126-2410010730-2410011220--32317, List(null, null, London Heathrow, LHR, null, United Kingdom, null), List(null, null, Helsinki Vantaa, HEL, null, Finland, null), 2024-10-01T07:30:00, 2024-10-01T12:20:00, 170, 1340, List(-32317, null, Finnair), List(-32317, null, Finnair)), List(12126-10957-2410011825-2410020520--32317, List(null, null, Helsinki Vantaa, HEL, null, Finland, null), List(null, null, Indira Gandhi International , DEL, null, India, null), 2024-10-01T18:25:00, 2024-10-02T05:20:00, 505, 121, List(-32317, null, Finnair), List(-32317, null, Finnair)))))</td><td>false</td><td>false</td><td>List(false, false, false, false)</td><td>List()</td><td>List(second_cheapest, shortest)</td><td>false</td><td>false</td><td>0.388561</td></tr><tr><td>14585-2409302010--32480-2-13522-2410011759</td><td>List(242578, ₹242,578, VfURA9mgZrVL)</td><td>List(List(14585-2409302010--32480-2-13522-2410011759, List(NCL, 95674044, Newcastle, NCL, Newcastle, United Kingdom, false), List(LGA, 95565057, New York LaGuardia, LGA, New York, United States, false), 1609, 2, false, 2024-09-30T20:10:00, 2024-10-01T17:59:00, 1, List(List(List(-32480, https://logos.skyscnr.com/images/airlines/favicon/BA.png, British Airways)), partially_operated), List(List(14585-13554-2409302010-2409302120--32480, List(null, null, Newcastle, NCL, null, United Kingdom, null), List(null, null, London Heathrow, LHR, null, United Kingdom, null), 2024-09-30T20:10:00, 2024-09-30T21:20:00, 70, 1337, List(-32480, null, British Airways), List(-32480, null, British Airways)), List(13554-15062-2410010840-2410011117--32480, List(null, null, London Heathrow, LHR, null, United Kingdom, null), List(null, null, Chicago O'Hare International, ORD, null, United States, null), 2024-10-01T08:40:00, 2024-10-01T11:17:00, 517, 1522, List(-32480, null, British Airways), List(-32573, null, American Airlines)), List(15062-13522-2410011452-2410011759--32480, List(null, null, Chicago O'Hare International, ORD, null, United States, null), List(null, null, New York LaGuardia, LGA, null, United States, null), 2024-10-01T14:52:00, 2024-10-01T17:59:00, 127, 5240, List(-32480, null, British Airways), List(-32573, null, American Airlines)))))</td><td>false</td><td>false</td><td>List(false, false, false, false)</td><td>List()</td><td>List(second_cheapest, shortest)</td><td>false</td><td>false</td><td>0.999</td></tr><tr><td>14585-2409302010--32480-2-13522-2410012101</td><td>List(232531, ₹232,531, O_ztQpMMef5Q)</td><td>List(List(14585-2409302010--32480-2-13522-2410012101, List(NCL, 95674044, Newcastle, NCL, Newcastle, United Kingdom, false), List(LGA, 95565057, New York LaGuardia, LGA, New York, United States, false), 1791, 2, false, 2024-09-30T20:10:00, 2024-10-01T21:01:00, 1, List(List(List(-32480, https://logos.skyscnr.com/images/airlines/favicon/BA.png, British Airways)), partially_operated), List(List(14585-13554-2409302010-2409302120--32480, List(null, null, Newcastle, NCL, null, United Kingdom, null), List(null, null, London Heathrow, LHR, null, United Kingdom, null), 2024-09-30T20:10:00, 2024-09-30T21:20:00, 70, 1337, List(-32480, null, British Airways), List(-32480, null, British Airways)), List(13554-18467-2410011320-2410011610--32480, List(null, null, London Heathrow, LHR, null, United Kingdom, null), List(null, null, Toronto Pearson International, YYZ, null, Canada, null), 2024-10-01T13:20:00, 2024-10-01T16:10:00, 470, 93, List(-32480, null, British Airways), List(-32480, null, British Airways)), List(18467-13522-2410011915-2410012101--32480, List(null, null, Toronto Pearson International, YYZ, null, Canada, null), List(null, null, New York LaGuardia, LGA, null, United States, null), 2024-10-01T19:15:00, 2024-10-01T21:01:00, 106, 5756, List(-32480, null, British Airways), List(-31526, null, Republic Airways AS American Eagle)))))</td><td>false</td><td>false</td><td>List(false, false, false, false)</td><td>List()</td><td>List(cheapest, second_shortest)</td><td>false</td><td>false</td><td>0.898301</td></tr><tr><td>14585-2409302010--32480-1-11442-2410011355</td><td>List(232039, ₹232,039, Z2hpLCzuWwCM)</td><td>List(List(14585-2409302010--32480-1-11442-2410011355, List(NCL, 95674044, Newcastle, NCL, Newcastle, United Kingdom, false), List(EWR, 95565059, New York Newark, EWR, New York, United States, false), 1365, 1, false, 2024-09-30T20:10:00, 2024-10-01T13:55:00, 1, List(List(List(-32480, https://logos.skyscnr.com/images/airlines/favicon/BA.png, British Airways)), fully_operated), List(List(14585-13554-2409302010-2409302120--32480, List(null, null, Newcastle, NCL, null, United Kingdom, null), List(null, null, London Heathrow, LHR, null, United Kingdom, null), 2024-09-30T20:10:00, 2024-09-30T21:20:00, 70, 1337, List(-32480, null, British Airways), List(-32480, null, British Airways)), List(13554-11442-2410011110-2410011355--32480, List(null, null, London Heathrow, LHR, null, United Kingdom, null), List(null, null, New York Newark, EWR, null, United States, null), 2024-10-01T11:10:00, 2024-10-01T13:55:00, 465, 185, List(-32480, null, British Airways), List(-32480, null, British Airways)))))</td><td>false</td><td>false</td><td>List(false, false, false, false)</td><td>List()</td><td>List(second_cheapest, second_shortest)</td><td>false</td><td>false</td><td>0.999</td></tr><tr><td>14585-2409302010--32480,-32317-1-11442-2410011355</td><td>List(231984, ₹231,984, MkOYGpUhpV0I)</td><td>List(List(14585-2409302010--32480,-32317-1-11442-2410011355, List(NCL, 95674044, Newcastle, NCL, Newcastle, United Kingdom, false), List(EWR, 95565059, New York Newark, EWR, New York, United States, false), 1365, 1, false, 2024-09-30T20:10:00, 2024-10-01T13:55:00, 1, List(List(List(-32480, https://logos.skyscnr.com/images/airlines/favicon/BA.png, British Airways), List(-32317, https://logos.skyscnr.com/images/airlines/favicon/AY.png, Finnair)), fully_operated), List(List(14585-13554-2409302010-2409302120--32480, List(null, null, Newcastle, NCL, null, United Kingdom, null), List(null, null, London Heathrow, LHR, null, United Kingdom, null), 2024-09-30T20:10:00, 2024-09-30T21:20:00, 70, 1337, List(-32480, null, British Airways), List(-32480, null, British Airways)), List(13554-11442-2410011110-2410011355--32317, List(null, null, London Heathrow, LHR, null, United Kingdom, null), List(null, null, New York Newark, EWR, null, United States, null), 2024-10-01T11:10:00, 2024-10-01T13:55:00, 465, 5485, List(-32317, null, Finnair), List(-32480, null, British Airways)))))</td><td>false</td><td>false</td><td>List(false, false, false, false)</td><td>List()</td><td>List(cheapest, shortest)</td><td>false</td><td>false</td><td>0.888483</td></tr><tr><td>14585-2409302010--32480-2-11442-2410011705</td><td>List(242578, ₹242,578, wgyS_4c6jXUf)</td><td>List(List(14585-2409302010--32480-2-11442-2410011705, List(NCL, 95674044, Newcastle, NCL, Newcastle, United Kingdom, false), List(EWR, 95565059, New York Newark, EWR, New York, United States, false), 1555, 2, false, 2024-09-30T20:10:00, 2024-10-01T17:05:00, 1, List(List(List(-32480, https://logos.skyscnr.com/images/airlines/favicon/BA.png, British Airways)), partially_operated), List(List(14585-13554-2409302010-2409302120--32480, List(null, null, Newcastle, NCL, null, United Kingdom, null), List(null, null, London Heathrow, LHR, null, United Kingdom, null), 2024-09-30T20:10:00, 2024-09-30T21:20:00, 70, 1337, List(-32480, null, British Airways), List(-32480, null, British Airways)), List(13554-15062-2410010840-2410011117--32480, List(null, null, London Heathrow, LHR, null, United Kingdom, null), List(null, null, Chicago O'Hare International, ORD, null, United States, null), 2024-10-01T08:40:00, 2024-10-01T11:17:00, 517, 1522, List(-32480, null, British Airways), List(-32573, null, American Airlines)), List(15062-11442-2410011357-2410011705--32480, List(null, null, Chicago O'Hare International, ORD, null, United States, null), List(null, null, New York Newark, EWR, null, United States, null), 2024-10-01T13:57:00, 2024-10-01T17:05:00, 128, 5197, List(-32480, null, British Airways), List(-32573, null, American Airlines)))))</td><td>false</td><td>false</td><td>List(false, false, false, false)</td><td>List()</td><td>List(third_cheapest, third_shortest)</td><td>false</td><td>false</td><td>0.839319</td></tr><tr><td>14585-2409302010--32480-2-14773-2410020945</td><td>List(77394, ₹77,394, IHRMMU5ws55R)</td><td>List(List(14585-2409302010--32480-2-14773-2410020945, List(NCL, 95674044, Newcastle, NCL, Newcastle, United Kingdom, false), List(NQY, 95673963, Newquay, NQY, Newquay, United Kingdom, false), 2255, 2, false, 2024-09-30T20:10:00, 2024-10-02T09:45:00, 2, List(List(List(-32480, https://logos.skyscnr.com/images/airlines/favicon/BA.png, British Airways)), partially_operated), List(List(14585-13554-2409302010-2409302120--32480, List(null, null, Newcastle, NCL, null, United Kingdom, null), List(null, null, London Heathrow, LHR, null, United Kingdom, null), 2024-09-30T20:10:00, 2024-09-30T21:20:00, 70, 1337, List(-32480, null, British Airways), List(-32480, null, British Airways)), List(13554-13880-2410011415-2410011515--32480, List(null, null, London Heathrow, LHR, null, United Kingdom, null), List(null, null, Manchester, MAN, null, United Kingdom, null), 2024-10-01T14:15:00, 2024-10-01T15:15:00, 60, 1394, List(-32480, null, British Airways), List(-32480, null, British Airways)), List(13880-14773-2410020835-2410020945--32480, List(null, null, Manchester, MAN, null, United Kingdom, null), List(null, null, Newquay, NQY, null, United Kingdom, null), 2024-10-02T08:35:00, 2024-10-02T09:45:00, 70, 7821, List(-32480, null, British Airways), List(-32094, null, Loganair)))))</td><td>false</td><td>false</td><td>List(false, false, false, false)</td><td>List()</td><td>List(third_cheapest, third_shortest)</td><td>false</td><td>false</td><td>0.999</td></tr><tr><td>14585-2409302010--32480,-32094-3-14773-2410020945</td><td>List(70152, ₹70,152, fuWHlXXS2k0_)</td><td>List(List(14585-2409302010--32480,-32094-3-14773-2410020945, List(NCL, 95674044, Newcastle, NCL, Newcastle, United Kingdom, false), List(NQY, 95673963, Newquay, NQY, Newquay, United Kingdom, false), 2255, 3, false, 2024-09-30T20:10:00, 2024-10-02T09:45:00, 2, List(List(List(-32480, https://logos.skyscnr.com/images/airlines/favicon/BA.png, British Airways), List(-32094, https://logos.skyscnr.com/images/airlines/favicon/LC.png, Loganair)), fully_operated), List(List(14585-13554-2409302010-2409302120--32480, List(null, null, Newcastle, NCL, null, United Kingdom, null), List(null, null, London Heathrow, LHR, null, United Kingdom, null), 2024-09-30T20:10:00, 2024-09-30T21:20:00, 70, 1337, List(-32480, null, British Airways), List(-32480, null, British Airways)), List(13554-9226-2410011030-2410011200--32480, List(null, null, London Heathrow, LHR, null, United Kingdom, null), List(null, null, Aberdeen, ABZ, null, United Kingdom, null), 2024-10-01T10:30:00, 2024-10-01T12:00:00, 90, 1308, List(-32480, null, British Airways), List(-32480, null, British Airways)), List(9226-13880-2410020640-2410020755--32094, List(null, null, Aberdeen, ABZ, null, United Kingdom, null), List(null, null, Manchester, MAN, null, United Kingdom, null), 2024-10-02T06:40:00, 2024-10-02T07:55:00, 75, 21, List(-32094, null, Loganair), List(-32094, null, Loganair)), List(13880-14773-2410020835-2410020945--32094, List(null, null, Manchester, MAN, null, United Kingdom, null), List(null, null, Newquay, NQY, null, United Kingdom, null), 2024-10-02T08:35:00, 2024-10-02T09:45:00, 70, 21, List(-32094, null, Loganair), List(-32094, null, Loganair)))))</td><td>false</td><td>false</td><td>List(false, false, false, false)</td><td>List()</td><td>List(cheapest, shortest)</td><td>false</td><td>false</td><td>0.98061</td></tr><tr><td>14585-2409302010--32480,-32094-2-14773-2410020945</td><td>List(74169, ₹74,169, J3RfTaPOOSbh)</td><td>List(List(14585-2409302010--32480,-32094-2-14773-2410020945, List(NCL, 95674044, Newcastle, NCL, Newcastle, United Kingdom, false), List(NQY, 95673963, Newquay, NQY, Newquay, United Kingdom, false), 2255, 2, false, 2024-09-30T20:10:00, 2024-10-02T09:45:00, 2, List(List(List(-32480, https://logos.skyscnr.com/images/airlines/favicon/BA.png, British Airways), List(-32094, https://logos.skyscnr.com/images/airlines/favicon/LC.png, Loganair)), fully_operated), List(List(14585-13554-2409302010-2409302120--32480, List(null, null, Newcastle, NCL, null, United Kingdom, null), List(null, null, London Heathrow, LHR, null, United Kingdom, null), 2024-09-30T20:10:00, 2024-09-30T21:20:00, 70, 1337, List(-32480, null, British Airways), List(-32480, null, British Airways)), List(13554-13880-2410011415-2410011515--32480, List(null, null, London Heathrow, LHR, null, United Kingdom, null), List(null, null, Manchester, MAN, null, United Kingdom, null), 2024-10-01T14:15:00, 2024-10-01T15:15:00, 60, 1394, List(-32480, null, British Airways), List(-32480, null, British Airways)), List(13880-14773-2410020835-2410020945--32094, List(null, null, Manchester, MAN, null, United Kingdom, null), List(null, null, Newquay, NQY, null, United Kingdom, null), 2024-10-02T08:35:00, 2024-10-02T09:45:00, 70, 21, List(-32094, null, Loganair), List(-32094, null, Loganair)))))</td><td>false</td><td>false</td><td>List(false, false, false, false)</td><td>List()</td><td>List(second_cheapest, second_shortest)</td><td>false</td><td>false</td><td>0.906346</td></tr><tr><td>14585-2409302010--32480,-32317-1-12712-2410011105</td><td>List(233034, ₹233,034, BIJRFO57KctQ)</td><td>List(List(14585-2409302010--32480,-32317-1-12712-2410011105, List(NCL, 95674044, Newcastle, NCL, Newcastle, United Kingdom, false), List(JFK, 95565058, New York John F. Kennedy, JFK, New York, United States, false), 1195, 1, false, 2024-09-30T20:10:00, 2024-10-01T11:05:00, 1, List(List(List(-32480, https://logos.skyscnr.com/images/airlines/favicon/BA.png, British Airways), List(-32317, https://logos.skyscnr.com/images/airlines/favicon/AY.png, Finnair)), fully_operated), List(List(14585-13554-2409302010-2409302120--32480, List(null, null, Newcastle, NCL, null, United Kingdom, null), List(null, null, London Heathrow, LHR, null, United Kingdom, null), 2024-09-30T20:10:00, 2024-09-30T21:20:00, 70, 1337, List(-32480, null, British Airways), List(-32480, null, British Airways)), List(13554-12712-2410010820-2410011105--32317, List(null, null, London Heathrow, LHR, null, United Kingdom, null), List(null, null, New York John F. Kennedy, JFK, null, United States, null), 2024-10-01T08:20:00, 2024-10-01T11:05:00, 465, 5517, List(-32317, null, Finnair), List(-32480, null, British Airways)))))</td><td>false</td><td>false</td><td>List(false, false, false, false)</td><td>List()</td><td>List(cheapest, shortest)</td><td>false</td><td>false</td><td>0.999</td></tr><tr><td>14585-2409302010--32480,-32317-1-11442-2410011355</td><td>List(233034, ₹233,034, GIj0ZCcEBlvj)</td><td>List(List(14585-2409302010--32480,-32317-1-11442-2410011355, List(NCL, 95674044, Newcastle, NCL, Newcastle, United Kingdom, false), List(EWR, 95565059, New York Newark, EWR, New York, United States, false), 1365, 1, false, 2024-09-30T20:10:00, 2024-10-01T13:55:00, 1, List(List(List(-32480, https://logos.skyscnr.com/images/airlines/favicon/BA.png, British Airways), List(-32317, https://logos.skyscnr.com/images/airlines/favicon/AY.png, Finnair)), fully_operated), List(List(14585-13554-2409302010-2409302120--32480, List(null, null, Newcastle, NCL, null, United Kingdom, null), List(null, null, London Heathrow, LHR, null, United Kingdom, null), 2024-09-30T20:10:00, 2024-09-30T21:20:00, 70, 1337, List(-32480, null, British Airways), List(-32480, null, British Airways)), List(13554-11442-2410011110-2410011355--32317, List(null, null, London Heathrow, LHR, null, United Kingdom, null), List(null, null, New York Newark, EWR, null, United States, null), 2024-10-01T11:10:00, 2024-10-01T13:55:00, 465, 5485, List(-32317, null, Finnair), List(-32480, null, British Airways)))))</td><td>false</td><td>false</td><td>List(false, false, false, false)</td><td>List()</td><td>List(second_cheapest, second_shortest)</td><td>false</td><td>false</td><td>0.84482</td></tr><tr><td>14585-2409302010--32480,-32317-2-12712-2410011915</td><td>List(233503, ₹233,503, JjmoYNNIiEOn)</td><td>List(List(14585-2409302010--32480,-32317-2-12712-2410011915, List(NCL, 95674044, Newcastle, NCL, Newcastle, United Kingdom, false), List(JFK, 95565058, New York John F. Kennedy, JFK, New York, United States, false), 1685, 2, false, 2024-09-30T20:10:00, 2024-10-01T19:15:00, 1, List(List(List(-32480, https://logos.skyscnr.com/images/airlines/favicon/BA.png, British Airways), List(-32317, https://logos.skyscnr.com/images/airlines/favicon/AY.png, Finnair)), partially_operated), List(List(14585-13554-2409302010-2409302120--32480, List(null, null, Newcastle, NCL, null, United Kingdom, null), List(null, null, London Heathrow, LHR, null, United Kingdom, null), 2024-09-30T20:10:00, 2024-09-30T21:20:00, 70, 1337, List(-32480, null, British Airways), List(-32480, null, British Airways)), List(13554-10081-2410010945-2410011215--32317, List(null, null, London Heathrow, LHR, null, United Kingdom, null), List(null, null, Boston Logan International, BOS, null, United States, null), 2024-10-01T09:45:00, 2024-10-01T12:15:00, 450, 4186, List(-32317, null, Finnair), List(-32573, null, American Airlines)), List(10081-12712-2410011750-2410011915--32317, List(null, null, Boston Logan International, BOS, null, United States, null), List(null, null, New York John F. Kennedy, JFK, null, United States, null), 2024-10-01T17:50:00, 2024-10-01T19:15:00, 85, 4256, List(-32317, null, Finnair), List(-31526, null, Republic Airways AS American Eagle)))))</td><td>false</td><td>false</td><td>List(false, false, false, false)</td><td>List()</td><td>List(third_cheapest)</td><td>false</td><td>false</td><td>0.727103</td></tr><tr><td>14585-2409302010--32480,-32317-2-12712-2410011905</td><td>List(274795, ₹274,795, ooOWEvZ2eZK6)</td><td>List(List(14585-2409302010--32480,-32317-2-12712-2410011905, List(NCL, 95674044, Newcastle, NCL, Newcastle, United Kingdom, false), List(JFK, 95565058, New York John F. Kennedy, JFK, New York, United States, false), 1675, 2, false, 2024-09-30T20:10:00, 2024-10-01T19:05:00, 1, List(List(List(-32480, https://logos.skyscnr.com/images/airlines/favicon/BA.png, British Airways), List(-32317, https://logos.skyscnr.com/images/airlines/favicon/AY.png, Finnair)), fully_operated), List(List(14585-13554-2409302010-2409302120--32480, List(null, null, Newcastle, NCL, null, United Kingdom, null), List(null, null, London Heathrow, LHR, null, United Kingdom, null), 2024-09-30T20:10:00, 2024-09-30T21:20:00, 70, 1337, List(-32480, null, British Airways), List(-32480, null, British Airways)), List(13554-12126-2410010730-2410011220--32317, List(null, null, London Heathrow, LHR, null, United Kingdom, null), List(null, null, Helsinki Vantaa, HEL, null, Finland, null), 2024-10-01T07:30:00, 2024-10-01T12:20:00, 170, 1340, List(-32317, null, Finnair), List(-32317, null, Finnair)), List(12126-12712-2410011720-2410011905--32317, List(null, null, Helsinki Vantaa, HEL, null, Finland, null), List(null, null, New York John F. Kennedy, JFK, null, United States, null), 2024-10-01T17:20:00, 2024-10-01T19:05:00, 525, 15, List(-32317, null, Finnair), List(-32317, null, Finnair)))))</td><td>false</td><td>false</td><td>List(false, false, false, false)</td><td>List()</td><td>List(third_shortest)</td><td>false</td><td>false</td><td>0.605021</td></tr><tr><td>11442-2409302030--32090-1-10957-2410012330</td><td>List(34075.35, ₹34,076, iA7M5TUcMqCN)</td><td>List(List(11442-2409302030--32090-1-10957-2410012330, List(EWR, 95565059, New York Newark, EWR, New York, United States, false), List(DEL, 95673498, Indira Gandhi International , DEL, New Delhi, India, false), 1050, 1, false, 2024-09-30T20:30:00, 2024-10-01T23:30:00, 1, List(List(List(-32090, https://logos.skyscnr.com/images/airlines/favicon/LH.png, Lufthansa)), fully_operated), List(List(11442-14385-2409302030-2410011020--32090, List(null, null, New York Newark, EWR, null, United States, null), List(null, null, Munich, MUC, null, Germany, null), 2024-09-30T20:30:00, 2024-10-01T10:20:00, 470, 413, List(-32090, null, Lufthansa), List(-32090, null, Lufthansa)), List(14385-10957-2410011220-2410012330--32090, List(null, null, Munich, MUC, null, Germany, null), List(null, null, Indira Gandhi International , DEL, null, India, null), 2024-10-01T12:20:00, 2024-10-01T23:30:00, 460, 762, List(-32090, null, Lufthansa), List(-32090, null, Lufthansa)))))</td><td>false</td><td>false</td><td>List(false, false, false, false)</td><td>List()</td><td>List(cheapest, second_shortest)</td><td>false</td><td>false</td><td>0.999</td></tr><tr><td>11442-2409302150--31799-1-10957-2410012340</td><td>List(36920.54, ₹36,921, XcV4D6e6skgv)</td><td>List(List(11442-2409302150--31799-1-10957-2410012340, List(EWR, 95565059, New York Newark, EWR, New York, United States, false), List(DEL, 95673498, Indira Gandhi International , DEL, New Delhi, India, false), 980, 1, false, 2024-09-30T21:50:00, 2024-10-01T23:40:00, 1, List(List(List(-31799, https://logos.skyscnr.com/images/airlines/favicon/LX.png, SWISS)), fully_operated), List(List(11442-18563-2409302150-2410011135--31799, List(null, null, New York Newark, EWR, null, United States, null), List(null, null, Zurich, ZRH, null, Switzerland, null), 2024-09-30T21:50:00, 2024-10-01T11:35:00, 465, 19, List(-31799, null, SWISS), List(-31799, null, SWISS)), List(18563-10957-2410011220-2410012340--31799, List(null, null, Zurich, ZRH, null, Switzerland, null), List(null, null, Indira Gandhi International , DEL, null, India, null), 2024-10-01T12:20:00, 2024-10-01T23:40:00, 470, 146, List(-31799, null, SWISS), List(-31799, null, SWISS)))))</td><td>false</td><td>false</td><td>List(false, false, false, false)</td><td>List()</td><td>List(third_cheapest, shortest)</td><td>false</td><td>false</td><td>0.830769</td></tr><tr><td>12712-2409301730--32090-1-10957-2410012330</td><td>List(34075.35, ₹34,076, KqyPl_bfaLn6)</td><td>List(List(12712-2409301730--32090-1-10957-2410012330, List(JFK, 95565058, New York John F. Kennedy, JFK, New York, United States, false), List(DEL, 95673498, Indira Gandhi International , DEL, New Delhi, India, false), 1230, 1, false, 2024-09-30T17:30:00, 2024-10-01T23:30:00, 1, List(List(List(-32090, https://logos.skyscnr.com/images/airlines/favicon/LH.png, Lufthansa)), fully_operated), List(List(12712-14385-2409301730-2410010730--32090, List(null, null, New York John F. Kennedy, JFK, null, United States, null), List(null, null, Munich, MUC, null, Germany, null), 2024-09-30T17:30:00, 2024-10-01T07:30:00, 480, 411, List(-32090, null, Lufthansa), List(-32090, null, Lufthansa)), List(14385-10957-2410011220-2410012330--32090, List(null, null, Munich, MUC, null, Germany, null), List(null, null, Indira Gandhi International , DEL, null, India, null), 2024-10-01T12:20:00, 2024-10-01T23:30:00, 460, 762, List(-32090, null, Lufthansa), List(-32090, null, Lufthansa)))))</td><td>false</td><td>false</td><td>List(false, false, false, false)</td><td>List()</td><td>List(second_cheapest)</td><td>false</td><td>false</td><td>0.677262</td></tr><tr><td>12712-2409302030--31799-1-10957-2410012340</td><td>List(36920.54, ₹36,921, ewCLPYktyewE)</td><td>List(List(12712-2409302030--31799-1-10957-2410012340, List(JFK, 95565058, New York John F. Kennedy, JFK, New York, United States, false), List(DEL, 95673498, Indira Gandhi International , DEL, New Delhi, India, false), 1060, 1, false, 2024-09-30T20:30:00, 2024-10-01T23:40:00, 1, List(List(List(-31799, https://logos.skyscnr.com/images/airlines/favicon/LX.png, SWISS)), fully_operated), List(List(12712-18563-2409302030-2410011025--31799, List(null, null, New York John F. Kennedy, JFK, null, United States, null), List(null, null, Zurich, ZRH, null, Switzerland, null), 2024-09-30T20:30:00, 2024-10-01T10:25:00, 475, 15, List(-31799, null, SWISS), List(-31799, null, SWISS)), List(18563-10957-2410011220-2410012340--31799, List(null, null, Zurich, ZRH, null, Switzerland, null), List(null, null, Indira Gandhi International , DEL, null, India, null), 2024-10-01T12:20:00, 2024-10-01T23:40:00, 470, 146, List(-31799, null, SWISS), List(-31799, null, SWISS)))))</td><td>false</td><td>false</td><td>List(false, false, false, false)</td><td>List()</td><td>null</td><td>false</td><td>false</td><td>0.54535</td></tr><tr><td>12712-2409302150--32090-1-10957-2410020055</td><td>List(43272.01, ₹43,273, TLPZuzlBaX8o)</td><td>List(List(12712-2409302150--32090-1-10957-2410020055, List(JFK, 95565058, New York John F. Kennedy, JFK, New York, United States, false), List(DEL, 95673498, Indira Gandhi International , DEL, New Delhi, India, false), 1055, 1, false, 2024-09-30T21:50:00, 2024-10-02T00:55:00, 2, List(List(List(-32090, https://logos.skyscnr.com/images/airlines/favicon/LH.png, Lufthansa)), fully_operated), List(List(12712-11616-2409302150-2410011145--32090, List(null, null, New York John F. Kennedy, JFK, null, United States, null), List(null, null, Frankfurt am Main, FRA, null, Germany, null), 2024-09-30T21:50:00, 2024-10-01T11:45:00, 475, 405, List(-32090, null, Lufthansa), List(-32090, null, Lufthansa)), List(11616-10957-2410011320-2410020055--32090, List(null, null, Frankfurt am Main, FRA, null, Germany, null), List(null, null, Indira Gandhi International , DEL, null, India, null), 2024-10-01T13:20:00, 2024-10-02T00:55:00, 485, 760, List(-32090, null, Lufthansa), List(-32090, null, Lufthansa)))))</td><td>false</td><td>false</td><td>List(false, false, false, false)</td><td>List()</td><td>List(third_shortest)</td><td>false</td><td>false</td><td>0.459779</td></tr><tr><td>12712-2409301615--31799-1-10957-2410012340</td><td>List(36920.54, ₹36,921, 3uSZtcCYlWDf)</td><td>List(List(12712-2409301615--31799-1-10957-2410012340, List(JFK, 95565058, New York John F. Kennedy, JFK, New York, United States, false), List(DEL, 95673498, Indira Gandhi International , DEL, New Delhi, India, false), 1315, 1, false, 2024-09-30T16:15:00, 2024-10-01T23:40:00, 1, List(List(List(-31799, https://logos.skyscnr.com/images/airlines/favicon/LX.png, SWISS)), fully_operated), List(List(12712-18563-2409301615-2410010610--31799, List(null, null, New York John F. Kennedy, JFK, null, United States, null), List(null, null, Zurich, ZRH, null, Switzerland, null), 2024-09-30T16:15:00, 2024-10-01T06:10:00, 475, 17, List(-31799, null, SWISS), List(-31799, null, SWISS)), List(18563-10957-2410011220-2410012340--31799, List(null, null, Zurich, ZRH, null, Switzerland, null), List(null, null, Indira Gandhi International , DEL, null, India, null), 2024-10-01T12:20:00, 2024-10-01T23:40:00, 470, 146, List(-31799, null, SWISS), List(-31799, null, SWISS)))))</td><td>false</td><td>false</td><td>List(false, false, false, false)</td><td>List()</td><td>null</td><td>false</td><td>false</td><td>0.42726</td></tr><tr><td>12712-2409302235--32339-1-10957-2410020315</td><td>List(67975, ₹67,975, Xnpcbc3jmx2p)</td><td>List(List(12712-2409302235--32339-1-10957-2410020315, List(JFK, 95565058, New York John F. Kennedy, JFK, New York, United States, false), List(DEL, 95673498, Indira Gandhi International , DEL, New Delhi, India, false), 1150, 1, false, 2024-09-30T22:35:00, 2024-10-02T03:15:00, 2, List(List(List(-32339, https://logos.skyscnr.com/images/airlines/favicon/60.png, Etihad Airways)), fully_operated), List(List(12712-9618-2409302235-2410011930--32339, List(null, null, New York John F. Kennedy, JFK, null, United States, null), List(null, null, Zayed International, AUH, null, United Arab Emirates, null), 2024-09-30T22:35:00, 2024-10-01T19:30:00, 775, 4, List(-32339, null, Etihad Airways), List(-32339, null, Etihad Airways)), List(9618-10957-2410012210-2410020315--32339, List(null, null, Zayed International, AUH, null, United Arab Emirates, null), List(null, null, Indira Gandhi International , DEL, null, India, null), 2024-10-01T22:10:00, 2024-10-02T03:15:00, 215, 218, List(-32339, null, Etihad Airways), List(-32339, null, Etihad Airways)))))</td><td>false</td><td>false</td><td>List(false, false, false, false)</td><td>List()</td><td>null</td><td>false</td><td>false</td><td>0.425701</td></tr><tr><td>11442-2409301930--32090-2-10957-2410012330</td><td>List(55424, ₹55,424, sAPCML7G-pHc)</td><td>List(List(11442-2409301930--32090-2-10957-2410012330, List(EWR, 95565059, New York Newark, EWR, New York, United States, false), List(DEL, 95673498, Indira Gandhi International , DEL, New Delhi, India, false), 1110, 2, false, 2024-09-30T19:30:00, 2024-10-01T23:30:00, 1, List(List(List(-32090, https://logos.skyscnr.com/images/airlines/favicon/LH.png, Lufthansa)), partially_operated), List(List(11442-11616-2409301930-2410010910--32090, List(null, null, New York Newark, EWR, null, United States, null), List(null, null, Frankfurt am Main, FRA, null, Germany, null), 2024-09-30T19:30:00, 2024-10-01T09:10:00, 460, 7602, List(-32090, null, Lufthansa), List(-31722, null, United)), List(11616-14385-2410011015-2410011110--32090, List(null, null, Frankfurt am Main, FRA, null, Germany, null), List(null, null, Munich, MUC, null, Germany, null), 2024-10-01T10:15:00, 2024-10-01T11:10:00, 55, 100, List(-32090, null, Lufthansa), List(-32090, null, Lufthansa)), List(14385-10957-2410011220-2410012330--32090, List(null, null, Munich, MUC, null, Germany, null), List(null, null, Indira Gandhi International , DEL, null, India, null), 2024-10-01T12:20:00, 2024-10-01T23:30:00, 460, 762, List(-32090, null, Lufthansa), List(-32090, null, Lufthansa)))))</td><td>false</td><td>false</td><td>List(false, false, false, false)</td><td>List()</td><td>null</td><td>false</td><td>false</td><td>0.397172</td></tr><tr><td>12712-2409301700--32119-1-10957-2410020145</td><td>List(53201.93, ₹53,202, G94Dq7vv6tF3)</td><td>List(List(12712-2409301700--32119-1-10957-2410020145, List(JFK, 95565058, New York John F. Kennedy, JFK, New York, United States, false), List(DEL, 95673498, Indira Gandhi International , DEL, New Delhi, India, false), 1395, 1, false, 2024-09-30T17:00:00, 2024-10-02T01:45:00, 2, List(List(List(-32119, https://logos.skyscnr.com/images/airlines/favicon/KU.png, Kuwait Airways)), fully_operated), List(List(12712-13344-2409301700-2410011215--32119, List(null, null, New York John F. Kennedy, JFK, null, United States, null), List(null, null, Kuwait, KWI, null, Kuwait, null), 2024-09-30T17:00:00, 2024-10-01T12:15:00, 735, 118, List(-32119, null, Kuwait Airways), List(-32119, null, Kuwait Airways)), List(13344-10957-2410011900-2410020145--32119, List(null, null, Kuwait, KWI, null, Kuwait, null), List(null, null, Indira Gandhi International , DEL, null, India, null), 2024-10-01T19:00:00, 2024-10-02T01:45:00, 255, 381, List(-32119, null, Kuwait Airways), List(-32119, null, Kuwait Airways)))))</td><td>false</td><td>false</td><td>List(false, false, false, false)</td><td>List()</td><td>null</td><td>false</td><td>false</td><td>0.388019</td></tr><tr><td>12712-2409301925--32213-1-10957-2410020505</td><td>List(39743.83, ₹39,744, Vrwe8jbaA1lr)</td><td>List(List(12712-2409301925--32213-1-10957-2410020505, List(JFK, 95565058, New York John F. Kennedy, JFK, New York, United States, false), List(DEL, 95673498, Indira Gandhi International , DEL, New Delhi, India, false), 1450, 1, false, 2024-09-30T19:25:00, 2024-10-02T05:05:00, 2, List(List(List(-32213, https://logos.skyscnr.com/images/airlines/favicon/49.png, IndiGo)), partially_operated), List(List(12712-12585-2409301925-2410011230--32213, List(null, null, New York John F. Kennedy, JFK, null, United States, null), List(null, null, Istanbul, IST, null, Türkiye (Turkey), null), 2024-09-30T19:25:00, 2024-10-01T12:30:00, 605, 4236, List(-32213, null, IndiGo), List(-31734, null, Turkish Airlines)), List(12585-10957-2410012005-2410020505--32213, List(null, null, Istanbul, IST, null, Türkiye (Turkey), null), List(null, null, Indira Gandhi International , DEL, null, India, null), 2024-10-01T20:05:00, 2024-10-02T05:05:00, 390, 12, List(-32213, null, IndiGo), List(-32213, null, IndiGo)))))</td><td>false</td><td>false</td><td>List(false, false, false, false)</td><td>List()</td><td>null</td><td>false</td><td>false</td><td>0.387528</td></tr><tr><td>11442-2409301800--32090-1-14585-2410011100</td><td>List(39590, ₹39,590, R1hwx0f1DQrz)</td><td>List(List(11442-2409301800--32090-1-14585-2410011100, List(EWR, 95565059, New York Newark, EWR, New York, United States, false), List(NCL, 95674044, Newcastle, NCL, Newcastle, United Kingdom, false), 720, 1, false, 2024-09-30T18:00:00, 2024-10-01T11:00:00, 1, List(List(List(-32090, https://logos.skyscnr.com/images/airlines/favicon/LH.png, Lufthansa)), partially_operated), List(List(11442-11616-2409301800-2410010730--32090, List(null, null, New York Newark, EWR, null, United States, null), List(null, null, Frankfurt am Main, FRA, null, Germany, null), 2024-09-30T18:00:00, 2024-10-01T07:30:00, 450, 403, List(-32090, null, Lufthansa), List(-32090, null, Lufthansa)), List(11616-14585-2410011010-2410011100--32090, List(null, null, Frankfurt am Main, FRA, null, Germany, null), List(null, null, Newcastle, NCL, null, United Kingdom, null), 2024-10-01T10:10:00, 2024-10-01T11:00:00, 110, 966, List(-32090, null, Lufthansa), List(-32430, null, CityJet)))))</td><td>false</td><td>false</td><td>List(false, false, false, false)</td><td>List()</td><td>List(cheapest)</td><td>false</td><td>false</td><td>0.999</td></tr><tr><td>12712-2409302130--32480-1-14585-2410011215</td><td>List(58795.04, ₹58,796, m2ivZoHDe-rB)</td><td>List(List(12712-2409302130--32480-1-14585-2410011215, List(JFK, 95565058, New York John F. Kennedy, JFK, New York, United States, false), List(NCL, 95674044, Newcastle, NCL, Newcastle, United Kingdom, false), 585, 1, false, 2024-09-30T21:30:00, 2024-10-01T12:15:00, 1, List(List(List(-32480, https://logos.skyscnr.com/images/airlines/favicon/BA.png, British Airways)), fully_operated), List(List(12712-13554-2409302130-2410010935--32480, List(null, null, New York John F. Kennedy, JFK, null, United States, null), List(null, null, London Heathrow, LHR, null, United Kingdom, null), 2024-09-30T21:30:00, 2024-10-01T09:35:00, 425, 114, List(-32480, null, British Airways), List(-32480, null, British Airways)), List(13554-14585-2410011105-2410011215--32480, List(null, null, London Heathrow, LHR, null, United Kingdom, null), List(null, null, Newcastle, NCL, null, United Kingdom, null), 2024-10-01T11:05:00, 2024-10-01T12:15:00, 70, 1328, List(-32480, null, British Airways), List(-32480, null, British Airways)))))</td><td>false</td><td>false</td><td>List(false, false, false, false)</td><td>List()</td><td>List(second_shortest)</td><td>false</td><td>false</td><td>0.89282</td></tr><tr><td>12712-2409301920--32480-1-14585-2410011030</td><td>List(58795.04, ₹58,796, eWezkK8qC3gl)</td><td>List(List(12712-2409301920--32480-1-14585-2410011030, List(JFK, 95565058, New York John F. Kennedy, JFK, New York, United States, false), List(NCL, 95674044, Newcastle, NCL, Newcastle, United Kingdom, false), 610, 1, false, 2024-09-30T19:20:00, 2024-10-01T10:30:00, 1, List(List(List(-32480, https://logos.skyscnr.com/images/airlines/favicon/BA.png, British Airways)), partially_operated), List(List(12712-13554-2409301920-2410010740--32480, List(null, null, New York John F. Kennedy, JFK, null, United States, null), List(null, null, London Heathrow, LHR, null, United Kingdom, null), 2024-09-30T19:20:00, 2024-10-01T07:40:00, 440, 1517, List(-32480, null, British Airways), List(-32573, null, American Airlines)), List(13554-14585-2410010915-2410011030--32480, List(null, null, London Heathrow, LHR, null, United Kingdom, null), List(null, null, Newcastle, NCL, null, United Kingdom, null), 2024-10-01T09:15:00, 2024-10-01T10:30:00, 75, 1326, List(-32480, null, British Airways), List(-32480, null, British Airways)))))</td><td>false</td><td>false</td><td>List(false, false, false, false)</td><td>List()</td><td>null</td><td>false</td><td>false</td><td>0.733624</td></tr><tr><td>12712-2409301545--32090-1-14585-2410011100</td><td>List(39590, ₹39,590, epKIKvnr22LB)</td><td>List(List(12712-2409301545--32090-1-14585-2410011100, List(JFK, 95565058, New York John F. Kennedy, JFK, New York, United States, false), List(NCL, 95674044, Newcastle, NCL, Newcastle, United Kingdom, false), 855, 1, false, 2024-09-30T15:45:00, 2024-10-01T11:00:00, 1, List(List(List(-32090, https://logos.skyscnr.com/images/airlines/favicon/LH.png, Lufthansa)), partially_operated), List(List(12712-11616-2409301545-2410010525--32090, List(null, null, New York John F. Kennedy, JFK, null, United States, null), List(null, null, Frankfurt am Main, FRA, null, Germany, null), 2024-09-30T15:45:00, 2024-10-01T05:25:00, 460, 401, List(-32090, null, Lufthansa), List(-32090, null, Lufthansa)), List(11616-14585-2410011010-2410011100--32090, List(null, null, Frankfurt am Main, FRA, null, Germany, null), List(null, null, Newcastle, NCL, null, United Kingdom, null), 2024-10-01T10:10:00, 2024-10-01T11:00:00, 110, 966, List(-32090, null, Lufthansa), List(-32430, null, CityJet)))))</td><td>false</td><td>false</td><td>List(false, false, false, false)</td><td>List()</td><td>List(second_cheapest)</td><td>false</td><td>false</td><td>0.670673</td></tr><tr><td>11442-2409302115--32480-1-14585-2410011215</td><td>List(58795.04, ₹58,796, 2dWF-Asgdlsz)</td><td>List(List(11442-2409302115--32480-1-14585-2410011215, List(EWR, 95565059, New York Newark, EWR, New York, United States, false), List(NCL, 95674044, Newcastle, NCL, Newcastle, United Kingdom, false), 600, 1, false, 2024-09-30T21:15:00, 2024-10-01T12:15:00, 1, List(List(List(-32480, https://logos.skyscnr.com/images/airlines/favicon/BA.png, British Airways)), fully_operated), List(List(11442-13554-2409302115-2410010920--32480, List(null, null, New York Newark, EWR, null, United States, null), List(null, null, London Heathrow, LHR, null, United Kingdom, null), 2024-09-30T21:15:00, 2024-10-01T09:20:00, 425, 188, List(-32480, null, British Airways), List(-32480, null, British Airways)), List(13554-14585-2410011105-2410011215--32480, List(null, null, London Heathrow, LHR, null, United Kingdom, null), List(null, null, Newcastle, NCL, null, United Kingdom, null), 2024-10-01T11:05:00, 2024-10-01T12:15:00, 70, 1328, List(-32480, null, British Airways), List(-32480, null, British Airways)))))</td><td>false</td><td>false</td><td>List(false, false, false, false)</td><td>List()</td><td>List(third_shortest)</td><td>false</td><td>false</td><td>0.623404</td></tr><tr><td>11442-2409301930--32090-1-14585-2410011100</td><td>List(47958.21, ₹47,959, Kq3BGe71IOhq)</td><td>List(List(11442-2409301930--32090-1-14585-2410011100, List(EWR, 95565059, New York Newark, EWR, New York, United States, false), List(NCL, 95674044, Newcastle, NCL, Newcastle, United Kingdom, false), 630, 1, false, 2024-09-30T19:30:00, 2024-10-01T11:00:00, 1, List(List(List(-32090, https://logos.skyscnr.com/images/airlines/favicon/LH.png, Lufthansa)), not_operated), List(List(11442-11616-2409301930-2410010910--32090, List(null, null, New York Newark, EWR, null, United States, null), List(null, null, Frankfurt am Main, FRA, null, Germany, null), 2024-09-30T19:30:00, 2024-10-01T09:10:00, 460, 7602, List(-32090, null, Lufthansa), List(-31722, null, United)), List(11616-14585-2410011010-2410011100--32090, List(null, null, Frankfurt am Main, FRA, null, Germany, null), List(null, null, Newcastle, NCL, null, United Kingdom, null), 2024-10-01T10:10:00, 2024-10-01T11:00:00, 110, 966, List(-32090, null, Lufthansa), List(-32430, null, CityJet)))))</td><td>false</td><td>false</td><td>List(false, false, false, false)</td><td>List()</td><td>List(third_cheapest)</td><td>false</td><td>false</td><td>0.617807</td></tr><tr><td>12712-2409302055--32480-1-14585-2410011215</td><td>List(58795.04, ₹58,796, pjPRvLdKdV4b)</td><td>List(List(12712-2409302055--32480-1-14585-2410011215, List(JFK, 95565058, New York John F. Kennedy, JFK, New York, United States, false), List(NCL, 95674044, Newcastle, NCL, Newcastle, United Kingdom, false), 620, 1, false, 2024-09-30T20:55:00, 2024-10-01T12:15:00, 1, List(List(List(-32480, https://logos.skyscnr.com/images/airlines/favicon/BA.png, British Airways)), fully_operated), List(List(12712-13554-2409302055-2410010905--32480, List(null, null, New York John F. Kennedy, JFK, null, United States, null), List(null, null, London Heathrow, LHR, null, United Kingdom, null), 2024-09-30T20:55:00, 2024-10-01T09:05:00, 430, 172, List(-32480, null, British Airways), List(-32480, null, British Airways)), List(13554-14585-2410011105-2410011215--32480, List(null, null, London Heathrow, LHR, null, United Kingdom, null), List(null, null, Newcastle, NCL, null, United Kingdom, null), 2024-10-01T11:05:00, 2024-10-01T12:15:00, 70, 1328, List(-32480, null, British Airways), List(-32480, null, British Airways)))))</td><td>false</td><td>false</td><td>List(false, false, false, false)</td><td>List()</td><td>null</td><td>false</td><td>false</td><td>0.611178</td></tr><tr><td>12712-2409301655--32480-1-14585-2410010755</td><td>List(65606.76, ₹65,607, wTMws6JY7SbC)</td><td>List(List(12712-2409301655--32480-1-14585-2410010755, List(JFK, 95565058, New York John F. Kennedy, JFK, New York, United States, false), List(NCL, 95674044, Newcastle, NCL, Newcastle, United Kingdom, false), 600, 1, false, 2024-09-30T16:55:00, 2024-10-01T07:55:00, 1, List(List(List(-32480, https://logos.skyscnr.com/images/airlines/favicon/BA.png, British Airways)), not_operated), List(List(12712-11154-2409301655-2410010425--32480, List(null, null, New York John F. Kennedy, JFK, null, United States, null), List(null, null, Dublin, DUB, null, Ireland, null), 2024-09-30T16:55:00, 2024-10-01T04:25:00, 390, 6124, List(-32480, null, British Airways), List(-32753, null, Aer Lingus)), List(11154-14585-2410010635-2410010755--32480, List(null, null, Dublin, DUB, null, Ireland, null), List(null, null, Newcastle, NCL, null, United Kingdom, null), 2024-10-01T06:35:00, 2024-10-01T07:55:00, 80, 8964, List(-32480, null, British Airways), List(-30651, null, Emerald Airlines)))))</td><td>false</td><td>false</td><td>List(false, false, false, false)</td><td>List()</td><td>null</td><td>false</td><td>false</td><td>0.594187</td></tr><tr><td>11442-2409301720--32480-1-14585-2410010755</td><td>List(65606.76, ₹65,607, nSmc9Y7P9yOx)</td><td>List(List(11442-2409301720--32480-1-14585-2410010755, List(EWR, 95565059, New York Newark, EWR, New York, United States, false), List(NCL, 95674044, Newcastle, NCL, Newcastle, United Kingdom, false), 575, 1, false, 2024-09-30T17:20:00, 2024-10-01T07:55:00, 1, List(List(List(-32480, https://logos.skyscnr.com/images/airlines/favicon/BA.png, British Airways)), not_operated), List(List(11442-11154-2409301720-2410010450--32480, List(null, null, New York Newark, EWR, null, United States, null), List(null, null, Dublin, DUB, null, Ireland, null), 2024-09-30T17:20:00, 2024-10-01T04:50:00, 390, 6132, List(-32480, null, British Airways), List(-32753, null, Aer Lingus)), List(11154-14585-2410010635-2410010755--32480, List(null, null, Dublin, DUB, null, Ireland, null), List(null, null, Newcastle, NCL, null, United Kingdom, null), 2024-10-01T06:35:00, 2024-10-01T07:55:00, 80, 8964, List(-32480, null, British Airways), List(-30651, null, Emerald Airlines)))))</td><td>false</td><td>false</td><td>List(false, false, false, false)</td><td>List()</td><td>List(shortest)</td><td>false</td><td>false</td><td>0.591286</td></tr><tr><td>12712-2409302010--32480-1-14585-2410011215</td><td>List(58795.04, ₹58,796, KYLJ19Ne4Y5Q)</td><td>List(List(12712-2409302010--32480-1-14585-2410011215, List(JFK, 95565058, New York John F. Kennedy, JFK, New York, United States, false), List(NCL, 95674044, Newcastle, NCL, Newcastle, United Kingdom, false), 665, 1, false, 2024-09-30T20:10:00, 2024-10-01T12:15:00, 1, List(List(List(-32480, https://logos.skyscnr.com/images/airlines/favicon/BA.png, British Airways)), fully_operated), List(List(12712-13554-2409302010-2410010820--32480, List(null, null, New York John F. Kennedy, JFK, null, United States, null), List(null, null, London Heathrow, LHR, null, United Kingdom, null), 2024-09-30T20:10:00, 2024-10-01T08:20:00, 430, 116, List(-32480, null, British Airways), List(-32480, null, British Airways)), List(13554-14585-2410011105-2410011215--32480, List(null, null, London Heathrow, LHR, null, United Kingdom, null), List(null, null, Newcastle, NCL, null, United Kingdom, null), 2024-10-01T11:05:00, 2024-10-01T12:15:00, 70, 1328, List(-32480, null, British Airways), List(-32480, null, British Airways)))))</td><td>false</td><td>false</td><td>List(false, false, false, false)</td><td>List()</td><td>null</td><td>false</td><td>false</td><td>0.556045</td></tr><tr><td>12712-2409302105--32753-1-14773-2410011245</td><td>List(76051.96, ₹76,052, zdiLNtD5ZNfa)</td><td>List(List(12712-2409302105--32753-1-14773-2410011245, List(JFK, 95565058, New York John F. Kennedy, JFK, New York, United States, false), List(NQY, 95673963, Newquay, NQY, Newquay, United Kingdom, false), 640, 1, false, 2024-09-30T21:05:00, 2024-10-01T12:45:00, 1, List(List(List(-32753, https://logos.skyscnr.com/images/airlines/favicon/EI.png, Aer Lingus)), partially_operated), List(List(12712-11154-2409302105-2410010850--32753, List(null, null, New York John F. Kennedy, JFK, null, United States, null), List(null, null, Dublin, DUB, null, Ireland, null), 2024-09-30T21:05:00, 2024-10-01T08:50:00, 405, 106, List(-32753, null, Aer Lingus), List(-32753, null, Aer Lingus)), List(11154-14773-2410011125-2410011245--32753, List(null, null, Dublin, DUB, null, Ireland, null), List(null, null, Newquay, NQY, null, United Kingdom, null), 2024-10-01T11:25:00, 2024-10-01T12:45:00, 80, 3930, List(-32753, null, Aer Lingus), List(-30651, null, Emerald Airlines)))))</td><td>false</td><td>false</td><td>List(false, false, false, false)</td><td>List()</td><td>List(third_cheapest, shortest)</td><td>false</td><td>false</td><td>0.999</td></tr><tr><td>12712-2409301655--32753-1-14773-2410011245</td><td>List(76051.96, ₹76,052, ts12X1DFpT5C)</td><td>List(List(12712-2409301655--32753-1-14773-2410011245, List(JFK, 95565058, New York John F. Kennedy, JFK, New York, United States, false), List(NQY, 95673963, Newquay, NQY, Newquay, United Kingdom, false), 890, 1, false, 2024-09-30T16:55:00, 2024-10-01T12:45:00, 1, List(List(List(-32753, https://logos.skyscnr.com/images/airlines/favicon/EI.png, Aer Lingus)), partially_operated), List(List(12712-11154-2409301655-2410010425--32753, List(null, null, New York John F. Kennedy, JFK, null, United States, null), List(null, null, Dublin, DUB, null, Ireland, null), 2024-09-30T16:55:00, 2024-10-01T04:25:00, 390, 104, List(-32753, null, Aer Lingus), List(-32753, null, Aer Lingus)), List(11154-14773-2410011125-2410011245--32753, List(null, null, Dublin, DUB, null, Ireland, null), List(null, null, Newquay, NQY, null, United Kingdom, null), 2024-10-01T11:25:00, 2024-10-01T12:45:00, 80, 3930, List(-32753, null, Aer Lingus), List(-30651, null, Emerald Airlines)))))</td><td>false</td><td>false</td><td>List(false, false, false, false)</td><td>List()</td><td>List(second_shortest)</td><td>false</td><td>false</td><td>0.652773</td></tr><tr><td>12712-2409302315--32480-3-14773-2410020945</td><td>List(69445, ₹69,445, brDDsdYc517g)</td><td>List(List(12712-2409302315--32480-3-14773-2410020945, List(JFK, 95565058, New York John F. Kennedy, JFK, New York, United States, false), List(NQY, 95673963, Newquay, NQY, Newquay, United Kingdom, false), 1770, 3, false, 2024-09-30T23:15:00, 2024-10-02T09:45:00, 2, List(List(List(-32480, https://logos.skyscnr.com/images/airlines/favicon/BA.png, British Airways)), partially_operated), List(List(12712-13554-2409302315-2410011115--32480, List(null, null, New York John F. Kennedy, JFK, null, United States, null), List(null, null, London Heathrow, LHR, null, United Kingdom, null), 2024-09-30T23:15:00, 2024-10-01T11:15:00, 420, 182, List(-32480, null, British Airways), List(-32480, null, British Airways)), List(13554-9226-2410011635-2410011810--32480, List(null, null, London Heathrow, LHR, null, United Kingdom, null), List(null, null, Aberdeen, ABZ, null, United Kingdom, null), 2024-10-01T16:35:00, 2024-10-01T18:10:00, 95, 1314, List(-32480, null, British Airways), List(-32480, null, British Airways)), List(9226-13880-2410020640-2410020755--32480, List(null, null, Aberdeen, ABZ, null, United Kingdom, null), List(null, null, Manchester, MAN, null, United Kingdom, null), 2024-10-02T06:40:00, 2024-10-02T07:55:00, 75, 7821, List(-32480, null, British Airways), List(-32094, null, Loganair)), List(13880-14773-2410020835-2410020945--32480, List(null, null, Manchester, MAN, null, United Kingdom, null), List(null, null, Newquay, NQY, null, United Kingdom, null), 2024-10-02T08:35:00, 2024-10-02T09:45:00, 70, 7821, List(-32480, null, British Airways), List(-32094, null, Loganair)))))</td><td>false</td><td>false</td><td>List(false, false, false, false)</td><td>List()</td><td>List(cheapest, third_shortest)</td><td>false</td><td>false</td><td>0.475474</td></tr><tr><td>12712-2409302315--32480-2-14773-2410020945</td><td>List(71671, ₹71,671, 5tjOPHKzOp0b)</td><td>List(List(12712-2409302315--32480-2-14773-2410020945, List(JFK, 95565058, New York John F. Kennedy, JFK, New York, United States, false), List(NQY, 95673963, Newquay, NQY, Newquay, United Kingdom, false), 1770, 2, false, 2024-09-30T23:15:00, 2024-10-02T09:45:00, 2, List(List(List(-32480, https://logos.skyscnr.com/images/airlines/favicon/BA.png, British Airways)), partially_operated), List(List(12712-13554-2409302315-2410011115--32480, List(null, null, New York John F. Kennedy, JFK, null, United States, null), List(null, null, London Heathrow, LHR, null, United Kingdom, null), 2024-09-30T23:15:00, 2024-10-01T11:15:00, 420, 182, List(-32480, null, British Airways), List(-32480, null, British Airways)), List(13554-13880-2410011415-2410011515--32480, List(null, null, London Heathrow, LHR, null, United Kingdom, null), List(null, null, Manchester, MAN, null, United Kingdom, null), 2024-10-01T14:15:00, 2024-10-01T15:15:00, 60, 1394, List(-32480, null, British Airways), List(-32480, null, British Airways)), List(13880-14773-2410020835-2410020945--32480, List(null, null, Manchester, MAN, null, United Kingdom, null), List(null, null, Newquay, NQY, null, United Kingdom, null), 2024-10-02T08:35:00, 2024-10-02T09:45:00, 70, 7821, List(-32480, null, British Airways), List(-32094, null, Loganair)))))</td><td>false</td><td>false</td><td>List(false, false, false, false)</td><td>List()</td><td>List(second_cheapest)</td><td>false</td><td>false</td><td>0.350327</td></tr></tbody></table></div>"
      ]
     },
     "metadata": {
      "application/vnd.databricks.v1+output": {
       "addedWidgets": {},
       "aggData": [],
       "aggError": "",
       "aggOverflow": false,
       "aggSchema": [],
       "aggSeriesLimitReached": false,
       "aggType": "",
       "arguments": {},
       "columnCustomDisplayInfos": {},
       "data": [
        [
         "12712-2409302030--31799-1-10957-2410012340",
         [
          "40357",
          "₹40,357",
          "SHs731JCnDQh"
         ],
         [
          [
           "12712-2409302030--31799-1-10957-2410012340",
           [
            "JFK",
            "95565058",
            "New York John F. Kennedy",
            "JFK",
            "New York",
            "United States",
            false
           ],
           [
            "DEL",
            "95673498",
            "Indira Gandhi International ",
            "DEL",
            "New Delhi",
            "India",
            false
           ],
           1060,
           1,
           false,
           "2024-09-30T20:30:00",
           "2024-10-01T23:40:00",
           1,
           [
            [
             [
              -31799,
              "https://logos.skyscnr.com/images/airlines/favicon/LX.png",
              "SWISS"
             ]
            ],
            "fully_operated"
           ],
           [
            [
             "12712-18563-2409302030-2410011025--31799",
             [
              null,
              null,
              "New York John F. Kennedy",
              "JFK",
              null,
              "United States",
              null
             ],
             [
              null,
              null,
              "Zurich",
              "ZRH",
              null,
              "Switzerland",
              null
             ],
             "2024-09-30T20:30:00",
             "2024-10-01T10:25:00",
             475,
             "15",
             [
              -31799,
              null,
              "SWISS"
             ],
             [
              -31799,
              null,
              "SWISS"
             ]
            ],
            [
             "18563-10957-2410011220-2410012340--31799",
             [
              null,
              null,
              "Zurich",
              "ZRH",
              null,
              "Switzerland",
              null
             ],
             [
              null,
              null,
              "Indira Gandhi International ",
              "DEL",
              null,
              "India",
              null
             ],
             "2024-10-01T12:20:00",
             "2024-10-01T23:40:00",
             470,
             "146",
             [
              -31799,
              null,
              "SWISS"
             ],
             [
              -31799,
              null,
              "SWISS"
             ]
            ]
           ]
          ]
         ],
         false,
         false,
         [
          false,
          false,
          false,
          false
         ],
         [],
         [
          "second_cheapest",
          "third_shortest"
         ],
         false,
         false,
         0.999
        ],
        [
         "12712-2409302300--32348-1-10957-2410020245",
         [
          "46340",
          "₹46,340",
          "N7G8WPvTn9ZT"
         ],
         [
          [
           "12712-2409302300--32348-1-10957-2410020245",
           [
            "JFK",
            "95565058",
            "New York John F. Kennedy",
            "JFK",
            "New York",
            "United States",
            false
           ],
           [
            "DEL",
            "95673498",
            "Indira Gandhi International ",
            "DEL",
            "New Delhi",
            "India",
            false
           ],
           1095,
           1,
           false,
           "2024-09-30T23:00:00",
           "2024-10-02T02:45:00",
           2,
           [
            [
             [
              -32348,
              "https://logos.skyscnr.com/images/airlines/favicon/EK.png",
              "Emirates"
             ]
            ],
            "fully_operated"
           ],
           [
            [
             "12712-11182-2409302300-2410011945--32348",
             [
              null,
              null,
              "New York John F. Kennedy",
              "JFK",
              null,
              "United States",
              null
             ],
             [
              null,
              null,
              "Dubai",
              "DXB",
              null,
              "United Arab Emirates",
              null
             ],
             "2024-09-30T23:00:00",
             "2024-10-01T19:45:00",
             765,
             "202",
             [
              -32348,
              null,
              "Emirates"
             ],
             [
              -32348,
              null,
              "Emirates"
             ]
            ],
            [
             "11182-10957-2410012200-2410020245--32348",
             [
              null,
              null,
              "Dubai",
              "DXB",
              null,
              "United Arab Emirates",
              null
             ],
             [
              null,
              null,
              "Indira Gandhi International ",
              "DEL",
              null,
              "India",
              null
             ],
             "2024-10-01T22:00:00",
             "2024-10-02T02:45:00",
             195,
             "512",
             [
              -32348,
              null,
              "Emirates"
             ],
             [
              -32348,
              null,
              "Emirates"
             ]
            ]
           ]
          ]
         ],
         false,
         false,
         [
          false,
          false,
          false,
          false
         ],
         [],
         null,
         false,
         false,
         0.868526
        ],
        [
         "12712-2409302150--32090-1-10957-2410020055",
         [
          "42106",
          "₹42,106",
          "BO5p7t7mju9W"
         ],
         [
          [
           "12712-2409302150--32090-1-10957-2410020055",
           [
            "JFK",
            "95565058",
            "New York John F. Kennedy",
            "JFK",
            "New York",
            "United States",
            false
           ],
           [
            "DEL",
            "95673498",
            "Indira Gandhi International ",
            "DEL",
            "New Delhi",
            "India",
            false
           ],
           1055,
           1,
           false,
           "2024-09-30T21:50:00",
           "2024-10-02T00:55:00",
           2,
           [
            [
             [
              -32090,
              "https://logos.skyscnr.com/images/airlines/favicon/LH.png",
              "Lufthansa"
             ]
            ],
            "fully_operated"
           ],
           [
            [
             "12712-11616-2409302150-2410011145--32090",
             [
              null,
              null,
              "New York John F. Kennedy",
              "JFK",
              null,
              "United States",
              null
             ],
             [
              null,
              null,
              "Frankfurt am Main",
              "FRA",
              null,
              "Germany",
              null
             ],
             "2024-09-30T21:50:00",
             "2024-10-01T11:45:00",
             475,
             "405",
             [
              -32090,
              null,
              "Lufthansa"
             ],
             [
              -32090,
              null,
              "Lufthansa"
             ]
            ],
            [
             "11616-10957-2410011320-2410020055--32090",
             [
              null,
              null,
              "Frankfurt am Main",
              "FRA",
              null,
              "Germany",
              null
             ],
             [
              null,
              null,
              "Indira Gandhi International ",
              "DEL",
              null,
              "India",
              null
             ],
             "2024-10-01T13:20:00",
             "2024-10-02T00:55:00",
             485,
             "760",
             [
              -32090,
              null,
              "Lufthansa"
             ],
             [
              -32090,
              null,
              "Lufthansa"
             ]
            ]
           ]
          ]
         ],
         false,
         false,
         [
          false,
          false,
          false,
          false
         ],
         [],
         [
          "second_shortest"
         ],
         false,
         false,
         0.754818
        ],
        [
         "12712-2409301730--32090-1-10957-2410012330",
         [
          "40528",
          "₹40,528",
          "5QU9SVaTvv1C"
         ],
         [
          [
           "12712-2409301730--32090-1-10957-2410012330",
           [
            "JFK",
            "95565058",
            "New York John F. Kennedy",
            "JFK",
            "New York",
            "United States",
            false
           ],
           [
            "DEL",
            "95673498",
            "Indira Gandhi International ",
            "DEL",
            "New Delhi",
            "India",
            false
           ],
           1230,
           1,
           false,
           "2024-09-30T17:30:00",
           "2024-10-01T23:30:00",
           1,
           [
            [
             [
              -32090,
              "https://logos.skyscnr.com/images/airlines/favicon/LH.png",
              "Lufthansa"
             ]
            ],
            "fully_operated"
           ],
           [
            [
             "12712-14385-2409301730-2410010730--32090",
             [
              null,
              null,
              "New York John F. Kennedy",
              "JFK",
              null,
              "United States",
              null
             ],
             [
              null,
              null,
              "Munich",
              "MUC",
              null,
              "Germany",
              null
             ],
             "2024-09-30T17:30:00",
             "2024-10-01T07:30:00",
             480,
             "411",
             [
              -32090,
              null,
              "Lufthansa"
             ],
             [
              -32090,
              null,
              "Lufthansa"
             ]
            ],
            [
             "14385-10957-2410011220-2410012330--32090",
             [
              null,
              null,
              "Munich",
              "MUC",
              null,
              "Germany",
              null
             ],
             [
              null,
              null,
              "Indira Gandhi International ",
              "DEL",
              null,
              "India",
              null
             ],
             "2024-10-01T12:20:00",
             "2024-10-01T23:30:00",
             460,
             "762",
             [
              -32090,
              null,
              "Lufthansa"
             ],
             [
              -32090,
              null,
              "Lufthansa"
             ]
            ]
           ]
          ]
         ],
         false,
         false,
         [
          false,
          false,
          false,
          false
         ],
         [],
         [
          "third_cheapest"
         ],
         false,
         false,
         0.595381
        ],
        [
         "12712-2409302045--32573-0-10957-2410012100",
         [
          "69815.97",
          "₹69,816",
          "rOvkrHZ40-0s"
         ],
         [
          [
           "12712-2409302045--32573-0-10957-2410012100",
           [
            "JFK",
            "95565058",
            "New York John F. Kennedy",
            "JFK",
            "New York",
            "United States",
            false
           ],
           [
            "DEL",
            "95673498",
            "Indira Gandhi International ",
            "DEL",
            "New Delhi",
            "India",
            false
           ],
           885,
           0,
           false,
           "2024-09-30T20:45:00",
           "2024-10-01T21:00:00",
           1,
           [
            [
             [
              -32573,
              "https://logos.skyscnr.com/images/airlines/favicon/AA.png",
              "American Airlines"
             ]
            ],
            "fully_operated"
           ],
           [
            [
             "12712-10957-2409302045-2410012100--32573",
             [
              null,
              null,
              "New York John F. Kennedy",
              "JFK",
              null,
              "United States",
              null
             ],
             [
              null,
              null,
              "Indira Gandhi International ",
              "DEL",
              null,
              "India",
              null
             ],
             "2024-09-30T20:45:00",
             "2024-10-01T21:00:00",
             885,
             "292",
             [
              -32573,
              null,
              "American Airlines"
             ],
             [
              -32573,
              null,
              "American Airlines"
             ]
            ]
           ]
          ]
         ],
         false,
         false,
         [
          false,
          false,
          false,
          false
         ],
         [],
         [
          "shortest"
         ],
         false,
         false,
         0.593666
        ],
        [
         "12712-2409301400--32339-1-10957-2410011935",
         [
          "60351",
          "₹60,351",
          "Nh6CTbz27C1L"
         ],
         [
          [
           "12712-2409301400--32339-1-10957-2410011935",
           [
            "JFK",
            "95565058",
            "New York John F. Kennedy",
            "JFK",
            "New York",
            "United States",
            false
           ],
           [
            "DEL",
            "95673498",
            "Indira Gandhi International ",
            "DEL",
            "New Delhi",
            "India",
            false
           ],
           1205,
           1,
           false,
           "2024-09-30T14:00:00",
           "2024-10-01T19:35:00",
           1,
           [
            [
             [
              -32339,
              "https://logos.skyscnr.com/images/airlines/favicon/60.png",
              "Etihad Airways"
             ]
            ],
            "fully_operated"
           ],
           [
            [
             "12712-9618-2409301400-2410011100--32339",
             [
              null,
              null,
              "New York John F. Kennedy",
              "JFK",
              null,
              "United States",
              null
             ],
             [
              null,
              null,
              "Zayed International",
              "AUH",
              null,
              "United Arab Emirates",
              null
             ],
             "2024-09-30T14:00:00",
             "2024-10-01T11:00:00",
             780,
             "2",
             [
              -32339,
              null,
              "Etihad Airways"
             ],
             [
              -32339,
              null,
              "Etihad Airways"
             ]
            ],
            [
             "9618-10957-2410011430-2410011935--32339",
             [
              null,
              null,
              "Zayed International",
              "AUH",
              null,
              "United Arab Emirates",
              null
             ],
             [
              null,
              null,
              "Indira Gandhi International ",
              "DEL",
              null,
              "India",
              null
             ],
             "2024-10-01T14:30:00",
             "2024-10-01T19:35:00",
             215,
             "224",
             [
              -32339,
              null,
              "Etihad Airways"
             ],
             [
              -32339,
              null,
              "Etihad Airways"
             ]
            ]
           ]
          ]
         ],
         false,
         false,
         [
          false,
          false,
          false,
          false
         ],
         [],
         null,
         false,
         false,
         0.559196
        ],
        [
         "12712-2409301925--32213-1-10957-2410020505",
         [
          "39745",
          "₹39,745",
          "FJohTQJz02HA"
         ],
         [
          [
           "12712-2409301925--32213-1-10957-2410020505",
           [
            "JFK",
            "95565058",
            "New York John F. Kennedy",
            "JFK",
            "New York",
            "United States",
            false
           ],
           [
            "DEL",
            "95673498",
            "Indira Gandhi International ",
            "DEL",
            "New Delhi",
            "India",
            false
           ],
           1450,
           1,
           false,
           "2024-09-30T19:25:00",
           "2024-10-02T05:05:00",
           2,
           [
            [
             [
              -32213,
              "https://logos.skyscnr.com/images/airlines/favicon/49.png",
              "IndiGo"
             ]
            ],
            "partially_operated"
           ],
           [
            [
             "12712-12585-2409301925-2410011230--32213",
             [
              null,
              null,
              "New York John F. Kennedy",
              "JFK",
              null,
              "United States",
              null
             ],
             [
              null,
              null,
              "Istanbul",
              "IST",
              null,
              "Türkiye (Turkey)",
              null
             ],
             "2024-09-30T19:25:00",
             "2024-10-01T12:30:00",
             605,
             "4236",
             [
              -32213,
              null,
              "IndiGo"
             ],
             [
              -31734,
              null,
              "Turkish Airlines"
             ]
            ],
            [
             "12585-10957-2410012005-2410020505--32213",
             [
              null,
              null,
              "Istanbul",
              "IST",
              null,
              "Türkiye (Turkey)",
              null
             ],
             [
              null,
              null,
              "Indira Gandhi International ",
              "DEL",
              null,
              "India",
              null
             ],
             "2024-10-01T20:05:00",
             "2024-10-02T05:05:00",
             390,
             "12",
             [
              -32213,
              null,
              "IndiGo"
             ],
             [
              -32213,
              null,
              "IndiGo"
             ]
            ]
           ]
          ]
         ],
         false,
         false,
         [
          false,
          false,
          false,
          false
         ],
         [],
         [
          "cheapest"
         ],
         false,
         false,
         0.557399
        ],
        [
         "12712-2409301615--31799-1-10957-2410012340",
         [
          "41650",
          "₹41,650",
          "QUnJ-NHmj2em"
         ],
         [
          [
           "12712-2409301615--31799-1-10957-2410012340",
           [
            "JFK",
            "95565058",
            "New York John F. Kennedy",
            "JFK",
            "New York",
            "United States",
            false
           ],
           [
            "DEL",
            "95673498",
            "Indira Gandhi International ",
            "DEL",
            "New Delhi",
            "India",
            false
           ],
           1315,
           1,
           false,
           "2024-09-30T16:15:00",
           "2024-10-01T23:40:00",
           1,
           [
            [
             [
              -31799,
              "https://logos.skyscnr.com/images/airlines/favicon/LX.png",
              "SWISS"
             ]
            ],
            "fully_operated"
           ],
           [
            [
             "12712-18563-2409301615-2410010610--31799",
             [
              null,
              null,
              "New York John F. Kennedy",
              "JFK",
              null,
              "United States",
              null
             ],
             [
              null,
              null,
              "Zurich",
              "ZRH",
              null,
              "Switzerland",
              null
             ],
             "2024-09-30T16:15:00",
             "2024-10-01T06:10:00",
             475,
             "17",
             [
              -31799,
              null,
              "SWISS"
             ],
             [
              -31799,
              null,
              "SWISS"
             ]
            ],
            [
             "18563-10957-2410011220-2410012340--31799",
             [
              null,
              null,
              "Zurich",
              "ZRH",
              null,
              "Switzerland",
              null
             ],
             [
              null,
              null,
              "Indira Gandhi International ",
              "DEL",
              null,
              "India",
              null
             ],
             "2024-10-01T12:20:00",
             "2024-10-01T23:40:00",
             470,
             "146",
             [
              -31799,
              null,
              "SWISS"
             ],
             [
              -31799,
              null,
              "SWISS"
             ]
            ]
           ]
          ]
         ],
         false,
         false,
         [
          false,
          false,
          false,
          false
         ],
         [],
         null,
         false,
         false,
         0.551061
        ],
        [
         "12712-2409302130--31939-1-10957-2410020155",
         [
          "56792",
          "₹56,792",
          "4OvL84JbSqY9"
         ],
         [
          [
           "12712-2409302130--31939-1-10957-2410020155",
           [
            "JFK",
            "95565058",
            "New York John F. Kennedy",
            "JFK",
            "New York",
            "United States",
            false
           ],
           [
            "DEL",
            "95673498",
            "Indira Gandhi International ",
            "DEL",
            "New Delhi",
            "India",
            false
           ],
           1135,
           1,
           false,
           "2024-09-30T21:30:00",
           "2024-10-02T01:55:00",
           2,
           [
            [
             [
              -31939,
              "https://logos.skyscnr.com/images/airlines/favicon/QR.png",
              "Qatar Airways"
             ]
            ],
            "fully_operated"
           ],
           [
            [
             "12712-11089-2409302130-2410011650--31939",
             [
              null,
              null,
              "New York John F. Kennedy",
              "JFK",
              null,
              "United States",
              null
             ],
             [
              null,
              null,
              "Hamad International",
              "DOH",
              null,
              "Qatar",
              null
             ],
             "2024-09-30T21:30:00",
             "2024-10-01T16:50:00",
             740,
             "702",
             [
              -31939,
              null,
              "Qatar Airways"
             ],
             [
              -31939,
              null,
              "Qatar Airways"
             ]
            ],
            [
             "11089-10957-2410011930-2410020155--31939",
             [
              null,
              null,
              "Hamad International",
              "DOH",
              null,
              "Qatar",
              null
             ],
             [
              null,
              null,
              "Indira Gandhi International ",
              "DEL",
              null,
              "India",
              null
             ],
             "2024-10-01T19:30:00",
             "2024-10-02T01:55:00",
             235,
             "578",
             [
              -31939,
              null,
              "Qatar Airways"
             ],
             [
              -31939,
              null,
              "Qatar Airways"
             ]
            ]
           ]
          ]
         ],
         false,
         false,
         [
          false,
          false,
          false,
          false
         ],
         [],
         null,
         false,
         false,
         0.542994
        ],
        [
         "12712-2409302235--32339-1-10957-2410020315",
         [
          "64305",
          "₹64,305",
          "-M49zSLXfq0n"
         ],
         [
          [
           "12712-2409302235--32339-1-10957-2410020315",
           [
            "JFK",
            "95565058",
            "New York John F. Kennedy",
            "JFK",
            "New York",
            "United States",
            false
           ],
           [
            "DEL",
            "95673498",
            "Indira Gandhi International ",
            "DEL",
            "New Delhi",
            "India",
            false
           ],
           1150,
           1,
           false,
           "2024-09-30T22:35:00",
           "2024-10-02T03:15:00",
           2,
           [
            [
             [
              -32339,
              "https://logos.skyscnr.com/images/airlines/favicon/60.png",
              "Etihad Airways"
             ]
            ],
            "fully_operated"
           ],
           [
            [
             "12712-9618-2409302235-2410011930--32339",
             [
              null,
              null,
              "New York John F. Kennedy",
              "JFK",
              null,
              "United States",
              null
             ],
             [
              null,
              null,
              "Zayed International",
              "AUH",
              null,
              "United Arab Emirates",
              null
             ],
             "2024-09-30T22:35:00",
             "2024-10-01T19:30:00",
             775,
             "4",
             [
              -32339,
              null,
              "Etihad Airways"
             ],
             [
              -32339,
              null,
              "Etihad Airways"
             ]
            ],
            [
             "9618-10957-2410012210-2410020315--32339",
             [
              null,
              null,
              "Zayed International",
              "AUH",
              null,
              "United Arab Emirates",
              null
             ],
             [
              null,
              null,
              "Indira Gandhi International ",
              "DEL",
              null,
              "India",
              null
             ],
             "2024-10-01T22:10:00",
             "2024-10-02T03:15:00",
             215,
             "218",
             [
              -32339,
              null,
              "Etihad Airways"
             ],
             [
              -32339,
              null,
              "Etihad Airways"
             ]
            ]
           ]
          ]
         ],
         false,
         false,
         [
          false,
          false,
          false,
          false
         ],
         [],
         null,
         false,
         false,
         0.536228
        ],
        [
         "12712-2409301655--32753-1-14585-2410010755",
         [
          "75570.02",
          "₹75,571",
          "_zIxOLA4YAe-"
         ],
         [
          [
           "12712-2409301655--32753-1-14585-2410010755",
           [
            "JFK",
            "95565058",
            "New York John F. Kennedy",
            "JFK",
            "New York",
            "United States",
            false
           ],
           [
            "NCL",
            "95674044",
            "Newcastle",
            "NCL",
            "Newcastle",
            "United Kingdom",
            false
           ],
           600,
           1,
           false,
           "2024-09-30T16:55:00",
           "2024-10-01T07:55:00",
           1,
           [
            [
             [
              -32753,
              "https://logos.skyscnr.com/images/airlines/favicon/EI.png",
              "Aer Lingus"
             ]
            ],
            "partially_operated"
           ],
           [
            [
             "12712-11154-2409301655-2410010425--32753",
             [
              null,
              null,
              "New York John F. Kennedy",
              "JFK",
              null,
              "United States",
              null
             ],
             [
              null,
              null,
              "Dublin",
              "DUB",
              null,
              "Ireland",
              null
             ],
             "2024-09-30T16:55:00",
             "2024-10-01T04:25:00",
             390,
             "104",
             [
              -32753,
              null,
              "Aer Lingus"
             ],
             [
              -32753,
              null,
              "Aer Lingus"
             ]
            ],
            [
             "11154-14585-2410010635-2410010755--32753",
             [
              null,
              null,
              "Dublin",
              "DUB",
              null,
              "Ireland",
              null
             ],
             [
              null,
              null,
              "Newcastle",
              "NCL",
              null,
              "United Kingdom",
              null
             ],
             "2024-10-01T06:35:00",
             "2024-10-01T07:55:00",
             80,
             "3350",
             [
              -32753,
              null,
              "Aer Lingus"
             ],
             [
              -30651,
              null,
              "Emerald Airlines"
             ]
            ]
           ]
          ]
         ],
         false,
         false,
         [
          false,
          false,
          false,
          false
         ],
         [],
         [
          "cheapest",
          "shortest"
         ],
         false,
         false,
         0.9999
        ],
        [
         "12712-2409302105--32753-1-14773-2410011245",
         [
          "76051.96",
          "₹76,052",
          "zdiLNtD5ZNfa"
         ],
         [
          [
           "12712-2409302105--32753-1-14773-2410011245",
           [
            "JFK",
            "95565058",
            "New York John F. Kennedy",
            "JFK",
            "New York",
            "United States",
            false
           ],
           [
            "NQY",
            "95673963",
            "Newquay",
            "NQY",
            "Newquay",
            "United Kingdom",
            false
           ],
           640,
           1,
           false,
           "2024-09-30T21:05:00",
           "2024-10-01T12:45:00",
           1,
           [
            [
             [
              -32753,
              "https://logos.skyscnr.com/images/airlines/favicon/EI.png",
              "Aer Lingus"
             ]
            ],
            "partially_operated"
           ],
           [
            [
             "12712-11154-2409302105-2410010850--32753",
             [
              null,
              null,
              "New York John F. Kennedy",
              "JFK",
              null,
              "United States",
              null
             ],
             [
              null,
              null,
              "Dublin",
              "DUB",
              null,
              "Ireland",
              null
             ],
             "2024-09-30T21:05:00",
             "2024-10-01T08:50:00",
             405,
             "106",
             [
              -32753,
              null,
              "Aer Lingus"
             ],
             [
              -32753,
              null,
              "Aer Lingus"
             ]
            ],
            [
             "11154-14773-2410011125-2410011245--32753",
             [
              null,
              null,
              "Dublin",
              "DUB",
              null,
              "Ireland",
              null
             ],
             [
              null,
              null,
              "Newquay",
              "NQY",
              null,
              "United Kingdom",
              null
             ],
             "2024-10-01T11:25:00",
             "2024-10-01T12:45:00",
             80,
             "3930",
             [
              -32753,
              null,
              "Aer Lingus"
             ],
             [
              -30651,
              null,
              "Emerald Airlines"
             ]
            ]
           ]
          ]
         ],
         false,
         false,
         [
          false,
          false,
          false,
          false
         ],
         [],
         [
          "cheapest",
          "shortest"
         ],
         false,
         false,
         0.999
        ],
        [
         "12712-2409301655--32753-1-14773-2410011245",
         [
          "76051.96",
          "₹76,052",
          "ts12X1DFpT5C"
         ],
         [
          [
           "12712-2409301655--32753-1-14773-2410011245",
           [
            "JFK",
            "95565058",
            "New York John F. Kennedy",
            "JFK",
            "New York",
            "United States",
            false
           ],
           [
            "NQY",
            "95673963",
            "Newquay",
            "NQY",
            "Newquay",
            "United Kingdom",
            false
           ],
           890,
           1,
           false,
           "2024-09-30T16:55:00",
           "2024-10-01T12:45:00",
           1,
           [
            [
             [
              -32753,
              "https://logos.skyscnr.com/images/airlines/favicon/EI.png",
              "Aer Lingus"
             ]
            ],
            "partially_operated"
           ],
           [
            [
             "12712-11154-2409301655-2410010425--32753",
             [
              null,
              null,
              "New York John F. Kennedy",
              "JFK",
              null,
              "United States",
              null
             ],
             [
              null,
              null,
              "Dublin",
              "DUB",
              null,
              "Ireland",
              null
             ],
             "2024-09-30T16:55:00",
             "2024-10-01T04:25:00",
             390,
             "104",
             [
              -32753,
              null,
              "Aer Lingus"
             ],
             [
              -32753,
              null,
              "Aer Lingus"
             ]
            ],
            [
             "11154-14773-2410011125-2410011245--32753",
             [
              null,
              null,
              "Dublin",
              "DUB",
              null,
              "Ireland",
              null
             ],
             [
              null,
              null,
              "Newquay",
              "NQY",
              null,
              "United Kingdom",
              null
             ],
             "2024-10-01T11:25:00",
             "2024-10-01T12:45:00",
             80,
             "3930",
             [
              -32753,
              null,
              "Aer Lingus"
             ],
             [
              -30651,
              null,
              "Emerald Airlines"
             ]
            ]
           ]
          ]
         ],
         false,
         false,
         [
          false,
          false,
          false,
          false
         ],
         [],
         [
          "second_cheapest",
          "second_shortest"
         ],
         false,
         false,
         0.719039
        ],
        [
         "10957-2409302330--32573-0-12712-2410010620",
         [
          "54830.4",
          "₹54,831",
          "Qt06DHAxXnHL"
         ],
         [
          [
           "10957-2409302330--32573-0-12712-2410010620",
           [
            "DEL",
            "95673498",
            "Indira Gandhi International ",
            "DEL",
            "New Delhi",
            "India",
            false
           ],
           [
            "JFK",
            "95565058",
            "New York John F. Kennedy",
            "JFK",
            "New York",
            "United States",
            false
           ],
           980,
           0,
           false,
           "2024-09-30T23:30:00",
           "2024-10-01T06:20:00",
           1,
           [
            [
             [
              -32573,
              "https://logos.skyscnr.com/images/airlines/favicon/AA.png",
              "American Airlines"
             ]
            ],
            "fully_operated"
           ],
           [
            [
             "10957-12712-2409302330-2410010620--32573",
             [
              null,
              null,
              "Indira Gandhi International ",
              "DEL",
              null,
              "India",
              null
             ],
             [
              null,
              null,
              "New York John F. Kennedy",
              "JFK",
              null,
              "United States",
              null
             ],
             "2024-09-30T23:30:00",
             "2024-10-01T06:20:00",
             980,
             "293",
             [
              -32573,
              null,
              "American Airlines"
             ],
             [
              -32573,
              null,
              "American Airlines"
             ]
            ]
           ]
          ]
         ],
         false,
         false,
         [
          false,
          false,
          false,
          false
         ],
         [],
         [
          "second_cheapest",
          "shortest"
         ],
         false,
         false,
         0.999
        ],
        [
         "10957-2409302330--32213-2-12712-2410011730",
         [
          "49091",
          "₹49,091",
          "hZkoEKjCBVio"
         ],
         [
          [
           "10957-2409302330--32213-2-12712-2410011730",
           [
            "DEL",
            "95673498",
            "Indira Gandhi International ",
            "DEL",
            "New Delhi",
            "India",
            false
           ],
           [
            "JFK",
            "95565058",
            "New York John F. Kennedy",
            "JFK",
            "New York",
            "United States",
            false
           ],
           1650,
           2,
           false,
           "2024-09-30T23:30:00",
           "2024-10-01T17:30:00",
           1,
           [
            [
             [
              -32213,
              "https://logos.skyscnr.com/images/airlines/favicon/49.png",
              "IndiGo"
             ]
            ],
            "partially_operated"
           ],
           [
            [
             "10957-10075-2409302330-2410010140--32213",
             [
              null,
              null,
              "Indira Gandhi International ",
              "DEL",
              null,
              "India",
              null
             ],
             [
              null,
              null,
              "Mumbai",
              "BOM",
              null,
              "India",
              null
             ],
             "2024-09-30T23:30:00",
             "2024-10-01T01:40:00",
             130,
             "2159",
             [
              -32213,
              null,
              "IndiGo"
             ],
             [
              -32213,
              null,
              "IndiGo"
             ]
            ],
            [
             "10075-12585-2410010655-2410011140--32213",
             [
              null,
              null,
              "Mumbai",
              "BOM",
              null,
              "India",
              null
             ],
             [
              null,
              null,
              "Istanbul",
              "IST",
              null,
              "Türkiye (Turkey)",
              null
             ],
             "2024-10-01T06:55:00",
             "2024-10-01T11:40:00",
             435,
             "17",
             [
              -32213,
              null,
              "IndiGo"
             ],
             [
              -32213,
              null,
              "IndiGo"
             ]
            ],
            [
             "12585-12712-2410011345-2410011730--32213",
             [
              null,
              null,
              "Istanbul",
              "IST",
              null,
              "Türkiye (Turkey)",
              null
             ],
             [
              null,
              null,
              "New York John F. Kennedy",
              "JFK",
              null,
              "United States",
              null
             ],
             "2024-10-01T13:45:00",
             "2024-10-01T17:30:00",
             645,
             "4234",
             [
              -32213,
              null,
              "IndiGo"
             ],
             [
              -31734,
              null,
              "Turkish Airlines"
             ]
            ]
           ]
          ]
         ],
         false,
         false,
         [
          false,
          false,
          false,
          false
         ],
         [],
         [
          "cheapest",
          "second_shortest"
         ],
         false,
         false,
         0.627706
        ],
        [
         "10957-2409302330--31697-2-12712-2410012110",
         [
          "75789",
          "₹75,789",
          "1Odl_roeDWvd"
         ],
         [
          [
           "10957-2409302330--31697-2-12712-2410012110",
           [
            "DEL",
            "95673498",
            "Indira Gandhi International ",
            "DEL",
            "New Delhi",
            "India",
            false
           ],
           [
            "JFK",
            "95565058",
            "New York John F. Kennedy",
            "JFK",
            "New York",
            "United States",
            false
           ],
           1870,
           2,
           false,
           "2024-09-30T23:30:00",
           "2024-10-01T21:10:00",
           1,
           [
            [
             [
              -31697,
              "https://logos.skyscnr.com/images/airlines/favicon/VS.png",
              "Virgin Atlantic"
             ]
            ],
            "partially_operated"
           ],
           [
            [
             "10957-10075-2409302330-2410010140--31697",
             [
              null,
              null,
              "Indira Gandhi International ",
              "DEL",
              null,
              "India",
              null
             ],
             [
              null,
              null,
              "Mumbai",
              "BOM",
              null,
              "India",
              null
             ],
             "2024-09-30T23:30:00",
             "2024-10-01T01:40:00",
             130,
             "8292",
             [
              -31697,
              null,
              "Virgin Atlantic"
             ],
             [
              -32213,
              null,
              "IndiGo"
             ]
            ],
            [
             "10075-13554-2410011045-2410011605--31697",
             [
              null,
              null,
              "Mumbai",
              "BOM",
              null,
              "India",
              null
             ],
             [
              null,
              null,
              "London Heathrow",
              "LHR",
              null,
              "United Kingdom",
              null
             ],
             "2024-10-01T10:45:00",
             "2024-10-01T16:05:00",
             590,
             "355",
             [
              -31697,
              null,
              "Virgin Atlantic"
             ],
             [
              -31697,
              null,
              "Virgin Atlantic"
             ]
            ],
            [
             "13554-12712-2410011825-2410012110--31697",
             [
              null,
              null,
              "London Heathrow",
              "LHR",
              null,
              "United Kingdom",
              null
             ],
             [
              null,
              null,
              "New York John F. Kennedy",
              "JFK",
              null,
              "United States",
              null
             ],
             "2024-10-01T18:25:00",
             "2024-10-01T21:10:00",
             465,
             "137",
             [
              -31697,
              null,
              "Virgin Atlantic"
             ],
             [
              -31697,
              null,
              "Virgin Atlantic"
             ]
            ]
           ]
          ]
         ],
         false,
         false,
         [
          false,
          false,
          false,
          false
         ],
         [],
         [
          "third_cheapest",
          "third_shortest"
         ],
         false,
         false,
         0.339429
        ],
        [
         "10957-2409302335--32090-0-11442-2410010625",
         [
          "66696.2",
          "₹66,697",
          "6KadzpThIuGE"
         ],
         [
          [
           "10957-2409302335--32090-0-11442-2410010625",
           [
            "DEL",
            "95673498",
            "Indira Gandhi International ",
            "DEL",
            "New Delhi",
            "India",
            false
           ],
           [
            "EWR",
            "95565059",
            "New York Newark",
            "EWR",
            "New York",
            "United States",
            false
           ],
           980,
           0,
           false,
           "2024-09-30T23:35:00",
           "2024-10-01T06:25:00",
           1,
           [
            [
             [
              -32090,
              "https://logos.skyscnr.com/images/airlines/favicon/LH.png",
              "Lufthansa"
             ]
            ],
            "not_operated"
           ],
           [
            [
             "10957-11442-2409302335-2410010625--32090",
             [
              null,
              null,
              "Indira Gandhi International ",
              "DEL",
              null,
              "India",
              null
             ],
             [
              null,
              null,
              "New York Newark",
              "EWR",
              null,
              "United States",
              null
             ],
             "2024-09-30T23:35:00",
             "2024-10-01T06:25:00",
             980,
             "83",
             [
              -32090,
              null,
              "Lufthansa"
             ],
             [
              -31722,
              null,
              "United"
             ]
            ]
           ]
          ]
         ],
         false,
         false,
         [
          false,
          false,
          false,
          false
         ],
         [],
         [
          "cheapest",
          "shortest"
         ],
         false,
         false,
         0.999
        ],
        [
         "10957-2409302335--31722-0-11442-2410010625",
         [
          "68226.87",
          "₹68,227",
          "ZvoiNL2-l8hy"
         ],
         [
          [
           "10957-2409302335--31722-0-11442-2410010625",
           [
            "DEL",
            "95673498",
            "Indira Gandhi International ",
            "DEL",
            "New Delhi",
            "India",
            false
           ],
           [
            "EWR",
            "95565059",
            "New York Newark",
            "EWR",
            "New York",
            "United States",
            false
           ],
           980,
           0,
           false,
           "2024-09-30T23:35:00",
           "2024-10-01T06:25:00",
           1,
           [
            [
             [
              -31722,
              "https://logos.skyscnr.com/images/airlines/favicon/UA.png",
              "United"
             ]
            ],
            "fully_operated"
           ],
           [
            [
             "10957-11442-2409302335-2410010625--31722",
             [
              null,
              null,
              "Indira Gandhi International ",
              "DEL",
              null,
              "India",
              null
             ],
             [
              null,
              null,
              "New York Newark",
              "EWR",
              null,
              "United States",
              null
             ],
             "2024-09-30T23:35:00",
             "2024-10-01T06:25:00",
             980,
             "83",
             [
              -31722,
              null,
              "United"
             ],
             [
              -31722,
              null,
              "United"
             ]
            ]
           ]
          ]
         ],
         false,
         false,
         [
          false,
          false,
          false,
          false
         ],
         [],
         [
          "second_cheapest",
          "second_shortest"
         ],
         false,
         false,
         0.977575
        ],
        [
         "10957-2409302330--32573-0-12712-2410010620",
         [
          "54773.28",
          "₹54,774",
          "Qt06DHAxXnHL"
         ],
         [
          [
           "10957-2409302330--32573-0-12712-2410010620",
           [
            "DEL",
            "95673498",
            "Indira Gandhi International ",
            "DEL",
            "New Delhi",
            "India",
            false
           ],
           [
            "JFK",
            "95565058",
            "New York John F. Kennedy",
            "JFK",
            "New York",
            "United States",
            false
           ],
           980,
           0,
           false,
           "2024-09-30T23:30:00",
           "2024-10-01T06:20:00",
           1,
           [
            [
             [
              -32573,
              "https://logos.skyscnr.com/images/airlines/favicon/AA.png",
              "American Airlines"
             ]
            ],
            "fully_operated"
           ],
           [
            [
             "10957-12712-2409302330-2410010620--32573",
             [
              null,
              null,
              "Indira Gandhi International ",
              "DEL",
              null,
              "India",
              null
             ],
             [
              null,
              null,
              "New York John F. Kennedy",
              "JFK",
              null,
              "United States",
              null
             ],
             "2024-09-30T23:30:00",
             "2024-10-01T06:20:00",
             980,
             "293",
             [
              -32573,
              null,
              "American Airlines"
             ],
             [
              -32573,
              null,
              "American Airlines"
             ]
            ]
           ]
          ]
         ],
         false,
         false,
         [
          false,
          false,
          false,
          false
         ],
         [],
         [
          "cheapest",
          "shortest"
         ],
         false,
         false,
         0.999
        ],
        [
         "10957-2409302335--31722-0-11442-2410010625",
         [
          "68226.87",
          "₹68,227",
          "ZvoiNL2-l8hy"
         ],
         [
          [
           "10957-2409302335--31722-0-11442-2410010625",
           [
            "DEL",
            "95673498",
            "Indira Gandhi International ",
            "DEL",
            "New Delhi",
            "India",
            false
           ],
           [
            "EWR",
            "95565059",
            "New York Newark",
            "EWR",
            "New York",
            "United States",
            false
           ],
           980,
           0,
           false,
           "2024-09-30T23:35:00",
           "2024-10-01T06:25:00",
           1,
           [
            [
             [
              -31722,
              "https://logos.skyscnr.com/images/airlines/favicon/UA.png",
              "United"
             ]
            ],
            "fully_operated"
           ],
           [
            [
             "10957-11442-2409302335-2410010625--31722",
             [
              null,
              null,
              "Indira Gandhi International ",
              "DEL",
              null,
              "India",
              null
             ],
             [
              null,
              null,
              "New York Newark",
              "EWR",
              null,
              "United States",
              null
             ],
             "2024-09-30T23:35:00",
             "2024-10-01T06:25:00",
             980,
             "83",
             [
              -31722,
              null,
              "United"
             ],
             [
              -31722,
              null,
              "United"
             ]
            ]
           ]
          ]
         ],
         false,
         false,
         [
          false,
          false,
          false,
          false
         ],
         [],
         [
          "second_cheapest",
          "second_shortest"
         ],
         false,
         false,
         0.73656
        ],
        [
         "10957-2409302330--32213-2-12712-2410011730",
         [
          "71447.83",
          "₹71,448",
          "arnJsE9GGWc9"
         ],
         [
          [
           "10957-2409302330--32213-2-12712-2410011730",
           [
            "DEL",
            "95673498",
            "Indira Gandhi International ",
            "DEL",
            "New Delhi",
            "India",
            false
           ],
           [
            "JFK",
            "95565058",
            "New York John F. Kennedy",
            "JFK",
            "New York",
            "United States",
            false
           ],
           1650,
           2,
           false,
           "2024-09-30T23:30:00",
           "2024-10-01T17:30:00",
           1,
           [
            [
             [
              -32213,
              "https://logos.skyscnr.com/images/airlines/favicon/49.png",
              "IndiGo"
             ]
            ],
            "partially_operated"
           ],
           [
            [
             "10957-10075-2409302330-2410010140--32213",
             [
              null,
              null,
              "Indira Gandhi International ",
              "DEL",
              null,
              "India",
              null
             ],
             [
              null,
              null,
              "Mumbai",
              "BOM",
              null,
              "India",
              null
             ],
             "2024-09-30T23:30:00",
             "2024-10-01T01:40:00",
             130,
             "2159",
             [
              -32213,
              null,
              "IndiGo"
             ],
             [
              -32213,
              null,
              "IndiGo"
             ]
            ],
            [
             "10075-12585-2410010635-2410011055--32213",
             [
              null,
              null,
              "Mumbai",
              "BOM",
              null,
              "India",
              null
             ],
             [
              null,
              null,
              "Istanbul",
              "IST",
              null,
              "Türkiye (Turkey)",
              null
             ],
             "2024-10-01T06:35:00",
             "2024-10-01T10:55:00",
             410,
             "4103",
             [
              -32213,
              null,
              "IndiGo"
             ],
             [
              -31734,
              null,
              "Turkish Airlines"
             ]
            ],
            [
             "12585-12712-2410011345-2410011730--32213",
             [
              null,
              null,
              "Istanbul",
              "IST",
              null,
              "Türkiye (Turkey)",
              null
             ],
             [
              null,
              null,
              "New York John F. Kennedy",
              "JFK",
              null,
              "United States",
              null
             ],
             "2024-10-01T13:45:00",
             "2024-10-01T17:30:00",
             645,
             "4234",
             [
              -32213,
              null,
              "IndiGo"
             ],
             [
              -31734,
              null,
              "Turkish Airlines"
             ]
            ]
           ]
          ]
         ],
         false,
         false,
         [
          false,
          false,
          false,
          false
         ],
         [],
         [
          "third_cheapest",
          "third_shortest"
         ],
         false,
         false,
         0.4862
        ],
        [
         "10957-2409302330--31697-2-12712-2410012110",
         [
          "75789",
          "₹75,789",
          "1Odl_roeDWvd"
         ],
         [
          [
           "10957-2409302330--31697-2-12712-2410012110",
           [
            "DEL",
            "95673498",
            "Indira Gandhi International ",
            "DEL",
            "New Delhi",
            "India",
            false
           ],
           [
            "JFK",
            "95565058",
            "New York John F. Kennedy",
            "JFK",
            "New York",
            "United States",
            false
           ],
           1870,
           2,
           false,
           "2024-09-30T23:30:00",
           "2024-10-01T21:10:00",
           1,
           [
            [
             [
              -31697,
              "https://logos.skyscnr.com/images/airlines/favicon/VS.png",
              "Virgin Atlantic"
             ]
            ],
            "partially_operated"
           ],
           [
            [
             "10957-10075-2409302330-2410010140--31697",
             [
              null,
              null,
              "Indira Gandhi International ",
              "DEL",
              null,
              "India",
              null
             ],
             [
              null,
              null,
              "Mumbai",
              "BOM",
              null,
              "India",
              null
             ],
             "2024-09-30T23:30:00",
             "2024-10-01T01:40:00",
             130,
             "8292",
             [
              -31697,
              null,
              "Virgin Atlantic"
             ],
             [
              -32213,
              null,
              "IndiGo"
             ]
            ],
            [
             "10075-13554-2410011045-2410011605--31697",
             [
              null,
              null,
              "Mumbai",
              "BOM",
              null,
              "India",
              null
             ],
             [
              null,
              null,
              "London Heathrow",
              "LHR",
              null,
              "United Kingdom",
              null
             ],
             "2024-10-01T10:45:00",
             "2024-10-01T16:05:00",
             590,
             "355",
             [
              -31697,
              null,
              "Virgin Atlantic"
             ],
             [
              -31697,
              null,
              "Virgin Atlantic"
             ]
            ],
            [
             "13554-12712-2410011825-2410012110--31697",
             [
              null,
              null,
              "London Heathrow",
              "LHR",
              null,
              "United Kingdom",
              null
             ],
             [
              null,
              null,
              "New York John F. Kennedy",
              "JFK",
              null,
              "United States",
              null
             ],
             "2024-10-01T18:25:00",
             "2024-10-01T21:10:00",
             465,
             "137",
             [
              -31697,
              null,
              "Virgin Atlantic"
             ],
             [
              -31697,
              null,
              "Virgin Atlantic"
             ]
            ]
           ]
          ]
         ],
         false,
         false,
         [
          false,
          false,
          false,
          false
         ],
         [],
         null,
         false,
         false,
         0.378717
        ],
        [
         "16643-2409301915--30789,-31714-3-10957-2410021215",
         [
          "67463.77",
          "₹67,464",
          "arlk67yAY_Lk"
         ],
         [
          [
           "16643-2409301915--30789,-31714-3-10957-2410021215",
           [
            "SWF",
            "95566280",
            "Stewart International",
            "SWF",
            "New York",
            "United States",
            false
           ],
           [
            "DEL",
            "95673498",
            "Indira Gandhi International ",
            "DEL",
            "New Delhi",
            "India",
            false
           ],
           1890,
           3,
           false,
           "2024-09-30T19:15:00",
           "2024-10-02T12:15:00",
           2,
           [
            [
             [
              -30789,
              "https://logos.skyscnr.com/images/airlines/favicon/PA.png",
              "Fly Play"
             ],
             [
              -31714,
              "https://logos.skyscnr.com/images/airlines/favicon/HY.png",
              "Uzbekistan Airways"
             ]
            ],
            "fully_operated"
           ],
           [
            [
             "16643-12974-2409301915-2410010450--30789",
             [
              null,
              null,
              "Stewart International",
              "SWF",
              null,
              "United States",
              null
             ],
             [
              null,
              null,
              "Reykjavik Keflavik",
              "KEF",
              null,
              "Iceland",
              null
             ],
             "2024-09-30T19:15:00",
             "2024-10-01T04:50:00",
             335,
             "122",
             [
              -30789,
              null,
              "Fly Play"
             ],
             [
              -30789,
              null,
              "Fly Play"
             ]
            ],
            [
             "12974-10413-2410010600-2410011130--30789",
             [
              null,
              null,
              "Reykjavik Keflavik",
              "KEF",
              null,
              "Iceland",
              null
             ],
             [
              null,
              null,
              "Paris Charles de Gaulle",
              "CDG",
              null,
              "France",
              null
             ],
             "2024-10-01T06:00:00",
             "2024-10-01T11:30:00",
             210,
             "400",
             [
              -30789,
              null,
              "Fly Play"
             ],
             [
              -30789,
              null,
              "Fly Play"
             ]
            ],
            [
             "10413-16759-2410011950-2410020530--31714",
             [
              null,
              null,
              "Paris Charles de Gaulle",
              "CDG",
              null,
              "France",
              null
             ],
             [
              null,
              null,
              "Tashkent",
              "TAS",
              null,
              "Uzbekistan",
              null
             ],
             "2024-10-01T19:50:00",
             "2024-10-02T05:30:00",
             400,
             "252",
             [
              -31714,
              null,
              "Uzbekistan Airways"
             ],
             [
              -31714,
              null,
              "Uzbekistan Airways"
             ]
            ],
            [
             "16759-10957-2410020845-2410021215--31714",
             [
              null,
              null,
              "Tashkent",
              "TAS",
              null,
              "Uzbekistan",
              null
             ],
             [
              null,
              null,
              "Indira Gandhi International ",
              "DEL",
              null,
              "India",
              null
             ],
             "2024-10-02T08:45:00",
             "2024-10-02T12:15:00",
             180,
             "423",
             [
              -31714,
              null,
              "Uzbekistan Airways"
             ],
             [
              -31714,
              null,
              "Uzbekistan Airways"
             ]
            ]
           ]
          ]
         ],
         false,
         true,
         [
          false,
          false,
          false,
          false
         ],
         [],
         [
          "cheapest"
         ],
         false,
         false,
         0.999
        ],
        [
         "16643-2409301915--30789,-32672-2-10957-2410020810",
         [
          "73325.88",
          "₹73,326",
          "U2tE-WTsHAOM"
         ],
         [
          [
           "16643-2409301915--30789,-32672-2-10957-2410020810",
           [
            "SWF",
            "95566280",
            "Stewart International",
            "SWF",
            "New York",
            "United States",
            false
           ],
           [
            "DEL",
            "95673498",
            "Indira Gandhi International ",
            "DEL",
            "New Delhi",
            "India",
            false
           ],
           1645,
           2,
           false,
           "2024-09-30T19:15:00",
           "2024-10-02T08:10:00",
           2,
           [
            [
             [
              -30789,
              "https://logos.skyscnr.com/images/airlines/favicon/PA.png",
              "Fly Play"
             ],
             [
              -32672,
              "https://logos.skyscnr.com/images/airlines/favicon/AI.png",
              "Air India"
             ]
            ],
            "fully_operated"
           ],
           [
            [
             "16643-12974-2409301915-2410010450--30789",
             [
              null,
              null,
              "Stewart International",
              "SWF",
              null,
              "United States",
              null
             ],
             [
              null,
              null,
              "Reykjavik Keflavik",
              "KEF",
              null,
              "Iceland",
              null
             ],
             "2024-09-30T19:15:00",
             "2024-10-01T04:50:00",
             335,
             "122",
             [
              -30789,
              null,
              "Fly Play"
             ],
             [
              -30789,
              null,
              "Fly Play"
             ]
            ],
            [
             "12974-10413-2410010600-2410011130--30789",
             [
              null,
              null,
              "Reykjavik Keflavik",
              "KEF",
              null,
              "Iceland",
              null
             ],
             [
              null,
              null,
              "Paris Charles de Gaulle",
              "CDG",
              null,
              "France",
              null
             ],
             "2024-10-01T06:00:00",
             "2024-10-01T11:30:00",
             210,
             "400",
             [
              -30789,
              null,
              "Fly Play"
             ],
             [
              -30789,
              null,
              "Fly Play"
             ]
            ],
            [
             "10413-10957-2410012035-2410020810--32672",
             [
              null,
              null,
              "Paris Charles de Gaulle",
              "CDG",
              null,
              "France",
              null
             ],
             [
              null,
              null,
              "Indira Gandhi International ",
              "DEL",
              null,
              "India",
              null
             ],
             "2024-10-01T20:35:00",
             "2024-10-02T08:10:00",
             485,
             "142",
             [
              -32672,
              null,
              "Air India"
             ],
             [
              -32672,
              null,
              "Air India"
             ]
            ]
           ]
          ]
         ],
         false,
         true,
         [
          false,
          false,
          false,
          false
         ],
         [],
         [
          "second_cheapest",
          "third_shortest"
         ],
         false,
         false,
         0.917466
        ],
        [
         "16643-2409301915--30789,-32119-3-10957-2410020555",
         [
          "86390.61",
          "₹86,391",
          "68ayPuxqH5hJ"
         ],
         [
          [
           "16643-2409301915--30789,-32119-3-10957-2410020555",
           [
            "SWF",
            "95566280",
            "Stewart International",
            "SWF",
            "New York",
            "United States",
            false
           ],
           [
            "DEL",
            "95673498",
            "Indira Gandhi International ",
            "DEL",
            "New Delhi",
            "India",
            false
           ],
           1510,
           3,
           false,
           "2024-09-30T19:15:00",
           "2024-10-02T05:55:00",
           2,
           [
            [
             [
              -30789,
              "https://logos.skyscnr.com/images/airlines/favicon/PA.png",
              "Fly Play"
             ],
             [
              -32119,
              "https://logos.skyscnr.com/images/airlines/favicon/KU.png",
              "Kuwait Airways"
             ]
            ],
            "fully_operated"
           ],
           [
            [
             "16643-12974-2409301915-2410010450--30789",
             [
              null,
              null,
              "Stewart International",
              "SWF",
              null,
              "United States",
              null
             ],
             [
              null,
              null,
              "Reykjavik Keflavik",
              "KEF",
              null,
              "Iceland",
              null
             ],
             "2024-09-30T19:15:00",
             "2024-10-01T04:50:00",
             335,
             "122",
             [
              -30789,
              null,
              "Fly Play"
             ],
             [
              -30789,
              null,
              "Fly Play"
             ]
            ],
            [
             "12974-10413-2410010600-2410011130--30789",
             [
              null,
              null,
              "Reykjavik Keflavik",
              "KEF",
              null,
              "Iceland",
              null
             ],
             [
              null,
              null,
              "Paris Charles de Gaulle",
              "CDG",
              null,
              "France",
              null
             ],
             "2024-10-01T06:00:00",
             "2024-10-01T11:30:00",
             210,
             "400",
             [
              -30789,
              null,
              "Fly Play"
             ],
             [
              -30789,
              null,
              "Fly Play"
             ]
            ],
            [
             "10413-13344-2410011510-2410012205--32119",
             [
              null,
              null,
              "Paris Charles de Gaulle",
              "CDG",
              null,
              "France",
              null
             ],
             [
              null,
              null,
              "Kuwait",
              "KWI",
              null,
              "Kuwait",
              null
             ],
             "2024-10-01T15:10:00",
             "2024-10-01T22:05:00",
             355,
             "168",
             [
              -32119,
              null,
              "Kuwait Airways"
             ],
             [
              -32119,
              null,
              "Kuwait Airways"
             ]
            ],
            [
             "13344-10957-2410012310-2410020555--32119",
             [
              null,
              null,
              "Kuwait",
              "KWI",
              null,
              "Kuwait",
              null
             ],
             [
              null,
              null,
              "Indira Gandhi International ",
              "DEL",
              null,
              "India",
              null
             ],
             "2024-10-01T23:10:00",
             "2024-10-02T05:55:00",
             255,
             "383",
             [
              -32119,
              null,
              "Kuwait Airways"
             ],
             [
              -32119,
              null,
              "Kuwait Airways"
             ]
            ]
           ]
          ]
         ],
         false,
         true,
         [
          false,
          false,
          false,
          false
         ],
         [],
         [
          "second_shortest"
         ],
         false,
         false,
         0.79437
        ],
        [
         "16643-2409301915--30789,-31435-2-10957-2410021005",
         [
          "73474.37",
          "₹73,475",
          "tHBxIuYas2lM"
         ],
         [
          [
           "16643-2409301915--30789,-31435-2-10957-2410021005",
           [
            "SWF",
            "95566280",
            "Stewart International",
            "SWF",
            "New York",
            "United States",
            false
           ],
           [
            "DEL",
            "95673498",
            "Indira Gandhi International ",
            "DEL",
            "New Delhi",
            "India",
            false
           ],
           1760,
           2,
           false,
           "2024-09-30T19:15:00",
           "2024-10-02T10:05:00",
           2,
           [
            [
             [
              -30789,
              "https://logos.skyscnr.com/images/airlines/favicon/PA.png",
              "Fly Play"
             ],
             [
              -31435,
              "https://logos.skyscnr.com/images/airlines/favicon/IK.png",
              "Vistara"
             ]
            ],
            "fully_operated"
           ],
           [
            [
             "16643-12974-2409301915-2410010450--30789",
             [
              null,
              null,
              "Stewart International",
              "SWF",
              null,
              "United States",
              null
             ],
             [
              null,
              null,
              "Reykjavik Keflavik",
              "KEF",
              null,
              "Iceland",
              null
             ],
             "2024-09-30T19:15:00",
             "2024-10-01T04:50:00",
             335,
             "122",
             [
              -30789,
              null,
              "Fly Play"
             ],
             [
              -30789,
              null,
              "Fly Play"
             ]
            ],
            [
             "12974-10413-2410010600-2410011130--30789",
             [
              null,
              null,
              "Reykjavik Keflavik",
              "KEF",
              null,
              "Iceland",
              null
             ],
             [
              null,
              null,
              "Paris Charles de Gaulle",
              "CDG",
              null,
              "France",
              null
             ],
             "2024-10-01T06:00:00",
             "2024-10-01T11:30:00",
             210,
             "400",
             [
              -30789,
              null,
              "Fly Play"
             ],
             [
              -30789,
              null,
              "Fly Play"
             ]
            ],
            [
             "10413-10957-2410012225-2410021005--31435",
             [
              null,
              null,
              "Paris Charles de Gaulle",
              "CDG",
              null,
              "France",
              null
             ],
             [
              null,
              null,
              "Indira Gandhi International ",
              "DEL",
              null,
              "India",
              null
             ],
             "2024-10-01T22:25:00",
             "2024-10-02T10:05:00",
             490,
             "22",
             [
              -31435,
              null,
              "Vistara"
             ],
             [
              -31435,
              null,
              "Vistara"
             ]
            ]
           ]
          ]
         ],
         false,
         true,
         [
          false,
          false,
          false,
          false
         ],
         [],
         [
          "third_cheapest"
         ],
         false,
         false,
         0.727342
        ],
        [
         "16643-2409301915--30789,-32317-3-10957-2410020520",
         [
          "105045.07",
          "₹105,046",
          "vccuZ32rbBEB"
         ],
         [
          [
           "16643-2409301915--30789,-32317-3-10957-2410020520",
           [
            "SWF",
            "95566280",
            "Stewart International",
            "SWF",
            "New York",
            "United States",
            false
           ],
           [
            "DEL",
            "95673498",
            "Indira Gandhi International ",
            "DEL",
            "New Delhi",
            "India",
            false
           ],
           1475,
           3,
           false,
           "2024-09-30T19:15:00",
           "2024-10-02T05:20:00",
           2,
           [
            [
             [
              -30789,
              "https://logos.skyscnr.com/images/airlines/favicon/PA.png",
              "Fly Play"
             ],
             [
              -32317,
              "https://logos.skyscnr.com/images/airlines/favicon/AY.png",
              "Finnair"
             ]
            ],
            "partially_operated"
           ],
           [
            [
             "16643-12974-2409301915-2410010450--30789",
             [
              null,
              null,
              "Stewart International",
              "SWF",
              null,
              "United States",
              null
             ],
             [
              null,
              null,
              "Reykjavik Keflavik",
              "KEF",
              null,
              "Iceland",
              null
             ],
             "2024-09-30T19:15:00",
             "2024-10-01T04:50:00",
             335,
             "122",
             [
              -30789,
              null,
              "Fly Play"
             ],
             [
              -30789,
              null,
              "Fly Play"
             ]
            ],
            [
             "12974-10694-2410010625-2410011140--30789",
             [
              null,
              null,
              "Reykjavik Keflavik",
              "KEF",
              null,
              "Iceland",
              null
             ],
             [
              null,
              null,
              "Copenhagen",
              "CPH",
              null,
              "Denmark",
              null
             ],
             "2024-10-01T06:25:00",
             "2024-10-01T11:40:00",
             195,
             "900",
             [
              -30789,
              null,
              "Fly Play"
             ],
             [
              -30789,
              null,
              "Fly Play"
             ]
            ],
            [
             "10694-12126-2410011315-2410011545--32317",
             [
              null,
              null,
              "Copenhagen",
              "CPH",
              null,
              "Denmark",
              null
             ],
             [
              null,
              null,
              "Helsinki Vantaa",
              "HEL",
              null,
              "Finland",
              null
             ],
             "2024-10-01T13:15:00",
             "2024-10-01T15:45:00",
             90,
             "954",
             [
              -32317,
              null,
              "Finnair"
             ],
             [
              -31271,
              null,
              "Nordic Regional Airlines"
             ]
            ],
            [
             "12126-10957-2410011825-2410020520--32317",
             [
              null,
              null,
              "Helsinki Vantaa",
              "HEL",
              null,
              "Finland",
              null
             ],
             [
              null,
              null,
              "Indira Gandhi International ",
              "DEL",
              null,
              "India",
              null
             ],
             "2024-10-01T18:25:00",
             "2024-10-02T05:20:00",
             505,
             "121",
             [
              -32317,
              null,
              "Finnair"
             ],
             [
              -32317,
              null,
              "Finnair"
             ]
            ]
           ]
          ]
         ],
         false,
         true,
         [
          false,
          false,
          false,
          false
         ],
         [],
         [
          "shortest"
         ],
         false,
         false,
         0.668868
        ],
        [
         "16643-2409301915--30789,-32672-3-10957-2410021445",
         [
          "75266.49",
          "₹75,267",
          "kPQ1pihaPLGZ"
         ],
         [
          [
           "16643-2409301915--30789,-32672-3-10957-2410021445",
           [
            "SWF",
            "95566280",
            "Stewart International",
            "SWF",
            "New York",
            "United States",
            false
           ],
           [
            "DEL",
            "95673498",
            "Indira Gandhi International ",
            "DEL",
            "New Delhi",
            "India",
            false
           ],
           2040,
           3,
           false,
           "2024-09-30T19:15:00",
           "2024-10-02T14:45:00",
           2,
           [
            [
             [
              -30789,
              "https://logos.skyscnr.com/images/airlines/favicon/PA.png",
              "Fly Play"
             ],
             [
              -32672,
              "https://logos.skyscnr.com/images/airlines/favicon/AI.png",
              "Air India"
             ]
            ],
            "partially_operated"
           ],
           [
            [
             "16643-12974-2409301915-2410010450--30789",
             [
              null,
              null,
              "Stewart International",
              "SWF",
              null,
              "United States",
              null
             ],
             [
              null,
              null,
              "Reykjavik Keflavik",
              "KEF",
              null,
              "Iceland",
              null
             ],
             "2024-09-30T19:15:00",
             "2024-10-01T04:50:00",
             335,
             "122",
             [
              -30789,
              null,
              "Fly Play"
             ],
             [
              -30789,
              null,
              "Fly Play"
             ]
            ],
            [
             "12974-16574-2410010640-2410011040--30789",
             [
              null,
              null,
              "Reykjavik Keflavik",
              "KEF",
              null,
              "Iceland",
              null
             ],
             [
              null,
              null,
              "London Stansted",
              "STN",
              null,
              "United Kingdom",
              null
             ],
             "2024-10-01T06:40:00",
             "2024-10-01T10:40:00",
             180,
             "800",
             [
              -30789,
              null,
              "Fly Play"
             ],
             [
              -30789,
              null,
              "Fly Play"
             ]
            ],
            [
             "13554-10075-2410012130-2410021050--32672",
             [
              null,
              null,
              "London Heathrow",
              "LHR",
              null,
              "United Kingdom",
              null
             ],
             [
              null,
              null,
              "Mumbai",
              "BOM",
              null,
              "India",
              null
             ],
             "2024-10-01T21:30:00",
             "2024-10-02T10:50:00",
             530,
             "130",
             [
              -32672,
              null,
              "Air India"
             ],
             [
              -32672,
              null,
              "Air India"
             ]
            ],
            [
             "10075-10957-2410021235-2410021445--32672",
             [
              null,
              null,
              "Mumbai",
              "BOM",
              null,
              "India",
              null
             ],
             [
              null,
              null,
              "Indira Gandhi International ",
              "DEL",
              null,
              "India",
              null
             ],
             "2024-10-02T12:35:00",
             "2024-10-02T14:45:00",
             130,
             "6431",
             [
              -32672,
              null,
              "Air India"
             ],
             [
              -31435,
              null,
              "Vistara"
             ]
            ]
           ]
          ]
         ],
         false,
         true,
         [
          false,
          false,
          false,
          false
         ],
         [],
         null,
         false,
         false,
         0.626483
        ],
        [
         "16643-2409301915--30789,-31939-3-10957-2410021500",
         [
          "87624.49",
          "₹87,625",
          "uwR1A7hF-fUM"
         ],
         [
          [
           "16643-2409301915--30789,-31939-3-10957-2410021500",
           [
            "SWF",
            "95566280",
            "Stewart International",
            "SWF",
            "New York",
            "United States",
            false
           ],
           [
            "DEL",
            "95673498",
            "Indira Gandhi International ",
            "DEL",
            "New Delhi",
            "India",
            false
           ],
           2055,
           3,
           false,
           "2024-09-30T19:15:00",
           "2024-10-02T15:00:00",
           2,
           [
            [
             [
              -30789,
              "https://logos.skyscnr.com/images/airlines/favicon/PA.png",
              "Fly Play"
             ],
             [
              -31939,
              "https://logos.skyscnr.com/images/airlines/favicon/QR.png",
              "Qatar Airways"
             ]
            ],
            "partially_operated"
           ],
           [
            [
             "16643-12974-2409301915-2410010450--30789",
             [
              null,
              null,
              "Stewart International",
              "SWF",
              null,
              "United States",
              null
             ],
             [
              null,
              null,
              "Reykjavik Keflavik",
              "KEF",
              null,
              "Iceland",
              null
             ],
             "2024-09-30T19:15:00",
             "2024-10-01T04:50:00",
             335,
             "122",
             [
              -30789,
              null,
              "Fly Play"
             ],
             [
              -30789,
              null,
              "Fly Play"
             ]
            ],
            [
             "12974-11165-2410010605-2410011125--30789",
             [
              null,
              null,
              "Reykjavik Keflavik",
              "KEF",
              null,
              "Iceland",
              null
             ],
             [
              null,
              null,
              "Dusseldorf International",
              "DUS",
              null,
              "Germany",
              null
             ],
             "2024-10-01T06:05:00",
             "2024-10-01T11:25:00",
             200,
             "730",
             [
              -30789,
              null,
              "Fly Play"
             ],
             [
              -30789,
              null,
              "Fly Play"
             ]
            ],
            [
             "11165-11089-2410011525-2410012225--31939",
             [
              null,
              null,
              "Dusseldorf International",
              "DUS",
              null,
              "Germany",
              null
             ],
             [
              null,
              null,
              "Hamad International",
              "DOH",
              null,
              "Qatar",
              null
             ],
             "2024-10-01T15:25:00",
             "2024-10-01T22:25:00",
             360,
             "86",
             [
              -31939,
              null,
              "Qatar Airways"
             ],
             [
              -31939,
              null,
              "Qatar Airways"
             ]
            ],
            [
             "11089-10957-2410020845-2410021500--31939",
             [
              null,
              null,
              "Hamad International",
              "DOH",
              null,
              "Qatar",
              null
             ],
             [
              null,
              null,
              "Indira Gandhi International ",
              "DEL",
              null,
              "India",
              null
             ],
             "2024-10-02T08:45:00",
             "2024-10-02T15:00:00",
             225,
             "4790",
             [
              -31939,
              null,
              "Qatar Airways"
             ],
             [
              -32213,
              null,
              "IndiGo"
             ]
            ]
           ]
          ]
         ],
         false,
         true,
         [
          false,
          false,
          false,
          false
         ],
         [],
         null,
         false,
         false,
         0.561278
        ],
        [
         "16643-2409301915--30789,-32119,-32213-4-10957-2410021245",
         [
          "79193.33",
          "₹79,194",
          "DgSazRUWFVK5"
         ],
         [
          [
           "16643-2409301915--30789,-32119,-32213-4-10957-2410021245",
           [
            "SWF",
            "95566280",
            "Stewart International",
            "SWF",
            "New York",
            "United States",
            false
           ],
           [
            "DEL",
            "95673498",
            "Indira Gandhi International ",
            "DEL",
            "New Delhi",
            "India",
            false
           ],
           1920,
           4,
           false,
           "2024-09-30T19:15:00",
           "2024-10-02T12:45:00",
           2,
           [
            [
             [
              -30789,
              "https://logos.skyscnr.com/images/airlines/favicon/PA.png",
              "Fly Play"
             ],
             [
              -32119,
              "https://logos.skyscnr.com/images/airlines/favicon/KU.png",
              "Kuwait Airways"
             ],
             [
              -32213,
              "https://logos.skyscnr.com/images/airlines/favicon/49.png",
              "IndiGo"
             ]
            ],
            "fully_operated"
           ],
           [
            [
             "16643-12974-2409301915-2410010450--30789",
             [
              null,
              null,
              "Stewart International",
              "SWF",
              null,
              "United States",
              null
             ],
             [
              null,
              null,
              "Reykjavik Keflavik",
              "KEF",
              null,
              "Iceland",
              null
             ],
             "2024-09-30T19:15:00",
             "2024-10-01T04:50:00",
             335,
             "122",
             [
              -30789,
              null,
              "Fly Play"
             ],
             [
              -30789,
              null,
              "Fly Play"
             ]
            ],
            [
             "12974-10413-2410010600-2410011130--30789",
             [
              null,
              null,
              "Reykjavik Keflavik",
              "KEF",
              null,
              "Iceland",
              null
             ],
             [
              null,
              null,
              "Paris Charles de Gaulle",
              "CDG",
              null,
              "France",
              null
             ],
             "2024-10-01T06:00:00",
             "2024-10-01T11:30:00",
             210,
             "400",
             [
              -30789,
              null,
              "Fly Play"
             ],
             [
              -30789,
              null,
              "Fly Play"
             ]
            ],
            [
             "10413-13344-2410011510-2410012205--32119",
             [
              null,
              null,
              "Paris Charles de Gaulle",
              "CDG",
              null,
              "France",
              null
             ],
             [
              null,
              null,
              "Kuwait",
              "KWI",
              null,
              "Kuwait",
              null
             ],
             "2024-10-01T15:10:00",
             "2024-10-01T22:05:00",
             355,
             "168",
             [
              -32119,
              null,
              "Kuwait Airways"
             ],
             [
              -32119,
              null,
              "Kuwait Airways"
             ]
            ],
            [
             "13344-12371-2410012355-2410020715--32213",
             [
              null,
              null,
              "Kuwait",
              "KWI",
              null,
              "Kuwait",
              null
             ],
             [
              null,
              null,
              "Hyderabad",
              "HYD",
              null,
              "India",
              null
             ],
             "2024-10-01T23:55:00",
             "2024-10-02T07:15:00",
             290,
             "1234",
             [
              -32213,
              null,
              "IndiGo"
             ],
             [
              -32213,
              null,
              "IndiGo"
             ]
            ],
            [
             "12371-10957-2410021030-2410021245--32213",
             [
              null,
              null,
              "Hyderabad",
              "HYD",
              null,
              "India",
              null
             ],
             [
              null,
              null,
              "Indira Gandhi International ",
              "DEL",
              null,
              "India",
              null
             ],
             "2024-10-02T10:30:00",
             "2024-10-02T12:45:00",
             135,
             "5169",
             [
              -32213,
              null,
              "IndiGo"
             ],
             [
              -32213,
              null,
              "IndiGo"
             ]
            ]
           ]
          ]
         ],
         false,
         true,
         [
          false,
          false,
          false,
          false
         ],
         [],
         null,
         false,
         false,
         0.561133
        ],
        [
         "16643-2409301915--30789,-32677,-31697-3-10957-2410020930",
         [
          "96811.26",
          "₹96,812",
          "iYYkqCEb1IIl"
         ],
         [
          [
           "16643-2409301915--30789,-32677,-31697-3-10957-2410020930",
           [
            "SWF",
            "95566280",
            "Stewart International",
            "SWF",
            "New York",
            "United States",
            false
           ],
           [
            "DEL",
            "95673498",
            "Indira Gandhi International ",
            "DEL",
            "New Delhi",
            "India",
            false
           ],
           1725,
           3,
           false,
           "2024-09-30T19:15:00",
           "2024-10-02T09:30:00",
           2,
           [
            [
             [
              -30789,
              "https://logos.skyscnr.com/images/airlines/favicon/PA.png",
              "Fly Play"
             ],
             [
              -32677,
              "https://logos.skyscnr.com/images/airlines/favicon/AF.png",
              "Air France"
             ],
             [
              -31697,
              "https://logos.skyscnr.com/images/airlines/favicon/VS.png",
              "Virgin Atlantic"
             ]
            ],
            "fully_operated"
           ],
           [
            [
             "16643-12974-2409301915-2410010450--30789",
             [
              null,
              null,
              "Stewart International",
              "SWF",
              null,
              "United States",
              null
             ],
             [
              null,
              null,
              "Reykjavik Keflavik",
              "KEF",
              null,
              "Iceland",
              null
             ],
             "2024-09-30T19:15:00",
             "2024-10-01T04:50:00",
             335,
             "122",
             [
              -30789,
              null,
              "Fly Play"
             ],
             [
              -30789,
              null,
              "Fly Play"
             ]
            ],
            [
             "12974-10413-2410010600-2410011130--30789",
             [
              null,
              null,
              "Reykjavik Keflavik",
              "KEF",
              null,
              "Iceland",
              null
             ],
             [
              null,
              null,
              "Paris Charles de Gaulle",
              "CDG",
              null,
              "France",
              null
             ],
             "2024-10-01T06:00:00",
             "2024-10-01T11:30:00",
             210,
             "400",
             [
              -30789,
              null,
              "Fly Play"
             ],
             [
              -30789,
              null,
              "Fly Play"
             ]
            ],
            [
             "10413-13554-2410011610-2410011635--32677",
             [
              null,
              null,
              "Paris Charles de Gaulle",
              "CDG",
              null,
              "France",
              null
             ],
             [
              null,
              null,
              "London Heathrow",
              "LHR",
              null,
              "United Kingdom",
              null
             ],
             "2024-10-01T16:10:00",
             "2024-10-01T16:35:00",
             85,
             "1280",
             [
              -32677,
              null,
              "Air France"
             ],
             [
              -32677,
              null,
              "Air France"
             ]
            ],
            [
             "13554-10957-2410012005-2410020930--31697",
             [
              null,
              null,
              "London Heathrow",
              "LHR",
              null,
              "United Kingdom",
              null
             ],
             [
              null,
              null,
              "Indira Gandhi International ",
              "DEL",
              null,
              "India",
              null
             ],
             "2024-10-01T20:05:00",
             "2024-10-02T09:30:00",
             535,
             "300",
             [
              -31697,
              null,
              "Virgin Atlantic"
             ],
             [
              -31697,
              null,
              "Virgin Atlantic"
             ]
            ]
           ]
          ]
         ],
         false,
         true,
         [
          false,
          false,
          false,
          false
         ],
         [],
         null,
         false,
         false,
         0.53669
        ],
        [
         "16643-2409301915--30789,-32119,-32213-4-10957-2410021735",
         [
          "78298.2",
          "₹78,299",
          "hrpdo9yPkfN6"
         ],
         [
          [
           "16643-2409301915--30789,-32119,-32213-4-10957-2410021735",
           [
            "SWF",
            "95566280",
            "Stewart International",
            "SWF",
            "New York",
            "United States",
            false
           ],
           [
            "DEL",
            "95673498",
            "Indira Gandhi International ",
            "DEL",
            "New Delhi",
            "India",
            false
           ],
           2210,
           4,
           false,
           "2024-09-30T19:15:00",
           "2024-10-02T17:35:00",
           2,
           [
            [
             [
              -30789,
              "https://logos.skyscnr.com/images/airlines/favicon/PA.png",
              "Fly Play"
             ],
             [
              -32119,
              "https://logos.skyscnr.com/images/airlines/favicon/KU.png",
              "Kuwait Airways"
             ],
             [
              -32213,
              "https://logos.skyscnr.com/images/airlines/favicon/49.png",
              "IndiGo"
             ]
            ],
            "fully_operated"
           ],
           [
            [
             "16643-12974-2409301915-2410010450--30789",
             [
              null,
              null,
              "Stewart International",
              "SWF",
              null,
              "United States",
              null
             ],
             [
              null,
              null,
              "Reykjavik Keflavik",
              "KEF",
              null,
              "Iceland",
              null
             ],
             "2024-09-30T19:15:00",
             "2024-10-01T04:50:00",
             335,
             "122",
             [
              -30789,
              null,
              "Fly Play"
             ],
             [
              -30789,
              null,
              "Fly Play"
             ]
            ],
            [
             "12974-10413-2410010600-2410011130--30789",
             [
              null,
              null,
              "Reykjavik Keflavik",
              "KEF",
              null,
              "Iceland",
              null
             ],
             [
              null,
              null,
              "Paris Charles de Gaulle",
              "CDG",
              null,
              "France",
              null
             ],
             "2024-10-01T06:00:00",
             "2024-10-01T11:30:00",
             210,
             "400",
             [
              -30789,
              null,
              "Fly Play"
             ],
             [
              -30789,
              null,
              "Fly Play"
             ]
            ],
            [
             "10413-13344-2410011510-2410012205--32119",
             [
              null,
              null,
              "Paris Charles de Gaulle",
              "CDG",
              null,
              "France",
              null
             ],
             [
              null,
              null,
              "Kuwait",
              "KWI",
              null,
              "Kuwait",
              null
             ],
             "2024-10-01T15:10:00",
             "2024-10-01T22:05:00",
             355,
             "168",
             [
              -32119,
              null,
              "Kuwait Airways"
             ],
             [
              -32119,
              null,
              "Kuwait Airways"
             ]
            ],
            [
             "13344-12371-2410012355-2410020715--32213",
             [
              null,
              null,
              "Kuwait",
              "KWI",
              null,
              "Kuwait",
              null
             ],
             [
              null,
              null,
              "Hyderabad",
              "HYD",
              null,
              "India",
              null
             ],
             "2024-10-01T23:55:00",
             "2024-10-02T07:15:00",
             290,
             "1234",
             [
              -32213,
              null,
              "IndiGo"
             ],
             [
              -32213,
              null,
              "IndiGo"
             ]
            ],
            [
             "12371-10957-2410021515-2410021735--32213",
             [
              null,
              null,
              "Hyderabad",
              "HYD",
              null,
              "India",
              null
             ],
             [
              null,
              null,
              "Indira Gandhi International ",
              "DEL",
              null,
              "India",
              null
             ],
             "2024-10-02T15:15:00",
             "2024-10-02T17:35:00",
             140,
             "5606",
             [
              -32213,
              null,
              "IndiGo"
             ],
             [
              -32213,
              null,
              "IndiGo"
             ]
            ]
           ]
          ]
         ],
         false,
         true,
         [
          false,
          false,
          false,
          false
         ],
         [],
         null,
         false,
         false,
         0.509474
        ],
        [
         "16643-2409301915--30789,-32356-3-14585-2410011750",
         [
          "49138.53",
          "₹49,139",
          "e40A2BRXgaD2"
         ],
         [
          [
           "16643-2409301915--30789,-32356-3-14585-2410011750",
           [
            "SWF",
            "95566280",
            "Stewart International",
            "SWF",
            "New York",
            "United States",
            false
           ],
           [
            "NCL",
            "95674044",
            "Newcastle",
            "NCL",
            "Newcastle",
            "United Kingdom",
            false
           ],
           1055,
           3,
           false,
           "2024-09-30T19:15:00",
           "2024-10-01T17:50:00",
           1,
           [
            [
             [
              -30789,
              "https://logos.skyscnr.com/images/airlines/favicon/PA.png",
              "Fly Play"
             ],
             [
              -32356,
              "https://logos.skyscnr.com/images/airlines/favicon/EZ.png",
              "easyJet"
             ]
            ],
            "fully_operated"
           ],
           [
            [
             "16643-12974-2409301915-2410010450--30789",
             [
              null,
              null,
              "Stewart International",
              "SWF",
              null,
              "United States",
              null
             ],
             [
              null,
              null,
              "Reykjavik Keflavik",
              "KEF",
              null,
              "Iceland",
              null
             ],
             "2024-09-30T19:15:00",
             "2024-10-01T04:50:00",
             335,
             "122",
             [
              -30789,
              null,
              "Fly Play"
             ],
             [
              -30789,
              null,
              "Fly Play"
             ]
            ],
            [
             "12974-16574-2410010640-2410011040--30789",
             [
              null,
              null,
              "Reykjavik Keflavik",
              "KEF",
              null,
              "Iceland",
              null
             ],
             [
              null,
              null,
              "London Stansted",
              "STN",
              null,
              "United Kingdom",
              null
             ],
             "2024-10-01T06:40:00",
             "2024-10-01T10:40:00",
             180,
             "800",
             [
              -30789,
              null,
              "Fly Play"
             ],
             [
              -30789,
              null,
              "Fly Play"
             ]
            ],
            [
             "16574-9854-2410011215-2410011335--32356",
             [
              null,
              null,
              "London Stansted",
              "STN",
              null,
              "United Kingdom",
              null
             ],
             [
              null,
              null,
              "Belfast International",
              "BFS",
              null,
              "United Kingdom",
              null
             ],
             "2024-10-01T12:15:00",
             "2024-10-01T13:35:00",
             80,
             "38",
             [
              -32356,
              null,
              "easyJet"
             ],
             [
              -32356,
              null,
              "easyJet"
             ]
            ],
            [
             "9854-14585-2410011700-2410011750--32356",
             [
              null,
              null,
              "Belfast International",
              "BFS",
              null,
              "United Kingdom",
              null
             ],
             [
              null,
              null,
              "Newcastle",
              "NCL",
              null,
              "United Kingdom",
              null
             ],
             "2024-10-01T17:00:00",
             "2024-10-01T17:50:00",
             50,
             "73",
             [
              -32356,
              null,
              "easyJet"
             ],
             [
              -32356,
              null,
              "easyJet"
             ]
            ]
           ]
          ]
         ],
         false,
         true,
         [
          false,
          false,
          false,
          false
         ],
         [],
         [
          "second_cheapest",
          "second_shortest"
         ],
         false,
         false,
         0.999
        ],
        [
         "16643-2409301915--30789,-32356-3-14585-2410012120",
         [
          "42630.83",
          "₹42,631",
          "fdiHg9UngOEj"
         ],
         [
          [
           "16643-2409301915--30789,-32356-3-14585-2410012120",
           [
            "SWF",
            "95566280",
            "Stewart International",
            "SWF",
            "New York",
            "United States",
            false
           ],
           [
            "NCL",
            "95674044",
            "Newcastle",
            "NCL",
            "Newcastle",
            "United Kingdom",
            false
           ],
           1265,
           3,
           false,
           "2024-09-30T19:15:00",
           "2024-10-01T21:20:00",
           1,
           [
            [
             [
              -30789,
              "https://logos.skyscnr.com/images/airlines/favicon/PA.png",
              "Fly Play"
             ],
             [
              -32356,
              "https://logos.skyscnr.com/images/airlines/favicon/EZ.png",
              "easyJet"
             ]
            ],
            "fully_operated"
           ],
           [
            [
             "16643-12974-2409301915-2410010450--30789",
             [
              null,
              null,
              "Stewart International",
              "SWF",
              null,
              "United States",
              null
             ],
             [
              null,
              null,
              "Reykjavik Keflavik",
              "KEF",
              null,
              "Iceland",
              null
             ],
             "2024-09-30T19:15:00",
             "2024-10-01T04:50:00",
             335,
             "122",
             [
              -30789,
              null,
              "Fly Play"
             ],
             [
              -30789,
              null,
              "Fly Play"
             ]
            ],
            [
             "12974-10413-2410010600-2410011130--30789",
             [
              null,
              null,
              "Reykjavik Keflavik",
              "KEF",
              null,
              "Iceland",
              null
             ],
             [
              null,
              null,
              "Paris Charles de Gaulle",
              "CDG",
              null,
              "France",
              null
             ],
             "2024-10-01T06:00:00",
             "2024-10-01T11:30:00",
             210,
             "400",
             [
              -30789,
              null,
              "Fly Play"
             ],
             [
              -30789,
              null,
              "Fly Play"
             ]
            ],
            [
             "10413-10139-2410011625-2410011645--32356",
             [
              null,
              null,
              "Paris Charles de Gaulle",
              "CDG",
              null,
              "France",
              null
             ],
             [
              null,
              null,
              "Bristol",
              "BRS",
              null,
              "United Kingdom",
              null
             ],
             "2024-10-01T16:25:00",
             "2024-10-01T16:45:00",
             80,
             "2776",
             [
              -32356,
              null,
              "easyJet"
             ],
             [
              -32356,
              null,
              "easyJet"
             ]
            ],
            [
             "10139-14585-2410012015-2410012120--32356",
             [
              null,
              null,
              "Bristol",
              "BRS",
              null,
              "United Kingdom",
              null
             ],
             [
              null,
              null,
              "Newcastle",
              "NCL",
              null,
              "United Kingdom",
              null
             ],
             "2024-10-01T20:15:00",
             "2024-10-01T21:20:00",
             65,
             "241",
             [
              -32356,
              null,
              "easyJet"
             ],
             [
              -32356,
              null,
              "easyJet"
             ]
            ]
           ]
          ]
         ],
         false,
         true,
         [
          false,
          false,
          false,
          false
         ],
         [],
         [
          "cheapest",
          "third_shortest"
         ],
         false,
         false,
         0.908043
        ],
        [
         "16643-2409301915--30789,-32132-3-14585-2410011640",
         [
          "60362.92",
          "₹60,363",
          "bUKeUZbN-HGN"
         ],
         [
          [
           "16643-2409301915--30789,-32132-3-14585-2410011640",
           [
            "SWF",
            "95566280",
            "Stewart International",
            "SWF",
            "New York",
            "United States",
            false
           ],
           [
            "NCL",
            "95674044",
            "Newcastle",
            "NCL",
            "Newcastle",
            "United Kingdom",
            false
           ],
           985,
           3,
           false,
           "2024-09-30T19:15:00",
           "2024-10-01T16:40:00",
           1,
           [
            [
             [
              -30789,
              "https://logos.skyscnr.com/images/airlines/favicon/PA.png",
              "Fly Play"
             ],
             [
              -32132,
              "https://logos.skyscnr.com/images/airlines/favicon/KL.png",
              "KLM"
             ]
            ],
            "partially_operated"
           ],
           [
            [
             "16643-12974-2409301915-2410010450--30789",
             [
              null,
              null,
              "Stewart International",
              "SWF",
              null,
              "United States",
              null
             ],
             [
              null,
              null,
              "Reykjavik Keflavik",
              "KEF",
              null,
              "Iceland",
              null
             ],
             "2024-09-30T19:15:00",
             "2024-10-01T04:50:00",
             335,
             "122",
             [
              -30789,
              null,
              "Fly Play"
             ],
             [
              -30789,
              null,
              "Fly Play"
             ]
            ],
            [
             "12974-11165-2410010605-2410011125--30789",
             [
              null,
              null,
              "Reykjavik Keflavik",
              "KEF",
              null,
              "Iceland",
              null
             ],
             [
              null,
              null,
              "Dusseldorf International",
              "DUS",
              null,
              "Germany",
              null
             ],
             "2024-10-01T06:05:00",
             "2024-10-01T11:25:00",
             200,
             "730",
             [
              -30789,
              null,
              "Fly Play"
             ],
             [
              -30789,
              null,
              "Fly Play"
             ]
            ],
            [
             "11165-9451-2410011435-2410011530--32132",
             [
              null,
              null,
              "Dusseldorf International",
              "DUS",
              null,
              "Germany",
              null
             ],
             [
              null,
              null,
              "Amsterdam Schiphol",
              "AMS",
              null,
              "Netherlands",
              null
             ],
             "2024-10-01T14:35:00",
             "2024-10-01T15:30:00",
             55,
             "1802",
             [
              -32132,
              null,
              "KLM"
             ],
             [
              -30702,
              null,
              "German Airways"
             ]
            ],
            [
             "9451-14585-2410011625-2410011640--32132",
             [
              null,
              null,
              "Amsterdam Schiphol",
              "AMS",
              null,
              "Netherlands",
              null
             ],
             [
              null,
              null,
              "Newcastle",
              "NCL",
              null,
              "United Kingdom",
              null
             ],
             "2024-10-01T16:25:00",
             "2024-10-01T16:40:00",
             75,
             "959",
             [
              -32132,
              null,
              "KLM"
             ],
             [
              -32132,
              null,
              "KLM"
             ]
            ]
           ]
          ]
         ],
         false,
         true,
         [
          false,
          false,
          false,
          false
         ],
         [],
         [
          "shortest"
         ],
         false,
         false,
         0.784733
        ],
        [
         "16643-2409301915--30789,-32132-3-14585-2410012255",
         [
          "54102.43",
          "₹54,103",
          "2I8RS1VXMIrO"
         ],
         [
          [
           "16643-2409301915--30789,-32132-3-14585-2410012255",
           [
            "SWF",
            "95566280",
            "Stewart International",
            "SWF",
            "New York",
            "United States",
            false
           ],
           [
            "NCL",
            "95674044",
            "Newcastle",
            "NCL",
            "Newcastle",
            "United Kingdom",
            false
           ],
           1360,
           3,
           false,
           "2024-09-30T19:15:00",
           "2024-10-01T22:55:00",
           1,
           [
            [
             [
              -30789,
              "https://logos.skyscnr.com/images/airlines/favicon/PA.png",
              "Fly Play"
             ],
             [
              -32132,
              "https://logos.skyscnr.com/images/airlines/favicon/KL.png",
              "KLM"
             ]
            ],
            "fully_operated"
           ],
           [
            [
             "16643-12974-2409301915-2410010450--30789",
             [
              null,
              null,
              "Stewart International",
              "SWF",
              null,
              "United States",
              null
             ],
             [
              null,
              null,
              "Reykjavik Keflavik",
              "KEF",
              null,
              "Iceland",
              null
             ],
             "2024-09-30T19:15:00",
             "2024-10-01T04:50:00",
             335,
             "122",
             [
              -30789,
              null,
              "Fly Play"
             ],
             [
              -30789,
              null,
              "Fly Play"
             ]
            ],
            [
             "12974-10413-2410010600-2410011130--30789",
             [
              null,
              null,
              "Reykjavik Keflavik",
              "KEF",
              null,
              "Iceland",
              null
             ],
             [
              null,
              null,
              "Paris Charles de Gaulle",
              "CDG",
              null,
              "France",
              null
             ],
             "2024-10-01T06:00:00",
             "2024-10-01T11:30:00",
             210,
             "400",
             [
              -30789,
              null,
              "Fly Play"
             ],
             [
              -30789,
              null,
              "Fly Play"
             ]
            ],
            [
             "10413-9451-2410012015-2410012125--32132",
             [
              null,
              null,
              "Paris Charles de Gaulle",
              "CDG",
              null,
              "France",
              null
             ],
             [
              null,
              null,
              "Amsterdam Schiphol",
              "AMS",
              null,
              "Netherlands",
              null
             ],
             "2024-10-01T20:15:00",
             "2024-10-01T21:25:00",
             70,
             "1412",
             [
              -32132,
              null,
              "KLM"
             ],
             [
              -32132,
              null,
              "KLM"
             ]
            ],
            [
             "9451-14585-2410012240-2410012255--32132",
             [
              null,
              null,
              "Amsterdam Schiphol",
              "AMS",
              null,
              "Netherlands",
              null
             ],
             [
              null,
              null,
              "Newcastle",
              "NCL",
              null,
              "United Kingdom",
              null
             ],
             "2024-10-01T22:40:00",
             "2024-10-01T22:55:00",
             75,
             "961",
             [
              -32132,
              null,
              "KLM"
             ],
             [
              -32132,
              null,
              "KLM"
             ]
            ]
           ]
          ]
         ],
         false,
         true,
         [
          false,
          false,
          false,
          false
         ],
         [],
         null,
         false,
         false,
         0.514124
        ],
        [
         "16643-2409301915--30789,-32677-3-14585-2410012235",
         [
          "55402.84",
          "₹55,403",
          "yxy9wHCj8fVy"
         ],
         [
          [
           "16643-2409301915--30789,-32677-3-14585-2410012235",
           [
            "SWF",
            "95566280",
            "Stewart International",
            "SWF",
            "New York",
            "United States",
            false
           ],
           [
            "NCL",
            "95674044",
            "Newcastle",
            "NCL",
            "Newcastle",
            "United Kingdom",
            false
           ],
           1340,
           3,
           false,
           "2024-09-30T19:15:00",
           "2024-10-01T22:35:00",
           1,
           [
            [
             [
              -30789,
              "https://logos.skyscnr.com/images/airlines/favicon/PA.png",
              "Fly Play"
             ],
             [
              -32677,
              "https://logos.skyscnr.com/images/airlines/favicon/AF.png",
              "Air France"
             ]
            ],
            "partially_operated"
           ],
           [
            [
             "16643-12974-2409301915-2410010450--30789",
             [
              null,
              null,
              "Stewart International",
              "SWF",
              null,
              "United States",
              null
             ],
             [
              null,
              null,
              "Reykjavik Keflavik",
              "KEF",
              null,
              "Iceland",
              null
             ],
             "2024-09-30T19:15:00",
             "2024-10-01T04:50:00",
             335,
             "122",
             [
              -30789,
              null,
              "Fly Play"
             ],
             [
              -30789,
              null,
              "Fly Play"
             ]
            ],
            [
             "12974-12070-2410010620-2410011140--30789",
             [
              null,
              null,
              "Reykjavik Keflavik",
              "KEF",
              null,
              "Iceland",
              null
             ],
             [
              null,
              null,
              "Hamburg International",
              "HAM",
              null,
              "Germany",
              null
             ],
             "2024-10-01T06:20:00",
             "2024-10-01T11:40:00",
             200,
             "740",
             [
              -30789,
              null,
              "Fly Play"
             ],
             [
              -30789,
              null,
              "Fly Play"
             ]
            ],
            [
             "12070-10413-2410011515-2410011650--32677",
             [
              null,
              null,
              "Hamburg International",
              "HAM",
              null,
              "Germany",
              null
             ],
             [
              null,
              null,
              "Paris Charles de Gaulle",
              "CDG",
              null,
              "France",
              null
             ],
             "2024-10-01T15:15:00",
             "2024-10-01T16:50:00",
             95,
             "1711",
             [
              -32677,
              null,
              "Air France"
             ],
             [
              -32677,
              null,
              "Air France"
             ]
            ],
            [
             "10413-14585-2410012200-2410012235--32677",
             [
              null,
              null,
              "Paris Charles de Gaulle",
              "CDG",
              null,
              "France",
              null
             ],
             [
              null,
              null,
              "Newcastle",
              "NCL",
              null,
              "United Kingdom",
              null
             ],
             "2024-10-01T22:00:00",
             "2024-10-01T22:35:00",
             95,
             "1558",
             [
              -32677,
              null,
              "Air France"
             ],
             [
              -32226,
              null,
              "HOP!"
             ]
            ]
           ]
          ]
         ],
         false,
         true,
         [
          false,
          false,
          false,
          false
         ],
         [],
         null,
         false,
         false,
         0.513017
        ],
        [
         "16643-2409301915--30789,-32132,-32356-4-14585-2410012120",
         [
          "60506.22",
          "₹60,507",
          "CeQAlFibULFQ"
         ],
         [
          [
           "16643-2409301915--30789,-32132,-32356-4-14585-2410012120",
           [
            "SWF",
            "95566280",
            "Stewart International",
            "SWF",
            "New York",
            "United States",
            false
           ],
           [
            "NCL",
            "95674044",
            "Newcastle",
            "NCL",
            "Newcastle",
            "United Kingdom",
            false
           ],
           1265,
           4,
           false,
           "2024-09-30T19:15:00",
           "2024-10-01T21:20:00",
           1,
           [
            [
             [
              -30789,
              "https://logos.skyscnr.com/images/airlines/favicon/PA.png",
              "Fly Play"
             ],
             [
              -32132,
              "https://logos.skyscnr.com/images/airlines/favicon/KL.png",
              "KLM"
             ],
             [
              -32356,
              "https://logos.skyscnr.com/images/airlines/favicon/EZ.png",
              "easyJet"
             ]
            ],
            "partially_operated"
           ],
           [
            [
             "16643-12974-2409301915-2410010450--30789",
             [
              null,
              null,
              "Stewart International",
              "SWF",
              null,
              "United States",
              null
             ],
             [
              null,
              null,
              "Reykjavik Keflavik",
              "KEF",
              null,
              "Iceland",
              null
             ],
             "2024-09-30T19:15:00",
             "2024-10-01T04:50:00",
             335,
             "122",
             [
              -30789,
              null,
              "Fly Play"
             ],
             [
              -30789,
              null,
              "Fly Play"
             ]
            ],
            [
             "12974-10413-2410010600-2410011130--30789",
             [
              null,
              null,
              "Reykjavik Keflavik",
              "KEF",
              null,
              "Iceland",
              null
             ],
             [
              null,
              null,
              "Paris Charles de Gaulle",
              "CDG",
              null,
              "France",
              null
             ],
             "2024-10-01T06:00:00",
             "2024-10-01T11:30:00",
             210,
             "400",
             [
              -30789,
              null,
              "Fly Play"
             ],
             [
              -30789,
              null,
              "Fly Play"
             ]
            ],
            [
             "10413-9451-2410011430-2410011555--32132",
             [
              null,
              null,
              "Paris Charles de Gaulle",
              "CDG",
              null,
              "France",
              null
             ],
             [
              null,
              null,
              "Amsterdam Schiphol",
              "AMS",
              null,
              "Netherlands",
              null
             ],
             "2024-10-01T14:30:00",
             "2024-10-01T15:55:00",
             85,
             "2439",
             [
              -32132,
              null,
              "KLM"
             ],
             [
              -32677,
              null,
              "Air France"
             ]
            ],
            [
             "9451-10139-2410011640-2410011655--32132",
             [
              null,
              null,
              "Amsterdam Schiphol",
              "AMS",
              null,
              "Netherlands",
              null
             ],
             [
              null,
              null,
              "Bristol",
              "BRS",
              null,
              "United Kingdom",
              null
             ],
             "2024-10-01T16:40:00",
             "2024-10-01T16:55:00",
             75,
             "1081",
             [
              -32132,
              null,
              "KLM"
             ],
             [
              -30702,
              null,
              "German Airways"
             ]
            ],
            [
             "10139-14585-2410012015-2410012120--32356",
             [
              null,
              null,
              "Bristol",
              "BRS",
              null,
              "United Kingdom",
              null
             ],
             [
              null,
              null,
              "Newcastle",
              "NCL",
              null,
              "United Kingdom",
              null
             ],
             "2024-10-01T20:15:00",
             "2024-10-01T21:20:00",
             65,
             "241",
             [
              -32356,
              null,
              "easyJet"
             ],
             [
              -32356,
              null,
              "easyJet"
             ]
            ]
           ]
          ]
         ],
         false,
         true,
         [
          false,
          false,
          false,
          false
         ],
         [],
         null,
         false,
         false,
         0.431457
        ],
        [
         "16643-2409301915--30789,-32753-3-14585-2410020745",
         [
          "49658.02",
          "₹49,659",
          "ApIvJfHQKeSR"
         ],
         [
          [
           "16643-2409301915--30789,-32753-3-14585-2410020745",
           [
            "SWF",
            "95566280",
            "Stewart International",
            "SWF",
            "New York",
            "United States",
            false
           ],
           [
            "NCL",
            "95674044",
            "Newcastle",
            "NCL",
            "Newcastle",
            "United Kingdom",
            false
           ],
           1890,
           3,
           false,
           "2024-09-30T19:15:00",
           "2024-10-02T07:45:00",
           2,
           [
            [
             [
              -30789,
              "https://logos.skyscnr.com/images/airlines/favicon/PA.png",
              "Fly Play"
             ],
             [
              -32753,
              "https://logos.skyscnr.com/images/airlines/favicon/EI.png",
              "Aer Lingus"
             ]
            ],
            "partially_operated"
           ],
           [
            [
             "16643-12974-2409301915-2410010450--30789",
             [
              null,
              null,
              "Stewart International",
              "SWF",
              null,
              "United States",
              null
             ],
             [
              null,
              null,
              "Reykjavik Keflavik",
              "KEF",
              null,
              "Iceland",
              null
             ],
             "2024-09-30T19:15:00",
             "2024-10-01T04:50:00",
             335,
             "122",
             [
              -30789,
              null,
              "Fly Play"
             ],
             [
              -30789,
              null,
              "Fly Play"
             ]
            ],
            [
             "12974-16574-2410010640-2410011040--30789",
             [
              null,
              null,
              "Reykjavik Keflavik",
              "KEF",
              null,
              "Iceland",
              null
             ],
             [
              null,
              null,
              "London Stansted",
              "STN",
              null,
              "United Kingdom",
              null
             ],
             "2024-10-01T06:40:00",
             "2024-10-01T10:40:00",
             180,
             "800",
             [
              -30789,
              null,
              "Fly Play"
             ],
             [
              -30789,
              null,
              "Fly Play"
             ]
            ],
            [
             "13554-11154-2410011550-2410011715--32753",
             [
              null,
              null,
              "London Heathrow",
              "LHR",
              null,
              "United Kingdom",
              null
             ],
             [
              null,
              null,
              "Dublin",
              "DUB",
              null,
              "Ireland",
              null
             ],
             "2024-10-01T15:50:00",
             "2024-10-01T17:15:00",
             85,
             "167",
             [
              -32753,
              null,
              "Aer Lingus"
             ],
             [
              -32753,
              null,
              "Aer Lingus"
             ]
            ],
            [
             "11154-14585-2410020625-2410020745--32753",
             [
              null,
              null,
              "Dublin",
              "DUB",
              null,
              "Ireland",
              null
             ],
             [
              null,
              null,
              "Newcastle",
              "NCL",
              null,
              "United Kingdom",
              null
             ],
             "2024-10-02T06:25:00",
             "2024-10-02T07:45:00",
             80,
             "3350",
             [
              -32753,
              null,
              "Aer Lingus"
             ],
             [
              -30651,
              null,
              "Emerald Airlines"
             ]
            ]
           ]
          ]
         ],
         false,
         true,
         [
          false,
          false,
          false,
          false
         ],
         [],
         [
          "third_cheapest"
         ],
         false,
         false,
         0.413139
        ],
        [
         "16643-2409301915--30789,-32753,-32356-4-14585-2410012120",
         [
          "65524.41",
          "₹65,525",
          "XVmT0iQntCdn"
         ],
         [
          [
           "16643-2409301915--30789,-32753,-32356-4-14585-2410012120",
           [
            "SWF",
            "95566280",
            "Stewart International",
            "SWF",
            "New York",
            "United States",
            false
           ],
           [
            "NCL",
            "95674044",
            "Newcastle",
            "NCL",
            "Newcastle",
            "United Kingdom",
            false
           ],
           1265,
           4,
           false,
           "2024-09-30T19:15:00",
           "2024-10-01T21:20:00",
           1,
           [
            [
             [
              -30789,
              "https://logos.skyscnr.com/images/airlines/favicon/PA.png",
              "Fly Play"
             ],
             [
              -32753,
              "https://logos.skyscnr.com/images/airlines/favicon/EI.png",
              "Aer Lingus"
             ],
             [
              -32356,
              "https://logos.skyscnr.com/images/airlines/favicon/EZ.png",
              "easyJet"
             ]
            ],
            "partially_operated"
           ],
           [
            [
             "16643-12974-2409301915-2410010450--30789",
             [
              null,
              null,
              "Stewart International",
              "SWF",
              null,
              "United States",
              null
             ],
             [
              null,
              null,
              "Reykjavik Keflavik",
              "KEF",
              null,
              "Iceland",
              null
             ],
             "2024-09-30T19:15:00",
             "2024-10-01T04:50:00",
             335,
             "122",
             [
              -30789,
              null,
              "Fly Play"
             ],
             [
              -30789,
              null,
              "Fly Play"
             ]
            ],
            [
             "12974-10413-2410010600-2410011130--30789",
             [
              null,
              null,
              "Reykjavik Keflavik",
              "KEF",
              null,
              "Iceland",
              null
             ],
             [
              null,
              null,
              "Paris Charles de Gaulle",
              "CDG",
              null,
              "France",
              null
             ],
             "2024-10-01T06:00:00",
             "2024-10-01T11:30:00",
             210,
             "400",
             [
              -30789,
              null,
              "Fly Play"
             ],
             [
              -30789,
              null,
              "Fly Play"
             ]
            ],
            [
             "10413-11154-2410011320-2410011410--32753",
             [
              null,
              null,
              "Paris Charles de Gaulle",
              "CDG",
              null,
              "France",
              null
             ],
             [
              null,
              null,
              "Dublin",
              "DUB",
              null,
              "Ireland",
              null
             ],
             "2024-10-01T13:20:00",
             "2024-10-01T14:10:00",
             110,
             "525",
             [
              -32753,
              null,
              "Aer Lingus"
             ],
             [
              -32753,
              null,
              "Aer Lingus"
             ]
            ],
            [
             "11154-10139-2410011705-2410011825--32753",
             [
              null,
              null,
              "Dublin",
              "DUB",
              null,
              "Ireland",
              null
             ],
             [
              null,
              null,
              "Bristol",
              "BRS",
              null,
              "United Kingdom",
              null
             ],
             "2024-10-01T17:05:00",
             "2024-10-01T18:25:00",
             80,
             "3286",
             [
              -32753,
              null,
              "Aer Lingus"
             ],
             [
              -30651,
              null,
              "Emerald Airlines"
             ]
            ],
            [
             "10139-14585-2410012015-2410012120--32356",
             [
              null,
              null,
              "Bristol",
              "BRS",
              null,
              "United Kingdom",
              null
             ],
             [
              null,
              null,
              "Newcastle",
              "NCL",
              null,
              "United Kingdom",
              null
             ],
             "2024-10-01T20:15:00",
             "2024-10-01T21:20:00",
             65,
             "241",
             [
              -32356,
              null,
              "easyJet"
             ],
             [
              -32356,
              null,
              "easyJet"
             ]
            ]
           ]
          ]
         ],
         false,
         true,
         [
          false,
          false,
          false,
          false
         ],
         [],
         null,
         false,
         false,
         0.406709
        ],
        [
         "16643-2409301915--30789,-32360-2-14773-2410012010",
         [
          "50835.76",
          "₹50,836",
          "MnanuMfvMYlE"
         ],
         [
          [
           "16643-2409301915--30789,-32360-2-14773-2410012010",
           [
            "SWF",
            "95566280",
            "Stewart International",
            "SWF",
            "New York",
            "United States",
            false
           ],
           [
            "NQY",
            "95673963",
            "Newquay",
            "NQY",
            "Newquay",
            "United Kingdom",
            false
           ],
           1195,
           2,
           false,
           "2024-09-30T19:15:00",
           "2024-10-01T20:10:00",
           1,
           [
            [
             [
              -30789,
              "https://logos.skyscnr.com/images/airlines/favicon/PA.png",
              "Fly Play"
             ],
             [
              -32360,
              "https://logos.skyscnr.com/images/airlines/favicon/T3.png",
              "Eastern Airways"
             ]
            ],
            "fully_operated"
           ],
           [
            [
             "16643-12974-2409301915-2410010450--30789",
             [
              null,
              null,
              "Stewart International",
              "SWF",
              null,
              "United States",
              null
             ],
             [
              null,
              null,
              "Reykjavik Keflavik",
              "KEF",
              null,
              "Iceland",
              null
             ],
             "2024-09-30T19:15:00",
             "2024-10-01T04:50:00",
             335,
             "122",
             [
              -30789,
              null,
              "Fly Play"
             ],
             [
              -30789,
              null,
              "Fly Play"
             ]
            ],
            [
             "12974-16574-2410010640-2410011040--30789",
             [
              null,
              null,
              "Reykjavik Keflavik",
              "KEF",
              null,
              "Iceland",
              null
             ],
             [
              null,
              null,
              "London Stansted",
              "STN",
              null,
              "United Kingdom",
              null
             ],
             "2024-10-01T06:40:00",
             "2024-10-01T10:40:00",
             180,
             "800",
             [
              -30789,
              null,
              "Fly Play"
             ],
             [
              -30789,
              null,
              "Fly Play"
             ]
            ],
            [
             "13542-14773-2410011850-2410012010--32360",
             [
              null,
              null,
              "London Gatwick",
              "LGW",
              null,
              "United Kingdom",
              null
             ],
             [
              null,
              null,
              "Newquay",
              "NQY",
              null,
              "United Kingdom",
              null
             ],
             "2024-10-01T18:50:00",
             "2024-10-01T20:10:00",
             80,
             "458",
             [
              -32360,
              null,
              "Eastern Airways"
             ],
             [
              -32360,
              null,
              "Eastern Airways"
             ]
            ]
           ]
          ]
         ],
         false,
         true,
         [
          false,
          false,
          false,
          false
         ],
         [],
         [
          "cheapest",
          "shortest"
         ],
         false,
         false,
         0.999
        ],
        [
         "16643-2409301915--30789,-32356,-32753-4-14773-2410021245",
         [
          "74680.33",
          "₹74,681",
          "vAi3TCqxrv0U"
         ],
         [
          [
           "16643-2409301915--30789,-32356,-32753-4-14773-2410021245",
           [
            "SWF",
            "95566280",
            "Stewart International",
            "SWF",
            "New York",
            "United States",
            false
           ],
           [
            "NQY",
            "95673963",
            "Newquay",
            "NQY",
            "Newquay",
            "United Kingdom",
            false
           ],
           2190,
           4,
           false,
           "2024-09-30T19:15:00",
           "2024-10-02T12:45:00",
           2,
           [
            [
             [
              -30789,
              "https://logos.skyscnr.com/images/airlines/favicon/PA.png",
              "Fly Play"
             ],
             [
              -32356,
              "https://logos.skyscnr.com/images/airlines/favicon/EZ.png",
              "easyJet"
             ],
             [
              -32753,
              "https://logos.skyscnr.com/images/airlines/favicon/EI.png",
              "Aer Lingus"
             ]
            ],
            "partially_operated"
           ],
           [
            [
             "16643-12974-2409301915-2410010450--30789",
             [
              null,
              null,
              "Stewart International",
              "SWF",
              null,
              "United States",
              null
             ],
             [
              null,
              null,
              "Reykjavik Keflavik",
              "KEF",
              null,
              "Iceland",
              null
             ],
             "2024-09-30T19:15:00",
             "2024-10-01T04:50:00",
             335,
             "122",
             [
              -30789,
              null,
              "Fly Play"
             ],
             [
              -30789,
              null,
              "Fly Play"
             ]
            ],
            [
             "12974-10413-2410010600-2410011130--30789",
             [
              null,
              null,
              "Reykjavik Keflavik",
              "KEF",
              null,
              "Iceland",
              null
             ],
             [
              null,
              null,
              "Paris Charles de Gaulle",
              "CDG",
              null,
              "France",
              null
             ],
             "2024-10-01T06:00:00",
             "2024-10-01T11:30:00",
             210,
             "400",
             [
              -30789,
              null,
              "Fly Play"
             ],
             [
              -30789,
              null,
              "Fly Play"
             ]
            ],
            [
             "10413-13880-2410011830-2410011855--32356",
             [
              null,
              null,
              "Paris Charles de Gaulle",
              "CDG",
              null,
              "France",
              null
             ],
             [
              null,
              null,
              "Manchester",
              "MAN",
              null,
              "United Kingdom",
              null
             ],
             "2024-10-01T18:30:00",
             "2024-10-01T18:55:00",
             85,
             "2108",
             [
              -32356,
              null,
              "easyJet"
             ],
             [
              -32356,
              null,
              "easyJet"
             ]
            ],
            [
             "13880-11154-2410012055-2410012205--32753",
             [
              null,
              null,
              "Manchester",
              "MAN",
              null,
              "United Kingdom",
              null
             ],
             [
              null,
              null,
              "Dublin",
              "DUB",
              null,
              "Ireland",
              null
             ],
             "2024-10-01T20:55:00",
             "2024-10-01T22:05:00",
             70,
             "3329",
             [
              -32753,
              null,
              "Aer Lingus"
             ],
             [
              -30651,
              null,
              "Emerald Airlines"
             ]
            ],
            [
             "11154-14773-2410021125-2410021245--32753",
             [
              null,
              null,
              "Dublin",
              "DUB",
              null,
              "Ireland",
              null
             ],
             [
              null,
              null,
              "Newquay",
              "NQY",
              null,
              "United Kingdom",
              null
             ],
             "2024-10-02T11:25:00",
             "2024-10-02T12:45:00",
             80,
             "3930",
             [
              -32753,
              null,
              "Aer Lingus"
             ],
             [
              -30651,
              null,
              "Emerald Airlines"
             ]
            ]
           ]
          ]
         ],
         false,
         true,
         [
          false,
          false,
          false,
          false
         ],
         [],
         [
          "third_cheapest"
         ],
         false,
         false,
         0.508323
        ],
        [
         "16643-2409301915--30789,-32217,-32753,-32094-4-14773-2410020945",
         [
          "74568.37",
          "₹74,569",
          "erWZ54M1riq7"
         ],
         [
          [
           "16643-2409301915--30789,-32217,-32753,-32094-4-14773-2410020945",
           [
            "SWF",
            "95566280",
            "Stewart International",
            "SWF",
            "New York",
            "United States",
            false
           ],
           [
            "NQY",
            "95673963",
            "Newquay",
            "NQY",
            "Newquay",
            "United Kingdom",
            false
           ],
           2010,
           4,
           false,
           "2024-09-30T19:15:00",
           "2024-10-02T09:45:00",
           2,
           [
            [
             [
              -30789,
              "https://logos.skyscnr.com/images/airlines/favicon/PA.png",
              "Fly Play"
             ],
             [
              -32217,
              "https://logos.skyscnr.com/images/airlines/favicon/FI.png",
              "Icelandair"
             ],
             [
              -32753,
              "https://logos.skyscnr.com/images/airlines/favicon/EI.png",
              "Aer Lingus"
             ],
             [
              -32094,
              "https://logos.skyscnr.com/images/airlines/favicon/LC.png",
              "Loganair"
             ]
            ],
            "partially_operated"
           ],
           [
            [
             "16643-12974-2409301915-2410010450--30789",
             [
              null,
              null,
              "Stewart International",
              "SWF",
              null,
              "United States",
              null
             ],
             [
              null,
              null,
              "Reykjavik Keflavik",
              "KEF",
              null,
              "Iceland",
              null
             ],
             "2024-09-30T19:15:00",
             "2024-10-01T04:50:00",
             335,
             "122",
             [
              -30789,
              null,
              "Fly Play"
             ],
             [
              -30789,
              null,
              "Fly Play"
             ]
            ],
            [
             "12974-11154-2410010730-2410011105--32217",
             [
              null,
              null,
              "Reykjavik Keflavik",
              "KEF",
              null,
              "Iceland",
              null
             ],
             [
              null,
              null,
              "Dublin",
              "DUB",
              null,
              "Ireland",
              null
             ],
             "2024-10-01T07:30:00",
             "2024-10-01T11:05:00",
             155,
             "416",
             [
              -32217,
              null,
              "Icelandair"
             ],
             [
              -32217,
              null,
              "Icelandair"
             ]
            ],
            [
             "11154-9226-2410011405-2410011540--32753",
             [
              null,
              null,
              "Dublin",
              "DUB",
              null,
              "Ireland",
              null
             ],
             [
              null,
              null,
              "Aberdeen",
              "ABZ",
              null,
              "United Kingdom",
              null
             ],
             "2024-10-01T14:05:00",
             "2024-10-01T15:40:00",
             95,
             "3242",
             [
              -32753,
              null,
              "Aer Lingus"
             ],
             [
              -30651,
              null,
              "Emerald Airlines"
             ]
            ],
            [
             "9226-13880-2410020640-2410020755--32094",
             [
              null,
              null,
              "Aberdeen",
              "ABZ",
              null,
              "United Kingdom",
              null
             ],
             [
              null,
              null,
              "Manchester",
              "MAN",
              null,
              "United Kingdom",
              null
             ],
             "2024-10-02T06:40:00",
             "2024-10-02T07:55:00",
             75,
             "21",
             [
              -32094,
              null,
              "Loganair"
             ],
             [
              -32094,
              null,
              "Loganair"
             ]
            ],
            [
             "13880-14773-2410020835-2410020945--32094",
             [
              null,
              null,
              "Manchester",
              "MAN",
              null,
              "United Kingdom",
              null
             ],
             [
              null,
              null,
              "Newquay",
              "NQY",
              null,
              "United Kingdom",
              null
             ],
             "2024-10-02T08:35:00",
             "2024-10-02T09:45:00",
             70,
             "21",
             [
              -32094,
              null,
              "Loganair"
             ],
             [
              -32094,
              null,
              "Loganair"
             ]
            ]
           ]
          ]
         ],
         false,
         true,
         [
          false,
          false,
          false,
          false
         ],
         [],
         [
          "second_cheapest",
          "second_shortest"
         ],
         false,
         false,
         0.410783
        ],
        [
         "16643-2409301915--30789,-32217,-32753,-32094-3-14773-2410020945",
         [
          "77081.03",
          "₹77,082",
          "2iorcC44OXRH"
         ],
         [
          [
           "16643-2409301915--30789,-32217,-32753,-32094-3-14773-2410020945",
           [
            "SWF",
            "95566280",
            "Stewart International",
            "SWF",
            "New York",
            "United States",
            false
           ],
           [
            "NQY",
            "95673963",
            "Newquay",
            "NQY",
            "Newquay",
            "United Kingdom",
            false
           ],
           2010,
           3,
           false,
           "2024-09-30T19:15:00",
           "2024-10-02T09:45:00",
           2,
           [
            [
             [
              -30789,
              "https://logos.skyscnr.com/images/airlines/favicon/PA.png",
              "Fly Play"
             ],
             [
              -32217,
              "https://logos.skyscnr.com/images/airlines/favicon/FI.png",
              "Icelandair"
             ],
             [
              -32753,
              "https://logos.skyscnr.com/images/airlines/favicon/EI.png",
              "Aer Lingus"
             ],
             [
              -32094,
              "https://logos.skyscnr.com/images/airlines/favicon/LC.png",
              "Loganair"
             ]
            ],
            "partially_operated"
           ],
           [
            [
             "16643-12974-2409301915-2410010450--30789",
             [
              null,
              null,
              "Stewart International",
              "SWF",
              null,
              "United States",
              null
             ],
             [
              null,
              null,
              "Reykjavik Keflavik",
              "KEF",
              null,
              "Iceland",
              null
             ],
             "2024-09-30T19:15:00",
             "2024-10-01T04:50:00",
             335,
             "122",
             [
              -30789,
              null,
              "Fly Play"
             ],
             [
              -30789,
              null,
              "Fly Play"
             ]
            ],
            [
             "12974-11154-2410010730-2410011105--32217",
             [
              null,
              null,
              "Reykjavik Keflavik",
              "KEF",
              null,
              "Iceland",
              null
             ],
             [
              null,
              null,
              "Dublin",
              "DUB",
              null,
              "Ireland",
              null
             ],
             "2024-10-01T07:30:00",
             "2024-10-01T11:05:00",
             155,
             "416",
             [
              -32217,
              null,
              "Icelandair"
             ],
             [
              -32217,
              null,
              "Icelandair"
             ]
            ],
            [
             "11154-13880-2410011910-2410012025--32753",
             [
              null,
              null,
              "Dublin",
              "DUB",
              null,
              "Ireland",
              null
             ],
             [
              null,
              null,
              "Manchester",
              "MAN",
              null,
              "United Kingdom",
              null
             ],
             "2024-10-01T19:10:00",
             "2024-10-01T20:25:00",
             75,
             "3328",
             [
              -32753,
              null,
              "Aer Lingus"
             ],
             [
              -30651,
              null,
              "Emerald Airlines"
             ]
            ],
            [
             "13880-14773-2410020835-2410020945--32094",
             [
              null,
              null,
              "Manchester",
              "MAN",
              null,
              "United Kingdom",
              null
             ],
             [
              null,
              null,
              "Newquay",
              "NQY",
              null,
              "United Kingdom",
              null
             ],
             "2024-10-02T08:35:00",
             "2024-10-02T09:45:00",
             70,
             "21",
             [
              -32094,
              null,
              "Loganair"
             ],
             [
              -32094,
              null,
              "Loganair"
             ]
            ]
           ]
          ]
         ],
         false,
         true,
         [
          false,
          false,
          false,
          false
         ],
         [],
         [
          "third_shortest"
         ],
         false,
         false,
         0.305002
        ],
        [
         "16643-2409301915--30789,-32753,-32094-4-14773-2410020945",
         [
          "91391.63",
          "₹91,392",
          "23ByhFvOEilI"
         ],
         [
          [
           "16643-2409301915--30789,-32753,-32094-4-14773-2410020945",
           [
            "SWF",
            "95566280",
            "Stewart International",
            "SWF",
            "New York",
            "United States",
            false
           ],
           [
            "NQY",
            "95673963",
            "Newquay",
            "NQY",
            "Newquay",
            "United Kingdom",
            false
           ],
           2010,
           4,
           false,
           "2024-09-30T19:15:00",
           "2024-10-02T09:45:00",
           2,
           [
            [
             [
              -30789,
              "https://logos.skyscnr.com/images/airlines/favicon/PA.png",
              "Fly Play"
             ],
             [
              -32753,
              "https://logos.skyscnr.com/images/airlines/favicon/EI.png",
              "Aer Lingus"
             ],
             [
              -32094,
              "https://logos.skyscnr.com/images/airlines/favicon/LC.png",
              "Loganair"
             ]
            ],
            "partially_operated"
           ],
           [
            [
             "16643-12974-2409301915-2410010450--30789",
             [
              null,
              null,
              "Stewart International",
              "SWF",
              null,
              "United States",
              null
             ],
             [
              null,
              null,
              "Reykjavik Keflavik",
              "KEF",
              null,
              "Iceland",
              null
             ],
             "2024-09-30T19:15:00",
             "2024-10-01T04:50:00",
             335,
             "122",
             [
              -30789,
              null,
              "Fly Play"
             ],
             [
              -30789,
              null,
              "Fly Play"
             ]
            ],
            [
             "12974-10413-2410010600-2410011130--30789",
             [
              null,
              null,
              "Reykjavik Keflavik",
              "KEF",
              null,
              "Iceland",
              null
             ],
             [
              null,
              null,
              "Paris Charles de Gaulle",
              "CDG",
              null,
              "France",
              null
             ],
             "2024-10-01T06:00:00",
             "2024-10-01T11:30:00",
             210,
             "400",
             [
              -30789,
              null,
              "Fly Play"
             ],
             [
              -30789,
              null,
              "Fly Play"
             ]
            ],
            [
             "10413-11154-2410011320-2410011410--32753",
             [
              null,
              null,
              "Paris Charles de Gaulle",
              "CDG",
              null,
              "France",
              null
             ],
             [
              null,
              null,
              "Dublin",
              "DUB",
              null,
              "Ireland",
              null
             ],
             "2024-10-01T13:20:00",
             "2024-10-01T14:10:00",
             110,
             "525",
             [
              -32753,
              null,
              "Aer Lingus"
             ],
             [
              -32753,
              null,
              "Aer Lingus"
             ]
            ],
            [
             "11154-13880-2410011910-2410012025--32753",
             [
              null,
              null,
              "Dublin",
              "DUB",
              null,
              "Ireland",
              null
             ],
             [
              null,
              null,
              "Manchester",
              "MAN",
              null,
              "United Kingdom",
              null
             ],
             "2024-10-01T19:10:00",
             "2024-10-01T20:25:00",
             75,
             "3328",
             [
              -32753,
              null,
              "Aer Lingus"
             ],
             [
              -30651,
              null,
              "Emerald Airlines"
             ]
            ],
            [
             "13880-14773-2410020835-2410020945--32094",
             [
              null,
              null,
              "Manchester",
              "MAN",
              null,
              "United Kingdom",
              null
             ],
             [
              null,
              null,
              "Newquay",
              "NQY",
              null,
              "United Kingdom",
              null
             ],
             "2024-10-02T08:35:00",
             "2024-10-02T09:45:00",
             70,
             "21",
             [
              -32094,
              null,
              "Loganair"
             ],
             [
              -32094,
              null,
              "Loganair"
             ]
            ]
           ]
          ]
         ],
         false,
         true,
         [
          false,
          false,
          false,
          false
         ],
         [],
         null,
         false,
         false,
         0.301244
        ],
        [
         "16643-2409301915--30789,-32217,-32753-3-14773-2410021245",
         [
          "86287.1",
          "₹86,288",
          "094w2SAd3f2z"
         ],
         [
          [
           "16643-2409301915--30789,-32217,-32753-3-14773-2410021245",
           [
            "SWF",
            "95566280",
            "Stewart International",
            "SWF",
            "New York",
            "United States",
            false
           ],
           [
            "NQY",
            "95673963",
            "Newquay",
            "NQY",
            "Newquay",
            "United Kingdom",
            false
           ],
           2190,
           3,
           false,
           "2024-09-30T19:15:00",
           "2024-10-02T12:45:00",
           2,
           [
            [
             [
              -30789,
              "https://logos.skyscnr.com/images/airlines/favicon/PA.png",
              "Fly Play"
             ],
             [
              -32217,
              "https://logos.skyscnr.com/images/airlines/favicon/FI.png",
              "Icelandair"
             ],
             [
              -32753,
              "https://logos.skyscnr.com/images/airlines/favicon/EI.png",
              "Aer Lingus"
             ]
            ],
            "partially_operated"
           ],
           [
            [
             "16643-12974-2409301915-2410010450--30789",
             [
              null,
              null,
              "Stewart International",
              "SWF",
              null,
              "United States",
              null
             ],
             [
              null,
              null,
              "Reykjavik Keflavik",
              "KEF",
              null,
              "Iceland",
              null
             ],
             "2024-09-30T19:15:00",
             "2024-10-01T04:50:00",
             335,
             "122",
             [
              -30789,
              null,
              "Fly Play"
             ],
             [
              -30789,
              null,
              "Fly Play"
             ]
            ],
            [
             "12974-13880-2410010800-2410011140--32217",
             [
              null,
              null,
              "Reykjavik Keflavik",
              "KEF",
              null,
              "Iceland",
              null
             ],
             [
              null,
              null,
              "Manchester",
              "MAN",
              null,
              "United Kingdom",
              null
             ],
             "2024-10-01T08:00:00",
             "2024-10-01T11:40:00",
             160,
             "440",
             [
              -32217,
              null,
              "Icelandair"
             ],
             [
              -32217,
              null,
              "Icelandair"
             ]
            ],
            [
             "13880-11154-2410011425-2410011525--32753",
             [
              null,
              null,
              "Manchester",
              "MAN",
              null,
              "United Kingdom",
              null
             ],
             [
              null,
              null,
              "Dublin",
              "DUB",
              null,
              "Ireland",
              null
             ],
             "2024-10-01T14:25:00",
             "2024-10-01T15:25:00",
             60,
             "209",
             [
              -32753,
              null,
              "Aer Lingus"
             ],
             [
              -32753,
              null,
              "Aer Lingus"
             ]
            ],
            [
             "11154-14773-2410021125-2410021245--32753",
             [
              null,
              null,
              "Dublin",
              "DUB",
              null,
              "Ireland",
              null
             ],
             [
              null,
              null,
              "Newquay",
              "NQY",
              null,
              "United Kingdom",
              null
             ],
             "2024-10-02T11:25:00",
             "2024-10-02T12:45:00",
             80,
             "3930",
             [
              -32753,
              null,
              "Aer Lingus"
             ],
             [
              -30651,
              null,
              "Emerald Airlines"
             ]
            ]
           ]
          ]
         ],
         false,
         true,
         [
          false,
          false,
          false,
          false
         ],
         [],
         null,
         false,
         false,
         0.292231
        ],
        [
         "13522-2409301600--32677-2-10957-2410012235",
         [
          "62042",
          "₹62,042",
          "3vC7zp34OYUd"
         ],
         [
          [
           "13522-2409301600--32677-2-10957-2410012235",
           [
            "LGA",
            "95565057",
            "New York LaGuardia",
            "LGA",
            "New York",
            "United States",
            false
           ],
           [
            "DEL",
            "95673498",
            "Indira Gandhi International ",
            "DEL",
            "New Delhi",
            "India",
            false
           ],
           1265,
           2,
           false,
           "2024-09-30T16:00:00",
           "2024-10-01T22:35:00",
           1,
           [
            [
             [
              -32677,
              "https://logos.skyscnr.com/images/airlines/favicon/AF.png",
              "Air France"
             ]
            ],
            "partially_operated"
           ],
           [
            [
             "13522-10081-2409301600-2409301731--32677",
             [
              null,
              null,
              "New York LaGuardia",
              "LGA",
              null,
              "United States",
              null
             ],
             [
              null,
              null,
              "Boston Logan International",
              "BOS",
              null,
              "United States",
              null
             ],
             "2024-09-30T16:00:00",
             "2024-09-30T17:31:00",
             91,
             "2222",
             [
              -32677,
              null,
              "Air France"
             ],
             [
              -30991,
              null,
              "Republic Airways DBA Delta Connection"
             ]
            ],
            [
             "10081-10413-2409301855-2410010755--32677",
             [
              null,
              null,
              "Boston Logan International",
              "BOS",
              null,
              "United States",
              null
             ],
             [
              null,
              null,
              "Paris Charles de Gaulle",
              "CDG",
              null,
              "France",
              null
             ],
             "2024-09-30T18:55:00",
             "2024-10-01T07:55:00",
             420,
             "3663",
             [
              -32677,
              null,
              "Air France"
             ],
             [
              -32385,
              null,
              "Delta"
             ]
            ],
            [
             "10413-10957-2410011025-2410012235--32677",
             [
              null,
              null,
              "Paris Charles de Gaulle",
              "CDG",
              null,
              "France",
              null
             ],
             [
              null,
              null,
              "Indira Gandhi International ",
              "DEL",
              null,
              "India",
              null
             ],
             "2024-10-01T10:25:00",
             "2024-10-01T22:35:00",
             520,
             "226",
             [
              -32677,
              null,
              "Air France"
             ],
             [
              -32677,
              null,
              "Air France"
             ]
            ]
           ]
          ]
         ],
         false,
         false,
         [
          false,
          false,
          false,
          false
         ],
         [],
         [
          "cheapest"
         ],
         false,
         false,
         0.999
        ],
        [
         "13522-2409301920--32695-1-10957-2410012145",
         [
          "108439",
          "₹108,439",
          "WhFI2AOFgeB3"
         ],
         [
          [
           "13522-2409301920--32695-1-10957-2410012145",
           [
            "LGA",
            "95565057",
            "New York LaGuardia",
            "LGA",
            "New York",
            "United States",
            false
           ],
           [
            "DEL",
            "95673498",
            "Indira Gandhi International ",
            "DEL",
            "New Delhi",
            "India",
            false
           ],
           1015,
           1,
           false,
           "2024-09-30T19:20:00",
           "2024-10-01T21:45:00",
           1,
           [
            [
             [
              -32695,
              "https://logos.skyscnr.com/images/airlines/favicon/AC.png",
              "Air Canada"
             ]
            ],
            "partially_operated"
           ],
           [
            [
             "13522-18395-2409301920-2409302048--32695",
             [
              null,
              null,
              "New York LaGuardia",
              "LGA",
              null,
              "United States",
              null
             ],
             [
              null,
              null,
              "Montreal Pierre Elliott Trudeau",
              "YUL",
              null,
              "Canada",
              null
             ],
             "2024-09-30T19:20:00",
             "2024-09-30T20:48:00",
             88,
             "8643",
             [
              -32695,
              null,
              "Air Canada"
             ],
             [
              -31542,
              null,
              "Air Canada Express - Jazz"
             ]
            ],
            [
             "18395-10957-2409302150-2410012145--32695",
             [
              null,
              null,
              "Montreal Pierre Elliott Trudeau",
              "YUL",
              null,
              "Canada",
              null
             ],
             [
              null,
              null,
              "Indira Gandhi International ",
              "DEL",
              null,
              "India",
              null
             ],
             "2024-09-30T21:50:00",
             "2024-10-01T21:45:00",
             865,
             "50",
             [
              -32695,
              null,
              "Air Canada"
             ],
             [
              -32695,
              null,
              "Air Canada"
             ]
            ]
           ]
          ]
         ],
         false,
         false,
         [
          false,
          false,
          false,
          false
         ],
         [],
         [
          "shortest"
         ],
         false,
         false,
         0.67131
        ],
        [
         "13522-2409301600--32132-2-10957-2410020155",
         [
          "66646",
          "₹66,646",
          "AyyTBd_0v7MR"
         ],
         [
          [
           "13522-2409301600--32132-2-10957-2410020155",
           [
            "LGA",
            "95565057",
            "New York LaGuardia",
            "LGA",
            "New York",
            "United States",
            false
           ],
           [
            "DEL",
            "95673498",
            "Indira Gandhi International ",
            "DEL",
            "New Delhi",
            "India",
            false
           ],
           1465,
           2,
           false,
           "2024-09-30T16:00:00",
           "2024-10-02T01:55:00",
           2,
           [
            [
             [
              -32132,
              "https://logos.skyscnr.com/images/airlines/favicon/KL.png",
              "KLM"
             ]
            ],
            "partially_operated"
           ],
           [
            [
             "13522-10081-2409301600-2409301731--32132",
             [
              null,
              null,
              "New York LaGuardia",
              "LGA",
              null,
              "United States",
              null
             ],
             [
              null,
              null,
              "Boston Logan International",
              "BOS",
              null,
              "United States",
              null
             ],
             "2024-09-30T16:00:00",
             "2024-09-30T17:31:00",
             91,
             "6485",
             [
              -32132,
              null,
              "KLM"
             ],
             [
              -30991,
              null,
              "Republic Airways DBA Delta Connection"
             ]
            ],
            [
             "10081-9451-2409301855-2410010800--32132",
             [
              null,
              null,
              "Boston Logan International",
              "BOS",
              null,
              "United States",
              null
             ],
             [
              null,
              null,
              "Amsterdam Schiphol",
              "AMS",
              null,
              "Netherlands",
              null
             ],
             "2024-09-30T18:55:00",
             "2024-10-01T08:00:00",
             425,
             "6016",
             [
              -32132,
              null,
              "KLM"
             ],
             [
              -32385,
              null,
              "Delta"
             ]
            ],
            [
             "9451-10957-2410011410-2410020155--32132",
             [
              null,
              null,
              "Amsterdam Schiphol",
              "AMS",
              null,
              "Netherlands",
              null
             ],
             [
              null,
              null,
              "Indira Gandhi International ",
              "DEL",
              null,
              "India",
              null
             ],
             "2024-10-01T14:10:00",
             "2024-10-02T01:55:00",
             495,
             "871",
             [
              -32132,
              null,
              "KLM"
             ],
             [
              -32132,
              null,
              "KLM"
             ]
            ]
           ]
          ]
         ],
         false,
         false,
         [
          false,
          false,
          false,
          false
         ],
         [],
         null,
         false,
         false,
         0.603001
        ],
        [
         "13522-2409301859--32677-2-10957-2410022235",
         [
          "62277",
          "₹62,277",
          "cxKkqQCx-_-w"
         ],
         [
          [
           "13522-2409301859--32677-2-10957-2410022235",
           [
            "LGA",
            "95565057",
            "New York LaGuardia",
            "LGA",
            "New York",
            "United States",
            false
           ],
           [
            "DEL",
            "95673498",
            "Indira Gandhi International ",
            "DEL",
            "New Delhi",
            "India",
            false
           ],
           2526,
           2,
           false,
           "2024-09-30T18:59:00",
           "2024-10-02T22:35:00",
           2,
           [
            [
             [
              -32677,
              "https://logos.skyscnr.com/images/airlines/favicon/AF.png",
              "Air France"
             ]
            ],
            "partially_operated"
           ],
           [
            [
             "13522-9596-2409301859-2409302123--32677",
             [
              null,
              null,
              "New York LaGuardia",
              "LGA",
              null,
              "United States",
              null
             ],
             [
              null,
              null,
              "Atlanta Hartsfield-Jackson",
              "ATL",
              null,
              "United States",
              null
             ],
             "2024-09-30T18:59:00",
             "2024-09-30T21:23:00",
             144,
             "7918",
             [
              -32677,
              null,
              "Air France"
             ],
             [
              -32385,
              null,
              "Delta"
             ]
            ],
            [
             "9596-10413-2409302215-2410011230--32677",
             [
              null,
              null,
              "Atlanta Hartsfield-Jackson",
              "ATL",
              null,
              "United States",
              null
             ],
             [
              null,
              null,
              "Paris Charles de Gaulle",
              "CDG",
              null,
              "France",
              null
             ],
             "2024-09-30T22:15:00",
             "2024-10-01T12:30:00",
             495,
             "3595",
             [
              -32677,
              null,
              "Air France"
             ],
             [
              -32385,
              null,
              "Delta"
             ]
            ],
            [
             "10413-10957-2410021025-2410022235--32677",
             [
              null,
              null,
              "Paris Charles de Gaulle",
              "CDG",
              null,
              "France",
              null
             ],
             [
              null,
              null,
              "Indira Gandhi International ",
              "DEL",
              null,
              "India",
              null
             ],
             "2024-10-02T10:25:00",
             "2024-10-02T22:35:00",
             520,
             "226",
             [
              -32677,
              null,
              "Air France"
             ],
             [
              -32677,
              null,
              "Air France"
             ]
            ]
           ]
          ]
         ],
         false,
         false,
         [
          false,
          false,
          false,
          false
         ],
         [],
         [
          "third_cheapest"
         ],
         false,
         false,
         0.423298
        ],
        [
         "13522-2409301800--32695-1-10957-2410012145",
         [
          "108439",
          "₹108,439",
          "s9TdDM33Lr9m"
         ],
         [
          [
           "13522-2409301800--32695-1-10957-2410012145",
           [
            "LGA",
            "95565057",
            "New York LaGuardia",
            "LGA",
            "New York",
            "United States",
            false
           ],
           [
            "DEL",
            "95673498",
            "Indira Gandhi International ",
            "DEL",
            "New Delhi",
            "India",
            false
           ],
           1095,
           1,
           false,
           "2024-09-30T18:00:00",
           "2024-10-01T21:45:00",
           1,
           [
            [
             [
              -32695,
              "https://logos.skyscnr.com/images/airlines/favicon/AC.png",
              "Air Canada"
             ]
            ],
            "partially_operated"
           ],
           [
            [
             "13522-18395-2409301800-2409301925--32695",
             [
              null,
              null,
              "New York LaGuardia",
              "LGA",
              null,
              "United States",
              null
             ],
             [
              null,
              null,
              "Montreal Pierre Elliott Trudeau",
              "YUL",
              null,
              "Canada",
              null
             ],
             "2024-09-30T18:00:00",
             "2024-09-30T19:25:00",
             85,
             "8641",
             [
              -32695,
              null,
              "Air Canada"
             ],
             [
              -31542,
              null,
              "Air Canada Express - Jazz"
             ]
            ],
            [
             "18395-10957-2409302150-2410012145--32695",
             [
              null,
              null,
              "Montreal Pierre Elliott Trudeau",
              "YUL",
              null,
              "Canada",
              null
             ],
             [
              null,
              null,
              "Indira Gandhi International ",
              "DEL",
              null,
              "India",
              null
             ],
             "2024-09-30T21:50:00",
             "2024-10-01T21:45:00",
             865,
             "50",
             [
              -32695,
              null,
              "Air Canada"
             ],
             [
              -32695,
              null,
              "Air Canada"
             ]
            ]
           ]
          ]
         ],
         false,
         false,
         [
          false,
          false,
          false,
          false
         ],
         [],
         [
          "second_shortest"
         ],
         false,
         false,
         0.421216
        ],
        [
         "13522-2409301359--32132-2-10957-2410020155",
         [
          "71750",
          "₹71,750",
          "_ndLY1mfHgq_"
         ],
         [
          [
           "13522-2409301359--32132-2-10957-2410020155",
           [
            "LGA",
            "95565057",
            "New York LaGuardia",
            "LGA",
            "New York",
            "United States",
            false
           ],
           [
            "DEL",
            "95673498",
            "Indira Gandhi International ",
            "DEL",
            "New Delhi",
            "India",
            false
           ],
           1586,
           2,
           false,
           "2024-09-30T13:59:00",
           "2024-10-02T01:55:00",
           2,
           [
            [
             [
              -32132,
              "https://logos.skyscnr.com/images/airlines/favicon/KL.png",
              "KLM"
             ]
            ],
            "partially_operated"
           ],
           [
            [
             "13522-10081-2409301359-2409301521--32132",
             [
              null,
              null,
              "New York LaGuardia",
              "LGA",
              null,
              "United States",
              null
             ],
             [
              null,
              null,
              "Boston Logan International",
              "BOS",
              null,
              "United States",
              null
             ],
             "2024-09-30T13:59:00",
             "2024-09-30T15:21:00",
             82,
             "6895",
             [
              -32132,
              null,
              "KLM"
             ],
             [
              -30991,
              null,
              "Republic Airways DBA Delta Connection"
             ]
            ],
            [
             "10081-9451-2409301650-2410010545--32132",
             [
              null,
              null,
              "Boston Logan International",
              "BOS",
              null,
              "United States",
              null
             ],
             [
              null,
              null,
              "Amsterdam Schiphol",
              "AMS",
              null,
              "Netherlands",
              null
             ],
             "2024-09-30T16:50:00",
             "2024-10-01T05:45:00",
             415,
             "6095",
             [
              -32132,
              null,
              "KLM"
             ],
             [
              -32385,
              null,
              "Delta"
             ]
            ],
            [
             "9451-10957-2410011410-2410020155--32132",
             [
              null,
              null,
              "Amsterdam Schiphol",
              "AMS",
              null,
              "Netherlands",
              null
             ],
             [
              null,
              null,
              "Indira Gandhi International ",
              "DEL",
              null,
              "India",
              null
             ],
             "2024-10-01T14:10:00",
             "2024-10-02T01:55:00",
             495,
             "871",
             [
              -32132,
              null,
              "KLM"
             ],
             [
              -32132,
              null,
              "KLM"
             ]
            ]
           ]
          ]
         ],
         false,
         false,
         [
          false,
          false,
          false,
          false
         ],
         [],
         null,
         false,
         false,
         0.413985
        ],
        [
         "13522-2409301800--31697-2-10957-2410020005",
         [
          "107941",
          "₹107,941",
          "dnFDfTYJpz-u"
         ],
         [
          [
           "13522-2409301800--31697-2-10957-2410020005",
           [
            "LGA",
            "95565057",
            "New York LaGuardia",
            "LGA",
            "New York",
            "United States",
            false
           ],
           [
            "DEL",
            "95673498",
            "Indira Gandhi International ",
            "DEL",
            "New Delhi",
            "India",
            false
           ],
           1235,
           2,
           false,
           "2024-09-30T18:00:00",
           "2024-10-02T00:05:00",
           2,
           [
            [
             [
              -31697,
              "https://logos.skyscnr.com/images/airlines/favicon/VS.png",
              "Virgin Atlantic"
             ]
            ],
            "partially_operated"
           ],
           [
            [
             "13522-10081-2409301800-2409301927--31697",
             [
              null,
              null,
              "New York LaGuardia",
              "LGA",
              null,
              "United States",
              null
             ],
             [
              null,
              null,
              "Boston Logan International",
              "BOS",
              null,
              "United States",
              null
             ],
             "2024-09-30T18:00:00",
             "2024-09-30T19:27:00",
             87,
             "3671",
             [
              -31697,
              null,
              "Virgin Atlantic"
             ],
             [
              -30991,
              null,
              "Republic Airways DBA Delta Connection"
             ]
            ],
            [
             "10081-13554-2409302105-2410010855--31697",
             [
              null,
              null,
              "Boston Logan International",
              "BOS",
              null,
              "United States",
              null
             ],
             [
              null,
              null,
              "London Heathrow",
              "LHR",
              null,
              "United Kingdom",
              null
             ],
             "2024-09-30T21:05:00",
             "2024-10-01T08:55:00",
             410,
             "158",
             [
              -31697,
              null,
              "Virgin Atlantic"
             ],
             [
              -31697,
              null,
              "Virgin Atlantic"
             ]
            ],
            [
             "13554-10957-2410011030-2410020005--31697",
             [
              null,
              null,
              "London Heathrow",
              "LHR",
              null,
              "United Kingdom",
              null
             ],
             [
              null,
              null,
              "Indira Gandhi International ",
              "DEL",
              null,
              "India",
              null
             ],
             "2024-10-01T10:30:00",
             "2024-10-02T00:05:00",
             545,
             "302",
             [
              -31697,
              null,
              "Virgin Atlantic"
             ],
             [
              -31697,
              null,
              "Virgin Atlantic"
             ]
            ]
           ]
          ]
         ],
         false,
         false,
         [
          false,
          false,
          false,
          false
         ],
         [],
         null,
         false,
         false,
         0.394625
        ],
        [
         "13522-2409301600--32132-2-10957-2410030155",
         [
          "62097",
          "₹62,097",
          "5V8DvvTf4Lvc"
         ],
         [
          [
           "13522-2409301600--32132-2-10957-2410030155",
           [
            "LGA",
            "95565057",
            "New York LaGuardia",
            "LGA",
            "New York",
            "United States",
            false
           ],
           [
            "DEL",
            "95673498",
            "Indira Gandhi International ",
            "DEL",
            "New Delhi",
            "India",
            false
           ],
           2905,
           2,
           false,
           "2024-09-30T16:00:00",
           "2024-10-03T01:55:00",
           3,
           [
            [
             [
              -32132,
              "https://logos.skyscnr.com/images/airlines/favicon/KL.png",
              "KLM"
             ]
            ],
            "partially_operated"
           ],
           [
            [
             "13522-10081-2409301600-2409301731--32132",
             [
              null,
              null,
              "New York LaGuardia",
              "LGA",
              null,
              "United States",
              null
             ],
             [
              null,
              null,
              "Boston Logan International",
              "BOS",
              null,
              "United States",
              null
             ],
             "2024-09-30T16:00:00",
             "2024-09-30T17:31:00",
             91,
             "6485",
             [
              -32132,
              null,
              "KLM"
             ],
             [
              -30991,
              null,
              "Republic Airways DBA Delta Connection"
             ]
            ],
            [
             "10081-9451-2410011650-2410020545--32132",
             [
              null,
              null,
              "Boston Logan International",
              "BOS",
              null,
              "United States",
              null
             ],
             [
              null,
              null,
              "Amsterdam Schiphol",
              "AMS",
              null,
              "Netherlands",
              null
             ],
             "2024-10-01T16:50:00",
             "2024-10-02T05:45:00",
             415,
             "6095",
             [
              -32132,
              null,
              "KLM"
             ],
             [
              -32385,
              null,
              "Delta"
             ]
            ],
            [
             "9451-10957-2410021410-2410030155--32132",
             [
              null,
              null,
              "Amsterdam Schiphol",
              "AMS",
              null,
              "Netherlands",
              null
             ],
             [
              null,
              null,
              "Indira Gandhi International ",
              "DEL",
              null,
              "India",
              null
             ],
             "2024-10-02T14:10:00",
             "2024-10-03T01:55:00",
             495,
             "871",
             [
              -32132,
              null,
              "KLM"
             ],
             [
              -32132,
              null,
              "KLM"
             ]
            ]
           ]
          ]
         ],
         false,
         false,
         [
          false,
          false,
          false,
          false
         ],
         [],
         [
          "second_cheapest"
         ],
         false,
         false,
         0.392579
        ],
        [
         "13522-2409301500--32132-2-10957-2410020155",
         [
          "78443",
          "₹78,443",
          "NtBIflXnI82H"
         ],
         [
          [
           "13522-2409301500--32132-2-10957-2410020155",
           [
            "LGA",
            "95565057",
            "New York LaGuardia",
            "LGA",
            "New York",
            "United States",
            false
           ],
           [
            "DEL",
            "95673498",
            "Indira Gandhi International ",
            "DEL",
            "New Delhi",
            "India",
            false
           ],
           1525,
           2,
           false,
           "2024-09-30T15:00:00",
           "2024-10-02T01:55:00",
           2,
           [
            [
             [
              -32132,
              "https://logos.skyscnr.com/images/airlines/favicon/KL.png",
              "KLM"
             ]
            ],
            "partially_operated"
           ],
           [
            [
             "13522-11152-2409301500-2409301700--32132",
             [
              null,
              null,
              "New York LaGuardia",
              "LGA",
              null,
              "United States",
              null
             ],
             [
              null,
              null,
              "Detroit Wayne County",
              "DTW",
              null,
              "United States",
              null
             ],
             "2024-09-30T15:00:00",
             "2024-09-30T17:00:00",
             120,
             "5131",
             [
              -32132,
              null,
              "KLM"
             ],
             [
              -32385,
              null,
              "Delta"
             ]
            ],
            [
             "11152-9451-2409301825-2410010815--32132",
             [
              null,
              null,
              "Detroit Wayne County",
              "DTW",
              null,
              "United States",
              null
             ],
             [
              null,
              null,
              "Amsterdam Schiphol",
              "AMS",
              null,
              "Netherlands",
              null
             ],
             "2024-09-30T18:25:00",
             "2024-10-01T08:15:00",
             470,
             "6119",
             [
              -32132,
              null,
              "KLM"
             ],
             [
              -32385,
              null,
              "Delta"
             ]
            ],
            [
             "9451-10957-2410011410-2410020155--32132",
             [
              null,
              null,
              "Amsterdam Schiphol",
              "AMS",
              null,
              "Netherlands",
              null
             ],
             [
              null,
              null,
              "Indira Gandhi International ",
              "DEL",
              null,
              "India",
              null
             ],
             "2024-10-01T14:10:00",
             "2024-10-02T01:55:00",
             495,
             "871",
             [
              -32132,
              null,
              "KLM"
             ],
             [
              -32132,
              null,
              "KLM"
             ]
            ]
           ]
          ]
         ],
         false,
         false,
         [
          false,
          false,
          false,
          false
         ],
         [],
         null,
         false,
         false,
         0.391696
        ],
        [
         "13522-2409301545--32695-1-10957-2410012145",
         [
          "108439",
          "₹108,439",
          "jGin0xHnUpNY"
         ],
         [
          [
           "13522-2409301545--32695-1-10957-2410012145",
           [
            "LGA",
            "95565057",
            "New York LaGuardia",
            "LGA",
            "New York",
            "United States",
            false
           ],
           [
            "DEL",
            "95673498",
            "Indira Gandhi International ",
            "DEL",
            "New Delhi",
            "India",
            false
           ],
           1230,
           1,
           false,
           "2024-09-30T15:45:00",
           "2024-10-01T21:45:00",
           1,
           [
            [
             [
              -32695,
              "https://logos.skyscnr.com/images/airlines/favicon/AC.png",
              "Air Canada"
             ]
            ],
            "fully_operated"
           ],
           [
            [
             "13522-18395-2409301545-2409301715--32695",
             [
              null,
              null,
              "New York LaGuardia",
              "LGA",
              null,
              "United States",
              null
             ],
             [
              null,
              null,
              "Montreal Pierre Elliott Trudeau",
              "YUL",
              null,
              "Canada",
              null
             ],
             "2024-09-30T15:45:00",
             "2024-09-30T17:15:00",
             90,
             "733",
             [
              -32695,
              null,
              "Air Canada"
             ],
             [
              -32695,
              null,
              "Air Canada"
             ]
            ],
            [
             "18395-10957-2409302150-2410012145--32695",
             [
              null,
              null,
              "Montreal Pierre Elliott Trudeau",
              "YUL",
              null,
              "Canada",
              null
             ],
             [
              null,
              null,
              "Indira Gandhi International ",
              "DEL",
              null,
              "India",
              null
             ],
             "2024-09-30T21:50:00",
             "2024-10-01T21:45:00",
             865,
             "50",
             [
              -32695,
              null,
              "Air Canada"
             ],
             [
              -32695,
              null,
              "Air Canada"
             ]
            ]
           ]
          ]
         ],
         false,
         false,
         [
          false,
          false,
          false,
          false
         ],
         [],
         [
          "third_shortest"
         ],
         false,
         false,
         0.388946
        ],
        [
         "13522-2409301920--32695,-32677-3-14585-2410012235",
         [
          "89815",
          "₹89,815",
          "XvleZGvtpB9U"
         ],
         [
          [
           "13522-2409301920--32695,-32677-3-14585-2410012235",
           [
            "LGA",
            "95565057",
            "New York LaGuardia",
            "LGA",
            "New York",
            "United States",
            false
           ],
           [
            "NCL",
            "95674044",
            "Newcastle",
            "NCL",
            "Newcastle",
            "United Kingdom",
            false
           ],
           1335,
           3,
           false,
           "2024-09-30T19:20:00",
           "2024-10-01T22:35:00",
           1,
           [
            [
             [
              -32695,
              "https://logos.skyscnr.com/images/airlines/favicon/AC.png",
              "Air Canada"
             ],
             [
              -32677,
              "https://logos.skyscnr.com/images/airlines/favicon/AF.png",
              "Air France"
             ]
            ],
            "partially_operated"
           ],
           [
            [
             "13522-18395-2409301920-2409302048--32695",
             [
              null,
              null,
              "New York LaGuardia",
              "LGA",
              null,
              "United States",
              null
             ],
             [
              null,
              null,
              "Montreal Pierre Elliott Trudeau",
              "YUL",
              null,
              "Canada",
              null
             ],
             "2024-09-30T19:20:00",
             "2024-09-30T20:48:00",
             88,
             "8643",
             [
              -32695,
              null,
              "Air Canada"
             ],
             [
              -31542,
              null,
              "Air Canada Express - Jazz"
             ]
            ],
            [
             "18395-9451-2409302215-2410011100--32695",
             [
              null,
              null,
              "Montreal Pierre Elliott Trudeau",
              "YUL",
              null,
              "Canada",
              null
             ],
             [
              null,
              null,
              "Amsterdam Schiphol",
              "AMS",
              null,
              "Netherlands",
              null
             ],
             "2024-09-30T22:15:00",
             "2024-10-01T11:00:00",
             405,
             "900",
             [
              -32695,
              null,
              "Air Canada"
             ],
             [
              -32695,
              null,
              "Air Canada"
             ]
            ],
            [
             "9451-10413-2410011755-2410011905--32677",
             [
              null,
              null,
              "Amsterdam Schiphol",
              "AMS",
              null,
              "Netherlands",
              null
             ],
             [
              null,
              null,
              "Paris Charles de Gaulle",
              "CDG",
              null,
              "France",
              null
             ],
             "2024-10-01T17:55:00",
             "2024-10-01T19:05:00",
             70,
             "8345",
             [
              -32677,
              null,
              "Air France"
             ],
             [
              -32132,
              null,
              "KLM"
             ]
            ],
            [
             "10413-14585-2410012200-2410012235--32677",
             [
              null,
              null,
              "Paris Charles de Gaulle",
              "CDG",
              null,
              "France",
              null
             ],
             [
              null,
              null,
              "Newcastle",
              "NCL",
              null,
              "United Kingdom",
              null
             ],
             "2024-10-01T22:00:00",
             "2024-10-01T22:35:00",
             95,
             "1558",
             [
              -32677,
              null,
              "Air France"
             ],
             [
              -32226,
              null,
              "HOP!"
             ]
            ]
           ]
          ]
         ],
         false,
         false,
         [
          false,
          false,
          false,
          false
         ],
         [],
         [
          "cheapest",
          "shortest"
         ],
         false,
         false,
         0.9997
        ],
        [
         "13522-2409301859--31697,-32360-2-14773-2410012010",
         [
          "54656.66",
          "₹54,657",
          "Vns1RcBLd6LI"
         ],
         [
          [
           "13522-2409301859--31697,-32360-2-14773-2410012010",
           [
            "LGA",
            "95565057",
            "New York LaGuardia",
            "LGA",
            "New York",
            "United States",
            false
           ],
           [
            "NQY",
            "95673963",
            "Newquay",
            "NQY",
            "Newquay",
            "United Kingdom",
            false
           ],
           1211,
           2,
           false,
           "2024-09-30T18:59:00",
           "2024-10-01T20:10:00",
           1,
           [
            [
             [
              -31697,
              "https://logos.skyscnr.com/images/airlines/favicon/VS.png",
              "Virgin Atlantic"
             ],
             [
              -32360,
              "https://logos.skyscnr.com/images/airlines/favicon/T3.png",
              "Eastern Airways"
             ]
            ],
            "partially_operated"
           ],
           [
            [
             "13522-10081-2409301859-2409302025--31697",
             [
              null,
              null,
              "New York LaGuardia",
              "LGA",
              null,
              "United States",
              null
             ],
             [
              null,
              null,
              "Boston Logan International",
              "BOS",
              null,
              "United States",
              null
             ],
             "2024-09-30T18:59:00",
             "2024-09-30T20:25:00",
             86,
             "3670",
             [
              -31697,
              null,
              "Virgin Atlantic"
             ],
             [
              -30991,
              null,
              "Republic Airways DBA Delta Connection"
             ]
            ],
            [
             "10081-13554-2409302210-2410011000--31697",
             [
              null,
              null,
              "Boston Logan International",
              "BOS",
              null,
              "United States",
              null
             ],
             [
              null,
              null,
              "London Heathrow",
              "LHR",
              null,
              "United Kingdom",
              null
             ],
             "2024-09-30T22:10:00",
             "2024-10-01T10:00:00",
             410,
             "12",
             [
              -31697,
              null,
              "Virgin Atlantic"
             ],
             [
              -31697,
              null,
              "Virgin Atlantic"
             ]
            ],
            [
             "13542-14773-2410011850-2410012010--32360",
             [
              null,
              null,
              "London Gatwick",
              "LGW",
              null,
              "United Kingdom",
              null
             ],
             [
              null,
              null,
              "Newquay",
              "NQY",
              null,
              "United Kingdom",
              null
             ],
             "2024-10-01T18:50:00",
             "2024-10-01T20:10:00",
             80,
             "458",
             [
              -32360,
              null,
              "Eastern Airways"
             ],
             [
              -32360,
              null,
              "Eastern Airways"
             ]
            ]
           ]
          ]
         ],
         false,
         true,
         [
          false,
          false,
          false,
          false
         ],
         [],
         [
          "cheapest",
          "second_shortest"
         ],
         false,
         false,
         0.999
        ],
        [
         "13522-2409301920--32695,-32360-2-14773-2410012010",
         [
          "61072.77",
          "₹61,073",
          "uH9KbbB7irnv"
         ],
         [
          [
           "13522-2409301920--32695,-32360-2-14773-2410012010",
           [
            "LGA",
            "95565057",
            "New York LaGuardia",
            "LGA",
            "New York",
            "United States",
            false
           ],
           [
            "NQY",
            "95673963",
            "Newquay",
            "NQY",
            "Newquay",
            "United Kingdom",
            false
           ],
           1190,
           2,
           false,
           "2024-09-30T19:20:00",
           "2024-10-01T20:10:00",
           1,
           [
            [
             [
              -32695,
              "https://logos.skyscnr.com/images/airlines/favicon/AC.png",
              "Air Canada"
             ],
             [
              -32360,
              "https://logos.skyscnr.com/images/airlines/favicon/T3.png",
              "Eastern Airways"
             ]
            ],
            "partially_operated"
           ],
           [
            [
             "13522-18395-2409301920-2409302048--32695",
             [
              null,
              null,
              "New York LaGuardia",
              "LGA",
              null,
              "United States",
              null
             ],
             [
              null,
              null,
              "Montreal Pierre Elliott Trudeau",
              "YUL",
              null,
              "Canada",
              null
             ],
             "2024-09-30T19:20:00",
             "2024-09-30T20:48:00",
             88,
             "8643",
             [
              -32695,
              null,
              "Air Canada"
             ],
             [
              -31542,
              null,
              "Air Canada Express - Jazz"
             ]
            ],
            [
             "18395-13554-2409302220-2410011000--32695",
             [
              null,
              null,
              "Montreal Pierre Elliott Trudeau",
              "YUL",
              null,
              "Canada",
              null
             ],
             [
              null,
              null,
              "London Heathrow",
              "LHR",
              null,
              "United Kingdom",
              null
             ],
             "2024-09-30T22:20:00",
             "2024-10-01T10:00:00",
             400,
             "864",
             [
              -32695,
              null,
              "Air Canada"
             ],
             [
              -32695,
              null,
              "Air Canada"
             ]
            ],
            [
             "13542-14773-2410011850-2410012010--32360",
             [
              null,
              null,
              "London Gatwick",
              "LGW",
              null,
              "United Kingdom",
              null
             ],
             [
              null,
              null,
              "Newquay",
              "NQY",
              null,
              "United Kingdom",
              null
             ],
             "2024-10-01T18:50:00",
             "2024-10-01T20:10:00",
             80,
             "458",
             [
              -32360,
              null,
              "Eastern Airways"
             ],
             [
              -32360,
              null,
              "Eastern Airways"
             ]
            ]
           ]
          ]
         ],
         false,
         true,
         [
          false,
          false,
          false,
          false
         ],
         [],
         [
          "second_cheapest",
          "shortest"
         ],
         false,
         false,
         0.813513
        ],
        [
         "11442-2409302150--31799-1-10957-2410012340",
         [
          "37290",
          "₹37,290",
          "XcV4D6e6skgv"
         ],
         [
          [
           "11442-2409302150--31799-1-10957-2410012340",
           [
            "EWR",
            "95565059",
            "New York Newark",
            "EWR",
            "New York",
            "United States",
            false
           ],
           [
            "DEL",
            "95673498",
            "Indira Gandhi International ",
            "DEL",
            "New Delhi",
            "India",
            false
           ],
           980,
           1,
           false,
           "2024-09-30T21:50:00",
           "2024-10-01T23:40:00",
           1,
           [
            [
             [
              -31799,
              "https://logos.skyscnr.com/images/airlines/favicon/LX.png",
              "SWISS"
             ]
            ],
            "fully_operated"
           ],
           [
            [
             "11442-18563-2409302150-2410011135--31799",
             [
              null,
              null,
              "New York Newark",
              "EWR",
              null,
              "United States",
              null
             ],
             [
              null,
              null,
              "Zurich",
              "ZRH",
              null,
              "Switzerland",
              null
             ],
             "2024-09-30T21:50:00",
             "2024-10-01T11:35:00",
             465,
             "19",
             [
              -31799,
              null,
              "SWISS"
             ],
             [
              -31799,
              null,
              "SWISS"
             ]
            ],
            [
             "18563-10957-2410011220-2410012340--31799",
             [
              null,
              null,
              "Zurich",
              "ZRH",
              null,
              "Switzerland",
              null
             ],
             [
              null,
              null,
              "Indira Gandhi International ",
              "DEL",
              null,
              "India",
              null
             ],
             "2024-10-01T12:20:00",
             "2024-10-01T23:40:00",
             470,
             "146",
             [
              -31799,
              null,
              "SWISS"
             ],
             [
              -31799,
              null,
              "SWISS"
             ]
            ]
           ]
          ]
         ],
         false,
         false,
         [
          false,
          false,
          false,
          false
         ],
         [],
         [
          "cheapest",
          "shortest"
         ],
         false,
         false,
         0.999
        ],
        [
         "11442-2409302030--32090-1-10957-2410012330",
         [
          "40913",
          "₹40,913",
          "JWFgOZtzgagh"
         ],
         [
          [
           "11442-2409302030--32090-1-10957-2410012330",
           [
            "EWR",
            "95565059",
            "New York Newark",
            "EWR",
            "New York",
            "United States",
            false
           ],
           [
            "DEL",
            "95673498",
            "Indira Gandhi International ",
            "DEL",
            "New Delhi",
            "India",
            false
           ],
           1050,
           1,
           false,
           "2024-09-30T20:30:00",
           "2024-10-01T23:30:00",
           1,
           [
            [
             [
              -32090,
              "https://logos.skyscnr.com/images/airlines/favicon/LH.png",
              "Lufthansa"
             ]
            ],
            "fully_operated"
           ],
           [
            [
             "11442-14385-2409302030-2410011020--32090",
             [
              null,
              null,
              "New York Newark",
              "EWR",
              null,
              "United States",
              null
             ],
             [
              null,
              null,
              "Munich",
              "MUC",
              null,
              "Germany",
              null
             ],
             "2024-09-30T20:30:00",
             "2024-10-01T10:20:00",
             470,
             "413",
             [
              -32090,
              null,
              "Lufthansa"
             ],
             [
              -32090,
              null,
              "Lufthansa"
             ]
            ],
            [
             "14385-10957-2410011220-2410012330--32090",
             [
              null,
              null,
              "Munich",
              "MUC",
              null,
              "Germany",
              null
             ],
             [
              null,
              null,
              "Indira Gandhi International ",
              "DEL",
              null,
              "India",
              null
             ],
             "2024-10-01T12:20:00",
             "2024-10-01T23:30:00",
             460,
             "762",
             [
              -32090,
              null,
              "Lufthansa"
             ],
             [
              -32090,
              null,
              "Lufthansa"
             ]
            ]
           ]
          ]
         ],
         false,
         false,
         [
          false,
          false,
          false,
          false
         ],
         [],
         [
          "second_cheapest",
          "second_shortest"
         ],
         false,
         false,
         0.755999
        ],
        [
         "11442-2409301800--32090-2-10957-2410012330",
         [
          "44026",
          "₹44,026",
          "P7JaUY6gxau4"
         ],
         [
          [
           "11442-2409301800--32090-2-10957-2410012330",
           [
            "EWR",
            "95565059",
            "New York Newark",
            "EWR",
            "New York",
            "United States",
            false
           ],
           [
            "DEL",
            "95673498",
            "Indira Gandhi International ",
            "DEL",
            "New Delhi",
            "India",
            false
           ],
           1200,
           2,
           false,
           "2024-09-30T18:00:00",
           "2024-10-01T23:30:00",
           1,
           [
            [
             [
              -32090,
              "https://logos.skyscnr.com/images/airlines/favicon/LH.png",
              "Lufthansa"
             ]
            ],
            "fully_operated"
           ],
           [
            [
             "11442-11616-2409301800-2410010730--32090",
             [
              null,
              null,
              "New York Newark",
              "EWR",
              null,
              "United States",
              null
             ],
             [
              null,
              null,
              "Frankfurt am Main",
              "FRA",
              null,
              "Germany",
              null
             ],
             "2024-09-30T18:00:00",
             "2024-10-01T07:30:00",
             450,
             "403",
             [
              -32090,
              null,
              "Lufthansa"
             ],
             [
              -32090,
              null,
              "Lufthansa"
             ]
            ],
            [
             "11616-14385-2410011015-2410011110--32090",
             [
              null,
              null,
              "Frankfurt am Main",
              "FRA",
              null,
              "Germany",
              null
             ],
             [
              null,
              null,
              "Munich",
              "MUC",
              null,
              "Germany",
              null
             ],
             "2024-10-01T10:15:00",
             "2024-10-01T11:10:00",
             55,
             "100",
             [
              -32090,
              null,
              "Lufthansa"
             ],
             [
              -32090,
              null,
              "Lufthansa"
             ]
            ],
            [
             "14385-10957-2410011220-2410012330--32090",
             [
              null,
              null,
              "Munich",
              "MUC",
              null,
              "Germany",
              null
             ],
             [
              null,
              null,
              "Indira Gandhi International ",
              "DEL",
              null,
              "India",
              null
             ],
             "2024-10-01T12:20:00",
             "2024-10-01T23:30:00",
             460,
             "762",
             [
              -32090,
              null,
              "Lufthansa"
             ],
             [
              -32090,
              null,
              "Lufthansa"
             ]
            ]
           ]
          ]
         ],
         false,
         false,
         [
          false,
          false,
          false,
          false
         ],
         [],
         [
          "third_cheapest"
         ],
         false,
         false,
         0.529458
        ],
        [
         "11442-2409301930--32090-2-10957-2410012330",
         [
          "55424",
          "₹55,424",
          "sAPCML7G-pHc"
         ],
         [
          [
           "11442-2409301930--32090-2-10957-2410012330",
           [
            "EWR",
            "95565059",
            "New York Newark",
            "EWR",
            "New York",
            "United States",
            false
           ],
           [
            "DEL",
            "95673498",
            "Indira Gandhi International ",
            "DEL",
            "New Delhi",
            "India",
            false
           ],
           1110,
           2,
           false,
           "2024-09-30T19:30:00",
           "2024-10-01T23:30:00",
           1,
           [
            [
             [
              -32090,
              "https://logos.skyscnr.com/images/airlines/favicon/LH.png",
              "Lufthansa"
             ]
            ],
            "partially_operated"
           ],
           [
            [
             "11442-11616-2409301930-2410010910--32090",
             [
              null,
              null,
              "New York Newark",
              "EWR",
              null,
              "United States",
              null
             ],
             [
              null,
              null,
              "Frankfurt am Main",
              "FRA",
              null,
              "Germany",
              null
             ],
             "2024-09-30T19:30:00",
             "2024-10-01T09:10:00",
             460,
             "7602",
             [
              -32090,
              null,
              "Lufthansa"
             ],
             [
              -31722,
              null,
              "United"
             ]
            ],
            [
             "11616-14385-2410011015-2410011110--32090",
             [
              null,
              null,
              "Frankfurt am Main",
              "FRA",
              null,
              "Germany",
              null
             ],
             [
              null,
              null,
              "Munich",
              "MUC",
              null,
              "Germany",
              null
             ],
             "2024-10-01T10:15:00",
             "2024-10-01T11:10:00",
             55,
             "100",
             [
              -32090,
              null,
              "Lufthansa"
             ],
             [
              -32090,
              null,
              "Lufthansa"
             ]
            ],
            [
             "14385-10957-2410011220-2410012330--32090",
             [
              null,
              null,
              "Munich",
              "MUC",
              null,
              "Germany",
              null
             ],
             [
              null,
              null,
              "Indira Gandhi International ",
              "DEL",
              null,
              "India",
              null
             ],
             "2024-10-01T12:20:00",
             "2024-10-01T23:30:00",
             460,
             "762",
             [
              -32090,
              null,
              "Lufthansa"
             ],
             [
              -32090,
              null,
              "Lufthansa"
             ]
            ]
           ]
          ]
         ],
         false,
         false,
         [
          false,
          false,
          false,
          false
         ],
         [],
         [
          "third_shortest"
         ],
         false,
         false,
         0.412248
        ],
        [
         "11442-2409301730--31799-2-10957-2410012340",
         [
          "53757",
          "₹53,757",
          "pWcYKwow_BTx"
         ],
         [
          [
           "11442-2409301730--31799-2-10957-2410012340",
           [
            "EWR",
            "95565059",
            "New York Newark",
            "EWR",
            "New York",
            "United States",
            false
           ],
           [
            "DEL",
            "95673498",
            "Indira Gandhi International ",
            "DEL",
            "New Delhi",
            "India",
            false
           ],
           1240,
           2,
           false,
           "2024-09-30T17:30:00",
           "2024-10-01T23:40:00",
           1,
           [
            [
             [
              -31799,
              "https://logos.skyscnr.com/images/airlines/favicon/LX.png",
              "SWISS"
             ]
            ],
            "partially_operated"
           ],
           [
            [
             "11442-12015-2409301730-2410010730--31799",
             [
              null,
              null,
              "New York Newark",
              "EWR",
              null,
              "United States",
              null
             ],
             [
              null,
              null,
              "Geneva",
              "GVA",
              null,
              "Switzerland",
              null
             ],
             "2024-09-30T17:30:00",
             "2024-10-01T07:30:00",
             480,
             "3217",
             [
              -31799,
              null,
              "SWISS"
             ],
             [
              -31722,
              null,
              "United"
             ]
            ],
            [
             "12015-18563-2410011000-2410011055--31799",
             [
              null,
              null,
              "Geneva",
              "GVA",
              null,
              "Switzerland",
              null
             ],
             [
              null,
              null,
              "Zurich",
              "ZRH",
              null,
              "Switzerland",
              null
             ],
             "2024-10-01T10:00:00",
             "2024-10-01T10:55:00",
             55,
             "2807",
             [
              -31799,
              null,
              "SWISS"
             ],
             [
              -31799,
              null,
              "SWISS"
             ]
            ],
            [
             "18563-10957-2410011220-2410012340--31799",
             [
              null,
              null,
              "Zurich",
              "ZRH",
              null,
              "Switzerland",
              null
             ],
             [
              null,
              null,
              "Indira Gandhi International ",
              "DEL",
              null,
              "India",
              null
             ],
             "2024-10-01T12:20:00",
             "2024-10-01T23:40:00",
             470,
             "146",
             [
              -31799,
              null,
              "SWISS"
             ],
             [
              -31799,
              null,
              "SWISS"
             ]
            ]
           ]
          ]
         ],
         false,
         false,
         [
          false,
          false,
          false,
          false
         ],
         [],
         null,
         false,
         false,
         0.404434
        ],
        [
         "11442-2409301740--31799-2-10957-2410012340",
         [
          "53077",
          "₹53,077",
          "5witxjNTCP9P"
         ],
         [
          [
           "11442-2409301740--31799-2-10957-2410012340",
           [
            "EWR",
            "95565059",
            "New York Newark",
            "EWR",
            "New York",
            "United States",
            false
           ],
           [
            "DEL",
            "95673498",
            "Indira Gandhi International ",
            "DEL",
            "New Delhi",
            "India",
            false
           ],
           1230,
           2,
           false,
           "2024-09-30T17:40:00",
           "2024-10-01T23:40:00",
           1,
           [
            [
             [
              -31799,
              "https://logos.skyscnr.com/images/airlines/favicon/LX.png",
              "SWISS"
             ]
            ],
            "partially_operated"
           ],
           [
            [
             "11442-9451-2409301740-2410010715--31799",
             [
              null,
              null,
              "New York Newark",
              "EWR",
              null,
              "United States",
              null
             ],
             [
              null,
              null,
              "Amsterdam Schiphol",
              "AMS",
              null,
              "Netherlands",
              null
             ],
             "2024-09-30T17:40:00",
             "2024-10-01T07:15:00",
             455,
             "3003",
             [
              -31799,
              null,
              "SWISS"
             ],
             [
              -31722,
              null,
              "United"
             ]
            ],
            [
             "9451-18563-2410010950-2410011115--31799",
             [
              null,
              null,
              "Amsterdam Schiphol",
              "AMS",
              null,
              "Netherlands",
              null
             ],
             [
              null,
              null,
              "Zurich",
              "ZRH",
              null,
              "Switzerland",
              null
             ],
             "2024-10-01T09:50:00",
             "2024-10-01T11:15:00",
             85,
             "725",
             [
              -31799,
              null,
              "SWISS"
             ],
             [
              -31799,
              null,
              "SWISS"
             ]
            ],
            [
             "18563-10957-2410011220-2410012340--31799",
             [
              null,
              null,
              "Zurich",
              "ZRH",
              null,
              "Switzerland",
              null
             ],
             [
              null,
              null,
              "Indira Gandhi International ",
              "DEL",
              null,
              "India",
              null
             ],
             "2024-10-01T12:20:00",
             "2024-10-01T23:40:00",
             470,
             "146",
             [
              -31799,
              null,
              "SWISS"
             ],
             [
              -31799,
              null,
              "SWISS"
             ]
            ]
           ]
          ]
         ],
         false,
         false,
         [
          false,
          false,
          false,
          false
         ],
         [],
         null,
         false,
         false,
         0.404079
        ],
        [
         "11442-2409301715--31799-2-10957-2410012340",
         [
          "52825",
          "₹52,825",
          "BC2f_kbEoaGj"
         ],
         [
          [
           "11442-2409301715--31799-2-10957-2410012340",
           [
            "EWR",
            "95565059",
            "New York Newark",
            "EWR",
            "New York",
            "United States",
            false
           ],
           [
            "DEL",
            "95673498",
            "Indira Gandhi International ",
            "DEL",
            "New Delhi",
            "India",
            false
           ],
           1255,
           2,
           false,
           "2024-09-30T17:15:00",
           "2024-10-01T23:40:00",
           1,
           [
            [
             [
              -31799,
              "https://logos.skyscnr.com/images/airlines/favicon/LX.png",
              "SWISS"
             ]
            ],
            "partially_operated"
           ],
           [
            [
             "11442-11493-2409301715-2410010735--31799",
             [
              null,
              null,
              "New York Newark",
              "EWR",
              null,
              "United States",
              null
             ],
             [
              null,
              null,
              "Rome Fiumicino",
              "FCO",
              null,
              "Italy",
              null
             ],
             "2024-09-30T17:15:00",
             "2024-10-01T07:35:00",
             500,
             "3029",
             [
              -31799,
              null,
              "SWISS"
             ],
             [
              -31722,
              null,
              "United"
             ]
            ],
            [
             "11493-18563-2410010940-2410011120--31799",
             [
              null,
              null,
              "Rome Fiumicino",
              "FCO",
              null,
              "Italy",
              null
             ],
             [
              null,
              null,
              "Zurich",
              "ZRH",
              null,
              "Switzerland",
              null
             ],
             "2024-10-01T09:40:00",
             "2024-10-01T11:20:00",
             100,
             "1727",
             [
              -31799,
              null,
              "SWISS"
             ],
             [
              -31799,
              null,
              "SWISS"
             ]
            ],
            [
             "18563-10957-2410011220-2410012340--31799",
             [
              null,
              null,
              "Zurich",
              "ZRH",
              null,
              "Switzerland",
              null
             ],
             [
              null,
              null,
              "Indira Gandhi International ",
              "DEL",
              null,
              "India",
              null
             ],
             "2024-10-01T12:20:00",
             "2024-10-01T23:40:00",
             470,
             "146",
             [
              -31799,
              null,
              "SWISS"
             ],
             [
              -31799,
              null,
              "SWISS"
             ]
            ]
           ]
          ]
         ],
         false,
         false,
         [
          false,
          false,
          false,
          false
         ],
         [],
         null,
         false,
         false,
         0.401966
        ],
        [
         "11442-2409301900--31799-2-10957-2410012340",
         [
          "52641",
          "₹52,641",
          "7u2mJ2-3wv_I"
         ],
         [
          [
           "11442-2409301900--31799-2-10957-2410012340",
           [
            "EWR",
            "95565059",
            "New York Newark",
            "EWR",
            "New York",
            "United States",
            false
           ],
           [
            "DEL",
            "95673498",
            "Indira Gandhi International ",
            "DEL",
            "New Delhi",
            "India",
            false
           ],
           1150,
           2,
           false,
           "2024-09-30T19:00:00",
           "2024-10-01T23:40:00",
           1,
           [
            [
             [
              -31799,
              "https://logos.skyscnr.com/images/airlines/favicon/LX.png",
              "SWISS"
             ]
            ],
            "partially_operated"
           ],
           [
            [
             "11442-13554-2409301900-2410010715--31799",
             [
              null,
              null,
              "New York Newark",
              "EWR",
              null,
              "United States",
              null
             ],
             [
              null,
              null,
              "London Heathrow",
              "LHR",
              null,
              "United Kingdom",
              null
             ],
             "2024-09-30T19:00:00",
             "2024-10-01T07:15:00",
             435,
             "3047",
             [
              -31799,
              null,
              "SWISS"
             ],
             [
              -31722,
              null,
              "United"
             ]
            ],
            [
             "13554-18563-2410010840-2410011135--31799",
             [
              null,
              null,
              "London Heathrow",
              "LHR",
              null,
              "United Kingdom",
              null
             ],
             [
              null,
              null,
              "Zurich",
              "ZRH",
              null,
              "Switzerland",
              null
             ],
             "2024-10-01T08:40:00",
             "2024-10-01T11:35:00",
             115,
             "317",
             [
              -31799,
              null,
              "SWISS"
             ],
             [
              -31799,
              null,
              "SWISS"
             ]
            ],
            [
             "18563-10957-2410011220-2410012340--31799",
             [
              null,
              null,
              "Zurich",
              "ZRH",
              null,
              "Switzerland",
              null
             ],
             [
              null,
              null,
              "Indira Gandhi International ",
              "DEL",
              null,
              "India",
              null
             ],
             "2024-10-01T12:20:00",
             "2024-10-01T23:40:00",
             470,
             "146",
             [
              -31799,
              null,
              "SWISS"
             ],
             [
              -31799,
              null,
              "SWISS"
             ]
            ]
           ]
          ]
         ],
         false,
         false,
         [
          false,
          false,
          false,
          false
         ],
         [],
         null,
         false,
         false,
         0.401226
        ],
        [
         "11442-2409301745--31799-2-10957-2410012340",
         [
          "83508",
          "₹83,508",
          "oKI7HD6SlFXM"
         ],
         [
          [
           "11442-2409301745--31799-2-10957-2410012340",
           [
            "EWR",
            "95565059",
            "New York Newark",
            "EWR",
            "New York",
            "United States",
            false
           ],
           [
            "DEL",
            "95673498",
            "Indira Gandhi International ",
            "DEL",
            "New Delhi",
            "India",
            false
           ],
           1225,
           2,
           false,
           "2024-09-30T17:45:00",
           "2024-10-01T23:40:00",
           1,
           [
            [
             [
              -31799,
              "https://logos.skyscnr.com/images/airlines/favicon/LX.png",
              "SWISS"
             ]
            ],
            "partially_operated"
           ],
           [
            [
             "11442-14476-2409301745-2410010730--31799",
             [
              null,
              null,
              "New York Newark",
              "EWR",
              null,
              "United States",
              null
             ],
             [
              null,
              null,
              "Milan Malpensa",
              "MXP",
              null,
              "Italy",
              null
             ],
             "2024-09-30T17:45:00",
             "2024-10-01T07:30:00",
             465,
             "3077",
             [
              -31799,
              null,
              "SWISS"
             ],
             [
              -31722,
              null,
              "United"
             ]
            ],
            [
             "14476-18563-2410011040-2410011135--31799",
             [
              null,
              null,
              "Milan Malpensa",
              "MXP",
              null,
              "Italy",
              null
             ],
             [
              null,
              null,
              "Zurich",
              "ZRH",
              null,
              "Switzerland",
              null
             ],
             "2024-10-01T10:40:00",
             "2024-10-01T11:35:00",
             55,
             "1613",
             [
              -31799,
              null,
              "SWISS"
             ],
             [
              -31799,
              null,
              "SWISS"
             ]
            ],
            [
             "18563-10957-2410011220-2410012340--31799",
             [
              null,
              null,
              "Zurich",
              "ZRH",
              null,
              "Switzerland",
              null
             ],
             [
              null,
              null,
              "Indira Gandhi International ",
              "DEL",
              null,
              "India",
              null
             ],
             "2024-10-01T12:20:00",
             "2024-10-01T23:40:00",
             470,
             "146",
             [
              -31799,
              null,
              "SWISS"
             ],
             [
              -31799,
              null,
              "SWISS"
             ]
            ]
           ]
          ]
         ],
         false,
         false,
         [
          false,
          false,
          false,
          false
         ],
         [],
         null,
         false,
         false,
         0.399992
        ],
        [
         "11442-2409301800--31799-2-10957-2410012340",
         [
          "52641",
          "₹52,641",
          "OcX1DLqQBvUO"
         ],
         [
          [
           "11442-2409301800--31799-2-10957-2410012340",
           [
            "EWR",
            "95565059",
            "New York Newark",
            "EWR",
            "New York",
            "United States",
            false
           ],
           [
            "DEL",
            "95673498",
            "Indira Gandhi International ",
            "DEL",
            "New Delhi",
            "India",
            false
           ],
           1210,
           2,
           false,
           "2024-09-30T18:00:00",
           "2024-10-01T23:40:00",
           1,
           [
            [
             [
              -31799,
              "https://logos.skyscnr.com/images/airlines/favicon/LX.png",
              "SWISS"
             ]
            ],
            "partially_operated"
           ],
           [
            [
             "11442-13554-2409301800-2410010620--31799",
             [
              null,
              null,
              "New York Newark",
              "EWR",
              null,
              "United States",
              null
             ],
             [
              null,
              null,
              "London Heathrow",
              "LHR",
              null,
              "United Kingdom",
              null
             ],
             "2024-09-30T18:00:00",
             "2024-10-01T06:20:00",
             440,
             "3034",
             [
              -31799,
              null,
              "SWISS"
             ],
             [
              -31722,
              null,
              "United"
             ]
            ],
            [
             "13554-18563-2410010840-2410011135--31799",
             [
              null,
              null,
              "London Heathrow",
              "LHR",
              null,
              "United Kingdom",
              null
             ],
             [
              null,
              null,
              "Zurich",
              "ZRH",
              null,
              "Switzerland",
              null
             ],
             "2024-10-01T08:40:00",
             "2024-10-01T11:35:00",
             115,
             "317",
             [
              -31799,
              null,
              "SWISS"
             ],
             [
              -31799,
              null,
              "SWISS"
             ]
            ],
            [
             "18563-10957-2410011220-2410012340--31799",
             [
              null,
              null,
              "Zurich",
              "ZRH",
              null,
              "Switzerland",
              null
             ],
             [
              null,
              null,
              "Indira Gandhi International ",
              "DEL",
              null,
              "India",
              null
             ],
             "2024-10-01T12:20:00",
             "2024-10-01T23:40:00",
             470,
             "146",
             [
              -31799,
              null,
              "SWISS"
             ],
             [
              -31799,
              null,
              "SWISS"
             ]
            ]
           ]
          ]
         ],
         false,
         false,
         [
          false,
          false,
          false,
          false
         ],
         [],
         null,
         false,
         false,
         0.398917
        ],
        [
         "11442-2409301800--32090-1-14585-2410011100",
         [
          "39579",
          "₹39,579",
          "R1hwx0f1DQrz"
         ],
         [
          [
           "11442-2409301800--32090-1-14585-2410011100",
           [
            "EWR",
            "95565059",
            "New York Newark",
            "EWR",
            "New York",
            "United States",
            false
           ],
           [
            "NCL",
            "95674044",
            "Newcastle",
            "NCL",
            "Newcastle",
            "United Kingdom",
            false
           ],
           720,
           1,
           false,
           "2024-09-30T18:00:00",
           "2024-10-01T11:00:00",
           1,
           [
            [
             [
              -32090,
              "https://logos.skyscnr.com/images/airlines/favicon/LH.png",
              "Lufthansa"
             ]
            ],
            "partially_operated"
           ],
           [
            [
             "11442-11616-2409301800-2410010730--32090",
             [
              null,
              null,
              "New York Newark",
              "EWR",
              null,
              "United States",
              null
             ],
             [
              null,
              null,
              "Frankfurt am Main",
              "FRA",
              null,
              "Germany",
              null
             ],
             "2024-09-30T18:00:00",
             "2024-10-01T07:30:00",
             450,
             "403",
             [
              -32090,
              null,
              "Lufthansa"
             ],
             [
              -32090,
              null,
              "Lufthansa"
             ]
            ],
            [
             "11616-14585-2410011010-2410011100--32090",
             [
              null,
              null,
              "Frankfurt am Main",
              "FRA",
              null,
              "Germany",
              null
             ],
             [
              null,
              null,
              "Newcastle",
              "NCL",
              null,
              "United Kingdom",
              null
             ],
             "2024-10-01T10:10:00",
             "2024-10-01T11:00:00",
             110,
             "966",
             [
              -32090,
              null,
              "Lufthansa"
             ],
             [
              -32430,
              null,
              "CityJet"
             ]
            ]
           ]
          ]
         ],
         false,
         false,
         [
          false,
          false,
          false,
          false
         ],
         [],
         [
          "cheapest"
         ],
         false,
         false,
         0.999
        ],
        [
         "11442-2409302115--32480-1-14585-2410011215",
         [
          "58783",
          "₹58,783",
          "2dWF-Asgdlsz"
         ],
         [
          [
           "11442-2409302115--32480-1-14585-2410011215",
           [
            "EWR",
            "95565059",
            "New York Newark",
            "EWR",
            "New York",
            "United States",
            false
           ],
           [
            "NCL",
            "95674044",
            "Newcastle",
            "NCL",
            "Newcastle",
            "United Kingdom",
            false
           ],
           600,
           1,
           false,
           "2024-09-30T21:15:00",
           "2024-10-01T12:15:00",
           1,
           [
            [
             [
              -32480,
              "https://logos.skyscnr.com/images/airlines/favicon/BA.png",
              "British Airways"
             ]
            ],
            "fully_operated"
           ],
           [
            [
             "11442-13554-2409302115-2410010920--32480",
             [
              null,
              null,
              "New York Newark",
              "EWR",
              null,
              "United States",
              null
             ],
             [
              null,
              null,
              "London Heathrow",
              "LHR",
              null,
              "United Kingdom",
              null
             ],
             "2024-09-30T21:15:00",
             "2024-10-01T09:20:00",
             425,
             "188",
             [
              -32480,
              null,
              "British Airways"
             ],
             [
              -32480,
              null,
              "British Airways"
             ]
            ],
            [
             "13554-14585-2410011105-2410011215--32480",
             [
              null,
              null,
              "London Heathrow",
              "LHR",
              null,
              "United Kingdom",
              null
             ],
             [
              null,
              null,
              "Newcastle",
              "NCL",
              null,
              "United Kingdom",
              null
             ],
             "2024-10-01T11:05:00",
             "2024-10-01T12:15:00",
             70,
             "1328",
             [
              -32480,
              null,
              "British Airways"
             ],
             [
              -32480,
              null,
              "British Airways"
             ]
            ]
           ]
          ]
         ],
         false,
         false,
         [
          false,
          false,
          false,
          false
         ],
         [],
         [
          "third_shortest"
         ],
         false,
         false,
         0.82621
        ],
        [
         "11442-2409301720--32480-1-14585-2410010755",
         [
          "65588",
          "₹65,588",
          "nSmc9Y7P9yOx"
         ],
         [
          [
           "11442-2409301720--32480-1-14585-2410010755",
           [
            "EWR",
            "95565059",
            "New York Newark",
            "EWR",
            "New York",
            "United States",
            false
           ],
           [
            "NCL",
            "95674044",
            "Newcastle",
            "NCL",
            "Newcastle",
            "United Kingdom",
            false
           ],
           575,
           1,
           false,
           "2024-09-30T17:20:00",
           "2024-10-01T07:55:00",
           1,
           [
            [
             [
              -32480,
              "https://logos.skyscnr.com/images/airlines/favicon/BA.png",
              "British Airways"
             ]
            ],
            "not_operated"
           ],
           [
            [
             "11442-11154-2409301720-2410010450--32480",
             [
              null,
              null,
              "New York Newark",
              "EWR",
              null,
              "United States",
              null
             ],
             [
              null,
              null,
              "Dublin",
              "DUB",
              null,
              "Ireland",
              null
             ],
             "2024-09-30T17:20:00",
             "2024-10-01T04:50:00",
             390,
             "6132",
             [
              -32480,
              null,
              "British Airways"
             ],
             [
              -32753,
              null,
              "Aer Lingus"
             ]
            ],
            [
             "11154-14585-2410010635-2410010755--32480",
             [
              null,
              null,
              "Dublin",
              "DUB",
              null,
              "Ireland",
              null
             ],
             [
              null,
              null,
              "Newcastle",
              "NCL",
              null,
              "United Kingdom",
              null
             ],
             "2024-10-01T06:35:00",
             "2024-10-01T07:55:00",
             80,
             "8964",
             [
              -32480,
              null,
              "British Airways"
             ],
             [
              -30651,
              null,
              "Emerald Airlines"
             ]
            ]
           ]
          ]
         ],
         false,
         false,
         [
          false,
          false,
          false,
          false
         ],
         [],
         [
          "shortest"
         ],
         false,
         false,
         0.64377
        ],
        [
         "11442-2409301930--32090-1-14585-2410011100",
         [
          "47944",
          "₹47,944",
          "Kq3BGe71IOhq"
         ],
         [
          [
           "11442-2409301930--32090-1-14585-2410011100",
           [
            "EWR",
            "95565059",
            "New York Newark",
            "EWR",
            "New York",
            "United States",
            false
           ],
           [
            "NCL",
            "95674044",
            "Newcastle",
            "NCL",
            "Newcastle",
            "United Kingdom",
            false
           ],
           630,
           1,
           false,
           "2024-09-30T19:30:00",
           "2024-10-01T11:00:00",
           1,
           [
            [
             [
              -32090,
              "https://logos.skyscnr.com/images/airlines/favicon/LH.png",
              "Lufthansa"
             ]
            ],
            "not_operated"
           ],
           [
            [
             "11442-11616-2409301930-2410010910--32090",
             [
              null,
              null,
              "New York Newark",
              "EWR",
              null,
              "United States",
              null
             ],
             [
              null,
              null,
              "Frankfurt am Main",
              "FRA",
              null,
              "Germany",
              null
             ],
             "2024-09-30T19:30:00",
             "2024-10-01T09:10:00",
             460,
             "7602",
             [
              -32090,
              null,
              "Lufthansa"
             ],
             [
              -31722,
              null,
              "United"
             ]
            ],
            [
             "11616-14585-2410011010-2410011100--32090",
             [
              null,
              null,
              "Frankfurt am Main",
              "FRA",
              null,
              "Germany",
              null
             ],
             [
              null,
              null,
              "Newcastle",
              "NCL",
              null,
              "United Kingdom",
              null
             ],
             "2024-10-01T10:10:00",
             "2024-10-01T11:00:00",
             110,
             "966",
             [
              -32090,
              null,
              "Lufthansa"
             ],
             [
              -32430,
              null,
              "CityJet"
             ]
            ]
           ]
          ]
         ],
         false,
         false,
         [
          false,
          false,
          false,
          false
         ],
         [],
         [
          "third_cheapest"
         ],
         false,
         false,
         0.498519
        ],
        [
         "11442-2409302115--32480-1-14585-2410012155",
         [
          "47607",
          "₹47,607",
          "Rlo3CltxTqjc"
         ],
         [
          [
           "11442-2409302115--32480-1-14585-2410012155",
           [
            "EWR",
            "95565059",
            "New York Newark",
            "EWR",
            "New York",
            "United States",
            false
           ],
           [
            "NCL",
            "95674044",
            "Newcastle",
            "NCL",
            "Newcastle",
            "United Kingdom",
            false
           ],
           1180,
           1,
           false,
           "2024-09-30T21:15:00",
           "2024-10-01T21:55:00",
           1,
           [
            [
             [
              -32480,
              "https://logos.skyscnr.com/images/airlines/favicon/BA.png",
              "British Airways"
             ]
            ],
            "fully_operated"
           ],
           [
            [
             "11442-13554-2409302115-2410010920--32480",
             [
              null,
              null,
              "New York Newark",
              "EWR",
              null,
              "United States",
              null
             ],
             [
              null,
              null,
              "London Heathrow",
              "LHR",
              null,
              "United Kingdom",
              null
             ],
             "2024-09-30T21:15:00",
             "2024-10-01T09:20:00",
             425,
             "188",
             [
              -32480,
              null,
              "British Airways"
             ],
             [
              -32480,
              null,
              "British Airways"
             ]
            ],
            [
             "13554-14585-2410012045-2410012155--32480",
             [
              null,
              null,
              "London Heathrow",
              "LHR",
              null,
              "United Kingdom",
              null
             ],
             [
              null,
              null,
              "Newcastle",
              "NCL",
              null,
              "United Kingdom",
              null
             ],
             "2024-10-01T20:45:00",
             "2024-10-01T21:55:00",
             70,
             "1338",
             [
              -32480,
              null,
              "British Airways"
             ],
             [
              -32480,
              null,
              "British Airways"
             ]
            ]
           ]
          ]
         ],
         false,
         true,
         [
          false,
          false,
          false,
          false
         ],
         [],
         [
          "second_cheapest"
         ],
         false,
         false,
         0.420613
        ],
        [
         "11442-2409301720--32753-1-14585-2410010755",
         [
          "75491.29",
          "₹75,492",
          "re6768kUxOCK"
         ],
         [
          [
           "11442-2409301720--32753-1-14585-2410010755",
           [
            "EWR",
            "95565059",
            "New York Newark",
            "EWR",
            "New York",
            "United States",
            false
           ],
           [
            "NCL",
            "95674044",
            "Newcastle",
            "NCL",
            "Newcastle",
            "United Kingdom",
            false
           ],
           575,
           1,
           false,
           "2024-09-30T17:20:00",
           "2024-10-01T07:55:00",
           1,
           [
            [
             [
              -32753,
              "https://logos.skyscnr.com/images/airlines/favicon/EI.png",
              "Aer Lingus"
             ]
            ],
            "partially_operated"
           ],
           [
            [
             "11442-11154-2409301720-2410010450--32753",
             [
              null,
              null,
              "New York Newark",
              "EWR",
              null,
              "United States",
              null
             ],
             [
              null,
              null,
              "Dublin",
              "DUB",
              null,
              "Ireland",
              null
             ],
             "2024-09-30T17:20:00",
             "2024-10-01T04:50:00",
             390,
             "100",
             [
              -32753,
              null,
              "Aer Lingus"
             ],
             [
              -32753,
              null,
              "Aer Lingus"
             ]
            ],
            [
             "11154-14585-2410010635-2410010755--32753",
             [
              null,
              null,
              "Dublin",
              "DUB",
              null,
              "Ireland",
              null
             ],
             [
              null,
              null,
              "Newcastle",
              "NCL",
              null,
              "United Kingdom",
              null
             ],
             "2024-10-01T06:35:00",
             "2024-10-01T07:55:00",
             80,
             "3350",
             [
              -32753,
              null,
              "Aer Lingus"
             ],
             [
              -30651,
              null,
              "Emerald Airlines"
             ]
            ]
           ]
          ]
         ],
         false,
         false,
         [
          false,
          false,
          false,
          false
         ],
         [],
         [
          "second_shortest"
         ],
         false,
         false,
         0.402227
        ],
        [
         "11442-2409301700--31697-1-14585-2410011035",
         [
          "87333",
          "₹87,333",
          "-ZV1Sas4ScW8"
         ],
         [
          [
           "11442-2409301700--31697-1-14585-2410011035",
           [
            "EWR",
            "95565059",
            "New York Newark",
            "EWR",
            "New York",
            "United States",
            false
           ],
           [
            "NCL",
            "95674044",
            "Newcastle",
            "NCL",
            "Newcastle",
            "United Kingdom",
            false
           ],
           755,
           1,
           false,
           "2024-09-30T17:00:00",
           "2024-10-01T10:35:00",
           1,
           [
            [
             [
              -31697,
              "https://logos.skyscnr.com/images/airlines/favicon/VS.png",
              "Virgin Atlantic"
             ]
            ],
            "not_operated"
           ],
           [
            [
             "11442-10413-2409301700-2410010605--31697",
             [
              null,
              null,
              "New York Newark",
              "EWR",
              null,
              "United States",
              null
             ],
             [
              null,
              null,
              "Paris Charles de Gaulle",
              "CDG",
              null,
              "France",
              null
             ],
             "2024-09-30T17:00:00",
             "2024-10-01T06:05:00",
             425,
             "6785",
             [
              -31697,
              null,
              "Virgin Atlantic"
             ],
             [
              -32677,
              null,
              "Air France"
             ]
            ],
            [
             "10413-14585-2410011000-2410011035--31697",
             [
              null,
              null,
              "Paris Charles de Gaulle",
              "CDG",
              null,
              "France",
              null
             ],
             [
              null,
              null,
              "Newcastle",
              "NCL",
              null,
              "United Kingdom",
              null
             ],
             "2024-10-01T10:00:00",
             "2024-10-01T10:35:00",
             95,
             "6636",
             [
              -31697,
              null,
              "Virgin Atlantic"
             ],
             [
              -32226,
              null,
              "HOP!"
             ]
            ]
           ]
          ]
         ],
         false,
         false,
         [
          false,
          false,
          false,
          false
         ],
         [],
         null,
         false,
         false,
         0.384165
        ],
        [
         "11442-2409301700--32677-1-14585-2410011035",
         [
          "93335",
          "₹93,335",
          "hkS9gELaQ_IF"
         ],
         [
          [
           "11442-2409301700--32677-1-14585-2410011035",
           [
            "EWR",
            "95565059",
            "New York Newark",
            "EWR",
            "New York",
            "United States",
            false
           ],
           [
            "NCL",
            "95674044",
            "Newcastle",
            "NCL",
            "Newcastle",
            "United Kingdom",
            false
           ],
           755,
           1,
           false,
           "2024-09-30T17:00:00",
           "2024-10-01T10:35:00",
           1,
           [
            [
             [
              -32677,
              "https://logos.skyscnr.com/images/airlines/favicon/AF.png",
              "Air France"
             ]
            ],
            "partially_operated"
           ],
           [
            [
             "11442-10413-2409301700-2410010605--32677",
             [
              null,
              null,
              "New York Newark",
              "EWR",
              null,
              "United States",
              null
             ],
             [
              null,
              null,
              "Paris Charles de Gaulle",
              "CDG",
              null,
              "France",
              null
             ],
             "2024-09-30T17:00:00",
             "2024-10-01T06:05:00",
             425,
             "63",
             [
              -32677,
              null,
              "Air France"
             ],
             [
              -32677,
              null,
              "Air France"
             ]
            ],
            [
             "10413-14585-2410011000-2410011035--32677",
             [
              null,
              null,
              "Paris Charles de Gaulle",
              "CDG",
              null,
              "France",
              null
             ],
             [
              null,
              null,
              "Newcastle",
              "NCL",
              null,
              "United Kingdom",
              null
             ],
             "2024-10-01T10:00:00",
             "2024-10-01T10:35:00",
             95,
             "1058",
             [
              -32677,
              null,
              "Air France"
             ],
             [
              -32226,
              null,
              "HOP!"
             ]
            ]
           ]
          ]
         ],
         false,
         false,
         [
          false,
          false,
          false,
          false
         ],
         [],
         null,
         false,
         false,
         0.356543
        ],
        [
         "11442-2409302115--32222-1-14585-2410011945",
         [
          "85136",
          "₹85,136",
          "VwCrNPNuWrak"
         ],
         [
          [
           "11442-2409302115--32222-1-14585-2410011945",
           [
            "EWR",
            "95565059",
            "New York Newark",
            "EWR",
            "New York",
            "United States",
            false
           ],
           [
            "NCL",
            "95674044",
            "Newcastle",
            "NCL",
            "Newcastle",
            "United Kingdom",
            false
           ],
           1050,
           1,
           false,
           "2024-09-30T21:15:00",
           "2024-10-01T19:45:00",
           1,
           [
            [
             [
              -32222,
              "https://logos.skyscnr.com/images/airlines/favicon/IB.png",
              "Iberia"
             ]
            ],
            "not_operated"
           ],
           [
            [
             "11442-13554-2409302115-2410010920--32222",
             [
              null,
              null,
              "New York Newark",
              "EWR",
              null,
              "United States",
              null
             ],
             [
              null,
              null,
              "London Heathrow",
              "LHR",
              null,
              "United Kingdom",
              null
             ],
             "2024-09-30T21:15:00",
             "2024-10-01T09:20:00",
             425,
             "7383",
             [
              -32222,
              null,
              "Iberia"
             ],
             [
              -32480,
              null,
              "British Airways"
             ]
            ],
            [
             "13554-14585-2410011835-2410011945--32222",
             [
              null,
              null,
              "London Heathrow",
              "LHR",
              null,
              "United Kingdom",
              null
             ],
             [
              null,
              null,
              "Newcastle",
              "NCL",
              null,
              "United Kingdom",
              null
             ],
             "2024-10-01T18:35:00",
             "2024-10-01T19:45:00",
             70,
             "7545",
             [
              -32222,
              null,
              "Iberia"
             ],
             [
              -32480,
              null,
              "British Airways"
             ]
            ]
           ]
          ]
         ],
         false,
         false,
         [
          false,
          false,
          false,
          false
         ],
         [],
         null,
         false,
         false,
         0.291204
        ],
        [
         "11442-2409302115--32317,-32480-1-14585-2410011215",
         [
          "193521",
          "₹193,521",
          "SyQyb6quuc86"
         ],
         [
          [
           "11442-2409302115--32317,-32480-1-14585-2410011215",
           [
            "EWR",
            "95565059",
            "New York Newark",
            "EWR",
            "New York",
            "United States",
            false
           ],
           [
            "NCL",
            "95674044",
            "Newcastle",
            "NCL",
            "Newcastle",
            "United Kingdom",
            false
           ],
           600,
           1,
           false,
           "2024-09-30T21:15:00",
           "2024-10-01T12:15:00",
           1,
           [
            [
             [
              -32317,
              "https://logos.skyscnr.com/images/airlines/favicon/AY.png",
              "Finnair"
             ],
             [
              -32480,
              "https://logos.skyscnr.com/images/airlines/favicon/BA.png",
              "British Airways"
             ]
            ],
            "fully_operated"
           ],
           [
            [
             "11442-13554-2409302115-2410010920--32317",
             [
              null,
              null,
              "New York Newark",
              "EWR",
              null,
              "United States",
              null
             ],
             [
              null,
              null,
              "London Heathrow",
              "LHR",
              null,
              "United Kingdom",
              null
             ],
             "2024-09-30T21:15:00",
             "2024-10-01T09:20:00",
             425,
             "5488",
             [
              -32317,
              null,
              "Finnair"
             ],
             [
              -32480,
              null,
              "British Airways"
             ]
            ],
            [
             "13554-14585-2410011105-2410011215--32480",
             [
              null,
              null,
              "London Heathrow",
              "LHR",
              null,
              "United Kingdom",
              null
             ],
             [
              null,
              null,
              "Newcastle",
              "NCL",
              null,
              "United Kingdom",
              null
             ],
             "2024-10-01T11:05:00",
             "2024-10-01T12:15:00",
             70,
             "1328",
             [
              -32480,
              null,
              "British Airways"
             ],
             [
              -32480,
              null,
              "British Airways"
             ]
            ]
           ]
          ]
         ],
         false,
         false,
         [
          false,
          false,
          false,
          false
         ],
         [],
         null,
         false,
         false,
         0.249569
        ],
        [
         "11442-2409301720--32480-1-14773-2410011245",
         [
          "65588",
          "₹65,588",
          "QAXFxaNh2wGQ"
         ],
         [
          [
           "11442-2409301720--32480-1-14773-2410011245",
           [
            "EWR",
            "95565059",
            "New York Newark",
            "EWR",
            "New York",
            "United States",
            false
           ],
           [
            "NQY",
            "95673963",
            "Newquay",
            "NQY",
            "Newquay",
            "United Kingdom",
            false
           ],
           865,
           1,
           false,
           "2024-09-30T17:20:00",
           "2024-10-01T12:45:00",
           1,
           [
            [
             [
              -32480,
              "https://logos.skyscnr.com/images/airlines/favicon/BA.png",
              "British Airways"
             ]
            ],
            "not_operated"
           ],
           [
            [
             "11442-11154-2409301720-2410010450--32480",
             [
              null,
              null,
              "New York Newark",
              "EWR",
              null,
              "United States",
              null
             ],
             [
              null,
              null,
              "Dublin",
              "DUB",
              null,
              "Ireland",
              null
             ],
             "2024-09-30T17:20:00",
             "2024-10-01T04:50:00",
             390,
             "6132",
             [
              -32480,
              null,
              "British Airways"
             ],
             [
              -32753,
              null,
              "Aer Lingus"
             ]
            ],
            [
             "11154-14773-2410011125-2410011245--32480",
             [
              null,
              null,
              "Dublin",
              "DUB",
              null,
              "Ireland",
              null
             ],
             [
              null,
              null,
              "Newquay",
              "NQY",
              null,
              "United Kingdom",
              null
             ],
             "2024-10-01T11:25:00",
             "2024-10-01T12:45:00",
             80,
             "8968",
             [
              -32480,
              null,
              "British Airways"
             ],
             [
              -30651,
              null,
              "Emerald Airlines"
             ]
            ]
           ]
          ]
         ],
         false,
         false,
         [
          false,
          false,
          false,
          false
         ],
         [],
         [
          "second_cheapest",
          "shortest"
         ],
         false,
         false,
         0.999
        ],
        [
         "11442-2409301720--32753-1-14773-2410011245",
         [
          "80792",
          "₹80,792",
          "4vvYFzxec1Dr"
         ],
         [
          [
           "11442-2409301720--32753-1-14773-2410011245",
           [
            "EWR",
            "95565059",
            "New York Newark",
            "EWR",
            "New York",
            "United States",
            false
           ],
           [
            "NQY",
            "95673963",
            "Newquay",
            "NQY",
            "Newquay",
            "United Kingdom",
            false
           ],
           865,
           1,
           false,
           "2024-09-30T17:20:00",
           "2024-10-01T12:45:00",
           1,
           [
            [
             [
              -32753,
              "https://logos.skyscnr.com/images/airlines/favicon/EI.png",
              "Aer Lingus"
             ]
            ],
            "partially_operated"
           ],
           [
            [
             "11442-11154-2409301720-2410010450--32753",
             [
              null,
              null,
              "New York Newark",
              "EWR",
              null,
              "United States",
              null
             ],
             [
              null,
              null,
              "Dublin",
              "DUB",
              null,
              "Ireland",
              null
             ],
             "2024-09-30T17:20:00",
             "2024-10-01T04:50:00",
             390,
             "100",
             [
              -32753,
              null,
              "Aer Lingus"
             ],
             [
              -32753,
              null,
              "Aer Lingus"
             ]
            ],
            [
             "11154-14773-2410011125-2410011245--32753",
             [
              null,
              null,
              "Dublin",
              "DUB",
              null,
              "Ireland",
              null
             ],
             [
              null,
              null,
              "Newquay",
              "NQY",
              null,
              "United Kingdom",
              null
             ],
             "2024-10-01T11:25:00",
             "2024-10-01T12:45:00",
             80,
             "3930",
             [
              -32753,
              null,
              "Aer Lingus"
             ],
             [
              -30651,
              null,
              "Emerald Airlines"
             ]
            ]
           ]
          ]
         ],
         false,
         false,
         [
          false,
          false,
          false,
          false
         ],
         [],
         [
          "second_shortest"
         ],
         false,
         false,
         0.687481
        ],
        [
         "11442-2409302115--32480,-32360-1-14773-2410012010",
         [
          "62571",
          "₹62,571",
          "YgHgRsp32CYo"
         ],
         [
          [
           "11442-2409302115--32480,-32360-1-14773-2410012010",
           [
            "EWR",
            "95565059",
            "New York Newark",
            "EWR",
            "New York",
            "United States",
            false
           ],
           [
            "NQY",
            "95673963",
            "Newquay",
            "NQY",
            "Newquay",
            "United Kingdom",
            false
           ],
           1075,
           1,
           false,
           "2024-09-30T21:15:00",
           "2024-10-01T20:10:00",
           1,
           [
            [
             [
              -32480,
              "https://logos.skyscnr.com/images/airlines/favicon/BA.png",
              "British Airways"
             ],
             [
              -32360,
              "https://logos.skyscnr.com/images/airlines/favicon/T3.png",
              "Eastern Airways"
             ]
            ],
            "fully_operated"
           ],
           [
            [
             "11442-13554-2409302115-2410010920--32480",
             [
              null,
              null,
              "New York Newark",
              "EWR",
              null,
              "United States",
              null
             ],
             [
              null,
              null,
              "London Heathrow",
              "LHR",
              null,
              "United Kingdom",
              null
             ],
             "2024-09-30T21:15:00",
             "2024-10-01T09:20:00",
             425,
             "188",
             [
              -32480,
              null,
              "British Airways"
             ],
             [
              -32480,
              null,
              "British Airways"
             ]
            ],
            [
             "13542-14773-2410011850-2410012010--32360",
             [
              null,
              null,
              "London Gatwick",
              "LGW",
              null,
              "United Kingdom",
              null
             ],
             [
              null,
              null,
              "Newquay",
              "NQY",
              null,
              "United Kingdom",
              null
             ],
             "2024-10-01T18:50:00",
             "2024-10-01T20:10:00",
             80,
             "458",
             [
              -32360,
              null,
              "Eastern Airways"
             ],
             [
              -32360,
              null,
              "Eastern Airways"
             ]
            ]
           ]
          ]
         ],
         false,
         true,
         [
          false,
          false,
          false,
          false
         ],
         [],
         [
          "cheapest",
          "third_shortest"
         ],
         false,
         false,
         0.582572
        ],
        [
         "11442-2409302115--32480-3-14773-2410020945",
         [
          "69054",
          "₹69,054",
          "NgPZP5Ig7yai"
         ],
         [
          [
           "11442-2409302115--32480-3-14773-2410020945",
           [
            "EWR",
            "95565059",
            "New York Newark",
            "EWR",
            "New York",
            "United States",
            false
           ],
           [
            "NQY",
            "95673963",
            "Newquay",
            "NQY",
            "Newquay",
            "United Kingdom",
            false
           ],
           1890,
           3,
           false,
           "2024-09-30T21:15:00",
           "2024-10-02T09:45:00",
           2,
           [
            [
             [
              -32480,
              "https://logos.skyscnr.com/images/airlines/favicon/BA.png",
              "British Airways"
             ]
            ],
            "partially_operated"
           ],
           [
            [
             "11442-13554-2409302115-2410010920--32480",
             [
              null,
              null,
              "New York Newark",
              "EWR",
              null,
              "United States",
              null
             ],
             [
              null,
              null,
              "London Heathrow",
              "LHR",
              null,
              "United Kingdom",
              null
             ],
             "2024-09-30T21:15:00",
             "2024-10-01T09:20:00",
             425,
             "188",
             [
              -32480,
              null,
              "British Airways"
             ],
             [
              -32480,
              null,
              "British Airways"
             ]
            ],
            [
             "13554-9226-2410012100-2410012235--32480",
             [
              null,
              null,
              "London Heathrow",
              "LHR",
              null,
              "United Kingdom",
              null
             ],
             [
              null,
              null,
              "Aberdeen",
              "ABZ",
              null,
              "United Kingdom",
              null
             ],
             "2024-10-01T21:00:00",
             "2024-10-01T22:35:00",
             95,
             "1318",
             [
              -32480,
              null,
              "British Airways"
             ],
             [
              -32480,
              null,
              "British Airways"
             ]
            ],
            [
             "9226-13880-2410020640-2410020755--32480",
             [
              null,
              null,
              "Aberdeen",
              "ABZ",
              null,
              "United Kingdom",
              null
             ],
             [
              null,
              null,
              "Manchester",
              "MAN",
              null,
              "United Kingdom",
              null
             ],
             "2024-10-02T06:40:00",
             "2024-10-02T07:55:00",
             75,
             "7821",
             [
              -32480,
              null,
              "British Airways"
             ],
             [
              -32094,
              null,
              "Loganair"
             ]
            ],
            [
             "13880-14773-2410020835-2410020945--32480",
             [
              null,
              null,
              "Manchester",
              "MAN",
              null,
              "United Kingdom",
              null
             ],
             [
              null,
              null,
              "Newquay",
              "NQY",
              null,
              "United Kingdom",
              null
             ],
             "2024-10-02T08:35:00",
             "2024-10-02T09:45:00",
             70,
             "7821",
             [
              -32480,
              null,
              "British Airways"
             ],
             [
              -32094,
              null,
              "Loganair"
             ]
            ]
           ]
          ]
         ],
         false,
         false,
         [
          false,
          false,
          false,
          false
         ],
         [],
         [
          "third_cheapest"
         ],
         false,
         false,
         0.390701
        ],
        [
         "11442-2409302115--32480-2-14773-2410020945",
         [
          "69221",
          "₹69,221",
          "PejjOsTBBDXv"
         ],
         [
          [
           "11442-2409302115--32480-2-14773-2410020945",
           [
            "EWR",
            "95565059",
            "New York Newark",
            "EWR",
            "New York",
            "United States",
            false
           ],
           [
            "NQY",
            "95673963",
            "Newquay",
            "NQY",
            "Newquay",
            "United Kingdom",
            false
           ],
           1890,
           2,
           false,
           "2024-09-30T21:15:00",
           "2024-10-02T09:45:00",
           2,
           [
            [
             [
              -32480,
              "https://logos.skyscnr.com/images/airlines/favicon/BA.png",
              "British Airways"
             ]
            ],
            "partially_operated"
           ],
           [
            [
             "11442-13554-2409302115-2410010920--32480",
             [
              null,
              null,
              "New York Newark",
              "EWR",
              null,
              "United States",
              null
             ],
             [
              null,
              null,
              "London Heathrow",
              "LHR",
              null,
              "United Kingdom",
              null
             ],
             "2024-09-30T21:15:00",
             "2024-10-01T09:20:00",
             425,
             "188",
             [
              -32480,
              null,
              "British Airways"
             ],
             [
              -32480,
              null,
              "British Airways"
             ]
            ],
            [
             "13554-13880-2410011415-2410011515--32480",
             [
              null,
              null,
              "London Heathrow",
              "LHR",
              null,
              "United Kingdom",
              null
             ],
             [
              null,
              null,
              "Manchester",
              "MAN",
              null,
              "United Kingdom",
              null
             ],
             "2024-10-01T14:15:00",
             "2024-10-01T15:15:00",
             60,
             "1394",
             [
              -32480,
              null,
              "British Airways"
             ],
             [
              -32480,
              null,
              "British Airways"
             ]
            ],
            [
             "13880-14773-2410020835-2410020945--32480",
             [
              null,
              null,
              "Manchester",
              "MAN",
              null,
              "United Kingdom",
              null
             ],
             [
              null,
              null,
              "Newquay",
              "NQY",
              null,
              "United Kingdom",
              null
             ],
             "2024-10-02T08:35:00",
             "2024-10-02T09:45:00",
             70,
             "7821",
             [
              -32480,
              null,
              "British Airways"
             ],
             [
              -32094,
              null,
              "Loganair"
             ]
            ]
           ]
          ]
         ],
         false,
         false,
         [
          false,
          false,
          false,
          false
         ],
         [],
         null,
         false,
         false,
         0.390061
        ],
        [
         "11442-2409302015--32090,-32480-3-14773-2410020945",
         [
          "141751",
          "₹141,751",
          "iRFyXZUnfgCE"
         ],
         [
          [
           "11442-2409302015--32090,-32480-3-14773-2410020945",
           [
            "EWR",
            "95565059",
            "New York Newark",
            "EWR",
            "New York",
            "United States",
            false
           ],
           [
            "NQY",
            "95673963",
            "Newquay",
            "NQY",
            "Newquay",
            "United Kingdom",
            false
           ],
           1950,
           3,
           false,
           "2024-09-30T20:15:00",
           "2024-10-02T09:45:00",
           2,
           [
            [
             [
              -32090,
              "https://logos.skyscnr.com/images/airlines/favicon/LH.png",
              "Lufthansa"
             ],
             [
              -32480,
              "https://logos.skyscnr.com/images/airlines/favicon/BA.png",
              "British Airways"
             ]
            ],
            "not_operated"
           ],
           [
            [
             "11442-11235-2409302015-2410010805--32090",
             [
              null,
              null,
              "New York Newark",
              "EWR",
              null,
              "United States",
              null
             ],
             [
              null,
              null,
              "Edinburgh",
              "EDI",
              null,
              "United Kingdom",
              null
             ],
             "2024-09-30T20:15:00",
             "2024-10-01T08:05:00",
             410,
             "7642",
             [
              -32090,
              null,
              "Lufthansa"
             ],
             [
              -31722,
              null,
              "United"
             ]
            ],
            [
             "11235-9889-2410011110-2410011210--32480",
             [
              null,
              null,
              "Edinburgh",
              "EDI",
              null,
              "United Kingdom",
              null
             ],
             [
              null,
              null,
              "Belfast City",
              "BHD",
              null,
              "United Kingdom",
              null
             ],
             "2024-10-01T11:10:00",
             "2024-10-01T12:10:00",
             60,
             "8875",
             [
              -32480,
              null,
              "British Airways"
             ],
             [
              -30651,
              null,
              "Emerald Airlines"
             ]
            ],
            [
             "9889-13880-2410011425-2410011530--32480",
             [
              null,
              null,
              "Belfast City",
              "BHD",
              null,
              "United Kingdom",
              null
             ],
             [
              null,
              null,
              "Manchester",
              "MAN",
              null,
              "United Kingdom",
              null
             ],
             "2024-10-01T14:25:00",
             "2024-10-01T15:30:00",
             65,
             "8904",
             [
              -32480,
              null,
              "British Airways"
             ],
             [
              -30651,
              null,
              "Emerald Airlines"
             ]
            ],
            [
             "13880-14773-2410020835-2410020945--32480",
             [
              null,
              null,
              "Manchester",
              "MAN",
              null,
              "United Kingdom",
              null
             ],
             [
              null,
              null,
              "Newquay",
              "NQY",
              null,
              "United Kingdom",
              null
             ],
             "2024-10-02T08:35:00",
             "2024-10-02T09:45:00",
             70,
             "7821",
             [
              -32480,
              null,
              "British Airways"
             ],
             [
              -32094,
              null,
              "Loganair"
             ]
            ]
           ]
          ]
         ],
         false,
         false,
         [
          false,
          false,
          false,
          false
         ],
         [],
         null,
         false,
         false,
         0.195739
        ],
        [
         "14585-2409302010--32480,-32317-1-12712-2410011105",
         [
          "233034",
          "₹233,034",
          "BIJRFO57KctQ"
         ],
         [
          [
           "14585-2409302010--32480,-32317-1-12712-2410011105",
           [
            "NCL",
            "95674044",
            "Newcastle",
            "NCL",
            "Newcastle",
            "United Kingdom",
            false
           ],
           [
            "JFK",
            "95565058",
            "New York John F. Kennedy",
            "JFK",
            "New York",
            "United States",
            false
           ],
           1195,
           1,
           false,
           "2024-09-30T20:10:00",
           "2024-10-01T11:05:00",
           1,
           [
            [
             [
              -32480,
              "https://logos.skyscnr.com/images/airlines/favicon/BA.png",
              "British Airways"
             ],
             [
              -32317,
              "https://logos.skyscnr.com/images/airlines/favicon/AY.png",
              "Finnair"
             ]
            ],
            "fully_operated"
           ],
           [
            [
             "14585-13554-2409302010-2409302120--32480",
             [
              null,
              null,
              "Newcastle",
              "NCL",
              null,
              "United Kingdom",
              null
             ],
             [
              null,
              null,
              "London Heathrow",
              "LHR",
              null,
              "United Kingdom",
              null
             ],
             "2024-09-30T20:10:00",
             "2024-09-30T21:20:00",
             70,
             "1337",
             [
              -32480,
              null,
              "British Airways"
             ],
             [
              -32480,
              null,
              "British Airways"
             ]
            ],
            [
             "13554-12712-2410010820-2410011105--32317",
             [
              null,
              null,
              "London Heathrow",
              "LHR",
              null,
              "United Kingdom",
              null
             ],
             [
              null,
              null,
              "New York John F. Kennedy",
              "JFK",
              null,
              "United States",
              null
             ],
             "2024-10-01T08:20:00",
             "2024-10-01T11:05:00",
             465,
             "5517",
             [
              -32317,
              null,
              "Finnair"
             ],
             [
              -32480,
              null,
              "British Airways"
             ]
            ]
           ]
          ]
         ],
         false,
         false,
         [
          false,
          false,
          false,
          false
         ],
         [],
         [
          "second_cheapest",
          "shortest"
         ],
         false,
         false,
         0.999
        ],
        [
         "14585-2409302010--32480,-32573-1-12712-2410011105",
         [
          "233331.18",
          "₹233,332",
          "YlRa_sERvCWo"
         ],
         [
          [
           "14585-2409302010--32480,-32573-1-12712-2410011105",
           [
            "NCL",
            "95674044",
            "Newcastle",
            "NCL",
            "Newcastle",
            "United Kingdom",
            false
           ],
           [
            "JFK",
            "95565058",
            "New York John F. Kennedy",
            "JFK",
            "New York",
            "United States",
            false
           ],
           1195,
           1,
           false,
           "2024-09-30T20:10:00",
           "2024-10-01T11:05:00",
           1,
           [
            [
             [
              -32480,
              "https://logos.skyscnr.com/images/airlines/favicon/BA.png",
              "British Airways"
             ],
             [
              -32573,
              "https://logos.skyscnr.com/images/airlines/favicon/AA.png",
              "American Airlines"
             ]
            ],
            "fully_operated"
           ],
           [
            [
             "14585-13554-2409302010-2409302120--32480",
             [
              null,
              null,
              "Newcastle",
              "NCL",
              null,
              "United Kingdom",
              null
             ],
             [
              null,
              null,
              "London Heathrow",
              "LHR",
              null,
              "United Kingdom",
              null
             ],
             "2024-09-30T20:10:00",
             "2024-09-30T21:20:00",
             70,
             "1337",
             [
              -32480,
              null,
              "British Airways"
             ],
             [
              -32480,
              null,
              "British Airways"
             ]
            ],
            [
             "13554-12712-2410010820-2410011105--32573",
             [
              null,
              null,
              "London Heathrow",
              "LHR",
              null,
              "United Kingdom",
              null
             ],
             [
              null,
              null,
              "New York John F. Kennedy",
              "JFK",
              null,
              "United States",
              null
             ],
             "2024-10-01T08:20:00",
             "2024-10-01T11:05:00",
             465,
             "6930",
             [
              -32573,
              null,
              "American Airlines"
             ],
             [
              -32480,
              null,
              "British Airways"
             ]
            ]
           ]
          ]
         ],
         false,
         false,
         [
          false,
          false,
          false,
          false
         ],
         [],
         [
          "third_cheapest",
          "second_shortest"
         ],
         false,
         false,
         0.934883
        ],
        [
         "14585-2409302010--32480,-32573-2-12712-2410011329",
         [
          "234897.67",
          "₹234,898",
          "m35N6ZzelLMv"
         ],
         [
          [
           "14585-2409302010--32480,-32573-2-12712-2410011329",
           [
            "NCL",
            "95674044",
            "Newcastle",
            "NCL",
            "Newcastle",
            "United Kingdom",
            false
           ],
           [
            "JFK",
            "95565058",
            "New York John F. Kennedy",
            "JFK",
            "New York",
            "United States",
            false
           ],
           1339,
           2,
           false,
           "2024-09-30T20:10:00",
           "2024-10-01T13:29:00",
           1,
           [
            [
             [
              -32480,
              "https://logos.skyscnr.com/images/airlines/favicon/BA.png",
              "British Airways"
             ],
             [
              -32573,
              "https://logos.skyscnr.com/images/airlines/favicon/AA.png",
              "American Airlines"
             ]
            ],
            "partially_operated"
           ],
           [
            [
             "14585-13554-2409302010-2409302120--32480",
             [
              null,
              null,
              "Newcastle",
              "NCL",
              null,
              "United Kingdom",
              null
             ],
             [
              null,
              null,
              "London Heathrow",
              "LHR",
              null,
              "United Kingdom",
              null
             ],
             "2024-09-30T20:10:00",
             "2024-09-30T21:20:00",
             70,
             "1337",
             [
              -32480,
              null,
              "British Airways"
             ],
             [
              -32480,
              null,
              "British Airways"
             ]
            ],
            [
             "13554-11154-2410010655-2410010820--32480",
             [
              null,
              null,
              "London Heathrow",
              "LHR",
              null,
              "United Kingdom",
              null
             ],
             [
              null,
              null,
              "Dublin",
              "DUB",
              null,
              "Ireland",
              null
             ],
             "2024-10-01T06:55:00",
             "2024-10-01T08:20:00",
             85,
             "832",
             [
              -32480,
              null,
              "British Airways"
             ],
             [
              -32480,
              null,
              "British Airways"
             ]
            ],
            [
             "11154-12712-2410011105-2410011329--32573",
             [
              null,
              null,
              "Dublin",
              "DUB",
              null,
              "Ireland",
              null
             ],
             [
              null,
              null,
              "New York John F. Kennedy",
              "JFK",
              null,
              "United States",
              null
             ],
             "2024-10-01T11:05:00",
             "2024-10-01T13:29:00",
             444,
             "8331",
             [
              -32573,
              null,
              "American Airlines"
             ],
             [
              -32753,
              null,
              "Aer Lingus"
             ]
            ]
           ]
          ]
         ],
         false,
         false,
         [
          false,
          false,
          false,
          false
         ],
         [],
         [
          "third_shortest"
         ],
         false,
         false,
         0.793038
        ],
        [
         "14585-2409302010--32480,-32573-2-12712-2410011915",
         [
          "225213.93",
          "₹225,214",
          "AnfEONXZnK4a"
         ],
         [
          [
           "14585-2409302010--32480,-32573-2-12712-2410011915",
           [
            "NCL",
            "95674044",
            "Newcastle",
            "NCL",
            "Newcastle",
            "United Kingdom",
            false
           ],
           [
            "JFK",
            "95565058",
            "New York John F. Kennedy",
            "JFK",
            "New York",
            "United States",
            false
           ],
           1685,
           2,
           false,
           "2024-09-30T20:10:00",
           "2024-10-01T19:15:00",
           1,
           [
            [
             [
              -32480,
              "https://logos.skyscnr.com/images/airlines/favicon/BA.png",
              "British Airways"
             ],
             [
              -32573,
              "https://logos.skyscnr.com/images/airlines/favicon/AA.png",
              "American Airlines"
             ]
            ],
            "partially_operated"
           ],
           [
            [
             "14585-13554-2409302010-2409302120--32480",
             [
              null,
              null,
              "Newcastle",
              "NCL",
              null,
              "United Kingdom",
              null
             ],
             [
              null,
              null,
              "London Heathrow",
              "LHR",
              null,
              "United Kingdom",
              null
             ],
             "2024-09-30T20:10:00",
             "2024-09-30T21:20:00",
             70,
             "1337",
             [
              -32480,
              null,
              "British Airways"
             ],
             [
              -32480,
              null,
              "British Airways"
             ]
            ],
            [
             "13554-10081-2410010945-2410011215--32573",
             [
              null,
              null,
              "London Heathrow",
              "LHR",
              null,
              "United Kingdom",
              null
             ],
             [
              null,
              null,
              "Boston Logan International",
              "BOS",
              null,
              "United States",
              null
             ],
             "2024-10-01T09:45:00",
             "2024-10-01T12:15:00",
             450,
             "109",
             [
              -32573,
              null,
              "American Airlines"
             ],
             [
              -32573,
              null,
              "American Airlines"
             ]
            ],
            [
             "10081-12712-2410011750-2410011915--32573",
             [
              null,
              null,
              "Boston Logan International",
              "BOS",
              null,
              "United States",
              null
             ],
             [
              null,
              null,
              "New York John F. Kennedy",
              "JFK",
              null,
              "United States",
              null
             ],
             "2024-10-01T17:50:00",
             "2024-10-01T19:15:00",
             85,
             "4580",
             [
              -32573,
              null,
              "American Airlines"
             ],
             [
              -31526,
              null,
              "Republic Airways AS American Eagle"
             ]
            ]
           ]
          ]
         ],
         false,
         false,
         [
          false,
          false,
          false,
          false
         ],
         [],
         [
          "cheapest"
         ],
         false,
         false,
         0.65646
        ],
        [
         "14585-2409302010--32480,-32317-2-12712-2410011915",
         [
          "233503",
          "₹233,503",
          "JjmoYNNIiEOn"
         ],
         [
          [
           "14585-2409302010--32480,-32317-2-12712-2410011915",
           [
            "NCL",
            "95674044",
            "Newcastle",
            "NCL",
            "Newcastle",
            "United Kingdom",
            false
           ],
           [
            "JFK",
            "95565058",
            "New York John F. Kennedy",
            "JFK",
            "New York",
            "United States",
            false
           ],
           1685,
           2,
           false,
           "2024-09-30T20:10:00",
           "2024-10-01T19:15:00",
           1,
           [
            [
             [
              -32480,
              "https://logos.skyscnr.com/images/airlines/favicon/BA.png",
              "British Airways"
             ],
             [
              -32317,
              "https://logos.skyscnr.com/images/airlines/favicon/AY.png",
              "Finnair"
             ]
            ],
            "partially_operated"
           ],
           [
            [
             "14585-13554-2409302010-2409302120--32480",
             [
              null,
              null,
              "Newcastle",
              "NCL",
              null,
              "United Kingdom",
              null
             ],
             [
              null,
              null,
              "London Heathrow",
              "LHR",
              null,
              "United Kingdom",
              null
             ],
             "2024-09-30T20:10:00",
             "2024-09-30T21:20:00",
             70,
             "1337",
             [
              -32480,
              null,
              "British Airways"
             ],
             [
              -32480,
              null,
              "British Airways"
             ]
            ],
            [
             "13554-10081-2410010945-2410011215--32317",
             [
              null,
              null,
              "London Heathrow",
              "LHR",
              null,
              "United Kingdom",
              null
             ],
             [
              null,
              null,
              "Boston Logan International",
              "BOS",
              null,
              "United States",
              null
             ],
             "2024-10-01T09:45:00",
             "2024-10-01T12:15:00",
             450,
             "4186",
             [
              -32317,
              null,
              "Finnair"
             ],
             [
              -32573,
              null,
              "American Airlines"
             ]
            ],
            [
             "10081-12712-2410011750-2410011915--32317",
             [
              null,
              null,
              "Boston Logan International",
              "BOS",
              null,
              "United States",
              null
             ],
             [
              null,
              null,
              "New York John F. Kennedy",
              "JFK",
              null,
              "United States",
              null
             ],
             "2024-10-01T17:50:00",
             "2024-10-01T19:15:00",
             85,
             "4256",
             [
              -32317,
              null,
              "Finnair"
             ],
             [
              -31526,
              null,
              "Republic Airways AS American Eagle"
             ]
            ]
           ]
          ]
         ],
         false,
         false,
         [
          false,
          false,
          false,
          false
         ],
         [],
         null,
         false,
         false,
         0.631672
        ],
        [
         "14585-2409302010--32480,-32317-2-12712-2410011905",
         [
          "274795",
          "₹274,795",
          "ooOWEvZ2eZK6"
         ],
         [
          [
           "14585-2409302010--32480,-32317-2-12712-2410011905",
           [
            "NCL",
            "95674044",
            "Newcastle",
            "NCL",
            "Newcastle",
            "United Kingdom",
            false
           ],
           [
            "JFK",
            "95565058",
            "New York John F. Kennedy",
            "JFK",
            "New York",
            "United States",
            false
           ],
           1675,
           2,
           false,
           "2024-09-30T20:10:00",
           "2024-10-01T19:05:00",
           1,
           [
            [
             [
              -32480,
              "https://logos.skyscnr.com/images/airlines/favicon/BA.png",
              "British Airways"
             ],
             [
              -32317,
              "https://logos.skyscnr.com/images/airlines/favicon/AY.png",
              "Finnair"
             ]
            ],
            "fully_operated"
           ],
           [
            [
             "14585-13554-2409302010-2409302120--32480",
             [
              null,
              null,
              "Newcastle",
              "NCL",
              null,
              "United Kingdom",
              null
             ],
             [
              null,
              null,
              "London Heathrow",
              "LHR",
              null,
              "United Kingdom",
              null
             ],
             "2024-09-30T20:10:00",
             "2024-09-30T21:20:00",
             70,
             "1337",
             [
              -32480,
              null,
              "British Airways"
             ],
             [
              -32480,
              null,
              "British Airways"
             ]
            ],
            [
             "13554-12126-2410010730-2410011220--32317",
             [
              null,
              null,
              "London Heathrow",
              "LHR",
              null,
              "United Kingdom",
              null
             ],
             [
              null,
              null,
              "Helsinki Vantaa",
              "HEL",
              null,
              "Finland",
              null
             ],
             "2024-10-01T07:30:00",
             "2024-10-01T12:20:00",
             170,
             "1340",
             [
              -32317,
              null,
              "Finnair"
             ],
             [
              -32317,
              null,
              "Finnair"
             ]
            ],
            [
             "12126-12712-2410011720-2410011905--32317",
             [
              null,
              null,
              "Helsinki Vantaa",
              "HEL",
              null,
              "Finland",
              null
             ],
             [
              null,
              null,
              "New York John F. Kennedy",
              "JFK",
              null,
              "United States",
              null
             ],
             "2024-10-01T17:20:00",
             "2024-10-01T19:05:00",
             525,
             "15",
             [
              -32317,
              null,
              "Finnair"
             ],
             [
              -32317,
              null,
              "Finnair"
             ]
            ]
           ]
          ]
         ],
         false,
         false,
         [
          false,
          false,
          false,
          false
         ],
         [],
         null,
         false,
         false,
         0.584719
        ],
        [
         "14585-2409302010--32480,-32317-2-10957-2410030520",
         [
          "65627",
          "₹65,627",
          "089vC97VohZ8"
         ],
         [
          [
           "14585-2409302010--32480,-32317-2-10957-2410030520",
           [
            "NCL",
            "95674044",
            "Newcastle",
            "NCL",
            "Newcastle",
            "United Kingdom",
            false
           ],
           [
            "DEL",
            "95673498",
            "Indira Gandhi International ",
            "DEL",
            "New Delhi",
            "India",
            false
           ],
           3160,
           2,
           false,
           "2024-09-30T20:10:00",
           "2024-10-03T05:20:00",
           3,
           [
            [
             [
              -32480,
              "https://logos.skyscnr.com/images/airlines/favicon/BA.png",
              "British Airways"
             ],
             [
              -32317,
              "https://logos.skyscnr.com/images/airlines/favicon/AY.png",
              "Finnair"
             ]
            ],
            "fully_operated"
           ],
           [
            [
             "14585-13554-2409302010-2409302120--32480",
             [
              null,
              null,
              "Newcastle",
              "NCL",
              null,
              "United Kingdom",
              null
             ],
             [
              null,
              null,
              "London Heathrow",
              "LHR",
              null,
              "United Kingdom",
              null
             ],
             "2024-09-30T20:10:00",
             "2024-09-30T21:20:00",
             70,
             "1337",
             [
              -32480,
              null,
              "British Airways"
             ],
             [
              -32480,
              null,
              "British Airways"
             ]
            ],
            [
             "13554-12126-2410011610-2410012100--32317",
             [
              null,
              null,
              "London Heathrow",
              "LHR",
              null,
              "United Kingdom",
              null
             ],
             [
              null,
              null,
              "Helsinki Vantaa",
              "HEL",
              null,
              "Finland",
              null
             ],
             "2024-10-01T16:10:00",
             "2024-10-01T21:00:00",
             170,
             "1336",
             [
              -32317,
              null,
              "Finnair"
             ],
             [
              -32317,
              null,
              "Finnair"
             ]
            ],
            [
             "12126-10957-2410021825-2410030520--32317",
             [
              null,
              null,
              "Helsinki Vantaa",
              "HEL",
              null,
              "Finland",
              null
             ],
             [
              null,
              null,
              "Indira Gandhi International ",
              "DEL",
              null,
              "India",
              null
             ],
             "2024-10-02T18:25:00",
             "2024-10-03T05:20:00",
             505,
             "121",
             [
              -32317,
              null,
              "Finnair"
             ],
             [
              -32317,
              null,
              "Finnair"
             ]
            ]
           ]
          ]
         ],
         false,
         false,
         [
          false,
          false,
          false,
          false
         ],
         [],
         [
          "cheapest",
          "second_shortest"
         ],
         false,
         false,
         0.999
        ],
        [
         "14585-2409302010--32480,-32317-2-10957-2410020520",
         [
          "168902",
          "₹168,902",
          "YHHIZM73QL5h"
         ],
         [
          [
           "14585-2409302010--32480,-32317-2-10957-2410020520",
           [
            "NCL",
            "95674044",
            "Newcastle",
            "NCL",
            "Newcastle",
            "United Kingdom",
            false
           ],
           [
            "DEL",
            "95673498",
            "Indira Gandhi International ",
            "DEL",
            "New Delhi",
            "India",
            false
           ],
           1720,
           2,
           false,
           "2024-09-30T20:10:00",
           "2024-10-02T05:20:00",
           2,
           [
            [
             [
              -32480,
              "https://logos.skyscnr.com/images/airlines/favicon/BA.png",
              "British Airways"
             ],
             [
              -32317,
              "https://logos.skyscnr.com/images/airlines/favicon/AY.png",
              "Finnair"
             ]
            ],
            "fully_operated"
           ],
           [
            [
             "14585-13554-2409302010-2409302120--32480",
             [
              null,
              null,
              "Newcastle",
              "NCL",
              null,
              "United Kingdom",
              null
             ],
             [
              null,
              null,
              "London Heathrow",
              "LHR",
              null,
              "United Kingdom",
              null
             ],
             "2024-09-30T20:10:00",
             "2024-09-30T21:20:00",
             70,
             "1337",
             [
              -32480,
              null,
              "British Airways"
             ],
             [
              -32480,
              null,
              "British Airways"
             ]
            ],
            [
             "13554-12126-2410010730-2410011220--32317",
             [
              null,
              null,
              "London Heathrow",
              "LHR",
              null,
              "United Kingdom",
              null
             ],
             [
              null,
              null,
              "Helsinki Vantaa",
              "HEL",
              null,
              "Finland",
              null
             ],
             "2024-10-01T07:30:00",
             "2024-10-01T12:20:00",
             170,
             "1340",
             [
              -32317,
              null,
              "Finnair"
             ],
             [
              -32317,
              null,
              "Finnair"
             ]
            ],
            [
             "12126-10957-2410011825-2410020520--32317",
             [
              null,
              null,
              "Helsinki Vantaa",
              "HEL",
              null,
              "Finland",
              null
             ],
             [
              null,
              null,
              "Indira Gandhi International ",
              "DEL",
              null,
              "India",
              null
             ],
             "2024-10-01T18:25:00",
             "2024-10-02T05:20:00",
             505,
             "121",
             [
              -32317,
              null,
              "Finnair"
             ],
             [
              -32317,
              null,
              "Finnair"
             ]
            ]
           ]
          ]
         ],
         false,
         false,
         [
          false,
          false,
          false,
          false
         ],
         [],
         [
          "second_cheapest",
          "shortest"
         ],
         false,
         false,
         0.388561
        ],
        [
         "14585-2409302010--32480-2-13522-2410011759",
         [
          "242578",
          "₹242,578",
          "VfURA9mgZrVL"
         ],
         [
          [
           "14585-2409302010--32480-2-13522-2410011759",
           [
            "NCL",
            "95674044",
            "Newcastle",
            "NCL",
            "Newcastle",
            "United Kingdom",
            false
           ],
           [
            "LGA",
            "95565057",
            "New York LaGuardia",
            "LGA",
            "New York",
            "United States",
            false
           ],
           1609,
           2,
           false,
           "2024-09-30T20:10:00",
           "2024-10-01T17:59:00",
           1,
           [
            [
             [
              -32480,
              "https://logos.skyscnr.com/images/airlines/favicon/BA.png",
              "British Airways"
             ]
            ],
            "partially_operated"
           ],
           [
            [
             "14585-13554-2409302010-2409302120--32480",
             [
              null,
              null,
              "Newcastle",
              "NCL",
              null,
              "United Kingdom",
              null
             ],
             [
              null,
              null,
              "London Heathrow",
              "LHR",
              null,
              "United Kingdom",
              null
             ],
             "2024-09-30T20:10:00",
             "2024-09-30T21:20:00",
             70,
             "1337",
             [
              -32480,
              null,
              "British Airways"
             ],
             [
              -32480,
              null,
              "British Airways"
             ]
            ],
            [
             "13554-15062-2410010840-2410011117--32480",
             [
              null,
              null,
              "London Heathrow",
              "LHR",
              null,
              "United Kingdom",
              null
             ],
             [
              null,
              null,
              "Chicago O'Hare International",
              "ORD",
              null,
              "United States",
              null
             ],
             "2024-10-01T08:40:00",
             "2024-10-01T11:17:00",
             517,
             "1522",
             [
              -32480,
              null,
              "British Airways"
             ],
             [
              -32573,
              null,
              "American Airlines"
             ]
            ],
            [
             "15062-13522-2410011452-2410011759--32480",
             [
              null,
              null,
              "Chicago O'Hare International",
              "ORD",
              null,
              "United States",
              null
             ],
             [
              null,
              null,
              "New York LaGuardia",
              "LGA",
              null,
              "United States",
              null
             ],
             "2024-10-01T14:52:00",
             "2024-10-01T17:59:00",
             127,
             "5240",
             [
              -32480,
              null,
              "British Airways"
             ],
             [
              -32573,
              null,
              "American Airlines"
             ]
            ]
           ]
          ]
         ],
         false,
         false,
         [
          false,
          false,
          false,
          false
         ],
         [],
         [
          "second_cheapest",
          "shortest"
         ],
         false,
         false,
         0.999
        ],
        [
         "14585-2409302010--32480-2-13522-2410012101",
         [
          "232531",
          "₹232,531",
          "O_ztQpMMef5Q"
         ],
         [
          [
           "14585-2409302010--32480-2-13522-2410012101",
           [
            "NCL",
            "95674044",
            "Newcastle",
            "NCL",
            "Newcastle",
            "United Kingdom",
            false
           ],
           [
            "LGA",
            "95565057",
            "New York LaGuardia",
            "LGA",
            "New York",
            "United States",
            false
           ],
           1791,
           2,
           false,
           "2024-09-30T20:10:00",
           "2024-10-01T21:01:00",
           1,
           [
            [
             [
              -32480,
              "https://logos.skyscnr.com/images/airlines/favicon/BA.png",
              "British Airways"
             ]
            ],
            "partially_operated"
           ],
           [
            [
             "14585-13554-2409302010-2409302120--32480",
             [
              null,
              null,
              "Newcastle",
              "NCL",
              null,
              "United Kingdom",
              null
             ],
             [
              null,
              null,
              "London Heathrow",
              "LHR",
              null,
              "United Kingdom",
              null
             ],
             "2024-09-30T20:10:00",
             "2024-09-30T21:20:00",
             70,
             "1337",
             [
              -32480,
              null,
              "British Airways"
             ],
             [
              -32480,
              null,
              "British Airways"
             ]
            ],
            [
             "13554-18467-2410011320-2410011610--32480",
             [
              null,
              null,
              "London Heathrow",
              "LHR",
              null,
              "United Kingdom",
              null
             ],
             [
              null,
              null,
              "Toronto Pearson International",
              "YYZ",
              null,
              "Canada",
              null
             ],
             "2024-10-01T13:20:00",
             "2024-10-01T16:10:00",
             470,
             "93",
             [
              -32480,
              null,
              "British Airways"
             ],
             [
              -32480,
              null,
              "British Airways"
             ]
            ],
            [
             "18467-13522-2410011915-2410012101--32480",
             [
              null,
              null,
              "Toronto Pearson International",
              "YYZ",
              null,
              "Canada",
              null
             ],
             [
              null,
              null,
              "New York LaGuardia",
              "LGA",
              null,
              "United States",
              null
             ],
             "2024-10-01T19:15:00",
             "2024-10-01T21:01:00",
             106,
             "5756",
             [
              -32480,
              null,
              "British Airways"
             ],
             [
              -31526,
              null,
              "Republic Airways AS American Eagle"
             ]
            ]
           ]
          ]
         ],
         false,
         false,
         [
          false,
          false,
          false,
          false
         ],
         [],
         [
          "cheapest",
          "second_shortest"
         ],
         false,
         false,
         0.898301
        ],
        [
         "14585-2409302010--32480-1-11442-2410011355",
         [
          "232039",
          "₹232,039",
          "Z2hpLCzuWwCM"
         ],
         [
          [
           "14585-2409302010--32480-1-11442-2410011355",
           [
            "NCL",
            "95674044",
            "Newcastle",
            "NCL",
            "Newcastle",
            "United Kingdom",
            false
           ],
           [
            "EWR",
            "95565059",
            "New York Newark",
            "EWR",
            "New York",
            "United States",
            false
           ],
           1365,
           1,
           false,
           "2024-09-30T20:10:00",
           "2024-10-01T13:55:00",
           1,
           [
            [
             [
              -32480,
              "https://logos.skyscnr.com/images/airlines/favicon/BA.png",
              "British Airways"
             ]
            ],
            "fully_operated"
           ],
           [
            [
             "14585-13554-2409302010-2409302120--32480",
             [
              null,
              null,
              "Newcastle",
              "NCL",
              null,
              "United Kingdom",
              null
             ],
             [
              null,
              null,
              "London Heathrow",
              "LHR",
              null,
              "United Kingdom",
              null
             ],
             "2024-09-30T20:10:00",
             "2024-09-30T21:20:00",
             70,
             "1337",
             [
              -32480,
              null,
              "British Airways"
             ],
             [
              -32480,
              null,
              "British Airways"
             ]
            ],
            [
             "13554-11442-2410011110-2410011355--32480",
             [
              null,
              null,
              "London Heathrow",
              "LHR",
              null,
              "United Kingdom",
              null
             ],
             [
              null,
              null,
              "New York Newark",
              "EWR",
              null,
              "United States",
              null
             ],
             "2024-10-01T11:10:00",
             "2024-10-01T13:55:00",
             465,
             "185",
             [
              -32480,
              null,
              "British Airways"
             ],
             [
              -32480,
              null,
              "British Airways"
             ]
            ]
           ]
          ]
         ],
         false,
         false,
         [
          false,
          false,
          false,
          false
         ],
         [],
         [
          "second_cheapest",
          "second_shortest"
         ],
         false,
         false,
         0.999
        ],
        [
         "14585-2409302010--32480,-32317-1-11442-2410011355",
         [
          "231984",
          "₹231,984",
          "MkOYGpUhpV0I"
         ],
         [
          [
           "14585-2409302010--32480,-32317-1-11442-2410011355",
           [
            "NCL",
            "95674044",
            "Newcastle",
            "NCL",
            "Newcastle",
            "United Kingdom",
            false
           ],
           [
            "EWR",
            "95565059",
            "New York Newark",
            "EWR",
            "New York",
            "United States",
            false
           ],
           1365,
           1,
           false,
           "2024-09-30T20:10:00",
           "2024-10-01T13:55:00",
           1,
           [
            [
             [
              -32480,
              "https://logos.skyscnr.com/images/airlines/favicon/BA.png",
              "British Airways"
             ],
             [
              -32317,
              "https://logos.skyscnr.com/images/airlines/favicon/AY.png",
              "Finnair"
             ]
            ],
            "fully_operated"
           ],
           [
            [
             "14585-13554-2409302010-2409302120--32480",
             [
              null,
              null,
              "Newcastle",
              "NCL",
              null,
              "United Kingdom",
              null
             ],
             [
              null,
              null,
              "London Heathrow",
              "LHR",
              null,
              "United Kingdom",
              null
             ],
             "2024-09-30T20:10:00",
             "2024-09-30T21:20:00",
             70,
             "1337",
             [
              -32480,
              null,
              "British Airways"
             ],
             [
              -32480,
              null,
              "British Airways"
             ]
            ],
            [
             "13554-11442-2410011110-2410011355--32317",
             [
              null,
              null,
              "London Heathrow",
              "LHR",
              null,
              "United Kingdom",
              null
             ],
             [
              null,
              null,
              "New York Newark",
              "EWR",
              null,
              "United States",
              null
             ],
             "2024-10-01T11:10:00",
             "2024-10-01T13:55:00",
             465,
             "5485",
             [
              -32317,
              null,
              "Finnair"
             ],
             [
              -32480,
              null,
              "British Airways"
             ]
            ]
           ]
          ]
         ],
         false,
         false,
         [
          false,
          false,
          false,
          false
         ],
         [],
         [
          "cheapest",
          "shortest"
         ],
         false,
         false,
         0.888483
        ],
        [
         "14585-2409302010--32480-2-11442-2410011705",
         [
          "242578",
          "₹242,578",
          "wgyS_4c6jXUf"
         ],
         [
          [
           "14585-2409302010--32480-2-11442-2410011705",
           [
            "NCL",
            "95674044",
            "Newcastle",
            "NCL",
            "Newcastle",
            "United Kingdom",
            false
           ],
           [
            "EWR",
            "95565059",
            "New York Newark",
            "EWR",
            "New York",
            "United States",
            false
           ],
           1555,
           2,
           false,
           "2024-09-30T20:10:00",
           "2024-10-01T17:05:00",
           1,
           [
            [
             [
              -32480,
              "https://logos.skyscnr.com/images/airlines/favicon/BA.png",
              "British Airways"
             ]
            ],
            "partially_operated"
           ],
           [
            [
             "14585-13554-2409302010-2409302120--32480",
             [
              null,
              null,
              "Newcastle",
              "NCL",
              null,
              "United Kingdom",
              null
             ],
             [
              null,
              null,
              "London Heathrow",
              "LHR",
              null,
              "United Kingdom",
              null
             ],
             "2024-09-30T20:10:00",
             "2024-09-30T21:20:00",
             70,
             "1337",
             [
              -32480,
              null,
              "British Airways"
             ],
             [
              -32480,
              null,
              "British Airways"
             ]
            ],
            [
             "13554-15062-2410010840-2410011117--32480",
             [
              null,
              null,
              "London Heathrow",
              "LHR",
              null,
              "United Kingdom",
              null
             ],
             [
              null,
              null,
              "Chicago O'Hare International",
              "ORD",
              null,
              "United States",
              null
             ],
             "2024-10-01T08:40:00",
             "2024-10-01T11:17:00",
             517,
             "1522",
             [
              -32480,
              null,
              "British Airways"
             ],
             [
              -32573,
              null,
              "American Airlines"
             ]
            ],
            [
             "15062-11442-2410011357-2410011705--32480",
             [
              null,
              null,
              "Chicago O'Hare International",
              "ORD",
              null,
              "United States",
              null
             ],
             [
              null,
              null,
              "New York Newark",
              "EWR",
              null,
              "United States",
              null
             ],
             "2024-10-01T13:57:00",
             "2024-10-01T17:05:00",
             128,
             "5197",
             [
              -32480,
              null,
              "British Airways"
             ],
             [
              -32573,
              null,
              "American Airlines"
             ]
            ]
           ]
          ]
         ],
         false,
         false,
         [
          false,
          false,
          false,
          false
         ],
         [],
         [
          "third_cheapest",
          "third_shortest"
         ],
         false,
         false,
         0.839319
        ],
        [
         "14585-2409302010--32480-2-14773-2410020945",
         [
          "77394",
          "₹77,394",
          "IHRMMU5ws55R"
         ],
         [
          [
           "14585-2409302010--32480-2-14773-2410020945",
           [
            "NCL",
            "95674044",
            "Newcastle",
            "NCL",
            "Newcastle",
            "United Kingdom",
            false
           ],
           [
            "NQY",
            "95673963",
            "Newquay",
            "NQY",
            "Newquay",
            "United Kingdom",
            false
           ],
           2255,
           2,
           false,
           "2024-09-30T20:10:00",
           "2024-10-02T09:45:00",
           2,
           [
            [
             [
              -32480,
              "https://logos.skyscnr.com/images/airlines/favicon/BA.png",
              "British Airways"
             ]
            ],
            "partially_operated"
           ],
           [
            [
             "14585-13554-2409302010-2409302120--32480",
             [
              null,
              null,
              "Newcastle",
              "NCL",
              null,
              "United Kingdom",
              null
             ],
             [
              null,
              null,
              "London Heathrow",
              "LHR",
              null,
              "United Kingdom",
              null
             ],
             "2024-09-30T20:10:00",
             "2024-09-30T21:20:00",
             70,
             "1337",
             [
              -32480,
              null,
              "British Airways"
             ],
             [
              -32480,
              null,
              "British Airways"
             ]
            ],
            [
             "13554-13880-2410011415-2410011515--32480",
             [
              null,
              null,
              "London Heathrow",
              "LHR",
              null,
              "United Kingdom",
              null
             ],
             [
              null,
              null,
              "Manchester",
              "MAN",
              null,
              "United Kingdom",
              null
             ],
             "2024-10-01T14:15:00",
             "2024-10-01T15:15:00",
             60,
             "1394",
             [
              -32480,
              null,
              "British Airways"
             ],
             [
              -32480,
              null,
              "British Airways"
             ]
            ],
            [
             "13880-14773-2410020835-2410020945--32480",
             [
              null,
              null,
              "Manchester",
              "MAN",
              null,
              "United Kingdom",
              null
             ],
             [
              null,
              null,
              "Newquay",
              "NQY",
              null,
              "United Kingdom",
              null
             ],
             "2024-10-02T08:35:00",
             "2024-10-02T09:45:00",
             70,
             "7821",
             [
              -32480,
              null,
              "British Airways"
             ],
             [
              -32094,
              null,
              "Loganair"
             ]
            ]
           ]
          ]
         ],
         false,
         false,
         [
          false,
          false,
          false,
          false
         ],
         [],
         [
          "third_cheapest",
          "third_shortest"
         ],
         false,
         false,
         0.999
        ],
        [
         "14585-2409302010--32480,-32094-3-14773-2410020945",
         [
          "70152",
          "₹70,152",
          "fuWHlXXS2k0_"
         ],
         [
          [
           "14585-2409302010--32480,-32094-3-14773-2410020945",
           [
            "NCL",
            "95674044",
            "Newcastle",
            "NCL",
            "Newcastle",
            "United Kingdom",
            false
           ],
           [
            "NQY",
            "95673963",
            "Newquay",
            "NQY",
            "Newquay",
            "United Kingdom",
            false
           ],
           2255,
           3,
           false,
           "2024-09-30T20:10:00",
           "2024-10-02T09:45:00",
           2,
           [
            [
             [
              -32480,
              "https://logos.skyscnr.com/images/airlines/favicon/BA.png",
              "British Airways"
             ],
             [
              -32094,
              "https://logos.skyscnr.com/images/airlines/favicon/LC.png",
              "Loganair"
             ]
            ],
            "fully_operated"
           ],
           [
            [
             "14585-13554-2409302010-2409302120--32480",
             [
              null,
              null,
              "Newcastle",
              "NCL",
              null,
              "United Kingdom",
              null
             ],
             [
              null,
              null,
              "London Heathrow",
              "LHR",
              null,
              "United Kingdom",
              null
             ],
             "2024-09-30T20:10:00",
             "2024-09-30T21:20:00",
             70,
             "1337",
             [
              -32480,
              null,
              "British Airways"
             ],
             [
              -32480,
              null,
              "British Airways"
             ]
            ],
            [
             "13554-9226-2410011030-2410011200--32480",
             [
              null,
              null,
              "London Heathrow",
              "LHR",
              null,
              "United Kingdom",
              null
             ],
             [
              null,
              null,
              "Aberdeen",
              "ABZ",
              null,
              "United Kingdom",
              null
             ],
             "2024-10-01T10:30:00",
             "2024-10-01T12:00:00",
             90,
             "1308",
             [
              -32480,
              null,
              "British Airways"
             ],
             [
              -32480,
              null,
              "British Airways"
             ]
            ],
            [
             "9226-13880-2410020640-2410020755--32094",
             [
              null,
              null,
              "Aberdeen",
              "ABZ",
              null,
              "United Kingdom",
              null
             ],
             [
              null,
              null,
              "Manchester",
              "MAN",
              null,
              "United Kingdom",
              null
             ],
             "2024-10-02T06:40:00",
             "2024-10-02T07:55:00",
             75,
             "21",
             [
              -32094,
              null,
              "Loganair"
             ],
             [
              -32094,
              null,
              "Loganair"
             ]
            ],
            [
             "13880-14773-2410020835-2410020945--32094",
             [
              null,
              null,
              "Manchester",
              "MAN",
              null,
              "United Kingdom",
              null
             ],
             [
              null,
              null,
              "Newquay",
              "NQY",
              null,
              "United Kingdom",
              null
             ],
             "2024-10-02T08:35:00",
             "2024-10-02T09:45:00",
             70,
             "21",
             [
              -32094,
              null,
              "Loganair"
             ],
             [
              -32094,
              null,
              "Loganair"
             ]
            ]
           ]
          ]
         ],
         false,
         false,
         [
          false,
          false,
          false,
          false
         ],
         [],
         [
          "cheapest",
          "shortest"
         ],
         false,
         false,
         0.98061
        ],
        [
         "14585-2409302010--32480,-32094-2-14773-2410020945",
         [
          "74169",
          "₹74,169",
          "J3RfTaPOOSbh"
         ],
         [
          [
           "14585-2409302010--32480,-32094-2-14773-2410020945",
           [
            "NCL",
            "95674044",
            "Newcastle",
            "NCL",
            "Newcastle",
            "United Kingdom",
            false
           ],
           [
            "NQY",
            "95673963",
            "Newquay",
            "NQY",
            "Newquay",
            "United Kingdom",
            false
           ],
           2255,
           2,
           false,
           "2024-09-30T20:10:00",
           "2024-10-02T09:45:00",
           2,
           [
            [
             [
              -32480,
              "https://logos.skyscnr.com/images/airlines/favicon/BA.png",
              "British Airways"
             ],
             [
              -32094,
              "https://logos.skyscnr.com/images/airlines/favicon/LC.png",
              "Loganair"
             ]
            ],
            "fully_operated"
           ],
           [
            [
             "14585-13554-2409302010-2409302120--32480",
             [
              null,
              null,
              "Newcastle",
              "NCL",
              null,
              "United Kingdom",
              null
             ],
             [
              null,
              null,
              "London Heathrow",
              "LHR",
              null,
              "United Kingdom",
              null
             ],
             "2024-09-30T20:10:00",
             "2024-09-30T21:20:00",
             70,
             "1337",
             [
              -32480,
              null,
              "British Airways"
             ],
             [
              -32480,
              null,
              "British Airways"
             ]
            ],
            [
             "13554-13880-2410011415-2410011515--32480",
             [
              null,
              null,
              "London Heathrow",
              "LHR",
              null,
              "United Kingdom",
              null
             ],
             [
              null,
              null,
              "Manchester",
              "MAN",
              null,
              "United Kingdom",
              null
             ],
             "2024-10-01T14:15:00",
             "2024-10-01T15:15:00",
             60,
             "1394",
             [
              -32480,
              null,
              "British Airways"
             ],
             [
              -32480,
              null,
              "British Airways"
             ]
            ],
            [
             "13880-14773-2410020835-2410020945--32094",
             [
              null,
              null,
              "Manchester",
              "MAN",
              null,
              "United Kingdom",
              null
             ],
             [
              null,
              null,
              "Newquay",
              "NQY",
              null,
              "United Kingdom",
              null
             ],
             "2024-10-02T08:35:00",
             "2024-10-02T09:45:00",
             70,
             "21",
             [
              -32094,
              null,
              "Loganair"
             ],
             [
              -32094,
              null,
              "Loganair"
             ]
            ]
           ]
          ]
         ],
         false,
         false,
         [
          false,
          false,
          false,
          false
         ],
         [],
         [
          "second_cheapest",
          "second_shortest"
         ],
         false,
         false,
         0.906346
        ],
        [
         "14585-2409302010--32480,-32317-1-12712-2410011105",
         [
          "233034",
          "₹233,034",
          "BIJRFO57KctQ"
         ],
         [
          [
           "14585-2409302010--32480,-32317-1-12712-2410011105",
           [
            "NCL",
            "95674044",
            "Newcastle",
            "NCL",
            "Newcastle",
            "United Kingdom",
            false
           ],
           [
            "JFK",
            "95565058",
            "New York John F. Kennedy",
            "JFK",
            "New York",
            "United States",
            false
           ],
           1195,
           1,
           false,
           "2024-09-30T20:10:00",
           "2024-10-01T11:05:00",
           1,
           [
            [
             [
              -32480,
              "https://logos.skyscnr.com/images/airlines/favicon/BA.png",
              "British Airways"
             ],
             [
              -32317,
              "https://logos.skyscnr.com/images/airlines/favicon/AY.png",
              "Finnair"
             ]
            ],
            "fully_operated"
           ],
           [
            [
             "14585-13554-2409302010-2409302120--32480",
             [
              null,
              null,
              "Newcastle",
              "NCL",
              null,
              "United Kingdom",
              null
             ],
             [
              null,
              null,
              "London Heathrow",
              "LHR",
              null,
              "United Kingdom",
              null
             ],
             "2024-09-30T20:10:00",
             "2024-09-30T21:20:00",
             70,
             "1337",
             [
              -32480,
              null,
              "British Airways"
             ],
             [
              -32480,
              null,
              "British Airways"
             ]
            ],
            [
             "13554-12712-2410010820-2410011105--32317",
             [
              null,
              null,
              "London Heathrow",
              "LHR",
              null,
              "United Kingdom",
              null
             ],
             [
              null,
              null,
              "New York John F. Kennedy",
              "JFK",
              null,
              "United States",
              null
             ],
             "2024-10-01T08:20:00",
             "2024-10-01T11:05:00",
             465,
             "5517",
             [
              -32317,
              null,
              "Finnair"
             ],
             [
              -32480,
              null,
              "British Airways"
             ]
            ]
           ]
          ]
         ],
         false,
         false,
         [
          false,
          false,
          false,
          false
         ],
         [],
         [
          "cheapest",
          "shortest"
         ],
         false,
         false,
         0.999
        ],
        [
         "14585-2409302010--32480,-32317-1-11442-2410011355",
         [
          "233034",
          "₹233,034",
          "GIj0ZCcEBlvj"
         ],
         [
          [
           "14585-2409302010--32480,-32317-1-11442-2410011355",
           [
            "NCL",
            "95674044",
            "Newcastle",
            "NCL",
            "Newcastle",
            "United Kingdom",
            false
           ],
           [
            "EWR",
            "95565059",
            "New York Newark",
            "EWR",
            "New York",
            "United States",
            false
           ],
           1365,
           1,
           false,
           "2024-09-30T20:10:00",
           "2024-10-01T13:55:00",
           1,
           [
            [
             [
              -32480,
              "https://logos.skyscnr.com/images/airlines/favicon/BA.png",
              "British Airways"
             ],
             [
              -32317,
              "https://logos.skyscnr.com/images/airlines/favicon/AY.png",
              "Finnair"
             ]
            ],
            "fully_operated"
           ],
           [
            [
             "14585-13554-2409302010-2409302120--32480",
             [
              null,
              null,
              "Newcastle",
              "NCL",
              null,
              "United Kingdom",
              null
             ],
             [
              null,
              null,
              "London Heathrow",
              "LHR",
              null,
              "United Kingdom",
              null
             ],
             "2024-09-30T20:10:00",
             "2024-09-30T21:20:00",
             70,
             "1337",
             [
              -32480,
              null,
              "British Airways"
             ],
             [
              -32480,
              null,
              "British Airways"
             ]
            ],
            [
             "13554-11442-2410011110-2410011355--32317",
             [
              null,
              null,
              "London Heathrow",
              "LHR",
              null,
              "United Kingdom",
              null
             ],
             [
              null,
              null,
              "New York Newark",
              "EWR",
              null,
              "United States",
              null
             ],
             "2024-10-01T11:10:00",
             "2024-10-01T13:55:00",
             465,
             "5485",
             [
              -32317,
              null,
              "Finnair"
             ],
             [
              -32480,
              null,
              "British Airways"
             ]
            ]
           ]
          ]
         ],
         false,
         false,
         [
          false,
          false,
          false,
          false
         ],
         [],
         [
          "second_cheapest",
          "second_shortest"
         ],
         false,
         false,
         0.84482
        ],
        [
         "14585-2409302010--32480,-32317-2-12712-2410011915",
         [
          "233503",
          "₹233,503",
          "JjmoYNNIiEOn"
         ],
         [
          [
           "14585-2409302010--32480,-32317-2-12712-2410011915",
           [
            "NCL",
            "95674044",
            "Newcastle",
            "NCL",
            "Newcastle",
            "United Kingdom",
            false
           ],
           [
            "JFK",
            "95565058",
            "New York John F. Kennedy",
            "JFK",
            "New York",
            "United States",
            false
           ],
           1685,
           2,
           false,
           "2024-09-30T20:10:00",
           "2024-10-01T19:15:00",
           1,
           [
            [
             [
              -32480,
              "https://logos.skyscnr.com/images/airlines/favicon/BA.png",
              "British Airways"
             ],
             [
              -32317,
              "https://logos.skyscnr.com/images/airlines/favicon/AY.png",
              "Finnair"
             ]
            ],
            "partially_operated"
           ],
           [
            [
             "14585-13554-2409302010-2409302120--32480",
             [
              null,
              null,
              "Newcastle",
              "NCL",
              null,
              "United Kingdom",
              null
             ],
             [
              null,
              null,
              "London Heathrow",
              "LHR",
              null,
              "United Kingdom",
              null
             ],
             "2024-09-30T20:10:00",
             "2024-09-30T21:20:00",
             70,
             "1337",
             [
              -32480,
              null,
              "British Airways"
             ],
             [
              -32480,
              null,
              "British Airways"
             ]
            ],
            [
             "13554-10081-2410010945-2410011215--32317",
             [
              null,
              null,
              "London Heathrow",
              "LHR",
              null,
              "United Kingdom",
              null
             ],
             [
              null,
              null,
              "Boston Logan International",
              "BOS",
              null,
              "United States",
              null
             ],
             "2024-10-01T09:45:00",
             "2024-10-01T12:15:00",
             450,
             "4186",
             [
              -32317,
              null,
              "Finnair"
             ],
             [
              -32573,
              null,
              "American Airlines"
             ]
            ],
            [
             "10081-12712-2410011750-2410011915--32317",
             [
              null,
              null,
              "Boston Logan International",
              "BOS",
              null,
              "United States",
              null
             ],
             [
              null,
              null,
              "New York John F. Kennedy",
              "JFK",
              null,
              "United States",
              null
             ],
             "2024-10-01T17:50:00",
             "2024-10-01T19:15:00",
             85,
             "4256",
             [
              -32317,
              null,
              "Finnair"
             ],
             [
              -31526,
              null,
              "Republic Airways AS American Eagle"
             ]
            ]
           ]
          ]
         ],
         false,
         false,
         [
          false,
          false,
          false,
          false
         ],
         [],
         [
          "third_cheapest"
         ],
         false,
         false,
         0.727103
        ],
        [
         "14585-2409302010--32480,-32317-2-12712-2410011905",
         [
          "274795",
          "₹274,795",
          "ooOWEvZ2eZK6"
         ],
         [
          [
           "14585-2409302010--32480,-32317-2-12712-2410011905",
           [
            "NCL",
            "95674044",
            "Newcastle",
            "NCL",
            "Newcastle",
            "United Kingdom",
            false
           ],
           [
            "JFK",
            "95565058",
            "New York John F. Kennedy",
            "JFK",
            "New York",
            "United States",
            false
           ],
           1675,
           2,
           false,
           "2024-09-30T20:10:00",
           "2024-10-01T19:05:00",
           1,
           [
            [
             [
              -32480,
              "https://logos.skyscnr.com/images/airlines/favicon/BA.png",
              "British Airways"
             ],
             [
              -32317,
              "https://logos.skyscnr.com/images/airlines/favicon/AY.png",
              "Finnair"
             ]
            ],
            "fully_operated"
           ],
           [
            [
             "14585-13554-2409302010-2409302120--32480",
             [
              null,
              null,
              "Newcastle",
              "NCL",
              null,
              "United Kingdom",
              null
             ],
             [
              null,
              null,
              "London Heathrow",
              "LHR",
              null,
              "United Kingdom",
              null
             ],
             "2024-09-30T20:10:00",
             "2024-09-30T21:20:00",
             70,
             "1337",
             [
              -32480,
              null,
              "British Airways"
             ],
             [
              -32480,
              null,
              "British Airways"
             ]
            ],
            [
             "13554-12126-2410010730-2410011220--32317",
             [
              null,
              null,
              "London Heathrow",
              "LHR",
              null,
              "United Kingdom",
              null
             ],
             [
              null,
              null,
              "Helsinki Vantaa",
              "HEL",
              null,
              "Finland",
              null
             ],
             "2024-10-01T07:30:00",
             "2024-10-01T12:20:00",
             170,
             "1340",
             [
              -32317,
              null,
              "Finnair"
             ],
             [
              -32317,
              null,
              "Finnair"
             ]
            ],
            [
             "12126-12712-2410011720-2410011905--32317",
             [
              null,
              null,
              "Helsinki Vantaa",
              "HEL",
              null,
              "Finland",
              null
             ],
             [
              null,
              null,
              "New York John F. Kennedy",
              "JFK",
              null,
              "United States",
              null
             ],
             "2024-10-01T17:20:00",
             "2024-10-01T19:05:00",
             525,
             "15",
             [
              -32317,
              null,
              "Finnair"
             ],
             [
              -32317,
              null,
              "Finnair"
             ]
            ]
           ]
          ]
         ],
         false,
         false,
         [
          false,
          false,
          false,
          false
         ],
         [],
         [
          "third_shortest"
         ],
         false,
         false,
         0.605021
        ],
        [
         "11442-2409302030--32090-1-10957-2410012330",
         [
          "34075.35",
          "₹34,076",
          "iA7M5TUcMqCN"
         ],
         [
          [
           "11442-2409302030--32090-1-10957-2410012330",
           [
            "EWR",
            "95565059",
            "New York Newark",
            "EWR",
            "New York",
            "United States",
            false
           ],
           [
            "DEL",
            "95673498",
            "Indira Gandhi International ",
            "DEL",
            "New Delhi",
            "India",
            false
           ],
           1050,
           1,
           false,
           "2024-09-30T20:30:00",
           "2024-10-01T23:30:00",
           1,
           [
            [
             [
              -32090,
              "https://logos.skyscnr.com/images/airlines/favicon/LH.png",
              "Lufthansa"
             ]
            ],
            "fully_operated"
           ],
           [
            [
             "11442-14385-2409302030-2410011020--32090",
             [
              null,
              null,
              "New York Newark",
              "EWR",
              null,
              "United States",
              null
             ],
             [
              null,
              null,
              "Munich",
              "MUC",
              null,
              "Germany",
              null
             ],
             "2024-09-30T20:30:00",
             "2024-10-01T10:20:00",
             470,
             "413",
             [
              -32090,
              null,
              "Lufthansa"
             ],
             [
              -32090,
              null,
              "Lufthansa"
             ]
            ],
            [
             "14385-10957-2410011220-2410012330--32090",
             [
              null,
              null,
              "Munich",
              "MUC",
              null,
              "Germany",
              null
             ],
             [
              null,
              null,
              "Indira Gandhi International ",
              "DEL",
              null,
              "India",
              null
             ],
             "2024-10-01T12:20:00",
             "2024-10-01T23:30:00",
             460,
             "762",
             [
              -32090,
              null,
              "Lufthansa"
             ],
             [
              -32090,
              null,
              "Lufthansa"
             ]
            ]
           ]
          ]
         ],
         false,
         false,
         [
          false,
          false,
          false,
          false
         ],
         [],
         [
          "cheapest",
          "second_shortest"
         ],
         false,
         false,
         0.999
        ],
        [
         "11442-2409302150--31799-1-10957-2410012340",
         [
          "36920.54",
          "₹36,921",
          "XcV4D6e6skgv"
         ],
         [
          [
           "11442-2409302150--31799-1-10957-2410012340",
           [
            "EWR",
            "95565059",
            "New York Newark",
            "EWR",
            "New York",
            "United States",
            false
           ],
           [
            "DEL",
            "95673498",
            "Indira Gandhi International ",
            "DEL",
            "New Delhi",
            "India",
            false
           ],
           980,
           1,
           false,
           "2024-09-30T21:50:00",
           "2024-10-01T23:40:00",
           1,
           [
            [
             [
              -31799,
              "https://logos.skyscnr.com/images/airlines/favicon/LX.png",
              "SWISS"
             ]
            ],
            "fully_operated"
           ],
           [
            [
             "11442-18563-2409302150-2410011135--31799",
             [
              null,
              null,
              "New York Newark",
              "EWR",
              null,
              "United States",
              null
             ],
             [
              null,
              null,
              "Zurich",
              "ZRH",
              null,
              "Switzerland",
              null
             ],
             "2024-09-30T21:50:00",
             "2024-10-01T11:35:00",
             465,
             "19",
             [
              -31799,
              null,
              "SWISS"
             ],
             [
              -31799,
              null,
              "SWISS"
             ]
            ],
            [
             "18563-10957-2410011220-2410012340--31799",
             [
              null,
              null,
              "Zurich",
              "ZRH",
              null,
              "Switzerland",
              null
             ],
             [
              null,
              null,
              "Indira Gandhi International ",
              "DEL",
              null,
              "India",
              null
             ],
             "2024-10-01T12:20:00",
             "2024-10-01T23:40:00",
             470,
             "146",
             [
              -31799,
              null,
              "SWISS"
             ],
             [
              -31799,
              null,
              "SWISS"
             ]
            ]
           ]
          ]
         ],
         false,
         false,
         [
          false,
          false,
          false,
          false
         ],
         [],
         [
          "third_cheapest",
          "shortest"
         ],
         false,
         false,
         0.830769
        ],
        [
         "12712-2409301730--32090-1-10957-2410012330",
         [
          "34075.35",
          "₹34,076",
          "KqyPl_bfaLn6"
         ],
         [
          [
           "12712-2409301730--32090-1-10957-2410012330",
           [
            "JFK",
            "95565058",
            "New York John F. Kennedy",
            "JFK",
            "New York",
            "United States",
            false
           ],
           [
            "DEL",
            "95673498",
            "Indira Gandhi International ",
            "DEL",
            "New Delhi",
            "India",
            false
           ],
           1230,
           1,
           false,
           "2024-09-30T17:30:00",
           "2024-10-01T23:30:00",
           1,
           [
            [
             [
              -32090,
              "https://logos.skyscnr.com/images/airlines/favicon/LH.png",
              "Lufthansa"
             ]
            ],
            "fully_operated"
           ],
           [
            [
             "12712-14385-2409301730-2410010730--32090",
             [
              null,
              null,
              "New York John F. Kennedy",
              "JFK",
              null,
              "United States",
              null
             ],
             [
              null,
              null,
              "Munich",
              "MUC",
              null,
              "Germany",
              null
             ],
             "2024-09-30T17:30:00",
             "2024-10-01T07:30:00",
             480,
             "411",
             [
              -32090,
              null,
              "Lufthansa"
             ],
             [
              -32090,
              null,
              "Lufthansa"
             ]
            ],
            [
             "14385-10957-2410011220-2410012330--32090",
             [
              null,
              null,
              "Munich",
              "MUC",
              null,
              "Germany",
              null
             ],
             [
              null,
              null,
              "Indira Gandhi International ",
              "DEL",
              null,
              "India",
              null
             ],
             "2024-10-01T12:20:00",
             "2024-10-01T23:30:00",
             460,
             "762",
             [
              -32090,
              null,
              "Lufthansa"
             ],
             [
              -32090,
              null,
              "Lufthansa"
             ]
            ]
           ]
          ]
         ],
         false,
         false,
         [
          false,
          false,
          false,
          false
         ],
         [],
         [
          "second_cheapest"
         ],
         false,
         false,
         0.677262
        ],
        [
         "12712-2409302030--31799-1-10957-2410012340",
         [
          "36920.54",
          "₹36,921",
          "ewCLPYktyewE"
         ],
         [
          [
           "12712-2409302030--31799-1-10957-2410012340",
           [
            "JFK",
            "95565058",
            "New York John F. Kennedy",
            "JFK",
            "New York",
            "United States",
            false
           ],
           [
            "DEL",
            "95673498",
            "Indira Gandhi International ",
            "DEL",
            "New Delhi",
            "India",
            false
           ],
           1060,
           1,
           false,
           "2024-09-30T20:30:00",
           "2024-10-01T23:40:00",
           1,
           [
            [
             [
              -31799,
              "https://logos.skyscnr.com/images/airlines/favicon/LX.png",
              "SWISS"
             ]
            ],
            "fully_operated"
           ],
           [
            [
             "12712-18563-2409302030-2410011025--31799",
             [
              null,
              null,
              "New York John F. Kennedy",
              "JFK",
              null,
              "United States",
              null
             ],
             [
              null,
              null,
              "Zurich",
              "ZRH",
              null,
              "Switzerland",
              null
             ],
             "2024-09-30T20:30:00",
             "2024-10-01T10:25:00",
             475,
             "15",
             [
              -31799,
              null,
              "SWISS"
             ],
             [
              -31799,
              null,
              "SWISS"
             ]
            ],
            [
             "18563-10957-2410011220-2410012340--31799",
             [
              null,
              null,
              "Zurich",
              "ZRH",
              null,
              "Switzerland",
              null
             ],
             [
              null,
              null,
              "Indira Gandhi International ",
              "DEL",
              null,
              "India",
              null
             ],
             "2024-10-01T12:20:00",
             "2024-10-01T23:40:00",
             470,
             "146",
             [
              -31799,
              null,
              "SWISS"
             ],
             [
              -31799,
              null,
              "SWISS"
             ]
            ]
           ]
          ]
         ],
         false,
         false,
         [
          false,
          false,
          false,
          false
         ],
         [],
         null,
         false,
         false,
         0.54535
        ],
        [
         "12712-2409302150--32090-1-10957-2410020055",
         [
          "43272.01",
          "₹43,273",
          "TLPZuzlBaX8o"
         ],
         [
          [
           "12712-2409302150--32090-1-10957-2410020055",
           [
            "JFK",
            "95565058",
            "New York John F. Kennedy",
            "JFK",
            "New York",
            "United States",
            false
           ],
           [
            "DEL",
            "95673498",
            "Indira Gandhi International ",
            "DEL",
            "New Delhi",
            "India",
            false
           ],
           1055,
           1,
           false,
           "2024-09-30T21:50:00",
           "2024-10-02T00:55:00",
           2,
           [
            [
             [
              -32090,
              "https://logos.skyscnr.com/images/airlines/favicon/LH.png",
              "Lufthansa"
             ]
            ],
            "fully_operated"
           ],
           [
            [
             "12712-11616-2409302150-2410011145--32090",
             [
              null,
              null,
              "New York John F. Kennedy",
              "JFK",
              null,
              "United States",
              null
             ],
             [
              null,
              null,
              "Frankfurt am Main",
              "FRA",
              null,
              "Germany",
              null
             ],
             "2024-09-30T21:50:00",
             "2024-10-01T11:45:00",
             475,
             "405",
             [
              -32090,
              null,
              "Lufthansa"
             ],
             [
              -32090,
              null,
              "Lufthansa"
             ]
            ],
            [
             "11616-10957-2410011320-2410020055--32090",
             [
              null,
              null,
              "Frankfurt am Main",
              "FRA",
              null,
              "Germany",
              null
             ],
             [
              null,
              null,
              "Indira Gandhi International ",
              "DEL",
              null,
              "India",
              null
             ],
             "2024-10-01T13:20:00",
             "2024-10-02T00:55:00",
             485,
             "760",
             [
              -32090,
              null,
              "Lufthansa"
             ],
             [
              -32090,
              null,
              "Lufthansa"
             ]
            ]
           ]
          ]
         ],
         false,
         false,
         [
          false,
          false,
          false,
          false
         ],
         [],
         [
          "third_shortest"
         ],
         false,
         false,
         0.459779
        ],
        [
         "12712-2409301615--31799-1-10957-2410012340",
         [
          "36920.54",
          "₹36,921",
          "3uSZtcCYlWDf"
         ],
         [
          [
           "12712-2409301615--31799-1-10957-2410012340",
           [
            "JFK",
            "95565058",
            "New York John F. Kennedy",
            "JFK",
            "New York",
            "United States",
            false
           ],
           [
            "DEL",
            "95673498",
            "Indira Gandhi International ",
            "DEL",
            "New Delhi",
            "India",
            false
           ],
           1315,
           1,
           false,
           "2024-09-30T16:15:00",
           "2024-10-01T23:40:00",
           1,
           [
            [
             [
              -31799,
              "https://logos.skyscnr.com/images/airlines/favicon/LX.png",
              "SWISS"
             ]
            ],
            "fully_operated"
           ],
           [
            [
             "12712-18563-2409301615-2410010610--31799",
             [
              null,
              null,
              "New York John F. Kennedy",
              "JFK",
              null,
              "United States",
              null
             ],
             [
              null,
              null,
              "Zurich",
              "ZRH",
              null,
              "Switzerland",
              null
             ],
             "2024-09-30T16:15:00",
             "2024-10-01T06:10:00",
             475,
             "17",
             [
              -31799,
              null,
              "SWISS"
             ],
             [
              -31799,
              null,
              "SWISS"
             ]
            ],
            [
             "18563-10957-2410011220-2410012340--31799",
             [
              null,
              null,
              "Zurich",
              "ZRH",
              null,
              "Switzerland",
              null
             ],
             [
              null,
              null,
              "Indira Gandhi International ",
              "DEL",
              null,
              "India",
              null
             ],
             "2024-10-01T12:20:00",
             "2024-10-01T23:40:00",
             470,
             "146",
             [
              -31799,
              null,
              "SWISS"
             ],
             [
              -31799,
              null,
              "SWISS"
             ]
            ]
           ]
          ]
         ],
         false,
         false,
         [
          false,
          false,
          false,
          false
         ],
         [],
         null,
         false,
         false,
         0.42726
        ],
        [
         "12712-2409302235--32339-1-10957-2410020315",
         [
          "67975",
          "₹67,975",
          "Xnpcbc3jmx2p"
         ],
         [
          [
           "12712-2409302235--32339-1-10957-2410020315",
           [
            "JFK",
            "95565058",
            "New York John F. Kennedy",
            "JFK",
            "New York",
            "United States",
            false
           ],
           [
            "DEL",
            "95673498",
            "Indira Gandhi International ",
            "DEL",
            "New Delhi",
            "India",
            false
           ],
           1150,
           1,
           false,
           "2024-09-30T22:35:00",
           "2024-10-02T03:15:00",
           2,
           [
            [
             [
              -32339,
              "https://logos.skyscnr.com/images/airlines/favicon/60.png",
              "Etihad Airways"
             ]
            ],
            "fully_operated"
           ],
           [
            [
             "12712-9618-2409302235-2410011930--32339",
             [
              null,
              null,
              "New York John F. Kennedy",
              "JFK",
              null,
              "United States",
              null
             ],
             [
              null,
              null,
              "Zayed International",
              "AUH",
              null,
              "United Arab Emirates",
              null
             ],
             "2024-09-30T22:35:00",
             "2024-10-01T19:30:00",
             775,
             "4",
             [
              -32339,
              null,
              "Etihad Airways"
             ],
             [
              -32339,
              null,
              "Etihad Airways"
             ]
            ],
            [
             "9618-10957-2410012210-2410020315--32339",
             [
              null,
              null,
              "Zayed International",
              "AUH",
              null,
              "United Arab Emirates",
              null
             ],
             [
              null,
              null,
              "Indira Gandhi International ",
              "DEL",
              null,
              "India",
              null
             ],
             "2024-10-01T22:10:00",
             "2024-10-02T03:15:00",
             215,
             "218",
             [
              -32339,
              null,
              "Etihad Airways"
             ],
             [
              -32339,
              null,
              "Etihad Airways"
             ]
            ]
           ]
          ]
         ],
         false,
         false,
         [
          false,
          false,
          false,
          false
         ],
         [],
         null,
         false,
         false,
         0.425701
        ],
        [
         "11442-2409301930--32090-2-10957-2410012330",
         [
          "55424",
          "₹55,424",
          "sAPCML7G-pHc"
         ],
         [
          [
           "11442-2409301930--32090-2-10957-2410012330",
           [
            "EWR",
            "95565059",
            "New York Newark",
            "EWR",
            "New York",
            "United States",
            false
           ],
           [
            "DEL",
            "95673498",
            "Indira Gandhi International ",
            "DEL",
            "New Delhi",
            "India",
            false
           ],
           1110,
           2,
           false,
           "2024-09-30T19:30:00",
           "2024-10-01T23:30:00",
           1,
           [
            [
             [
              -32090,
              "https://logos.skyscnr.com/images/airlines/favicon/LH.png",
              "Lufthansa"
             ]
            ],
            "partially_operated"
           ],
           [
            [
             "11442-11616-2409301930-2410010910--32090",
             [
              null,
              null,
              "New York Newark",
              "EWR",
              null,
              "United States",
              null
             ],
             [
              null,
              null,
              "Frankfurt am Main",
              "FRA",
              null,
              "Germany",
              null
             ],
             "2024-09-30T19:30:00",
             "2024-10-01T09:10:00",
             460,
             "7602",
             [
              -32090,
              null,
              "Lufthansa"
             ],
             [
              -31722,
              null,
              "United"
             ]
            ],
            [
             "11616-14385-2410011015-2410011110--32090",
             [
              null,
              null,
              "Frankfurt am Main",
              "FRA",
              null,
              "Germany",
              null
             ],
             [
              null,
              null,
              "Munich",
              "MUC",
              null,
              "Germany",
              null
             ],
             "2024-10-01T10:15:00",
             "2024-10-01T11:10:00",
             55,
             "100",
             [
              -32090,
              null,
              "Lufthansa"
             ],
             [
              -32090,
              null,
              "Lufthansa"
             ]
            ],
            [
             "14385-10957-2410011220-2410012330--32090",
             [
              null,
              null,
              "Munich",
              "MUC",
              null,
              "Germany",
              null
             ],
             [
              null,
              null,
              "Indira Gandhi International ",
              "DEL",
              null,
              "India",
              null
             ],
             "2024-10-01T12:20:00",
             "2024-10-01T23:30:00",
             460,
             "762",
             [
              -32090,
              null,
              "Lufthansa"
             ],
             [
              -32090,
              null,
              "Lufthansa"
             ]
            ]
           ]
          ]
         ],
         false,
         false,
         [
          false,
          false,
          false,
          false
         ],
         [],
         null,
         false,
         false,
         0.397172
        ],
        [
         "12712-2409301700--32119-1-10957-2410020145",
         [
          "53201.93",
          "₹53,202",
          "G94Dq7vv6tF3"
         ],
         [
          [
           "12712-2409301700--32119-1-10957-2410020145",
           [
            "JFK",
            "95565058",
            "New York John F. Kennedy",
            "JFK",
            "New York",
            "United States",
            false
           ],
           [
            "DEL",
            "95673498",
            "Indira Gandhi International ",
            "DEL",
            "New Delhi",
            "India",
            false
           ],
           1395,
           1,
           false,
           "2024-09-30T17:00:00",
           "2024-10-02T01:45:00",
           2,
           [
            [
             [
              -32119,
              "https://logos.skyscnr.com/images/airlines/favicon/KU.png",
              "Kuwait Airways"
             ]
            ],
            "fully_operated"
           ],
           [
            [
             "12712-13344-2409301700-2410011215--32119",
             [
              null,
              null,
              "New York John F. Kennedy",
              "JFK",
              null,
              "United States",
              null
             ],
             [
              null,
              null,
              "Kuwait",
              "KWI",
              null,
              "Kuwait",
              null
             ],
             "2024-09-30T17:00:00",
             "2024-10-01T12:15:00",
             735,
             "118",
             [
              -32119,
              null,
              "Kuwait Airways"
             ],
             [
              -32119,
              null,
              "Kuwait Airways"
             ]
            ],
            [
             "13344-10957-2410011900-2410020145--32119",
             [
              null,
              null,
              "Kuwait",
              "KWI",
              null,
              "Kuwait",
              null
             ],
             [
              null,
              null,
              "Indira Gandhi International ",
              "DEL",
              null,
              "India",
              null
             ],
             "2024-10-01T19:00:00",
             "2024-10-02T01:45:00",
             255,
             "381",
             [
              -32119,
              null,
              "Kuwait Airways"
             ],
             [
              -32119,
              null,
              "Kuwait Airways"
             ]
            ]
           ]
          ]
         ],
         false,
         false,
         [
          false,
          false,
          false,
          false
         ],
         [],
         null,
         false,
         false,
         0.388019
        ],
        [
         "12712-2409301925--32213-1-10957-2410020505",
         [
          "39743.83",
          "₹39,744",
          "Vrwe8jbaA1lr"
         ],
         [
          [
           "12712-2409301925--32213-1-10957-2410020505",
           [
            "JFK",
            "95565058",
            "New York John F. Kennedy",
            "JFK",
            "New York",
            "United States",
            false
           ],
           [
            "DEL",
            "95673498",
            "Indira Gandhi International ",
            "DEL",
            "New Delhi",
            "India",
            false
           ],
           1450,
           1,
           false,
           "2024-09-30T19:25:00",
           "2024-10-02T05:05:00",
           2,
           [
            [
             [
              -32213,
              "https://logos.skyscnr.com/images/airlines/favicon/49.png",
              "IndiGo"
             ]
            ],
            "partially_operated"
           ],
           [
            [
             "12712-12585-2409301925-2410011230--32213",
             [
              null,
              null,
              "New York John F. Kennedy",
              "JFK",
              null,
              "United States",
              null
             ],
             [
              null,
              null,
              "Istanbul",
              "IST",
              null,
              "Türkiye (Turkey)",
              null
             ],
             "2024-09-30T19:25:00",
             "2024-10-01T12:30:00",
             605,
             "4236",
             [
              -32213,
              null,
              "IndiGo"
             ],
             [
              -31734,
              null,
              "Turkish Airlines"
             ]
            ],
            [
             "12585-10957-2410012005-2410020505--32213",
             [
              null,
              null,
              "Istanbul",
              "IST",
              null,
              "Türkiye (Turkey)",
              null
             ],
             [
              null,
              null,
              "Indira Gandhi International ",
              "DEL",
              null,
              "India",
              null
             ],
             "2024-10-01T20:05:00",
             "2024-10-02T05:05:00",
             390,
             "12",
             [
              -32213,
              null,
              "IndiGo"
             ],
             [
              -32213,
              null,
              "IndiGo"
             ]
            ]
           ]
          ]
         ],
         false,
         false,
         [
          false,
          false,
          false,
          false
         ],
         [],
         null,
         false,
         false,
         0.387528
        ],
        [
         "11442-2409301800--32090-1-14585-2410011100",
         [
          "39590",
          "₹39,590",
          "R1hwx0f1DQrz"
         ],
         [
          [
           "11442-2409301800--32090-1-14585-2410011100",
           [
            "EWR",
            "95565059",
            "New York Newark",
            "EWR",
            "New York",
            "United States",
            false
           ],
           [
            "NCL",
            "95674044",
            "Newcastle",
            "NCL",
            "Newcastle",
            "United Kingdom",
            false
           ],
           720,
           1,
           false,
           "2024-09-30T18:00:00",
           "2024-10-01T11:00:00",
           1,
           [
            [
             [
              -32090,
              "https://logos.skyscnr.com/images/airlines/favicon/LH.png",
              "Lufthansa"
             ]
            ],
            "partially_operated"
           ],
           [
            [
             "11442-11616-2409301800-2410010730--32090",
             [
              null,
              null,
              "New York Newark",
              "EWR",
              null,
              "United States",
              null
             ],
             [
              null,
              null,
              "Frankfurt am Main",
              "FRA",
              null,
              "Germany",
              null
             ],
             "2024-09-30T18:00:00",
             "2024-10-01T07:30:00",
             450,
             "403",
             [
              -32090,
              null,
              "Lufthansa"
             ],
             [
              -32090,
              null,
              "Lufthansa"
             ]
            ],
            [
             "11616-14585-2410011010-2410011100--32090",
             [
              null,
              null,
              "Frankfurt am Main",
              "FRA",
              null,
              "Germany",
              null
             ],
             [
              null,
              null,
              "Newcastle",
              "NCL",
              null,
              "United Kingdom",
              null
             ],
             "2024-10-01T10:10:00",
             "2024-10-01T11:00:00",
             110,
             "966",
             [
              -32090,
              null,
              "Lufthansa"
             ],
             [
              -32430,
              null,
              "CityJet"
             ]
            ]
           ]
          ]
         ],
         false,
         false,
         [
          false,
          false,
          false,
          false
         ],
         [],
         [
          "cheapest"
         ],
         false,
         false,
         0.999
        ],
        [
         "12712-2409302130--32480-1-14585-2410011215",
         [
          "58795.04",
          "₹58,796",
          "m2ivZoHDe-rB"
         ],
         [
          [
           "12712-2409302130--32480-1-14585-2410011215",
           [
            "JFK",
            "95565058",
            "New York John F. Kennedy",
            "JFK",
            "New York",
            "United States",
            false
           ],
           [
            "NCL",
            "95674044",
            "Newcastle",
            "NCL",
            "Newcastle",
            "United Kingdom",
            false
           ],
           585,
           1,
           false,
           "2024-09-30T21:30:00",
           "2024-10-01T12:15:00",
           1,
           [
            [
             [
              -32480,
              "https://logos.skyscnr.com/images/airlines/favicon/BA.png",
              "British Airways"
             ]
            ],
            "fully_operated"
           ],
           [
            [
             "12712-13554-2409302130-2410010935--32480",
             [
              null,
              null,
              "New York John F. Kennedy",
              "JFK",
              null,
              "United States",
              null
             ],
             [
              null,
              null,
              "London Heathrow",
              "LHR",
              null,
              "United Kingdom",
              null
             ],
             "2024-09-30T21:30:00",
             "2024-10-01T09:35:00",
             425,
             "114",
             [
              -32480,
              null,
              "British Airways"
             ],
             [
              -32480,
              null,
              "British Airways"
             ]
            ],
            [
             "13554-14585-2410011105-2410011215--32480",
             [
              null,
              null,
              "London Heathrow",
              "LHR",
              null,
              "United Kingdom",
              null
             ],
             [
              null,
              null,
              "Newcastle",
              "NCL",
              null,
              "United Kingdom",
              null
             ],
             "2024-10-01T11:05:00",
             "2024-10-01T12:15:00",
             70,
             "1328",
             [
              -32480,
              null,
              "British Airways"
             ],
             [
              -32480,
              null,
              "British Airways"
             ]
            ]
           ]
          ]
         ],
         false,
         false,
         [
          false,
          false,
          false,
          false
         ],
         [],
         [
          "second_shortest"
         ],
         false,
         false,
         0.89282
        ],
        [
         "12712-2409301920--32480-1-14585-2410011030",
         [
          "58795.04",
          "₹58,796",
          "eWezkK8qC3gl"
         ],
         [
          [
           "12712-2409301920--32480-1-14585-2410011030",
           [
            "JFK",
            "95565058",
            "New York John F. Kennedy",
            "JFK",
            "New York",
            "United States",
            false
           ],
           [
            "NCL",
            "95674044",
            "Newcastle",
            "NCL",
            "Newcastle",
            "United Kingdom",
            false
           ],
           610,
           1,
           false,
           "2024-09-30T19:20:00",
           "2024-10-01T10:30:00",
           1,
           [
            [
             [
              -32480,
              "https://logos.skyscnr.com/images/airlines/favicon/BA.png",
              "British Airways"
             ]
            ],
            "partially_operated"
           ],
           [
            [
             "12712-13554-2409301920-2410010740--32480",
             [
              null,
              null,
              "New York John F. Kennedy",
              "JFK",
              null,
              "United States",
              null
             ],
             [
              null,
              null,
              "London Heathrow",
              "LHR",
              null,
              "United Kingdom",
              null
             ],
             "2024-09-30T19:20:00",
             "2024-10-01T07:40:00",
             440,
             "1517",
             [
              -32480,
              null,
              "British Airways"
             ],
             [
              -32573,
              null,
              "American Airlines"
             ]
            ],
            [
             "13554-14585-2410010915-2410011030--32480",
             [
              null,
              null,
              "London Heathrow",
              "LHR",
              null,
              "United Kingdom",
              null
             ],
             [
              null,
              null,
              "Newcastle",
              "NCL",
              null,
              "United Kingdom",
              null
             ],
             "2024-10-01T09:15:00",
             "2024-10-01T10:30:00",
             75,
             "1326",
             [
              -32480,
              null,
              "British Airways"
             ],
             [
              -32480,
              null,
              "British Airways"
             ]
            ]
           ]
          ]
         ],
         false,
         false,
         [
          false,
          false,
          false,
          false
         ],
         [],
         null,
         false,
         false,
         0.733624
        ],
        [
         "12712-2409301545--32090-1-14585-2410011100",
         [
          "39590",
          "₹39,590",
          "epKIKvnr22LB"
         ],
         [
          [
           "12712-2409301545--32090-1-14585-2410011100",
           [
            "JFK",
            "95565058",
            "New York John F. Kennedy",
            "JFK",
            "New York",
            "United States",
            false
           ],
           [
            "NCL",
            "95674044",
            "Newcastle",
            "NCL",
            "Newcastle",
            "United Kingdom",
            false
           ],
           855,
           1,
           false,
           "2024-09-30T15:45:00",
           "2024-10-01T11:00:00",
           1,
           [
            [
             [
              -32090,
              "https://logos.skyscnr.com/images/airlines/favicon/LH.png",
              "Lufthansa"
             ]
            ],
            "partially_operated"
           ],
           [
            [
             "12712-11616-2409301545-2410010525--32090",
             [
              null,
              null,
              "New York John F. Kennedy",
              "JFK",
              null,
              "United States",
              null
             ],
             [
              null,
              null,
              "Frankfurt am Main",
              "FRA",
              null,
              "Germany",
              null
             ],
             "2024-09-30T15:45:00",
             "2024-10-01T05:25:00",
             460,
             "401",
             [
              -32090,
              null,
              "Lufthansa"
             ],
             [
              -32090,
              null,
              "Lufthansa"
             ]
            ],
            [
             "11616-14585-2410011010-2410011100--32090",
             [
              null,
              null,
              "Frankfurt am Main",
              "FRA",
              null,
              "Germany",
              null
             ],
             [
              null,
              null,
              "Newcastle",
              "NCL",
              null,
              "United Kingdom",
              null
             ],
             "2024-10-01T10:10:00",
             "2024-10-01T11:00:00",
             110,
             "966",
             [
              -32090,
              null,
              "Lufthansa"
             ],
             [
              -32430,
              null,
              "CityJet"
             ]
            ]
           ]
          ]
         ],
         false,
         false,
         [
          false,
          false,
          false,
          false
         ],
         [],
         [
          "second_cheapest"
         ],
         false,
         false,
         0.670673
        ],
        [
         "11442-2409302115--32480-1-14585-2410011215",
         [
          "58795.04",
          "₹58,796",
          "2dWF-Asgdlsz"
         ],
         [
          [
           "11442-2409302115--32480-1-14585-2410011215",
           [
            "EWR",
            "95565059",
            "New York Newark",
            "EWR",
            "New York",
            "United States",
            false
           ],
           [
            "NCL",
            "95674044",
            "Newcastle",
            "NCL",
            "Newcastle",
            "United Kingdom",
            false
           ],
           600,
           1,
           false,
           "2024-09-30T21:15:00",
           "2024-10-01T12:15:00",
           1,
           [
            [
             [
              -32480,
              "https://logos.skyscnr.com/images/airlines/favicon/BA.png",
              "British Airways"
             ]
            ],
            "fully_operated"
           ],
           [
            [
             "11442-13554-2409302115-2410010920--32480",
             [
              null,
              null,
              "New York Newark",
              "EWR",
              null,
              "United States",
              null
             ],
             [
              null,
              null,
              "London Heathrow",
              "LHR",
              null,
              "United Kingdom",
              null
             ],
             "2024-09-30T21:15:00",
             "2024-10-01T09:20:00",
             425,
             "188",
             [
              -32480,
              null,
              "British Airways"
             ],
             [
              -32480,
              null,
              "British Airways"
             ]
            ],
            [
             "13554-14585-2410011105-2410011215--32480",
             [
              null,
              null,
              "London Heathrow",
              "LHR",
              null,
              "United Kingdom",
              null
             ],
             [
              null,
              null,
              "Newcastle",
              "NCL",
              null,
              "United Kingdom",
              null
             ],
             "2024-10-01T11:05:00",
             "2024-10-01T12:15:00",
             70,
             "1328",
             [
              -32480,
              null,
              "British Airways"
             ],
             [
              -32480,
              null,
              "British Airways"
             ]
            ]
           ]
          ]
         ],
         false,
         false,
         [
          false,
          false,
          false,
          false
         ],
         [],
         [
          "third_shortest"
         ],
         false,
         false,
         0.623404
        ],
        [
         "11442-2409301930--32090-1-14585-2410011100",
         [
          "47958.21",
          "₹47,959",
          "Kq3BGe71IOhq"
         ],
         [
          [
           "11442-2409301930--32090-1-14585-2410011100",
           [
            "EWR",
            "95565059",
            "New York Newark",
            "EWR",
            "New York",
            "United States",
            false
           ],
           [
            "NCL",
            "95674044",
            "Newcastle",
            "NCL",
            "Newcastle",
            "United Kingdom",
            false
           ],
           630,
           1,
           false,
           "2024-09-30T19:30:00",
           "2024-10-01T11:00:00",
           1,
           [
            [
             [
              -32090,
              "https://logos.skyscnr.com/images/airlines/favicon/LH.png",
              "Lufthansa"
             ]
            ],
            "not_operated"
           ],
           [
            [
             "11442-11616-2409301930-2410010910--32090",
             [
              null,
              null,
              "New York Newark",
              "EWR",
              null,
              "United States",
              null
             ],
             [
              null,
              null,
              "Frankfurt am Main",
              "FRA",
              null,
              "Germany",
              null
             ],
             "2024-09-30T19:30:00",
             "2024-10-01T09:10:00",
             460,
             "7602",
             [
              -32090,
              null,
              "Lufthansa"
             ],
             [
              -31722,
              null,
              "United"
             ]
            ],
            [
             "11616-14585-2410011010-2410011100--32090",
             [
              null,
              null,
              "Frankfurt am Main",
              "FRA",
              null,
              "Germany",
              null
             ],
             [
              null,
              null,
              "Newcastle",
              "NCL",
              null,
              "United Kingdom",
              null
             ],
             "2024-10-01T10:10:00",
             "2024-10-01T11:00:00",
             110,
             "966",
             [
              -32090,
              null,
              "Lufthansa"
             ],
             [
              -32430,
              null,
              "CityJet"
             ]
            ]
           ]
          ]
         ],
         false,
         false,
         [
          false,
          false,
          false,
          false
         ],
         [],
         [
          "third_cheapest"
         ],
         false,
         false,
         0.617807
        ],
        [
         "12712-2409302055--32480-1-14585-2410011215",
         [
          "58795.04",
          "₹58,796",
          "pjPRvLdKdV4b"
         ],
         [
          [
           "12712-2409302055--32480-1-14585-2410011215",
           [
            "JFK",
            "95565058",
            "New York John F. Kennedy",
            "JFK",
            "New York",
            "United States",
            false
           ],
           [
            "NCL",
            "95674044",
            "Newcastle",
            "NCL",
            "Newcastle",
            "United Kingdom",
            false
           ],
           620,
           1,
           false,
           "2024-09-30T20:55:00",
           "2024-10-01T12:15:00",
           1,
           [
            [
             [
              -32480,
              "https://logos.skyscnr.com/images/airlines/favicon/BA.png",
              "British Airways"
             ]
            ],
            "fully_operated"
           ],
           [
            [
             "12712-13554-2409302055-2410010905--32480",
             [
              null,
              null,
              "New York John F. Kennedy",
              "JFK",
              null,
              "United States",
              null
             ],
             [
              null,
              null,
              "London Heathrow",
              "LHR",
              null,
              "United Kingdom",
              null
             ],
             "2024-09-30T20:55:00",
             "2024-10-01T09:05:00",
             430,
             "172",
             [
              -32480,
              null,
              "British Airways"
             ],
             [
              -32480,
              null,
              "British Airways"
             ]
            ],
            [
             "13554-14585-2410011105-2410011215--32480",
             [
              null,
              null,
              "London Heathrow",
              "LHR",
              null,
              "United Kingdom",
              null
             ],
             [
              null,
              null,
              "Newcastle",
              "NCL",
              null,
              "United Kingdom",
              null
             ],
             "2024-10-01T11:05:00",
             "2024-10-01T12:15:00",
             70,
             "1328",
             [
              -32480,
              null,
              "British Airways"
             ],
             [
              -32480,
              null,
              "British Airways"
             ]
            ]
           ]
          ]
         ],
         false,
         false,
         [
          false,
          false,
          false,
          false
         ],
         [],
         null,
         false,
         false,
         0.611178
        ],
        [
         "12712-2409301655--32480-1-14585-2410010755",
         [
          "65606.76",
          "₹65,607",
          "wTMws6JY7SbC"
         ],
         [
          [
           "12712-2409301655--32480-1-14585-2410010755",
           [
            "JFK",
            "95565058",
            "New York John F. Kennedy",
            "JFK",
            "New York",
            "United States",
            false
           ],
           [
            "NCL",
            "95674044",
            "Newcastle",
            "NCL",
            "Newcastle",
            "United Kingdom",
            false
           ],
           600,
           1,
           false,
           "2024-09-30T16:55:00",
           "2024-10-01T07:55:00",
           1,
           [
            [
             [
              -32480,
              "https://logos.skyscnr.com/images/airlines/favicon/BA.png",
              "British Airways"
             ]
            ],
            "not_operated"
           ],
           [
            [
             "12712-11154-2409301655-2410010425--32480",
             [
              null,
              null,
              "New York John F. Kennedy",
              "JFK",
              null,
              "United States",
              null
             ],
             [
              null,
              null,
              "Dublin",
              "DUB",
              null,
              "Ireland",
              null
             ],
             "2024-09-30T16:55:00",
             "2024-10-01T04:25:00",
             390,
             "6124",
             [
              -32480,
              null,
              "British Airways"
             ],
             [
              -32753,
              null,
              "Aer Lingus"
             ]
            ],
            [
             "11154-14585-2410010635-2410010755--32480",
             [
              null,
              null,
              "Dublin",
              "DUB",
              null,
              "Ireland",
              null
             ],
             [
              null,
              null,
              "Newcastle",
              "NCL",
              null,
              "United Kingdom",
              null
             ],
             "2024-10-01T06:35:00",
             "2024-10-01T07:55:00",
             80,
             "8964",
             [
              -32480,
              null,
              "British Airways"
             ],
             [
              -30651,
              null,
              "Emerald Airlines"
             ]
            ]
           ]
          ]
         ],
         false,
         false,
         [
          false,
          false,
          false,
          false
         ],
         [],
         null,
         false,
         false,
         0.594187
        ],
        [
         "11442-2409301720--32480-1-14585-2410010755",
         [
          "65606.76",
          "₹65,607",
          "nSmc9Y7P9yOx"
         ],
         [
          [
           "11442-2409301720--32480-1-14585-2410010755",
           [
            "EWR",
            "95565059",
            "New York Newark",
            "EWR",
            "New York",
            "United States",
            false
           ],
           [
            "NCL",
            "95674044",
            "Newcastle",
            "NCL",
            "Newcastle",
            "United Kingdom",
            false
           ],
           575,
           1,
           false,
           "2024-09-30T17:20:00",
           "2024-10-01T07:55:00",
           1,
           [
            [
             [
              -32480,
              "https://logos.skyscnr.com/images/airlines/favicon/BA.png",
              "British Airways"
             ]
            ],
            "not_operated"
           ],
           [
            [
             "11442-11154-2409301720-2410010450--32480",
             [
              null,
              null,
              "New York Newark",
              "EWR",
              null,
              "United States",
              null
             ],
             [
              null,
              null,
              "Dublin",
              "DUB",
              null,
              "Ireland",
              null
             ],
             "2024-09-30T17:20:00",
             "2024-10-01T04:50:00",
             390,
             "6132",
             [
              -32480,
              null,
              "British Airways"
             ],
             [
              -32753,
              null,
              "Aer Lingus"
             ]
            ],
            [
             "11154-14585-2410010635-2410010755--32480",
             [
              null,
              null,
              "Dublin",
              "DUB",
              null,
              "Ireland",
              null
             ],
             [
              null,
              null,
              "Newcastle",
              "NCL",
              null,
              "United Kingdom",
              null
             ],
             "2024-10-01T06:35:00",
             "2024-10-01T07:55:00",
             80,
             "8964",
             [
              -32480,
              null,
              "British Airways"
             ],
             [
              -30651,
              null,
              "Emerald Airlines"
             ]
            ]
           ]
          ]
         ],
         false,
         false,
         [
          false,
          false,
          false,
          false
         ],
         [],
         [
          "shortest"
         ],
         false,
         false,
         0.591286
        ],
        [
         "12712-2409302010--32480-1-14585-2410011215",
         [
          "58795.04",
          "₹58,796",
          "KYLJ19Ne4Y5Q"
         ],
         [
          [
           "12712-2409302010--32480-1-14585-2410011215",
           [
            "JFK",
            "95565058",
            "New York John F. Kennedy",
            "JFK",
            "New York",
            "United States",
            false
           ],
           [
            "NCL",
            "95674044",
            "Newcastle",
            "NCL",
            "Newcastle",
            "United Kingdom",
            false
           ],
           665,
           1,
           false,
           "2024-09-30T20:10:00",
           "2024-10-01T12:15:00",
           1,
           [
            [
             [
              -32480,
              "https://logos.skyscnr.com/images/airlines/favicon/BA.png",
              "British Airways"
             ]
            ],
            "fully_operated"
           ],
           [
            [
             "12712-13554-2409302010-2410010820--32480",
             [
              null,
              null,
              "New York John F. Kennedy",
              "JFK",
              null,
              "United States",
              null
             ],
             [
              null,
              null,
              "London Heathrow",
              "LHR",
              null,
              "United Kingdom",
              null
             ],
             "2024-09-30T20:10:00",
             "2024-10-01T08:20:00",
             430,
             "116",
             [
              -32480,
              null,
              "British Airways"
             ],
             [
              -32480,
              null,
              "British Airways"
             ]
            ],
            [
             "13554-14585-2410011105-2410011215--32480",
             [
              null,
              null,
              "London Heathrow",
              "LHR",
              null,
              "United Kingdom",
              null
             ],
             [
              null,
              null,
              "Newcastle",
              "NCL",
              null,
              "United Kingdom",
              null
             ],
             "2024-10-01T11:05:00",
             "2024-10-01T12:15:00",
             70,
             "1328",
             [
              -32480,
              null,
              "British Airways"
             ],
             [
              -32480,
              null,
              "British Airways"
             ]
            ]
           ]
          ]
         ],
         false,
         false,
         [
          false,
          false,
          false,
          false
         ],
         [],
         null,
         false,
         false,
         0.556045
        ],
        [
         "12712-2409302105--32753-1-14773-2410011245",
         [
          "76051.96",
          "₹76,052",
          "zdiLNtD5ZNfa"
         ],
         [
          [
           "12712-2409302105--32753-1-14773-2410011245",
           [
            "JFK",
            "95565058",
            "New York John F. Kennedy",
            "JFK",
            "New York",
            "United States",
            false
           ],
           [
            "NQY",
            "95673963",
            "Newquay",
            "NQY",
            "Newquay",
            "United Kingdom",
            false
           ],
           640,
           1,
           false,
           "2024-09-30T21:05:00",
           "2024-10-01T12:45:00",
           1,
           [
            [
             [
              -32753,
              "https://logos.skyscnr.com/images/airlines/favicon/EI.png",
              "Aer Lingus"
             ]
            ],
            "partially_operated"
           ],
           [
            [
             "12712-11154-2409302105-2410010850--32753",
             [
              null,
              null,
              "New York John F. Kennedy",
              "JFK",
              null,
              "United States",
              null
             ],
             [
              null,
              null,
              "Dublin",
              "DUB",
              null,
              "Ireland",
              null
             ],
             "2024-09-30T21:05:00",
             "2024-10-01T08:50:00",
             405,
             "106",
             [
              -32753,
              null,
              "Aer Lingus"
             ],
             [
              -32753,
              null,
              "Aer Lingus"
             ]
            ],
            [
             "11154-14773-2410011125-2410011245--32753",
             [
              null,
              null,
              "Dublin",
              "DUB",
              null,
              "Ireland",
              null
             ],
             [
              null,
              null,
              "Newquay",
              "NQY",
              null,
              "United Kingdom",
              null
             ],
             "2024-10-01T11:25:00",
             "2024-10-01T12:45:00",
             80,
             "3930",
             [
              -32753,
              null,
              "Aer Lingus"
             ],
             [
              -30651,
              null,
              "Emerald Airlines"
             ]
            ]
           ]
          ]
         ],
         false,
         false,
         [
          false,
          false,
          false,
          false
         ],
         [],
         [
          "third_cheapest",
          "shortest"
         ],
         false,
         false,
         0.999
        ],
        [
         "12712-2409301655--32753-1-14773-2410011245",
         [
          "76051.96",
          "₹76,052",
          "ts12X1DFpT5C"
         ],
         [
          [
           "12712-2409301655--32753-1-14773-2410011245",
           [
            "JFK",
            "95565058",
            "New York John F. Kennedy",
            "JFK",
            "New York",
            "United States",
            false
           ],
           [
            "NQY",
            "95673963",
            "Newquay",
            "NQY",
            "Newquay",
            "United Kingdom",
            false
           ],
           890,
           1,
           false,
           "2024-09-30T16:55:00",
           "2024-10-01T12:45:00",
           1,
           [
            [
             [
              -32753,
              "https://logos.skyscnr.com/images/airlines/favicon/EI.png",
              "Aer Lingus"
             ]
            ],
            "partially_operated"
           ],
           [
            [
             "12712-11154-2409301655-2410010425--32753",
             [
              null,
              null,
              "New York John F. Kennedy",
              "JFK",
              null,
              "United States",
              null
             ],
             [
              null,
              null,
              "Dublin",
              "DUB",
              null,
              "Ireland",
              null
             ],
             "2024-09-30T16:55:00",
             "2024-10-01T04:25:00",
             390,
             "104",
             [
              -32753,
              null,
              "Aer Lingus"
             ],
             [
              -32753,
              null,
              "Aer Lingus"
             ]
            ],
            [
             "11154-14773-2410011125-2410011245--32753",
             [
              null,
              null,
              "Dublin",
              "DUB",
              null,
              "Ireland",
              null
             ],
             [
              null,
              null,
              "Newquay",
              "NQY",
              null,
              "United Kingdom",
              null
             ],
             "2024-10-01T11:25:00",
             "2024-10-01T12:45:00",
             80,
             "3930",
             [
              -32753,
              null,
              "Aer Lingus"
             ],
             [
              -30651,
              null,
              "Emerald Airlines"
             ]
            ]
           ]
          ]
         ],
         false,
         false,
         [
          false,
          false,
          false,
          false
         ],
         [],
         [
          "second_shortest"
         ],
         false,
         false,
         0.652773
        ],
        [
         "12712-2409302315--32480-3-14773-2410020945",
         [
          "69445",
          "₹69,445",
          "brDDsdYc517g"
         ],
         [
          [
           "12712-2409302315--32480-3-14773-2410020945",
           [
            "JFK",
            "95565058",
            "New York John F. Kennedy",
            "JFK",
            "New York",
            "United States",
            false
           ],
           [
            "NQY",
            "95673963",
            "Newquay",
            "NQY",
            "Newquay",
            "United Kingdom",
            false
           ],
           1770,
           3,
           false,
           "2024-09-30T23:15:00",
           "2024-10-02T09:45:00",
           2,
           [
            [
             [
              -32480,
              "https://logos.skyscnr.com/images/airlines/favicon/BA.png",
              "British Airways"
             ]
            ],
            "partially_operated"
           ],
           [
            [
             "12712-13554-2409302315-2410011115--32480",
             [
              null,
              null,
              "New York John F. Kennedy",
              "JFK",
              null,
              "United States",
              null
             ],
             [
              null,
              null,
              "London Heathrow",
              "LHR",
              null,
              "United Kingdom",
              null
             ],
             "2024-09-30T23:15:00",
             "2024-10-01T11:15:00",
             420,
             "182",
             [
              -32480,
              null,
              "British Airways"
             ],
             [
              -32480,
              null,
              "British Airways"
             ]
            ],
            [
             "13554-9226-2410011635-2410011810--32480",
             [
              null,
              null,
              "London Heathrow",
              "LHR",
              null,
              "United Kingdom",
              null
             ],
             [
              null,
              null,
              "Aberdeen",
              "ABZ",
              null,
              "United Kingdom",
              null
             ],
             "2024-10-01T16:35:00",
             "2024-10-01T18:10:00",
             95,
             "1314",
             [
              -32480,
              null,
              "British Airways"
             ],
             [
              -32480,
              null,
              "British Airways"
             ]
            ],
            [
             "9226-13880-2410020640-2410020755--32480",
             [
              null,
              null,
              "Aberdeen",
              "ABZ",
              null,
              "United Kingdom",
              null
             ],
             [
              null,
              null,
              "Manchester",
              "MAN",
              null,
              "United Kingdom",
              null
             ],
             "2024-10-02T06:40:00",
             "2024-10-02T07:55:00",
             75,
             "7821",
             [
              -32480,
              null,
              "British Airways"
             ],
             [
              -32094,
              null,
              "Loganair"
             ]
            ],
            [
             "13880-14773-2410020835-2410020945--32480",
             [
              null,
              null,
              "Manchester",
              "MAN",
              null,
              "United Kingdom",
              null
             ],
             [
              null,
              null,
              "Newquay",
              "NQY",
              null,
              "United Kingdom",
              null
             ],
             "2024-10-02T08:35:00",
             "2024-10-02T09:45:00",
             70,
             "7821",
             [
              -32480,
              null,
              "British Airways"
             ],
             [
              -32094,
              null,
              "Loganair"
             ]
            ]
           ]
          ]
         ],
         false,
         false,
         [
          false,
          false,
          false,
          false
         ],
         [],
         [
          "cheapest",
          "third_shortest"
         ],
         false,
         false,
         0.475474
        ],
        [
         "12712-2409302315--32480-2-14773-2410020945",
         [
          "71671",
          "₹71,671",
          "5tjOPHKzOp0b"
         ],
         [
          [
           "12712-2409302315--32480-2-14773-2410020945",
           [
            "JFK",
            "95565058",
            "New York John F. Kennedy",
            "JFK",
            "New York",
            "United States",
            false
           ],
           [
            "NQY",
            "95673963",
            "Newquay",
            "NQY",
            "Newquay",
            "United Kingdom",
            false
           ],
           1770,
           2,
           false,
           "2024-09-30T23:15:00",
           "2024-10-02T09:45:00",
           2,
           [
            [
             [
              -32480,
              "https://logos.skyscnr.com/images/airlines/favicon/BA.png",
              "British Airways"
             ]
            ],
            "partially_operated"
           ],
           [
            [
             "12712-13554-2409302315-2410011115--32480",
             [
              null,
              null,
              "New York John F. Kennedy",
              "JFK",
              null,
              "United States",
              null
             ],
             [
              null,
              null,
              "London Heathrow",
              "LHR",
              null,
              "United Kingdom",
              null
             ],
             "2024-09-30T23:15:00",
             "2024-10-01T11:15:00",
             420,
             "182",
             [
              -32480,
              null,
              "British Airways"
             ],
             [
              -32480,
              null,
              "British Airways"
             ]
            ],
            [
             "13554-13880-2410011415-2410011515--32480",
             [
              null,
              null,
              "London Heathrow",
              "LHR",
              null,
              "United Kingdom",
              null
             ],
             [
              null,
              null,
              "Manchester",
              "MAN",
              null,
              "United Kingdom",
              null
             ],
             "2024-10-01T14:15:00",
             "2024-10-01T15:15:00",
             60,
             "1394",
             [
              -32480,
              null,
              "British Airways"
             ],
             [
              -32480,
              null,
              "British Airways"
             ]
            ],
            [
             "13880-14773-2410020835-2410020945--32480",
             [
              null,
              null,
              "Manchester",
              "MAN",
              null,
              "United Kingdom",
              null
             ],
             [
              null,
              null,
              "Newquay",
              "NQY",
              null,
              "United Kingdom",
              null
             ],
             "2024-10-02T08:35:00",
             "2024-10-02T09:45:00",
             70,
             "7821",
             [
              -32480,
              null,
              "British Airways"
             ],
             [
              -32094,
              null,
              "Loganair"
             ]
            ]
           ]
          ]
         ],
         false,
         false,
         [
          false,
          false,
          false,
          false
         ],
         [],
         [
          "second_cheapest"
         ],
         false,
         false,
         0.350327
        ]
       ],
       "datasetInfos": [],
       "dbfsResultPath": null,
       "isJsonSchema": true,
       "metadata": {},
       "overflow": false,
       "plotOptions": {
        "customPlotOptions": {},
        "displayType": "table",
        "pivotAggregation": null,
        "pivotColumns": null,
        "xColumns": null,
        "yColumns": null
       },
       "removedWidgets": [],
       "schema": [
        {
         "metadata": "{}",
         "name": "id",
         "type": "\"string\""
        },
        {
         "metadata": "{}",
         "name": "price",
         "type": "{\"type\":\"struct\",\"fields\":[{\"name\":\"raw\",\"type\":\"string\",\"nullable\":true,\"metadata\":{}},{\"name\":\"formatted\",\"type\":\"string\",\"nullable\":true,\"metadata\":{}},{\"name\":\"pricingOptionId\",\"type\":\"string\",\"nullable\":true,\"metadata\":{}}]}"
        },
        {
         "metadata": "{}",
         "name": "legs",
         "type": "{\"type\":\"array\",\"elementType\":{\"type\":\"struct\",\"fields\":[{\"name\":\"id\",\"type\":\"string\",\"nullable\":true,\"metadata\":{}},{\"name\":\"origin\",\"type\":{\"type\":\"struct\",\"fields\":[{\"name\":\"id\",\"type\":\"string\",\"nullable\":true,\"metadata\":{}},{\"name\":\"entityId\",\"type\":\"string\",\"nullable\":true,\"metadata\":{}},{\"name\":\"name\",\"type\":\"string\",\"nullable\":true,\"metadata\":{}},{\"name\":\"displayCode\",\"type\":\"string\",\"nullable\":true,\"metadata\":{}},{\"name\":\"city\",\"type\":\"string\",\"nullable\":true,\"metadata\":{}},{\"name\":\"country\",\"type\":\"string\",\"nullable\":true,\"metadata\":{}},{\"name\":\"isHighlighted\",\"type\":\"boolean\",\"nullable\":true,\"metadata\":{}}]},\"nullable\":true,\"metadata\":{}},{\"name\":\"destination\",\"type\":{\"type\":\"struct\",\"fields\":[{\"name\":\"id\",\"type\":\"string\",\"nullable\":true,\"metadata\":{}},{\"name\":\"entityId\",\"type\":\"string\",\"nullable\":true,\"metadata\":{}},{\"name\":\"name\",\"type\":\"string\",\"nullable\":true,\"metadata\":{}},{\"name\":\"displayCode\",\"type\":\"string\",\"nullable\":true,\"metadata\":{}},{\"name\":\"city\",\"type\":\"string\",\"nullable\":true,\"metadata\":{}},{\"name\":\"country\",\"type\":\"string\",\"nullable\":true,\"metadata\":{}},{\"name\":\"isHighlighted\",\"type\":\"boolean\",\"nullable\":true,\"metadata\":{}}]},\"nullable\":true,\"metadata\":{}},{\"name\":\"durationInMinutes\",\"type\":\"integer\",\"nullable\":true,\"metadata\":{}},{\"name\":\"stopCount\",\"type\":\"integer\",\"nullable\":true,\"metadata\":{}},{\"name\":\"isSmallestStops\",\"type\":\"boolean\",\"nullable\":true,\"metadata\":{}},{\"name\":\"departure\",\"type\":\"string\",\"nullable\":true,\"metadata\":{}},{\"name\":\"arrival\",\"type\":\"string\",\"nullable\":true,\"metadata\":{}},{\"name\":\"timeDeltaInDays\",\"type\":\"integer\",\"nullable\":true,\"metadata\":{}},{\"name\":\"carriers\",\"type\":{\"type\":\"struct\",\"fields\":[{\"name\":\"marketing\",\"type\":{\"type\":\"array\",\"elementType\":{\"type\":\"struct\",\"fields\":[{\"name\":\"id\",\"type\":\"integer\",\"nullable\":true,\"metadata\":{}},{\"name\":\"logoUrl\",\"type\":\"string\",\"nullable\":true,\"metadata\":{}},{\"name\":\"name\",\"type\":\"string\",\"nullable\":true,\"metadata\":{}}]},\"containsNull\":true},\"nullable\":true,\"metadata\":{}},{\"name\":\"operationType\",\"type\":\"string\",\"nullable\":true,\"metadata\":{}}]},\"nullable\":true,\"metadata\":{}},{\"name\":\"segments\",\"type\":{\"type\":\"array\",\"elementType\":{\"type\":\"struct\",\"fields\":[{\"name\":\"id\",\"type\":\"string\",\"nullable\":true,\"metadata\":{}},{\"name\":\"origin\",\"type\":{\"type\":\"struct\",\"fields\":[{\"name\":\"id\",\"type\":\"string\",\"nullable\":true,\"metadata\":{}},{\"name\":\"entityId\",\"type\":\"string\",\"nullable\":true,\"metadata\":{}},{\"name\":\"name\",\"type\":\"string\",\"nullable\":true,\"metadata\":{}},{\"name\":\"displayCode\",\"type\":\"string\",\"nullable\":true,\"metadata\":{}},{\"name\":\"city\",\"type\":\"string\",\"nullable\":true,\"metadata\":{}},{\"name\":\"country\",\"type\":\"string\",\"nullable\":true,\"metadata\":{}},{\"name\":\"isHighlighted\",\"type\":\"boolean\",\"nullable\":true,\"metadata\":{}}]},\"nullable\":true,\"metadata\":{}},{\"name\":\"destination\",\"type\":{\"type\":\"struct\",\"fields\":[{\"name\":\"id\",\"type\":\"string\",\"nullable\":true,\"metadata\":{}},{\"name\":\"entityId\",\"type\":\"string\",\"nullable\":true,\"metadata\":{}},{\"name\":\"name\",\"type\":\"string\",\"nullable\":true,\"metadata\":{}},{\"name\":\"displayCode\",\"type\":\"string\",\"nullable\":true,\"metadata\":{}},{\"name\":\"city\",\"type\":\"string\",\"nullable\":true,\"metadata\":{}},{\"name\":\"country\",\"type\":\"string\",\"nullable\":true,\"metadata\":{}},{\"name\":\"isHighlighted\",\"type\":\"boolean\",\"nullable\":true,\"metadata\":{}}]},\"nullable\":true,\"metadata\":{}},{\"name\":\"departure\",\"type\":\"string\",\"nullable\":true,\"metadata\":{}},{\"name\":\"arrival\",\"type\":\"string\",\"nullable\":true,\"metadata\":{}},{\"name\":\"durationInMinutes\",\"type\":\"integer\",\"nullable\":true,\"metadata\":{}},{\"name\":\"flightNumber\",\"type\":\"string\",\"nullable\":true,\"metadata\":{}},{\"name\":\"marketingCarrier\",\"type\":{\"type\":\"struct\",\"fields\":[{\"name\":\"id\",\"type\":\"integer\",\"nullable\":true,\"metadata\":{}},{\"name\":\"logoUrl\",\"type\":\"string\",\"nullable\":true,\"metadata\":{}},{\"name\":\"name\",\"type\":\"string\",\"nullable\":true,\"metadata\":{}}]},\"nullable\":true,\"metadata\":{}},{\"name\":\"operatingCarrier\",\"type\":{\"type\":\"struct\",\"fields\":[{\"name\":\"id\",\"type\":\"integer\",\"nullable\":true,\"metadata\":{}},{\"name\":\"logoUrl\",\"type\":\"string\",\"nullable\":true,\"metadata\":{}},{\"name\":\"name\",\"type\":\"string\",\"nullable\":true,\"metadata\":{}}]},\"nullable\":true,\"metadata\":{}}]},\"containsNull\":true},\"nullable\":true,\"metadata\":{}}]},\"containsNull\":true}"
        },
        {
         "metadata": "{}",
         "name": "isSelfTransfer",
         "type": "\"boolean\""
        },
        {
         "metadata": "{}",
         "name": "isProtectedSelfTransfer",
         "type": "\"boolean\""
        },
        {
         "metadata": "{}",
         "name": "farePolicy",
         "type": "{\"type\":\"struct\",\"fields\":[{\"name\":\"isChangeAllowed\",\"type\":\"boolean\",\"nullable\":true,\"metadata\":{}},{\"name\":\"isPartiallyChangeable\",\"type\":\"boolean\",\"nullable\":true,\"metadata\":{}},{\"name\":\"isCancellationAllowed\",\"type\":\"boolean\",\"nullable\":true,\"metadata\":{}},{\"name\":\"isPartiallyRefundable\",\"type\":\"boolean\",\"nullable\":true,\"metadata\":{}}]}"
        },
        {
         "metadata": "{}",
         "name": "fareAttributes",
         "type": "{\"type\":\"struct\",\"fields\":[]}"
        },
        {
         "metadata": "{}",
         "name": "tags",
         "type": "{\"type\":\"array\",\"elementType\":\"string\",\"containsNull\":true}"
        },
        {
         "metadata": "{}",
         "name": "isMashUp",
         "type": "\"boolean\""
        },
        {
         "metadata": "{}",
         "name": "hasFlexibleOptions",
         "type": "\"boolean\""
        },
        {
         "metadata": "{}",
         "name": "score",
         "type": "\"double\""
        }
       ],
       "type": "table"
      }
     },
     "output_type": "display_data"
    }
   ],
   "source": [
    "flightdf.display()"
   ]
  },
  {
   "cell_type": "code",
   "execution_count": 0,
   "metadata": {
    "application/vnd.databricks.v1+cell": {
     "cellMetadata": {
      "byteLimit": 2048000,
      "rowLimit": 10000
     },
     "inputWidgets": {},
     "nuid": "6a74b3b0-53f5-4507-b338-8ca95bb2c3e9",
     "showTitle": false,
     "title": ""
    }
   },
   "outputs": [
    {
     "output_type": "display_data",
     "data": {
      "text/html": [
       "<style scoped>\n",
       "  .table-result-container {\n",
       "    max-height: 300px;\n",
       "    overflow: auto;\n",
       "  }\n",
       "  table, th, td {\n",
       "    border: 1px solid black;\n",
       "    border-collapse: collapse;\n",
       "  }\n",
       "  th, td {\n",
       "    padding: 5px;\n",
       "  }\n",
       "  th {\n",
       "    text-align: left;\n",
       "  }\n",
       "</style><div class='table-result-container'><table class='table-result'><thead style='background-color: white'><tr><th>id</th><th>SourceCode</th><th>SourceCountry</th><th>SourceAirport</th><th>DestinationCode</th><th>DestinationAirport</th><th>durationInMinutes</th><th>stopCount</th><th>departure</th><th>arrival</th><th>timeDeltaInDays</th><th>Price</th><th>isPartiallyRefundable</th><th>tags</th><th>Layovers</th><th>airline</th><th>DepartureDate</th></tr></thead><tbody><tr><td>10957-2409302330--31697-2-12712-2410012110</td><td>DEL</td><td>India</td><td>Indira Gandhi International </td><td>JFK</td><td>New York John F. Kennedy</td><td>1870</td><td>2</td><td>2024-09-30T23:30:00</td><td>2024-10-01T21:10:00</td><td>1</td><td>₹75,789</td><td>false</td><td>List(third_cheapest, third_shortest)</td><td>List(BOM, LHR)</td><td>List(Virgin Atlantic)</td><td>2024-09-30</td></tr><tr><td>10957-2409302330--31697-2-12712-2410012110</td><td>DEL</td><td>India</td><td>Indira Gandhi International </td><td>JFK</td><td>New York John F. Kennedy</td><td>1870</td><td>2</td><td>2024-09-30T23:30:00</td><td>2024-10-01T21:10:00</td><td>1</td><td>₹75,789</td><td>false</td><td>null</td><td>List(BOM, LHR)</td><td>List(Virgin Atlantic)</td><td>2024-09-30</td></tr><tr><td>10957-2409302330--32213-2-12712-2410011730</td><td>DEL</td><td>India</td><td>Indira Gandhi International </td><td>JFK</td><td>New York John F. Kennedy</td><td>1650</td><td>2</td><td>2024-09-30T23:30:00</td><td>2024-10-01T17:30:00</td><td>1</td><td>₹49,091</td><td>false</td><td>List(cheapest, second_shortest)</td><td>List(BOM, IST)</td><td>List(IndiGo)</td><td>2024-09-30</td></tr><tr><td>10957-2409302330--32213-2-12712-2410011730</td><td>DEL</td><td>India</td><td>Indira Gandhi International </td><td>JFK</td><td>New York John F. Kennedy</td><td>1650</td><td>2</td><td>2024-09-30T23:30:00</td><td>2024-10-01T17:30:00</td><td>1</td><td>₹71,448</td><td>false</td><td>List(third_cheapest, third_shortest)</td><td>List(BOM, IST)</td><td>List(IndiGo)</td><td>2024-09-30</td></tr><tr><td>10957-2409302330--32573-0-12712-2410010620</td><td>DEL</td><td>India</td><td>Indira Gandhi International </td><td>JFK</td><td>New York John F. Kennedy</td><td>980</td><td>0</td><td>2024-09-30T23:30:00</td><td>2024-10-01T06:20:00</td><td>1</td><td>₹54,831</td><td>false</td><td>List(second_cheapest, shortest)</td><td>null</td><td>List(American Airlines)</td><td>2024-09-30</td></tr><tr><td>10957-2409302330--32573-0-12712-2410010620</td><td>DEL</td><td>India</td><td>Indira Gandhi International </td><td>JFK</td><td>New York John F. Kennedy</td><td>980</td><td>0</td><td>2024-09-30T23:30:00</td><td>2024-10-01T06:20:00</td><td>1</td><td>₹54,774</td><td>false</td><td>List(cheapest, shortest)</td><td>null</td><td>List(American Airlines)</td><td>2024-09-30</td></tr><tr><td>10957-2409302335--31722-0-11442-2410010625</td><td>DEL</td><td>India</td><td>Indira Gandhi International </td><td>EWR</td><td>New York Newark</td><td>980</td><td>0</td><td>2024-09-30T23:35:00</td><td>2024-10-01T06:25:00</td><td>1</td><td>₹68,227</td><td>false</td><td>List(second_cheapest, second_shortest)</td><td>null</td><td>List(United)</td><td>2024-09-30</td></tr><tr><td>10957-2409302335--31722-0-11442-2410010625</td><td>DEL</td><td>India</td><td>Indira Gandhi International </td><td>EWR</td><td>New York Newark</td><td>980</td><td>0</td><td>2024-09-30T23:35:00</td><td>2024-10-01T06:25:00</td><td>1</td><td>₹68,227</td><td>false</td><td>List(second_cheapest, second_shortest)</td><td>null</td><td>List(United)</td><td>2024-09-30</td></tr><tr><td>10957-2409302335--32090-0-11442-2410010625</td><td>DEL</td><td>India</td><td>Indira Gandhi International </td><td>EWR</td><td>New York Newark</td><td>980</td><td>0</td><td>2024-09-30T23:35:00</td><td>2024-10-01T06:25:00</td><td>1</td><td>₹66,697</td><td>false</td><td>List(cheapest, shortest)</td><td>null</td><td>List(Lufthansa)</td><td>2024-09-30</td></tr><tr><td>11442-2409301700--31697-1-14585-2410011035</td><td>EWR</td><td>United States</td><td>New York Newark</td><td>NCL</td><td>Newcastle</td><td>755</td><td>1</td><td>2024-09-30T17:00:00</td><td>2024-10-01T10:35:00</td><td>1</td><td>₹87,333</td><td>false</td><td>null</td><td>List(CDG)</td><td>List(Virgin Atlantic)</td><td>2024-09-30</td></tr><tr><td>11442-2409301700--32677-1-14585-2410011035</td><td>EWR</td><td>United States</td><td>New York Newark</td><td>NCL</td><td>Newcastle</td><td>755</td><td>1</td><td>2024-09-30T17:00:00</td><td>2024-10-01T10:35:00</td><td>1</td><td>₹93,335</td><td>false</td><td>null</td><td>List(CDG)</td><td>List(Air France)</td><td>2024-09-30</td></tr><tr><td>11442-2409301715--31799-2-10957-2410012340</td><td>EWR</td><td>United States</td><td>New York Newark</td><td>DEL</td><td>Indira Gandhi International </td><td>1255</td><td>2</td><td>2024-09-30T17:15:00</td><td>2024-10-01T23:40:00</td><td>1</td><td>₹52,825</td><td>false</td><td>null</td><td>List(ZRH, FCO)</td><td>List(SWISS)</td><td>2024-09-30</td></tr><tr><td>11442-2409301720--32480-1-14585-2410010755</td><td>EWR</td><td>United States</td><td>New York Newark</td><td>NCL</td><td>Newcastle</td><td>575</td><td>1</td><td>2024-09-30T17:20:00</td><td>2024-10-01T07:55:00</td><td>1</td><td>₹65,588</td><td>false</td><td>List(shortest)</td><td>List(DUB)</td><td>List(British Airways)</td><td>2024-09-30</td></tr><tr><td>11442-2409301720--32480-1-14585-2410010755</td><td>EWR</td><td>United States</td><td>New York Newark</td><td>NCL</td><td>Newcastle</td><td>575</td><td>1</td><td>2024-09-30T17:20:00</td><td>2024-10-01T07:55:00</td><td>1</td><td>₹65,607</td><td>false</td><td>List(shortest)</td><td>List(DUB)</td><td>List(British Airways)</td><td>2024-09-30</td></tr><tr><td>11442-2409301720--32480-1-14773-2410011245</td><td>EWR</td><td>United States</td><td>New York Newark</td><td>NQY</td><td>Newquay</td><td>865</td><td>1</td><td>2024-09-30T17:20:00</td><td>2024-10-01T12:45:00</td><td>1</td><td>₹65,588</td><td>false</td><td>List(second_cheapest, shortest)</td><td>List(DUB)</td><td>List(British Airways)</td><td>2024-09-30</td></tr><tr><td>11442-2409301720--32753-1-14585-2410010755</td><td>EWR</td><td>United States</td><td>New York Newark</td><td>NCL</td><td>Newcastle</td><td>575</td><td>1</td><td>2024-09-30T17:20:00</td><td>2024-10-01T07:55:00</td><td>1</td><td>₹75,492</td><td>false</td><td>List(second_shortest)</td><td>List(DUB)</td><td>List(Aer Lingus)</td><td>2024-09-30</td></tr><tr><td>11442-2409301720--32753-1-14773-2410011245</td><td>EWR</td><td>United States</td><td>New York Newark</td><td>NQY</td><td>Newquay</td><td>865</td><td>1</td><td>2024-09-30T17:20:00</td><td>2024-10-01T12:45:00</td><td>1</td><td>₹80,792</td><td>false</td><td>List(second_shortest)</td><td>List(DUB)</td><td>List(Aer Lingus)</td><td>2024-09-30</td></tr><tr><td>11442-2409301730--31799-2-10957-2410012340</td><td>EWR</td><td>United States</td><td>New York Newark</td><td>DEL</td><td>Indira Gandhi International </td><td>1240</td><td>2</td><td>2024-09-30T17:30:00</td><td>2024-10-01T23:40:00</td><td>1</td><td>₹53,757</td><td>false</td><td>null</td><td>List(GVA, ZRH)</td><td>List(SWISS)</td><td>2024-09-30</td></tr><tr><td>11442-2409301740--31799-2-10957-2410012340</td><td>EWR</td><td>United States</td><td>New York Newark</td><td>DEL</td><td>Indira Gandhi International </td><td>1230</td><td>2</td><td>2024-09-30T17:40:00</td><td>2024-10-01T23:40:00</td><td>1</td><td>₹53,077</td><td>false</td><td>null</td><td>List(ZRH, AMS)</td><td>List(SWISS)</td><td>2024-09-30</td></tr><tr><td>11442-2409301745--31799-2-10957-2410012340</td><td>EWR</td><td>United States</td><td>New York Newark</td><td>DEL</td><td>Indira Gandhi International </td><td>1225</td><td>2</td><td>2024-09-30T17:45:00</td><td>2024-10-01T23:40:00</td><td>1</td><td>₹83,508</td><td>false</td><td>null</td><td>List(ZRH, MXP)</td><td>List(SWISS)</td><td>2024-09-30</td></tr><tr><td>11442-2409301800--31799-2-10957-2410012340</td><td>EWR</td><td>United States</td><td>New York Newark</td><td>DEL</td><td>Indira Gandhi International </td><td>1210</td><td>2</td><td>2024-09-30T18:00:00</td><td>2024-10-01T23:40:00</td><td>1</td><td>₹52,641</td><td>false</td><td>null</td><td>List(ZRH, LHR)</td><td>List(SWISS)</td><td>2024-09-30</td></tr><tr><td>11442-2409301800--32090-1-14585-2410011100</td><td>EWR</td><td>United States</td><td>New York Newark</td><td>NCL</td><td>Newcastle</td><td>720</td><td>1</td><td>2024-09-30T18:00:00</td><td>2024-10-01T11:00:00</td><td>1</td><td>₹39,579</td><td>false</td><td>List(cheapest)</td><td>List(FRA)</td><td>List(Lufthansa)</td><td>2024-09-30</td></tr><tr><td>11442-2409301800--32090-1-14585-2410011100</td><td>EWR</td><td>United States</td><td>New York Newark</td><td>NCL</td><td>Newcastle</td><td>720</td><td>1</td><td>2024-09-30T18:00:00</td><td>2024-10-01T11:00:00</td><td>1</td><td>₹39,590</td><td>false</td><td>List(cheapest)</td><td>List(FRA)</td><td>List(Lufthansa)</td><td>2024-09-30</td></tr><tr><td>11442-2409301800--32090-2-10957-2410012330</td><td>EWR</td><td>United States</td><td>New York Newark</td><td>DEL</td><td>Indira Gandhi International </td><td>1200</td><td>2</td><td>2024-09-30T18:00:00</td><td>2024-10-01T23:30:00</td><td>1</td><td>₹44,026</td><td>false</td><td>List(third_cheapest)</td><td>List(FRA, MUC)</td><td>List(Lufthansa)</td><td>2024-09-30</td></tr><tr><td>11442-2409301900--31799-2-10957-2410012340</td><td>EWR</td><td>United States</td><td>New York Newark</td><td>DEL</td><td>Indira Gandhi International </td><td>1150</td><td>2</td><td>2024-09-30T19:00:00</td><td>2024-10-01T23:40:00</td><td>1</td><td>₹52,641</td><td>false</td><td>null</td><td>List(ZRH, LHR)</td><td>List(SWISS)</td><td>2024-09-30</td></tr><tr><td>11442-2409301930--32090-1-14585-2410011100</td><td>EWR</td><td>United States</td><td>New York Newark</td><td>NCL</td><td>Newcastle</td><td>630</td><td>1</td><td>2024-09-30T19:30:00</td><td>2024-10-01T11:00:00</td><td>1</td><td>₹47,944</td><td>false</td><td>List(third_cheapest)</td><td>List(FRA)</td><td>List(Lufthansa)</td><td>2024-09-30</td></tr><tr><td>11442-2409301930--32090-1-14585-2410011100</td><td>EWR</td><td>United States</td><td>New York Newark</td><td>NCL</td><td>Newcastle</td><td>630</td><td>1</td><td>2024-09-30T19:30:00</td><td>2024-10-01T11:00:00</td><td>1</td><td>₹47,959</td><td>false</td><td>List(third_cheapest)</td><td>List(FRA)</td><td>List(Lufthansa)</td><td>2024-09-30</td></tr><tr><td>11442-2409301930--32090-2-10957-2410012330</td><td>EWR</td><td>United States</td><td>New York Newark</td><td>DEL</td><td>Indira Gandhi International </td><td>1110</td><td>2</td><td>2024-09-30T19:30:00</td><td>2024-10-01T23:30:00</td><td>1</td><td>₹55,424</td><td>false</td><td>List(third_shortest)</td><td>List(FRA, MUC)</td><td>List(Lufthansa)</td><td>2024-09-30</td></tr><tr><td>11442-2409301930--32090-2-10957-2410012330</td><td>EWR</td><td>United States</td><td>New York Newark</td><td>DEL</td><td>Indira Gandhi International </td><td>1110</td><td>2</td><td>2024-09-30T19:30:00</td><td>2024-10-01T23:30:00</td><td>1</td><td>₹55,424</td><td>false</td><td>null</td><td>List(FRA, MUC)</td><td>List(Lufthansa)</td><td>2024-09-30</td></tr><tr><td>11442-2409302015--32090,-32480-3-14773-2410020945</td><td>EWR</td><td>United States</td><td>New York Newark</td><td>NQY</td><td>Newquay</td><td>1950</td><td>3</td><td>2024-09-30T20:15:00</td><td>2024-10-02T09:45:00</td><td>2</td><td>₹141,751</td><td>false</td><td>null</td><td>List(BHD, MAN, EDI)</td><td>List(Lufthansa, British Airways)</td><td>2024-09-30</td></tr><tr><td>11442-2409302030--32090-1-10957-2410012330</td><td>EWR</td><td>United States</td><td>New York Newark</td><td>DEL</td><td>Indira Gandhi International </td><td>1050</td><td>1</td><td>2024-09-30T20:30:00</td><td>2024-10-01T23:30:00</td><td>1</td><td>₹40,913</td><td>false</td><td>List(second_cheapest, second_shortest)</td><td>List(MUC)</td><td>List(Lufthansa)</td><td>2024-09-30</td></tr><tr><td>11442-2409302030--32090-1-10957-2410012330</td><td>EWR</td><td>United States</td><td>New York Newark</td><td>DEL</td><td>Indira Gandhi International </td><td>1050</td><td>1</td><td>2024-09-30T20:30:00</td><td>2024-10-01T23:30:00</td><td>1</td><td>₹34,076</td><td>false</td><td>List(cheapest, second_shortest)</td><td>List(MUC)</td><td>List(Lufthansa)</td><td>2024-09-30</td></tr><tr><td>11442-2409302115--32222-1-14585-2410011945</td><td>EWR</td><td>United States</td><td>New York Newark</td><td>NCL</td><td>Newcastle</td><td>1050</td><td>1</td><td>2024-09-30T21:15:00</td><td>2024-10-01T19:45:00</td><td>1</td><td>₹85,136</td><td>false</td><td>null</td><td>List(LHR)</td><td>List(Iberia)</td><td>2024-09-30</td></tr><tr><td>11442-2409302115--32317,-32480-1-14585-2410011215</td><td>EWR</td><td>United States</td><td>New York Newark</td><td>NCL</td><td>Newcastle</td><td>600</td><td>1</td><td>2024-09-30T21:15:00</td><td>2024-10-01T12:15:00</td><td>1</td><td>₹193,521</td><td>false</td><td>null</td><td>List(LHR)</td><td>List(Finnair, British Airways)</td><td>2024-09-30</td></tr><tr><td>11442-2409302115--32480,-32360-1-14773-2410012010</td><td>EWR</td><td>United States</td><td>New York Newark</td><td>NQY</td><td>Newquay</td><td>1075</td><td>1</td><td>2024-09-30T21:15:00</td><td>2024-10-01T20:10:00</td><td>1</td><td>₹62,571</td><td>false</td><td>List(cheapest, third_shortest)</td><td>List(LGW)</td><td>List(Eastern Airways, British Airways)</td><td>2024-09-30</td></tr><tr><td>11442-2409302115--32480-1-14585-2410011215</td><td>EWR</td><td>United States</td><td>New York Newark</td><td>NCL</td><td>Newcastle</td><td>600</td><td>1</td><td>2024-09-30T21:15:00</td><td>2024-10-01T12:15:00</td><td>1</td><td>₹58,783</td><td>false</td><td>List(third_shortest)</td><td>List(LHR)</td><td>List(British Airways)</td><td>2024-09-30</td></tr><tr><td>11442-2409302115--32480-1-14585-2410011215</td><td>EWR</td><td>United States</td><td>New York Newark</td><td>NCL</td><td>Newcastle</td><td>600</td><td>1</td><td>2024-09-30T21:15:00</td><td>2024-10-01T12:15:00</td><td>1</td><td>₹58,796</td><td>false</td><td>List(third_shortest)</td><td>List(LHR)</td><td>List(British Airways)</td><td>2024-09-30</td></tr><tr><td>11442-2409302115--32480-1-14585-2410012155</td><td>EWR</td><td>United States</td><td>New York Newark</td><td>NCL</td><td>Newcastle</td><td>1180</td><td>1</td><td>2024-09-30T21:15:00</td><td>2024-10-01T21:55:00</td><td>1</td><td>₹47,607</td><td>false</td><td>List(second_cheapest)</td><td>List(LHR)</td><td>List(British Airways)</td><td>2024-09-30</td></tr><tr><td>11442-2409302115--32480-2-14773-2410020945</td><td>EWR</td><td>United States</td><td>New York Newark</td><td>NQY</td><td>Newquay</td><td>1890</td><td>2</td><td>2024-09-30T21:15:00</td><td>2024-10-02T09:45:00</td><td>2</td><td>₹69,221</td><td>false</td><td>null</td><td>List(MAN, LHR)</td><td>List(British Airways)</td><td>2024-09-30</td></tr><tr><td>11442-2409302115--32480-3-14773-2410020945</td><td>EWR</td><td>United States</td><td>New York Newark</td><td>NQY</td><td>Newquay</td><td>1890</td><td>3</td><td>2024-09-30T21:15:00</td><td>2024-10-02T09:45:00</td><td>2</td><td>₹69,054</td><td>false</td><td>List(third_cheapest)</td><td>List(ABZ, MAN, LHR)</td><td>List(British Airways)</td><td>2024-09-30</td></tr><tr><td>11442-2409302150--31799-1-10957-2410012340</td><td>EWR</td><td>United States</td><td>New York Newark</td><td>DEL</td><td>Indira Gandhi International </td><td>980</td><td>1</td><td>2024-09-30T21:50:00</td><td>2024-10-01T23:40:00</td><td>1</td><td>₹37,290</td><td>false</td><td>List(cheapest, shortest)</td><td>List(ZRH)</td><td>List(SWISS)</td><td>2024-09-30</td></tr><tr><td>11442-2409302150--31799-1-10957-2410012340</td><td>EWR</td><td>United States</td><td>New York Newark</td><td>DEL</td><td>Indira Gandhi International </td><td>980</td><td>1</td><td>2024-09-30T21:50:00</td><td>2024-10-01T23:40:00</td><td>1</td><td>₹36,921</td><td>false</td><td>List(third_cheapest, shortest)</td><td>List(ZRH)</td><td>List(SWISS)</td><td>2024-09-30</td></tr><tr><td>12712-2409301400--32339-1-10957-2410011935</td><td>JFK</td><td>United States</td><td>New York John F. Kennedy</td><td>DEL</td><td>Indira Gandhi International </td><td>1205</td><td>1</td><td>2024-09-30T14:00:00</td><td>2024-10-01T19:35:00</td><td>1</td><td>₹60,351</td><td>false</td><td>null</td><td>List(AUH)</td><td>List(Etihad Airways)</td><td>2024-09-30</td></tr><tr><td>12712-2409301545--32090-1-14585-2410011100</td><td>JFK</td><td>United States</td><td>New York John F. Kennedy</td><td>NCL</td><td>Newcastle</td><td>855</td><td>1</td><td>2024-09-30T15:45:00</td><td>2024-10-01T11:00:00</td><td>1</td><td>₹39,590</td><td>false</td><td>List(second_cheapest)</td><td>List(FRA)</td><td>List(Lufthansa)</td><td>2024-09-30</td></tr><tr><td>12712-2409301615--31799-1-10957-2410012340</td><td>JFK</td><td>United States</td><td>New York John F. Kennedy</td><td>DEL</td><td>Indira Gandhi International </td><td>1315</td><td>1</td><td>2024-09-30T16:15:00</td><td>2024-10-01T23:40:00</td><td>1</td><td>₹41,650</td><td>false</td><td>null</td><td>List(ZRH)</td><td>List(SWISS)</td><td>2024-09-30</td></tr><tr><td>12712-2409301615--31799-1-10957-2410012340</td><td>JFK</td><td>United States</td><td>New York John F. Kennedy</td><td>DEL</td><td>Indira Gandhi International </td><td>1315</td><td>1</td><td>2024-09-30T16:15:00</td><td>2024-10-01T23:40:00</td><td>1</td><td>₹36,921</td><td>false</td><td>null</td><td>List(ZRH)</td><td>List(SWISS)</td><td>2024-09-30</td></tr><tr><td>12712-2409301655--32480-1-14585-2410010755</td><td>JFK</td><td>United States</td><td>New York John F. Kennedy</td><td>NCL</td><td>Newcastle</td><td>600</td><td>1</td><td>2024-09-30T16:55:00</td><td>2024-10-01T07:55:00</td><td>1</td><td>₹65,607</td><td>false</td><td>null</td><td>List(DUB)</td><td>List(British Airways)</td><td>2024-09-30</td></tr><tr><td>12712-2409301655--32753-1-14585-2410010755</td><td>JFK</td><td>United States</td><td>New York John F. Kennedy</td><td>NCL</td><td>Newcastle</td><td>600</td><td>1</td><td>2024-09-30T16:55:00</td><td>2024-10-01T07:55:00</td><td>1</td><td>₹75,571</td><td>false</td><td>List(cheapest, shortest)</td><td>List(DUB)</td><td>List(Aer Lingus)</td><td>2024-09-30</td></tr><tr><td>12712-2409301655--32753-1-14773-2410011245</td><td>JFK</td><td>United States</td><td>New York John F. Kennedy</td><td>NQY</td><td>Newquay</td><td>890</td><td>1</td><td>2024-09-30T16:55:00</td><td>2024-10-01T12:45:00</td><td>1</td><td>₹76,052</td><td>false</td><td>List(second_cheapest, second_shortest)</td><td>List(DUB)</td><td>List(Aer Lingus)</td><td>2024-09-30</td></tr><tr><td>12712-2409301655--32753-1-14773-2410011245</td><td>JFK</td><td>United States</td><td>New York John F. Kennedy</td><td>NQY</td><td>Newquay</td><td>890</td><td>1</td><td>2024-09-30T16:55:00</td><td>2024-10-01T12:45:00</td><td>1</td><td>₹76,052</td><td>false</td><td>List(second_shortest)</td><td>List(DUB)</td><td>List(Aer Lingus)</td><td>2024-09-30</td></tr><tr><td>12712-2409301700--32119-1-10957-2410020145</td><td>JFK</td><td>United States</td><td>New York John F. Kennedy</td><td>DEL</td><td>Indira Gandhi International </td><td>1395</td><td>1</td><td>2024-09-30T17:00:00</td><td>2024-10-02T01:45:00</td><td>2</td><td>₹53,202</td><td>false</td><td>null</td><td>List(KWI)</td><td>List(Kuwait Airways)</td><td>2024-09-30</td></tr><tr><td>12712-2409301730--32090-1-10957-2410012330</td><td>JFK</td><td>United States</td><td>New York John F. Kennedy</td><td>DEL</td><td>Indira Gandhi International </td><td>1230</td><td>1</td><td>2024-09-30T17:30:00</td><td>2024-10-01T23:30:00</td><td>1</td><td>₹40,528</td><td>false</td><td>List(third_cheapest)</td><td>List(MUC)</td><td>List(Lufthansa)</td><td>2024-09-30</td></tr><tr><td>12712-2409301730--32090-1-10957-2410012330</td><td>JFK</td><td>United States</td><td>New York John F. Kennedy</td><td>DEL</td><td>Indira Gandhi International </td><td>1230</td><td>1</td><td>2024-09-30T17:30:00</td><td>2024-10-01T23:30:00</td><td>1</td><td>₹34,076</td><td>false</td><td>List(second_cheapest)</td><td>List(MUC)</td><td>List(Lufthansa)</td><td>2024-09-30</td></tr><tr><td>12712-2409301920--32480-1-14585-2410011030</td><td>JFK</td><td>United States</td><td>New York John F. Kennedy</td><td>NCL</td><td>Newcastle</td><td>610</td><td>1</td><td>2024-09-30T19:20:00</td><td>2024-10-01T10:30:00</td><td>1</td><td>₹58,796</td><td>false</td><td>null</td><td>List(LHR)</td><td>List(British Airways)</td><td>2024-09-30</td></tr><tr><td>12712-2409301925--32213-1-10957-2410020505</td><td>JFK</td><td>United States</td><td>New York John F. Kennedy</td><td>DEL</td><td>Indira Gandhi International </td><td>1450</td><td>1</td><td>2024-09-30T19:25:00</td><td>2024-10-02T05:05:00</td><td>2</td><td>₹39,745</td><td>false</td><td>List(cheapest)</td><td>List(IST)</td><td>List(IndiGo)</td><td>2024-09-30</td></tr><tr><td>12712-2409301925--32213-1-10957-2410020505</td><td>JFK</td><td>United States</td><td>New York John F. Kennedy</td><td>DEL</td><td>Indira Gandhi International </td><td>1450</td><td>1</td><td>2024-09-30T19:25:00</td><td>2024-10-02T05:05:00</td><td>2</td><td>₹39,744</td><td>false</td><td>null</td><td>List(IST)</td><td>List(IndiGo)</td><td>2024-09-30</td></tr><tr><td>12712-2409302010--32480-1-14585-2410011215</td><td>JFK</td><td>United States</td><td>New York John F. Kennedy</td><td>NCL</td><td>Newcastle</td><td>665</td><td>1</td><td>2024-09-30T20:10:00</td><td>2024-10-01T12:15:00</td><td>1</td><td>₹58,796</td><td>false</td><td>null</td><td>List(LHR)</td><td>List(British Airways)</td><td>2024-09-30</td></tr><tr><td>12712-2409302030--31799-1-10957-2410012340</td><td>JFK</td><td>United States</td><td>New York John F. Kennedy</td><td>DEL</td><td>Indira Gandhi International </td><td>1060</td><td>1</td><td>2024-09-30T20:30:00</td><td>2024-10-01T23:40:00</td><td>1</td><td>₹40,357</td><td>false</td><td>List(second_cheapest, third_shortest)</td><td>List(ZRH)</td><td>List(SWISS)</td><td>2024-09-30</td></tr><tr><td>12712-2409302030--31799-1-10957-2410012340</td><td>JFK</td><td>United States</td><td>New York John F. Kennedy</td><td>DEL</td><td>Indira Gandhi International </td><td>1060</td><td>1</td><td>2024-09-30T20:30:00</td><td>2024-10-01T23:40:00</td><td>1</td><td>₹36,921</td><td>false</td><td>null</td><td>List(ZRH)</td><td>List(SWISS)</td><td>2024-09-30</td></tr><tr><td>12712-2409302045--32573-0-10957-2410012100</td><td>JFK</td><td>United States</td><td>New York John F. Kennedy</td><td>DEL</td><td>Indira Gandhi International </td><td>885</td><td>0</td><td>2024-09-30T20:45:00</td><td>2024-10-01T21:00:00</td><td>1</td><td>₹69,816</td><td>false</td><td>List(shortest)</td><td>null</td><td>List(American Airlines)</td><td>2024-09-30</td></tr><tr><td>12712-2409302055--32480-1-14585-2410011215</td><td>JFK</td><td>United States</td><td>New York John F. Kennedy</td><td>NCL</td><td>Newcastle</td><td>620</td><td>1</td><td>2024-09-30T20:55:00</td><td>2024-10-01T12:15:00</td><td>1</td><td>₹58,796</td><td>false</td><td>null</td><td>List(LHR)</td><td>List(British Airways)</td><td>2024-09-30</td></tr><tr><td>12712-2409302105--32753-1-14773-2410011245</td><td>JFK</td><td>United States</td><td>New York John F. Kennedy</td><td>NQY</td><td>Newquay</td><td>640</td><td>1</td><td>2024-09-30T21:05:00</td><td>2024-10-01T12:45:00</td><td>1</td><td>₹76,052</td><td>false</td><td>List(cheapest, shortest)</td><td>List(DUB)</td><td>List(Aer Lingus)</td><td>2024-09-30</td></tr><tr><td>12712-2409302105--32753-1-14773-2410011245</td><td>JFK</td><td>United States</td><td>New York John F. Kennedy</td><td>NQY</td><td>Newquay</td><td>640</td><td>1</td><td>2024-09-30T21:05:00</td><td>2024-10-01T12:45:00</td><td>1</td><td>₹76,052</td><td>false</td><td>List(third_cheapest, shortest)</td><td>List(DUB)</td><td>List(Aer Lingus)</td><td>2024-09-30</td></tr><tr><td>12712-2409302130--31939-1-10957-2410020155</td><td>JFK</td><td>United States</td><td>New York John F. Kennedy</td><td>DEL</td><td>Indira Gandhi International </td><td>1135</td><td>1</td><td>2024-09-30T21:30:00</td><td>2024-10-02T01:55:00</td><td>2</td><td>₹56,792</td><td>false</td><td>null</td><td>List(DOH)</td><td>List(Qatar Airways)</td><td>2024-09-30</td></tr><tr><td>12712-2409302130--32480-1-14585-2410011215</td><td>JFK</td><td>United States</td><td>New York John F. Kennedy</td><td>NCL</td><td>Newcastle</td><td>585</td><td>1</td><td>2024-09-30T21:30:00</td><td>2024-10-01T12:15:00</td><td>1</td><td>₹58,796</td><td>false</td><td>List(second_shortest)</td><td>List(LHR)</td><td>List(British Airways)</td><td>2024-09-30</td></tr><tr><td>12712-2409302150--32090-1-10957-2410020055</td><td>JFK</td><td>United States</td><td>New York John F. Kennedy</td><td>DEL</td><td>Indira Gandhi International </td><td>1055</td><td>1</td><td>2024-09-30T21:50:00</td><td>2024-10-02T00:55:00</td><td>2</td><td>₹42,106</td><td>false</td><td>List(second_shortest)</td><td>List(FRA)</td><td>List(Lufthansa)</td><td>2024-09-30</td></tr><tr><td>12712-2409302150--32090-1-10957-2410020055</td><td>JFK</td><td>United States</td><td>New York John F. Kennedy</td><td>DEL</td><td>Indira Gandhi International </td><td>1055</td><td>1</td><td>2024-09-30T21:50:00</td><td>2024-10-02T00:55:00</td><td>2</td><td>₹43,273</td><td>false</td><td>List(third_shortest)</td><td>List(FRA)</td><td>List(Lufthansa)</td><td>2024-09-30</td></tr><tr><td>12712-2409302235--32339-1-10957-2410020315</td><td>JFK</td><td>United States</td><td>New York John F. Kennedy</td><td>DEL</td><td>Indira Gandhi International </td><td>1150</td><td>1</td><td>2024-09-30T22:35:00</td><td>2024-10-02T03:15:00</td><td>2</td><td>₹64,305</td><td>false</td><td>null</td><td>List(AUH)</td><td>List(Etihad Airways)</td><td>2024-09-30</td></tr><tr><td>12712-2409302235--32339-1-10957-2410020315</td><td>JFK</td><td>United States</td><td>New York John F. Kennedy</td><td>DEL</td><td>Indira Gandhi International </td><td>1150</td><td>1</td><td>2024-09-30T22:35:00</td><td>2024-10-02T03:15:00</td><td>2</td><td>₹67,975</td><td>false</td><td>null</td><td>List(AUH)</td><td>List(Etihad Airways)</td><td>2024-09-30</td></tr><tr><td>12712-2409302300--32348-1-10957-2410020245</td><td>JFK</td><td>United States</td><td>New York John F. Kennedy</td><td>DEL</td><td>Indira Gandhi International </td><td>1095</td><td>1</td><td>2024-09-30T23:00:00</td><td>2024-10-02T02:45:00</td><td>2</td><td>₹46,340</td><td>false</td><td>null</td><td>List(DXB)</td><td>List(Emirates)</td><td>2024-09-30</td></tr><tr><td>12712-2409302315--32480-2-14773-2410020945</td><td>JFK</td><td>United States</td><td>New York John F. Kennedy</td><td>NQY</td><td>Newquay</td><td>1770</td><td>2</td><td>2024-09-30T23:15:00</td><td>2024-10-02T09:45:00</td><td>2</td><td>₹71,671</td><td>false</td><td>List(second_cheapest)</td><td>List(MAN, LHR)</td><td>List(British Airways)</td><td>2024-09-30</td></tr><tr><td>12712-2409302315--32480-3-14773-2410020945</td><td>JFK</td><td>United States</td><td>New York John F. Kennedy</td><td>NQY</td><td>Newquay</td><td>1770</td><td>3</td><td>2024-09-30T23:15:00</td><td>2024-10-02T09:45:00</td><td>2</td><td>₹69,445</td><td>false</td><td>List(cheapest, third_shortest)</td><td>List(ABZ, MAN, LHR)</td><td>List(British Airways)</td><td>2024-09-30</td></tr><tr><td>13522-2409301359--32132-2-10957-2410020155</td><td>LGA</td><td>United States</td><td>New York LaGuardia</td><td>DEL</td><td>Indira Gandhi International </td><td>1586</td><td>2</td><td>2024-09-30T13:59:00</td><td>2024-10-02T01:55:00</td><td>2</td><td>₹71,750</td><td>false</td><td>null</td><td>List(BOS, AMS)</td><td>List(KLM)</td><td>2024-09-30</td></tr><tr><td>13522-2409301500--32132-2-10957-2410020155</td><td>LGA</td><td>United States</td><td>New York LaGuardia</td><td>DEL</td><td>Indira Gandhi International </td><td>1525</td><td>2</td><td>2024-09-30T15:00:00</td><td>2024-10-02T01:55:00</td><td>2</td><td>₹78,443</td><td>false</td><td>null</td><td>List(DTW, AMS)</td><td>List(KLM)</td><td>2024-09-30</td></tr><tr><td>13522-2409301545--32695-1-10957-2410012145</td><td>LGA</td><td>United States</td><td>New York LaGuardia</td><td>DEL</td><td>Indira Gandhi International </td><td>1230</td><td>1</td><td>2024-09-30T15:45:00</td><td>2024-10-01T21:45:00</td><td>1</td><td>₹108,439</td><td>false</td><td>List(third_shortest)</td><td>List(YUL)</td><td>List(Air Canada)</td><td>2024-09-30</td></tr><tr><td>13522-2409301600--32132-2-10957-2410020155</td><td>LGA</td><td>United States</td><td>New York LaGuardia</td><td>DEL</td><td>Indira Gandhi International </td><td>1465</td><td>2</td><td>2024-09-30T16:00:00</td><td>2024-10-02T01:55:00</td><td>2</td><td>₹66,646</td><td>false</td><td>null</td><td>List(BOS, AMS)</td><td>List(KLM)</td><td>2024-09-30</td></tr><tr><td>13522-2409301600--32132-2-10957-2410030155</td><td>LGA</td><td>United States</td><td>New York LaGuardia</td><td>DEL</td><td>Indira Gandhi International </td><td>2905</td><td>2</td><td>2024-09-30T16:00:00</td><td>2024-10-03T01:55:00</td><td>3</td><td>₹62,097</td><td>false</td><td>List(second_cheapest)</td><td>List(BOS, AMS)</td><td>List(KLM)</td><td>2024-09-30</td></tr><tr><td>13522-2409301600--32677-2-10957-2410012235</td><td>LGA</td><td>United States</td><td>New York LaGuardia</td><td>DEL</td><td>Indira Gandhi International </td><td>1265</td><td>2</td><td>2024-09-30T16:00:00</td><td>2024-10-01T22:35:00</td><td>1</td><td>₹62,042</td><td>false</td><td>List(cheapest)</td><td>List(CDG, BOS)</td><td>List(Air France)</td><td>2024-09-30</td></tr><tr><td>13522-2409301800--31697-2-10957-2410020005</td><td>LGA</td><td>United States</td><td>New York LaGuardia</td><td>DEL</td><td>Indira Gandhi International </td><td>1235</td><td>2</td><td>2024-09-30T18:00:00</td><td>2024-10-02T00:05:00</td><td>2</td><td>₹107,941</td><td>false</td><td>null</td><td>List(BOS, LHR)</td><td>List(Virgin Atlantic)</td><td>2024-09-30</td></tr><tr><td>13522-2409301800--32695-1-10957-2410012145</td><td>LGA</td><td>United States</td><td>New York LaGuardia</td><td>DEL</td><td>Indira Gandhi International </td><td>1095</td><td>1</td><td>2024-09-30T18:00:00</td><td>2024-10-01T21:45:00</td><td>1</td><td>₹108,439</td><td>false</td><td>List(second_shortest)</td><td>List(YUL)</td><td>List(Air Canada)</td><td>2024-09-30</td></tr><tr><td>13522-2409301859--31697,-32360-2-14773-2410012010</td><td>LGA</td><td>United States</td><td>New York LaGuardia</td><td>NQY</td><td>Newquay</td><td>1211</td><td>2</td><td>2024-09-30T18:59:00</td><td>2024-10-01T20:10:00</td><td>1</td><td>₹54,657</td><td>false</td><td>List(cheapest, second_shortest)</td><td>List(BOS, LGW)</td><td>List(Eastern Airways, Virgin Atlantic)</td><td>2024-09-30</td></tr><tr><td>13522-2409301859--32677-2-10957-2410022235</td><td>LGA</td><td>United States</td><td>New York LaGuardia</td><td>DEL</td><td>Indira Gandhi International </td><td>2526</td><td>2</td><td>2024-09-30T18:59:00</td><td>2024-10-02T22:35:00</td><td>2</td><td>₹62,277</td><td>false</td><td>List(third_cheapest)</td><td>List(CDG, ATL)</td><td>List(Air France)</td><td>2024-09-30</td></tr><tr><td>13522-2409301920--32695,-32360-2-14773-2410012010</td><td>LGA</td><td>United States</td><td>New York LaGuardia</td><td>NQY</td><td>Newquay</td><td>1190</td><td>2</td><td>2024-09-30T19:20:00</td><td>2024-10-01T20:10:00</td><td>1</td><td>₹61,073</td><td>false</td><td>List(second_cheapest, shortest)</td><td>List(YUL, LGW)</td><td>List(Eastern Airways, Air Canada)</td><td>2024-09-30</td></tr><tr><td>13522-2409301920--32695,-32677-3-14585-2410012235</td><td>LGA</td><td>United States</td><td>New York LaGuardia</td><td>NCL</td><td>Newcastle</td><td>1335</td><td>3</td><td>2024-09-30T19:20:00</td><td>2024-10-01T22:35:00</td><td>1</td><td>₹89,815</td><td>false</td><td>List(cheapest, shortest)</td><td>List(CDG, YUL, AMS)</td><td>List(Air France, Air Canada)</td><td>2024-09-30</td></tr><tr><td>13522-2409301920--32695-1-10957-2410012145</td><td>LGA</td><td>United States</td><td>New York LaGuardia</td><td>DEL</td><td>Indira Gandhi International </td><td>1015</td><td>1</td><td>2024-09-30T19:20:00</td><td>2024-10-01T21:45:00</td><td>1</td><td>₹108,439</td><td>false</td><td>List(shortest)</td><td>List(YUL)</td><td>List(Air Canada)</td><td>2024-09-30</td></tr><tr><td>14585-2409302010--32480,-32094-2-14773-2410020945</td><td>NCL</td><td>United Kingdom</td><td>Newcastle</td><td>NQY</td><td>Newquay</td><td>2255</td><td>2</td><td>2024-09-30T20:10:00</td><td>2024-10-02T09:45:00</td><td>2</td><td>₹74,169</td><td>false</td><td>List(second_cheapest, second_shortest)</td><td>List(MAN, LHR)</td><td>List(British Airways, Loganair)</td><td>2024-09-30</td></tr><tr><td>14585-2409302010--32480,-32094-3-14773-2410020945</td><td>NCL</td><td>United Kingdom</td><td>Newcastle</td><td>NQY</td><td>Newquay</td><td>2255</td><td>3</td><td>2024-09-30T20:10:00</td><td>2024-10-02T09:45:00</td><td>2</td><td>₹70,152</td><td>false</td><td>List(cheapest, shortest)</td><td>List(ABZ, MAN, LHR)</td><td>List(British Airways, Loganair)</td><td>2024-09-30</td></tr><tr><td>14585-2409302010--32480,-32317-1-11442-2410011355</td><td>NCL</td><td>United Kingdom</td><td>Newcastle</td><td>EWR</td><td>New York Newark</td><td>1365</td><td>1</td><td>2024-09-30T20:10:00</td><td>2024-10-01T13:55:00</td><td>1</td><td>₹231,984</td><td>false</td><td>List(cheapest, shortest)</td><td>List(LHR)</td><td>List(Finnair, British Airways)</td><td>2024-09-30</td></tr><tr><td>14585-2409302010--32480,-32317-1-11442-2410011355</td><td>NCL</td><td>United Kingdom</td><td>Newcastle</td><td>EWR</td><td>New York Newark</td><td>1365</td><td>1</td><td>2024-09-30T20:10:00</td><td>2024-10-01T13:55:00</td><td>1</td><td>₹233,034</td><td>false</td><td>List(second_cheapest, second_shortest)</td><td>List(LHR)</td><td>List(Finnair, British Airways)</td><td>2024-09-30</td></tr><tr><td>14585-2409302010--32480,-32317-1-12712-2410011105</td><td>NCL</td><td>United Kingdom</td><td>Newcastle</td><td>JFK</td><td>New York John F. Kennedy</td><td>1195</td><td>1</td><td>2024-09-30T20:10:00</td><td>2024-10-01T11:05:00</td><td>1</td><td>₹233,034</td><td>false</td><td>List(second_cheapest, shortest)</td><td>List(LHR)</td><td>List(Finnair, British Airways)</td><td>2024-09-30</td></tr><tr><td>14585-2409302010--32480,-32317-1-12712-2410011105</td><td>NCL</td><td>United Kingdom</td><td>Newcastle</td><td>JFK</td><td>New York John F. Kennedy</td><td>1195</td><td>1</td><td>2024-09-30T20:10:00</td><td>2024-10-01T11:05:00</td><td>1</td><td>₹233,034</td><td>false</td><td>List(cheapest, shortest)</td><td>List(LHR)</td><td>List(Finnair, British Airways)</td><td>2024-09-30</td></tr><tr><td>14585-2409302010--32480,-32317-2-10957-2410020520</td><td>NCL</td><td>United Kingdom</td><td>Newcastle</td><td>DEL</td><td>Indira Gandhi International </td><td>1720</td><td>2</td><td>2024-09-30T20:10:00</td><td>2024-10-02T05:20:00</td><td>2</td><td>₹168,902</td><td>false</td><td>List(second_cheapest, shortest)</td><td>List(LHR, HEL)</td><td>List(Finnair, British Airways)</td><td>2024-09-30</td></tr><tr><td>14585-2409302010--32480,-32317-2-10957-2410030520</td><td>NCL</td><td>United Kingdom</td><td>Newcastle</td><td>DEL</td><td>Indira Gandhi International </td><td>3160</td><td>2</td><td>2024-09-30T20:10:00</td><td>2024-10-03T05:20:00</td><td>3</td><td>₹65,627</td><td>false</td><td>List(cheapest, second_shortest)</td><td>List(LHR, HEL)</td><td>List(Finnair, British Airways)</td><td>2024-09-30</td></tr><tr><td>14585-2409302010--32480,-32317-2-12712-2410011905</td><td>NCL</td><td>United Kingdom</td><td>Newcastle</td><td>JFK</td><td>New York John F. Kennedy</td><td>1675</td><td>2</td><td>2024-09-30T20:10:00</td><td>2024-10-01T19:05:00</td><td>1</td><td>₹274,795</td><td>false</td><td>null</td><td>List(LHR, HEL)</td><td>List(Finnair, British Airways)</td><td>2024-09-30</td></tr><tr><td>14585-2409302010--32480,-32317-2-12712-2410011905</td><td>NCL</td><td>United Kingdom</td><td>Newcastle</td><td>JFK</td><td>New York John F. Kennedy</td><td>1675</td><td>2</td><td>2024-09-30T20:10:00</td><td>2024-10-01T19:05:00</td><td>1</td><td>₹274,795</td><td>false</td><td>List(third_shortest)</td><td>List(LHR, HEL)</td><td>List(Finnair, British Airways)</td><td>2024-09-30</td></tr><tr><td>14585-2409302010--32480,-32317-2-12712-2410011915</td><td>NCL</td><td>United Kingdom</td><td>Newcastle</td><td>JFK</td><td>New York John F. Kennedy</td><td>1685</td><td>2</td><td>2024-09-30T20:10:00</td><td>2024-10-01T19:15:00</td><td>1</td><td>₹233,503</td><td>false</td><td>null</td><td>List(LHR, BOS)</td><td>List(Finnair, British Airways)</td><td>2024-09-30</td></tr><tr><td>14585-2409302010--32480,-32317-2-12712-2410011915</td><td>NCL</td><td>United Kingdom</td><td>Newcastle</td><td>JFK</td><td>New York John F. Kennedy</td><td>1685</td><td>2</td><td>2024-09-30T20:10:00</td><td>2024-10-01T19:15:00</td><td>1</td><td>₹233,503</td><td>false</td><td>List(third_cheapest)</td><td>List(LHR, BOS)</td><td>List(Finnair, British Airways)</td><td>2024-09-30</td></tr><tr><td>14585-2409302010--32480,-32573-1-12712-2410011105</td><td>NCL</td><td>United Kingdom</td><td>Newcastle</td><td>JFK</td><td>New York John F. Kennedy</td><td>1195</td><td>1</td><td>2024-09-30T20:10:00</td><td>2024-10-01T11:05:00</td><td>1</td><td>₹233,332</td><td>false</td><td>List(third_cheapest, second_shortest)</td><td>List(LHR)</td><td>List(British Airways, American Airlines)</td><td>2024-09-30</td></tr><tr><td>14585-2409302010--32480,-32573-2-12712-2410011329</td><td>NCL</td><td>United Kingdom</td><td>Newcastle</td><td>JFK</td><td>New York John F. Kennedy</td><td>1339</td><td>2</td><td>2024-09-30T20:10:00</td><td>2024-10-01T13:29:00</td><td>1</td><td>₹234,898</td><td>false</td><td>List(third_shortest)</td><td>List(DUB, LHR)</td><td>List(British Airways, American Airlines)</td><td>2024-09-30</td></tr><tr><td>14585-2409302010--32480,-32573-2-12712-2410011915</td><td>NCL</td><td>United Kingdom</td><td>Newcastle</td><td>JFK</td><td>New York John F. Kennedy</td><td>1685</td><td>2</td><td>2024-09-30T20:10:00</td><td>2024-10-01T19:15:00</td><td>1</td><td>₹225,214</td><td>false</td><td>List(cheapest)</td><td>List(LHR, BOS)</td><td>List(British Airways, American Airlines)</td><td>2024-09-30</td></tr><tr><td>14585-2409302010--32480-1-11442-2410011355</td><td>NCL</td><td>United Kingdom</td><td>Newcastle</td><td>EWR</td><td>New York Newark</td><td>1365</td><td>1</td><td>2024-09-30T20:10:00</td><td>2024-10-01T13:55:00</td><td>1</td><td>₹232,039</td><td>false</td><td>List(second_cheapest, second_shortest)</td><td>List(LHR)</td><td>List(British Airways)</td><td>2024-09-30</td></tr><tr><td>14585-2409302010--32480-2-11442-2410011705</td><td>NCL</td><td>United Kingdom</td><td>Newcastle</td><td>EWR</td><td>New York Newark</td><td>1555</td><td>2</td><td>2024-09-30T20:10:00</td><td>2024-10-01T17:05:00</td><td>1</td><td>₹242,578</td><td>false</td><td>List(third_cheapest, third_shortest)</td><td>List(LHR, ORD)</td><td>List(British Airways)</td><td>2024-09-30</td></tr><tr><td>14585-2409302010--32480-2-13522-2410011759</td><td>NCL</td><td>United Kingdom</td><td>Newcastle</td><td>LGA</td><td>New York LaGuardia</td><td>1609</td><td>2</td><td>2024-09-30T20:10:00</td><td>2024-10-01T17:59:00</td><td>1</td><td>₹242,578</td><td>false</td><td>List(second_cheapest, shortest)</td><td>List(LHR, ORD)</td><td>List(British Airways)</td><td>2024-09-30</td></tr><tr><td>14585-2409302010--32480-2-13522-2410012101</td><td>NCL</td><td>United Kingdom</td><td>Newcastle</td><td>LGA</td><td>New York LaGuardia</td><td>1791</td><td>2</td><td>2024-09-30T20:10:00</td><td>2024-10-01T21:01:00</td><td>1</td><td>₹232,531</td><td>false</td><td>List(cheapest, second_shortest)</td><td>List(YYZ, LHR)</td><td>List(British Airways)</td><td>2024-09-30</td></tr><tr><td>14585-2409302010--32480-2-14773-2410020945</td><td>NCL</td><td>United Kingdom</td><td>Newcastle</td><td>NQY</td><td>Newquay</td><td>2255</td><td>2</td><td>2024-09-30T20:10:00</td><td>2024-10-02T09:45:00</td><td>2</td><td>₹77,394</td><td>false</td><td>List(third_cheapest, third_shortest)</td><td>List(MAN, LHR)</td><td>List(British Airways)</td><td>2024-09-30</td></tr><tr><td>16643-2409301915--30789,-31435-2-10957-2410021005</td><td>SWF</td><td>United States</td><td>Stewart International</td><td>DEL</td><td>Indira Gandhi International </td><td>1760</td><td>2</td><td>2024-09-30T19:15:00</td><td>2024-10-02T10:05:00</td><td>2</td><td>₹73,475</td><td>false</td><td>List(third_cheapest)</td><td>List(CDG, KEF)</td><td>List(Vistara, Fly Play)</td><td>2024-09-30</td></tr><tr><td>16643-2409301915--30789,-31714-3-10957-2410021215</td><td>SWF</td><td>United States</td><td>Stewart International</td><td>DEL</td><td>Indira Gandhi International </td><td>1890</td><td>3</td><td>2024-09-30T19:15:00</td><td>2024-10-02T12:15:00</td><td>2</td><td>₹67,464</td><td>false</td><td>List(cheapest)</td><td>List(CDG, TAS, KEF)</td><td>List(Uzbekistan Airways, Fly Play)</td><td>2024-09-30</td></tr><tr><td>16643-2409301915--30789,-31939-3-10957-2410021500</td><td>SWF</td><td>United States</td><td>Stewart International</td><td>DEL</td><td>Indira Gandhi International </td><td>2055</td><td>3</td><td>2024-09-30T19:15:00</td><td>2024-10-02T15:00:00</td><td>2</td><td>₹87,625</td><td>false</td><td>null</td><td>List(DUS, DOH, KEF)</td><td>List(Qatar Airways, Fly Play)</td><td>2024-09-30</td></tr><tr><td>16643-2409301915--30789,-32119,-32213-4-10957-2410021245</td><td>SWF</td><td>United States</td><td>Stewart International</td><td>DEL</td><td>Indira Gandhi International </td><td>1920</td><td>4</td><td>2024-09-30T19:15:00</td><td>2024-10-02T12:45:00</td><td>2</td><td>₹79,194</td><td>false</td><td>null</td><td>List(CDG, KWI, HYD, KEF)</td><td>List(Kuwait Airways, IndiGo, Fly Play)</td><td>2024-09-30</td></tr><tr><td>16643-2409301915--30789,-32119,-32213-4-10957-2410021735</td><td>SWF</td><td>United States</td><td>Stewart International</td><td>DEL</td><td>Indira Gandhi International </td><td>2210</td><td>4</td><td>2024-09-30T19:15:00</td><td>2024-10-02T17:35:00</td><td>2</td><td>₹78,299</td><td>false</td><td>null</td><td>List(CDG, KWI, HYD, KEF)</td><td>List(Kuwait Airways, IndiGo, Fly Play)</td><td>2024-09-30</td></tr><tr><td>16643-2409301915--30789,-32119-3-10957-2410020555</td><td>SWF</td><td>United States</td><td>Stewart International</td><td>DEL</td><td>Indira Gandhi International </td><td>1510</td><td>3</td><td>2024-09-30T19:15:00</td><td>2024-10-02T05:55:00</td><td>2</td><td>₹86,391</td><td>false</td><td>List(second_shortest)</td><td>List(CDG, KWI, KEF)</td><td>List(Kuwait Airways, Fly Play)</td><td>2024-09-30</td></tr><tr><td>16643-2409301915--30789,-32132,-32356-4-14585-2410012120</td><td>SWF</td><td>United States</td><td>Stewart International</td><td>NCL</td><td>Newcastle</td><td>1265</td><td>4</td><td>2024-09-30T19:15:00</td><td>2024-10-01T21:20:00</td><td>1</td><td>₹60,507</td><td>false</td><td>null</td><td>List(CDG, AMS, BRS, KEF)</td><td>List(KLM, easyJet, Fly Play)</td><td>2024-09-30</td></tr><tr><td>16643-2409301915--30789,-32132-3-14585-2410011640</td><td>SWF</td><td>United States</td><td>Stewart International</td><td>NCL</td><td>Newcastle</td><td>985</td><td>3</td><td>2024-09-30T19:15:00</td><td>2024-10-01T16:40:00</td><td>1</td><td>₹60,363</td><td>false</td><td>List(shortest)</td><td>List(DUS, AMS, KEF)</td><td>List(KLM, Fly Play)</td><td>2024-09-30</td></tr><tr><td>16643-2409301915--30789,-32132-3-14585-2410012255</td><td>SWF</td><td>United States</td><td>Stewart International</td><td>NCL</td><td>Newcastle</td><td>1360</td><td>3</td><td>2024-09-30T19:15:00</td><td>2024-10-01T22:55:00</td><td>1</td><td>₹54,103</td><td>false</td><td>null</td><td>List(CDG, AMS, KEF)</td><td>List(KLM, Fly Play)</td><td>2024-09-30</td></tr><tr><td>16643-2409301915--30789,-32217,-32753,-32094-3-14773-2410020945</td><td>SWF</td><td>United States</td><td>Stewart International</td><td>NQY</td><td>Newquay</td><td>2010</td><td>3</td><td>2024-09-30T19:15:00</td><td>2024-10-02T09:45:00</td><td>2</td><td>₹77,082</td><td>false</td><td>List(third_shortest)</td><td>List(MAN, DUB, KEF)</td><td>List(Aer Lingus, Icelandair, Loganair, Fly Play)</td><td>2024-09-30</td></tr><tr><td>16643-2409301915--30789,-32217,-32753,-32094-4-14773-2410020945</td><td>SWF</td><td>United States</td><td>Stewart International</td><td>NQY</td><td>Newquay</td><td>2010</td><td>4</td><td>2024-09-30T19:15:00</td><td>2024-10-02T09:45:00</td><td>2</td><td>₹74,569</td><td>false</td><td>List(second_cheapest, second_shortest)</td><td>List(ABZ, MAN, DUB, KEF)</td><td>List(Aer Lingus, Icelandair, Loganair, Fly Play)</td><td>2024-09-30</td></tr><tr><td>16643-2409301915--30789,-32217,-32753-3-14773-2410021245</td><td>SWF</td><td>United States</td><td>Stewart International</td><td>NQY</td><td>Newquay</td><td>2190</td><td>3</td><td>2024-09-30T19:15:00</td><td>2024-10-02T12:45:00</td><td>2</td><td>₹86,288</td><td>false</td><td>null</td><td>List(MAN, DUB, KEF)</td><td>List(Aer Lingus, Icelandair, Fly Play)</td><td>2024-09-30</td></tr><tr><td>16643-2409301915--30789,-32317-3-10957-2410020520</td><td>SWF</td><td>United States</td><td>Stewart International</td><td>DEL</td><td>Indira Gandhi International </td><td>1475</td><td>3</td><td>2024-09-30T19:15:00</td><td>2024-10-02T05:20:00</td><td>2</td><td>₹105,046</td><td>false</td><td>List(shortest)</td><td>List(CPH, KEF, HEL)</td><td>List(Finnair, Fly Play)</td><td>2024-09-30</td></tr><tr><td>16643-2409301915--30789,-32356,-32753-4-14773-2410021245</td><td>SWF</td><td>United States</td><td>Stewart International</td><td>NQY</td><td>Newquay</td><td>2190</td><td>4</td><td>2024-09-30T19:15:00</td><td>2024-10-02T12:45:00</td><td>2</td><td>₹74,681</td><td>false</td><td>List(third_cheapest)</td><td>List(CDG, MAN, DUB, KEF)</td><td>List(Aer Lingus, easyJet, Fly Play)</td><td>2024-09-30</td></tr><tr><td>16643-2409301915--30789,-32356-3-14585-2410011750</td><td>SWF</td><td>United States</td><td>Stewart International</td><td>NCL</td><td>Newcastle</td><td>1055</td><td>3</td><td>2024-09-30T19:15:00</td><td>2024-10-01T17:50:00</td><td>1</td><td>₹49,139</td><td>false</td><td>List(second_cheapest, second_shortest)</td><td>List(STN, BFS, KEF)</td><td>List(easyJet, Fly Play)</td><td>2024-09-30</td></tr><tr><td>16643-2409301915--30789,-32356-3-14585-2410012120</td><td>SWF</td><td>United States</td><td>Stewart International</td><td>NCL</td><td>Newcastle</td><td>1265</td><td>3</td><td>2024-09-30T19:15:00</td><td>2024-10-01T21:20:00</td><td>1</td><td>₹42,631</td><td>false</td><td>List(cheapest, third_shortest)</td><td>List(CDG, BRS, KEF)</td><td>List(easyJet, Fly Play)</td><td>2024-09-30</td></tr><tr><td>16643-2409301915--30789,-32360-2-14773-2410012010</td><td>SWF</td><td>United States</td><td>Stewart International</td><td>NQY</td><td>Newquay</td><td>1195</td><td>2</td><td>2024-09-30T19:15:00</td><td>2024-10-01T20:10:00</td><td>1</td><td>₹50,836</td><td>false</td><td>List(cheapest, shortest)</td><td>List(LGW, KEF)</td><td>List(Eastern Airways, Fly Play)</td><td>2024-09-30</td></tr><tr><td>16643-2409301915--30789,-32672-2-10957-2410020810</td><td>SWF</td><td>United States</td><td>Stewart International</td><td>DEL</td><td>Indira Gandhi International </td><td>1645</td><td>2</td><td>2024-09-30T19:15:00</td><td>2024-10-02T08:10:00</td><td>2</td><td>₹73,326</td><td>false</td><td>List(second_cheapest, third_shortest)</td><td>List(CDG, KEF)</td><td>List(Air India, Fly Play)</td><td>2024-09-30</td></tr><tr><td>16643-2409301915--30789,-32672-3-10957-2410021445</td><td>SWF</td><td>United States</td><td>Stewart International</td><td>DEL</td><td>Indira Gandhi International </td><td>2040</td><td>3</td><td>2024-09-30T19:15:00</td><td>2024-10-02T14:45:00</td><td>2</td><td>₹75,267</td><td>false</td><td>null</td><td>List(BOM, LHR, KEF)</td><td>List(Air India, Fly Play)</td><td>2024-09-30</td></tr><tr><td>16643-2409301915--30789,-32677,-31697-3-10957-2410020930</td><td>SWF</td><td>United States</td><td>Stewart International</td><td>DEL</td><td>Indira Gandhi International </td><td>1725</td><td>3</td><td>2024-09-30T19:15:00</td><td>2024-10-02T09:30:00</td><td>2</td><td>₹96,812</td><td>false</td><td>null</td><td>List(CDG, LHR, KEF)</td><td>List(Virgin Atlantic, Air France, Fly Play)</td><td>2024-09-30</td></tr><tr><td>16643-2409301915--30789,-32677-3-14585-2410012235</td><td>SWF</td><td>United States</td><td>Stewart International</td><td>NCL</td><td>Newcastle</td><td>1340</td><td>3</td><td>2024-09-30T19:15:00</td><td>2024-10-01T22:35:00</td><td>1</td><td>₹55,403</td><td>false</td><td>null</td><td>List(CDG, HAM, KEF)</td><td>List(Air France, Fly Play)</td><td>2024-09-30</td></tr><tr><td>16643-2409301915--30789,-32753,-32094-4-14773-2410020945</td><td>SWF</td><td>United States</td><td>Stewart International</td><td>NQY</td><td>Newquay</td><td>2010</td><td>4</td><td>2024-09-30T19:15:00</td><td>2024-10-02T09:45:00</td><td>2</td><td>₹91,392</td><td>false</td><td>null</td><td>List(CDG, MAN, DUB, KEF)</td><td>List(Aer Lingus, Loganair, Fly Play)</td><td>2024-09-30</td></tr><tr><td>16643-2409301915--30789,-32753,-32356-4-14585-2410012120</td><td>SWF</td><td>United States</td><td>Stewart International</td><td>NCL</td><td>Newcastle</td><td>1265</td><td>4</td><td>2024-09-30T19:15:00</td><td>2024-10-01T21:20:00</td><td>1</td><td>₹65,525</td><td>false</td><td>null</td><td>List(CDG, DUB, BRS, KEF)</td><td>List(Aer Lingus, easyJet, Fly Play)</td><td>2024-09-30</td></tr><tr><td>16643-2409301915--30789,-32753-3-14585-2410020745</td><td>SWF</td><td>United States</td><td>Stewart International</td><td>NCL</td><td>Newcastle</td><td>1890</td><td>3</td><td>2024-09-30T19:15:00</td><td>2024-10-02T07:45:00</td><td>2</td><td>₹49,659</td><td>false</td><td>List(third_cheapest)</td><td>List(DUB, LHR, KEF)</td><td>List(Aer Lingus, Fly Play)</td><td>2024-09-30</td></tr></tbody></table></div>"
      ]
     },
     "metadata": {
      "application/vnd.databricks.v1+output": {
       "addedWidgets": {},
       "aggData": [],
       "aggError": "",
       "aggOverflow": false,
       "aggSchema": [],
       "aggSeriesLimitReached": false,
       "aggType": "",
       "arguments": {},
       "columnCustomDisplayInfos": {},
       "data": [
        [
         "10957-2409302330--31697-2-12712-2410012110",
         "DEL",
         "India",
         "Indira Gandhi International ",
         "JFK",
         "New York John F. Kennedy",
         1870,
         2,
         "2024-09-30T23:30:00",
         "2024-10-01T21:10:00",
         1,
         "₹75,789",
         false,
         [
          "third_cheapest",
          "third_shortest"
         ],
         [
          "BOM",
          "LHR"
         ],
         [
          "Virgin Atlantic"
         ],
         "2024-09-30"
        ],
        [
         "10957-2409302330--31697-2-12712-2410012110",
         "DEL",
         "India",
         "Indira Gandhi International ",
         "JFK",
         "New York John F. Kennedy",
         1870,
         2,
         "2024-09-30T23:30:00",
         "2024-10-01T21:10:00",
         1,
         "₹75,789",
         false,
         null,
         [
          "BOM",
          "LHR"
         ],
         [
          "Virgin Atlantic"
         ],
         "2024-09-30"
        ],
        [
         "10957-2409302330--32213-2-12712-2410011730",
         "DEL",
         "India",
         "Indira Gandhi International ",
         "JFK",
         "New York John F. Kennedy",
         1650,
         2,
         "2024-09-30T23:30:00",
         "2024-10-01T17:30:00",
         1,
         "₹49,091",
         false,
         [
          "cheapest",
          "second_shortest"
         ],
         [
          "BOM",
          "IST"
         ],
         [
          "IndiGo"
         ],
         "2024-09-30"
        ],
        [
         "10957-2409302330--32213-2-12712-2410011730",
         "DEL",
         "India",
         "Indira Gandhi International ",
         "JFK",
         "New York John F. Kennedy",
         1650,
         2,
         "2024-09-30T23:30:00",
         "2024-10-01T17:30:00",
         1,
         "₹71,448",
         false,
         [
          "third_cheapest",
          "third_shortest"
         ],
         [
          "BOM",
          "IST"
         ],
         [
          "IndiGo"
         ],
         "2024-09-30"
        ],
        [
         "10957-2409302330--32573-0-12712-2410010620",
         "DEL",
         "India",
         "Indira Gandhi International ",
         "JFK",
         "New York John F. Kennedy",
         980,
         0,
         "2024-09-30T23:30:00",
         "2024-10-01T06:20:00",
         1,
         "₹54,831",
         false,
         [
          "second_cheapest",
          "shortest"
         ],
         null,
         [
          "American Airlines"
         ],
         "2024-09-30"
        ],
        [
         "10957-2409302330--32573-0-12712-2410010620",
         "DEL",
         "India",
         "Indira Gandhi International ",
         "JFK",
         "New York John F. Kennedy",
         980,
         0,
         "2024-09-30T23:30:00",
         "2024-10-01T06:20:00",
         1,
         "₹54,774",
         false,
         [
          "cheapest",
          "shortest"
         ],
         null,
         [
          "American Airlines"
         ],
         "2024-09-30"
        ],
        [
         "10957-2409302335--31722-0-11442-2410010625",
         "DEL",
         "India",
         "Indira Gandhi International ",
         "EWR",
         "New York Newark",
         980,
         0,
         "2024-09-30T23:35:00",
         "2024-10-01T06:25:00",
         1,
         "₹68,227",
         false,
         [
          "second_cheapest",
          "second_shortest"
         ],
         null,
         [
          "United"
         ],
         "2024-09-30"
        ],
        [
         "10957-2409302335--31722-0-11442-2410010625",
         "DEL",
         "India",
         "Indira Gandhi International ",
         "EWR",
         "New York Newark",
         980,
         0,
         "2024-09-30T23:35:00",
         "2024-10-01T06:25:00",
         1,
         "₹68,227",
         false,
         [
          "second_cheapest",
          "second_shortest"
         ],
         null,
         [
          "United"
         ],
         "2024-09-30"
        ],
        [
         "10957-2409302335--32090-0-11442-2410010625",
         "DEL",
         "India",
         "Indira Gandhi International ",
         "EWR",
         "New York Newark",
         980,
         0,
         "2024-09-30T23:35:00",
         "2024-10-01T06:25:00",
         1,
         "₹66,697",
         false,
         [
          "cheapest",
          "shortest"
         ],
         null,
         [
          "Lufthansa"
         ],
         "2024-09-30"
        ],
        [
         "11442-2409301700--31697-1-14585-2410011035",
         "EWR",
         "United States",
         "New York Newark",
         "NCL",
         "Newcastle",
         755,
         1,
         "2024-09-30T17:00:00",
         "2024-10-01T10:35:00",
         1,
         "₹87,333",
         false,
         null,
         [
          "CDG"
         ],
         [
          "Virgin Atlantic"
         ],
         "2024-09-30"
        ],
        [
         "11442-2409301700--32677-1-14585-2410011035",
         "EWR",
         "United States",
         "New York Newark",
         "NCL",
         "Newcastle",
         755,
         1,
         "2024-09-30T17:00:00",
         "2024-10-01T10:35:00",
         1,
         "₹93,335",
         false,
         null,
         [
          "CDG"
         ],
         [
          "Air France"
         ],
         "2024-09-30"
        ],
        [
         "11442-2409301715--31799-2-10957-2410012340",
         "EWR",
         "United States",
         "New York Newark",
         "DEL",
         "Indira Gandhi International ",
         1255,
         2,
         "2024-09-30T17:15:00",
         "2024-10-01T23:40:00",
         1,
         "₹52,825",
         false,
         null,
         [
          "ZRH",
          "FCO"
         ],
         [
          "SWISS"
         ],
         "2024-09-30"
        ],
        [
         "11442-2409301720--32480-1-14585-2410010755",
         "EWR",
         "United States",
         "New York Newark",
         "NCL",
         "Newcastle",
         575,
         1,
         "2024-09-30T17:20:00",
         "2024-10-01T07:55:00",
         1,
         "₹65,588",
         false,
         [
          "shortest"
         ],
         [
          "DUB"
         ],
         [
          "British Airways"
         ],
         "2024-09-30"
        ],
        [
         "11442-2409301720--32480-1-14585-2410010755",
         "EWR",
         "United States",
         "New York Newark",
         "NCL",
         "Newcastle",
         575,
         1,
         "2024-09-30T17:20:00",
         "2024-10-01T07:55:00",
         1,
         "₹65,607",
         false,
         [
          "shortest"
         ],
         [
          "DUB"
         ],
         [
          "British Airways"
         ],
         "2024-09-30"
        ],
        [
         "11442-2409301720--32480-1-14773-2410011245",
         "EWR",
         "United States",
         "New York Newark",
         "NQY",
         "Newquay",
         865,
         1,
         "2024-09-30T17:20:00",
         "2024-10-01T12:45:00",
         1,
         "₹65,588",
         false,
         [
          "second_cheapest",
          "shortest"
         ],
         [
          "DUB"
         ],
         [
          "British Airways"
         ],
         "2024-09-30"
        ],
        [
         "11442-2409301720--32753-1-14585-2410010755",
         "EWR",
         "United States",
         "New York Newark",
         "NCL",
         "Newcastle",
         575,
         1,
         "2024-09-30T17:20:00",
         "2024-10-01T07:55:00",
         1,
         "₹75,492",
         false,
         [
          "second_shortest"
         ],
         [
          "DUB"
         ],
         [
          "Aer Lingus"
         ],
         "2024-09-30"
        ],
        [
         "11442-2409301720--32753-1-14773-2410011245",
         "EWR",
         "United States",
         "New York Newark",
         "NQY",
         "Newquay",
         865,
         1,
         "2024-09-30T17:20:00",
         "2024-10-01T12:45:00",
         1,
         "₹80,792",
         false,
         [
          "second_shortest"
         ],
         [
          "DUB"
         ],
         [
          "Aer Lingus"
         ],
         "2024-09-30"
        ],
        [
         "11442-2409301730--31799-2-10957-2410012340",
         "EWR",
         "United States",
         "New York Newark",
         "DEL",
         "Indira Gandhi International ",
         1240,
         2,
         "2024-09-30T17:30:00",
         "2024-10-01T23:40:00",
         1,
         "₹53,757",
         false,
         null,
         [
          "GVA",
          "ZRH"
         ],
         [
          "SWISS"
         ],
         "2024-09-30"
        ],
        [
         "11442-2409301740--31799-2-10957-2410012340",
         "EWR",
         "United States",
         "New York Newark",
         "DEL",
         "Indira Gandhi International ",
         1230,
         2,
         "2024-09-30T17:40:00",
         "2024-10-01T23:40:00",
         1,
         "₹53,077",
         false,
         null,
         [
          "ZRH",
          "AMS"
         ],
         [
          "SWISS"
         ],
         "2024-09-30"
        ],
        [
         "11442-2409301745--31799-2-10957-2410012340",
         "EWR",
         "United States",
         "New York Newark",
         "DEL",
         "Indira Gandhi International ",
         1225,
         2,
         "2024-09-30T17:45:00",
         "2024-10-01T23:40:00",
         1,
         "₹83,508",
         false,
         null,
         [
          "ZRH",
          "MXP"
         ],
         [
          "SWISS"
         ],
         "2024-09-30"
        ],
        [
         "11442-2409301800--31799-2-10957-2410012340",
         "EWR",
         "United States",
         "New York Newark",
         "DEL",
         "Indira Gandhi International ",
         1210,
         2,
         "2024-09-30T18:00:00",
         "2024-10-01T23:40:00",
         1,
         "₹52,641",
         false,
         null,
         [
          "ZRH",
          "LHR"
         ],
         [
          "SWISS"
         ],
         "2024-09-30"
        ],
        [
         "11442-2409301800--32090-1-14585-2410011100",
         "EWR",
         "United States",
         "New York Newark",
         "NCL",
         "Newcastle",
         720,
         1,
         "2024-09-30T18:00:00",
         "2024-10-01T11:00:00",
         1,
         "₹39,579",
         false,
         [
          "cheapest"
         ],
         [
          "FRA"
         ],
         [
          "Lufthansa"
         ],
         "2024-09-30"
        ],
        [
         "11442-2409301800--32090-1-14585-2410011100",
         "EWR",
         "United States",
         "New York Newark",
         "NCL",
         "Newcastle",
         720,
         1,
         "2024-09-30T18:00:00",
         "2024-10-01T11:00:00",
         1,
         "₹39,590",
         false,
         [
          "cheapest"
         ],
         [
          "FRA"
         ],
         [
          "Lufthansa"
         ],
         "2024-09-30"
        ],
        [
         "11442-2409301800--32090-2-10957-2410012330",
         "EWR",
         "United States",
         "New York Newark",
         "DEL",
         "Indira Gandhi International ",
         1200,
         2,
         "2024-09-30T18:00:00",
         "2024-10-01T23:30:00",
         1,
         "₹44,026",
         false,
         [
          "third_cheapest"
         ],
         [
          "FRA",
          "MUC"
         ],
         [
          "Lufthansa"
         ],
         "2024-09-30"
        ],
        [
         "11442-2409301900--31799-2-10957-2410012340",
         "EWR",
         "United States",
         "New York Newark",
         "DEL",
         "Indira Gandhi International ",
         1150,
         2,
         "2024-09-30T19:00:00",
         "2024-10-01T23:40:00",
         1,
         "₹52,641",
         false,
         null,
         [
          "ZRH",
          "LHR"
         ],
         [
          "SWISS"
         ],
         "2024-09-30"
        ],
        [
         "11442-2409301930--32090-1-14585-2410011100",
         "EWR",
         "United States",
         "New York Newark",
         "NCL",
         "Newcastle",
         630,
         1,
         "2024-09-30T19:30:00",
         "2024-10-01T11:00:00",
         1,
         "₹47,944",
         false,
         [
          "third_cheapest"
         ],
         [
          "FRA"
         ],
         [
          "Lufthansa"
         ],
         "2024-09-30"
        ],
        [
         "11442-2409301930--32090-1-14585-2410011100",
         "EWR",
         "United States",
         "New York Newark",
         "NCL",
         "Newcastle",
         630,
         1,
         "2024-09-30T19:30:00",
         "2024-10-01T11:00:00",
         1,
         "₹47,959",
         false,
         [
          "third_cheapest"
         ],
         [
          "FRA"
         ],
         [
          "Lufthansa"
         ],
         "2024-09-30"
        ],
        [
         "11442-2409301930--32090-2-10957-2410012330",
         "EWR",
         "United States",
         "New York Newark",
         "DEL",
         "Indira Gandhi International ",
         1110,
         2,
         "2024-09-30T19:30:00",
         "2024-10-01T23:30:00",
         1,
         "₹55,424",
         false,
         [
          "third_shortest"
         ],
         [
          "FRA",
          "MUC"
         ],
         [
          "Lufthansa"
         ],
         "2024-09-30"
        ],
        [
         "11442-2409301930--32090-2-10957-2410012330",
         "EWR",
         "United States",
         "New York Newark",
         "DEL",
         "Indira Gandhi International ",
         1110,
         2,
         "2024-09-30T19:30:00",
         "2024-10-01T23:30:00",
         1,
         "₹55,424",
         false,
         null,
         [
          "FRA",
          "MUC"
         ],
         [
          "Lufthansa"
         ],
         "2024-09-30"
        ],
        [
         "11442-2409302015--32090,-32480-3-14773-2410020945",
         "EWR",
         "United States",
         "New York Newark",
         "NQY",
         "Newquay",
         1950,
         3,
         "2024-09-30T20:15:00",
         "2024-10-02T09:45:00",
         2,
         "₹141,751",
         false,
         null,
         [
          "BHD",
          "MAN",
          "EDI"
         ],
         [
          "Lufthansa",
          "British Airways"
         ],
         "2024-09-30"
        ],
        [
         "11442-2409302030--32090-1-10957-2410012330",
         "EWR",
         "United States",
         "New York Newark",
         "DEL",
         "Indira Gandhi International ",
         1050,
         1,
         "2024-09-30T20:30:00",
         "2024-10-01T23:30:00",
         1,
         "₹40,913",
         false,
         [
          "second_cheapest",
          "second_shortest"
         ],
         [
          "MUC"
         ],
         [
          "Lufthansa"
         ],
         "2024-09-30"
        ],
        [
         "11442-2409302030--32090-1-10957-2410012330",
         "EWR",
         "United States",
         "New York Newark",
         "DEL",
         "Indira Gandhi International ",
         1050,
         1,
         "2024-09-30T20:30:00",
         "2024-10-01T23:30:00",
         1,
         "₹34,076",
         false,
         [
          "cheapest",
          "second_shortest"
         ],
         [
          "MUC"
         ],
         [
          "Lufthansa"
         ],
         "2024-09-30"
        ],
        [
         "11442-2409302115--32222-1-14585-2410011945",
         "EWR",
         "United States",
         "New York Newark",
         "NCL",
         "Newcastle",
         1050,
         1,
         "2024-09-30T21:15:00",
         "2024-10-01T19:45:00",
         1,
         "₹85,136",
         false,
         null,
         [
          "LHR"
         ],
         [
          "Iberia"
         ],
         "2024-09-30"
        ],
        [
         "11442-2409302115--32317,-32480-1-14585-2410011215",
         "EWR",
         "United States",
         "New York Newark",
         "NCL",
         "Newcastle",
         600,
         1,
         "2024-09-30T21:15:00",
         "2024-10-01T12:15:00",
         1,
         "₹193,521",
         false,
         null,
         [
          "LHR"
         ],
         [
          "Finnair",
          "British Airways"
         ],
         "2024-09-30"
        ],
        [
         "11442-2409302115--32480,-32360-1-14773-2410012010",
         "EWR",
         "United States",
         "New York Newark",
         "NQY",
         "Newquay",
         1075,
         1,
         "2024-09-30T21:15:00",
         "2024-10-01T20:10:00",
         1,
         "₹62,571",
         false,
         [
          "cheapest",
          "third_shortest"
         ],
         [
          "LGW"
         ],
         [
          "Eastern Airways",
          "British Airways"
         ],
         "2024-09-30"
        ],
        [
         "11442-2409302115--32480-1-14585-2410011215",
         "EWR",
         "United States",
         "New York Newark",
         "NCL",
         "Newcastle",
         600,
         1,
         "2024-09-30T21:15:00",
         "2024-10-01T12:15:00",
         1,
         "₹58,783",
         false,
         [
          "third_shortest"
         ],
         [
          "LHR"
         ],
         [
          "British Airways"
         ],
         "2024-09-30"
        ],
        [
         "11442-2409302115--32480-1-14585-2410011215",
         "EWR",
         "United States",
         "New York Newark",
         "NCL",
         "Newcastle",
         600,
         1,
         "2024-09-30T21:15:00",
         "2024-10-01T12:15:00",
         1,
         "₹58,796",
         false,
         [
          "third_shortest"
         ],
         [
          "LHR"
         ],
         [
          "British Airways"
         ],
         "2024-09-30"
        ],
        [
         "11442-2409302115--32480-1-14585-2410012155",
         "EWR",
         "United States",
         "New York Newark",
         "NCL",
         "Newcastle",
         1180,
         1,
         "2024-09-30T21:15:00",
         "2024-10-01T21:55:00",
         1,
         "₹47,607",
         false,
         [
          "second_cheapest"
         ],
         [
          "LHR"
         ],
         [
          "British Airways"
         ],
         "2024-09-30"
        ],
        [
         "11442-2409302115--32480-2-14773-2410020945",
         "EWR",
         "United States",
         "New York Newark",
         "NQY",
         "Newquay",
         1890,
         2,
         "2024-09-30T21:15:00",
         "2024-10-02T09:45:00",
         2,
         "₹69,221",
         false,
         null,
         [
          "MAN",
          "LHR"
         ],
         [
          "British Airways"
         ],
         "2024-09-30"
        ],
        [
         "11442-2409302115--32480-3-14773-2410020945",
         "EWR",
         "United States",
         "New York Newark",
         "NQY",
         "Newquay",
         1890,
         3,
         "2024-09-30T21:15:00",
         "2024-10-02T09:45:00",
         2,
         "₹69,054",
         false,
         [
          "third_cheapest"
         ],
         [
          "ABZ",
          "MAN",
          "LHR"
         ],
         [
          "British Airways"
         ],
         "2024-09-30"
        ],
        [
         "11442-2409302150--31799-1-10957-2410012340",
         "EWR",
         "United States",
         "New York Newark",
         "DEL",
         "Indira Gandhi International ",
         980,
         1,
         "2024-09-30T21:50:00",
         "2024-10-01T23:40:00",
         1,
         "₹37,290",
         false,
         [
          "cheapest",
          "shortest"
         ],
         [
          "ZRH"
         ],
         [
          "SWISS"
         ],
         "2024-09-30"
        ],
        [
         "11442-2409302150--31799-1-10957-2410012340",
         "EWR",
         "United States",
         "New York Newark",
         "DEL",
         "Indira Gandhi International ",
         980,
         1,
         "2024-09-30T21:50:00",
         "2024-10-01T23:40:00",
         1,
         "₹36,921",
         false,
         [
          "third_cheapest",
          "shortest"
         ],
         [
          "ZRH"
         ],
         [
          "SWISS"
         ],
         "2024-09-30"
        ],
        [
         "12712-2409301400--32339-1-10957-2410011935",
         "JFK",
         "United States",
         "New York John F. Kennedy",
         "DEL",
         "Indira Gandhi International ",
         1205,
         1,
         "2024-09-30T14:00:00",
         "2024-10-01T19:35:00",
         1,
         "₹60,351",
         false,
         null,
         [
          "AUH"
         ],
         [
          "Etihad Airways"
         ],
         "2024-09-30"
        ],
        [
         "12712-2409301545--32090-1-14585-2410011100",
         "JFK",
         "United States",
         "New York John F. Kennedy",
         "NCL",
         "Newcastle",
         855,
         1,
         "2024-09-30T15:45:00",
         "2024-10-01T11:00:00",
         1,
         "₹39,590",
         false,
         [
          "second_cheapest"
         ],
         [
          "FRA"
         ],
         [
          "Lufthansa"
         ],
         "2024-09-30"
        ],
        [
         "12712-2409301615--31799-1-10957-2410012340",
         "JFK",
         "United States",
         "New York John F. Kennedy",
         "DEL",
         "Indira Gandhi International ",
         1315,
         1,
         "2024-09-30T16:15:00",
         "2024-10-01T23:40:00",
         1,
         "₹41,650",
         false,
         null,
         [
          "ZRH"
         ],
         [
          "SWISS"
         ],
         "2024-09-30"
        ],
        [
         "12712-2409301615--31799-1-10957-2410012340",
         "JFK",
         "United States",
         "New York John F. Kennedy",
         "DEL",
         "Indira Gandhi International ",
         1315,
         1,
         "2024-09-30T16:15:00",
         "2024-10-01T23:40:00",
         1,
         "₹36,921",
         false,
         null,
         [
          "ZRH"
         ],
         [
          "SWISS"
         ],
         "2024-09-30"
        ],
        [
         "12712-2409301655--32480-1-14585-2410010755",
         "JFK",
         "United States",
         "New York John F. Kennedy",
         "NCL",
         "Newcastle",
         600,
         1,
         "2024-09-30T16:55:00",
         "2024-10-01T07:55:00",
         1,
         "₹65,607",
         false,
         null,
         [
          "DUB"
         ],
         [
          "British Airways"
         ],
         "2024-09-30"
        ],
        [
         "12712-2409301655--32753-1-14585-2410010755",
         "JFK",
         "United States",
         "New York John F. Kennedy",
         "NCL",
         "Newcastle",
         600,
         1,
         "2024-09-30T16:55:00",
         "2024-10-01T07:55:00",
         1,
         "₹75,571",
         false,
         [
          "cheapest",
          "shortest"
         ],
         [
          "DUB"
         ],
         [
          "Aer Lingus"
         ],
         "2024-09-30"
        ],
        [
         "12712-2409301655--32753-1-14773-2410011245",
         "JFK",
         "United States",
         "New York John F. Kennedy",
         "NQY",
         "Newquay",
         890,
         1,
         "2024-09-30T16:55:00",
         "2024-10-01T12:45:00",
         1,
         "₹76,052",
         false,
         [
          "second_cheapest",
          "second_shortest"
         ],
         [
          "DUB"
         ],
         [
          "Aer Lingus"
         ],
         "2024-09-30"
        ],
        [
         "12712-2409301655--32753-1-14773-2410011245",
         "JFK",
         "United States",
         "New York John F. Kennedy",
         "NQY",
         "Newquay",
         890,
         1,
         "2024-09-30T16:55:00",
         "2024-10-01T12:45:00",
         1,
         "₹76,052",
         false,
         [
          "second_shortest"
         ],
         [
          "DUB"
         ],
         [
          "Aer Lingus"
         ],
         "2024-09-30"
        ],
        [
         "12712-2409301700--32119-1-10957-2410020145",
         "JFK",
         "United States",
         "New York John F. Kennedy",
         "DEL",
         "Indira Gandhi International ",
         1395,
         1,
         "2024-09-30T17:00:00",
         "2024-10-02T01:45:00",
         2,
         "₹53,202",
         false,
         null,
         [
          "KWI"
         ],
         [
          "Kuwait Airways"
         ],
         "2024-09-30"
        ],
        [
         "12712-2409301730--32090-1-10957-2410012330",
         "JFK",
         "United States",
         "New York John F. Kennedy",
         "DEL",
         "Indira Gandhi International ",
         1230,
         1,
         "2024-09-30T17:30:00",
         "2024-10-01T23:30:00",
         1,
         "₹40,528",
         false,
         [
          "third_cheapest"
         ],
         [
          "MUC"
         ],
         [
          "Lufthansa"
         ],
         "2024-09-30"
        ],
        [
         "12712-2409301730--32090-1-10957-2410012330",
         "JFK",
         "United States",
         "New York John F. Kennedy",
         "DEL",
         "Indira Gandhi International ",
         1230,
         1,
         "2024-09-30T17:30:00",
         "2024-10-01T23:30:00",
         1,
         "₹34,076",
         false,
         [
          "second_cheapest"
         ],
         [
          "MUC"
         ],
         [
          "Lufthansa"
         ],
         "2024-09-30"
        ],
        [
         "12712-2409301920--32480-1-14585-2410011030",
         "JFK",
         "United States",
         "New York John F. Kennedy",
         "NCL",
         "Newcastle",
         610,
         1,
         "2024-09-30T19:20:00",
         "2024-10-01T10:30:00",
         1,
         "₹58,796",
         false,
         null,
         [
          "LHR"
         ],
         [
          "British Airways"
         ],
         "2024-09-30"
        ],
        [
         "12712-2409301925--32213-1-10957-2410020505",
         "JFK",
         "United States",
         "New York John F. Kennedy",
         "DEL",
         "Indira Gandhi International ",
         1450,
         1,
         "2024-09-30T19:25:00",
         "2024-10-02T05:05:00",
         2,
         "₹39,745",
         false,
         [
          "cheapest"
         ],
         [
          "IST"
         ],
         [
          "IndiGo"
         ],
         "2024-09-30"
        ],
        [
         "12712-2409301925--32213-1-10957-2410020505",
         "JFK",
         "United States",
         "New York John F. Kennedy",
         "DEL",
         "Indira Gandhi International ",
         1450,
         1,
         "2024-09-30T19:25:00",
         "2024-10-02T05:05:00",
         2,
         "₹39,744",
         false,
         null,
         [
          "IST"
         ],
         [
          "IndiGo"
         ],
         "2024-09-30"
        ],
        [
         "12712-2409302010--32480-1-14585-2410011215",
         "JFK",
         "United States",
         "New York John F. Kennedy",
         "NCL",
         "Newcastle",
         665,
         1,
         "2024-09-30T20:10:00",
         "2024-10-01T12:15:00",
         1,
         "₹58,796",
         false,
         null,
         [
          "LHR"
         ],
         [
          "British Airways"
         ],
         "2024-09-30"
        ],
        [
         "12712-2409302030--31799-1-10957-2410012340",
         "JFK",
         "United States",
         "New York John F. Kennedy",
         "DEL",
         "Indira Gandhi International ",
         1060,
         1,
         "2024-09-30T20:30:00",
         "2024-10-01T23:40:00",
         1,
         "₹40,357",
         false,
         [
          "second_cheapest",
          "third_shortest"
         ],
         [
          "ZRH"
         ],
         [
          "SWISS"
         ],
         "2024-09-30"
        ],
        [
         "12712-2409302030--31799-1-10957-2410012340",
         "JFK",
         "United States",
         "New York John F. Kennedy",
         "DEL",
         "Indira Gandhi International ",
         1060,
         1,
         "2024-09-30T20:30:00",
         "2024-10-01T23:40:00",
         1,
         "₹36,921",
         false,
         null,
         [
          "ZRH"
         ],
         [
          "SWISS"
         ],
         "2024-09-30"
        ],
        [
         "12712-2409302045--32573-0-10957-2410012100",
         "JFK",
         "United States",
         "New York John F. Kennedy",
         "DEL",
         "Indira Gandhi International ",
         885,
         0,
         "2024-09-30T20:45:00",
         "2024-10-01T21:00:00",
         1,
         "₹69,816",
         false,
         [
          "shortest"
         ],
         null,
         [
          "American Airlines"
         ],
         "2024-09-30"
        ],
        [
         "12712-2409302055--32480-1-14585-2410011215",
         "JFK",
         "United States",
         "New York John F. Kennedy",
         "NCL",
         "Newcastle",
         620,
         1,
         "2024-09-30T20:55:00",
         "2024-10-01T12:15:00",
         1,
         "₹58,796",
         false,
         null,
         [
          "LHR"
         ],
         [
          "British Airways"
         ],
         "2024-09-30"
        ],
        [
         "12712-2409302105--32753-1-14773-2410011245",
         "JFK",
         "United States",
         "New York John F. Kennedy",
         "NQY",
         "Newquay",
         640,
         1,
         "2024-09-30T21:05:00",
         "2024-10-01T12:45:00",
         1,
         "₹76,052",
         false,
         [
          "cheapest",
          "shortest"
         ],
         [
          "DUB"
         ],
         [
          "Aer Lingus"
         ],
         "2024-09-30"
        ],
        [
         "12712-2409302105--32753-1-14773-2410011245",
         "JFK",
         "United States",
         "New York John F. Kennedy",
         "NQY",
         "Newquay",
         640,
         1,
         "2024-09-30T21:05:00",
         "2024-10-01T12:45:00",
         1,
         "₹76,052",
         false,
         [
          "third_cheapest",
          "shortest"
         ],
         [
          "DUB"
         ],
         [
          "Aer Lingus"
         ],
         "2024-09-30"
        ],
        [
         "12712-2409302130--31939-1-10957-2410020155",
         "JFK",
         "United States",
         "New York John F. Kennedy",
         "DEL",
         "Indira Gandhi International ",
         1135,
         1,
         "2024-09-30T21:30:00",
         "2024-10-02T01:55:00",
         2,
         "₹56,792",
         false,
         null,
         [
          "DOH"
         ],
         [
          "Qatar Airways"
         ],
         "2024-09-30"
        ],
        [
         "12712-2409302130--32480-1-14585-2410011215",
         "JFK",
         "United States",
         "New York John F. Kennedy",
         "NCL",
         "Newcastle",
         585,
         1,
         "2024-09-30T21:30:00",
         "2024-10-01T12:15:00",
         1,
         "₹58,796",
         false,
         [
          "second_shortest"
         ],
         [
          "LHR"
         ],
         [
          "British Airways"
         ],
         "2024-09-30"
        ],
        [
         "12712-2409302150--32090-1-10957-2410020055",
         "JFK",
         "United States",
         "New York John F. Kennedy",
         "DEL",
         "Indira Gandhi International ",
         1055,
         1,
         "2024-09-30T21:50:00",
         "2024-10-02T00:55:00",
         2,
         "₹42,106",
         false,
         [
          "second_shortest"
         ],
         [
          "FRA"
         ],
         [
          "Lufthansa"
         ],
         "2024-09-30"
        ],
        [
         "12712-2409302150--32090-1-10957-2410020055",
         "JFK",
         "United States",
         "New York John F. Kennedy",
         "DEL",
         "Indira Gandhi International ",
         1055,
         1,
         "2024-09-30T21:50:00",
         "2024-10-02T00:55:00",
         2,
         "₹43,273",
         false,
         [
          "third_shortest"
         ],
         [
          "FRA"
         ],
         [
          "Lufthansa"
         ],
         "2024-09-30"
        ],
        [
         "12712-2409302235--32339-1-10957-2410020315",
         "JFK",
         "United States",
         "New York John F. Kennedy",
         "DEL",
         "Indira Gandhi International ",
         1150,
         1,
         "2024-09-30T22:35:00",
         "2024-10-02T03:15:00",
         2,
         "₹64,305",
         false,
         null,
         [
          "AUH"
         ],
         [
          "Etihad Airways"
         ],
         "2024-09-30"
        ],
        [
         "12712-2409302235--32339-1-10957-2410020315",
         "JFK",
         "United States",
         "New York John F. Kennedy",
         "DEL",
         "Indira Gandhi International ",
         1150,
         1,
         "2024-09-30T22:35:00",
         "2024-10-02T03:15:00",
         2,
         "₹67,975",
         false,
         null,
         [
          "AUH"
         ],
         [
          "Etihad Airways"
         ],
         "2024-09-30"
        ],
        [
         "12712-2409302300--32348-1-10957-2410020245",
         "JFK",
         "United States",
         "New York John F. Kennedy",
         "DEL",
         "Indira Gandhi International ",
         1095,
         1,
         "2024-09-30T23:00:00",
         "2024-10-02T02:45:00",
         2,
         "₹46,340",
         false,
         null,
         [
          "DXB"
         ],
         [
          "Emirates"
         ],
         "2024-09-30"
        ],
        [
         "12712-2409302315--32480-2-14773-2410020945",
         "JFK",
         "United States",
         "New York John F. Kennedy",
         "NQY",
         "Newquay",
         1770,
         2,
         "2024-09-30T23:15:00",
         "2024-10-02T09:45:00",
         2,
         "₹71,671",
         false,
         [
          "second_cheapest"
         ],
         [
          "MAN",
          "LHR"
         ],
         [
          "British Airways"
         ],
         "2024-09-30"
        ],
        [
         "12712-2409302315--32480-3-14773-2410020945",
         "JFK",
         "United States",
         "New York John F. Kennedy",
         "NQY",
         "Newquay",
         1770,
         3,
         "2024-09-30T23:15:00",
         "2024-10-02T09:45:00",
         2,
         "₹69,445",
         false,
         [
          "cheapest",
          "third_shortest"
         ],
         [
          "ABZ",
          "MAN",
          "LHR"
         ],
         [
          "British Airways"
         ],
         "2024-09-30"
        ],
        [
         "13522-2409301359--32132-2-10957-2410020155",
         "LGA",
         "United States",
         "New York LaGuardia",
         "DEL",
         "Indira Gandhi International ",
         1586,
         2,
         "2024-09-30T13:59:00",
         "2024-10-02T01:55:00",
         2,
         "₹71,750",
         false,
         null,
         [
          "BOS",
          "AMS"
         ],
         [
          "KLM"
         ],
         "2024-09-30"
        ],
        [
         "13522-2409301500--32132-2-10957-2410020155",
         "LGA",
         "United States",
         "New York LaGuardia",
         "DEL",
         "Indira Gandhi International ",
         1525,
         2,
         "2024-09-30T15:00:00",
         "2024-10-02T01:55:00",
         2,
         "₹78,443",
         false,
         null,
         [
          "DTW",
          "AMS"
         ],
         [
          "KLM"
         ],
         "2024-09-30"
        ],
        [
         "13522-2409301545--32695-1-10957-2410012145",
         "LGA",
         "United States",
         "New York LaGuardia",
         "DEL",
         "Indira Gandhi International ",
         1230,
         1,
         "2024-09-30T15:45:00",
         "2024-10-01T21:45:00",
         1,
         "₹108,439",
         false,
         [
          "third_shortest"
         ],
         [
          "YUL"
         ],
         [
          "Air Canada"
         ],
         "2024-09-30"
        ],
        [
         "13522-2409301600--32132-2-10957-2410020155",
         "LGA",
         "United States",
         "New York LaGuardia",
         "DEL",
         "Indira Gandhi International ",
         1465,
         2,
         "2024-09-30T16:00:00",
         "2024-10-02T01:55:00",
         2,
         "₹66,646",
         false,
         null,
         [
          "BOS",
          "AMS"
         ],
         [
          "KLM"
         ],
         "2024-09-30"
        ],
        [
         "13522-2409301600--32132-2-10957-2410030155",
         "LGA",
         "United States",
         "New York LaGuardia",
         "DEL",
         "Indira Gandhi International ",
         2905,
         2,
         "2024-09-30T16:00:00",
         "2024-10-03T01:55:00",
         3,
         "₹62,097",
         false,
         [
          "second_cheapest"
         ],
         [
          "BOS",
          "AMS"
         ],
         [
          "KLM"
         ],
         "2024-09-30"
        ],
        [
         "13522-2409301600--32677-2-10957-2410012235",
         "LGA",
         "United States",
         "New York LaGuardia",
         "DEL",
         "Indira Gandhi International ",
         1265,
         2,
         "2024-09-30T16:00:00",
         "2024-10-01T22:35:00",
         1,
         "₹62,042",
         false,
         [
          "cheapest"
         ],
         [
          "CDG",
          "BOS"
         ],
         [
          "Air France"
         ],
         "2024-09-30"
        ],
        [
         "13522-2409301800--31697-2-10957-2410020005",
         "LGA",
         "United States",
         "New York LaGuardia",
         "DEL",
         "Indira Gandhi International ",
         1235,
         2,
         "2024-09-30T18:00:00",
         "2024-10-02T00:05:00",
         2,
         "₹107,941",
         false,
         null,
         [
          "BOS",
          "LHR"
         ],
         [
          "Virgin Atlantic"
         ],
         "2024-09-30"
        ],
        [
         "13522-2409301800--32695-1-10957-2410012145",
         "LGA",
         "United States",
         "New York LaGuardia",
         "DEL",
         "Indira Gandhi International ",
         1095,
         1,
         "2024-09-30T18:00:00",
         "2024-10-01T21:45:00",
         1,
         "₹108,439",
         false,
         [
          "second_shortest"
         ],
         [
          "YUL"
         ],
         [
          "Air Canada"
         ],
         "2024-09-30"
        ],
        [
         "13522-2409301859--31697,-32360-2-14773-2410012010",
         "LGA",
         "United States",
         "New York LaGuardia",
         "NQY",
         "Newquay",
         1211,
         2,
         "2024-09-30T18:59:00",
         "2024-10-01T20:10:00",
         1,
         "₹54,657",
         false,
         [
          "cheapest",
          "second_shortest"
         ],
         [
          "BOS",
          "LGW"
         ],
         [
          "Eastern Airways",
          "Virgin Atlantic"
         ],
         "2024-09-30"
        ],
        [
         "13522-2409301859--32677-2-10957-2410022235",
         "LGA",
         "United States",
         "New York LaGuardia",
         "DEL",
         "Indira Gandhi International ",
         2526,
         2,
         "2024-09-30T18:59:00",
         "2024-10-02T22:35:00",
         2,
         "₹62,277",
         false,
         [
          "third_cheapest"
         ],
         [
          "CDG",
          "ATL"
         ],
         [
          "Air France"
         ],
         "2024-09-30"
        ],
        [
         "13522-2409301920--32695,-32360-2-14773-2410012010",
         "LGA",
         "United States",
         "New York LaGuardia",
         "NQY",
         "Newquay",
         1190,
         2,
         "2024-09-30T19:20:00",
         "2024-10-01T20:10:00",
         1,
         "₹61,073",
         false,
         [
          "second_cheapest",
          "shortest"
         ],
         [
          "YUL",
          "LGW"
         ],
         [
          "Eastern Airways",
          "Air Canada"
         ],
         "2024-09-30"
        ],
        [
         "13522-2409301920--32695,-32677-3-14585-2410012235",
         "LGA",
         "United States",
         "New York LaGuardia",
         "NCL",
         "Newcastle",
         1335,
         3,
         "2024-09-30T19:20:00",
         "2024-10-01T22:35:00",
         1,
         "₹89,815",
         false,
         [
          "cheapest",
          "shortest"
         ],
         [
          "CDG",
          "YUL",
          "AMS"
         ],
         [
          "Air France",
          "Air Canada"
         ],
         "2024-09-30"
        ],
        [
         "13522-2409301920--32695-1-10957-2410012145",
         "LGA",
         "United States",
         "New York LaGuardia",
         "DEL",
         "Indira Gandhi International ",
         1015,
         1,
         "2024-09-30T19:20:00",
         "2024-10-01T21:45:00",
         1,
         "₹108,439",
         false,
         [
          "shortest"
         ],
         [
          "YUL"
         ],
         [
          "Air Canada"
         ],
         "2024-09-30"
        ],
        [
         "14585-2409302010--32480,-32094-2-14773-2410020945",
         "NCL",
         "United Kingdom",
         "Newcastle",
         "NQY",
         "Newquay",
         2255,
         2,
         "2024-09-30T20:10:00",
         "2024-10-02T09:45:00",
         2,
         "₹74,169",
         false,
         [
          "second_cheapest",
          "second_shortest"
         ],
         [
          "MAN",
          "LHR"
         ],
         [
          "British Airways",
          "Loganair"
         ],
         "2024-09-30"
        ],
        [
         "14585-2409302010--32480,-32094-3-14773-2410020945",
         "NCL",
         "United Kingdom",
         "Newcastle",
         "NQY",
         "Newquay",
         2255,
         3,
         "2024-09-30T20:10:00",
         "2024-10-02T09:45:00",
         2,
         "₹70,152",
         false,
         [
          "cheapest",
          "shortest"
         ],
         [
          "ABZ",
          "MAN",
          "LHR"
         ],
         [
          "British Airways",
          "Loganair"
         ],
         "2024-09-30"
        ],
        [
         "14585-2409302010--32480,-32317-1-11442-2410011355",
         "NCL",
         "United Kingdom",
         "Newcastle",
         "EWR",
         "New York Newark",
         1365,
         1,
         "2024-09-30T20:10:00",
         "2024-10-01T13:55:00",
         1,
         "₹231,984",
         false,
         [
          "cheapest",
          "shortest"
         ],
         [
          "LHR"
         ],
         [
          "Finnair",
          "British Airways"
         ],
         "2024-09-30"
        ],
        [
         "14585-2409302010--32480,-32317-1-11442-2410011355",
         "NCL",
         "United Kingdom",
         "Newcastle",
         "EWR",
         "New York Newark",
         1365,
         1,
         "2024-09-30T20:10:00",
         "2024-10-01T13:55:00",
         1,
         "₹233,034",
         false,
         [
          "second_cheapest",
          "second_shortest"
         ],
         [
          "LHR"
         ],
         [
          "Finnair",
          "British Airways"
         ],
         "2024-09-30"
        ],
        [
         "14585-2409302010--32480,-32317-1-12712-2410011105",
         "NCL",
         "United Kingdom",
         "Newcastle",
         "JFK",
         "New York John F. Kennedy",
         1195,
         1,
         "2024-09-30T20:10:00",
         "2024-10-01T11:05:00",
         1,
         "₹233,034",
         false,
         [
          "second_cheapest",
          "shortest"
         ],
         [
          "LHR"
         ],
         [
          "Finnair",
          "British Airways"
         ],
         "2024-09-30"
        ],
        [
         "14585-2409302010--32480,-32317-1-12712-2410011105",
         "NCL",
         "United Kingdom",
         "Newcastle",
         "JFK",
         "New York John F. Kennedy",
         1195,
         1,
         "2024-09-30T20:10:00",
         "2024-10-01T11:05:00",
         1,
         "₹233,034",
         false,
         [
          "cheapest",
          "shortest"
         ],
         [
          "LHR"
         ],
         [
          "Finnair",
          "British Airways"
         ],
         "2024-09-30"
        ],
        [
         "14585-2409302010--32480,-32317-2-10957-2410020520",
         "NCL",
         "United Kingdom",
         "Newcastle",
         "DEL",
         "Indira Gandhi International ",
         1720,
         2,
         "2024-09-30T20:10:00",
         "2024-10-02T05:20:00",
         2,
         "₹168,902",
         false,
         [
          "second_cheapest",
          "shortest"
         ],
         [
          "LHR",
          "HEL"
         ],
         [
          "Finnair",
          "British Airways"
         ],
         "2024-09-30"
        ],
        [
         "14585-2409302010--32480,-32317-2-10957-2410030520",
         "NCL",
         "United Kingdom",
         "Newcastle",
         "DEL",
         "Indira Gandhi International ",
         3160,
         2,
         "2024-09-30T20:10:00",
         "2024-10-03T05:20:00",
         3,
         "₹65,627",
         false,
         [
          "cheapest",
          "second_shortest"
         ],
         [
          "LHR",
          "HEL"
         ],
         [
          "Finnair",
          "British Airways"
         ],
         "2024-09-30"
        ],
        [
         "14585-2409302010--32480,-32317-2-12712-2410011905",
         "NCL",
         "United Kingdom",
         "Newcastle",
         "JFK",
         "New York John F. Kennedy",
         1675,
         2,
         "2024-09-30T20:10:00",
         "2024-10-01T19:05:00",
         1,
         "₹274,795",
         false,
         null,
         [
          "LHR",
          "HEL"
         ],
         [
          "Finnair",
          "British Airways"
         ],
         "2024-09-30"
        ],
        [
         "14585-2409302010--32480,-32317-2-12712-2410011905",
         "NCL",
         "United Kingdom",
         "Newcastle",
         "JFK",
         "New York John F. Kennedy",
         1675,
         2,
         "2024-09-30T20:10:00",
         "2024-10-01T19:05:00",
         1,
         "₹274,795",
         false,
         [
          "third_shortest"
         ],
         [
          "LHR",
          "HEL"
         ],
         [
          "Finnair",
          "British Airways"
         ],
         "2024-09-30"
        ],
        [
         "14585-2409302010--32480,-32317-2-12712-2410011915",
         "NCL",
         "United Kingdom",
         "Newcastle",
         "JFK",
         "New York John F. Kennedy",
         1685,
         2,
         "2024-09-30T20:10:00",
         "2024-10-01T19:15:00",
         1,
         "₹233,503",
         false,
         null,
         [
          "LHR",
          "BOS"
         ],
         [
          "Finnair",
          "British Airways"
         ],
         "2024-09-30"
        ],
        [
         "14585-2409302010--32480,-32317-2-12712-2410011915",
         "NCL",
         "United Kingdom",
         "Newcastle",
         "JFK",
         "New York John F. Kennedy",
         1685,
         2,
         "2024-09-30T20:10:00",
         "2024-10-01T19:15:00",
         1,
         "₹233,503",
         false,
         [
          "third_cheapest"
         ],
         [
          "LHR",
          "BOS"
         ],
         [
          "Finnair",
          "British Airways"
         ],
         "2024-09-30"
        ],
        [
         "14585-2409302010--32480,-32573-1-12712-2410011105",
         "NCL",
         "United Kingdom",
         "Newcastle",
         "JFK",
         "New York John F. Kennedy",
         1195,
         1,
         "2024-09-30T20:10:00",
         "2024-10-01T11:05:00",
         1,
         "₹233,332",
         false,
         [
          "third_cheapest",
          "second_shortest"
         ],
         [
          "LHR"
         ],
         [
          "British Airways",
          "American Airlines"
         ],
         "2024-09-30"
        ],
        [
         "14585-2409302010--32480,-32573-2-12712-2410011329",
         "NCL",
         "United Kingdom",
         "Newcastle",
         "JFK",
         "New York John F. Kennedy",
         1339,
         2,
         "2024-09-30T20:10:00",
         "2024-10-01T13:29:00",
         1,
         "₹234,898",
         false,
         [
          "third_shortest"
         ],
         [
          "DUB",
          "LHR"
         ],
         [
          "British Airways",
          "American Airlines"
         ],
         "2024-09-30"
        ],
        [
         "14585-2409302010--32480,-32573-2-12712-2410011915",
         "NCL",
         "United Kingdom",
         "Newcastle",
         "JFK",
         "New York John F. Kennedy",
         1685,
         2,
         "2024-09-30T20:10:00",
         "2024-10-01T19:15:00",
         1,
         "₹225,214",
         false,
         [
          "cheapest"
         ],
         [
          "LHR",
          "BOS"
         ],
         [
          "British Airways",
          "American Airlines"
         ],
         "2024-09-30"
        ],
        [
         "14585-2409302010--32480-1-11442-2410011355",
         "NCL",
         "United Kingdom",
         "Newcastle",
         "EWR",
         "New York Newark",
         1365,
         1,
         "2024-09-30T20:10:00",
         "2024-10-01T13:55:00",
         1,
         "₹232,039",
         false,
         [
          "second_cheapest",
          "second_shortest"
         ],
         [
          "LHR"
         ],
         [
          "British Airways"
         ],
         "2024-09-30"
        ],
        [
         "14585-2409302010--32480-2-11442-2410011705",
         "NCL",
         "United Kingdom",
         "Newcastle",
         "EWR",
         "New York Newark",
         1555,
         2,
         "2024-09-30T20:10:00",
         "2024-10-01T17:05:00",
         1,
         "₹242,578",
         false,
         [
          "third_cheapest",
          "third_shortest"
         ],
         [
          "LHR",
          "ORD"
         ],
         [
          "British Airways"
         ],
         "2024-09-30"
        ],
        [
         "14585-2409302010--32480-2-13522-2410011759",
         "NCL",
         "United Kingdom",
         "Newcastle",
         "LGA",
         "New York LaGuardia",
         1609,
         2,
         "2024-09-30T20:10:00",
         "2024-10-01T17:59:00",
         1,
         "₹242,578",
         false,
         [
          "second_cheapest",
          "shortest"
         ],
         [
          "LHR",
          "ORD"
         ],
         [
          "British Airways"
         ],
         "2024-09-30"
        ],
        [
         "14585-2409302010--32480-2-13522-2410012101",
         "NCL",
         "United Kingdom",
         "Newcastle",
         "LGA",
         "New York LaGuardia",
         1791,
         2,
         "2024-09-30T20:10:00",
         "2024-10-01T21:01:00",
         1,
         "₹232,531",
         false,
         [
          "cheapest",
          "second_shortest"
         ],
         [
          "YYZ",
          "LHR"
         ],
         [
          "British Airways"
         ],
         "2024-09-30"
        ],
        [
         "14585-2409302010--32480-2-14773-2410020945",
         "NCL",
         "United Kingdom",
         "Newcastle",
         "NQY",
         "Newquay",
         2255,
         2,
         "2024-09-30T20:10:00",
         "2024-10-02T09:45:00",
         2,
         "₹77,394",
         false,
         [
          "third_cheapest",
          "third_shortest"
         ],
         [
          "MAN",
          "LHR"
         ],
         [
          "British Airways"
         ],
         "2024-09-30"
        ],
        [
         "16643-2409301915--30789,-31435-2-10957-2410021005",
         "SWF",
         "United States",
         "Stewart International",
         "DEL",
         "Indira Gandhi International ",
         1760,
         2,
         "2024-09-30T19:15:00",
         "2024-10-02T10:05:00",
         2,
         "₹73,475",
         false,
         [
          "third_cheapest"
         ],
         [
          "CDG",
          "KEF"
         ],
         [
          "Vistara",
          "Fly Play"
         ],
         "2024-09-30"
        ],
        [
         "16643-2409301915--30789,-31714-3-10957-2410021215",
         "SWF",
         "United States",
         "Stewart International",
         "DEL",
         "Indira Gandhi International ",
         1890,
         3,
         "2024-09-30T19:15:00",
         "2024-10-02T12:15:00",
         2,
         "₹67,464",
         false,
         [
          "cheapest"
         ],
         [
          "CDG",
          "TAS",
          "KEF"
         ],
         [
          "Uzbekistan Airways",
          "Fly Play"
         ],
         "2024-09-30"
        ],
        [
         "16643-2409301915--30789,-31939-3-10957-2410021500",
         "SWF",
         "United States",
         "Stewart International",
         "DEL",
         "Indira Gandhi International ",
         2055,
         3,
         "2024-09-30T19:15:00",
         "2024-10-02T15:00:00",
         2,
         "₹87,625",
         false,
         null,
         [
          "DUS",
          "DOH",
          "KEF"
         ],
         [
          "Qatar Airways",
          "Fly Play"
         ],
         "2024-09-30"
        ],
        [
         "16643-2409301915--30789,-32119,-32213-4-10957-2410021245",
         "SWF",
         "United States",
         "Stewart International",
         "DEL",
         "Indira Gandhi International ",
         1920,
         4,
         "2024-09-30T19:15:00",
         "2024-10-02T12:45:00",
         2,
         "₹79,194",
         false,
         null,
         [
          "CDG",
          "KWI",
          "HYD",
          "KEF"
         ],
         [
          "Kuwait Airways",
          "IndiGo",
          "Fly Play"
         ],
         "2024-09-30"
        ],
        [
         "16643-2409301915--30789,-32119,-32213-4-10957-2410021735",
         "SWF",
         "United States",
         "Stewart International",
         "DEL",
         "Indira Gandhi International ",
         2210,
         4,
         "2024-09-30T19:15:00",
         "2024-10-02T17:35:00",
         2,
         "₹78,299",
         false,
         null,
         [
          "CDG",
          "KWI",
          "HYD",
          "KEF"
         ],
         [
          "Kuwait Airways",
          "IndiGo",
          "Fly Play"
         ],
         "2024-09-30"
        ],
        [
         "16643-2409301915--30789,-32119-3-10957-2410020555",
         "SWF",
         "United States",
         "Stewart International",
         "DEL",
         "Indira Gandhi International ",
         1510,
         3,
         "2024-09-30T19:15:00",
         "2024-10-02T05:55:00",
         2,
         "₹86,391",
         false,
         [
          "second_shortest"
         ],
         [
          "CDG",
          "KWI",
          "KEF"
         ],
         [
          "Kuwait Airways",
          "Fly Play"
         ],
         "2024-09-30"
        ],
        [
         "16643-2409301915--30789,-32132,-32356-4-14585-2410012120",
         "SWF",
         "United States",
         "Stewart International",
         "NCL",
         "Newcastle",
         1265,
         4,
         "2024-09-30T19:15:00",
         "2024-10-01T21:20:00",
         1,
         "₹60,507",
         false,
         null,
         [
          "CDG",
          "AMS",
          "BRS",
          "KEF"
         ],
         [
          "KLM",
          "easyJet",
          "Fly Play"
         ],
         "2024-09-30"
        ],
        [
         "16643-2409301915--30789,-32132-3-14585-2410011640",
         "SWF",
         "United States",
         "Stewart International",
         "NCL",
         "Newcastle",
         985,
         3,
         "2024-09-30T19:15:00",
         "2024-10-01T16:40:00",
         1,
         "₹60,363",
         false,
         [
          "shortest"
         ],
         [
          "DUS",
          "AMS",
          "KEF"
         ],
         [
          "KLM",
          "Fly Play"
         ],
         "2024-09-30"
        ],
        [
         "16643-2409301915--30789,-32132-3-14585-2410012255",
         "SWF",
         "United States",
         "Stewart International",
         "NCL",
         "Newcastle",
         1360,
         3,
         "2024-09-30T19:15:00",
         "2024-10-01T22:55:00",
         1,
         "₹54,103",
         false,
         null,
         [
          "CDG",
          "AMS",
          "KEF"
         ],
         [
          "KLM",
          "Fly Play"
         ],
         "2024-09-30"
        ],
        [
         "16643-2409301915--30789,-32217,-32753,-32094-3-14773-2410020945",
         "SWF",
         "United States",
         "Stewart International",
         "NQY",
         "Newquay",
         2010,
         3,
         "2024-09-30T19:15:00",
         "2024-10-02T09:45:00",
         2,
         "₹77,082",
         false,
         [
          "third_shortest"
         ],
         [
          "MAN",
          "DUB",
          "KEF"
         ],
         [
          "Aer Lingus",
          "Icelandair",
          "Loganair",
          "Fly Play"
         ],
         "2024-09-30"
        ],
        [
         "16643-2409301915--30789,-32217,-32753,-32094-4-14773-2410020945",
         "SWF",
         "United States",
         "Stewart International",
         "NQY",
         "Newquay",
         2010,
         4,
         "2024-09-30T19:15:00",
         "2024-10-02T09:45:00",
         2,
         "₹74,569",
         false,
         [
          "second_cheapest",
          "second_shortest"
         ],
         [
          "ABZ",
          "MAN",
          "DUB",
          "KEF"
         ],
         [
          "Aer Lingus",
          "Icelandair",
          "Loganair",
          "Fly Play"
         ],
         "2024-09-30"
        ],
        [
         "16643-2409301915--30789,-32217,-32753-3-14773-2410021245",
         "SWF",
         "United States",
         "Stewart International",
         "NQY",
         "Newquay",
         2190,
         3,
         "2024-09-30T19:15:00",
         "2024-10-02T12:45:00",
         2,
         "₹86,288",
         false,
         null,
         [
          "MAN",
          "DUB",
          "KEF"
         ],
         [
          "Aer Lingus",
          "Icelandair",
          "Fly Play"
         ],
         "2024-09-30"
        ],
        [
         "16643-2409301915--30789,-32317-3-10957-2410020520",
         "SWF",
         "United States",
         "Stewart International",
         "DEL",
         "Indira Gandhi International ",
         1475,
         3,
         "2024-09-30T19:15:00",
         "2024-10-02T05:20:00",
         2,
         "₹105,046",
         false,
         [
          "shortest"
         ],
         [
          "CPH",
          "KEF",
          "HEL"
         ],
         [
          "Finnair",
          "Fly Play"
         ],
         "2024-09-30"
        ],
        [
         "16643-2409301915--30789,-32356,-32753-4-14773-2410021245",
         "SWF",
         "United States",
         "Stewart International",
         "NQY",
         "Newquay",
         2190,
         4,
         "2024-09-30T19:15:00",
         "2024-10-02T12:45:00",
         2,
         "₹74,681",
         false,
         [
          "third_cheapest"
         ],
         [
          "CDG",
          "MAN",
          "DUB",
          "KEF"
         ],
         [
          "Aer Lingus",
          "easyJet",
          "Fly Play"
         ],
         "2024-09-30"
        ],
        [
         "16643-2409301915--30789,-32356-3-14585-2410011750",
         "SWF",
         "United States",
         "Stewart International",
         "NCL",
         "Newcastle",
         1055,
         3,
         "2024-09-30T19:15:00",
         "2024-10-01T17:50:00",
         1,
         "₹49,139",
         false,
         [
          "second_cheapest",
          "second_shortest"
         ],
         [
          "STN",
          "BFS",
          "KEF"
         ],
         [
          "easyJet",
          "Fly Play"
         ],
         "2024-09-30"
        ],
        [
         "16643-2409301915--30789,-32356-3-14585-2410012120",
         "SWF",
         "United States",
         "Stewart International",
         "NCL",
         "Newcastle",
         1265,
         3,
         "2024-09-30T19:15:00",
         "2024-10-01T21:20:00",
         1,
         "₹42,631",
         false,
         [
          "cheapest",
          "third_shortest"
         ],
         [
          "CDG",
          "BRS",
          "KEF"
         ],
         [
          "easyJet",
          "Fly Play"
         ],
         "2024-09-30"
        ],
        [
         "16643-2409301915--30789,-32360-2-14773-2410012010",
         "SWF",
         "United States",
         "Stewart International",
         "NQY",
         "Newquay",
         1195,
         2,
         "2024-09-30T19:15:00",
         "2024-10-01T20:10:00",
         1,
         "₹50,836",
         false,
         [
          "cheapest",
          "shortest"
         ],
         [
          "LGW",
          "KEF"
         ],
         [
          "Eastern Airways",
          "Fly Play"
         ],
         "2024-09-30"
        ],
        [
         "16643-2409301915--30789,-32672-2-10957-2410020810",
         "SWF",
         "United States",
         "Stewart International",
         "DEL",
         "Indira Gandhi International ",
         1645,
         2,
         "2024-09-30T19:15:00",
         "2024-10-02T08:10:00",
         2,
         "₹73,326",
         false,
         [
          "second_cheapest",
          "third_shortest"
         ],
         [
          "CDG",
          "KEF"
         ],
         [
          "Air India",
          "Fly Play"
         ],
         "2024-09-30"
        ],
        [
         "16643-2409301915--30789,-32672-3-10957-2410021445",
         "SWF",
         "United States",
         "Stewart International",
         "DEL",
         "Indira Gandhi International ",
         2040,
         3,
         "2024-09-30T19:15:00",
         "2024-10-02T14:45:00",
         2,
         "₹75,267",
         false,
         null,
         [
          "BOM",
          "LHR",
          "KEF"
         ],
         [
          "Air India",
          "Fly Play"
         ],
         "2024-09-30"
        ],
        [
         "16643-2409301915--30789,-32677,-31697-3-10957-2410020930",
         "SWF",
         "United States",
         "Stewart International",
         "DEL",
         "Indira Gandhi International ",
         1725,
         3,
         "2024-09-30T19:15:00",
         "2024-10-02T09:30:00",
         2,
         "₹96,812",
         false,
         null,
         [
          "CDG",
          "LHR",
          "KEF"
         ],
         [
          "Virgin Atlantic",
          "Air France",
          "Fly Play"
         ],
         "2024-09-30"
        ],
        [
         "16643-2409301915--30789,-32677-3-14585-2410012235",
         "SWF",
         "United States",
         "Stewart International",
         "NCL",
         "Newcastle",
         1340,
         3,
         "2024-09-30T19:15:00",
         "2024-10-01T22:35:00",
         1,
         "₹55,403",
         false,
         null,
         [
          "CDG",
          "HAM",
          "KEF"
         ],
         [
          "Air France",
          "Fly Play"
         ],
         "2024-09-30"
        ],
        [
         "16643-2409301915--30789,-32753,-32094-4-14773-2410020945",
         "SWF",
         "United States",
         "Stewart International",
         "NQY",
         "Newquay",
         2010,
         4,
         "2024-09-30T19:15:00",
         "2024-10-02T09:45:00",
         2,
         "₹91,392",
         false,
         null,
         [
          "CDG",
          "MAN",
          "DUB",
          "KEF"
         ],
         [
          "Aer Lingus",
          "Loganair",
          "Fly Play"
         ],
         "2024-09-30"
        ],
        [
         "16643-2409301915--30789,-32753,-32356-4-14585-2410012120",
         "SWF",
         "United States",
         "Stewart International",
         "NCL",
         "Newcastle",
         1265,
         4,
         "2024-09-30T19:15:00",
         "2024-10-01T21:20:00",
         1,
         "₹65,525",
         false,
         null,
         [
          "CDG",
          "DUB",
          "BRS",
          "KEF"
         ],
         [
          "Aer Lingus",
          "easyJet",
          "Fly Play"
         ],
         "2024-09-30"
        ],
        [
         "16643-2409301915--30789,-32753-3-14585-2410020745",
         "SWF",
         "United States",
         "Stewart International",
         "NCL",
         "Newcastle",
         1890,
         3,
         "2024-09-30T19:15:00",
         "2024-10-02T07:45:00",
         2,
         "₹49,659",
         false,
         [
          "third_cheapest"
         ],
         [
          "DUB",
          "LHR",
          "KEF"
         ],
         [
          "Aer Lingus",
          "Fly Play"
         ],
         "2024-09-30"
        ]
       ],
       "datasetInfos": [],
       "dbfsResultPath": null,
       "isJsonSchema": true,
       "metadata": {},
       "overflow": false,
       "plotOptions": {
        "customPlotOptions": {},
        "displayType": "table",
        "pivotAggregation": null,
        "pivotColumns": null,
        "xColumns": null,
        "yColumns": null
       },
       "removedWidgets": [],
       "schema": [
        {
         "metadata": "{}",
         "name": "id",
         "type": "\"string\""
        },
        {
         "metadata": "{}",
         "name": "SourceCode",
         "type": "\"string\""
        },
        {
         "metadata": "{}",
         "name": "SourceCountry",
         "type": "\"string\""
        },
        {
         "metadata": "{}",
         "name": "SourceAirport",
         "type": "\"string\""
        },
        {
         "metadata": "{}",
         "name": "DestinationCode",
         "type": "\"string\""
        },
        {
         "metadata": "{}",
         "name": "DestinationAirport",
         "type": "\"string\""
        },
        {
         "metadata": "{}",
         "name": "durationInMinutes",
         "type": "\"integer\""
        },
        {
         "metadata": "{}",
         "name": "stopCount",
         "type": "\"integer\""
        },
        {
         "metadata": "{}",
         "name": "departure",
         "type": "\"string\""
        },
        {
         "metadata": "{}",
         "name": "arrival",
         "type": "\"string\""
        },
        {
         "metadata": "{}",
         "name": "timeDeltaInDays",
         "type": "\"integer\""
        },
        {
         "metadata": "{}",
         "name": "Price",
         "type": "\"string\""
        },
        {
         "metadata": "{}",
         "name": "isPartiallyRefundable",
         "type": "\"boolean\""
        },
        {
         "metadata": "{}",
         "name": "tags",
         "type": "{\"type\":\"array\",\"elementType\":\"string\",\"containsNull\":true}"
        },
        {
         "metadata": "{}",
         "name": "Layovers",
         "type": "{\"type\":\"array\",\"elementType\":\"string\",\"containsNull\":false}"
        },
        {
         "metadata": "{}",
         "name": "airline",
         "type": "{\"type\":\"array\",\"elementType\":\"string\",\"containsNull\":false}"
        },
        {
         "metadata": "{}",
         "name": "DepartureDate",
         "type": "\"date\""
        }
       ],
       "type": "table"
      }
     },
     "output_type": "display_data"
    }
   ],
   "source": [
    "from pyspark.sql.functions import col, explode, collect_set\n",
    "\n",
    "# Explode legs and select relevant columns\n",
    "df = flightdf.withColumn('flights', explode('legs')) \\\n",
    "    .drop('legs') \\\n",
    "    .select(\n",
    "        col('flights.origin.displayCode').alias('SourceCode'),\n",
    "        col('flights.origin.country').alias('SourceCountry'),\n",
    "        col('flights.origin.name').alias('SourceAirport'),\n",
    "        col('flights.destination.displayCode').alias('DestinationCode'),\n",
    "        col('flights.destination.name').alias('DestinationAirport'),\n",
    "        col('flights.durationInMinutes').alias('durationInMinutes'),\n",
    "        col('flights.stopCount').alias('stopCount'),\n",
    "        col('flights.departure').alias('departure'),\n",
    "        col('flights.arrival').alias('arrival'),\n",
    "        col('flights.timeDeltaInDays').alias('timeDeltaInDays'),\n",
    "        col('Price.formatted').alias('Price'),\n",
    "        col('farePolicy.isPartiallyRefundable').alias('isPartiallyRefundable'),\n",
    "        col('flights.segments').alias('segments'),\n",
    "        col('flights.carriers.marketing').alias('carriers'),\n",
    "        'tags',\n",
    "        'id'\n",
    "    )\n",
    "\n",
    "# Explode the segments and filter where SourceCode is not equal to Layover\n",
    "df_layover = df.withColumn('segments', explode('segments')) \\\n",
    "    .withColumn('Layover', col('segments.origin.displayCode')) \\\n",
    "    .filter(col('SourceCode') != col('Layover')) \\\n",
    "    .groupBy('id').agg(collect_set('Layover').alias('Layovers'))\n",
    "\n",
    "df_carrier = df.withColumn('carriers', explode('carriers'))\\\n",
    "             .withColumn('airline',col('carriers.name'))\\\n",
    "            .groupBy('id').agg(collect_set('airline').alias('airline'))\n",
    "             \n",
    "\n",
    "\n",
    "# Perform the join on 'id'\n",
    "result_df = df.join(df_layover, on='id', how='outer').join(df_carrier, on='id', how='outer')\\\n",
    "            .drop('segments')\\\n",
    "            .drop('carriers')\\\n",
    "            .withColumn('DepartureDate', current_date())\n",
    "\n",
    "# Display the result\n",
    "result_df.display()\n"
   ]
  },
  {
   "cell_type": "code",
   "execution_count": 0,
   "metadata": {
    "application/vnd.databricks.v1+cell": {
     "cellMetadata": {
      "byteLimit": 2048000,
      "rowLimit": 10000
     },
     "inputWidgets": {},
     "nuid": "9ecc7c59-94e1-40a9-983e-52479190c98e",
     "showTitle": false,
     "title": ""
    }
   },
   "outputs": [],
   "source": [
    "result_df.write.mode('append').saveAsTable('Flights')"
   ]
  },
  {
   "cell_type": "code",
   "execution_count": 0,
   "metadata": {
    "application/vnd.databricks.v1+cell": {
     "cellMetadata": {
      "byteLimit": 2048000,
      "rowLimit": 10000
     },
     "inputWidgets": {},
     "nuid": "211a581e-3224-4501-9fd8-9df8043abfa7",
     "showTitle": false,
     "title": ""
    }
   },
   "outputs": [],
   "source": []
  }
 ],
 "metadata": {
  "application/vnd.databricks.v1+notebook": {
   "dashboards": [],
   "environmentMetadata": null,
   "language": "python",
   "notebookMetadata": {
    "mostRecentlyExecutedCommandWithImplicitDF": {
     "commandId": 881738465523961,
     "dataframes": [
      "_sqldf"
     ]
    },
    "pythonIndentUnit": 4
   },
   "notebookName": "FlightDetails",
   "widgets": {}
  }
 },
 "nbformat": 4,
 "nbformat_minor": 0
}
