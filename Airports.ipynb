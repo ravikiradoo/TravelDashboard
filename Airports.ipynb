{
 "cells": [
  {
   "cell_type": "code",
   "execution_count": 0,
   "metadata": {
    "application/vnd.databricks.v1+cell": {
     "cellMetadata": {
      "byteLimit": 2048000,
      "rowLimit": 10000
     },
     "inputWidgets": {},
     "nuid": "4f9b7c38-9d64-4c90-934b-5fa60421410c",
     "showTitle": false,
     "title": ""
    }
   },
   "outputs": [],
   "source": [
    "from pyspark.sql.types import StructType, StructField, StringType\n",
    "\n",
    "schema = StructType([\n",
    "    StructField('id', StringType(), True),\n",
    "    StructField('presentation', StructType([\n",
    "        StructField('title', StringType(), True),\n",
    "        StructField('suggestionTitle', StringType(), True),\n",
    "        StructField('subtitle', StringType(), True)\n",
    "    ]), True),\n",
    "    StructField('navigation', StructType([\n",
    "        StructField('entityId', StringType(), True),\n",
    "        StructField('entityType', StringType(), True),\n",
    "        StructField('localizedName', StringType(), True),\n",
    "        StructField('relevantFlightParams', StructType([\n",
    "            StructField('skyId', StringType(), True),\n",
    "            StructField('entityId', StringType(), True),\n",
    "            StructField('flightPlaceType', StringType(), True),\n",
    "            StructField('localizedName', StringType(), True)\n",
    "        ]), True),\n",
    "        StructField('relevantHotelParams', StructType([\n",
    "            StructField('entityId', StringType(), True),\n",
    "            StructField('entityType', StringType(), True),\n",
    "            StructField('localizedName', StringType(), True)\n",
    "        ]), True)\n",
    "    ]), True)\n",
    "])\n"
   ]
  },
  {
   "cell_type": "code",
   "execution_count": 0,
   "metadata": {
    "application/vnd.databricks.v1+cell": {
     "cellMetadata": {
      "byteLimit": 2048000,
      "rowLimit": 10000
     },
     "inputWidgets": {},
     "nuid": "24e0166e-731c-4297-9e53-5d371b72be11",
     "showTitle": false,
     "title": ""
    }
   },
   "outputs": [],
   "source": [
    "import requests\n",
    "import json\n",
    "from pyspark.sql.functions import *\n",
    "headers = {\n",
    "    \"x-rapidapi-host\": \"skyscanner80.p.rapidapi.com\",\n",
    "    \"x-rapidapi-key\": \"da5e4cb143mshb0961ab3efe73aep1f7bb7jsnd5bbdf38c6dc\"  \n",
    "}\n",
    "df = spark.read.table('Country')\n",
    "\n",
    "response = requests.get('https://skyscanner80.p.rapidapi.com/api/v1/flights/auto-complete?query=new&market=US&locale=en-US', headers=headers)\n",
    "# Check if the request was successful\n",
    "if response.status_code == 200:\n",
    "    # Parse JSON response\n",
    "   airport=response.json()['data']\n",
    "   rdd = spark.sparkContext.parallelize(countrydata)\n",
    "   airportdf= spark.createDataFrame(rdd,schema=schema)\n",
    "else:\n",
    "    print(f\"Error: {response.status_code}, {response.text}\")\n"
   ]
  },
  {
   "cell_type": "code",
   "execution_count": 0,
   "metadata": {
    "application/vnd.databricks.v1+cell": {
     "cellMetadata": {
      "byteLimit": 2048000,
      "rowLimit": 10000
     },
     "inputWidgets": {},
     "nuid": "a3ed0371-4c54-475c-acd2-9b2c676964b3",
     "showTitle": false,
     "title": ""
    }
   },
   "outputs": [
    {
     "output_type": "display_data",
     "data": {
      "text/html": [
       "<style scoped>\n",
       "  .table-result-container {\n",
       "    max-height: 300px;\n",
       "    overflow: auto;\n",
       "  }\n",
       "  table, th, td {\n",
       "    border: 1px solid black;\n",
       "    border-collapse: collapse;\n",
       "  }\n",
       "  th, td {\n",
       "    padding: 5px;\n",
       "  }\n",
       "  th {\n",
       "    text-align: left;\n",
       "  }\n",
       "</style><div class='table-result-container'><table class='table-result'><thead style='background-color: white'><tr><th>id</th><th>entityId</th><th>flightPlaceType</th><th>localizedName</th><th>skyId</th><th>entityType</th><th>title</th><th>subtitle</th></tr></thead><tbody><tr><td>eyJzIjoiREVMIiwiZSI6Ijk1NjczNDk4IiwiaCI6IjI3NTQwNzA2In0=</td><td>95673498</td><td>AIRPORT</td><td>New Delhi</td><td>DEL</td><td>CITY</td><td>Indira Gandhi International </td><td>India</td></tr><tr><td>eyJzIjoiTkNMIiwiZSI6Ijk1Njc0MDQ0IiwiaCI6IjI3NTQ1MDkyIn0=</td><td>95674044</td><td>AIRPORT</td><td>Newcastle</td><td>NCL</td><td>CITY</td><td>Newcastle</td><td>United Kingdom</td></tr><tr><td>eyJzIjoiTlFZIiwiZSI6Ijk1NjczOTYzIiwiaCI6IjI3NTQ1MTQ5In0=</td><td>95673963</td><td>AIRPORT</td><td>Newquay</td><td>NQY</td><td>CITY</td><td>Newquay</td><td>United Kingdom</td></tr><tr><td>eyJzIjoiTllDQSIsImUiOiIyNzUzNzU0MiIsImgiOiIyNzUzNzU0MiJ9</td><td>27537542</td><td>CITY</td><td>New York</td><td>NYCA</td><td>CITY</td><td>New York</td><td>United States</td></tr><tr><td>eyJzIjoiRVdSIiwiZSI6Ijk1NTY1MDU5IiwiaCI6IjI3NTM3NTQyIn0=</td><td>95565059</td><td>AIRPORT</td><td>New York</td><td>EWR</td><td>CITY</td><td>New York Newark</td><td>United States</td></tr><tr><td>eyJzIjoiSkZLIiwiZSI6Ijk1NTY1MDU4IiwiaCI6IjI3NTM3NTQyIn0=</td><td>95565058</td><td>AIRPORT</td><td>New York</td><td>JFK</td><td>CITY</td><td>New York John F. Kennedy</td><td>United States</td></tr><tr><td>eyJzIjoiTEdBIiwiZSI6Ijk1NTY1MDU3IiwiaCI6IjI3NTM3NTQyIn0=</td><td>95565057</td><td>AIRPORT</td><td>New York</td><td>LGA</td><td>CITY</td><td>New York LaGuardia</td><td>United States</td></tr><tr><td>eyJzIjoiU1dGIiwiZSI6Ijk1NTY2MjgwIiwiaCI6IjI3NTM3NTQyIn0=</td><td>95566280</td><td>AIRPORT</td><td>New York</td><td>SWF</td><td>CITY</td><td>Stewart International</td><td>United States</td></tr></tbody></table></div>"
      ]
     },
     "metadata": {
      "application/vnd.databricks.v1+output": {
       "addedWidgets": {},
       "aggData": [],
       "aggError": "",
       "aggOverflow": false,
       "aggSchema": [],
       "aggSeriesLimitReached": false,
       "aggType": "",
       "arguments": {},
       "columnCustomDisplayInfos": {},
       "data": [
        [
         "eyJzIjoiREVMIiwiZSI6Ijk1NjczNDk4IiwiaCI6IjI3NTQwNzA2In0=",
         "95673498",
         "AIRPORT",
         "New Delhi",
         "DEL",
         "CITY",
         "Indira Gandhi International ",
         "India"
        ],
        [
         "eyJzIjoiTkNMIiwiZSI6Ijk1Njc0MDQ0IiwiaCI6IjI3NTQ1MDkyIn0=",
         "95674044",
         "AIRPORT",
         "Newcastle",
         "NCL",
         "CITY",
         "Newcastle",
         "United Kingdom"
        ],
        [
         "eyJzIjoiTlFZIiwiZSI6Ijk1NjczOTYzIiwiaCI6IjI3NTQ1MTQ5In0=",
         "95673963",
         "AIRPORT",
         "Newquay",
         "NQY",
         "CITY",
         "Newquay",
         "United Kingdom"
        ],
        [
         "eyJzIjoiTllDQSIsImUiOiIyNzUzNzU0MiIsImgiOiIyNzUzNzU0MiJ9",
         "27537542",
         "CITY",
         "New York",
         "NYCA",
         "CITY",
         "New York",
         "United States"
        ],
        [
         "eyJzIjoiRVdSIiwiZSI6Ijk1NTY1MDU5IiwiaCI6IjI3NTM3NTQyIn0=",
         "95565059",
         "AIRPORT",
         "New York",
         "EWR",
         "CITY",
         "New York Newark",
         "United States"
        ],
        [
         "eyJzIjoiSkZLIiwiZSI6Ijk1NTY1MDU4IiwiaCI6IjI3NTM3NTQyIn0=",
         "95565058",
         "AIRPORT",
         "New York",
         "JFK",
         "CITY",
         "New York John F. Kennedy",
         "United States"
        ],
        [
         "eyJzIjoiTEdBIiwiZSI6Ijk1NTY1MDU3IiwiaCI6IjI3NTM3NTQyIn0=",
         "95565057",
         "AIRPORT",
         "New York",
         "LGA",
         "CITY",
         "New York LaGuardia",
         "United States"
        ],
        [
         "eyJzIjoiU1dGIiwiZSI6Ijk1NTY2MjgwIiwiaCI6IjI3NTM3NTQyIn0=",
         "95566280",
         "AIRPORT",
         "New York",
         "SWF",
         "CITY",
         "Stewart International",
         "United States"
        ]
       ],
       "datasetInfos": [],
       "dbfsResultPath": null,
       "isJsonSchema": true,
       "metadata": {},
       "overflow": false,
       "plotOptions": {
        "customPlotOptions": {},
        "displayType": "table",
        "pivotAggregation": null,
        "pivotColumns": null,
        "xColumns": null,
        "yColumns": null
       },
       "removedWidgets": [],
       "schema": [
        {
         "metadata": "{}",
         "name": "id",
         "type": "\"string\""
        },
        {
         "metadata": "{}",
         "name": "entityId",
         "type": "\"string\""
        },
        {
         "metadata": "{}",
         "name": "flightPlaceType",
         "type": "\"string\""
        },
        {
         "metadata": "{}",
         "name": "localizedName",
         "type": "\"string\""
        },
        {
         "metadata": "{}",
         "name": "skyId",
         "type": "\"string\""
        },
        {
         "metadata": "{}",
         "name": "entityType",
         "type": "\"string\""
        },
        {
         "metadata": "{}",
         "name": "title",
         "type": "\"string\""
        },
        {
         "metadata": "{}",
         "name": "subtitle",
         "type": "\"string\""
        }
       ],
       "type": "table"
      }
     },
     "output_type": "display_data"
    }
   ],
   "source": [
    "df=airportdf.withColumn(\"entityId\",col(\"navigation.entityId\"))\\\n",
    "    .withColumn(\"flightPlaceType\",col(\"navigation.relevantFlightParams.flightPlaceType\"))\\\n",
    "    .withColumn(\"localizedName\",col(\"navigation.relevantFlightParams.localizedName\"))\\\n",
    "    .withColumn(\"skyId\",col(\"navigation.relevantFlightParams.skyId\"))\\\n",
    "    .withColumn(\"entityType\",col(\"navigation.relevantHotelParams.entityType\"))\\\n",
    "    .withColumn(\"localizedName\",col(\"navigation.relevantHotelParams.localizedName\"))\\\n",
    "    .withColumn(\"title\",col(\"presentation.title\"))\\\n",
    "    .withColumn(\"subtitle\",col(\"presentation.subtitle\"))\\\n",
    "    .drop('navigation')\\\n",
    "    .drop('presentation')\n",
    "df.display()"
   ]
  },
  {
   "cell_type": "code",
   "execution_count": 0,
   "metadata": {
    "application/vnd.databricks.v1+cell": {
     "cellMetadata": {
      "byteLimit": 2048000,
      "rowLimit": 10000
     },
     "inputWidgets": {},
     "nuid": "b49f2114-bb2f-428a-9036-1f543ef6630c",
     "showTitle": false,
     "title": ""
    }
   },
   "outputs": [],
   "source": [
    "df.write.mode('Overwrite').saveAsTable('Airport')"
   ]
  },
  {
   "cell_type": "code",
   "execution_count": 0,
   "metadata": {
    "application/vnd.databricks.v1+cell": {
     "cellMetadata": {
      "byteLimit": 2048000,
      "implicitDf": true,
      "rowLimit": 10000
     },
     "inputWidgets": {},
     "nuid": "1acb65dc-ea1c-42d0-83b7-04fd2474fc2b",
     "showTitle": false,
     "title": ""
    }
   },
   "outputs": [
    {
     "output_type": "display_data",
     "data": {
      "text/html": [
       "<style scoped>\n",
       "  .table-result-container {\n",
       "    max-height: 300px;\n",
       "    overflow: auto;\n",
       "  }\n",
       "  table, th, td {\n",
       "    border: 1px solid black;\n",
       "    border-collapse: collapse;\n",
       "  }\n",
       "  th, td {\n",
       "    padding: 5px;\n",
       "  }\n",
       "  th {\n",
       "    text-align: left;\n",
       "  }\n",
       "</style><div class='table-result-container'><table class='table-result'><thead style='background-color: white'><tr><th>id</th><th>entityId</th><th>flightPlaceType</th><th>localizedName</th><th>skyId</th><th>entityType</th><th>title</th><th>subtitle</th></tr></thead><tbody><tr><td>eyJzIjoiSkZLIiwiZSI6Ijk1NTY1MDU4IiwiaCI6IjI3NTM3NTQyIn0=</td><td>95565058</td><td>AIRPORT</td><td>New York</td><td>JFK</td><td>CITY</td><td>New York John F. Kennedy</td><td>United States</td></tr><tr><td>eyJzIjoiREVMIiwiZSI6Ijk1NjczNDk4IiwiaCI6IjI3NTQwNzA2In0=</td><td>95673498</td><td>AIRPORT</td><td>New Delhi</td><td>DEL</td><td>CITY</td><td>Indira Gandhi International </td><td>India</td></tr><tr><td>eyJzIjoiU1dGIiwiZSI6Ijk1NTY2MjgwIiwiaCI6IjI3NTM3NTQyIn0=</td><td>95566280</td><td>AIRPORT</td><td>New York</td><td>SWF</td><td>CITY</td><td>Stewart International</td><td>United States</td></tr><tr><td>eyJzIjoiTEdBIiwiZSI6Ijk1NTY1MDU3IiwiaCI6IjI3NTM3NTQyIn0=</td><td>95565057</td><td>AIRPORT</td><td>New York</td><td>LGA</td><td>CITY</td><td>New York LaGuardia</td><td>United States</td></tr><tr><td>eyJzIjoiRVdSIiwiZSI6Ijk1NTY1MDU5IiwiaCI6IjI3NTM3NTQyIn0=</td><td>95565059</td><td>AIRPORT</td><td>New York</td><td>EWR</td><td>CITY</td><td>New York Newark</td><td>United States</td></tr><tr><td>eyJzIjoiTkNMIiwiZSI6Ijk1Njc0MDQ0IiwiaCI6IjI3NTQ1MDkyIn0=</td><td>95674044</td><td>AIRPORT</td><td>Newcastle</td><td>NCL</td><td>CITY</td><td>Newcastle</td><td>United Kingdom</td></tr><tr><td>eyJzIjoiTlFZIiwiZSI6Ijk1NjczOTYzIiwiaCI6IjI3NTQ1MTQ5In0=</td><td>95673963</td><td>AIRPORT</td><td>Newquay</td><td>NQY</td><td>CITY</td><td>Newquay</td><td>United Kingdom</td></tr><tr><td>eyJzIjoiTllDQSIsImUiOiIyNzUzNzU0MiIsImgiOiIyNzUzNzU0MiJ9</td><td>27537542</td><td>CITY</td><td>New York</td><td>NYCA</td><td>CITY</td><td>New York</td><td>United States</td></tr></tbody></table></div>"
      ]
     },
     "metadata": {
      "application/vnd.databricks.v1+output": {
       "addedWidgets": {},
       "aggData": [],
       "aggError": "",
       "aggOverflow": false,
       "aggSchema": [],
       "aggSeriesLimitReached": false,
       "aggType": "",
       "arguments": {},
       "columnCustomDisplayInfos": {},
       "data": [
        [
         "eyJzIjoiSkZLIiwiZSI6Ijk1NTY1MDU4IiwiaCI6IjI3NTM3NTQyIn0=",
         "95565058",
         "AIRPORT",
         "New York",
         "JFK",
         "CITY",
         "New York John F. Kennedy",
         "United States"
        ],
        [
         "eyJzIjoiREVMIiwiZSI6Ijk1NjczNDk4IiwiaCI6IjI3NTQwNzA2In0=",
         "95673498",
         "AIRPORT",
         "New Delhi",
         "DEL",
         "CITY",
         "Indira Gandhi International ",
         "India"
        ],
        [
         "eyJzIjoiU1dGIiwiZSI6Ijk1NTY2MjgwIiwiaCI6IjI3NTM3NTQyIn0=",
         "95566280",
         "AIRPORT",
         "New York",
         "SWF",
         "CITY",
         "Stewart International",
         "United States"
        ],
        [
         "eyJzIjoiTEdBIiwiZSI6Ijk1NTY1MDU3IiwiaCI6IjI3NTM3NTQyIn0=",
         "95565057",
         "AIRPORT",
         "New York",
         "LGA",
         "CITY",
         "New York LaGuardia",
         "United States"
        ],
        [
         "eyJzIjoiRVdSIiwiZSI6Ijk1NTY1MDU5IiwiaCI6IjI3NTM3NTQyIn0=",
         "95565059",
         "AIRPORT",
         "New York",
         "EWR",
         "CITY",
         "New York Newark",
         "United States"
        ],
        [
         "eyJzIjoiTkNMIiwiZSI6Ijk1Njc0MDQ0IiwiaCI6IjI3NTQ1MDkyIn0=",
         "95674044",
         "AIRPORT",
         "Newcastle",
         "NCL",
         "CITY",
         "Newcastle",
         "United Kingdom"
        ],
        [
         "eyJzIjoiTlFZIiwiZSI6Ijk1NjczOTYzIiwiaCI6IjI3NTQ1MTQ5In0=",
         "95673963",
         "AIRPORT",
         "Newquay",
         "NQY",
         "CITY",
         "Newquay",
         "United Kingdom"
        ],
        [
         "eyJzIjoiTllDQSIsImUiOiIyNzUzNzU0MiIsImgiOiIyNzUzNzU0MiJ9",
         "27537542",
         "CITY",
         "New York",
         "NYCA",
         "CITY",
         "New York",
         "United States"
        ]
       ],
       "datasetInfos": [],
       "dbfsResultPath": null,
       "isJsonSchema": true,
       "metadata": {},
       "overflow": false,
       "plotOptions": {
        "customPlotOptions": {},
        "displayType": "table",
        "pivotAggregation": null,
        "pivotColumns": null,
        "xColumns": null,
        "yColumns": null
       },
       "removedWidgets": [],
       "schema": [
        {
         "metadata": "{}",
         "name": "id",
         "type": "\"string\""
        },
        {
         "metadata": "{}",
         "name": "entityId",
         "type": "\"string\""
        },
        {
         "metadata": "{}",
         "name": "flightPlaceType",
         "type": "\"string\""
        },
        {
         "metadata": "{}",
         "name": "localizedName",
         "type": "\"string\""
        },
        {
         "metadata": "{}",
         "name": "skyId",
         "type": "\"string\""
        },
        {
         "metadata": "{}",
         "name": "entityType",
         "type": "\"string\""
        },
        {
         "metadata": "{}",
         "name": "title",
         "type": "\"string\""
        },
        {
         "metadata": "{}",
         "name": "subtitle",
         "type": "\"string\""
        }
       ],
       "type": "table"
      }
     },
     "output_type": "display_data"
    }
   ],
   "source": [
    "%sql\n",
    "select * from  airport;"
   ]
  },
  {
   "cell_type": "code",
   "execution_count": 0,
   "metadata": {
    "application/vnd.databricks.v1+cell": {
     "cellMetadata": {},
     "inputWidgets": {},
     "nuid": "211a581e-3224-4501-9fd8-9df8043abfa7",
     "showTitle": false,
     "title": ""
    }
   },
   "outputs": [],
   "source": []
  }
 ],
 "metadata": {
  "application/vnd.databricks.v1+notebook": {
   "dashboards": [],
   "environmentMetadata": null,
   "language": "python",
   "notebookMetadata": {
    "mostRecentlyExecutedCommandWithImplicitDF": {
     "commandId": 1168964519503499,
     "dataframes": [
      "_sqldf"
     ]
    },
    "pythonIndentUnit": 4
   },
   "notebookName": "Airports",
   "widgets": {}
  }
 },
 "nbformat": 4,
 "nbformat_minor": 0
}
